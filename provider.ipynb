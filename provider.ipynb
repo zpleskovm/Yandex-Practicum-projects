{
 "cells": [
  {
   "cell_type": "markdown",
   "metadata": {},
   "source": [
    "# Прогнозирование оттока клиентов оператора связи"
   ]
  },
  {
   "cell_type": "markdown",
   "metadata": {},
   "source": [
    "# Описание проекта"
   ]
  },
  {
   "cell_type": "markdown",
   "metadata": {},
   "source": [
    "Оператор связи «Ниединогоразрыва.ком» хочет научиться прогнозировать отток клиентов. Если выяснится, что пользователь планирует уйти, ему будут предложены промокоды и специальные условия. Команда оператора собрала персональные данные о некоторых клиентах, информацию об их тарифах и договорах."
   ]
  },
  {
   "cell_type": "markdown",
   "metadata": {},
   "source": [
    "# Описание услуг"
   ]
  },
  {
   "cell_type": "markdown",
   "metadata": {},
   "source": [
    "Оператор предоставляет два основных типа услуг: \n",
    "* Стационарную телефонную связь. Возможно подключение телефонного аппарата к нескольким линиям одновременно.\n",
    "* Интернет. Подключение может быть двух типов: через телефонную линию (DSL, от англ. digital subscriber line, «цифровая абонентская линия») или оптоволоконный кабель (Fiber optic).\n",
    "\n",
    "Также доступны такие услуги:\n",
    "1. Интернет-безопасность: антивирус (DeviceProtection) и блокировка небезопасных сайтов (OnlineSecurity);\n",
    "2. Выделенная линия технической поддержки (TechSupport);\n",
    "3. Облачное хранилище файлов для резервного копирования данных (OnlineBackup);\n",
    "4. Стриминговое телевидение (StreamingTV) и каталог фильмов (StreamingMovies). \n",
    "\n",
    "За услуги клиенты могут платить каждый месяц или заключить договор на 1–2 года. Доступны различные способы расчёта и возможность получения электронного чека."
   ]
  },
  {
   "cell_type": "markdown",
   "metadata": {},
   "source": [
    "# Описание данных"
   ]
  },
  {
   "cell_type": "markdown",
   "metadata": {},
   "source": [
    "Данные состоят из файлов, полученных из разных источников:\n",
    "* contract_new.csv — информация о договоре;\n",
    "* personal_new.csv — персональные данные клиента;\n",
    "* internet_new.csv — информация об интернет-услугах;\n",
    "* phone_new.csv — информация об услугах телефонии. \n",
    "\n",
    "Во всех файлах столбец customerID содержит код клиента.\n",
    "\n",
    "Информация о договорах актуальна на 1 февраля 2020."
   ]
  },
  {
   "cell_type": "markdown",
   "metadata": {},
   "source": [
    "## Импорт бибилиотек"
   ]
  },
  {
   "cell_type": "code",
   "execution_count": 1,
   "metadata": {},
   "outputs": [],
   "source": [
    "import pandas as pd \n",
    "import numpy as np\n",
    "import matplotlib.pyplot as plt\n",
    "import seaborn as sns"
   ]
  },
  {
   "cell_type": "markdown",
   "metadata": {},
   "source": [
    "## Чтение данных"
   ]
  },
  {
   "cell_type": "code",
   "execution_count": 2,
   "metadata": {},
   "outputs": [],
   "source": [
    "contract = pd.read_csv('/datasets/contract_new.csv', \n",
    "                      parse_dates=['BeginDate', 'EndDate'])\n",
    "personal = pd.read_csv('/datasets/personal_new.csv')\n",
    "internet = pd.read_csv('/datasets/internet_new.csv')\n",
    "phone = pd.read_csv('/datasets/phone_new.csv')"
   ]
  },
  {
   "cell_type": "markdown",
   "metadata": {},
   "source": [
    "## Предварительный анализ"
   ]
  },
  {
   "cell_type": "markdown",
   "metadata": {},
   "source": [
    "### Информация о договоре"
   ]
  },
  {
   "cell_type": "code",
   "execution_count": 3,
   "metadata": {},
   "outputs": [
    {
     "data": {
      "text/html": [
       "<div>\n",
       "<style scoped>\n",
       "    .dataframe tbody tr th:only-of-type {\n",
       "        vertical-align: middle;\n",
       "    }\n",
       "\n",
       "    .dataframe tbody tr th {\n",
       "        vertical-align: top;\n",
       "    }\n",
       "\n",
       "    .dataframe thead th {\n",
       "        text-align: right;\n",
       "    }\n",
       "</style>\n",
       "<table border=\"1\" class=\"dataframe\">\n",
       "  <thead>\n",
       "    <tr style=\"text-align: right;\">\n",
       "      <th></th>\n",
       "      <th>customerID</th>\n",
       "      <th>BeginDate</th>\n",
       "      <th>EndDate</th>\n",
       "      <th>Type</th>\n",
       "      <th>PaperlessBilling</th>\n",
       "      <th>PaymentMethod</th>\n",
       "      <th>MonthlyCharges</th>\n",
       "      <th>TotalCharges</th>\n",
       "    </tr>\n",
       "  </thead>\n",
       "  <tbody>\n",
       "    <tr>\n",
       "      <th>0</th>\n",
       "      <td>7590-VHVEG</td>\n",
       "      <td>2020-01-01</td>\n",
       "      <td>No</td>\n",
       "      <td>Month-to-month</td>\n",
       "      <td>Yes</td>\n",
       "      <td>Electronic check</td>\n",
       "      <td>29.85</td>\n",
       "      <td>31.04</td>\n",
       "    </tr>\n",
       "    <tr>\n",
       "      <th>1</th>\n",
       "      <td>5575-GNVDE</td>\n",
       "      <td>2017-04-01</td>\n",
       "      <td>No</td>\n",
       "      <td>One year</td>\n",
       "      <td>No</td>\n",
       "      <td>Mailed check</td>\n",
       "      <td>56.95</td>\n",
       "      <td>2071.84</td>\n",
       "    </tr>\n",
       "    <tr>\n",
       "      <th>2</th>\n",
       "      <td>3668-QPYBK</td>\n",
       "      <td>2019-10-01</td>\n",
       "      <td>No</td>\n",
       "      <td>Month-to-month</td>\n",
       "      <td>Yes</td>\n",
       "      <td>Mailed check</td>\n",
       "      <td>53.85</td>\n",
       "      <td>226.17</td>\n",
       "    </tr>\n",
       "    <tr>\n",
       "      <th>3</th>\n",
       "      <td>7795-CFOCW</td>\n",
       "      <td>2016-05-01</td>\n",
       "      <td>No</td>\n",
       "      <td>One year</td>\n",
       "      <td>No</td>\n",
       "      <td>Bank transfer (automatic)</td>\n",
       "      <td>42.30</td>\n",
       "      <td>1960.6</td>\n",
       "    </tr>\n",
       "    <tr>\n",
       "      <th>4</th>\n",
       "      <td>9237-HQITU</td>\n",
       "      <td>2019-09-01</td>\n",
       "      <td>No</td>\n",
       "      <td>Month-to-month</td>\n",
       "      <td>Yes</td>\n",
       "      <td>Electronic check</td>\n",
       "      <td>70.70</td>\n",
       "      <td>353.5</td>\n",
       "    </tr>\n",
       "  </tbody>\n",
       "</table>\n",
       "</div>"
      ],
      "text/plain": [
       "   customerID  BeginDate EndDate            Type PaperlessBilling  \\\n",
       "0  7590-VHVEG 2020-01-01      No  Month-to-month              Yes   \n",
       "1  5575-GNVDE 2017-04-01      No        One year               No   \n",
       "2  3668-QPYBK 2019-10-01      No  Month-to-month              Yes   \n",
       "3  7795-CFOCW 2016-05-01      No        One year               No   \n",
       "4  9237-HQITU 2019-09-01      No  Month-to-month              Yes   \n",
       "\n",
       "               PaymentMethod  MonthlyCharges TotalCharges  \n",
       "0           Electronic check           29.85        31.04  \n",
       "1               Mailed check           56.95      2071.84  \n",
       "2               Mailed check           53.85       226.17  \n",
       "3  Bank transfer (automatic)           42.30       1960.6  \n",
       "4           Electronic check           70.70        353.5  "
      ]
     },
     "execution_count": 3,
     "metadata": {},
     "output_type": "execute_result"
    }
   ],
   "source": [
    "contract.head()"
   ]
  },
  {
   "cell_type": "code",
   "execution_count": 4,
   "metadata": {},
   "outputs": [
    {
     "name": "stdout",
     "output_type": "stream",
     "text": [
      "<class 'pandas.core.frame.DataFrame'>\n",
      "RangeIndex: 7043 entries, 0 to 7042\n",
      "Data columns (total 8 columns):\n",
      " #   Column            Non-Null Count  Dtype         \n",
      "---  ------            --------------  -----         \n",
      " 0   customerID        7043 non-null   object        \n",
      " 1   BeginDate         7043 non-null   datetime64[ns]\n",
      " 2   EndDate           7043 non-null   object        \n",
      " 3   Type              7043 non-null   object        \n",
      " 4   PaperlessBilling  7043 non-null   object        \n",
      " 5   PaymentMethod     7043 non-null   object        \n",
      " 6   MonthlyCharges    7043 non-null   float64       \n",
      " 7   TotalCharges      7043 non-null   object        \n",
      "dtypes: datetime64[ns](1), float64(1), object(6)\n",
      "memory usage: 440.3+ KB\n"
     ]
    }
   ],
   "source": [
    "contract.info()"
   ]
  },
  {
   "cell_type": "code",
   "execution_count": 5,
   "metadata": {},
   "outputs": [
    {
     "name": "stdout",
     "output_type": "stream",
     "text": [
      "2013-10-01 00:00:00\n",
      "2020-02-01 00:00:00\n"
     ]
    }
   ],
   "source": [
    "# Посмотрим на даты, представленные в датасете\n",
    "print(min(contract['BeginDate']))\n",
    "print(max(contract['BeginDate']))"
   ]
  },
  {
   "cell_type": "code",
   "execution_count": 6,
   "metadata": {},
   "outputs": [
    {
     "data": {
      "image/png": "[encoded data removed]",
      "text/plain": [
       "<Figure size 720x576 with 1 Axes>"
      ]
     },
     "metadata": {
      "needs_background": "light"
     },
     "output_type": "display_data"
    }
   ],
   "source": [
    "contract['Type'].hist(figsize=(10,8))\n",
    "plt.title('Виды оплаты контрактов')\n",
    "plt.show()"
   ]
  },
  {
   "cell_type": "markdown",
   "metadata": {},
   "source": [
    "Большинство клиентов опачивают услугу каждый месяц, но количество людей, которые оплачивают услуги раз в 2 года больше, чем ежегодных оплат. Вероятно, это связано с тем, что существуют некоторые льготы для постоянных клиентов."
   ]
  },
  {
   "cell_type": "code",
   "execution_count": 7,
   "metadata": {},
   "outputs": [
    {
     "data": {
      "image/png": "[encoded data removed]",
      "text/plain": [
       "<Figure size 720x576 with 1 Axes>"
      ]
     },
     "metadata": {
      "needs_background": "light"
     },
     "output_type": "display_data"
    }
   ],
   "source": [
    "contract['PaymentMethod'].hist(figsize=(10,8))\n",
    "plt.title('Метод оплаты')\n",
    "plt.show()"
   ]
  },
  {
   "cell_type": "markdown",
   "metadata": {},
   "source": [
    "Самым популярным методом оплаты является электронный способ."
   ]
  },
  {
   "cell_type": "code",
   "execution_count": 8,
   "metadata": {},
   "outputs": [
    {
     "data": {
      "text/html": [
       "<div>\n",
       "<style scoped>\n",
       "    .dataframe tbody tr th:only-of-type {\n",
       "        vertical-align: middle;\n",
       "    }\n",
       "\n",
       "    .dataframe tbody tr th {\n",
       "        vertical-align: top;\n",
       "    }\n",
       "\n",
       "    .dataframe thead th {\n",
       "        text-align: right;\n",
       "    }\n",
       "</style>\n",
       "<table border=\"1\" class=\"dataframe\">\n",
       "  <thead>\n",
       "    <tr style=\"text-align: right;\">\n",
       "      <th></th>\n",
       "      <th>MonthlyCharges</th>\n",
       "    </tr>\n",
       "    <tr>\n",
       "      <th>Type</th>\n",
       "      <th></th>\n",
       "    </tr>\n",
       "  </thead>\n",
       "  <tbody>\n",
       "    <tr>\n",
       "      <th>Month-to-month</th>\n",
       "      <td>66.398490</td>\n",
       "    </tr>\n",
       "    <tr>\n",
       "      <th>One year</th>\n",
       "      <td>65.048608</td>\n",
       "    </tr>\n",
       "    <tr>\n",
       "      <th>Two year</th>\n",
       "      <td>60.770413</td>\n",
       "    </tr>\n",
       "  </tbody>\n",
       "</table>\n",
       "</div>"
      ],
      "text/plain": [
       "                MonthlyCharges\n",
       "Type                          \n",
       "Month-to-month       66.398490\n",
       "One year             65.048608\n",
       "Two year             60.770413"
      ]
     },
     "execution_count": 8,
     "metadata": {},
     "output_type": "execute_result"
    }
   ],
   "source": [
    "contract.pivot_table(index='Type', values='MonthlyCharges')"
   ]
  },
  {
   "cell_type": "markdown",
   "metadata": {},
   "source": [
    "Чем меньше срок оплаты, тем выше цена услуг."
   ]
  },
  {
   "cell_type": "code",
   "execution_count": 9,
   "metadata": {},
   "outputs": [
    {
     "data": {
      "image/png": "[encoded data removed]",
      "text/plain": [
       "<Figure size 720x576 with 1 Axes>"
      ]
     },
     "metadata": {
      "needs_background": "light"
     },
     "output_type": "display_data"
    }
   ],
   "source": [
    "contract['MonthlyCharges'].hist(bins=100, figsize=(10,8))\n",
    "plt.title('Месячные выплаты')\n",
    "plt.show()"
   ]
  },
  {
   "cell_type": "markdown",
   "metadata": {},
   "source": [
    "### Персональные данные"
   ]
  },
  {
   "cell_type": "code",
   "execution_count": 10,
   "metadata": {},
   "outputs": [
    {
     "data": {
      "text/html": [
       "<div>\n",
       "<style scoped>\n",
       "    .dataframe tbody tr th:only-of-type {\n",
       "        vertical-align: middle;\n",
       "    }\n",
       "\n",
       "    .dataframe tbody tr th {\n",
       "        vertical-align: top;\n",
       "    }\n",
       "\n",
       "    .dataframe thead th {\n",
       "        text-align: right;\n",
       "    }\n",
       "</style>\n",
       "<table border=\"1\" class=\"dataframe\">\n",
       "  <thead>\n",
       "    <tr style=\"text-align: right;\">\n",
       "      <th></th>\n",
       "      <th>customerID</th>\n",
       "      <th>gender</th>\n",
       "      <th>SeniorCitizen</th>\n",
       "      <th>Partner</th>\n",
       "      <th>Dependents</th>\n",
       "    </tr>\n",
       "  </thead>\n",
       "  <tbody>\n",
       "    <tr>\n",
       "      <th>0</th>\n",
       "      <td>7590-VHVEG</td>\n",
       "      <td>Female</td>\n",
       "      <td>0</td>\n",
       "      <td>Yes</td>\n",
       "      <td>No</td>\n",
       "    </tr>\n",
       "    <tr>\n",
       "      <th>1</th>\n",
       "      <td>5575-GNVDE</td>\n",
       "      <td>Male</td>\n",
       "      <td>0</td>\n",
       "      <td>No</td>\n",
       "      <td>No</td>\n",
       "    </tr>\n",
       "    <tr>\n",
       "      <th>2</th>\n",
       "      <td>3668-QPYBK</td>\n",
       "      <td>Male</td>\n",
       "      <td>0</td>\n",
       "      <td>No</td>\n",
       "      <td>No</td>\n",
       "    </tr>\n",
       "    <tr>\n",
       "      <th>3</th>\n",
       "      <td>7795-CFOCW</td>\n",
       "      <td>Male</td>\n",
       "      <td>0</td>\n",
       "      <td>No</td>\n",
       "      <td>No</td>\n",
       "    </tr>\n",
       "    <tr>\n",
       "      <th>4</th>\n",
       "      <td>9237-HQITU</td>\n",
       "      <td>Female</td>\n",
       "      <td>0</td>\n",
       "      <td>No</td>\n",
       "      <td>No</td>\n",
       "    </tr>\n",
       "  </tbody>\n",
       "</table>\n",
       "</div>"
      ],
      "text/plain": [
       "   customerID  gender  SeniorCitizen Partner Dependents\n",
       "0  7590-VHVEG  Female              0     Yes         No\n",
       "1  5575-GNVDE    Male              0      No         No\n",
       "2  3668-QPYBK    Male              0      No         No\n",
       "3  7795-CFOCW    Male              0      No         No\n",
       "4  9237-HQITU  Female              0      No         No"
      ]
     },
     "execution_count": 10,
     "metadata": {},
     "output_type": "execute_result"
    }
   ],
   "source": [
    "personal.head()"
   ]
  },
  {
   "cell_type": "code",
   "execution_count": 11,
   "metadata": {},
   "outputs": [
    {
     "name": "stdout",
     "output_type": "stream",
     "text": [
      "<class 'pandas.core.frame.DataFrame'>\n",
      "RangeIndex: 7043 entries, 0 to 7042\n",
      "Data columns (total 5 columns):\n",
      " #   Column         Non-Null Count  Dtype \n",
      "---  ------         --------------  ----- \n",
      " 0   customerID     7043 non-null   object\n",
      " 1   gender         7043 non-null   object\n",
      " 2   SeniorCitizen  7043 non-null   int64 \n",
      " 3   Partner        7043 non-null   object\n",
      " 4   Dependents     7043 non-null   object\n",
      "dtypes: int64(1), object(4)\n",
      "memory usage: 275.2+ KB\n"
     ]
    }
   ],
   "source": [
    "personal.info()"
   ]
  },
  {
   "cell_type": "code",
   "execution_count": 12,
   "metadata": {},
   "outputs": [
    {
     "data": {
      "image/png": "[encoded data removed]",
      "text/plain": [
       "<Figure size 432x288 with 1 Axes>"
      ]
     },
     "metadata": {
      "needs_background": "light"
     },
     "output_type": "display_data"
    }
   ],
   "source": [
    "personal['gender'].hist()\n",
    "plt.title('Пол клиента')\n",
    "plt.show()"
   ]
  },
  {
   "cell_type": "markdown",
   "metadata": {},
   "source": [
    "В датасете практически одинаковое количество мужчин и женщин."
   ]
  },
  {
   "cell_type": "code",
   "execution_count": 13,
   "metadata": {},
   "outputs": [
    {
     "data": {
      "image/png": "[encoded data removed]",
      "text/plain": [
       "<Figure size 432x288 with 1 Axes>"
      ]
     },
     "metadata": {
      "needs_background": "light"
     },
     "output_type": "display_data"
    }
   ],
   "source": [
    "personal['SeniorCitizen'].hist()\n",
    "plt.title('Статус')\n",
    "plt.show()"
   ]
  },
  {
   "cell_type": "markdown",
   "metadata": {},
   "source": [
    "1 соответствует статусу пенсионера, 0, соответственно, нет. Как видим, пожилых клинтов примерно в 6 раз меньше."
   ]
  },
  {
   "cell_type": "code",
   "execution_count": 14,
   "metadata": {},
   "outputs": [
    {
     "data": {
      "image/png": "[encoded data removed]",
      "text/plain": [
       "<Figure size 432x288 with 1 Axes>"
      ]
     },
     "metadata": {
      "needs_background": "light"
     },
     "output_type": "display_data"
    }
   ],
   "source": [
    "personal['Partner'].hist()\n",
    "plt.title('Наличие партнёра')\n",
    "plt.show()"
   ]
  },
  {
   "cell_type": "markdown",
   "metadata": {},
   "source": [
    "Количество холостых клиентов немного превышает количество замужних/женытых."
   ]
  },
  {
   "cell_type": "code",
   "execution_count": 15,
   "metadata": {},
   "outputs": [
    {
     "data": {
      "image/png": "[encoded data removed]",
      "text/plain": [
       "<Figure size 432x288 with 1 Axes>"
      ]
     },
     "metadata": {
      "needs_background": "light"
     },
     "output_type": "display_data"
    }
   ],
   "source": [
    "personal['Dependents'].hist()\n",
    "plt.title('Наличие детей')\n",
    "plt.show()"
   ]
  },
  {
   "cell_type": "markdown",
   "metadata": {},
   "source": [
    "У большинства клиентов нет детей."
   ]
  },
  {
   "cell_type": "markdown",
   "metadata": {},
   "source": [
    "### Данные о предоставляемых услугах"
   ]
  },
  {
   "cell_type": "code",
   "execution_count": 16,
   "metadata": {},
   "outputs": [
    {
     "data": {
      "text/html": [
       "<div>\n",
       "<style scoped>\n",
       "    .dataframe tbody tr th:only-of-type {\n",
       "        vertical-align: middle;\n",
       "    }\n",
       "\n",
       "    .dataframe tbody tr th {\n",
       "        vertical-align: top;\n",
       "    }\n",
       "\n",
       "    .dataframe thead th {\n",
       "        text-align: right;\n",
       "    }\n",
       "</style>\n",
       "<table border=\"1\" class=\"dataframe\">\n",
       "  <thead>\n",
       "    <tr style=\"text-align: right;\">\n",
       "      <th></th>\n",
       "      <th>customerID</th>\n",
       "      <th>InternetService</th>\n",
       "      <th>OnlineSecurity</th>\n",
       "      <th>OnlineBackup</th>\n",
       "      <th>DeviceProtection</th>\n",
       "      <th>TechSupport</th>\n",
       "      <th>StreamingTV</th>\n",
       "      <th>StreamingMovies</th>\n",
       "    </tr>\n",
       "  </thead>\n",
       "  <tbody>\n",
       "    <tr>\n",
       "      <th>0</th>\n",
       "      <td>7590-VHVEG</td>\n",
       "      <td>DSL</td>\n",
       "      <td>No</td>\n",
       "      <td>Yes</td>\n",
       "      <td>No</td>\n",
       "      <td>No</td>\n",
       "      <td>No</td>\n",
       "      <td>No</td>\n",
       "    </tr>\n",
       "    <tr>\n",
       "      <th>1</th>\n",
       "      <td>5575-GNVDE</td>\n",
       "      <td>DSL</td>\n",
       "      <td>Yes</td>\n",
       "      <td>No</td>\n",
       "      <td>Yes</td>\n",
       "      <td>No</td>\n",
       "      <td>No</td>\n",
       "      <td>No</td>\n",
       "    </tr>\n",
       "    <tr>\n",
       "      <th>2</th>\n",
       "      <td>3668-QPYBK</td>\n",
       "      <td>DSL</td>\n",
       "      <td>Yes</td>\n",
       "      <td>Yes</td>\n",
       "      <td>No</td>\n",
       "      <td>No</td>\n",
       "      <td>No</td>\n",
       "      <td>No</td>\n",
       "    </tr>\n",
       "    <tr>\n",
       "      <th>3</th>\n",
       "      <td>7795-CFOCW</td>\n",
       "      <td>DSL</td>\n",
       "      <td>Yes</td>\n",
       "      <td>No</td>\n",
       "      <td>Yes</td>\n",
       "      <td>Yes</td>\n",
       "      <td>No</td>\n",
       "      <td>No</td>\n",
       "    </tr>\n",
       "    <tr>\n",
       "      <th>4</th>\n",
       "      <td>9237-HQITU</td>\n",
       "      <td>Fiber optic</td>\n",
       "      <td>No</td>\n",
       "      <td>No</td>\n",
       "      <td>No</td>\n",
       "      <td>No</td>\n",
       "      <td>No</td>\n",
       "      <td>No</td>\n",
       "    </tr>\n",
       "  </tbody>\n",
       "</table>\n",
       "</div>"
      ],
      "text/plain": [
       "   customerID InternetService OnlineSecurity OnlineBackup DeviceProtection  \\\n",
       "0  7590-VHVEG             DSL             No          Yes               No   \n",
       "1  5575-GNVDE             DSL            Yes           No              Yes   \n",
       "2  3668-QPYBK             DSL            Yes          Yes               No   \n",
       "3  7795-CFOCW             DSL            Yes           No              Yes   \n",
       "4  9237-HQITU     Fiber optic             No           No               No   \n",
       "\n",
       "  TechSupport StreamingTV StreamingMovies  \n",
       "0          No          No              No  \n",
       "1          No          No              No  \n",
       "2          No          No              No  \n",
       "3         Yes          No              No  \n",
       "4          No          No              No  "
      ]
     },
     "execution_count": 16,
     "metadata": {},
     "output_type": "execute_result"
    }
   ],
   "source": [
    "internet.head()"
   ]
  },
  {
   "cell_type": "code",
   "execution_count": 17,
   "metadata": {},
   "outputs": [
    {
     "name": "stdout",
     "output_type": "stream",
     "text": [
      "<class 'pandas.core.frame.DataFrame'>\n",
      "RangeIndex: 5517 entries, 0 to 5516\n",
      "Data columns (total 8 columns):\n",
      " #   Column            Non-Null Count  Dtype \n",
      "---  ------            --------------  ----- \n",
      " 0   customerID        5517 non-null   object\n",
      " 1   InternetService   5517 non-null   object\n",
      " 2   OnlineSecurity    5517 non-null   object\n",
      " 3   OnlineBackup      5517 non-null   object\n",
      " 4   DeviceProtection  5517 non-null   object\n",
      " 5   TechSupport       5517 non-null   object\n",
      " 6   StreamingTV       5517 non-null   object\n",
      " 7   StreamingMovies   5517 non-null   object\n",
      "dtypes: object(8)\n",
      "memory usage: 344.9+ KB\n"
     ]
    }
   ],
   "source": [
    "internet.info()"
   ]
  },
  {
   "cell_type": "markdown",
   "metadata": {},
   "source": [
    "В этом датасете количество строк уже меньше, чем в предыдущих, а значит, здесь предоставлена информация не о всех клиентах."
   ]
  },
  {
   "cell_type": "code",
   "execution_count": 18,
   "metadata": {},
   "outputs": [
    {
     "data": {
      "image/png": "[encoded data removed]",
      "text/plain": [
       "<Figure size 432x288 with 1 Axes>"
      ]
     },
     "metadata": {
      "needs_background": "light"
     },
     "output_type": "display_data"
    }
   ],
   "source": [
    "internet['InternetService'].hist()\n",
    "plt.title('Тип подключения')\n",
    "plt.show()"
   ]
  },
  {
   "cell_type": "markdown",
   "metadata": {},
   "source": [
    "Большинство клиентов использует оптоволокно."
   ]
  },
  {
   "cell_type": "code",
   "execution_count": 19,
   "metadata": {},
   "outputs": [
    {
     "data": {
      "image/png": "[encoded data removed]",
      "text/plain": [
       "<Figure size 432x288 with 1 Axes>"
      ]
     },
     "metadata": {
      "needs_background": "light"
     },
     "output_type": "display_data"
    }
   ],
   "source": [
    "internet['OnlineSecurity'].hist()\n",
    "plt.title('Использование блокировки сайтов')\n",
    "plt.show()"
   ]
  },
  {
   "cell_type": "code",
   "execution_count": 20,
   "metadata": {},
   "outputs": [
    {
     "data": {
      "image/png": "[encoded data removed]",
      "text/plain": [
       "<Figure size 432x288 with 1 Axes>"
      ]
     },
     "metadata": {
      "needs_background": "light"
     },
     "output_type": "display_data"
    }
   ],
   "source": [
    "internet['OnlineBackup'].hist()\n",
    "plt.title('Использование облачного хранилища')\n",
    "plt.show()"
   ]
  },
  {
   "cell_type": "code",
   "execution_count": 21,
   "metadata": {},
   "outputs": [
    {
     "data": {
      "image/png": "[encoded data removed]",
      "text/plain": [
       "<Figure size 432x288 with 1 Axes>"
      ]
     },
     "metadata": {
      "needs_background": "light"
     },
     "output_type": "display_data"
    }
   ],
   "source": [
    "internet['DeviceProtection'].hist()\n",
    "plt.title('Использование услуг, обеспечивающих безопасность в Интернете')\n",
    "plt.show()"
   ]
  },
  {
   "cell_type": "code",
   "execution_count": 22,
   "metadata": {},
   "outputs": [
    {
     "data": {
      "image/png": "[encoded data removed]",
      "text/plain": [
       "<Figure size 432x288 with 1 Axes>"
      ]
     },
     "metadata": {
      "needs_background": "light"
     },
     "output_type": "display_data"
    }
   ],
   "source": [
    "internet['TechSupport'].hist()\n",
    "plt.title('Использование линии технической поддержки')\n",
    "plt.show()"
   ]
  },
  {
   "cell_type": "markdown",
   "metadata": {},
   "source": [
    "Пользователи больше склонны не пользоваться дополнительными услугами, обеспечивающими безопасность в Интернете."
   ]
  },
  {
   "cell_type": "code",
   "execution_count": 23,
   "metadata": {},
   "outputs": [
    {
     "data": {
      "image/png": "[encoded data removed]",
      "text/plain": [
       "<Figure size 432x288 with 1 Axes>"
      ]
     },
     "metadata": {
      "needs_background": "light"
     },
     "output_type": "display_data"
    }
   ],
   "source": [
    "internet['StreamingTV'].hist()\n",
    "plt.title('Использование стримингового ТВ')\n",
    "plt.show()"
   ]
  },
  {
   "cell_type": "code",
   "execution_count": 24,
   "metadata": {},
   "outputs": [
    {
     "data": {
      "image/png": "[encoded data removed]",
      "text/plain": [
       "<Figure size 432x288 with 1 Axes>"
      ]
     },
     "metadata": {
      "needs_background": "light"
     },
     "output_type": "display_data"
    }
   ],
   "source": [
    "internet['StreamingMovies'].hist()\n",
    "plt.title('Использование каталога фильмов на стиминговом сервисе')\n",
    "plt.show()"
   ]
  },
  {
   "cell_type": "markdown",
   "metadata": {},
   "source": [
    "Пооловина клиентов подключает себе услуги стримингового сервиса."
   ]
  },
  {
   "cell_type": "markdown",
   "metadata": {},
   "source": [
    "### Данные о ведении параллельных звонков"
   ]
  },
  {
   "cell_type": "code",
   "execution_count": 25,
   "metadata": {},
   "outputs": [
    {
     "data": {
      "text/html": [
       "<div>\n",
       "<style scoped>\n",
       "    .dataframe tbody tr th:only-of-type {\n",
       "        vertical-align: middle;\n",
       "    }\n",
       "\n",
       "    .dataframe tbody tr th {\n",
       "        vertical-align: top;\n",
       "    }\n",
       "\n",
       "    .dataframe thead th {\n",
       "        text-align: right;\n",
       "    }\n",
       "</style>\n",
       "<table border=\"1\" class=\"dataframe\">\n",
       "  <thead>\n",
       "    <tr style=\"text-align: right;\">\n",
       "      <th></th>\n",
       "      <th>customerID</th>\n",
       "      <th>MultipleLines</th>\n",
       "    </tr>\n",
       "  </thead>\n",
       "  <tbody>\n",
       "    <tr>\n",
       "      <th>0</th>\n",
       "      <td>5575-GNVDE</td>\n",
       "      <td>No</td>\n",
       "    </tr>\n",
       "    <tr>\n",
       "      <th>1</th>\n",
       "      <td>3668-QPYBK</td>\n",
       "      <td>No</td>\n",
       "    </tr>\n",
       "    <tr>\n",
       "      <th>2</th>\n",
       "      <td>9237-HQITU</td>\n",
       "      <td>No</td>\n",
       "    </tr>\n",
       "    <tr>\n",
       "      <th>3</th>\n",
       "      <td>9305-CDSKC</td>\n",
       "      <td>Yes</td>\n",
       "    </tr>\n",
       "    <tr>\n",
       "      <th>4</th>\n",
       "      <td>1452-KIOVK</td>\n",
       "      <td>Yes</td>\n",
       "    </tr>\n",
       "  </tbody>\n",
       "</table>\n",
       "</div>"
      ],
      "text/plain": [
       "   customerID MultipleLines\n",
       "0  5575-GNVDE            No\n",
       "1  3668-QPYBK            No\n",
       "2  9237-HQITU            No\n",
       "3  9305-CDSKC           Yes\n",
       "4  1452-KIOVK           Yes"
      ]
     },
     "execution_count": 25,
     "metadata": {},
     "output_type": "execute_result"
    }
   ],
   "source": [
    "phone.head()"
   ]
  },
  {
   "cell_type": "code",
   "execution_count": 26,
   "metadata": {},
   "outputs": [
    {
     "name": "stdout",
     "output_type": "stream",
     "text": [
      "<class 'pandas.core.frame.DataFrame'>\n",
      "RangeIndex: 6361 entries, 0 to 6360\n",
      "Data columns (total 2 columns):\n",
      " #   Column         Non-Null Count  Dtype \n",
      "---  ------         --------------  ----- \n",
      " 0   customerID     6361 non-null   object\n",
      " 1   MultipleLines  6361 non-null   object\n",
      "dtypes: object(2)\n",
      "memory usage: 99.5+ KB\n"
     ]
    }
   ],
   "source": [
    "phone.info()"
   ]
  },
  {
   "cell_type": "markdown",
   "metadata": {},
   "source": [
    "В этом датасете отсутствуют данные о некоторых пользователях."
   ]
  },
  {
   "cell_type": "code",
   "execution_count": 27,
   "metadata": {},
   "outputs": [
    {
     "data": {
      "image/png": "[encoded data removed]",
      "text/plain": [
       "<Figure size 432x288 with 1 Axes>"
      ]
     },
     "metadata": {
      "needs_background": "light"
     },
     "output_type": "display_data"
    }
   ],
   "source": [
    "phone['MultipleLines'].hist()\n",
    "plt.title('Использование возможность ведения параллельных линий')\n",
    "plt.show()"
   ]
  },
  {
   "cell_type": "markdown",
   "metadata": {},
   "source": [
    "Чуть больше половины пользователей отказываются от этой услуги."
   ]
  },
  {
   "cell_type": "markdown",
   "metadata": {},
   "source": [
    "## План\n",
    "* провести первичную подготовку данных: изменить типы данных, обработать пропуски, добавить дополнительный признак о продолжительности предоставления услуг.\n",
    "* провести исследовательский анализ: избавиться от выбросов, провести визуализацию данных\n",
    "* обучить различные модели, подобрать оптимальные параметры для достижения нужного значения метрики ROC AUC\n",
    "* на основе обучения выбираем наилучшую модель и проверяем на тестовой выборке\n",
    "* сделать вывод по итогам проделанной работы"
   ]
  },
  {
   "cell_type": "markdown",
   "metadata": {},
   "source": [
    "## Предобработка данных"
   ]
  },
  {
   "cell_type": "markdown",
   "metadata": {},
   "source": [
    "Добавим целевой признак, 0 - если клиент продолжает пользоваться услугами, 1 - если клиент ушёл."
   ]
  },
  {
   "cell_type": "code",
   "execution_count": 28,
   "metadata": {},
   "outputs": [],
   "source": [
    "contract['target'] = (contract['EndDate'] != 'No').astype(int)"
   ]
  },
  {
   "cell_type": "code",
   "execution_count": 29,
   "metadata": {},
   "outputs": [
    {
     "data": {
      "text/html": [
       "<div>\n",
       "<style scoped>\n",
       "    .dataframe tbody tr th:only-of-type {\n",
       "        vertical-align: middle;\n",
       "    }\n",
       "\n",
       "    .dataframe tbody tr th {\n",
       "        vertical-align: top;\n",
       "    }\n",
       "\n",
       "    .dataframe thead th {\n",
       "        text-align: right;\n",
       "    }\n",
       "</style>\n",
       "<table border=\"1\" class=\"dataframe\">\n",
       "  <thead>\n",
       "    <tr style=\"text-align: right;\">\n",
       "      <th></th>\n",
       "      <th>customerID</th>\n",
       "      <th>BeginDate</th>\n",
       "      <th>EndDate</th>\n",
       "      <th>Type</th>\n",
       "      <th>PaperlessBilling</th>\n",
       "      <th>PaymentMethod</th>\n",
       "      <th>MonthlyCharges</th>\n",
       "      <th>TotalCharges</th>\n",
       "      <th>target</th>\n",
       "    </tr>\n",
       "  </thead>\n",
       "  <tbody>\n",
       "    <tr>\n",
       "      <th>0</th>\n",
       "      <td>7590-VHVEG</td>\n",
       "      <td>2020-01-01</td>\n",
       "      <td>No</td>\n",
       "      <td>Month-to-month</td>\n",
       "      <td>Yes</td>\n",
       "      <td>Electronic check</td>\n",
       "      <td>29.85</td>\n",
       "      <td>31.04</td>\n",
       "      <td>0</td>\n",
       "    </tr>\n",
       "    <tr>\n",
       "      <th>1</th>\n",
       "      <td>5575-GNVDE</td>\n",
       "      <td>2017-04-01</td>\n",
       "      <td>No</td>\n",
       "      <td>One year</td>\n",
       "      <td>No</td>\n",
       "      <td>Mailed check</td>\n",
       "      <td>56.95</td>\n",
       "      <td>2071.84</td>\n",
       "      <td>0</td>\n",
       "    </tr>\n",
       "    <tr>\n",
       "      <th>2</th>\n",
       "      <td>3668-QPYBK</td>\n",
       "      <td>2019-10-01</td>\n",
       "      <td>No</td>\n",
       "      <td>Month-to-month</td>\n",
       "      <td>Yes</td>\n",
       "      <td>Mailed check</td>\n",
       "      <td>53.85</td>\n",
       "      <td>226.17</td>\n",
       "      <td>0</td>\n",
       "    </tr>\n",
       "    <tr>\n",
       "      <th>3</th>\n",
       "      <td>7795-CFOCW</td>\n",
       "      <td>2016-05-01</td>\n",
       "      <td>No</td>\n",
       "      <td>One year</td>\n",
       "      <td>No</td>\n",
       "      <td>Bank transfer (automatic)</td>\n",
       "      <td>42.30</td>\n",
       "      <td>1960.6</td>\n",
       "      <td>0</td>\n",
       "    </tr>\n",
       "    <tr>\n",
       "      <th>4</th>\n",
       "      <td>9237-HQITU</td>\n",
       "      <td>2019-09-01</td>\n",
       "      <td>No</td>\n",
       "      <td>Month-to-month</td>\n",
       "      <td>Yes</td>\n",
       "      <td>Electronic check</td>\n",
       "      <td>70.70</td>\n",
       "      <td>353.5</td>\n",
       "      <td>0</td>\n",
       "    </tr>\n",
       "  </tbody>\n",
       "</table>\n",
       "</div>"
      ],
      "text/plain": [
       "   customerID  BeginDate EndDate            Type PaperlessBilling  \\\n",
       "0  7590-VHVEG 2020-01-01      No  Month-to-month              Yes   \n",
       "1  5575-GNVDE 2017-04-01      No        One year               No   \n",
       "2  3668-QPYBK 2019-10-01      No  Month-to-month              Yes   \n",
       "3  7795-CFOCW 2016-05-01      No        One year               No   \n",
       "4  9237-HQITU 2019-09-01      No  Month-to-month              Yes   \n",
       "\n",
       "               PaymentMethod  MonthlyCharges TotalCharges  target  \n",
       "0           Electronic check           29.85        31.04       0  \n",
       "1               Mailed check           56.95      2071.84       0  \n",
       "2               Mailed check           53.85       226.17       0  \n",
       "3  Bank transfer (automatic)           42.30       1960.6       0  \n",
       "4           Electronic check           70.70        353.5       0  "
      ]
     },
     "execution_count": 29,
     "metadata": {},
     "output_type": "execute_result"
    }
   ],
   "source": [
    "contract.head()"
   ]
  },
  {
   "cell_type": "markdown",
   "metadata": {},
   "source": [
    "Теперь нужно заменить значения 'No' в столбце на дату выгрузки датасета: 1 февраля 2020."
   ]
  },
  {
   "cell_type": "code",
   "execution_count": 30,
   "metadata": {},
   "outputs": [],
   "source": [
    "data_load = '2020-02-01'"
   ]
  },
  {
   "cell_type": "code",
   "execution_count": 31,
   "metadata": {},
   "outputs": [],
   "source": [
    "contract['EndDate'] = contract['EndDate'].replace('No', data_load)"
   ]
  },
  {
   "cell_type": "markdown",
   "metadata": {},
   "source": [
    "Теперь поменяем типы данных в столбцах."
   ]
  },
  {
   "cell_type": "code",
   "execution_count": 32,
   "metadata": {},
   "outputs": [],
   "source": [
    "contract['BeginDate'] = pd.to_datetime(contract['BeginDate'])\n",
    "contract['EndDate'] = pd.to_datetime(contract['EndDate'])"
   ]
  },
  {
   "cell_type": "markdown",
   "metadata": {},
   "source": [
    "Создадим новый столбец с количеством дней"
   ]
  },
  {
   "cell_type": "code",
   "execution_count": 33,
   "metadata": {},
   "outputs": [],
   "source": [
    "contract['totaldays'] = (contract['EndDate'] - contract['BeginDate']).dt.days"
   ]
  },
  {
   "cell_type": "markdown",
   "metadata": {},
   "source": [
    "В столбце TotalCharge имеются пропуски, которые нужно заменить на 0. "
   ]
  },
  {
   "cell_type": "code",
   "execution_count": 34,
   "metadata": {},
   "outputs": [],
   "source": [
    "contract.loc[contract['TotalCharges'] == ' ', 'TotalCharges'] = 0\n",
    "contract['TotalCharges'] = contract['TotalCharges'].astype(float)"
   ]
  },
  {
   "cell_type": "code",
   "execution_count": 35,
   "metadata": {
    "scrolled": true
   },
   "outputs": [
    {
     "name": "stdout",
     "output_type": "stream",
     "text": [
      "<class 'pandas.core.frame.DataFrame'>\n",
      "RangeIndex: 7043 entries, 0 to 7042\n",
      "Data columns (total 10 columns):\n",
      " #   Column            Non-Null Count  Dtype         \n",
      "---  ------            --------------  -----         \n",
      " 0   customerID        7043 non-null   object        \n",
      " 1   BeginDate         7043 non-null   datetime64[ns]\n",
      " 2   EndDate           7043 non-null   datetime64[ns]\n",
      " 3   Type              7043 non-null   object        \n",
      " 4   PaperlessBilling  7043 non-null   object        \n",
      " 5   PaymentMethod     7043 non-null   object        \n",
      " 6   MonthlyCharges    7043 non-null   float64       \n",
      " 7   TotalCharges      7043 non-null   float64       \n",
      " 8   target            7043 non-null   int64         \n",
      " 9   totaldays         7043 non-null   int64         \n",
      "dtypes: datetime64[ns](2), float64(2), int64(2), object(4)\n",
      "memory usage: 550.4+ KB\n"
     ]
    }
   ],
   "source": [
    "contract.info()"
   ]
  },
  {
   "cell_type": "markdown",
   "metadata": {},
   "source": [
    "Объединим все датасеты в одну таблицу"
   ]
  },
  {
   "cell_type": "code",
   "execution_count": 36,
   "metadata": {},
   "outputs": [],
   "source": [
    "data = contract.merge(personal, how='left', on='customerID')\n",
    "data = data.merge(internet, how='left', on='customerID')\n",
    "data = data.merge(phone, how='left', on='customerID')"
   ]
  },
  {
   "cell_type": "code",
   "execution_count": 37,
   "metadata": {},
   "outputs": [],
   "source": [
    "#сделаем из id клиентов индексы\n",
    "data = data.set_index('customerID')"
   ]
  },
  {
   "cell_type": "code",
   "execution_count": 38,
   "metadata": {},
   "outputs": [
    {
     "data": {
      "text/html": [
       "<div>\n",
       "<style scoped>\n",
       "    .dataframe tbody tr th:only-of-type {\n",
       "        vertical-align: middle;\n",
       "    }\n",
       "\n",
       "    .dataframe tbody tr th {\n",
       "        vertical-align: top;\n",
       "    }\n",
       "\n",
       "    .dataframe thead th {\n",
       "        text-align: right;\n",
       "    }\n",
       "</style>\n",
       "<table border=\"1\" class=\"dataframe\">\n",
       "  <thead>\n",
       "    <tr style=\"text-align: right;\">\n",
       "      <th></th>\n",
       "      <th>BeginDate</th>\n",
       "      <th>EndDate</th>\n",
       "      <th>Type</th>\n",
       "      <th>PaperlessBilling</th>\n",
       "      <th>PaymentMethod</th>\n",
       "      <th>MonthlyCharges</th>\n",
       "      <th>TotalCharges</th>\n",
       "      <th>target</th>\n",
       "      <th>totaldays</th>\n",
       "      <th>gender</th>\n",
       "      <th>...</th>\n",
       "      <th>Partner</th>\n",
       "      <th>Dependents</th>\n",
       "      <th>InternetService</th>\n",
       "      <th>OnlineSecurity</th>\n",
       "      <th>OnlineBackup</th>\n",
       "      <th>DeviceProtection</th>\n",
       "      <th>TechSupport</th>\n",
       "      <th>StreamingTV</th>\n",
       "      <th>StreamingMovies</th>\n",
       "      <th>MultipleLines</th>\n",
       "    </tr>\n",
       "    <tr>\n",
       "      <th>customerID</th>\n",
       "      <th></th>\n",
       "      <th></th>\n",
       "      <th></th>\n",
       "      <th></th>\n",
       "      <th></th>\n",
       "      <th></th>\n",
       "      <th></th>\n",
       "      <th></th>\n",
       "      <th></th>\n",
       "      <th></th>\n",
       "      <th></th>\n",
       "      <th></th>\n",
       "      <th></th>\n",
       "      <th></th>\n",
       "      <th></th>\n",
       "      <th></th>\n",
       "      <th></th>\n",
       "      <th></th>\n",
       "      <th></th>\n",
       "      <th></th>\n",
       "      <th></th>\n",
       "    </tr>\n",
       "  </thead>\n",
       "  <tbody>\n",
       "    <tr>\n",
       "      <th>7590-VHVEG</th>\n",
       "      <td>2020-01-01</td>\n",
       "      <td>2020-02-01</td>\n",
       "      <td>Month-to-month</td>\n",
       "      <td>Yes</td>\n",
       "      <td>Electronic check</td>\n",
       "      <td>29.85</td>\n",
       "      <td>31.04</td>\n",
       "      <td>0</td>\n",
       "      <td>31</td>\n",
       "      <td>Female</td>\n",
       "      <td>...</td>\n",
       "      <td>Yes</td>\n",
       "      <td>No</td>\n",
       "      <td>DSL</td>\n",
       "      <td>No</td>\n",
       "      <td>Yes</td>\n",
       "      <td>No</td>\n",
       "      <td>No</td>\n",
       "      <td>No</td>\n",
       "      <td>No</td>\n",
       "      <td>NaN</td>\n",
       "    </tr>\n",
       "    <tr>\n",
       "      <th>5575-GNVDE</th>\n",
       "      <td>2017-04-01</td>\n",
       "      <td>2020-02-01</td>\n",
       "      <td>One year</td>\n",
       "      <td>No</td>\n",
       "      <td>Mailed check</td>\n",
       "      <td>56.95</td>\n",
       "      <td>2071.84</td>\n",
       "      <td>0</td>\n",
       "      <td>1036</td>\n",
       "      <td>Male</td>\n",
       "      <td>...</td>\n",
       "      <td>No</td>\n",
       "      <td>No</td>\n",
       "      <td>DSL</td>\n",
       "      <td>Yes</td>\n",
       "      <td>No</td>\n",
       "      <td>Yes</td>\n",
       "      <td>No</td>\n",
       "      <td>No</td>\n",
       "      <td>No</td>\n",
       "      <td>No</td>\n",
       "    </tr>\n",
       "    <tr>\n",
       "      <th>3668-QPYBK</th>\n",
       "      <td>2019-10-01</td>\n",
       "      <td>2020-02-01</td>\n",
       "      <td>Month-to-month</td>\n",
       "      <td>Yes</td>\n",
       "      <td>Mailed check</td>\n",
       "      <td>53.85</td>\n",
       "      <td>226.17</td>\n",
       "      <td>0</td>\n",
       "      <td>123</td>\n",
       "      <td>Male</td>\n",
       "      <td>...</td>\n",
       "      <td>No</td>\n",
       "      <td>No</td>\n",
       "      <td>DSL</td>\n",
       "      <td>Yes</td>\n",
       "      <td>Yes</td>\n",
       "      <td>No</td>\n",
       "      <td>No</td>\n",
       "      <td>No</td>\n",
       "      <td>No</td>\n",
       "      <td>No</td>\n",
       "    </tr>\n",
       "    <tr>\n",
       "      <th>7795-CFOCW</th>\n",
       "      <td>2016-05-01</td>\n",
       "      <td>2020-02-01</td>\n",
       "      <td>One year</td>\n",
       "      <td>No</td>\n",
       "      <td>Bank transfer (automatic)</td>\n",
       "      <td>42.30</td>\n",
       "      <td>1960.60</td>\n",
       "      <td>0</td>\n",
       "      <td>1371</td>\n",
       "      <td>Male</td>\n",
       "      <td>...</td>\n",
       "      <td>No</td>\n",
       "      <td>No</td>\n",
       "      <td>DSL</td>\n",
       "      <td>Yes</td>\n",
       "      <td>No</td>\n",
       "      <td>Yes</td>\n",
       "      <td>Yes</td>\n",
       "      <td>No</td>\n",
       "      <td>No</td>\n",
       "      <td>NaN</td>\n",
       "    </tr>\n",
       "    <tr>\n",
       "      <th>9237-HQITU</th>\n",
       "      <td>2019-09-01</td>\n",
       "      <td>2020-02-01</td>\n",
       "      <td>Month-to-month</td>\n",
       "      <td>Yes</td>\n",
       "      <td>Electronic check</td>\n",
       "      <td>70.70</td>\n",
       "      <td>353.50</td>\n",
       "      <td>0</td>\n",
       "      <td>153</td>\n",
       "      <td>Female</td>\n",
       "      <td>...</td>\n",
       "      <td>No</td>\n",
       "      <td>No</td>\n",
       "      <td>Fiber optic</td>\n",
       "      <td>No</td>\n",
       "      <td>No</td>\n",
       "      <td>No</td>\n",
       "      <td>No</td>\n",
       "      <td>No</td>\n",
       "      <td>No</td>\n",
       "      <td>No</td>\n",
       "    </tr>\n",
       "  </tbody>\n",
       "</table>\n",
       "<p>5 rows × 21 columns</p>\n",
       "</div>"
      ],
      "text/plain": [
       "            BeginDate    EndDate            Type PaperlessBilling  \\\n",
       "customerID                                                          \n",
       "7590-VHVEG 2020-01-01 2020-02-01  Month-to-month              Yes   \n",
       "5575-GNVDE 2017-04-01 2020-02-01        One year               No   \n",
       "3668-QPYBK 2019-10-01 2020-02-01  Month-to-month              Yes   \n",
       "7795-CFOCW 2016-05-01 2020-02-01        One year               No   \n",
       "9237-HQITU 2019-09-01 2020-02-01  Month-to-month              Yes   \n",
       "\n",
       "                        PaymentMethod  MonthlyCharges  TotalCharges  target  \\\n",
       "customerID                                                                    \n",
       "7590-VHVEG           Electronic check           29.85         31.04       0   \n",
       "5575-GNVDE               Mailed check           56.95       2071.84       0   \n",
       "3668-QPYBK               Mailed check           53.85        226.17       0   \n",
       "7795-CFOCW  Bank transfer (automatic)           42.30       1960.60       0   \n",
       "9237-HQITU           Electronic check           70.70        353.50       0   \n",
       "\n",
       "            totaldays  gender  ...  Partner Dependents InternetService  \\\n",
       "customerID                     ...                                       \n",
       "7590-VHVEG         31  Female  ...      Yes         No             DSL   \n",
       "5575-GNVDE       1036    Male  ...       No         No             DSL   \n",
       "3668-QPYBK        123    Male  ...       No         No             DSL   \n",
       "7795-CFOCW       1371    Male  ...       No         No             DSL   \n",
       "9237-HQITU        153  Female  ...       No         No     Fiber optic   \n",
       "\n",
       "           OnlineSecurity OnlineBackup DeviceProtection TechSupport  \\\n",
       "customerID                                                            \n",
       "7590-VHVEG             No          Yes               No          No   \n",
       "5575-GNVDE            Yes           No              Yes          No   \n",
       "3668-QPYBK            Yes          Yes               No          No   \n",
       "7795-CFOCW            Yes           No              Yes         Yes   \n",
       "9237-HQITU             No           No               No          No   \n",
       "\n",
       "           StreamingTV StreamingMovies MultipleLines  \n",
       "customerID                                            \n",
       "7590-VHVEG          No              No           NaN  \n",
       "5575-GNVDE          No              No            No  \n",
       "3668-QPYBK          No              No            No  \n",
       "7795-CFOCW          No              No           NaN  \n",
       "9237-HQITU          No              No            No  \n",
       "\n",
       "[5 rows x 21 columns]"
      ]
     },
     "execution_count": 38,
     "metadata": {},
     "output_type": "execute_result"
    }
   ],
   "source": [
    "data.head()"
   ]
  },
  {
   "cell_type": "code",
   "execution_count": 39,
   "metadata": {},
   "outputs": [
    {
     "name": "stdout",
     "output_type": "stream",
     "text": [
      "<class 'pandas.core.frame.DataFrame'>\n",
      "Index: 7043 entries, 7590-VHVEG to 3186-AJIEK\n",
      "Data columns (total 21 columns):\n",
      " #   Column            Non-Null Count  Dtype         \n",
      "---  ------            --------------  -----         \n",
      " 0   BeginDate         7043 non-null   datetime64[ns]\n",
      " 1   EndDate           7043 non-null   datetime64[ns]\n",
      " 2   Type              7043 non-null   object        \n",
      " 3   PaperlessBilling  7043 non-null   object        \n",
      " 4   PaymentMethod     7043 non-null   object        \n",
      " 5   MonthlyCharges    7043 non-null   float64       \n",
      " 6   TotalCharges      7043 non-null   float64       \n",
      " 7   target            7043 non-null   int64         \n",
      " 8   totaldays         7043 non-null   int64         \n",
      " 9   gender            7043 non-null   object        \n",
      " 10  SeniorCitizen     7043 non-null   int64         \n",
      " 11  Partner           7043 non-null   object        \n",
      " 12  Dependents        7043 non-null   object        \n",
      " 13  InternetService   5517 non-null   object        \n",
      " 14  OnlineSecurity    5517 non-null   object        \n",
      " 15  OnlineBackup      5517 non-null   object        \n",
      " 16  DeviceProtection  5517 non-null   object        \n",
      " 17  TechSupport       5517 non-null   object        \n",
      " 18  StreamingTV       5517 non-null   object        \n",
      " 19  StreamingMovies   5517 non-null   object        \n",
      " 20  MultipleLines     6361 non-null   object        \n",
      "dtypes: datetime64[ns](2), float64(2), int64(3), object(14)\n",
      "memory usage: 1.2+ MB\n"
     ]
    }
   ],
   "source": [
    "data.info()"
   ]
  },
  {
   "cell_type": "markdown",
   "metadata": {},
   "source": [
    "На лицо пропуски в столбцах InternetService, OnlineSecurity, OnlineBackup, DeviceProtection, TechSupport, StreamingTV, StreamingMovies, MultipleLines. Вероятно, это означает, что данные услуги не используются или не были подключены. Поэтому можем заменить пропуски на 'No'."
   ]
  },
  {
   "cell_type": "code",
   "execution_count": 40,
   "metadata": {},
   "outputs": [],
   "source": [
    "data = data.fillna('No')"
   ]
  },
  {
   "cell_type": "markdown",
   "metadata": {},
   "source": [
    "## Исследовательский анализ данных"
   ]
  },
  {
   "cell_type": "markdown",
   "metadata": {},
   "source": [
    "Посмотрим на распределение целевого признака по классам."
   ]
  },
  {
   "cell_type": "code",
   "execution_count": 41,
   "metadata": {},
   "outputs": [
    {
     "data": {
      "image/png": "[encoded data removed]",
      "text/plain": [
       "<Figure size 720x576 with 1 Axes>"
      ]
     },
     "metadata": {
      "needs_background": "light"
     },
     "output_type": "display_data"
    }
   ],
   "source": [
    "data['target'].hist(figsize=(10,8))\n",
    "plt.title('Баланс классов')\n",
    "plt.show()"
   ]
  },
  {
   "cell_type": "markdown",
   "metadata": {},
   "source": [
    "Существует значительный дисбаланс классов в сторону клиентов, которые всё ещё пользуются услугами."
   ]
  },
  {
   "cell_type": "markdown",
   "metadata": {},
   "source": [
    "Посмотрим на ежемесячные платежи для этих двух классов. "
   ]
  },
  {
   "cell_type": "code",
   "execution_count": 42,
   "metadata": {},
   "outputs": [
    {
     "data": {
      "image/png": "[encoded data removed]",
      "text/plain": [
       "<Figure size 432x288 with 1 Axes>"
      ]
     },
     "metadata": {
      "needs_background": "light"
     },
     "output_type": "display_data"
    }
   ],
   "source": [
    "plt.hist([data[data['target'] == 1].MonthlyCharges, \n",
    "         data[data['target'] == 0].MonthlyCharges],\n",
    "        label=['Ушедшие', 'Лояльные'])\n",
    "plt.title('Месячные платежи')\n",
    "plt.legend()\n",
    "plt.show()"
   ]
  },
  {
   "cell_type": "markdown",
   "metadata": {},
   "source": [
    "Для ушедших и оставшихся клиетов есть 2 пика: в районе маленьких ежемесячных платежей (20) и в области 80 и 100, соответственно, для лояльных и ушедших клиентов."
   ]
  },
  {
   "cell_type": "markdown",
   "metadata": {},
   "source": [
    "Посмотрим на полные платежи для двух классов."
   ]
  },
  {
   "cell_type": "code",
   "execution_count": 43,
   "metadata": {},
   "outputs": [
    {
     "data": {
      "image/png": "[encoded data removed]",
      "text/plain": [
       "<Figure size 432x288 with 1 Axes>"
      ]
     },
     "metadata": {
      "needs_background": "light"
     },
     "output_type": "display_data"
    }
   ],
   "source": [
    "plt.hist([data[data['target'] == 1].TotalCharges, \n",
    "         data[data['target'] == 0].TotalCharges],\n",
    "        label=['Ушедшие', 'Лояльные'])\n",
    "plt.title('Суммарные платежи')\n",
    "plt.legend()\n",
    "plt.show()"
   ]
  },
  {
   "cell_type": "markdown",
   "metadata": {},
   "source": [
    "Естественно, у оставшихся клиентов суммарные платежи больше."
   ]
  },
  {
   "cell_type": "markdown",
   "metadata": {},
   "source": [
    "Посмотрим на период подключения для двух классов."
   ]
  },
  {
   "cell_type": "code",
   "execution_count": 44,
   "metadata": {},
   "outputs": [
    {
     "data": {
      "image/png": "[encoded data removed]",
      "text/plain": [
       "<Figure size 432x288 with 1 Axes>"
      ]
     },
     "metadata": {
      "needs_background": "light"
     },
     "output_type": "display_data"
    }
   ],
   "source": [
    "plt.hist([data[data['target'] == 1].totaldays, \n",
    "         data[data['target'] == 0].totaldays],\n",
    "        label=['Ушедшие', 'Лояльные'])\n",
    "plt.title('Период подключения')\n",
    "plt.legend()\n",
    "plt.show()"
   ]
  },
  {
   "cell_type": "markdown",
   "metadata": {},
   "source": [
    "Для лояльных клиентов имеется 2 пика в районе маленьких и больших времён пользования услугами компании. Ушедшие клиенты демонстрируют другие показатели: имеется только 1 пик в районе 1000 дней."
   ]
  },
  {
   "cell_type": "markdown",
   "metadata": {},
   "source": [
    "Посмотрим на виды оплаты для этих двух классов."
   ]
  },
  {
   "cell_type": "code",
   "execution_count": 45,
   "metadata": {},
   "outputs": [
    {
     "data": {
      "image/png": "[encoded data removed]",
      "text/plain": [
       "<Figure size 432x288 with 1 Axes>"
      ]
     },
     "metadata": {
      "needs_background": "light"
     },
     "output_type": "display_data"
    }
   ],
   "source": [
    "plt.hist([data[data['target'] == 1].Type, \n",
    "         data[data['target'] == 0].Type],\n",
    "        label=['Ушедшие', 'Лояльные'])\n",
    "plt.title('Тип оплаты контрактов')\n",
    "plt.legend()\n",
    "plt.show()"
   ]
  },
  {
   "cell_type": "markdown",
   "metadata": {},
   "source": [
    "В подавляющем большинстве случаев лояльные клиенты предпочитают использовать ежемесячную оплату."
   ]
  },
  {
   "cell_type": "markdown",
   "metadata": {},
   "source": [
    "Посмотрим на методы оплаты для этих двух классов."
   ]
  },
  {
   "cell_type": "code",
   "execution_count": 46,
   "metadata": {},
   "outputs": [
    {
     "data": {
      "image/png": "[encoded data removed]",
      "text/plain": [
       "<Figure size 576x576 with 1 Axes>"
      ]
     },
     "metadata": {
      "needs_background": "light"
     },
     "output_type": "display_data"
    }
   ],
   "source": [
    "plt.figure(figsize=(8,8))\n",
    "plt.hist([data[data['target'] == 1].PaymentMethod, \n",
    "         data[data['target'] == 0].PaymentMethod],\n",
    "        label=['Ушедшие', 'Лояльные'])\n",
    "plt.title('Метод оплаты контрактов')\n",
    "plt.legend()\n",
    "plt.show()"
   ]
  },
  {
   "cell_type": "markdown",
   "metadata": {},
   "source": [
    "Лояльные клиенты чаще всего используют электронные чеки, в то время как ушедшие меньше всего используют бумажные чеки."
   ]
  },
  {
   "cell_type": "markdown",
   "metadata": {},
   "source": [
    "Посмотрим на предоставляемые услуги для этих двух классов."
   ]
  },
  {
   "cell_type": "code",
   "execution_count": 47,
   "metadata": {},
   "outputs": [
    {
     "data": {
      "image/png": "[encoded data removed]",
      "text/plain": [
       "<Figure size 432x288 with 1 Axes>"
      ]
     },
     "metadata": {
      "needs_background": "light"
     },
     "output_type": "display_data"
    }
   ],
   "source": [
    "plt.hist([data[data['target'] == 1].InternetService, \n",
    "         data[data['target'] == 0].InternetService],\n",
    "        label=['Ушедшие', 'Лояльные'])\n",
    "plt.title('Интернет-услуги для двух классов')\n",
    "plt.legend()\n",
    "plt.show()"
   ]
  },
  {
   "cell_type": "markdown",
   "metadata": {},
   "source": [
    "Больше всего клиенты, как лояльные, так и ушедшие, используют оптоволокно. В то же время очень много лояльных клиентов не пользуются интенет- услугами. Вероятность ухода для ушедших клиентов мала, если клиенты не пользуются Интернетом."
   ]
  },
  {
   "cell_type": "markdown",
   "metadata": {},
   "source": [
    "Посмотрим на корреляцию между количественными данными."
   ]
  },
  {
   "cell_type": "code",
   "execution_count": 48,
   "metadata": {},
   "outputs": [
    {
     "data": {
      "text/html": [
       "<div>\n",
       "<style scoped>\n",
       "    .dataframe tbody tr th:only-of-type {\n",
       "        vertical-align: middle;\n",
       "    }\n",
       "\n",
       "    .dataframe tbody tr th {\n",
       "        vertical-align: top;\n",
       "    }\n",
       "\n",
       "    .dataframe thead th {\n",
       "        text-align: right;\n",
       "    }\n",
       "</style>\n",
       "<table border=\"1\" class=\"dataframe\">\n",
       "  <thead>\n",
       "    <tr style=\"text-align: right;\">\n",
       "      <th></th>\n",
       "      <th>MonthlyCharges</th>\n",
       "      <th>TotalCharges</th>\n",
       "      <th>totaldays</th>\n",
       "      <th>target</th>\n",
       "    </tr>\n",
       "  </thead>\n",
       "  <tbody>\n",
       "    <tr>\n",
       "      <th>MonthlyCharges</th>\n",
       "      <td>1.000000</td>\n",
       "      <td>0.630440</td>\n",
       "      <td>0.220054</td>\n",
       "      <td>0.154286</td>\n",
       "    </tr>\n",
       "    <tr>\n",
       "      <th>TotalCharges</th>\n",
       "      <td>0.630440</td>\n",
       "      <td>1.000000</td>\n",
       "      <td>0.821746</td>\n",
       "      <td>0.052175</td>\n",
       "    </tr>\n",
       "    <tr>\n",
       "      <th>totaldays</th>\n",
       "      <td>0.220054</td>\n",
       "      <td>0.821746</td>\n",
       "      <td>1.000000</td>\n",
       "      <td>0.016578</td>\n",
       "    </tr>\n",
       "    <tr>\n",
       "      <th>target</th>\n",
       "      <td>0.154286</td>\n",
       "      <td>0.052175</td>\n",
       "      <td>0.016578</td>\n",
       "      <td>1.000000</td>\n",
       "    </tr>\n",
       "  </tbody>\n",
       "</table>\n",
       "</div>"
      ],
      "text/plain": [
       "                MonthlyCharges  TotalCharges  totaldays    target\n",
       "MonthlyCharges        1.000000      0.630440   0.220054  0.154286\n",
       "TotalCharges          0.630440      1.000000   0.821746  0.052175\n",
       "totaldays             0.220054      0.821746   1.000000  0.016578\n",
       "target                0.154286      0.052175   0.016578  1.000000"
      ]
     },
     "execution_count": 48,
     "metadata": {},
     "output_type": "execute_result"
    }
   ],
   "source": [
    "data[['MonthlyCharges', 'TotalCharges', 'totaldays', 'target']].corr()"
   ]
  },
  {
   "cell_type": "markdown",
   "metadata": {},
   "source": [
    "Очень большая корреляция существует между количеством дней и суммарных выплат. Поэтому нужно будет удалить этот столбец."
   ]
  },
  {
   "cell_type": "markdown",
   "metadata": {},
   "source": [
    "## Подготовка данных"
   ]
  },
  {
   "cell_type": "markdown",
   "metadata": {},
   "source": [
    "Удалим столбцы с началом и окончанием контракта, а также суммарные выплаты."
   ]
  },
  {
   "cell_type": "code",
   "execution_count": 49,
   "metadata": {},
   "outputs": [],
   "source": [
    "data1 = data.drop(['TotalCharges', 'BeginDate', 'EndDate'], axis=1)"
   ]
  },
  {
   "cell_type": "markdown",
   "metadata": {},
   "source": [
    "Разбиение данных"
   ]
  },
  {
   "cell_type": "code",
   "execution_count": 50,
   "metadata": {},
   "outputs": [],
   "source": [
    "RS = 140823\n",
    "test_ = 0.25"
   ]
  },
  {
   "cell_type": "code",
   "execution_count": 51,
   "metadata": {},
   "outputs": [],
   "source": [
    "features = data1.drop(columns=['target'])\n",
    "target = data1['target']"
   ]
  },
  {
   "cell_type": "code",
   "execution_count": 52,
   "metadata": {},
   "outputs": [],
   "source": [
    "numeric = ['MonthlyCharges', 'totaldays']\n",
    "cat_columns = features.drop(columns=numeric).columns"
   ]
  },
  {
   "cell_type": "code",
   "execution_count": 53,
   "metadata": {},
   "outputs": [],
   "source": [
    "from sklearn.model_selection import train_test_split, GridSearchCV\n",
    "from sklearn.metrics import roc_auc_score, roc_curve, accuracy_score\n",
    "from sklearn.utils import shuffle\n",
    "\n",
    "from sklearn.preprocessing import StandardScaler, LabelEncoder\n",
    "\n",
    "from sklearn.tree import DecisionTreeClassifier\n",
    "from sklearn.linear_model import LogisticRegression\n",
    "from sklearn.ensemble import RandomForestClassifier\n",
    "from sklearn.dummy import DummyClassifier\n",
    "from catboost import CatBoostClassifier"
   ]
  },
  {
   "cell_type": "markdown",
   "metadata": {},
   "source": [
    "Разбиение данных"
   ]
  },
  {
   "cell_type": "code",
   "execution_count": 54,
   "metadata": {},
   "outputs": [],
   "source": [
    "X_train, X_test, y_train, y_test = train_test_split(features, target,\n",
    "                                                   test_size=test_,\n",
    "                                                   random_state=RS)"
   ]
  },
  {
   "cell_type": "markdown",
   "metadata": {},
   "source": [
    "Масштабирование количественных данных"
   ]
  },
  {
   "cell_type": "code",
   "execution_count": 55,
   "metadata": {},
   "outputs": [],
   "source": [
    "numeric = ['MonthlyCharges', 'totaldays']\n",
    "cat_columns = features.drop(columns=numeric).columns\n",
    "\n",
    "scaler = StandardScaler()\n",
    "\n",
    "scaler.fit(X_train[numeric])\n",
    "\n",
    "X_train = X_train.copy()\n",
    "X_train[numeric] = scaler.transform(X_train[numeric])\n",
    "\n",
    "X_test = X_test.copy()\n",
    "X_test[numeric] = scaler.transform(X_test[numeric])"
   ]
  },
  {
   "cell_type": "code",
   "execution_count": 56,
   "metadata": {},
   "outputs": [],
   "source": [
    "cat_columns = features.drop(columns=numeric).columns"
   ]
  },
  {
   "cell_type": "markdown",
   "metadata": {},
   "source": [
    "Теперь применим one-hot encoding"
   ]
  },
  {
   "cell_type": "code",
   "execution_count": 57,
   "metadata": {},
   "outputs": [],
   "source": [
    "from sklearn.preprocessing import OneHotEncoder\n",
    "\n",
    "ohe_enc = OneHotEncoder(drop='first')\n",
    "ohe_enc.fit(X_train[cat_columns])\n",
    "new_columns = ohe_enc.get_feature_names(cat_columns)\n",
    "\n",
    "X_train_ohe = pd.DataFrame(ohe_enc.transform(X_train[cat_columns]).toarray(),\n",
    "                          columns=new_columns, index=X_train.index)\n",
    "X_train_ohe = X_train_ohe.join(X_train[numeric])\n",
    "\n",
    "X_test_ohe = pd.DataFrame(ohe_enc.transform(X_test[cat_columns]).toarray(),\n",
    "                          columns=new_columns, index=X_test.index)\n",
    "X_test_ohe = X_test_ohe.join(X_test[numeric])"
   ]
  },
  {
   "cell_type": "code",
   "execution_count": 58,
   "metadata": {
    "scrolled": true
   },
   "outputs": [
    {
     "data": {
      "text/html": [
       "<div>\n",
       "<style scoped>\n",
       "    .dataframe tbody tr th:only-of-type {\n",
       "        vertical-align: middle;\n",
       "    }\n",
       "\n",
       "    .dataframe tbody tr th {\n",
       "        vertical-align: top;\n",
       "    }\n",
       "\n",
       "    .dataframe thead th {\n",
       "        text-align: right;\n",
       "    }\n",
       "</style>\n",
       "<table border=\"1\" class=\"dataframe\">\n",
       "  <thead>\n",
       "    <tr style=\"text-align: right;\">\n",
       "      <th>customerID</th>\n",
       "      <th>2082-CEFLT</th>\n",
       "      <th>5027-XWQHA</th>\n",
       "      <th>6941-KXRRV</th>\n",
       "      <th>4716-MRVEN</th>\n",
       "      <th>8645-KWHJO</th>\n",
       "    </tr>\n",
       "  </thead>\n",
       "  <tbody>\n",
       "    <tr>\n",
       "      <th>Type_One year</th>\n",
       "      <td>0.000000</td>\n",
       "      <td>0.000000</td>\n",
       "      <td>1.000000</td>\n",
       "      <td>1.000000</td>\n",
       "      <td>0.000000</td>\n",
       "    </tr>\n",
       "    <tr>\n",
       "      <th>Type_Two year</th>\n",
       "      <td>0.000000</td>\n",
       "      <td>0.000000</td>\n",
       "      <td>0.000000</td>\n",
       "      <td>0.000000</td>\n",
       "      <td>0.000000</td>\n",
       "    </tr>\n",
       "    <tr>\n",
       "      <th>PaperlessBilling_Yes</th>\n",
       "      <td>1.000000</td>\n",
       "      <td>0.000000</td>\n",
       "      <td>1.000000</td>\n",
       "      <td>0.000000</td>\n",
       "      <td>1.000000</td>\n",
       "    </tr>\n",
       "    <tr>\n",
       "      <th>PaymentMethod_Credit card (automatic)</th>\n",
       "      <td>0.000000</td>\n",
       "      <td>0.000000</td>\n",
       "      <td>0.000000</td>\n",
       "      <td>0.000000</td>\n",
       "      <td>0.000000</td>\n",
       "    </tr>\n",
       "    <tr>\n",
       "      <th>PaymentMethod_Electronic check</th>\n",
       "      <td>1.000000</td>\n",
       "      <td>1.000000</td>\n",
       "      <td>0.000000</td>\n",
       "      <td>0.000000</td>\n",
       "      <td>1.000000</td>\n",
       "    </tr>\n",
       "    <tr>\n",
       "      <th>PaymentMethod_Mailed check</th>\n",
       "      <td>0.000000</td>\n",
       "      <td>0.000000</td>\n",
       "      <td>0.000000</td>\n",
       "      <td>1.000000</td>\n",
       "      <td>0.000000</td>\n",
       "    </tr>\n",
       "    <tr>\n",
       "      <th>gender_Male</th>\n",
       "      <td>1.000000</td>\n",
       "      <td>1.000000</td>\n",
       "      <td>0.000000</td>\n",
       "      <td>0.000000</td>\n",
       "      <td>1.000000</td>\n",
       "    </tr>\n",
       "    <tr>\n",
       "      <th>SeniorCitizen_1</th>\n",
       "      <td>0.000000</td>\n",
       "      <td>0.000000</td>\n",
       "      <td>1.000000</td>\n",
       "      <td>0.000000</td>\n",
       "      <td>0.000000</td>\n",
       "    </tr>\n",
       "    <tr>\n",
       "      <th>Partner_Yes</th>\n",
       "      <td>0.000000</td>\n",
       "      <td>0.000000</td>\n",
       "      <td>1.000000</td>\n",
       "      <td>0.000000</td>\n",
       "      <td>0.000000</td>\n",
       "    </tr>\n",
       "    <tr>\n",
       "      <th>Dependents_Yes</th>\n",
       "      <td>0.000000</td>\n",
       "      <td>0.000000</td>\n",
       "      <td>0.000000</td>\n",
       "      <td>0.000000</td>\n",
       "      <td>0.000000</td>\n",
       "    </tr>\n",
       "    <tr>\n",
       "      <th>InternetService_Fiber optic</th>\n",
       "      <td>0.000000</td>\n",
       "      <td>0.000000</td>\n",
       "      <td>0.000000</td>\n",
       "      <td>0.000000</td>\n",
       "      <td>0.000000</td>\n",
       "    </tr>\n",
       "    <tr>\n",
       "      <th>InternetService_No</th>\n",
       "      <td>0.000000</td>\n",
       "      <td>0.000000</td>\n",
       "      <td>0.000000</td>\n",
       "      <td>1.000000</td>\n",
       "      <td>0.000000</td>\n",
       "    </tr>\n",
       "    <tr>\n",
       "      <th>OnlineSecurity_Yes</th>\n",
       "      <td>0.000000</td>\n",
       "      <td>0.000000</td>\n",
       "      <td>0.000000</td>\n",
       "      <td>0.000000</td>\n",
       "      <td>0.000000</td>\n",
       "    </tr>\n",
       "    <tr>\n",
       "      <th>OnlineBackup_Yes</th>\n",
       "      <td>0.000000</td>\n",
       "      <td>0.000000</td>\n",
       "      <td>1.000000</td>\n",
       "      <td>0.000000</td>\n",
       "      <td>0.000000</td>\n",
       "    </tr>\n",
       "    <tr>\n",
       "      <th>DeviceProtection_Yes</th>\n",
       "      <td>0.000000</td>\n",
       "      <td>0.000000</td>\n",
       "      <td>0.000000</td>\n",
       "      <td>0.000000</td>\n",
       "      <td>1.000000</td>\n",
       "    </tr>\n",
       "    <tr>\n",
       "      <th>TechSupport_Yes</th>\n",
       "      <td>0.000000</td>\n",
       "      <td>0.000000</td>\n",
       "      <td>0.000000</td>\n",
       "      <td>0.000000</td>\n",
       "      <td>1.000000</td>\n",
       "    </tr>\n",
       "    <tr>\n",
       "      <th>StreamingTV_Yes</th>\n",
       "      <td>0.000000</td>\n",
       "      <td>0.000000</td>\n",
       "      <td>0.000000</td>\n",
       "      <td>0.000000</td>\n",
       "      <td>1.000000</td>\n",
       "    </tr>\n",
       "    <tr>\n",
       "      <th>StreamingMovies_Yes</th>\n",
       "      <td>0.000000</td>\n",
       "      <td>0.000000</td>\n",
       "      <td>1.000000</td>\n",
       "      <td>0.000000</td>\n",
       "      <td>1.000000</td>\n",
       "    </tr>\n",
       "    <tr>\n",
       "      <th>MultipleLines_Yes</th>\n",
       "      <td>0.000000</td>\n",
       "      <td>0.000000</td>\n",
       "      <td>0.000000</td>\n",
       "      <td>0.000000</td>\n",
       "      <td>0.000000</td>\n",
       "    </tr>\n",
       "    <tr>\n",
       "      <th>MonthlyCharges</th>\n",
       "      <td>-0.633974</td>\n",
       "      <td>-0.662295</td>\n",
       "      <td>-0.189172</td>\n",
       "      <td>-1.486927</td>\n",
       "      <td>-0.320780</td>\n",
       "    </tr>\n",
       "    <tr>\n",
       "      <th>totaldays</th>\n",
       "      <td>-1.101961</td>\n",
       "      <td>-0.919811</td>\n",
       "      <td>0.835053</td>\n",
       "      <td>-0.020906</td>\n",
       "      <td>-0.696195</td>\n",
       "    </tr>\n",
       "  </tbody>\n",
       "</table>\n",
       "</div>"
      ],
      "text/plain": [
       "customerID                             2082-CEFLT  5027-XWQHA  6941-KXRRV  \\\n",
       "Type_One year                            0.000000    0.000000    1.000000   \n",
       "Type_Two year                            0.000000    0.000000    0.000000   \n",
       "PaperlessBilling_Yes                     1.000000    0.000000    1.000000   \n",
       "PaymentMethod_Credit card (automatic)    0.000000    0.000000    0.000000   \n",
       "PaymentMethod_Electronic check           1.000000    1.000000    0.000000   \n",
       "PaymentMethod_Mailed check               0.000000    0.000000    0.000000   \n",
       "gender_Male                              1.000000    1.000000    0.000000   \n",
       "SeniorCitizen_1                          0.000000    0.000000    1.000000   \n",
       "Partner_Yes                              0.000000    0.000000    1.000000   \n",
       "Dependents_Yes                           0.000000    0.000000    0.000000   \n",
       "InternetService_Fiber optic              0.000000    0.000000    0.000000   \n",
       "InternetService_No                       0.000000    0.000000    0.000000   \n",
       "OnlineSecurity_Yes                       0.000000    0.000000    0.000000   \n",
       "OnlineBackup_Yes                         0.000000    0.000000    1.000000   \n",
       "DeviceProtection_Yes                     0.000000    0.000000    0.000000   \n",
       "TechSupport_Yes                          0.000000    0.000000    0.000000   \n",
       "StreamingTV_Yes                          0.000000    0.000000    0.000000   \n",
       "StreamingMovies_Yes                      0.000000    0.000000    1.000000   \n",
       "MultipleLines_Yes                        0.000000    0.000000    0.000000   \n",
       "MonthlyCharges                          -0.633974   -0.662295   -0.189172   \n",
       "totaldays                               -1.101961   -0.919811    0.835053   \n",
       "\n",
       "customerID                             4716-MRVEN  8645-KWHJO  \n",
       "Type_One year                            1.000000    0.000000  \n",
       "Type_Two year                            0.000000    0.000000  \n",
       "PaperlessBilling_Yes                     0.000000    1.000000  \n",
       "PaymentMethod_Credit card (automatic)    0.000000    0.000000  \n",
       "PaymentMethod_Electronic check           0.000000    1.000000  \n",
       "PaymentMethod_Mailed check               1.000000    0.000000  \n",
       "gender_Male                              0.000000    1.000000  \n",
       "SeniorCitizen_1                          0.000000    0.000000  \n",
       "Partner_Yes                              0.000000    0.000000  \n",
       "Dependents_Yes                           0.000000    0.000000  \n",
       "InternetService_Fiber optic              0.000000    0.000000  \n",
       "InternetService_No                       1.000000    0.000000  \n",
       "OnlineSecurity_Yes                       0.000000    0.000000  \n",
       "OnlineBackup_Yes                         0.000000    0.000000  \n",
       "DeviceProtection_Yes                     0.000000    1.000000  \n",
       "TechSupport_Yes                          0.000000    1.000000  \n",
       "StreamingTV_Yes                          0.000000    1.000000  \n",
       "StreamingMovies_Yes                      0.000000    1.000000  \n",
       "MultipleLines_Yes                        0.000000    0.000000  \n",
       "MonthlyCharges                          -1.486927   -0.320780  \n",
       "totaldays                               -0.020906   -0.696195  "
      ]
     },
     "execution_count": 58,
     "metadata": {},
     "output_type": "execute_result"
    }
   ],
   "source": [
    "X_train_ohe.head().T"
   ]
  },
  {
   "cell_type": "markdown",
   "metadata": {},
   "source": [
    "## Обучение моделей"
   ]
  },
  {
   "cell_type": "markdown",
   "metadata": {},
   "source": [
    "### Логистическая регрессия"
   ]
  },
  {
   "cell_type": "code",
   "execution_count": 59,
   "metadata": {},
   "outputs": [
    {
     "name": "stdout",
     "output_type": "stream",
     "text": [
      "{'C': 100}\n",
      "0.7486413013961247\n"
     ]
    }
   ],
   "source": [
    "param_grid = {'C': [0.01, 0.1, 1, 10, 100]}\n",
    "\n",
    "model_lr = LogisticRegression(solver='lbfgs', random_state=RS)\n",
    "\n",
    "search_lr = GridSearchCV(model_lr, param_grid, cv=5, scoring='roc_auc')\n",
    "search_lr.fit(X_train_ohe, y_train)\n",
    "\n",
    "print(search_lr.best_params_)\n",
    "print(search_lr.best_score_)\n",
    "\n",
    "#pred = search_lr.best_estimator_.predict_proba(X_valid_ohe)[:, 1]"
   ]
  },
  {
   "cell_type": "markdown",
   "metadata": {},
   "source": [
    "### CatBoostClassifier"
   ]
  },
  {
   "cell_type": "code",
   "execution_count": 60,
   "metadata": {},
   "outputs": [
    {
     "name": "stdout",
     "output_type": "stream",
     "text": [
      "{'iterations': 100, 'l2_leaf_reg': 3, 'learning_rate': 0.3}\n",
      "0.8944669791322999\n"
     ]
    }
   ],
   "source": [
    "param_grid = {\n",
    "    'learning_rate': [0.1, 0.3],\n",
    "    'iterations': [50, 100],\n",
    "    'l2_leaf_reg': [3, 9]\n",
    "}\n",
    "\n",
    "model_cbc = CatBoostClassifier(random_state=RS, verbose=0)\n",
    "\n",
    "search_cbc = GridSearchCV(model_cbc, param_grid, cv=5, scoring='roc_auc')\n",
    "search_cbc.fit(X_train_ohe, y_train)\n",
    "\n",
    "print(search_cbc.best_params_)\n",
    "print(search_cbc.best_score_)\n",
    "\n",
    "#pred = search_cbc.best_estimator_.predict_proba(X_valid_ohe)[:, 1]"
   ]
  },
  {
   "cell_type": "markdown",
   "metadata": {},
   "source": [
    "RandomForestClassifier"
   ]
  },
  {
   "cell_type": "code",
   "execution_count": 61,
   "metadata": {},
   "outputs": [
    {
     "name": "stdout",
     "output_type": "stream",
     "text": [
      "{'max_depth': 10, 'min_samples_leaf': 2, 'min_samples_split': 2, 'n_estimators': 50}\n",
      "0.8114523815506931\n"
     ]
    }
   ],
   "source": [
    "param_grid = {\n",
    "    'max_depth': [5, 10, 20],\n",
    "    'min_samples_split': [2, 10],\n",
    "    'min_samples_leaf': [2, 10],\n",
    "    'n_estimators': [10, 50, 100], \n",
    "}\n",
    "\n",
    "model_rfc = RandomForestClassifier(random_state=RS)\n",
    "\n",
    "search_rfc = GridSearchCV(model_rfc, param_grid, cv=5, scoring='roc_auc')\n",
    "search_rfc.fit(X_train_ohe, y_train)\n",
    "\n",
    "print(search_rfc.best_params_)\n",
    "print(search_rfc.best_score_)\n",
    "\n",
    "#pred = search_rfc.best_estimator_.predict_proba(X_valid_ohe)[:, 1]\n"
   ]
  },
  {
   "cell_type": "code",
   "execution_count": 62,
   "metadata": {},
   "outputs": [
    {
     "data": {
      "text/html": [
       "<div>\n",
       "<style scoped>\n",
       "    .dataframe tbody tr th:only-of-type {\n",
       "        vertical-align: middle;\n",
       "    }\n",
       "\n",
       "    .dataframe tbody tr th {\n",
       "        vertical-align: top;\n",
       "    }\n",
       "\n",
       "    .dataframe thead th {\n",
       "        text-align: right;\n",
       "    }\n",
       "</style>\n",
       "<table border=\"1\" class=\"dataframe\">\n",
       "  <thead>\n",
       "    <tr style=\"text-align: right;\">\n",
       "      <th></th>\n",
       "      <th>Model</th>\n",
       "      <th>ROC_AUC</th>\n",
       "    </tr>\n",
       "  </thead>\n",
       "  <tbody>\n",
       "    <tr>\n",
       "      <th>0</th>\n",
       "      <td>RandomForestClassifier</td>\n",
       "      <td>0.811452</td>\n",
       "    </tr>\n",
       "    <tr>\n",
       "      <th>1</th>\n",
       "      <td>LogisticRegression</td>\n",
       "      <td>0.748641</td>\n",
       "    </tr>\n",
       "    <tr>\n",
       "      <th>2</th>\n",
       "      <td>CatBoostClassifier</td>\n",
       "      <td>0.894467</td>\n",
       "    </tr>\n",
       "  </tbody>\n",
       "</table>\n",
       "</div>"
      ],
      "text/plain": [
       "                    Model   ROC_AUC\n",
       "0  RandomForestClassifier  0.811452\n",
       "1      LogisticRegression  0.748641\n",
       "2      CatBoostClassifier  0.894467"
      ]
     },
     "execution_count": 62,
     "metadata": {},
     "output_type": "execute_result"
    }
   ],
   "source": [
    "table_ra = pd.DataFrame({'Model': ['RandomForestClassifier',\n",
    "                                'LogisticRegression',\n",
    "                                'CatBoostClassifier'], \n",
    "                      'ROC_AUC':[0.8114523815506931,\n",
    "                                0.7486413013961247,\n",
    "                                0.8944669791322999]})\n",
    "table_ra"
   ]
  },
  {
   "cell_type": "markdown",
   "metadata": {},
   "source": [
    "Лучшее значение метрики ROC-AUC показала модель CatBoostClassifier: 0.89, поэтому именно её мы проверим на тестовой выборке."
   ]
  },
  {
   "cell_type": "markdown",
   "metadata": {},
   "source": [
    "## Проверка лучшей модели"
   ]
  },
  {
   "cell_type": "code",
   "execution_count": 63,
   "metadata": {},
   "outputs": [],
   "source": [
    "model_cbc = CatBoostClassifier(random_state=RS, verbose=0,\n",
    "                               iterations=100, l2_leaf_reg=3,\n",
    "                               learning_rate=0.3)\n",
    "model_cbc.fit(X_train_ohe, y_train)\n",
    "\n",
    "pred = search_cbc.best_estimator_.predict_proba(X_test_ohe)[:, 1]"
   ]
  },
  {
   "cell_type": "code",
   "execution_count": 64,
   "metadata": {
    "scrolled": true
   },
   "outputs": [
    {
     "name": "stdout",
     "output_type": "stream",
     "text": [
      "ROC-AUC score 0.907317340562305\n"
     ]
    },
    {
     "data": {
      "image/png": "[encoded data removed]",
      "text/plain": [
       "<Figure size 792x360 with 1 Axes>"
      ]
     },
     "metadata": {
      "needs_background": "light"
     },
     "output_type": "display_data"
    }
   ],
   "source": [
    "print('ROC-AUC score', roc_auc_score(y_test, pred))\n",
    "    \n",
    "fpr, tpr, thresholds = roc_curve(y_test, pred)\n",
    "\n",
    "plt.figure(figsize=(11, 5))\n",
    "    \n",
    "plt.plot(fpr, tpr)\n",
    "   \n",
    "plt.plot([0, 1], [0, 1], linestyle='--')\n",
    "    \n",
    "plt.xlim([0.0, 1.0])\n",
    "plt.ylim([0.0, 1.0])\n",
    "    \n",
    "plt.xlabel('False Positive Rate')\n",
    "plt.ylabel('True Positive Rate')\n",
    "    \n",
    "plt.title('ROC-кривая')\n",
    "    \n",
    "plt.show()"
   ]
  },
  {
   "cell_type": "markdown",
   "metadata": {},
   "source": [
    "Значение метрики ROC-AUC на тестовой выборке равно 0.907317340562305 для нашей лучшей модели CatBoostClassifier."
   ]
  },
  {
   "cell_type": "code",
   "execution_count": 65,
   "metadata": {},
   "outputs": [],
   "source": [
    "importance = pd.DataFrame(search_cbc.best_estimator_.feature_importances_, index = X_test_ohe.columns, columns=['importances'])\n",
    "importance = importance.sort_values(by='importances', ascending=False)"
   ]
  },
  {
   "cell_type": "code",
   "execution_count": 66,
   "metadata": {
    "scrolled": true
   },
   "outputs": [
    {
     "data": {
      "image/png": "[encoded data removed]",
      "text/plain": [
       "<Figure size 432x288 with 1 Axes>"
      ]
     },
     "metadata": {
      "needs_background": "light"
     },
     "output_type": "display_data"
    }
   ],
   "source": [
    "importance.plot(kind='bar', grid=True, title='Важность факторов')\n",
    "plt.show()"
   ]
  },
  {
   "cell_type": "markdown",
   "metadata": {},
   "source": [
    "Получается, что самым важным признаком является количество дней, в течение которых клиент пользуется услугами компании. Далее идёт размер ежемесячного платежа, а затем раз в какое время списывается платеж."
   ]
  },
  {
   "cell_type": "markdown",
   "metadata": {},
   "source": [
    "## Вывод"
   ]
  },
  {
   "cell_type": "markdown",
   "metadata": {},
   "source": [
    "В ходе исследовательского анализа данных мы предварительно посмотрели \n",
    "на наши данные, провели некоторую визуализацию.\n",
    "Типы некоторых столбцов были изменены, добавлены новые столбцы с \n",
    "целевым признаком и количеством дней, в течение которых клиент\n",
    "пользовался услугами компании. Соответственно, возникла проблема\n",
    "мультиколлинеарности, поэтому некоторые столбцы пришлось удалить.\n",
    "\n",
    "Далее была произведёна непосредственная подготовка данных к обучению:\n",
    "OHE и масштабирование количественных признаков. Были обучены 3 модели:\n",
    "* Логистическая регрессия\n",
    "* Случайный лес\n",
    "* CatBoost\n",
    "\n",
    "Лучший результат метрики ROC-AUC на кросс-валидации показала \n",
    "модель CatBoostClassifier: 0.894467. \n",
    "Затем мы провели анализ важности признаков. Оказалось, что наиболее\n",
    "важным признаком является количество дней, в течение которых клиент\n",
    "пользуется услугами."
   ]
  },
  {
   "cell_type": "markdown",
   "metadata": {},
   "source": [
    "## Отчёт по финальному проекту"
   ]
  },
  {
   "cell_type": "markdown",
   "metadata": {},
   "source": [
    "В ходе нашего проекта были выполненые следующие пункты:\n",
    "* Предобрабодка данных\n",
    "    1. были изменены типы данных у признаков BeginDate и EndDate - на datetime, MonthlyCharges и TotalCharges - на float\n",
    "    2. был добавлен признак totaldays, который означает продолжительность времени использовния услуг заказчика его клиентом на момент выгрузки данных в днях\n",
    "    3. был добавлен целевой признак target. Для факта ухода клиента - 1, и 0, если клиент остался.\n",
    "    4. далее мы провели некоторую визуализацию данных с целью найти возможную связь между признаками и target\n",
    "* Обучение\n",
    "    1. перед обучением мы удалили столбцы BeginDate, EndDate, поскольку эти данные уже содержит столбец totaldays. Кроме того мы удалили столбец TotalCharges, поскольку возникла проблема мультиколлинеарности со столбцом totaldays\n",
    "    2. далее мы объединили несколько датасетов. В результате образовались пропуски в категориальных признаках, которые мы заполнили значением No\n",
    "    3. затем мы произвели разделение данных на обучающую и тестовую выборки (размер тестовой выборки = 0.25, параметр random_state = 140823), применили технику OHE и произвели масштабирование количественных признаков\n",
    "    4. итоговый список признаков: ['Type_One year', 'Type_Two year', 'PaperlessBilling_Yes', 'PaymentMethod_Credit card (automatic)',\n",
    "'PaymentMethod_Electronic check', 'PaymentMethod_Mailed check',\n",
    "'gender_Male', 'SeniorCitizen_1', 'Partner_Yes', 'Dependents_Yes',\n",
    "'InternetService_Fiberoptic','InternetService_No','OnlineSecurity_Yes', 'OnlineBackup_Yes', 'DeviceProtection_Yes','TechSupport_Yes', 'StreamingTV_Yes', 'StreamingMovies_Yes', 'MultipleLines_Yes', 'MonthlyCharges', 'totaldays']\n",
    "    4. далее мы выбрали 3 модели LogisticRegression, RandomForestClassifier и CatBoostClassifier\n",
    "* Результаты\n",
    "    1. лучший результат показала модель CatBoostClassifier со следующими гиперпараметрами: {'iterations': 100, 'l2_leaf_reg': 3, 'learning_rate': 0.3}, значение метрики ROC AUC равно 0.8944669791322999\n",
    "    2. далее мы проверили нашу лучшую модель на тестовой выборке, в результате чего получили ROC AUC = 0.907317340562305\n",
    "    3. также мы посмотрели, какие признаки играют наибольшую роль при обучении модели"
   ]
  },
  {
   "cell_type": "markdown",
   "metadata": {},
   "source": [
    "Ключевые шаги в решении задачи:\n",
    "* выделение целевого и дополнительного признаков\n",
    "* объединение таблиц и обработка пропусков\n",
    "* решение проблемы мультиколинаерности признаков\n",
    "* выбор лучшей модели"
   ]
  }
 ],
 "metadata": {
  "ExecuteTimeLog": [
   {
    "duration": 148,
    "start_time": "2023-08-19T17:11:08.217Z"
   },
   {
    "duration": 130,
    "start_time": "2023-08-19T17:11:31.510Z"
   },
   {
    "duration": 147,
    "start_time": "2023-08-19T17:11:36.191Z"
   },
   {
    "duration": 172,
    "start_time": "2023-08-19T17:17:53.954Z"
   },
   {
    "duration": 123,
    "start_time": "2023-08-19T17:32:33.707Z"
   },
   {
    "duration": 1496,
    "start_time": "2023-08-19T17:38:30.307Z"
   },
   {
    "duration": 4,
    "start_time": "2023-08-19T17:38:42.379Z"
   },
   {
    "duration": 176,
    "start_time": "2023-08-19T17:40:06.612Z"
   },
   {
    "duration": 488,
    "start_time": "2023-08-19T17:40:44.893Z"
   },
   {
    "duration": 32,
    "start_time": "2023-08-19T17:41:45.148Z"
   },
   {
    "duration": 15,
    "start_time": "2023-08-19T17:42:56.379Z"
   },
   {
    "duration": 135,
    "start_time": "2023-08-19T17:55:03.477Z"
   },
   {
    "duration": 19,
    "start_time": "2023-08-19T17:55:05.922Z"
   },
   {
    "duration": 17,
    "start_time": "2023-08-19T17:55:09.026Z"
   },
   {
    "duration": 2310,
    "start_time": "2023-08-19T17:57:38.001Z"
   },
   {
    "duration": 121,
    "start_time": "2023-08-19T17:58:04.389Z"
   },
   {
    "duration": 19,
    "start_time": "2023-08-19T17:58:09.570Z"
   },
   {
    "duration": 14,
    "start_time": "2023-08-19T17:58:11.624Z"
   },
   {
    "duration": 2198,
    "start_time": "2023-08-19T17:58:14.841Z"
   },
   {
    "duration": 23,
    "start_time": "2023-08-19T17:58:27.782Z"
   },
   {
    "duration": 26,
    "start_time": "2023-08-19T17:58:43.079Z"
   },
   {
    "duration": 195,
    "start_time": "2023-08-19T18:00:25.123Z"
   },
   {
    "duration": 179,
    "start_time": "2023-08-19T18:00:49.524Z"
   },
   {
    "duration": 172,
    "start_time": "2023-08-19T18:01:23.990Z"
   },
   {
    "duration": 2120,
    "start_time": "2023-08-19T18:05:33.633Z"
   },
   {
    "duration": 2145,
    "start_time": "2023-08-19T18:05:43.298Z"
   },
   {
    "duration": 162,
    "start_time": "2023-08-19T18:05:59.418Z"
   },
   {
    "duration": 28,
    "start_time": "2023-08-19T18:10:18.350Z"
   },
   {
    "duration": 386,
    "start_time": "2023-08-19T18:12:36.919Z"
   },
   {
    "duration": 280,
    "start_time": "2023-08-19T18:14:29.878Z"
   },
   {
    "duration": 294,
    "start_time": "2023-08-19T18:18:27.793Z"
   },
   {
    "duration": 13,
    "start_time": "2023-08-19T18:28:29.146Z"
   },
   {
    "duration": 135,
    "start_time": "2023-08-19T18:28:52.263Z"
   },
   {
    "duration": 148,
    "start_time": "2023-08-19T18:28:59.081Z"
   },
   {
    "duration": 129,
    "start_time": "2023-08-19T18:29:01.575Z"
   },
   {
    "duration": 160,
    "start_time": "2023-08-19T18:33:29.225Z"
   },
   {
    "duration": 259,
    "start_time": "2023-08-20T08:25:42.871Z"
   },
   {
    "duration": 87413,
    "start_time": "2023-08-20T08:26:13.420Z"
   },
   {
    "duration": 4,
    "start_time": "2023-08-20T08:27:40.835Z"
   },
   {
    "duration": 107,
    "start_time": "2023-08-20T08:27:49.983Z"
   },
   {
    "duration": 18,
    "start_time": "2023-08-20T08:27:51.365Z"
   },
   {
    "duration": 21,
    "start_time": "2023-08-20T08:27:53.421Z"
   },
   {
    "duration": 23,
    "start_time": "2023-08-20T08:27:57.766Z"
   },
   {
    "duration": 196,
    "start_time": "2023-08-20T08:27:59.953Z"
   },
   {
    "duration": 160,
    "start_time": "2023-08-20T08:28:01.521Z"
   },
   {
    "duration": 15,
    "start_time": "2023-08-20T08:28:03.418Z"
   },
   {
    "duration": 308,
    "start_time": "2023-08-20T08:28:04.754Z"
   },
   {
    "duration": 88896,
    "start_time": "2023-08-20T08:28:12.370Z"
   },
   {
    "duration": 9,
    "start_time": "2023-08-20T08:35:24.224Z"
   },
   {
    "duration": 12,
    "start_time": "2023-08-20T08:38:16.899Z"
   },
   {
    "duration": 115,
    "start_time": "2023-08-20T08:39:37.745Z"
   },
   {
    "duration": 139,
    "start_time": "2023-08-20T08:42:24.112Z"
   },
   {
    "duration": 144,
    "start_time": "2023-08-20T08:44:57.038Z"
   },
   {
    "duration": 127,
    "start_time": "2023-08-20T08:46:39.087Z"
   },
   {
    "duration": 17,
    "start_time": "2023-08-20T08:48:43.467Z"
   },
   {
    "duration": 13,
    "start_time": "2023-08-20T08:49:52.954Z"
   },
   {
    "duration": 119,
    "start_time": "2023-08-20T08:53:51.060Z"
   },
   {
    "duration": 123,
    "start_time": "2023-08-20T08:56:06.895Z"
   },
   {
    "duration": 124,
    "start_time": "2023-08-20T08:56:44.209Z"
   },
   {
    "duration": 113,
    "start_time": "2023-08-20T08:56:46.621Z"
   },
   {
    "duration": 127,
    "start_time": "2023-08-20T08:57:50.693Z"
   },
   {
    "duration": 105,
    "start_time": "2023-08-20T08:57:54.396Z"
   },
   {
    "duration": 118,
    "start_time": "2023-08-20T08:58:43.442Z"
   },
   {
    "duration": 120,
    "start_time": "2023-08-20T08:58:56.912Z"
   },
   {
    "duration": 139,
    "start_time": "2023-08-20T08:59:39.982Z"
   },
   {
    "duration": 144,
    "start_time": "2023-08-20T09:01:26.438Z"
   },
   {
    "duration": 121,
    "start_time": "2023-08-20T09:04:15.352Z"
   },
   {
    "duration": 125,
    "start_time": "2023-08-20T09:06:41.285Z"
   },
   {
    "duration": 114,
    "start_time": "2023-08-20T09:06:52.886Z"
   },
   {
    "duration": 8,
    "start_time": "2023-08-20T09:14:59.574Z"
   },
   {
    "duration": 14,
    "start_time": "2023-08-20T09:15:06.755Z"
   },
   {
    "duration": 125,
    "start_time": "2023-08-20T09:17:22.146Z"
   },
   {
    "duration": 118,
    "start_time": "2023-08-20T09:17:44.632Z"
   },
   {
    "duration": 1300,
    "start_time": "2023-08-20T16:52:10.058Z"
   },
   {
    "duration": 100,
    "start_time": "2023-08-20T16:52:11.363Z"
   },
   {
    "duration": 16,
    "start_time": "2023-08-20T16:52:13.639Z"
   },
   {
    "duration": 14,
    "start_time": "2023-08-20T16:52:15.996Z"
   },
   {
    "duration": 15,
    "start_time": "2023-08-20T16:52:16.485Z"
   },
   {
    "duration": 144,
    "start_time": "2023-08-20T16:52:17.173Z"
   },
   {
    "duration": 127,
    "start_time": "2023-08-20T16:52:17.965Z"
   },
   {
    "duration": 14,
    "start_time": "2023-08-20T16:52:19.284Z"
   },
   {
    "duration": 245,
    "start_time": "2023-08-20T16:52:23.732Z"
   },
   {
    "duration": 9,
    "start_time": "2023-08-20T16:52:25.557Z"
   },
   {
    "duration": 11,
    "start_time": "2023-08-20T16:52:36.972Z"
   },
   {
    "duration": 112,
    "start_time": "2023-08-20T16:52:37.164Z"
   },
   {
    "duration": 128,
    "start_time": "2023-08-20T16:52:37.460Z"
   },
   {
    "duration": 171,
    "start_time": "2023-08-20T16:52:37.884Z"
   },
   {
    "duration": 125,
    "start_time": "2023-08-20T16:52:38.204Z"
   },
   {
    "duration": 11,
    "start_time": "2023-08-20T16:52:39.076Z"
   },
   {
    "duration": 12,
    "start_time": "2023-08-20T16:52:39.252Z"
   },
   {
    "duration": 103,
    "start_time": "2023-08-20T16:52:39.596Z"
   },
   {
    "duration": 114,
    "start_time": "2023-08-20T16:52:39.924Z"
   },
   {
    "duration": 103,
    "start_time": "2023-08-20T16:52:40.108Z"
   },
   {
    "duration": 112,
    "start_time": "2023-08-20T16:52:40.292Z"
   },
   {
    "duration": 120,
    "start_time": "2023-08-20T16:52:40.460Z"
   },
   {
    "duration": 103,
    "start_time": "2023-08-20T16:52:40.972Z"
   },
   {
    "duration": 114,
    "start_time": "2023-08-20T16:52:41.148Z"
   },
   {
    "duration": 7,
    "start_time": "2023-08-20T16:52:42.036Z"
   },
   {
    "duration": 12,
    "start_time": "2023-08-20T16:52:42.244Z"
   },
   {
    "duration": 108,
    "start_time": "2023-08-20T16:52:42.867Z"
   },
   {
    "duration": 44,
    "start_time": "2023-08-20T19:31:37.032Z"
   },
   {
    "duration": 1315,
    "start_time": "2023-08-20T19:31:47.335Z"
   },
   {
    "duration": 376,
    "start_time": "2023-08-20T19:31:48.653Z"
   },
   {
    "duration": 13,
    "start_time": "2023-08-20T19:31:49.030Z"
   },
   {
    "duration": 13,
    "start_time": "2023-08-20T19:31:49.044Z"
   },
   {
    "duration": 13,
    "start_time": "2023-08-20T19:31:49.059Z"
   },
   {
    "duration": 150,
    "start_time": "2023-08-20T19:31:49.074Z"
   },
   {
    "duration": 118,
    "start_time": "2023-08-20T19:31:49.226Z"
   },
   {
    "duration": 13,
    "start_time": "2023-08-20T19:31:49.349Z"
   },
   {
    "duration": 227,
    "start_time": "2023-08-20T19:31:49.363Z"
   },
   {
    "duration": 8,
    "start_time": "2023-08-20T19:31:49.592Z"
   },
   {
    "duration": 15,
    "start_time": "2023-08-20T19:31:49.601Z"
   },
   {
    "duration": 107,
    "start_time": "2023-08-20T19:31:49.617Z"
   },
   {
    "duration": 118,
    "start_time": "2023-08-20T19:31:49.725Z"
   },
   {
    "duration": 158,
    "start_time": "2023-08-20T19:31:49.851Z"
   },
   {
    "duration": 96,
    "start_time": "2023-08-20T19:31:50.010Z"
   },
   {
    "duration": 10,
    "start_time": "2023-08-20T19:31:50.107Z"
   },
   {
    "duration": 30,
    "start_time": "2023-08-20T19:31:50.118Z"
   },
   {
    "duration": 99,
    "start_time": "2023-08-20T19:31:50.149Z"
   },
   {
    "duration": 90,
    "start_time": "2023-08-20T19:31:50.249Z"
   },
   {
    "duration": 87,
    "start_time": "2023-08-20T19:31:50.350Z"
   },
   {
    "duration": 115,
    "start_time": "2023-08-20T19:31:50.438Z"
   },
   {
    "duration": 99,
    "start_time": "2023-08-20T19:31:50.554Z"
   },
   {
    "duration": 96,
    "start_time": "2023-08-20T19:31:50.655Z"
   },
   {
    "duration": 97,
    "start_time": "2023-08-20T19:31:50.752Z"
   },
   {
    "duration": 6,
    "start_time": "2023-08-20T19:31:50.851Z"
   },
   {
    "duration": 21,
    "start_time": "2023-08-20T19:31:50.858Z"
   },
   {
    "duration": 102,
    "start_time": "2023-08-20T19:31:50.880Z"
   },
   {
    "duration": 4,
    "start_time": "2023-08-20T19:31:50.984Z"
   },
   {
    "duration": 10,
    "start_time": "2023-08-20T19:32:14.543Z"
   },
   {
    "duration": 2,
    "start_time": "2023-08-20T19:37:05.603Z"
   },
   {
    "duration": 6,
    "start_time": "2023-08-20T19:44:04.091Z"
   },
   {
    "duration": 13,
    "start_time": "2023-08-20T19:44:07.800Z"
   },
   {
    "duration": 3,
    "start_time": "2023-08-20T19:44:16.346Z"
   },
   {
    "duration": 11,
    "start_time": "2023-08-20T19:44:19.483Z"
   },
   {
    "duration": 12,
    "start_time": "2023-08-20T19:48:11.631Z"
   },
   {
    "duration": 5,
    "start_time": "2023-08-20T20:11:53.551Z"
   },
   {
    "duration": 11,
    "start_time": "2023-08-20T20:11:57.605Z"
   },
   {
    "duration": 16,
    "start_time": "2023-08-20T20:41:15.613Z"
   },
   {
    "duration": 74,
    "start_time": "2023-08-20T20:41:47.677Z"
   },
   {
    "duration": 6,
    "start_time": "2023-08-20T20:49:21.467Z"
   },
   {
    "duration": 11,
    "start_time": "2023-08-20T20:49:29.543Z"
   },
   {
    "duration": 154,
    "start_time": "2023-08-20T20:55:01.694Z"
   },
   {
    "duration": 8,
    "start_time": "2023-08-20T20:55:54.548Z"
   },
   {
    "duration": 11,
    "start_time": "2023-08-20T20:56:04.975Z"
   },
   {
    "duration": 11,
    "start_time": "2023-08-20T20:56:10.909Z"
   },
   {
    "duration": 8,
    "start_time": "2023-08-20T20:56:46.810Z"
   },
   {
    "duration": 5,
    "start_time": "2023-08-20T20:56:57.244Z"
   },
   {
    "duration": 10,
    "start_time": "2023-08-20T20:56:58.811Z"
   },
   {
    "duration": 3,
    "start_time": "2023-08-20T20:57:09.600Z"
   },
   {
    "duration": 280,
    "start_time": "2023-08-20T20:57:09.605Z"
   },
   {
    "duration": 10,
    "start_time": "2023-08-20T20:57:09.887Z"
   },
   {
    "duration": 12,
    "start_time": "2023-08-20T20:57:09.898Z"
   },
   {
    "duration": 78,
    "start_time": "2023-08-20T20:57:09.911Z"
   },
   {
    "duration": 130,
    "start_time": "2023-08-20T20:57:09.991Z"
   },
   {
    "duration": 122,
    "start_time": "2023-08-20T20:57:10.123Z"
   },
   {
    "duration": 12,
    "start_time": "2023-08-20T20:57:10.248Z"
   },
   {
    "duration": 255,
    "start_time": "2023-08-20T20:57:10.264Z"
   },
   {
    "duration": 8,
    "start_time": "2023-08-20T20:57:10.521Z"
   },
   {
    "duration": 11,
    "start_time": "2023-08-20T20:57:10.530Z"
   },
   {
    "duration": 92,
    "start_time": "2023-08-20T20:57:10.549Z"
   },
   {
    "duration": 109,
    "start_time": "2023-08-20T20:57:10.649Z"
   },
   {
    "duration": 103,
    "start_time": "2023-08-20T20:57:10.760Z"
   },
   {
    "duration": 100,
    "start_time": "2023-08-20T20:57:10.865Z"
   },
   {
    "duration": 10,
    "start_time": "2023-08-20T20:57:10.967Z"
   },
   {
    "duration": 20,
    "start_time": "2023-08-20T20:57:10.979Z"
   },
   {
    "duration": 105,
    "start_time": "2023-08-20T20:57:11.001Z"
   },
   {
    "duration": 104,
    "start_time": "2023-08-20T20:57:11.107Z"
   },
   {
    "duration": 96,
    "start_time": "2023-08-20T20:57:11.212Z"
   },
   {
    "duration": 307,
    "start_time": "2023-08-20T20:57:11.310Z"
   },
   {
    "duration": 105,
    "start_time": "2023-08-20T20:57:11.618Z"
   },
   {
    "duration": 91,
    "start_time": "2023-08-20T20:57:11.724Z"
   },
   {
    "duration": 107,
    "start_time": "2023-08-20T20:57:11.818Z"
   },
   {
    "duration": 6,
    "start_time": "2023-08-20T20:57:11.927Z"
   },
   {
    "duration": 21,
    "start_time": "2023-08-20T20:57:11.935Z"
   },
   {
    "duration": 106,
    "start_time": "2023-08-20T20:57:11.958Z"
   },
   {
    "duration": 4,
    "start_time": "2023-08-20T20:57:12.066Z"
   },
   {
    "duration": 16,
    "start_time": "2023-08-20T20:57:12.071Z"
   },
   {
    "duration": 3,
    "start_time": "2023-08-20T20:57:12.088Z"
   },
   {
    "duration": 8,
    "start_time": "2023-08-20T20:57:12.092Z"
   },
   {
    "duration": 14,
    "start_time": "2023-08-20T20:57:12.101Z"
   },
   {
    "duration": 4,
    "start_time": "2023-08-20T20:57:12.116Z"
   },
   {
    "duration": 5,
    "start_time": "2023-08-20T20:57:12.121Z"
   },
   {
    "duration": 30,
    "start_time": "2023-08-20T20:57:12.127Z"
   },
   {
    "duration": 40,
    "start_time": "2023-08-20T21:09:08.028Z"
   },
   {
    "duration": 5,
    "start_time": "2023-08-20T21:14:59.312Z"
   },
   {
    "duration": 21,
    "start_time": "2023-08-20T21:15:52.562Z"
   },
   {
    "duration": 14,
    "start_time": "2023-08-20T21:25:21.885Z"
   },
   {
    "duration": 9,
    "start_time": "2023-08-20T21:34:16.367Z"
   },
   {
    "duration": 16,
    "start_time": "2023-08-20T21:34:55.417Z"
   },
   {
    "duration": 141,
    "start_time": "2023-08-20T21:37:28.446Z"
   },
   {
    "duration": 1264,
    "start_time": "2023-08-21T07:16:01.585Z"
   },
   {
    "duration": 317,
    "start_time": "2023-08-21T07:16:02.850Z"
   },
   {
    "duration": 15,
    "start_time": "2023-08-21T07:16:03.168Z"
   },
   {
    "duration": 22,
    "start_time": "2023-08-21T07:16:03.185Z"
   },
   {
    "duration": 35,
    "start_time": "2023-08-21T07:16:03.209Z"
   },
   {
    "duration": 160,
    "start_time": "2023-08-21T07:16:03.246Z"
   },
   {
    "duration": 125,
    "start_time": "2023-08-21T07:16:03.408Z"
   },
   {
    "duration": 13,
    "start_time": "2023-08-21T07:16:03.534Z"
   },
   {
    "duration": 243,
    "start_time": "2023-08-21T07:16:03.548Z"
   },
   {
    "duration": 8,
    "start_time": "2023-08-21T07:16:03.794Z"
   },
   {
    "duration": 14,
    "start_time": "2023-08-21T07:16:03.803Z"
   },
   {
    "duration": 108,
    "start_time": "2023-08-21T07:16:03.818Z"
   },
   {
    "duration": 129,
    "start_time": "2023-08-21T07:16:03.933Z"
   },
   {
    "duration": 172,
    "start_time": "2023-08-21T07:16:04.063Z"
   },
   {
    "duration": 88,
    "start_time": "2023-08-21T07:16:04.236Z"
   },
   {
    "duration": 9,
    "start_time": "2023-08-21T07:16:04.333Z"
   },
   {
    "duration": 17,
    "start_time": "2023-08-21T07:16:04.343Z"
   },
   {
    "duration": 125,
    "start_time": "2023-08-21T07:16:04.361Z"
   },
   {
    "duration": 136,
    "start_time": "2023-08-21T07:16:04.489Z"
   },
   {
    "duration": 100,
    "start_time": "2023-08-21T07:16:04.627Z"
   },
   {
    "duration": 103,
    "start_time": "2023-08-21T07:16:04.733Z"
   },
   {
    "duration": 116,
    "start_time": "2023-08-21T07:16:04.837Z"
   },
   {
    "duration": 102,
    "start_time": "2023-08-21T07:16:04.955Z"
   },
   {
    "duration": 104,
    "start_time": "2023-08-21T07:16:05.058Z"
   },
   {
    "duration": 6,
    "start_time": "2023-08-21T07:16:05.164Z"
   },
   {
    "duration": 22,
    "start_time": "2023-08-21T07:16:05.171Z"
   },
   {
    "duration": 126,
    "start_time": "2023-08-21T07:16:05.195Z"
   },
   {
    "duration": 10,
    "start_time": "2023-08-21T07:16:05.324Z"
   },
   {
    "duration": 24,
    "start_time": "2023-08-21T07:16:05.335Z"
   },
   {
    "duration": 15,
    "start_time": "2023-08-21T07:16:05.360Z"
   },
   {
    "duration": 31,
    "start_time": "2023-08-21T07:16:05.377Z"
   },
   {
    "duration": 28,
    "start_time": "2023-08-21T07:16:05.410Z"
   },
   {
    "duration": 11,
    "start_time": "2023-08-21T07:16:05.440Z"
   },
   {
    "duration": 12,
    "start_time": "2023-08-21T07:16:05.453Z"
   },
   {
    "duration": 32,
    "start_time": "2023-08-21T07:16:05.466Z"
   },
   {
    "duration": 28,
    "start_time": "2023-08-21T07:16:05.500Z"
   },
   {
    "duration": 4,
    "start_time": "2023-08-21T07:16:05.530Z"
   },
   {
    "duration": 22,
    "start_time": "2023-08-21T07:16:05.535Z"
   },
   {
    "duration": 15,
    "start_time": "2023-08-21T07:16:05.558Z"
   },
   {
    "duration": 34,
    "start_time": "2023-08-21T07:16:05.575Z"
   },
   {
    "duration": 193,
    "start_time": "2023-08-21T07:16:05.611Z"
   },
   {
    "duration": 341,
    "start_time": "2023-08-21T07:24:03.470Z"
   },
   {
    "duration": 922,
    "start_time": "2023-08-21T07:26:00.804Z"
   },
   {
    "duration": 228,
    "start_time": "2023-08-21T07:26:27.801Z"
   },
   {
    "duration": 128,
    "start_time": "2023-08-21T07:26:49.045Z"
   },
   {
    "duration": 148,
    "start_time": "2023-08-21T07:26:53.164Z"
   },
   {
    "duration": 3,
    "start_time": "2023-08-21T07:27:07.833Z"
   },
   {
    "duration": 146,
    "start_time": "2023-08-21T07:27:20.315Z"
   },
   {
    "duration": 144,
    "start_time": "2023-08-21T07:27:41.399Z"
   },
   {
    "duration": 148,
    "start_time": "2023-08-21T07:27:46.698Z"
   },
   {
    "duration": 151,
    "start_time": "2023-08-21T07:27:51.338Z"
   },
   {
    "duration": 150,
    "start_time": "2023-08-21T07:36:11.310Z"
   },
   {
    "duration": 158,
    "start_time": "2023-08-21T07:36:52.061Z"
   },
   {
    "duration": 139,
    "start_time": "2023-08-21T07:38:16.497Z"
   },
   {
    "duration": 238,
    "start_time": "2023-08-21T07:39:39.085Z"
   },
   {
    "duration": 137,
    "start_time": "2023-08-21T07:52:40.320Z"
   },
   {
    "duration": 138,
    "start_time": "2023-08-21T07:55:47.361Z"
   },
   {
    "duration": 151,
    "start_time": "2023-08-21T07:56:03.655Z"
   },
   {
    "duration": 174,
    "start_time": "2023-08-21T07:56:37.971Z"
   },
   {
    "duration": 161,
    "start_time": "2023-08-21T07:56:51.233Z"
   },
   {
    "duration": 149,
    "start_time": "2023-08-21T07:56:55.749Z"
   },
   {
    "duration": 164,
    "start_time": "2023-08-21T07:57:31.013Z"
   },
   {
    "duration": 159,
    "start_time": "2023-08-21T08:00:57.513Z"
   },
   {
    "duration": 150,
    "start_time": "2023-08-21T08:02:20.336Z"
   },
   {
    "duration": 10,
    "start_time": "2023-08-21T08:09:57.355Z"
   },
   {
    "duration": 10,
    "start_time": "2023-08-21T08:11:55.212Z"
   },
   {
    "duration": 14,
    "start_time": "2023-08-21T08:28:53.016Z"
   },
   {
    "duration": 5,
    "start_time": "2023-08-21T08:29:15.458Z"
   },
   {
    "duration": 36,
    "start_time": "2023-08-21T08:33:36.587Z"
   },
   {
    "duration": 17,
    "start_time": "2023-08-21T08:33:42.597Z"
   },
   {
    "duration": 3,
    "start_time": "2023-08-21T08:39:50.531Z"
   },
   {
    "duration": 2,
    "start_time": "2023-08-21T08:39:55.396Z"
   },
   {
    "duration": 13,
    "start_time": "2023-08-21T08:40:18.649Z"
   },
   {
    "duration": 4,
    "start_time": "2023-08-21T08:41:33.149Z"
   },
   {
    "duration": 3,
    "start_time": "2023-08-21T08:42:08.334Z"
   },
   {
    "duration": 17,
    "start_time": "2023-08-21T08:42:49.782Z"
   },
   {
    "duration": 2,
    "start_time": "2023-08-21T08:43:00.753Z"
   },
   {
    "duration": 6,
    "start_time": "2023-08-21T08:43:37.522Z"
   },
   {
    "duration": 5,
    "start_time": "2023-08-21T08:43:43.181Z"
   },
   {
    "duration": 1234,
    "start_time": "2023-08-22T07:26:08.596Z"
   },
   {
    "duration": 372,
    "start_time": "2023-08-22T07:26:09.832Z"
   },
   {
    "duration": 13,
    "start_time": "2023-08-22T07:26:10.206Z"
   },
   {
    "duration": 11,
    "start_time": "2023-08-22T07:26:10.221Z"
   },
   {
    "duration": 14,
    "start_time": "2023-08-22T07:26:10.234Z"
   },
   {
    "duration": 142,
    "start_time": "2023-08-22T07:26:10.250Z"
   },
   {
    "duration": 130,
    "start_time": "2023-08-22T07:26:10.394Z"
   },
   {
    "duration": 13,
    "start_time": "2023-08-22T07:26:10.525Z"
   },
   {
    "duration": 232,
    "start_time": "2023-08-22T07:26:10.549Z"
   },
   {
    "duration": 8,
    "start_time": "2023-08-22T07:26:10.784Z"
   },
   {
    "duration": 11,
    "start_time": "2023-08-22T07:26:10.793Z"
   },
   {
    "duration": 115,
    "start_time": "2023-08-22T07:26:10.806Z"
   },
   {
    "duration": 118,
    "start_time": "2023-08-22T07:26:10.922Z"
   },
   {
    "duration": 166,
    "start_time": "2023-08-22T07:26:11.042Z"
   },
   {
    "duration": 92,
    "start_time": "2023-08-22T07:26:11.209Z"
   },
   {
    "duration": 9,
    "start_time": "2023-08-22T07:26:11.303Z"
   },
   {
    "duration": 13,
    "start_time": "2023-08-22T07:26:11.314Z"
   },
   {
    "duration": 102,
    "start_time": "2023-08-22T07:26:11.328Z"
   },
   {
    "duration": 102,
    "start_time": "2023-08-22T07:26:11.431Z"
   },
   {
    "duration": 95,
    "start_time": "2023-08-22T07:26:11.535Z"
   },
   {
    "duration": 98,
    "start_time": "2023-08-22T07:26:11.632Z"
   },
   {
    "duration": 101,
    "start_time": "2023-08-22T07:26:11.732Z"
   },
   {
    "duration": 95,
    "start_time": "2023-08-22T07:26:11.834Z"
   },
   {
    "duration": 100,
    "start_time": "2023-08-22T07:26:11.930Z"
   },
   {
    "duration": 7,
    "start_time": "2023-08-22T07:26:12.031Z"
   },
   {
    "duration": 18,
    "start_time": "2023-08-22T07:26:12.039Z"
   },
   {
    "duration": 112,
    "start_time": "2023-08-22T07:26:12.058Z"
   },
   {
    "duration": 4,
    "start_time": "2023-08-22T07:26:12.172Z"
   },
   {
    "duration": 17,
    "start_time": "2023-08-22T07:26:12.178Z"
   },
   {
    "duration": 4,
    "start_time": "2023-08-22T07:26:12.196Z"
   },
   {
    "duration": 19,
    "start_time": "2023-08-22T07:26:12.201Z"
   },
   {
    "duration": 12,
    "start_time": "2023-08-22T07:26:12.222Z"
   },
   {
    "duration": 5,
    "start_time": "2023-08-22T07:26:12.235Z"
   },
   {
    "duration": 8,
    "start_time": "2023-08-22T07:26:12.241Z"
   },
   {
    "duration": 23,
    "start_time": "2023-08-22T07:26:12.251Z"
   },
   {
    "duration": 27,
    "start_time": "2023-08-22T07:26:12.276Z"
   },
   {
    "duration": 5,
    "start_time": "2023-08-22T07:26:12.305Z"
   },
   {
    "duration": 21,
    "start_time": "2023-08-22T07:26:12.311Z"
   },
   {
    "duration": 31,
    "start_time": "2023-08-22T07:26:12.334Z"
   },
   {
    "duration": 11,
    "start_time": "2023-08-22T07:26:12.366Z"
   },
   {
    "duration": 156,
    "start_time": "2023-08-22T07:26:12.379Z"
   },
   {
    "duration": 233,
    "start_time": "2023-08-22T07:26:12.537Z"
   },
   {
    "duration": 141,
    "start_time": "2023-08-22T07:26:12.772Z"
   },
   {
    "duration": 153,
    "start_time": "2023-08-22T07:26:12.915Z"
   },
   {
    "duration": 137,
    "start_time": "2023-08-22T07:26:13.070Z"
   },
   {
    "duration": 165,
    "start_time": "2023-08-22T07:26:13.208Z"
   },
   {
    "duration": 131,
    "start_time": "2023-08-22T07:26:13.374Z"
   },
   {
    "duration": 9,
    "start_time": "2023-08-22T07:26:13.507Z"
   },
   {
    "duration": 4,
    "start_time": "2023-08-22T07:26:13.517Z"
   },
   {
    "duration": 4,
    "start_time": "2023-08-22T07:26:13.522Z"
   },
   {
    "duration": 5,
    "start_time": "2023-08-22T07:26:56.499Z"
   },
   {
    "duration": 278,
    "start_time": "2023-08-22T07:27:51.877Z"
   },
   {
    "duration": 3,
    "start_time": "2023-08-22T07:29:04.279Z"
   },
   {
    "duration": 10,
    "start_time": "2023-08-22T07:30:13.688Z"
   },
   {
    "duration": 19,
    "start_time": "2023-08-22T07:32:49.199Z"
   },
   {
    "duration": 100,
    "start_time": "2023-08-22T07:36:38.039Z"
   },
   {
    "duration": 14,
    "start_time": "2023-08-22T07:37:24.011Z"
   },
   {
    "duration": 17,
    "start_time": "2023-08-22T07:37:58.422Z"
   },
   {
    "duration": 4,
    "start_time": "2023-08-22T07:38:18.224Z"
   },
   {
    "duration": 15,
    "start_time": "2023-08-22T07:41:16.222Z"
   },
   {
    "duration": 14,
    "start_time": "2023-08-22T07:41:34.048Z"
   },
   {
    "duration": 14,
    "start_time": "2023-08-22T07:41:50.535Z"
   },
   {
    "duration": 31,
    "start_time": "2023-08-22T07:42:01.608Z"
   },
   {
    "duration": 23,
    "start_time": "2023-08-22T07:42:12.281Z"
   },
   {
    "duration": 12,
    "start_time": "2023-08-22T07:42:19.492Z"
   },
   {
    "duration": 5,
    "start_time": "2023-08-22T07:58:30.526Z"
   },
   {
    "duration": 4,
    "start_time": "2023-08-22T07:58:31.549Z"
   },
   {
    "duration": 11,
    "start_time": "2023-08-22T07:58:32.487Z"
   },
   {
    "duration": 102,
    "start_time": "2023-08-22T07:58:33.439Z"
   },
   {
    "duration": 4,
    "start_time": "2023-08-22T07:58:35.756Z"
   },
   {
    "duration": 49,
    "start_time": "2023-08-22T07:58:37.581Z"
   },
   {
    "duration": 44,
    "start_time": "2023-08-22T07:58:52.541Z"
   },
   {
    "duration": 141,
    "start_time": "2023-08-22T08:06:13.245Z"
   },
   {
    "duration": 150,
    "start_time": "2023-08-22T08:06:25.229Z"
   },
   {
    "duration": 131,
    "start_time": "2023-08-22T08:07:05.325Z"
   },
   {
    "duration": 135,
    "start_time": "2023-08-22T08:07:20.109Z"
   },
   {
    "duration": 130,
    "start_time": "2023-08-22T08:07:55.256Z"
   },
   {
    "duration": 4,
    "start_time": "2023-08-22T08:10:57.885Z"
   },
   {
    "duration": 5,
    "start_time": "2023-08-22T08:11:05.472Z"
   },
   {
    "duration": 4,
    "start_time": "2023-08-22T08:12:23.758Z"
   },
   {
    "duration": 9,
    "start_time": "2023-08-22T08:12:32.885Z"
   },
   {
    "duration": 3,
    "start_time": "2023-08-22T08:13:15.540Z"
   },
   {
    "duration": 8,
    "start_time": "2023-08-22T08:13:55.089Z"
   },
   {
    "duration": 15,
    "start_time": "2023-08-22T08:14:11.022Z"
   },
   {
    "duration": 128,
    "start_time": "2023-08-22T08:14:20.767Z"
   },
   {
    "duration": 10,
    "start_time": "2023-08-22T08:17:32.057Z"
   },
   {
    "duration": 150,
    "start_time": "2023-08-22T08:17:56.251Z"
   },
   {
    "duration": 127,
    "start_time": "2023-08-22T08:18:39.201Z"
   },
   {
    "duration": 17,
    "start_time": "2023-08-22T08:22:53.837Z"
   },
   {
    "duration": 3,
    "start_time": "2023-08-22T08:23:29.304Z"
   },
   {
    "duration": 37,
    "start_time": "2023-08-22T08:23:32.358Z"
   },
   {
    "duration": 24,
    "start_time": "2023-08-22T08:23:34.678Z"
   },
   {
    "duration": 32,
    "start_time": "2023-08-22T08:23:51.932Z"
   },
   {
    "duration": 9,
    "start_time": "2023-08-22T08:24:17.110Z"
   },
   {
    "duration": 17,
    "start_time": "2023-08-22T08:24:18.881Z"
   },
   {
    "duration": 43,
    "start_time": "2023-08-22T08:24:22.681Z"
   },
   {
    "duration": 4,
    "start_time": "2023-08-22T08:24:31.102Z"
   },
   {
    "duration": 18,
    "start_time": "2023-08-22T08:24:33.395Z"
   },
   {
    "duration": 16,
    "start_time": "2023-08-22T08:26:31.691Z"
   },
   {
    "duration": 165,
    "start_time": "2023-08-22T08:27:08.357Z"
   },
   {
    "duration": 3,
    "start_time": "2023-08-22T08:32:59.592Z"
   },
   {
    "duration": 9,
    "start_time": "2023-08-22T08:33:02.085Z"
   },
   {
    "duration": 1471,
    "start_time": "2023-08-22T08:33:15.509Z"
   },
   {
    "duration": 1663,
    "start_time": "2023-08-22T08:33:29.479Z"
   },
   {
    "duration": 4,
    "start_time": "2023-08-22T08:33:49.312Z"
   },
   {
    "duration": 3,
    "start_time": "2023-08-22T08:33:50.621Z"
   },
   {
    "duration": 9,
    "start_time": "2023-08-22T08:33:51.768Z"
   },
   {
    "duration": 1524,
    "start_time": "2023-08-22T08:33:53.058Z"
   },
   {
    "duration": 1623,
    "start_time": "2023-08-22T08:34:12.539Z"
   },
   {
    "duration": 16,
    "start_time": "2023-08-22T08:34:38.082Z"
   },
   {
    "duration": 5,
    "start_time": "2023-08-22T08:34:47.245Z"
   },
   {
    "duration": 3,
    "start_time": "2023-08-22T08:34:48.577Z"
   },
   {
    "duration": 5,
    "start_time": "2023-08-22T08:34:49.883Z"
   },
   {
    "duration": 3,
    "start_time": "2023-08-22T08:34:50.627Z"
   },
   {
    "duration": 9,
    "start_time": "2023-08-22T08:34:53.634Z"
   },
   {
    "duration": 14,
    "start_time": "2023-08-22T08:34:55.078Z"
   },
   {
    "duration": 19,
    "start_time": "2023-08-22T08:35:10.120Z"
   },
   {
    "duration": 43,
    "start_time": "2023-08-22T08:35:13.050Z"
   },
   {
    "duration": 12,
    "start_time": "2023-08-22T08:35:15.686Z"
   },
   {
    "duration": 4,
    "start_time": "2023-08-22T08:35:43.579Z"
   },
   {
    "duration": 5,
    "start_time": "2023-08-22T08:35:52.302Z"
   },
   {
    "duration": 147,
    "start_time": "2023-08-22T08:36:52.531Z"
   },
   {
    "duration": 14,
    "start_time": "2023-08-22T08:38:13.208Z"
   },
   {
    "duration": 13,
    "start_time": "2023-08-22T08:38:18.445Z"
   },
   {
    "duration": 14,
    "start_time": "2023-08-22T08:38:32.567Z"
   },
   {
    "duration": 12,
    "start_time": "2023-08-22T08:38:40.652Z"
   },
   {
    "duration": 4,
    "start_time": "2023-08-22T08:39:03.920Z"
   },
   {
    "duration": 5,
    "start_time": "2023-08-22T08:39:12.056Z"
   },
   {
    "duration": 15,
    "start_time": "2023-08-22T08:40:24.681Z"
   },
   {
    "duration": 17,
    "start_time": "2023-08-22T08:41:35.371Z"
   },
   {
    "duration": 45,
    "start_time": "2023-08-22T08:41:38.543Z"
   },
   {
    "duration": 11,
    "start_time": "2023-08-22T08:41:41.635Z"
   },
   {
    "duration": 12,
    "start_time": "2023-08-22T08:41:47.915Z"
   },
   {
    "duration": 20,
    "start_time": "2023-08-22T08:42:37.136Z"
   },
   {
    "duration": 17,
    "start_time": "2023-08-22T08:44:13.738Z"
   },
   {
    "duration": 36,
    "start_time": "2023-08-22T08:44:18.217Z"
   },
   {
    "duration": 19501,
    "start_time": "2023-08-22T08:44:29.053Z"
   },
   {
    "duration": 16436,
    "start_time": "2023-08-22T08:45:09.322Z"
   },
   {
    "duration": 12760,
    "start_time": "2023-08-22T08:46:27.093Z"
   },
   {
    "duration": 12970,
    "start_time": "2023-08-22T08:46:42.481Z"
   },
   {
    "duration": 9,
    "start_time": "2023-08-22T08:46:58.277Z"
   },
   {
    "duration": 9,
    "start_time": "2023-08-22T08:47:41.291Z"
   },
   {
    "duration": 13469,
    "start_time": "2023-08-22T08:47:43.582Z"
   },
   {
    "duration": 5,
    "start_time": "2023-08-22T08:48:07.265Z"
   },
   {
    "duration": 46,
    "start_time": "2023-08-22T08:48:48.348Z"
   },
   {
    "duration": 13,
    "start_time": "2023-08-22T08:48:52.425Z"
   },
   {
    "duration": 44,
    "start_time": "2023-08-22T08:49:07.826Z"
   },
   {
    "duration": 11,
    "start_time": "2023-08-22T08:49:09.951Z"
   },
   {
    "duration": 4,
    "start_time": "2023-08-22T08:49:14.925Z"
   },
   {
    "duration": 28,
    "start_time": "2023-08-22T08:49:24.485Z"
   },
   {
    "duration": 3,
    "start_time": "2023-08-22T08:49:35.646Z"
   },
   {
    "duration": 25,
    "start_time": "2023-08-22T08:49:40.090Z"
   },
   {
    "duration": 36,
    "start_time": "2023-08-22T08:50:03.115Z"
   },
   {
    "duration": 14,
    "start_time": "2023-08-22T08:50:08.439Z"
   },
   {
    "duration": 4,
    "start_time": "2023-08-22T08:50:19.669Z"
   },
   {
    "duration": 2,
    "start_time": "2023-08-22T08:50:20.818Z"
   },
   {
    "duration": 4,
    "start_time": "2023-08-22T08:50:22.198Z"
   },
   {
    "duration": 4,
    "start_time": "2023-08-22T08:50:23.171Z"
   },
   {
    "duration": 4,
    "start_time": "2023-08-22T08:50:24.005Z"
   },
   {
    "duration": 9,
    "start_time": "2023-08-22T08:50:27.541Z"
   },
   {
    "duration": 20,
    "start_time": "2023-08-22T08:50:29.340Z"
   },
   {
    "duration": 4,
    "start_time": "2023-08-22T08:50:30.581Z"
   },
   {
    "duration": 45,
    "start_time": "2023-08-22T08:50:32.702Z"
   },
   {
    "duration": 13,
    "start_time": "2023-08-22T08:50:33.909Z"
   },
   {
    "duration": 129,
    "start_time": "2023-08-22T08:50:35.342Z"
   },
   {
    "duration": 4,
    "start_time": "2023-08-22T08:50:37.305Z"
   },
   {
    "duration": 36,
    "start_time": "2023-08-22T08:50:40.628Z"
   },
   {
    "duration": 11160,
    "start_time": "2023-08-22T08:50:42.595Z"
   },
   {
    "duration": 5,
    "start_time": "2023-08-22T08:51:08.146Z"
   },
   {
    "duration": 10686,
    "start_time": "2023-08-22T08:56:00.277Z"
   },
   {
    "duration": 5,
    "start_time": "2023-08-22T08:56:13.485Z"
   },
   {
    "duration": 5,
    "start_time": "2023-08-22T08:56:58.508Z"
   },
   {
    "duration": 3,
    "start_time": "2023-08-22T08:58:23.014Z"
   },
   {
    "duration": 12,
    "start_time": "2023-08-22T08:58:56.642Z"
   },
   {
    "duration": 86,
    "start_time": "2023-08-22T08:59:22.584Z"
   },
   {
    "duration": 17482,
    "start_time": "2023-08-22T08:59:57.970Z"
   },
   {
    "duration": 6,
    "start_time": "2023-08-22T09:00:17.785Z"
   },
   {
    "duration": 94,
    "start_time": "2023-08-22T09:01:04.918Z"
   },
   {
    "duration": 118,
    "start_time": "2023-08-22T09:01:38.708Z"
   },
   {
    "duration": 38163,
    "start_time": "2023-08-22T09:05:16.880Z"
   },
   {
    "duration": 121,
    "start_time": "2023-08-22T09:06:09.173Z"
   },
   {
    "duration": 37379,
    "start_time": "2023-08-22T09:07:30.985Z"
   },
   {
    "duration": 119,
    "start_time": "2023-08-22T09:08:27.167Z"
   },
   {
    "duration": 12401,
    "start_time": "2023-08-22T09:13:09.654Z"
   },
   {
    "duration": 166,
    "start_time": "2023-08-22T09:13:25.936Z"
   },
   {
    "duration": 37953,
    "start_time": "2023-08-22T09:13:45.811Z"
   },
   {
    "duration": 124,
    "start_time": "2023-08-22T09:14:26.918Z"
   },
   {
    "duration": 37043,
    "start_time": "2023-08-22T09:14:45.530Z"
   },
   {
    "duration": 133,
    "start_time": "2023-08-22T09:15:33.203Z"
   },
   {
    "duration": 4,
    "start_time": "2023-08-22T09:17:14.680Z"
   },
   {
    "duration": 4,
    "start_time": "2023-08-22T09:18:09.889Z"
   },
   {
    "duration": 4,
    "start_time": "2023-08-22T09:19:35.572Z"
   },
   {
    "duration": 114,
    "start_time": "2023-08-22T09:19:48.844Z"
   },
   {
    "duration": 117,
    "start_time": "2023-08-22T09:21:06.014Z"
   },
   {
    "duration": 4,
    "start_time": "2023-08-22T09:22:02.415Z"
   },
   {
    "duration": 8,
    "start_time": "2023-08-22T09:22:09.566Z"
   },
   {
    "duration": 12,
    "start_time": "2023-08-22T09:22:59.532Z"
   },
   {
    "duration": 11,
    "start_time": "2023-08-22T09:23:09.553Z"
   },
   {
    "duration": 8,
    "start_time": "2023-08-22T09:23:15.100Z"
   },
   {
    "duration": 161,
    "start_time": "2023-08-22T09:27:12.579Z"
   },
   {
    "duration": 1308,
    "start_time": "2023-08-22T09:27:38.900Z"
   },
   {
    "duration": 1417,
    "start_time": "2023-08-22T09:27:48.177Z"
   },
   {
    "duration": 119,
    "start_time": "2023-08-22T09:27:55.498Z"
   },
   {
    "duration": 1353,
    "start_time": "2023-08-22T19:42:17.756Z"
   },
   {
    "duration": 387,
    "start_time": "2023-08-22T19:42:19.111Z"
   },
   {
    "duration": 16,
    "start_time": "2023-08-22T19:42:19.500Z"
   },
   {
    "duration": 15,
    "start_time": "2023-08-22T19:42:19.518Z"
   },
   {
    "duration": 17,
    "start_time": "2023-08-22T19:42:19.535Z"
   },
   {
    "duration": 165,
    "start_time": "2023-08-22T19:42:19.553Z"
   },
   {
    "duration": 153,
    "start_time": "2023-08-22T19:42:19.720Z"
   },
   {
    "duration": 20,
    "start_time": "2023-08-22T19:42:19.874Z"
   },
   {
    "duration": 275,
    "start_time": "2023-08-22T19:42:19.895Z"
   },
   {
    "duration": 16,
    "start_time": "2023-08-22T19:42:20.172Z"
   },
   {
    "duration": 46,
    "start_time": "2023-08-22T19:42:20.190Z"
   },
   {
    "duration": 125,
    "start_time": "2023-08-22T19:42:20.238Z"
   },
   {
    "duration": 207,
    "start_time": "2023-08-22T19:42:20.365Z"
   },
   {
    "duration": 137,
    "start_time": "2023-08-22T19:42:20.575Z"
   },
   {
    "duration": 113,
    "start_time": "2023-08-22T19:42:20.714Z"
   },
   {
    "duration": 10,
    "start_time": "2023-08-22T19:42:20.829Z"
   },
   {
    "duration": 22,
    "start_time": "2023-08-22T19:42:20.840Z"
   },
   {
    "duration": 123,
    "start_time": "2023-08-22T19:42:20.864Z"
   },
   {
    "duration": 124,
    "start_time": "2023-08-22T19:42:20.989Z"
   },
   {
    "duration": 121,
    "start_time": "2023-08-22T19:42:21.114Z"
   },
   {
    "duration": 126,
    "start_time": "2023-08-22T19:42:21.237Z"
   },
   {
    "duration": 129,
    "start_time": "2023-08-22T19:42:21.365Z"
   },
   {
    "duration": 121,
    "start_time": "2023-08-22T19:42:21.495Z"
   },
   {
    "duration": 120,
    "start_time": "2023-08-22T19:42:21.618Z"
   },
   {
    "duration": 6,
    "start_time": "2023-08-22T19:42:21.740Z"
   },
   {
    "duration": 29,
    "start_time": "2023-08-22T19:42:21.748Z"
   },
   {
    "duration": 138,
    "start_time": "2023-08-22T19:42:21.779Z"
   },
   {
    "duration": 4,
    "start_time": "2023-08-22T19:42:21.919Z"
   },
   {
    "duration": 27,
    "start_time": "2023-08-22T19:42:21.924Z"
   },
   {
    "duration": 21,
    "start_time": "2023-08-22T19:42:21.953Z"
   },
   {
    "duration": 27,
    "start_time": "2023-08-22T19:42:21.975Z"
   },
   {
    "duration": 104,
    "start_time": "2023-08-22T19:42:22.004Z"
   },
   {
    "duration": 25,
    "start_time": "2023-08-22T19:42:22.110Z"
   },
   {
    "duration": 37,
    "start_time": "2023-08-22T19:42:22.137Z"
   },
   {
    "duration": 42,
    "start_time": "2023-08-22T19:42:22.175Z"
   },
   {
    "duration": 34,
    "start_time": "2023-08-22T19:42:22.219Z"
   },
   {
    "duration": 4,
    "start_time": "2023-08-22T19:42:22.255Z"
   },
   {
    "duration": 69,
    "start_time": "2023-08-22T19:42:22.261Z"
   },
   {
    "duration": 55,
    "start_time": "2023-08-22T19:42:22.332Z"
   },
   {
    "duration": 16,
    "start_time": "2023-08-22T19:42:22.388Z"
   },
   {
    "duration": 175,
    "start_time": "2023-08-22T19:42:22.408Z"
   },
   {
    "duration": 179,
    "start_time": "2023-08-22T19:42:22.586Z"
   },
   {
    "duration": 164,
    "start_time": "2023-08-22T19:42:22.767Z"
   },
   {
    "duration": 188,
    "start_time": "2023-08-22T19:42:22.933Z"
   },
   {
    "duration": 173,
    "start_time": "2023-08-22T19:42:23.123Z"
   },
   {
    "duration": 200,
    "start_time": "2023-08-22T19:42:23.297Z"
   },
   {
    "duration": 165,
    "start_time": "2023-08-22T19:42:23.499Z"
   },
   {
    "duration": 22,
    "start_time": "2023-08-22T19:42:23.666Z"
   },
   {
    "duration": 4,
    "start_time": "2023-08-22T19:42:23.690Z"
   },
   {
    "duration": 6,
    "start_time": "2023-08-22T19:42:23.696Z"
   },
   {
    "duration": 7,
    "start_time": "2023-08-22T19:42:23.703Z"
   },
   {
    "duration": 13,
    "start_time": "2023-08-22T19:42:23.711Z"
   },
   {
    "duration": 366,
    "start_time": "2023-08-22T19:42:26.578Z"
   },
   {
    "duration": 10,
    "start_time": "2023-08-22T19:42:33.437Z"
   },
   {
    "duration": 124,
    "start_time": "2023-08-22T19:43:01.630Z"
   },
   {
    "duration": 16,
    "start_time": "2023-08-22T19:43:26.307Z"
   },
   {
    "duration": 4,
    "start_time": "2023-08-22T19:43:27.677Z"
   },
   {
    "duration": 46,
    "start_time": "2023-08-22T19:43:32.715Z"
   },
   {
    "duration": 16,
    "start_time": "2023-08-22T19:43:35.845Z"
   },
   {
    "duration": 156,
    "start_time": "2023-08-22T19:43:39.557Z"
   },
   {
    "duration": 14029,
    "start_time": "2023-08-22T19:48:11.670Z"
   },
   {
    "duration": 12160,
    "start_time": "2023-08-22T19:48:43.337Z"
   },
   {
    "duration": 12247,
    "start_time": "2023-08-22T19:49:08.348Z"
   },
   {
    "duration": 36704,
    "start_time": "2023-08-22T19:50:54.436Z"
   },
   {
    "duration": 37085,
    "start_time": "2023-08-22T19:51:51.939Z"
   },
   {
    "duration": 29513,
    "start_time": "2023-08-22T19:52:41.555Z"
   },
   {
    "duration": 10,
    "start_time": "2023-08-22T19:53:24.081Z"
   },
   {
    "duration": 13,
    "start_time": "2023-08-22T19:54:52.610Z"
   },
   {
    "duration": 9,
    "start_time": "2023-08-22T19:56:08.772Z"
   },
   {
    "duration": 861,
    "start_time": "2023-08-22T19:56:48.914Z"
   },
   {
    "duration": 129,
    "start_time": "2023-08-22T19:56:53.453Z"
   },
   {
    "duration": 10,
    "start_time": "2023-08-22T21:30:41.999Z"
   },
   {
    "duration": 20,
    "start_time": "2023-08-22T21:31:08.776Z"
   },
   {
    "duration": 15,
    "start_time": "2023-08-22T21:34:35.248Z"
   },
   {
    "duration": 14,
    "start_time": "2023-08-22T21:34:41.795Z"
   },
   {
    "duration": 9,
    "start_time": "2023-08-22T21:34:58.575Z"
   },
   {
    "duration": 17,
    "start_time": "2023-08-22T21:35:25.071Z"
   },
   {
    "duration": 15,
    "start_time": "2023-08-22T21:35:41.734Z"
   },
   {
    "duration": 10,
    "start_time": "2023-08-22T21:36:25.957Z"
   },
   {
    "duration": 5,
    "start_time": "2023-08-22T21:36:50.612Z"
   },
   {
    "duration": 5,
    "start_time": "2023-08-22T21:38:02.791Z"
   },
   {
    "duration": 149,
    "start_time": "2023-08-22T21:38:18.547Z"
   },
   {
    "duration": 241,
    "start_time": "2023-08-22T21:39:39.540Z"
   },
   {
    "duration": 247,
    "start_time": "2023-08-22T21:39:55.757Z"
   },
   {
    "duration": 240,
    "start_time": "2023-08-22T21:40:47.914Z"
   },
   {
    "duration": 352,
    "start_time": "2023-08-22T21:44:50.566Z"
   },
   {
    "duration": 118,
    "start_time": "2023-08-22T22:03:17.176Z"
   },
   {
    "duration": 1504,
    "start_time": "2023-08-23T11:59:20.526Z"
   },
   {
    "duration": 367,
    "start_time": "2023-08-23T11:59:22.032Z"
   },
   {
    "duration": 19,
    "start_time": "2023-08-23T11:59:22.401Z"
   },
   {
    "duration": 15,
    "start_time": "2023-08-23T11:59:22.423Z"
   },
   {
    "duration": 17,
    "start_time": "2023-08-23T11:59:22.439Z"
   },
   {
    "duration": 162,
    "start_time": "2023-08-23T11:59:22.458Z"
   },
   {
    "duration": 156,
    "start_time": "2023-08-23T11:59:22.622Z"
   },
   {
    "duration": 16,
    "start_time": "2023-08-23T11:59:22.779Z"
   },
   {
    "duration": 289,
    "start_time": "2023-08-23T11:59:22.797Z"
   },
   {
    "duration": 11,
    "start_time": "2023-08-23T11:59:23.089Z"
   },
   {
    "duration": 16,
    "start_time": "2023-08-23T11:59:23.102Z"
   },
   {
    "duration": 159,
    "start_time": "2023-08-23T11:59:23.120Z"
   },
   {
    "duration": 175,
    "start_time": "2023-08-23T11:59:23.281Z"
   },
   {
    "duration": 194,
    "start_time": "2023-08-23T11:59:23.458Z"
   },
   {
    "duration": 122,
    "start_time": "2023-08-23T11:59:23.654Z"
   },
   {
    "duration": 11,
    "start_time": "2023-08-23T11:59:23.778Z"
   },
   {
    "duration": 28,
    "start_time": "2023-08-23T11:59:23.791Z"
   },
   {
    "duration": 116,
    "start_time": "2023-08-23T11:59:23.821Z"
   },
   {
    "duration": 129,
    "start_time": "2023-08-23T11:59:23.939Z"
   },
   {
    "duration": 159,
    "start_time": "2023-08-23T11:59:24.072Z"
   },
   {
    "duration": 154,
    "start_time": "2023-08-23T11:59:24.233Z"
   },
   {
    "duration": 122,
    "start_time": "2023-08-23T11:59:24.389Z"
   },
   {
    "duration": 109,
    "start_time": "2023-08-23T11:59:24.512Z"
   },
   {
    "duration": 127,
    "start_time": "2023-08-23T11:59:24.624Z"
   },
   {
    "duration": 14,
    "start_time": "2023-08-23T11:59:24.753Z"
   },
   {
    "duration": 25,
    "start_time": "2023-08-23T11:59:24.768Z"
   },
   {
    "duration": 131,
    "start_time": "2023-08-23T11:59:24.795Z"
   },
   {
    "duration": 5,
    "start_time": "2023-08-23T11:59:24.930Z"
   },
   {
    "duration": 24,
    "start_time": "2023-08-23T11:59:24.937Z"
   },
   {
    "duration": 9,
    "start_time": "2023-08-23T11:59:24.963Z"
   },
   {
    "duration": 7,
    "start_time": "2023-08-23T11:59:24.973Z"
   },
   {
    "duration": 14,
    "start_time": "2023-08-23T11:59:24.981Z"
   },
   {
    "duration": 4,
    "start_time": "2023-08-23T11:59:24.997Z"
   },
   {
    "duration": 8,
    "start_time": "2023-08-23T11:59:25.003Z"
   },
   {
    "duration": 15,
    "start_time": "2023-08-23T11:59:25.013Z"
   },
   {
    "duration": 49,
    "start_time": "2023-08-23T11:59:25.029Z"
   },
   {
    "duration": 6,
    "start_time": "2023-08-23T11:59:25.080Z"
   },
   {
    "duration": 34,
    "start_time": "2023-08-23T11:59:25.087Z"
   },
   {
    "duration": 17,
    "start_time": "2023-08-23T11:59:25.122Z"
   },
   {
    "duration": 26,
    "start_time": "2023-08-23T11:59:25.141Z"
   },
   {
    "duration": 272,
    "start_time": "2023-08-23T11:59:25.169Z"
   },
   {
    "duration": 186,
    "start_time": "2023-08-23T11:59:25.443Z"
   },
   {
    "duration": 171,
    "start_time": "2023-08-23T11:59:25.631Z"
   },
   {
    "duration": 183,
    "start_time": "2023-08-23T11:59:25.803Z"
   },
   {
    "duration": 189,
    "start_time": "2023-08-23T11:59:25.988Z"
   },
   {
    "duration": 201,
    "start_time": "2023-08-23T11:59:26.179Z"
   },
   {
    "duration": 154,
    "start_time": "2023-08-23T11:59:26.382Z"
   },
   {
    "duration": 21,
    "start_time": "2023-08-23T11:59:26.538Z"
   },
   {
    "duration": 4,
    "start_time": "2023-08-23T11:59:26.561Z"
   },
   {
    "duration": 4,
    "start_time": "2023-08-23T11:59:26.567Z"
   },
   {
    "duration": 9,
    "start_time": "2023-08-23T11:59:26.573Z"
   },
   {
    "duration": 11,
    "start_time": "2023-08-23T11:59:26.584Z"
   },
   {
    "duration": 463,
    "start_time": "2023-08-23T11:59:26.596Z"
   },
   {
    "duration": 8,
    "start_time": "2023-08-23T11:59:27.061Z"
   },
   {
    "duration": 33,
    "start_time": "2023-08-23T11:59:27.071Z"
   },
   {
    "duration": 9,
    "start_time": "2023-08-23T11:59:27.106Z"
   },
   {
    "duration": 58,
    "start_time": "2023-08-23T11:59:27.117Z"
   },
   {
    "duration": 14,
    "start_time": "2023-08-23T11:59:27.177Z"
   },
   {
    "duration": 13375,
    "start_time": "2023-08-23T11:59:27.193Z"
   },
   {
    "duration": 54185,
    "start_time": "2023-08-23T11:59:40.660Z"
   },
   {
    "duration": 30457,
    "start_time": "2023-08-23T12:00:34.846Z"
   },
   {
    "duration": 9,
    "start_time": "2023-08-23T12:01:05.308Z"
   },
   {
    "duration": 1429,
    "start_time": "2023-08-23T12:01:05.319Z"
   },
   {
    "duration": 138,
    "start_time": "2023-08-23T12:01:06.750Z"
   },
   {
    "duration": 124,
    "start_time": "2023-08-23T12:01:06.890Z"
   },
   {
    "duration": 0,
    "start_time": "2023-08-23T12:01:07.016Z"
   },
   {
    "duration": 13,
    "start_time": "2023-08-23T12:49:06.520Z"
   },
   {
    "duration": 12,
    "start_time": "2023-08-23T12:49:22.616Z"
   },
   {
    "duration": 12,
    "start_time": "2023-08-23T12:49:31.380Z"
   },
   {
    "duration": 6,
    "start_time": "2023-08-23T12:49:39.421Z"
   },
   {
    "duration": 316,
    "start_time": "2023-08-23T12:49:41.940Z"
   },
   {
    "duration": 1363,
    "start_time": "2023-08-24T22:27:37.274Z"
   },
   {
    "duration": 368,
    "start_time": "2023-08-24T22:27:38.639Z"
   },
   {
    "duration": 15,
    "start_time": "2023-08-24T22:27:39.008Z"
   },
   {
    "duration": 15,
    "start_time": "2023-08-24T22:27:39.025Z"
   },
   {
    "duration": 14,
    "start_time": "2023-08-24T22:27:39.042Z"
   },
   {
    "duration": 184,
    "start_time": "2023-08-24T22:27:39.058Z"
   },
   {
    "duration": 134,
    "start_time": "2023-08-24T22:27:39.244Z"
   },
   {
    "duration": 14,
    "start_time": "2023-08-24T22:27:39.380Z"
   },
   {
    "duration": 277,
    "start_time": "2023-08-24T22:27:39.395Z"
   },
   {
    "duration": 9,
    "start_time": "2023-08-24T22:27:39.675Z"
   },
   {
    "duration": 23,
    "start_time": "2023-08-24T22:27:39.686Z"
   },
   {
    "duration": 113,
    "start_time": "2023-08-24T22:27:39.711Z"
   },
   {
    "duration": 131,
    "start_time": "2023-08-24T22:27:39.826Z"
   },
   {
    "duration": 182,
    "start_time": "2023-08-24T22:27:39.959Z"
   },
   {
    "duration": 103,
    "start_time": "2023-08-24T22:27:40.143Z"
   },
   {
    "duration": 10,
    "start_time": "2023-08-24T22:27:40.247Z"
   },
   {
    "duration": 24,
    "start_time": "2023-08-24T22:27:40.258Z"
   },
   {
    "duration": 106,
    "start_time": "2023-08-24T22:27:40.284Z"
   },
   {
    "duration": 109,
    "start_time": "2023-08-24T22:27:40.392Z"
   },
   {
    "duration": 116,
    "start_time": "2023-08-24T22:27:40.503Z"
   },
   {
    "duration": 109,
    "start_time": "2023-08-24T22:27:40.621Z"
   },
   {
    "duration": 120,
    "start_time": "2023-08-24T22:27:40.732Z"
   },
   {
    "duration": 102,
    "start_time": "2023-08-24T22:27:40.854Z"
   },
   {
    "duration": 105,
    "start_time": "2023-08-24T22:27:40.958Z"
   },
   {
    "duration": 8,
    "start_time": "2023-08-24T22:27:41.064Z"
   },
   {
    "duration": 13,
    "start_time": "2023-08-24T22:27:41.074Z"
   },
   {
    "duration": 138,
    "start_time": "2023-08-24T22:27:41.088Z"
   },
   {
    "duration": 4,
    "start_time": "2023-08-24T22:27:41.230Z"
   },
   {
    "duration": 13,
    "start_time": "2023-08-24T22:27:41.235Z"
   },
   {
    "duration": 4,
    "start_time": "2023-08-24T22:27:41.250Z"
   },
   {
    "duration": 12,
    "start_time": "2023-08-24T22:27:41.255Z"
   },
   {
    "duration": 22,
    "start_time": "2023-08-24T22:27:41.269Z"
   },
   {
    "duration": 19,
    "start_time": "2023-08-24T22:27:41.292Z"
   },
   {
    "duration": 6,
    "start_time": "2023-08-24T22:27:41.313Z"
   },
   {
    "duration": 18,
    "start_time": "2023-08-24T22:27:41.321Z"
   },
   {
    "duration": 30,
    "start_time": "2023-08-24T22:27:41.341Z"
   },
   {
    "duration": 4,
    "start_time": "2023-08-24T22:27:41.373Z"
   },
   {
    "duration": 42,
    "start_time": "2023-08-24T22:27:41.378Z"
   },
   {
    "duration": 17,
    "start_time": "2023-08-24T22:27:41.422Z"
   },
   {
    "duration": 11,
    "start_time": "2023-08-24T22:27:41.441Z"
   },
   {
    "duration": 243,
    "start_time": "2023-08-24T22:27:41.453Z"
   },
   {
    "duration": 168,
    "start_time": "2023-08-24T22:27:41.697Z"
   },
   {
    "duration": 157,
    "start_time": "2023-08-24T22:27:41.867Z"
   },
   {
    "duration": 166,
    "start_time": "2023-08-24T22:27:42.026Z"
   },
   {
    "duration": 161,
    "start_time": "2023-08-24T22:27:42.193Z"
   },
   {
    "duration": 193,
    "start_time": "2023-08-24T22:27:42.356Z"
   },
   {
    "duration": 202,
    "start_time": "2023-08-24T22:27:42.551Z"
   },
   {
    "duration": 13,
    "start_time": "2023-08-24T22:27:42.755Z"
   },
   {
    "duration": 15,
    "start_time": "2023-08-24T22:27:42.770Z"
   },
   {
    "duration": 13,
    "start_time": "2023-08-24T22:27:42.787Z"
   },
   {
    "duration": 9,
    "start_time": "2023-08-24T22:27:42.802Z"
   },
   {
    "duration": 23,
    "start_time": "2023-08-24T22:27:42.813Z"
   },
   {
    "duration": 476,
    "start_time": "2023-08-24T22:27:42.838Z"
   },
   {
    "duration": 7,
    "start_time": "2023-08-24T22:27:43.315Z"
   },
   {
    "duration": 18,
    "start_time": "2023-08-24T22:27:43.324Z"
   },
   {
    "duration": 4,
    "start_time": "2023-08-24T22:27:43.343Z"
   },
   {
    "duration": 62,
    "start_time": "2023-08-24T22:27:43.348Z"
   },
   {
    "duration": 13,
    "start_time": "2023-08-24T22:27:43.412Z"
   },
   {
    "duration": 12888,
    "start_time": "2023-08-24T22:27:43.427Z"
   },
   {
    "duration": 33575,
    "start_time": "2023-08-24T22:27:56.317Z"
   },
   {
    "duration": 28389,
    "start_time": "2023-08-24T22:28:29.894Z"
   },
   {
    "duration": 7,
    "start_time": "2023-08-24T22:28:58.285Z"
   },
   {
    "duration": 850,
    "start_time": "2023-08-24T22:28:58.294Z"
   },
   {
    "duration": 122,
    "start_time": "2023-08-24T22:28:59.146Z"
   },
   {
    "duration": 4,
    "start_time": "2023-08-24T22:28:59.270Z"
   },
   {
    "duration": 271,
    "start_time": "2023-08-24T22:28:59.276Z"
   },
   {
    "duration": 4,
    "start_time": "2023-08-24T22:29:26.727Z"
   },
   {
    "duration": 131,
    "start_time": "2023-08-24T22:32:10.481Z"
   },
   {
    "duration": 251,
    "start_time": "2023-08-24T22:32:14.164Z"
   }
  ],
  "kernelspec": {
   "display_name": "Python 3 (ipykernel)",
   "language": "python",
   "name": "python3"
  },
  "language_info": {
   "codemirror_mode": {
    "name": "ipython",
    "version": 3
   },
   "file_extension": ".py",
   "mimetype": "text/x-python",
   "name": "python",
   "nbconvert_exporter": "python",
   "pygments_lexer": "ipython3",
   "version": "3.9.18"
  },
  "toc": {
   "base_numbering": 1,
   "nav_menu": {},
   "number_sections": true,
   "sideBar": true,
   "skip_h1_title": true,
   "title_cell": "Table of Contents",
   "title_sidebar": "Contents",
   "toc_cell": false,
   "toc_position": {},
   "toc_section_display": true,
   "toc_window_display": false
  }
 },
 "nbformat": 4,
 "nbformat_minor": 2
}
