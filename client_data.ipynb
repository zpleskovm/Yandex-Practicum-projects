{
 "cells": [
  {
   "cell_type": "markdown",
   "metadata": {
    "toc": true
   },
   "source": [
    "<h1>Содержание<span class=\"tocSkip\"></span></h1>\n",
    "<div class=\"toc\"><ul class=\"toc-item\"><li><span><a href=\"#Загрузка-данных\" data-toc-modified-id=\"Загрузка-данных-1\"><span class=\"toc-item-num\">1&nbsp;&nbsp;</span>Загрузка данных</a></span></li><li><span><a href=\"#Умножение-матриц\" data-toc-modified-id=\"Умножение-матриц-2\"><span class=\"toc-item-num\">2&nbsp;&nbsp;</span>Умножение матриц</a></span></li><li><span><a href=\"#Алгоритм-преобразования\" data-toc-modified-id=\"Алгоритм-преобразования-3\"><span class=\"toc-item-num\">3&nbsp;&nbsp;</span>Алгоритм преобразования</a></span></li><li><span><a href=\"#Проверка-алгоритма\" data-toc-modified-id=\"Проверка-алгоритма-4\"><span class=\"toc-item-num\">4&nbsp;&nbsp;</span>Проверка алгоритма</a></span></li><li><span><a href=\"#Чек-лист-проверки\" data-toc-modified-id=\"Чек-лист-проверки-5\"><span class=\"toc-item-num\">5&nbsp;&nbsp;</span>Чек-лист проверки</a></span></li></ul></div>"
   ]
  },
  {
   "cell_type": "markdown",
   "metadata": {},
   "source": [
    "# Защита персональных данных клиентов"
   ]
  },
  {
   "cell_type": "markdown",
   "metadata": {},
   "source": [
    "Вам нужно защитить данные клиентов страховой компании «Хоть потоп». Разработайте такой метод преобразования данных, чтобы по ним было сложно восстановить персональную информацию. Обоснуйте корректность его работы.\n",
    "\n",
    "Нужно защитить данные, чтобы при преобразовании качество моделей машинного обучения не ухудшилось. Подбирать наилучшую модель не требуется."
   ]
  },
  {
   "cell_type": "markdown",
   "metadata": {},
   "source": [
    "## Загрузка данных"
   ]
  },
  {
   "cell_type": "code",
   "execution_count": 23,
   "metadata": {},
   "outputs": [],
   "source": [
    "#импорт всех нужных библиотек\n",
    "import numpy as np\n",
    "import pandas as pd\n",
    "import matplotlib.pyplot as plt\n",
    "\n",
    "from sklearn.linear_model import LinearRegression\n",
    "from sklearn.model_selection import train_test_split\n",
    "from sklearn.preprocessing import StandardScaler\n",
    "from sklearn.metrics import r2_score, mean_squared_error"
   ]
  },
  {
   "cell_type": "code",
   "execution_count": 24,
   "metadata": {},
   "outputs": [
    {
     "data": {
      "text/html": [
       "<div>\n",
       "<style scoped>\n",
       "    .dataframe tbody tr th:only-of-type {\n",
       "        vertical-align: middle;\n",
       "    }\n",
       "\n",
       "    .dataframe tbody tr th {\n",
       "        vertical-align: top;\n",
       "    }\n",
       "\n",
       "    .dataframe thead th {\n",
       "        text-align: right;\n",
       "    }\n",
       "</style>\n",
       "<table border=\"1\" class=\"dataframe\">\n",
       "  <thead>\n",
       "    <tr style=\"text-align: right;\">\n",
       "      <th></th>\n",
       "      <th>Пол</th>\n",
       "      <th>Возраст</th>\n",
       "      <th>Зарплата</th>\n",
       "      <th>Члены семьи</th>\n",
       "      <th>Страховые выплаты</th>\n",
       "    </tr>\n",
       "  </thead>\n",
       "  <tbody>\n",
       "    <tr>\n",
       "      <th>0</th>\n",
       "      <td>1</td>\n",
       "      <td>41.0</td>\n",
       "      <td>49600.0</td>\n",
       "      <td>1</td>\n",
       "      <td>0</td>\n",
       "    </tr>\n",
       "    <tr>\n",
       "      <th>1</th>\n",
       "      <td>0</td>\n",
       "      <td>46.0</td>\n",
       "      <td>38000.0</td>\n",
       "      <td>1</td>\n",
       "      <td>1</td>\n",
       "    </tr>\n",
       "    <tr>\n",
       "      <th>2</th>\n",
       "      <td>0</td>\n",
       "      <td>29.0</td>\n",
       "      <td>21000.0</td>\n",
       "      <td>0</td>\n",
       "      <td>0</td>\n",
       "    </tr>\n",
       "    <tr>\n",
       "      <th>3</th>\n",
       "      <td>0</td>\n",
       "      <td>21.0</td>\n",
       "      <td>41700.0</td>\n",
       "      <td>2</td>\n",
       "      <td>0</td>\n",
       "    </tr>\n",
       "    <tr>\n",
       "      <th>4</th>\n",
       "      <td>1</td>\n",
       "      <td>28.0</td>\n",
       "      <td>26100.0</td>\n",
       "      <td>0</td>\n",
       "      <td>0</td>\n",
       "    </tr>\n",
       "  </tbody>\n",
       "</table>\n",
       "</div>"
      ],
      "text/plain": [
       "   Пол  Возраст  Зарплата  Члены семьи  Страховые выплаты\n",
       "0    1     41.0   49600.0            1                  0\n",
       "1    0     46.0   38000.0            1                  1\n",
       "2    0     29.0   21000.0            0                  0\n",
       "3    0     21.0   41700.0            2                  0\n",
       "4    1     28.0   26100.0            0                  0"
      ]
     },
     "execution_count": 24,
     "metadata": {},
     "output_type": "execute_result"
    },
    {
     "data": {
      "text/html": [
       "<div>\n",
       "<style scoped>\n",
       "    .dataframe tbody tr th:only-of-type {\n",
       "        vertical-align: middle;\n",
       "    }\n",
       "\n",
       "    .dataframe tbody tr th {\n",
       "        vertical-align: top;\n",
       "    }\n",
       "\n",
       "    .dataframe thead th {\n",
       "        text-align: right;\n",
       "    }\n",
       "</style>\n",
       "<table border=\"1\" class=\"dataframe\">\n",
       "  <thead>\n",
       "    <tr style=\"text-align: right;\">\n",
       "      <th></th>\n",
       "      <th>Пол</th>\n",
       "      <th>Возраст</th>\n",
       "      <th>Зарплата</th>\n",
       "      <th>Члены семьи</th>\n",
       "      <th>Страховые выплаты</th>\n",
       "    </tr>\n",
       "  </thead>\n",
       "  <tbody>\n",
       "    <tr>\n",
       "      <th>0</th>\n",
       "      <td>1</td>\n",
       "      <td>41.0</td>\n",
       "      <td>49600.0</td>\n",
       "      <td>1</td>\n",
       "      <td>0</td>\n",
       "    </tr>\n",
       "    <tr>\n",
       "      <th>1</th>\n",
       "      <td>0</td>\n",
       "      <td>46.0</td>\n",
       "      <td>38000.0</td>\n",
       "      <td>1</td>\n",
       "      <td>1</td>\n",
       "    </tr>\n",
       "    <tr>\n",
       "      <th>2</th>\n",
       "      <td>0</td>\n",
       "      <td>29.0</td>\n",
       "      <td>21000.0</td>\n",
       "      <td>0</td>\n",
       "      <td>0</td>\n",
       "    </tr>\n",
       "    <tr>\n",
       "      <th>3</th>\n",
       "      <td>0</td>\n",
       "      <td>21.0</td>\n",
       "      <td>41700.0</td>\n",
       "      <td>2</td>\n",
       "      <td>0</td>\n",
       "    </tr>\n",
       "    <tr>\n",
       "      <th>4</th>\n",
       "      <td>1</td>\n",
       "      <td>28.0</td>\n",
       "      <td>26100.0</td>\n",
       "      <td>0</td>\n",
       "      <td>0</td>\n",
       "    </tr>\n",
       "  </tbody>\n",
       "</table>\n",
       "</div>"
      ],
      "text/plain": [
       "   Пол  Возраст  Зарплата  Члены семьи  Страховые выплаты\n",
       "0    1     41.0   49600.0            1                  0\n",
       "1    0     46.0   38000.0            1                  1\n",
       "2    0     29.0   21000.0            0                  0\n",
       "3    0     21.0   41700.0            2                  0\n",
       "4    1     28.0   26100.0            0                  0"
      ]
     },
     "execution_count": 24,
     "metadata": {},
     "output_type": "execute_result"
    }
   ],
   "source": [
    "#загрузка данных\n",
    "try:\n",
    "    df = pd.read_csv('/datasets/insurance.csv')\n",
    "except FileNotFoundError:\n",
    "    print(\"File not found.\")\n",
    "df.head()"
   ]
  },
  {
   "cell_type": "code",
   "execution_count": 25,
   "metadata": {},
   "outputs": [
    {
     "name": "stdout",
     "output_type": "stream",
     "text": [
      "<class 'pandas.core.frame.DataFrame'>\n",
      "RangeIndex: 5000 entries, 0 to 4999\n",
      "Data columns (total 5 columns):\n",
      " #   Column             Non-Null Count  Dtype  \n",
      "---  ------             --------------  -----  \n",
      " 0   Пол                5000 non-null   int64  \n",
      " 1   Возраст            5000 non-null   float64\n",
      " 2   Зарплата           5000 non-null   float64\n",
      " 3   Члены семьи        5000 non-null   int64  \n",
      " 4   Страховые выплаты  5000 non-null   int64  \n",
      "dtypes: float64(2), int64(3)\n",
      "memory usage: 195.4 KB\n",
      "<class 'pandas.core.frame.DataFrame'>\n",
      "RangeIndex: 5000 entries, 0 to 4999\n",
      "Data columns (total 5 columns):\n",
      " #   Column             Non-Null Count  Dtype  \n",
      "---  ------             --------------  -----  \n",
      " 0   Пол                5000 non-null   int64  \n",
      " 1   Возраст            5000 non-null   float64\n",
      " 2   Зарплата           5000 non-null   float64\n",
      " 3   Члены семьи        5000 non-null   int64  \n",
      " 4   Страховые выплаты  5000 non-null   int64  \n",
      "dtypes: float64(2), int64(3)\n",
      "memory usage: 195.4 KB\n"
     ]
    }
   ],
   "source": [
    "df.info()"
   ]
  },
  {
   "cell_type": "markdown",
   "metadata": {},
   "source": [
    "Пропусков нет, целевым признаком является стоолбец \"Страховые выплаты\". Признаки - это пол, возраст и зарплата застрахованного, количество членов его семьи."
   ]
  },
  {
   "cell_type": "markdown",
   "metadata": {},
   "source": [
    "## Умножение матриц"
   ]
  },
  {
   "cell_type": "markdown",
   "metadata": {},
   "source": [
    "В этом задании вы можете записывать формулы в *Jupyter Notebook.*\n",
    "\n",
    "Чтобы записать формулу внутри текста, окружите её символами доллара \\\\$; если снаружи —  двойными символами \\\\$\\\\$. Эти формулы записываются на языке вёрстки *LaTeX.* \n",
    "\n",
    "Для примера мы записали формулы линейной регрессии. Можете их скопировать и отредактировать, чтобы решить задачу.\n",
    "\n",
    "Работать в *LaTeX* необязательно."
   ]
  },
  {
   "cell_type": "markdown",
   "metadata": {},
   "source": [
    "Обозначения:\n",
    "\n",
    "- $X$ — матрица признаков (нулевой столбец состоит из единиц)\n",
    "\n",
    "- $y$ — вектор целевого признака\n",
    "\n",
    "- $P$ — матрица, на которую умножаются признаки\n",
    "\n",
    "- $w$ — вектор весов линейной регрессии (нулевой элемент равен сдвигу)"
   ]
  },
  {
   "cell_type": "markdown",
   "metadata": {},
   "source": [
    "Предсказания:\n",
    "\n",
    "$$\n",
    "a = Xw\n",
    "$$\n",
    "\n",
    "Задача обучения:\n",
    "\n",
    "$$\n",
    "w = \\arg\\min_w MSE(Xw, y)\n",
    "$$\n",
    "\n",
    "Формула обучения:\n",
    "\n",
    "$$\n",
    "w = (X^T X)^{-1} X^T y\n",
    "$$"
   ]
  },
  {
   "cell_type": "markdown",
   "metadata": {},
   "source": [
    "**Ответьте на вопрос и обоснуйте решение**\n",
    "\n",
    " Признаки умножают на обратимую матрицу. Изменится ли качество линейной регрессии? (Её можно обучить заново.)\n",
    " 1. Изменится. Приведите примеры матриц.\n",
    " 2. Не изменится. Укажите, как связаны параметры линейной регрессии в исходной задаче и в преобразованной."
   ]
  },
  {
   "cell_type": "markdown",
   "metadata": {},
   "source": [
    "Пусть $X_1 = XA$, и существует обратная к $A$ матрица. Тогда $w_1 = (X_1^T X_1)^{-1}X_1^T y$.\n",
    "\n",
    "Теперь подставляем выражения для матрицы $X_1$: $w_1 = ((XA)^T XA)^{-1}(XA)^T y = (A^T X^T X A)^{-1}A^T X^T y = A^{-1} (X^T X)^{-1} (A^T)^{-1} A^T X^T y $\n",
    "\n",
    "$(A^T)^{-1} A^T = I$ $\\rightarrow$ $w_1 = A^{-1} (X^T X)^{-1} X^T y = A^{-1} (X^T X)^{-1} X^T y = A^{-1} w$.\n",
    "\n",
    "Следовательно, вектор весов будет равен $w_1 = A^{-1} w$. Посмотрим, как изменятся предсказания. $a = X_1 w_1 = (XA) A^{-1} w = X w$.\n",
    "\n",
    "То есть вектор предсказаний не изменяется, следовательно, качество линейной регрессии не изменится."
   ]
  },
  {
   "cell_type": "markdown",
   "metadata": {},
   "source": [
    "**Ответ:** качество линейной регрессии не изменится\n",
    "\n",
    "**Обоснование:** изменятся веса линейной регрессии, но предсказания останутся неизменными"
   ]
  },
  {
   "cell_type": "markdown",
   "metadata": {},
   "source": [
    "## Алгоритм преобразования"
   ]
  },
  {
   "cell_type": "markdown",
   "metadata": {},
   "source": [
    "**Алгоритм**\n",
    "\n",
    "Чтобы защитить данные, нужно будет умножить на рандомную квадратную матрицу. Её размеры определяются количеством столбцов матрицы признаков. В нашем случае будет матрица $4 * 4$. Также нужно проверить, что существует обратная."
   ]
  },
  {
   "cell_type": "code",
   "execution_count": 26,
   "metadata": {},
   "outputs": [
    {
     "name": "stdout",
     "output_type": "stream",
     "text": [
      "[[0 6 6 9]\n",
      " [6 8 3 4]\n",
      " [3 4 7 4]\n",
      " [6 8 9 3]]\n",
      "[[0 6 6 9]\n",
      " [6 8 3 4]\n",
      " [3 4 7 4]\n",
      " [6 8 9 3]]\n"
     ]
    }
   ],
   "source": [
    "#создадим матрицу из случайных чисел\n",
    "A = np.random.randint(10, size=(4,4))\n",
    "print(A)"
   ]
  },
  {
   "cell_type": "code",
   "execution_count": 27,
   "metadata": {},
   "outputs": [
    {
     "name": "stdout",
     "output_type": "stream",
     "text": [
      "[[-0.22222222  0.23809524  0.5047619  -0.32380952]\n",
      " [ 0.16666667 -0.07142857 -0.57142857  0.35714286]\n",
      " [ 0.         -0.14285714  0.05714286  0.11428571]\n",
      " [ 0.          0.14285714  0.34285714 -0.31428571]]\n",
      "[[-0.22222222  0.23809524  0.5047619  -0.32380952]\n",
      " [ 0.16666667 -0.07142857 -0.57142857  0.35714286]\n",
      " [ 0.         -0.14285714  0.05714286  0.11428571]\n",
      " [ 0.          0.14285714  0.34285714 -0.31428571]]\n"
     ]
    }
   ],
   "source": [
    "#проверяем на обратимость\n",
    "B = np.linalg.inv(A)\n",
    "print(B)"
   ]
  },
  {
   "cell_type": "code",
   "execution_count": 28,
   "metadata": {},
   "outputs": [],
   "source": [
    "#разобьём данные на признаки и target\n",
    "features = df.drop('Страховые выплаты', axis=1)\n",
    "target = df['Страховые выплаты']"
   ]
  },
  {
   "cell_type": "code",
   "execution_count": 29,
   "metadata": {},
   "outputs": [],
   "source": [
    "#масштабируем данные\n",
    "scaler = StandardScaler()\n",
    "scaler.fit(features)\n",
    "features_sc = scaler.transform(features)"
   ]
  },
  {
   "cell_type": "markdown",
   "metadata": {},
   "source": [
    "$$\n",
    "w = (X^T X)^{-1} X^T y\n",
    "$$"
   ]
  },
  {
   "cell_type": "code",
   "execution_count": 30,
   "metadata": {},
   "outputs": [],
   "source": [
    "w = np.linalg.inv(features_sc.T @ features_sc) @ features_sc.T @ target"
   ]
  },
  {
   "cell_type": "markdown",
   "metadata": {},
   "source": [
    "$$\n",
    "a = Xw\n",
    "$$"
   ]
  },
  {
   "cell_type": "code",
   "execution_count": 31,
   "metadata": {},
   "outputs": [],
   "source": [
    "a = features_sc @ w"
   ]
  },
  {
   "cell_type": "markdown",
   "metadata": {},
   "source": [
    "$$\n",
    "w_1 = (X_1^T X_1)^{-1}X_1^T y = (A^T X^T X A)^{-1}A^T X^T y\n",
    "$$"
   ]
  },
  {
   "cell_type": "code",
   "execution_count": 32,
   "metadata": {},
   "outputs": [],
   "source": [
    "w1 = np.linalg.inv(A.T @ features_sc.T @ features_sc @ A) @ A.T @ features_sc.T @ target"
   ]
  },
  {
   "cell_type": "markdown",
   "metadata": {},
   "source": [
    "$$ a_1 = X_1 w_1 $$"
   ]
  },
  {
   "cell_type": "code",
   "execution_count": 33,
   "metadata": {},
   "outputs": [],
   "source": [
    "a1 = features_sc @ A @ w1"
   ]
  },
  {
   "cell_type": "code",
   "execution_count": 34,
   "metadata": {},
   "outputs": [
    {
     "name": "stdout",
     "output_type": "stream",
     "text": [
      "-4.5674218801614735e-14\n",
      "-4.5674218801614735e-14\n"
     ]
    }
   ],
   "source": [
    "print(sum(a - a1))"
   ]
  },
  {
   "cell_type": "markdown",
   "metadata": {},
   "source": [
    "Рзаницы между предсказаниями линейной регрессии до преобразования признаков и после практически нулевая. Поэтому качество модели, действительно, не ухудшается."
   ]
  },
  {
   "cell_type": "markdown",
   "metadata": {},
   "source": [
    "**Обоснование**\n",
    "\n",
    "Полученная разница между предсказаниями до и после равна -1.2419569767139343e-14."
   ]
  },
  {
   "cell_type": "markdown",
   "metadata": {},
   "source": [
    "## Проверка алгоритма"
   ]
  },
  {
   "cell_type": "markdown",
   "metadata": {},
   "source": [
    "осталось только разбить выборку на тестовую и валидационную. А потом проверить 2 модели.\n",
    "\n"
   ]
  },
  {
   "cell_type": "code",
   "execution_count": 35,
   "metadata": {},
   "outputs": [],
   "source": [
    "features_train, features_valid_test, target_train, target_valid_test = train_test_split(\n",
    "    features, target, test_size=0.4, random_state=12345)\n",
    "\n",
    "features_valid, features_test, target_valid, target_test = train_test_split(\n",
    "    features_valid_test, target_valid_test, test_size=0.5, random_state=12345)"
   ]
  },
  {
   "cell_type": "code",
   "execution_count": 36,
   "metadata": {},
   "outputs": [
    {
     "name": "stdout",
     "output_type": "stream",
     "text": [
      "r2_valid на валидационной выборке до преобразования исходных признаков: 0.4133907776507595\n",
      "r2_valid на валидационной выборке до преобразования исходных признаков: 0.4133907776507595\n"
     ]
    }
   ],
   "source": [
    "model = LinearRegression()\n",
    "model.fit(features_train, target_train)\n",
    "predictions_valid = model.predict(features_valid)\n",
    "r2_valid = r2_score(target_valid, predictions_valid)\n",
    "print('r2_valid на валидационной выборке до преобразования исходных признаков:', r2_valid)"
   ]
  },
  {
   "cell_type": "code",
   "execution_count": 37,
   "metadata": {},
   "outputs": [
    {
     "name": "stdout",
     "output_type": "stream",
     "text": [
      "r2_score на тестовой выборке до преобразования исходных признаков: 0.4330822556428551\n",
      "r2_score на тестовой выборке до преобразования исходных признаков: 0.4330822556428551\n"
     ]
    }
   ],
   "source": [
    "predictions_test = model.predict(features_test)\n",
    "r2_test = r2_score(target_test, predictions_test)\n",
    "print('r2_score на тестовой выборке до преобразования исходных признаков:', r2_test)"
   ]
  },
  {
   "cell_type": "markdown",
   "metadata": {},
   "source": [
    "На тестовых данных до преобразования модель показала результат лучше, чем на валидационных. Теперь посмотрим на метрику r2 на преоразованных данных."
   ]
  },
  {
   "cell_type": "code",
   "execution_count": 38,
   "metadata": {},
   "outputs": [
    {
     "name": "stdout",
     "output_type": "stream",
     "text": [
      "r2_score на валидационной выборке после преобразования исходных признаков: 0.41339077765075793\n",
      "r2_score на валидационной выборке после преобразования исходных признаков: 0.41339077765075793\n"
     ]
    }
   ],
   "source": [
    "features_train_A = features_train @ A\n",
    "features_valid_A = features_valid @ A\n",
    "features_test_A = features_test @ A\n",
    "model.fit(features_train_A, target_train)\n",
    "predictions_valid_A = model.predict(features_valid_A)\n",
    "r2_valid_A = r2_score(target_valid, predictions_valid_A)\n",
    "print('r2_score на валидационной выборке после преобразования исходных признаков:', r2_valid_A)"
   ]
  },
  {
   "cell_type": "code",
   "execution_count": 39,
   "metadata": {
    "scrolled": true
   },
   "outputs": [
    {
     "name": "stdout",
     "output_type": "stream",
     "text": [
      "r2_score на тестовой выборке после преобразования исходных признаков: 0.4330822556428604\n",
      "r2_score на тестовой выборке после преобразования исходных признаков: 0.4330822556428604\n"
     ]
    }
   ],
   "source": [
    "predictions_test_A = model.predict(features_test_A)\n",
    "r2_test_A = r2_score(target_test, predictions_test_A)\n",
    "print('r2_score на тестовой выборке после преобразования исходных признаков:', r2_test_A)"
   ]
  },
  {
   "cell_type": "code",
   "execution_count": 40,
   "metadata": {},
   "outputs": [
    {
     "data": {
      "text/plain": [
       "5.329070518200751e-15"
      ]
     },
     "execution_count": 40,
     "metadata": {},
     "output_type": "execute_result"
    },
    {
     "data": {
      "text/plain": [
       "5.329070518200751e-15"
      ]
     },
     "execution_count": 40,
     "metadata": {},
     "output_type": "execute_result"
    }
   ],
   "source": [
    "r2_test_A - r2_test"
   ]
  },
  {
   "cell_type": "markdown",
   "metadata": {},
   "source": [
    "Опять-таки модель показала лучший результат на тестовой выборке. И различие метрики r2 равно 1.219024881038422e-13. То есть практически 0."
   ]
  },
  {
   "cell_type": "code",
   "execution_count": 41,
   "metadata": {},
   "outputs": [],
   "source": [
    "features_A = features @ A"
   ]
  },
  {
   "cell_type": "code",
   "execution_count": 42,
   "metadata": {},
   "outputs": [
    {
     "data": {
      "text/html": [
       "<div>\n",
       "<style scoped>\n",
       "    .dataframe tbody tr th:only-of-type {\n",
       "        vertical-align: middle;\n",
       "    }\n",
       "\n",
       "    .dataframe tbody tr th {\n",
       "        vertical-align: top;\n",
       "    }\n",
       "\n",
       "    .dataframe thead th {\n",
       "        text-align: right;\n",
       "    }\n",
       "</style>\n",
       "<table border=\"1\" class=\"dataframe\">\n",
       "  <thead>\n",
       "    <tr style=\"text-align: right;\">\n",
       "      <th></th>\n",
       "      <th>Пол</th>\n",
       "      <th>Возраст</th>\n",
       "      <th>Зарплата</th>\n",
       "      <th>Члены семьи</th>\n",
       "    </tr>\n",
       "  </thead>\n",
       "  <tbody>\n",
       "    <tr>\n",
       "      <th>0</th>\n",
       "      <td>1</td>\n",
       "      <td>41.0</td>\n",
       "      <td>49600.0</td>\n",
       "      <td>1</td>\n",
       "    </tr>\n",
       "    <tr>\n",
       "      <th>1</th>\n",
       "      <td>0</td>\n",
       "      <td>46.0</td>\n",
       "      <td>38000.0</td>\n",
       "      <td>1</td>\n",
       "    </tr>\n",
       "    <tr>\n",
       "      <th>2</th>\n",
       "      <td>0</td>\n",
       "      <td>29.0</td>\n",
       "      <td>21000.0</td>\n",
       "      <td>0</td>\n",
       "    </tr>\n",
       "    <tr>\n",
       "      <th>3</th>\n",
       "      <td>0</td>\n",
       "      <td>21.0</td>\n",
       "      <td>41700.0</td>\n",
       "      <td>2</td>\n",
       "    </tr>\n",
       "    <tr>\n",
       "      <th>4</th>\n",
       "      <td>1</td>\n",
       "      <td>28.0</td>\n",
       "      <td>26100.0</td>\n",
       "      <td>0</td>\n",
       "    </tr>\n",
       "  </tbody>\n",
       "</table>\n",
       "</div>"
      ],
      "text/plain": [
       "   Пол  Возраст  Зарплата  Члены семьи\n",
       "0    1     41.0   49600.0            1\n",
       "1    0     46.0   38000.0            1\n",
       "2    0     29.0   21000.0            0\n",
       "3    0     21.0   41700.0            2\n",
       "4    1     28.0   26100.0            0"
      ]
     },
     "execution_count": 42,
     "metadata": {},
     "output_type": "execute_result"
    },
    {
     "data": {
      "text/html": [
       "<div>\n",
       "<style scoped>\n",
       "    .dataframe tbody tr th:only-of-type {\n",
       "        vertical-align: middle;\n",
       "    }\n",
       "\n",
       "    .dataframe tbody tr th {\n",
       "        vertical-align: top;\n",
       "    }\n",
       "\n",
       "    .dataframe thead th {\n",
       "        text-align: right;\n",
       "    }\n",
       "</style>\n",
       "<table border=\"1\" class=\"dataframe\">\n",
       "  <thead>\n",
       "    <tr style=\"text-align: right;\">\n",
       "      <th></th>\n",
       "      <th>Пол</th>\n",
       "      <th>Возраст</th>\n",
       "      <th>Зарплата</th>\n",
       "      <th>Члены семьи</th>\n",
       "    </tr>\n",
       "  </thead>\n",
       "  <tbody>\n",
       "    <tr>\n",
       "      <th>0</th>\n",
       "      <td>1</td>\n",
       "      <td>41.0</td>\n",
       "      <td>49600.0</td>\n",
       "      <td>1</td>\n",
       "    </tr>\n",
       "    <tr>\n",
       "      <th>1</th>\n",
       "      <td>0</td>\n",
       "      <td>46.0</td>\n",
       "      <td>38000.0</td>\n",
       "      <td>1</td>\n",
       "    </tr>\n",
       "    <tr>\n",
       "      <th>2</th>\n",
       "      <td>0</td>\n",
       "      <td>29.0</td>\n",
       "      <td>21000.0</td>\n",
       "      <td>0</td>\n",
       "    </tr>\n",
       "    <tr>\n",
       "      <th>3</th>\n",
       "      <td>0</td>\n",
       "      <td>21.0</td>\n",
       "      <td>41700.0</td>\n",
       "      <td>2</td>\n",
       "    </tr>\n",
       "    <tr>\n",
       "      <th>4</th>\n",
       "      <td>1</td>\n",
       "      <td>28.0</td>\n",
       "      <td>26100.0</td>\n",
       "      <td>0</td>\n",
       "    </tr>\n",
       "  </tbody>\n",
       "</table>\n",
       "</div>"
      ],
      "text/plain": [
       "   Пол  Возраст  Зарплата  Члены семьи\n",
       "0    1     41.0   49600.0            1\n",
       "1    0     46.0   38000.0            1\n",
       "2    0     29.0   21000.0            0\n",
       "3    0     21.0   41700.0            2\n",
       "4    1     28.0   26100.0            0"
      ]
     },
     "execution_count": 42,
     "metadata": {},
     "output_type": "execute_result"
    }
   ],
   "source": [
    "features.head()"
   ]
  },
  {
   "cell_type": "code",
   "execution_count": 43,
   "metadata": {},
   "outputs": [
    {
     "data": {
      "text/html": [
       "<div>\n",
       "<style scoped>\n",
       "    .dataframe tbody tr th:only-of-type {\n",
       "        vertical-align: middle;\n",
       "    }\n",
       "\n",
       "    .dataframe tbody tr th {\n",
       "        vertical-align: top;\n",
       "    }\n",
       "\n",
       "    .dataframe thead th {\n",
       "        text-align: right;\n",
       "    }\n",
       "</style>\n",
       "<table border=\"1\" class=\"dataframe\">\n",
       "  <thead>\n",
       "    <tr style=\"text-align: right;\">\n",
       "      <th></th>\n",
       "      <th>0</th>\n",
       "      <th>1</th>\n",
       "      <th>2</th>\n",
       "      <th>3</th>\n",
       "    </tr>\n",
       "  </thead>\n",
       "  <tbody>\n",
       "    <tr>\n",
       "      <th>0</th>\n",
       "      <td>149052.0</td>\n",
       "      <td>198742.0</td>\n",
       "      <td>347338.0</td>\n",
       "      <td>198576.0</td>\n",
       "    </tr>\n",
       "    <tr>\n",
       "      <th>1</th>\n",
       "      <td>114282.0</td>\n",
       "      <td>152376.0</td>\n",
       "      <td>266147.0</td>\n",
       "      <td>152187.0</td>\n",
       "    </tr>\n",
       "    <tr>\n",
       "      <th>2</th>\n",
       "      <td>63174.0</td>\n",
       "      <td>84232.0</td>\n",
       "      <td>147087.0</td>\n",
       "      <td>84116.0</td>\n",
       "    </tr>\n",
       "    <tr>\n",
       "      <th>3</th>\n",
       "      <td>125238.0</td>\n",
       "      <td>166984.0</td>\n",
       "      <td>291981.0</td>\n",
       "      <td>166890.0</td>\n",
       "    </tr>\n",
       "    <tr>\n",
       "      <th>4</th>\n",
       "      <td>78468.0</td>\n",
       "      <td>104630.0</td>\n",
       "      <td>182790.0</td>\n",
       "      <td>104521.0</td>\n",
       "    </tr>\n",
       "  </tbody>\n",
       "</table>\n",
       "</div>"
      ],
      "text/plain": [
       "          0         1         2         3\n",
       "0  149052.0  198742.0  347338.0  198576.0\n",
       "1  114282.0  152376.0  266147.0  152187.0\n",
       "2   63174.0   84232.0  147087.0   84116.0\n",
       "3  125238.0  166984.0  291981.0  166890.0\n",
       "4   78468.0  104630.0  182790.0  104521.0"
      ]
     },
     "execution_count": 43,
     "metadata": {},
     "output_type": "execute_result"
    },
    {
     "data": {
      "text/html": [
       "<div>\n",
       "<style scoped>\n",
       "    .dataframe tbody tr th:only-of-type {\n",
       "        vertical-align: middle;\n",
       "    }\n",
       "\n",
       "    .dataframe tbody tr th {\n",
       "        vertical-align: top;\n",
       "    }\n",
       "\n",
       "    .dataframe thead th {\n",
       "        text-align: right;\n",
       "    }\n",
       "</style>\n",
       "<table border=\"1\" class=\"dataframe\">\n",
       "  <thead>\n",
       "    <tr style=\"text-align: right;\">\n",
       "      <th></th>\n",
       "      <th>0</th>\n",
       "      <th>1</th>\n",
       "      <th>2</th>\n",
       "      <th>3</th>\n",
       "    </tr>\n",
       "  </thead>\n",
       "  <tbody>\n",
       "    <tr>\n",
       "      <th>0</th>\n",
       "      <td>149052.0</td>\n",
       "      <td>198742.0</td>\n",
       "      <td>347338.0</td>\n",
       "      <td>198576.0</td>\n",
       "    </tr>\n",
       "    <tr>\n",
       "      <th>1</th>\n",
       "      <td>114282.0</td>\n",
       "      <td>152376.0</td>\n",
       "      <td>266147.0</td>\n",
       "      <td>152187.0</td>\n",
       "    </tr>\n",
       "    <tr>\n",
       "      <th>2</th>\n",
       "      <td>63174.0</td>\n",
       "      <td>84232.0</td>\n",
       "      <td>147087.0</td>\n",
       "      <td>84116.0</td>\n",
       "    </tr>\n",
       "    <tr>\n",
       "      <th>3</th>\n",
       "      <td>125238.0</td>\n",
       "      <td>166984.0</td>\n",
       "      <td>291981.0</td>\n",
       "      <td>166890.0</td>\n",
       "    </tr>\n",
       "    <tr>\n",
       "      <th>4</th>\n",
       "      <td>78468.0</td>\n",
       "      <td>104630.0</td>\n",
       "      <td>182790.0</td>\n",
       "      <td>104521.0</td>\n",
       "    </tr>\n",
       "  </tbody>\n",
       "</table>\n",
       "</div>"
      ],
      "text/plain": [
       "          0         1         2         3\n",
       "0  149052.0  198742.0  347338.0  198576.0\n",
       "1  114282.0  152376.0  266147.0  152187.0\n",
       "2   63174.0   84232.0  147087.0   84116.0\n",
       "3  125238.0  166984.0  291981.0  166890.0\n",
       "4   78468.0  104630.0  182790.0  104521.0"
      ]
     },
     "execution_count": 43,
     "metadata": {},
     "output_type": "execute_result"
    }
   ],
   "source": [
    "features_A.head()"
   ]
  },
  {
   "cell_type": "code",
   "execution_count": 44,
   "metadata": {},
   "outputs": [
    {
     "data": {
      "text/html": [
       "<div>\n",
       "<style scoped>\n",
       "    .dataframe tbody tr th:only-of-type {\n",
       "        vertical-align: middle;\n",
       "    }\n",
       "\n",
       "    .dataframe tbody tr th {\n",
       "        vertical-align: top;\n",
       "    }\n",
       "\n",
       "    .dataframe thead th {\n",
       "        text-align: right;\n",
       "    }\n",
       "</style>\n",
       "<table border=\"1\" class=\"dataframe\">\n",
       "  <thead>\n",
       "    <tr style=\"text-align: right;\">\n",
       "      <th></th>\n",
       "      <th>0</th>\n",
       "      <th>1</th>\n",
       "      <th>2</th>\n",
       "      <th>3</th>\n",
       "    </tr>\n",
       "  </thead>\n",
       "  <tbody>\n",
       "    <tr>\n",
       "      <th>0</th>\n",
       "      <td>1.000000e+00</td>\n",
       "      <td>41.0</td>\n",
       "      <td>49600.0</td>\n",
       "      <td>1.000000e+00</td>\n",
       "    </tr>\n",
       "    <tr>\n",
       "      <th>1</th>\n",
       "      <td>-1.409761e-12</td>\n",
       "      <td>46.0</td>\n",
       "      <td>38000.0</td>\n",
       "      <td>1.000000e+00</td>\n",
       "    </tr>\n",
       "    <tr>\n",
       "      <th>2</th>\n",
       "      <td>-1.729727e-13</td>\n",
       "      <td>29.0</td>\n",
       "      <td>21000.0</td>\n",
       "      <td>-2.480682e-12</td>\n",
       "    </tr>\n",
       "    <tr>\n",
       "      <th>3</th>\n",
       "      <td>8.804069e-13</td>\n",
       "      <td>21.0</td>\n",
       "      <td>41700.0</td>\n",
       "      <td>2.000000e+00</td>\n",
       "    </tr>\n",
       "    <tr>\n",
       "      <th>4</th>\n",
       "      <td>1.000000e+00</td>\n",
       "      <td>28.0</td>\n",
       "      <td>26100.0</td>\n",
       "      <td>-5.989209e-12</td>\n",
       "    </tr>\n",
       "  </tbody>\n",
       "</table>\n",
       "</div>"
      ],
      "text/plain": [
       "              0     1        2             3\n",
       "0  1.000000e+00  41.0  49600.0  1.000000e+00\n",
       "1 -1.409761e-12  46.0  38000.0  1.000000e+00\n",
       "2 -1.729727e-13  29.0  21000.0 -2.480682e-12\n",
       "3  8.804069e-13  21.0  41700.0  2.000000e+00\n",
       "4  1.000000e+00  28.0  26100.0 -5.989209e-12"
      ]
     },
     "execution_count": 44,
     "metadata": {},
     "output_type": "execute_result"
    },
    {
     "data": {
      "text/html": [
       "<div>\n",
       "<style scoped>\n",
       "    .dataframe tbody tr th:only-of-type {\n",
       "        vertical-align: middle;\n",
       "    }\n",
       "\n",
       "    .dataframe tbody tr th {\n",
       "        vertical-align: top;\n",
       "    }\n",
       "\n",
       "    .dataframe thead th {\n",
       "        text-align: right;\n",
       "    }\n",
       "</style>\n",
       "<table border=\"1\" class=\"dataframe\">\n",
       "  <thead>\n",
       "    <tr style=\"text-align: right;\">\n",
       "      <th></th>\n",
       "      <th>0</th>\n",
       "      <th>1</th>\n",
       "      <th>2</th>\n",
       "      <th>3</th>\n",
       "    </tr>\n",
       "  </thead>\n",
       "  <tbody>\n",
       "    <tr>\n",
       "      <th>0</th>\n",
       "      <td>1.000000e+00</td>\n",
       "      <td>41.0</td>\n",
       "      <td>49600.0</td>\n",
       "      <td>1.000000e+00</td>\n",
       "    </tr>\n",
       "    <tr>\n",
       "      <th>1</th>\n",
       "      <td>-1.409761e-12</td>\n",
       "      <td>46.0</td>\n",
       "      <td>38000.0</td>\n",
       "      <td>1.000000e+00</td>\n",
       "    </tr>\n",
       "    <tr>\n",
       "      <th>2</th>\n",
       "      <td>-1.729727e-13</td>\n",
       "      <td>29.0</td>\n",
       "      <td>21000.0</td>\n",
       "      <td>-2.480682e-12</td>\n",
       "    </tr>\n",
       "    <tr>\n",
       "      <th>3</th>\n",
       "      <td>8.804069e-13</td>\n",
       "      <td>21.0</td>\n",
       "      <td>41700.0</td>\n",
       "      <td>2.000000e+00</td>\n",
       "    </tr>\n",
       "    <tr>\n",
       "      <th>4</th>\n",
       "      <td>1.000000e+00</td>\n",
       "      <td>28.0</td>\n",
       "      <td>26100.0</td>\n",
       "      <td>-5.989209e-12</td>\n",
       "    </tr>\n",
       "  </tbody>\n",
       "</table>\n",
       "</div>"
      ],
      "text/plain": [
       "              0     1        2             3\n",
       "0  1.000000e+00  41.0  49600.0  1.000000e+00\n",
       "1 -1.409761e-12  46.0  38000.0  1.000000e+00\n",
       "2 -1.729727e-13  29.0  21000.0 -2.480682e-12\n",
       "3  8.804069e-13  21.0  41700.0  2.000000e+00\n",
       "4  1.000000e+00  28.0  26100.0 -5.989209e-12"
      ]
     },
     "execution_count": 44,
     "metadata": {},
     "output_type": "execute_result"
    }
   ],
   "source": [
    "#восстановление данных\n",
    "features1 = features_A @ np.linalg.inv(A)\n",
    "features1.head()"
   ]
  },
  {
   "cell_type": "markdown",
   "metadata": {},
   "source": [
    "Исходные данные можно восстановить, если домножить преобразованную матрицу признаков справа на матрицу $A^{-1}$."
   ]
  },
  {
   "cell_type": "markdown",
   "metadata": {},
   "source": [
    "**Вывод**\n",
    "\n",
    "С помощью преобразования исходных признаков, мы можем защитить данные. Как показали исследования на конечный результат это никак не повлияло, метрика r2 практически не отличается для этих двух случаев."
   ]
  }
 ],
 "metadata": {
  "ExecuteTimeLog": [
   {
    "duration": 1504,
    "start_time": "2023-05-22T19:03:18.564Z"
   },
   {
    "duration": 42,
    "start_time": "2023-05-22T19:03:31.166Z"
   },
   {
    "duration": 85,
    "start_time": "2023-05-22T19:04:41.190Z"
   },
   {
    "duration": 14,
    "start_time": "2023-05-22T19:04:52.198Z"
   },
   {
    "duration": 36,
    "start_time": "2023-05-22T19:05:03.316Z"
   },
   {
    "duration": 10,
    "start_time": "2023-05-22T19:05:06.124Z"
   },
   {
    "duration": 2,
    "start_time": "2023-05-22T19:05:08.692Z"
   },
   {
    "duration": 9,
    "start_time": "2023-05-22T19:05:17.803Z"
   },
   {
    "duration": 8,
    "start_time": "2023-05-22T19:05:24.123Z"
   },
   {
    "duration": 12,
    "start_time": "2023-05-22T19:05:32.383Z"
   },
   {
    "duration": 3,
    "start_time": "2023-05-22T22:27:54.670Z"
   },
   {
    "duration": 12,
    "start_time": "2023-05-22T22:28:29.372Z"
   },
   {
    "duration": 3,
    "start_time": "2023-05-22T22:28:36.440Z"
   },
   {
    "duration": 3,
    "start_time": "2023-05-22T22:29:28.487Z"
   },
   {
    "duration": 3,
    "start_time": "2023-05-22T22:30:07.281Z"
   },
   {
    "duration": 8,
    "start_time": "2023-05-22T22:30:40.070Z"
   },
   {
    "duration": 5,
    "start_time": "2023-05-22T22:30:48.768Z"
   },
   {
    "duration": 4,
    "start_time": "2023-05-22T22:32:06.380Z"
   },
   {
    "duration": 3,
    "start_time": "2023-05-22T22:33:34.581Z"
   },
   {
    "duration": 11,
    "start_time": "2023-05-22T22:35:30.250Z"
   },
   {
    "duration": 3,
    "start_time": "2023-05-22T22:35:49.957Z"
   },
   {
    "duration": 34,
    "start_time": "2023-05-22T22:35:50.994Z"
   },
   {
    "duration": 11,
    "start_time": "2023-05-22T22:35:52.560Z"
   },
   {
    "duration": 3,
    "start_time": "2023-05-22T22:35:56.828Z"
   },
   {
    "duration": 3,
    "start_time": "2023-05-22T22:35:57.896Z"
   },
   {
    "duration": 11,
    "start_time": "2023-05-22T22:35:59.710Z"
   },
   {
    "duration": 6,
    "start_time": "2023-05-22T22:36:16.307Z"
   },
   {
    "duration": 7,
    "start_time": "2023-05-22T22:36:27.285Z"
   },
   {
    "duration": 4,
    "start_time": "2023-05-22T22:38:46.198Z"
   },
   {
    "duration": 3,
    "start_time": "2023-05-22T22:39:32.091Z"
   },
   {
    "duration": 4,
    "start_time": "2023-05-22T22:42:05.224Z"
   },
   {
    "duration": 6,
    "start_time": "2023-05-22T22:43:19.015Z"
   },
   {
    "duration": 3,
    "start_time": "2023-05-22T22:43:45.591Z"
   },
   {
    "duration": 1400,
    "start_time": "2023-05-23T07:38:56.942Z"
   },
   {
    "duration": 93,
    "start_time": "2023-05-23T07:38:58.344Z"
   },
   {
    "duration": 12,
    "start_time": "2023-05-23T07:38:58.438Z"
   },
   {
    "duration": 3,
    "start_time": "2023-05-23T07:38:58.452Z"
   },
   {
    "duration": 7,
    "start_time": "2023-05-23T07:38:58.456Z"
   },
   {
    "duration": 48,
    "start_time": "2023-05-23T07:38:58.465Z"
   },
   {
    "duration": 95,
    "start_time": "2023-05-23T07:38:58.514Z"
   },
   {
    "duration": 7,
    "start_time": "2023-05-23T07:38:58.611Z"
   },
   {
    "duration": 5,
    "start_time": "2023-05-23T07:38:58.620Z"
   },
   {
    "duration": 80,
    "start_time": "2023-05-23T07:38:58.627Z"
   },
   {
    "duration": 16,
    "start_time": "2023-05-23T07:38:58.709Z"
   },
   {
    "duration": 99,
    "start_time": "2023-05-23T07:38:58.807Z"
   },
   {
    "duration": 104,
    "start_time": "2023-05-23T07:38:58.908Z"
   },
   {
    "duration": 9,
    "start_time": "2023-05-23T07:39:14.637Z"
   },
   {
    "duration": 8,
    "start_time": "2023-05-23T07:40:30.545Z"
   },
   {
    "duration": 9,
    "start_time": "2023-05-23T07:47:10.844Z"
   },
   {
    "duration": 10,
    "start_time": "2023-05-23T07:48:08.442Z"
   },
   {
    "duration": 8,
    "start_time": "2023-05-23T07:48:12.356Z"
   },
   {
    "duration": 11,
    "start_time": "2023-05-23T07:48:16.522Z"
   },
   {
    "duration": 8,
    "start_time": "2023-05-23T07:48:34.254Z"
   },
   {
    "duration": 15,
    "start_time": "2023-05-23T07:49:57.202Z"
   },
   {
    "duration": 18,
    "start_time": "2023-05-23T07:58:13.364Z"
   },
   {
    "duration": 14,
    "start_time": "2023-05-23T07:58:56.730Z"
   },
   {
    "duration": 6,
    "start_time": "2023-05-23T07:59:30.470Z"
   },
   {
    "duration": 6,
    "start_time": "2023-05-23T07:59:36.991Z"
   },
   {
    "duration": 5,
    "start_time": "2023-05-23T08:01:09.838Z"
   },
   {
    "duration": 4,
    "start_time": "2023-05-23T08:01:21.693Z"
   },
   {
    "duration": 1650,
    "start_time": "2023-05-23T11:26:52.859Z"
   },
   {
    "duration": 102,
    "start_time": "2023-05-23T11:26:54.511Z"
   },
   {
    "duration": 21,
    "start_time": "2023-05-23T11:26:54.615Z"
   },
   {
    "duration": 5,
    "start_time": "2023-05-23T11:26:54.638Z"
   },
   {
    "duration": 11,
    "start_time": "2023-05-23T11:26:54.645Z"
   },
   {
    "duration": 57,
    "start_time": "2023-05-23T11:26:54.658Z"
   },
   {
    "duration": 9,
    "start_time": "2023-05-23T11:26:54.716Z"
   },
   {
    "duration": 4,
    "start_time": "2023-05-23T11:26:54.727Z"
   },
   {
    "duration": 75,
    "start_time": "2023-05-23T11:26:54.733Z"
   },
   {
    "duration": 194,
    "start_time": "2023-05-23T11:26:54.811Z"
   },
   {
    "duration": 8,
    "start_time": "2023-05-23T11:26:55.008Z"
   },
   {
    "duration": 87,
    "start_time": "2023-05-23T11:26:55.021Z"
   },
   {
    "duration": 109,
    "start_time": "2023-05-23T11:26:55.110Z"
   },
   {
    "duration": 17,
    "start_time": "2023-05-23T11:26:55.221Z"
   },
   {
    "duration": 7,
    "start_time": "2023-05-23T11:26:55.241Z"
   },
   {
    "duration": 22,
    "start_time": "2023-05-23T11:26:55.250Z"
   },
   {
    "duration": 8,
    "start_time": "2023-05-23T11:26:55.274Z"
   },
   {
    "duration": 36,
    "start_time": "2023-05-23T11:26:55.285Z"
   },
   {
    "duration": 1555,
    "start_time": "2023-05-23T21:30:41.091Z"
   },
   {
    "duration": 129,
    "start_time": "2023-05-23T21:30:42.648Z"
   },
   {
    "duration": 14,
    "start_time": "2023-05-23T21:30:42.779Z"
   },
   {
    "duration": 8,
    "start_time": "2023-05-23T21:30:42.794Z"
   },
   {
    "duration": 13,
    "start_time": "2023-05-23T21:30:42.805Z"
   },
   {
    "duration": 99,
    "start_time": "2023-05-23T21:30:42.826Z"
   },
   {
    "duration": 113,
    "start_time": "2023-05-23T21:30:42.927Z"
   },
   {
    "duration": 12,
    "start_time": "2023-05-23T21:30:43.042Z"
   },
   {
    "duration": 73,
    "start_time": "2023-05-23T21:30:43.056Z"
   },
   {
    "duration": 5,
    "start_time": "2023-05-23T21:30:43.132Z"
   },
   {
    "duration": 10,
    "start_time": "2023-05-23T21:30:43.226Z"
   },
   {
    "duration": 96,
    "start_time": "2023-05-23T21:30:43.238Z"
   },
   {
    "duration": 107,
    "start_time": "2023-05-23T21:30:43.337Z"
   },
   {
    "duration": 10,
    "start_time": "2023-05-23T21:30:43.447Z"
   },
   {
    "duration": 24,
    "start_time": "2023-05-23T21:30:43.458Z"
   },
   {
    "duration": 18,
    "start_time": "2023-05-23T21:30:43.484Z"
   },
   {
    "duration": 10,
    "start_time": "2023-05-23T21:30:43.504Z"
   },
   {
    "duration": 7,
    "start_time": "2023-05-23T21:30:43.516Z"
   },
   {
    "duration": 3,
    "start_time": "2023-05-23T21:37:33.632Z"
   },
   {
    "duration": 12,
    "start_time": "2023-05-23T21:37:41.490Z"
   },
   {
    "duration": 13,
    "start_time": "2023-05-23T21:37:49.051Z"
   },
   {
    "duration": 8,
    "start_time": "2023-05-23T21:37:56.697Z"
   },
   {
    "duration": 11,
    "start_time": "2023-05-23T21:38:00.945Z"
   },
   {
    "duration": 102,
    "start_time": "2023-05-23T21:39:33.760Z"
   },
   {
    "duration": 4,
    "start_time": "2023-05-23T21:39:42.246Z"
   },
   {
    "duration": 10,
    "start_time": "2023-05-23T21:39:58.924Z"
   },
   {
    "duration": 11,
    "start_time": "2023-05-23T21:40:10.134Z"
   },
   {
    "duration": 1385,
    "start_time": "2023-05-24T16:47:19.543Z"
   },
   {
    "duration": 37,
    "start_time": "2023-05-24T16:47:20.930Z"
   },
   {
    "duration": 11,
    "start_time": "2023-05-24T16:47:20.968Z"
   },
   {
    "duration": 3,
    "start_time": "2023-05-24T16:47:20.981Z"
   },
   {
    "duration": 34,
    "start_time": "2023-05-24T16:47:20.986Z"
   },
   {
    "duration": 72,
    "start_time": "2023-05-24T16:47:21.023Z"
   },
   {
    "duration": 102,
    "start_time": "2023-05-24T16:47:21.097Z"
   },
   {
    "duration": 11,
    "start_time": "2023-05-24T16:47:21.201Z"
   },
   {
    "duration": 9,
    "start_time": "2023-05-24T16:47:21.214Z"
   },
   {
    "duration": 177,
    "start_time": "2023-05-24T16:47:21.225Z"
   },
   {
    "duration": 10,
    "start_time": "2023-05-24T16:47:21.404Z"
   },
   {
    "duration": 180,
    "start_time": "2023-05-24T16:47:21.417Z"
   },
   {
    "duration": 23,
    "start_time": "2023-05-24T16:47:21.598Z"
   },
   {
    "duration": 17,
    "start_time": "2023-05-24T16:47:21.624Z"
   },
   {
    "duration": 9,
    "start_time": "2023-05-24T16:47:21.643Z"
   },
   {
    "duration": 20,
    "start_time": "2023-05-24T16:47:21.653Z"
   },
   {
    "duration": 31,
    "start_time": "2023-05-24T16:47:21.675Z"
   },
   {
    "duration": 28,
    "start_time": "2023-05-24T16:47:21.708Z"
   },
   {
    "duration": 10,
    "start_time": "2023-05-24T16:47:21.738Z"
   },
   {
    "duration": 27,
    "start_time": "2023-05-24T16:47:21.750Z"
   },
   {
    "duration": 22,
    "start_time": "2023-05-24T16:47:21.779Z"
   },
   {
    "duration": 34,
    "start_time": "2023-05-24T16:47:21.802Z"
   },
   {
    "duration": 190,
    "start_time": "2023-05-25T11:50:58.104Z"
   },
   {
    "duration": 37,
    "start_time": "2023-05-25T11:50:58.295Z"
   },
   {
    "duration": 10,
    "start_time": "2023-05-25T11:50:58.334Z"
   },
   {
    "duration": 6,
    "start_time": "2023-05-25T11:50:58.386Z"
   },
   {
    "duration": 32,
    "start_time": "2023-05-25T11:50:58.395Z"
   },
   {
    "duration": 165,
    "start_time": "2023-05-25T11:50:58.430Z"
   },
   {
    "duration": 15,
    "start_time": "2023-05-25T11:50:58.603Z"
   },
   {
    "duration": 4,
    "start_time": "2023-05-25T11:50:58.619Z"
   },
   {
    "duration": 83,
    "start_time": "2023-05-25T11:50:58.624Z"
   },
   {
    "duration": 197,
    "start_time": "2023-05-25T11:50:58.709Z"
   },
   {
    "duration": 12,
    "start_time": "2023-05-25T11:50:58.908Z"
   },
   {
    "duration": 123,
    "start_time": "2023-05-25T11:50:58.985Z"
   },
   {
    "duration": 10,
    "start_time": "2023-05-25T11:50:59.109Z"
   },
   {
    "duration": 11,
    "start_time": "2023-05-25T11:50:59.121Z"
   },
   {
    "duration": 64,
    "start_time": "2023-05-25T11:50:59.134Z"
   },
   {
    "duration": 13,
    "start_time": "2023-05-25T11:50:59.200Z"
   },
   {
    "duration": 6,
    "start_time": "2023-05-25T11:50:59.215Z"
   },
   {
    "duration": 75,
    "start_time": "2023-05-25T11:50:59.223Z"
   },
   {
    "duration": 55,
    "start_time": "2023-05-25T11:50:59.299Z"
   },
   {
    "duration": 71,
    "start_time": "2023-05-25T11:50:59.355Z"
   },
   {
    "duration": 60,
    "start_time": "2023-05-25T11:50:59.428Z"
   },
   {
    "duration": 106,
    "start_time": "2023-05-25T11:50:59.489Z"
   }
  ],
  "kernelspec": {
   "display_name": "Python 3 (ipykernel)",
   "language": "python",
   "name": "python3"
  },
  "language_info": {
   "codemirror_mode": {
    "name": "ipython",
    "version": 3
   },
   "file_extension": ".py",
   "mimetype": "text/x-python",
   "name": "python",
   "nbconvert_exporter": "python",
   "pygments_lexer": "ipython3",
   "version": "3.9.18"
  },
  "toc": {
   "base_numbering": 1,
   "nav_menu": {},
   "number_sections": true,
   "sideBar": true,
   "skip_h1_title": true,
   "title_cell": "Содержание",
   "title_sidebar": "Contents",
   "toc_cell": true,
   "toc_position": {},
   "toc_section_display": true,
   "toc_window_display": false
  }
 },
 "nbformat": 4,
 "nbformat_minor": 2
}
