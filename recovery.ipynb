{
 "cells": [
  {
   "cell_type": "markdown",
   "metadata": {
    "toc": true
   },
   "source": [
    "<h1>Содержание<span class=\"tocSkip\"></span></h1>\n",
    "<div class=\"toc\"><ul class=\"toc-item\"><li><span><a href=\"#Подготовка-данных\" data-toc-modified-id=\"Подготовка-данных-1\"><span class=\"toc-item-num\">1&nbsp;&nbsp;</span>Подготовка данных</a></span><ul class=\"toc-item\"><li><span><a href=\"#Проверка-эффективности-обогащения\" data-toc-modified-id=\"Проверка-эффективности-обогащения-1.1\"><span class=\"toc-item-num\">1.1&nbsp;&nbsp;</span>Проверка эффективности обогащения</a></span></li><li><span><a href=\"#Анализ-признаков,-недоступных-в-тестовой-выборке.-Что-это-за-параметры?-К-какому-типу-относятся?\" data-toc-modified-id=\"Анализ-признаков,-недоступных-в-тестовой-выборке.-Что-это-за-параметры?-К-какому-типу-относятся?-1.2\"><span class=\"toc-item-num\">1.2&nbsp;&nbsp;</span>Анализ признаков, недоступных в тестовой выборке. Что это за параметры? К какому типу относятся?</a></span></li><li><span><a href=\"#Предобработка-данных\" data-toc-modified-id=\"Предобработка-данных-1.3\"><span class=\"toc-item-num\">1.3&nbsp;&nbsp;</span>Предобработка данных</a></span></li></ul></li><li><span><a href=\"#Анализ-данных\" data-toc-modified-id=\"Анализ-данных-2\"><span class=\"toc-item-num\">2&nbsp;&nbsp;</span>Анализ данных</a></span><ul class=\"toc-item\"><li><span><a href=\"#Посмотрим,-как-меняется-концентрация-металлов-(Au,-Ag,-Pb)-на-различных-этапах-очистки.-Опишите-выводы.\" data-toc-modified-id=\"Посмотрим,-как-меняется-концентрация-металлов-(Au,-Ag,-Pb)-на-различных-этапах-очистки.-Опишите-выводы.-2.1\"><span class=\"toc-item-num\">2.1&nbsp;&nbsp;</span>Посмотрим, как меняется концентрация металлов (Au, Ag, Pb) на различных этапах очистки. Опишите выводы.</a></span></li><li><span><a href=\"#Сравнение-распределения-размеров-гранул-сырья-на-обучающей-и-тестовой-выборках.-Если-распределения-сильно-отличаются-друг-от-друга,-оценка-модели-будет-неправильной.\" data-toc-modified-id=\"Сравнение-распределения-размеров-гранул-сырья-на-обучающей-и-тестовой-выборках.-Если-распределения-сильно-отличаются-друг-от-друга,-оценка-модели-будет-неправильной.-2.2\"><span class=\"toc-item-num\">2.2&nbsp;&nbsp;</span>Сравнение распределения размеров гранул сырья на обучающей и тестовой выборках. Если распределения сильно отличаются друг от друга, оценка модели будет неправильной.</a></span></li><li><span><a href=\"#Исследование-суммарной-концентрации-всех-веществ-на-разных-стадиях:-в-сырье,-в-черновом-и-финальном-концентратах.\" data-toc-modified-id=\"Исследование-суммарной-концентрации-всех-веществ-на-разных-стадиях:-в-сырье,-в-черновом-и-финальном-концентратах.-2.3\"><span class=\"toc-item-num\">2.3&nbsp;&nbsp;</span>Исследование суммарной концентрации всех веществ на разных стадиях: в сырье, в черновом и финальном концентратах.</a></span></li></ul></li><li><span><a href=\"#Модель\" data-toc-modified-id=\"Модель-3\"><span class=\"toc-item-num\">3&nbsp;&nbsp;</span>Модель</a></span><ul class=\"toc-item\"><li><span><a href=\"#Функция-для-вычисления-итоговой-sMAPE\" data-toc-modified-id=\"Функция-для-вычисления-итоговой-sMAPE-3.1\"><span class=\"toc-item-num\">3.1&nbsp;&nbsp;</span>Функция для вычисления итоговой sMAPE</a></span></li><li><span><a href=\"#Обучение-разных-моделей-и-оценка-их-качества-кросс-валидацией.\" data-toc-modified-id=\"Обучение-разных-моделей-и-оценка-их-качества-кросс-валидацией.-3.2\"><span class=\"toc-item-num\">3.2&nbsp;&nbsp;</span>Обучение разных моделей и оценка их качества кросс-валидацией.</a></span></li></ul></li><li><span><a href=\"#Вывод\" data-toc-modified-id=\"Вывод-4\"><span class=\"toc-item-num\">4&nbsp;&nbsp;</span>Вывод</a></span></li></ul></div>"
   ]
  },
  {
   "cell_type": "markdown",
   "metadata": {},
   "source": [
    "# Восстановление золота из руды"
   ]
  },
  {
   "cell_type": "markdown",
   "metadata": {},
   "source": [
    "Подготовьте прототип модели машинного обучения для «Цифры». Компания разрабатывает решения для эффективной работы промышленных предприятий.\n",
    "\n",
    "Модель должна предсказать коэффициент восстановления золота из золотосодержащей руды. Используйте данные с параметрами добычи и очистки. \n",
    "\n",
    "Модель поможет оптимизировать производство, чтобы не запускать предприятие с убыточными характеристиками.\n",
    "\n",
    "Вам нужно:\n",
    "\n",
    "1. Подготовить данные;\n",
    "2. Провести исследовательский анализ данных;\n",
    "3. Построить и обучить модель.\n",
    "\n",
    "Чтобы выполнить проект, обращайтесь к библиотекам *pandas*, *matplotlib* и *sklearn.* Вам поможет их документация."
   ]
  },
  {
   "cell_type": "markdown",
   "metadata": {},
   "source": [
    "## Подготовка данных"
   ]
  },
  {
   "cell_type": "code",
   "execution_count": 42,
   "metadata": {},
   "outputs": [],
   "source": [
    "#импортируем нужные библиотеки\n",
    "import pandas as pd\n",
    "import numpy as np\n",
    "\n",
    "import seaborn as sns\n",
    "from matplotlib import pyplot as plt\n",
    "\n",
    "from sklearn.linear_model import LinearRegression\n",
    "from sklearn.tree import DecisionTreeRegressor\n",
    "from sklearn.ensemble import RandomForestRegressor\n",
    "from sklearn.dummy import DummyRegressor\n",
    "from sklearn.metrics import mean_absolute_error\n",
    "from sklearn.metrics import make_scorer\n",
    "\n",
    "\n",
    "from sklearn.preprocessing import StandardScaler\n",
    "from sklearn.model_selection import cross_val_score\n",
    "from sklearn.model_selection import cross_val_predict\n",
    "\n",
    "from tqdm import tqdm"
   ]
  },
  {
   "cell_type": "code",
   "execution_count": 43,
   "metadata": {},
   "outputs": [],
   "source": [
    "#выгрузим данные\n",
    "test_df = pd.read_csv('/datasets/gold_recovery_test_new.csv')\n",
    "train_df = pd.read_csv('/datasets/gold_recovery_train_new.csv')\n",
    "full_df = pd.read_csv('/datasets/gold_recovery_full_new.csv')"
   ]
  },
  {
   "cell_type": "code",
   "execution_count": 44,
   "metadata": {
    "scrolled": false
   },
   "outputs": [
    {
     "data": {
      "text/html": [
       "<div>\n",
       "<style scoped>\n",
       "    .dataframe tbody tr th:only-of-type {\n",
       "        vertical-align: middle;\n",
       "    }\n",
       "\n",
       "    .dataframe tbody tr th {\n",
       "        vertical-align: top;\n",
       "    }\n",
       "\n",
       "    .dataframe thead th {\n",
       "        text-align: right;\n",
       "    }\n",
       "</style>\n",
       "<table border=\"1\" class=\"dataframe\">\n",
       "  <thead>\n",
       "    <tr style=\"text-align: right;\">\n",
       "      <th></th>\n",
       "      <th>date</th>\n",
       "      <th>primary_cleaner.input.sulfate</th>\n",
       "      <th>primary_cleaner.input.depressant</th>\n",
       "      <th>primary_cleaner.input.feed_size</th>\n",
       "      <th>primary_cleaner.input.xanthate</th>\n",
       "      <th>primary_cleaner.state.floatbank8_a_air</th>\n",
       "      <th>primary_cleaner.state.floatbank8_a_level</th>\n",
       "      <th>primary_cleaner.state.floatbank8_b_air</th>\n",
       "      <th>primary_cleaner.state.floatbank8_b_level</th>\n",
       "      <th>primary_cleaner.state.floatbank8_c_air</th>\n",
       "      <th>...</th>\n",
       "      <th>secondary_cleaner.state.floatbank4_a_air</th>\n",
       "      <th>secondary_cleaner.state.floatbank4_a_level</th>\n",
       "      <th>secondary_cleaner.state.floatbank4_b_air</th>\n",
       "      <th>secondary_cleaner.state.floatbank4_b_level</th>\n",
       "      <th>secondary_cleaner.state.floatbank5_a_air</th>\n",
       "      <th>secondary_cleaner.state.floatbank5_a_level</th>\n",
       "      <th>secondary_cleaner.state.floatbank5_b_air</th>\n",
       "      <th>secondary_cleaner.state.floatbank5_b_level</th>\n",
       "      <th>secondary_cleaner.state.floatbank6_a_air</th>\n",
       "      <th>secondary_cleaner.state.floatbank6_a_level</th>\n",
       "    </tr>\n",
       "  </thead>\n",
       "  <tbody>\n",
       "    <tr>\n",
       "      <th>0</th>\n",
       "      <td>2016-09-01 00:59:59</td>\n",
       "      <td>210.800909</td>\n",
       "      <td>14.993118</td>\n",
       "      <td>8.080000</td>\n",
       "      <td>1.005021</td>\n",
       "      <td>1398.981301</td>\n",
       "      <td>-500.225577</td>\n",
       "      <td>1399.144926</td>\n",
       "      <td>-499.919735</td>\n",
       "      <td>1400.102998</td>\n",
       "      <td>...</td>\n",
       "      <td>12.023554</td>\n",
       "      <td>-497.795834</td>\n",
       "      <td>8.016656</td>\n",
       "      <td>-501.289139</td>\n",
       "      <td>7.946562</td>\n",
       "      <td>-432.317850</td>\n",
       "      <td>4.872511</td>\n",
       "      <td>-500.037437</td>\n",
       "      <td>26.705889</td>\n",
       "      <td>-499.709414</td>\n",
       "    </tr>\n",
       "    <tr>\n",
       "      <th>1</th>\n",
       "      <td>2016-09-01 01:59:59</td>\n",
       "      <td>215.392455</td>\n",
       "      <td>14.987471</td>\n",
       "      <td>8.080000</td>\n",
       "      <td>0.990469</td>\n",
       "      <td>1398.777912</td>\n",
       "      <td>-500.057435</td>\n",
       "      <td>1398.055362</td>\n",
       "      <td>-499.778182</td>\n",
       "      <td>1396.151033</td>\n",
       "      <td>...</td>\n",
       "      <td>12.058140</td>\n",
       "      <td>-498.695773</td>\n",
       "      <td>8.130979</td>\n",
       "      <td>-499.634209</td>\n",
       "      <td>7.958270</td>\n",
       "      <td>-525.839648</td>\n",
       "      <td>4.878850</td>\n",
       "      <td>-500.162375</td>\n",
       "      <td>25.019940</td>\n",
       "      <td>-499.819438</td>\n",
       "    </tr>\n",
       "    <tr>\n",
       "      <th>2</th>\n",
       "      <td>2016-09-01 02:59:59</td>\n",
       "      <td>215.259946</td>\n",
       "      <td>12.884934</td>\n",
       "      <td>7.786667</td>\n",
       "      <td>0.996043</td>\n",
       "      <td>1398.493666</td>\n",
       "      <td>-500.868360</td>\n",
       "      <td>1398.860436</td>\n",
       "      <td>-499.764529</td>\n",
       "      <td>1398.075709</td>\n",
       "      <td>...</td>\n",
       "      <td>11.962366</td>\n",
       "      <td>-498.767484</td>\n",
       "      <td>8.096893</td>\n",
       "      <td>-500.827423</td>\n",
       "      <td>8.071056</td>\n",
       "      <td>-500.801673</td>\n",
       "      <td>4.905125</td>\n",
       "      <td>-499.828510</td>\n",
       "      <td>24.994862</td>\n",
       "      <td>-500.622559</td>\n",
       "    </tr>\n",
       "    <tr>\n",
       "      <th>3</th>\n",
       "      <td>2016-09-01 03:59:59</td>\n",
       "      <td>215.336236</td>\n",
       "      <td>12.006805</td>\n",
       "      <td>7.640000</td>\n",
       "      <td>0.863514</td>\n",
       "      <td>1399.618111</td>\n",
       "      <td>-498.863574</td>\n",
       "      <td>1397.440120</td>\n",
       "      <td>-499.211024</td>\n",
       "      <td>1400.129303</td>\n",
       "      <td>...</td>\n",
       "      <td>12.033091</td>\n",
       "      <td>-498.350935</td>\n",
       "      <td>8.074946</td>\n",
       "      <td>-499.474407</td>\n",
       "      <td>7.897085</td>\n",
       "      <td>-500.868509</td>\n",
       "      <td>4.931400</td>\n",
       "      <td>-499.963623</td>\n",
       "      <td>24.948919</td>\n",
       "      <td>-498.709987</td>\n",
       "    </tr>\n",
       "    <tr>\n",
       "      <th>4</th>\n",
       "      <td>2016-09-01 04:59:59</td>\n",
       "      <td>199.099327</td>\n",
       "      <td>10.682530</td>\n",
       "      <td>7.530000</td>\n",
       "      <td>0.805575</td>\n",
       "      <td>1401.268123</td>\n",
       "      <td>-500.808305</td>\n",
       "      <td>1398.128818</td>\n",
       "      <td>-499.504543</td>\n",
       "      <td>1402.172226</td>\n",
       "      <td>...</td>\n",
       "      <td>12.025367</td>\n",
       "      <td>-500.786497</td>\n",
       "      <td>8.054678</td>\n",
       "      <td>-500.397500</td>\n",
       "      <td>8.107890</td>\n",
       "      <td>-509.526725</td>\n",
       "      <td>4.957674</td>\n",
       "      <td>-500.360026</td>\n",
       "      <td>25.003331</td>\n",
       "      <td>-500.856333</td>\n",
       "    </tr>\n",
       "  </tbody>\n",
       "</table>\n",
       "<p>5 rows × 53 columns</p>\n",
       "</div>"
      ],
      "text/plain": [
       "                  date  primary_cleaner.input.sulfate  \\\n",
       "0  2016-09-01 00:59:59                     210.800909   \n",
       "1  2016-09-01 01:59:59                     215.392455   \n",
       "2  2016-09-01 02:59:59                     215.259946   \n",
       "3  2016-09-01 03:59:59                     215.336236   \n",
       "4  2016-09-01 04:59:59                     199.099327   \n",
       "\n",
       "   primary_cleaner.input.depressant  primary_cleaner.input.feed_size  \\\n",
       "0                         14.993118                         8.080000   \n",
       "1                         14.987471                         8.080000   \n",
       "2                         12.884934                         7.786667   \n",
       "3                         12.006805                         7.640000   \n",
       "4                         10.682530                         7.530000   \n",
       "\n",
       "   primary_cleaner.input.xanthate  primary_cleaner.state.floatbank8_a_air  \\\n",
       "0                        1.005021                             1398.981301   \n",
       "1                        0.990469                             1398.777912   \n",
       "2                        0.996043                             1398.493666   \n",
       "3                        0.863514                             1399.618111   \n",
       "4                        0.805575                             1401.268123   \n",
       "\n",
       "   primary_cleaner.state.floatbank8_a_level  \\\n",
       "0                               -500.225577   \n",
       "1                               -500.057435   \n",
       "2                               -500.868360   \n",
       "3                               -498.863574   \n",
       "4                               -500.808305   \n",
       "\n",
       "   primary_cleaner.state.floatbank8_b_air  \\\n",
       "0                             1399.144926   \n",
       "1                             1398.055362   \n",
       "2                             1398.860436   \n",
       "3                             1397.440120   \n",
       "4                             1398.128818   \n",
       "\n",
       "   primary_cleaner.state.floatbank8_b_level  \\\n",
       "0                               -499.919735   \n",
       "1                               -499.778182   \n",
       "2                               -499.764529   \n",
       "3                               -499.211024   \n",
       "4                               -499.504543   \n",
       "\n",
       "   primary_cleaner.state.floatbank8_c_air  ...  \\\n",
       "0                             1400.102998  ...   \n",
       "1                             1396.151033  ...   \n",
       "2                             1398.075709  ...   \n",
       "3                             1400.129303  ...   \n",
       "4                             1402.172226  ...   \n",
       "\n",
       "   secondary_cleaner.state.floatbank4_a_air  \\\n",
       "0                                 12.023554   \n",
       "1                                 12.058140   \n",
       "2                                 11.962366   \n",
       "3                                 12.033091   \n",
       "4                                 12.025367   \n",
       "\n",
       "   secondary_cleaner.state.floatbank4_a_level  \\\n",
       "0                                 -497.795834   \n",
       "1                                 -498.695773   \n",
       "2                                 -498.767484   \n",
       "3                                 -498.350935   \n",
       "4                                 -500.786497   \n",
       "\n",
       "   secondary_cleaner.state.floatbank4_b_air  \\\n",
       "0                                  8.016656   \n",
       "1                                  8.130979   \n",
       "2                                  8.096893   \n",
       "3                                  8.074946   \n",
       "4                                  8.054678   \n",
       "\n",
       "   secondary_cleaner.state.floatbank4_b_level  \\\n",
       "0                                 -501.289139   \n",
       "1                                 -499.634209   \n",
       "2                                 -500.827423   \n",
       "3                                 -499.474407   \n",
       "4                                 -500.397500   \n",
       "\n",
       "   secondary_cleaner.state.floatbank5_a_air  \\\n",
       "0                                  7.946562   \n",
       "1                                  7.958270   \n",
       "2                                  8.071056   \n",
       "3                                  7.897085   \n",
       "4                                  8.107890   \n",
       "\n",
       "   secondary_cleaner.state.floatbank5_a_level  \\\n",
       "0                                 -432.317850   \n",
       "1                                 -525.839648   \n",
       "2                                 -500.801673   \n",
       "3                                 -500.868509   \n",
       "4                                 -509.526725   \n",
       "\n",
       "   secondary_cleaner.state.floatbank5_b_air  \\\n",
       "0                                  4.872511   \n",
       "1                                  4.878850   \n",
       "2                                  4.905125   \n",
       "3                                  4.931400   \n",
       "4                                  4.957674   \n",
       "\n",
       "   secondary_cleaner.state.floatbank5_b_level  \\\n",
       "0                                 -500.037437   \n",
       "1                                 -500.162375   \n",
       "2                                 -499.828510   \n",
       "3                                 -499.963623   \n",
       "4                                 -500.360026   \n",
       "\n",
       "   secondary_cleaner.state.floatbank6_a_air  \\\n",
       "0                                 26.705889   \n",
       "1                                 25.019940   \n",
       "2                                 24.994862   \n",
       "3                                 24.948919   \n",
       "4                                 25.003331   \n",
       "\n",
       "   secondary_cleaner.state.floatbank6_a_level  \n",
       "0                                 -499.709414  \n",
       "1                                 -499.819438  \n",
       "2                                 -500.622559  \n",
       "3                                 -498.709987  \n",
       "4                                 -500.856333  \n",
       "\n",
       "[5 rows x 53 columns]"
      ]
     },
     "execution_count": 44,
     "metadata": {},
     "output_type": "execute_result"
    }
   ],
   "source": [
    "#посмотрим на данные\n",
    "test_df.head()"
   ]
  },
  {
   "cell_type": "code",
   "execution_count": 45,
   "metadata": {
    "scrolled": true
   },
   "outputs": [
    {
     "data": {
      "text/html": [
       "<div>\n",
       "<style scoped>\n",
       "    .dataframe tbody tr th:only-of-type {\n",
       "        vertical-align: middle;\n",
       "    }\n",
       "\n",
       "    .dataframe tbody tr th {\n",
       "        vertical-align: top;\n",
       "    }\n",
       "\n",
       "    .dataframe thead th {\n",
       "        text-align: right;\n",
       "    }\n",
       "</style>\n",
       "<table border=\"1\" class=\"dataframe\">\n",
       "  <thead>\n",
       "    <tr style=\"text-align: right;\">\n",
       "      <th></th>\n",
       "      <th>date</th>\n",
       "      <th>final.output.concentrate_ag</th>\n",
       "      <th>final.output.concentrate_pb</th>\n",
       "      <th>final.output.concentrate_sol</th>\n",
       "      <th>final.output.concentrate_au</th>\n",
       "      <th>final.output.recovery</th>\n",
       "      <th>final.output.tail_ag</th>\n",
       "      <th>final.output.tail_pb</th>\n",
       "      <th>final.output.tail_sol</th>\n",
       "      <th>final.output.tail_au</th>\n",
       "      <th>...</th>\n",
       "      <th>secondary_cleaner.state.floatbank4_a_air</th>\n",
       "      <th>secondary_cleaner.state.floatbank4_a_level</th>\n",
       "      <th>secondary_cleaner.state.floatbank4_b_air</th>\n",
       "      <th>secondary_cleaner.state.floatbank4_b_level</th>\n",
       "      <th>secondary_cleaner.state.floatbank5_a_air</th>\n",
       "      <th>secondary_cleaner.state.floatbank5_a_level</th>\n",
       "      <th>secondary_cleaner.state.floatbank5_b_air</th>\n",
       "      <th>secondary_cleaner.state.floatbank5_b_level</th>\n",
       "      <th>secondary_cleaner.state.floatbank6_a_air</th>\n",
       "      <th>secondary_cleaner.state.floatbank6_a_level</th>\n",
       "    </tr>\n",
       "  </thead>\n",
       "  <tbody>\n",
       "    <tr>\n",
       "      <th>0</th>\n",
       "      <td>2016-01-15 00:00:00</td>\n",
       "      <td>6.055403</td>\n",
       "      <td>9.889648</td>\n",
       "      <td>5.507324</td>\n",
       "      <td>42.192020</td>\n",
       "      <td>70.541216</td>\n",
       "      <td>10.411962</td>\n",
       "      <td>0.895447</td>\n",
       "      <td>16.904297</td>\n",
       "      <td>2.143149</td>\n",
       "      <td>...</td>\n",
       "      <td>14.016835</td>\n",
       "      <td>-502.488007</td>\n",
       "      <td>12.099931</td>\n",
       "      <td>-504.715942</td>\n",
       "      <td>9.925633</td>\n",
       "      <td>-498.310211</td>\n",
       "      <td>8.079666</td>\n",
       "      <td>-500.470978</td>\n",
       "      <td>14.151341</td>\n",
       "      <td>-605.841980</td>\n",
       "    </tr>\n",
       "    <tr>\n",
       "      <th>1</th>\n",
       "      <td>2016-01-15 01:00:00</td>\n",
       "      <td>6.029369</td>\n",
       "      <td>9.968944</td>\n",
       "      <td>5.257781</td>\n",
       "      <td>42.701629</td>\n",
       "      <td>69.266198</td>\n",
       "      <td>10.462676</td>\n",
       "      <td>0.927452</td>\n",
       "      <td>16.634514</td>\n",
       "      <td>2.224930</td>\n",
       "      <td>...</td>\n",
       "      <td>13.992281</td>\n",
       "      <td>-505.503262</td>\n",
       "      <td>11.950531</td>\n",
       "      <td>-501.331529</td>\n",
       "      <td>10.039245</td>\n",
       "      <td>-500.169983</td>\n",
       "      <td>7.984757</td>\n",
       "      <td>-500.582168</td>\n",
       "      <td>13.998353</td>\n",
       "      <td>-599.787184</td>\n",
       "    </tr>\n",
       "    <tr>\n",
       "      <th>2</th>\n",
       "      <td>2016-01-15 02:00:00</td>\n",
       "      <td>6.055926</td>\n",
       "      <td>10.213995</td>\n",
       "      <td>5.383759</td>\n",
       "      <td>42.657501</td>\n",
       "      <td>68.116445</td>\n",
       "      <td>10.507046</td>\n",
       "      <td>0.953716</td>\n",
       "      <td>16.208849</td>\n",
       "      <td>2.257889</td>\n",
       "      <td>...</td>\n",
       "      <td>14.015015</td>\n",
       "      <td>-502.520901</td>\n",
       "      <td>11.912783</td>\n",
       "      <td>-501.133383</td>\n",
       "      <td>10.070913</td>\n",
       "      <td>-500.129135</td>\n",
       "      <td>8.013877</td>\n",
       "      <td>-500.517572</td>\n",
       "      <td>14.028663</td>\n",
       "      <td>-601.427363</td>\n",
       "    </tr>\n",
       "    <tr>\n",
       "      <th>3</th>\n",
       "      <td>2016-01-15 03:00:00</td>\n",
       "      <td>6.047977</td>\n",
       "      <td>9.977019</td>\n",
       "      <td>4.858634</td>\n",
       "      <td>42.689819</td>\n",
       "      <td>68.347543</td>\n",
       "      <td>10.422762</td>\n",
       "      <td>0.883763</td>\n",
       "      <td>16.532835</td>\n",
       "      <td>2.146849</td>\n",
       "      <td>...</td>\n",
       "      <td>14.036510</td>\n",
       "      <td>-500.857308</td>\n",
       "      <td>11.999550</td>\n",
       "      <td>-501.193686</td>\n",
       "      <td>9.970366</td>\n",
       "      <td>-499.201640</td>\n",
       "      <td>7.977324</td>\n",
       "      <td>-500.255908</td>\n",
       "      <td>14.005551</td>\n",
       "      <td>-599.996129</td>\n",
       "    </tr>\n",
       "    <tr>\n",
       "      <th>4</th>\n",
       "      <td>2016-01-15 04:00:00</td>\n",
       "      <td>6.148599</td>\n",
       "      <td>10.142511</td>\n",
       "      <td>4.939416</td>\n",
       "      <td>42.774141</td>\n",
       "      <td>66.927016</td>\n",
       "      <td>10.360302</td>\n",
       "      <td>0.792826</td>\n",
       "      <td>16.525686</td>\n",
       "      <td>2.055292</td>\n",
       "      <td>...</td>\n",
       "      <td>14.027298</td>\n",
       "      <td>-499.838632</td>\n",
       "      <td>11.953070</td>\n",
       "      <td>-501.053894</td>\n",
       "      <td>9.925709</td>\n",
       "      <td>-501.686727</td>\n",
       "      <td>7.894242</td>\n",
       "      <td>-500.356035</td>\n",
       "      <td>13.996647</td>\n",
       "      <td>-601.496691</td>\n",
       "    </tr>\n",
       "  </tbody>\n",
       "</table>\n",
       "<p>5 rows × 87 columns</p>\n",
       "</div>"
      ],
      "text/plain": [
       "                  date  final.output.concentrate_ag  \\\n",
       "0  2016-01-15 00:00:00                     6.055403   \n",
       "1  2016-01-15 01:00:00                     6.029369   \n",
       "2  2016-01-15 02:00:00                     6.055926   \n",
       "3  2016-01-15 03:00:00                     6.047977   \n",
       "4  2016-01-15 04:00:00                     6.148599   \n",
       "\n",
       "   final.output.concentrate_pb  final.output.concentrate_sol  \\\n",
       "0                     9.889648                      5.507324   \n",
       "1                     9.968944                      5.257781   \n",
       "2                    10.213995                      5.383759   \n",
       "3                     9.977019                      4.858634   \n",
       "4                    10.142511                      4.939416   \n",
       "\n",
       "   final.output.concentrate_au  final.output.recovery  final.output.tail_ag  \\\n",
       "0                    42.192020              70.541216             10.411962   \n",
       "1                    42.701629              69.266198             10.462676   \n",
       "2                    42.657501              68.116445             10.507046   \n",
       "3                    42.689819              68.347543             10.422762   \n",
       "4                    42.774141              66.927016             10.360302   \n",
       "\n",
       "   final.output.tail_pb  final.output.tail_sol  final.output.tail_au  ...  \\\n",
       "0              0.895447              16.904297              2.143149  ...   \n",
       "1              0.927452              16.634514              2.224930  ...   \n",
       "2              0.953716              16.208849              2.257889  ...   \n",
       "3              0.883763              16.532835              2.146849  ...   \n",
       "4              0.792826              16.525686              2.055292  ...   \n",
       "\n",
       "   secondary_cleaner.state.floatbank4_a_air  \\\n",
       "0                                 14.016835   \n",
       "1                                 13.992281   \n",
       "2                                 14.015015   \n",
       "3                                 14.036510   \n",
       "4                                 14.027298   \n",
       "\n",
       "   secondary_cleaner.state.floatbank4_a_level  \\\n",
       "0                                 -502.488007   \n",
       "1                                 -505.503262   \n",
       "2                                 -502.520901   \n",
       "3                                 -500.857308   \n",
       "4                                 -499.838632   \n",
       "\n",
       "   secondary_cleaner.state.floatbank4_b_air  \\\n",
       "0                                 12.099931   \n",
       "1                                 11.950531   \n",
       "2                                 11.912783   \n",
       "3                                 11.999550   \n",
       "4                                 11.953070   \n",
       "\n",
       "   secondary_cleaner.state.floatbank4_b_level  \\\n",
       "0                                 -504.715942   \n",
       "1                                 -501.331529   \n",
       "2                                 -501.133383   \n",
       "3                                 -501.193686   \n",
       "4                                 -501.053894   \n",
       "\n",
       "   secondary_cleaner.state.floatbank5_a_air  \\\n",
       "0                                  9.925633   \n",
       "1                                 10.039245   \n",
       "2                                 10.070913   \n",
       "3                                  9.970366   \n",
       "4                                  9.925709   \n",
       "\n",
       "   secondary_cleaner.state.floatbank5_a_level  \\\n",
       "0                                 -498.310211   \n",
       "1                                 -500.169983   \n",
       "2                                 -500.129135   \n",
       "3                                 -499.201640   \n",
       "4                                 -501.686727   \n",
       "\n",
       "   secondary_cleaner.state.floatbank5_b_air  \\\n",
       "0                                  8.079666   \n",
       "1                                  7.984757   \n",
       "2                                  8.013877   \n",
       "3                                  7.977324   \n",
       "4                                  7.894242   \n",
       "\n",
       "   secondary_cleaner.state.floatbank5_b_level  \\\n",
       "0                                 -500.470978   \n",
       "1                                 -500.582168   \n",
       "2                                 -500.517572   \n",
       "3                                 -500.255908   \n",
       "4                                 -500.356035   \n",
       "\n",
       "   secondary_cleaner.state.floatbank6_a_air  \\\n",
       "0                                 14.151341   \n",
       "1                                 13.998353   \n",
       "2                                 14.028663   \n",
       "3                                 14.005551   \n",
       "4                                 13.996647   \n",
       "\n",
       "   secondary_cleaner.state.floatbank6_a_level  \n",
       "0                                 -605.841980  \n",
       "1                                 -599.787184  \n",
       "2                                 -601.427363  \n",
       "3                                 -599.996129  \n",
       "4                                 -601.496691  \n",
       "\n",
       "[5 rows x 87 columns]"
      ]
     },
     "execution_count": 45,
     "metadata": {},
     "output_type": "execute_result"
    }
   ],
   "source": [
    "train_df.head()"
   ]
  },
  {
   "cell_type": "code",
   "execution_count": 46,
   "metadata": {
    "scrolled": false
   },
   "outputs": [
    {
     "data": {
      "text/html": [
       "<div>\n",
       "<style scoped>\n",
       "    .dataframe tbody tr th:only-of-type {\n",
       "        vertical-align: middle;\n",
       "    }\n",
       "\n",
       "    .dataframe tbody tr th {\n",
       "        vertical-align: top;\n",
       "    }\n",
       "\n",
       "    .dataframe thead th {\n",
       "        text-align: right;\n",
       "    }\n",
       "</style>\n",
       "<table border=\"1\" class=\"dataframe\">\n",
       "  <thead>\n",
       "    <tr style=\"text-align: right;\">\n",
       "      <th></th>\n",
       "      <th>date</th>\n",
       "      <th>final.output.concentrate_ag</th>\n",
       "      <th>final.output.concentrate_pb</th>\n",
       "      <th>final.output.concentrate_sol</th>\n",
       "      <th>final.output.concentrate_au</th>\n",
       "      <th>final.output.recovery</th>\n",
       "      <th>final.output.tail_ag</th>\n",
       "      <th>final.output.tail_pb</th>\n",
       "      <th>final.output.tail_sol</th>\n",
       "      <th>final.output.tail_au</th>\n",
       "      <th>...</th>\n",
       "      <th>secondary_cleaner.state.floatbank4_a_air</th>\n",
       "      <th>secondary_cleaner.state.floatbank4_a_level</th>\n",
       "      <th>secondary_cleaner.state.floatbank4_b_air</th>\n",
       "      <th>secondary_cleaner.state.floatbank4_b_level</th>\n",
       "      <th>secondary_cleaner.state.floatbank5_a_air</th>\n",
       "      <th>secondary_cleaner.state.floatbank5_a_level</th>\n",
       "      <th>secondary_cleaner.state.floatbank5_b_air</th>\n",
       "      <th>secondary_cleaner.state.floatbank5_b_level</th>\n",
       "      <th>secondary_cleaner.state.floatbank6_a_air</th>\n",
       "      <th>secondary_cleaner.state.floatbank6_a_level</th>\n",
       "    </tr>\n",
       "  </thead>\n",
       "  <tbody>\n",
       "    <tr>\n",
       "      <th>0</th>\n",
       "      <td>2016-01-15 00:00:00</td>\n",
       "      <td>6.055403</td>\n",
       "      <td>9.889648</td>\n",
       "      <td>5.507324</td>\n",
       "      <td>42.192020</td>\n",
       "      <td>70.541216</td>\n",
       "      <td>10.411962</td>\n",
       "      <td>0.895447</td>\n",
       "      <td>16.904297</td>\n",
       "      <td>2.143149</td>\n",
       "      <td>...</td>\n",
       "      <td>14.016835</td>\n",
       "      <td>-502.488007</td>\n",
       "      <td>12.099931</td>\n",
       "      <td>-504.715942</td>\n",
       "      <td>9.925633</td>\n",
       "      <td>-498.310211</td>\n",
       "      <td>8.079666</td>\n",
       "      <td>-500.470978</td>\n",
       "      <td>14.151341</td>\n",
       "      <td>-605.841980</td>\n",
       "    </tr>\n",
       "    <tr>\n",
       "      <th>1</th>\n",
       "      <td>2016-01-15 01:00:00</td>\n",
       "      <td>6.029369</td>\n",
       "      <td>9.968944</td>\n",
       "      <td>5.257781</td>\n",
       "      <td>42.701629</td>\n",
       "      <td>69.266198</td>\n",
       "      <td>10.462676</td>\n",
       "      <td>0.927452</td>\n",
       "      <td>16.634514</td>\n",
       "      <td>2.224930</td>\n",
       "      <td>...</td>\n",
       "      <td>13.992281</td>\n",
       "      <td>-505.503262</td>\n",
       "      <td>11.950531</td>\n",
       "      <td>-501.331529</td>\n",
       "      <td>10.039245</td>\n",
       "      <td>-500.169983</td>\n",
       "      <td>7.984757</td>\n",
       "      <td>-500.582168</td>\n",
       "      <td>13.998353</td>\n",
       "      <td>-599.787184</td>\n",
       "    </tr>\n",
       "    <tr>\n",
       "      <th>2</th>\n",
       "      <td>2016-01-15 02:00:00</td>\n",
       "      <td>6.055926</td>\n",
       "      <td>10.213995</td>\n",
       "      <td>5.383759</td>\n",
       "      <td>42.657501</td>\n",
       "      <td>68.116445</td>\n",
       "      <td>10.507046</td>\n",
       "      <td>0.953716</td>\n",
       "      <td>16.208849</td>\n",
       "      <td>2.257889</td>\n",
       "      <td>...</td>\n",
       "      <td>14.015015</td>\n",
       "      <td>-502.520901</td>\n",
       "      <td>11.912783</td>\n",
       "      <td>-501.133383</td>\n",
       "      <td>10.070913</td>\n",
       "      <td>-500.129135</td>\n",
       "      <td>8.013877</td>\n",
       "      <td>-500.517572</td>\n",
       "      <td>14.028663</td>\n",
       "      <td>-601.427363</td>\n",
       "    </tr>\n",
       "    <tr>\n",
       "      <th>3</th>\n",
       "      <td>2016-01-15 03:00:00</td>\n",
       "      <td>6.047977</td>\n",
       "      <td>9.977019</td>\n",
       "      <td>4.858634</td>\n",
       "      <td>42.689819</td>\n",
       "      <td>68.347543</td>\n",
       "      <td>10.422762</td>\n",
       "      <td>0.883763</td>\n",
       "      <td>16.532835</td>\n",
       "      <td>2.146849</td>\n",
       "      <td>...</td>\n",
       "      <td>14.036510</td>\n",
       "      <td>-500.857308</td>\n",
       "      <td>11.999550</td>\n",
       "      <td>-501.193686</td>\n",
       "      <td>9.970366</td>\n",
       "      <td>-499.201640</td>\n",
       "      <td>7.977324</td>\n",
       "      <td>-500.255908</td>\n",
       "      <td>14.005551</td>\n",
       "      <td>-599.996129</td>\n",
       "    </tr>\n",
       "    <tr>\n",
       "      <th>4</th>\n",
       "      <td>2016-01-15 04:00:00</td>\n",
       "      <td>6.148599</td>\n",
       "      <td>10.142511</td>\n",
       "      <td>4.939416</td>\n",
       "      <td>42.774141</td>\n",
       "      <td>66.927016</td>\n",
       "      <td>10.360302</td>\n",
       "      <td>0.792826</td>\n",
       "      <td>16.525686</td>\n",
       "      <td>2.055292</td>\n",
       "      <td>...</td>\n",
       "      <td>14.027298</td>\n",
       "      <td>-499.838632</td>\n",
       "      <td>11.953070</td>\n",
       "      <td>-501.053894</td>\n",
       "      <td>9.925709</td>\n",
       "      <td>-501.686727</td>\n",
       "      <td>7.894242</td>\n",
       "      <td>-500.356035</td>\n",
       "      <td>13.996647</td>\n",
       "      <td>-601.496691</td>\n",
       "    </tr>\n",
       "  </tbody>\n",
       "</table>\n",
       "<p>5 rows × 87 columns</p>\n",
       "</div>"
      ],
      "text/plain": [
       "                  date  final.output.concentrate_ag  \\\n",
       "0  2016-01-15 00:00:00                     6.055403   \n",
       "1  2016-01-15 01:00:00                     6.029369   \n",
       "2  2016-01-15 02:00:00                     6.055926   \n",
       "3  2016-01-15 03:00:00                     6.047977   \n",
       "4  2016-01-15 04:00:00                     6.148599   \n",
       "\n",
       "   final.output.concentrate_pb  final.output.concentrate_sol  \\\n",
       "0                     9.889648                      5.507324   \n",
       "1                     9.968944                      5.257781   \n",
       "2                    10.213995                      5.383759   \n",
       "3                     9.977019                      4.858634   \n",
       "4                    10.142511                      4.939416   \n",
       "\n",
       "   final.output.concentrate_au  final.output.recovery  final.output.tail_ag  \\\n",
       "0                    42.192020              70.541216             10.411962   \n",
       "1                    42.701629              69.266198             10.462676   \n",
       "2                    42.657501              68.116445             10.507046   \n",
       "3                    42.689819              68.347543             10.422762   \n",
       "4                    42.774141              66.927016             10.360302   \n",
       "\n",
       "   final.output.tail_pb  final.output.tail_sol  final.output.tail_au  ...  \\\n",
       "0              0.895447              16.904297              2.143149  ...   \n",
       "1              0.927452              16.634514              2.224930  ...   \n",
       "2              0.953716              16.208849              2.257889  ...   \n",
       "3              0.883763              16.532835              2.146849  ...   \n",
       "4              0.792826              16.525686              2.055292  ...   \n",
       "\n",
       "   secondary_cleaner.state.floatbank4_a_air  \\\n",
       "0                                 14.016835   \n",
       "1                                 13.992281   \n",
       "2                                 14.015015   \n",
       "3                                 14.036510   \n",
       "4                                 14.027298   \n",
       "\n",
       "   secondary_cleaner.state.floatbank4_a_level  \\\n",
       "0                                 -502.488007   \n",
       "1                                 -505.503262   \n",
       "2                                 -502.520901   \n",
       "3                                 -500.857308   \n",
       "4                                 -499.838632   \n",
       "\n",
       "   secondary_cleaner.state.floatbank4_b_air  \\\n",
       "0                                 12.099931   \n",
       "1                                 11.950531   \n",
       "2                                 11.912783   \n",
       "3                                 11.999550   \n",
       "4                                 11.953070   \n",
       "\n",
       "   secondary_cleaner.state.floatbank4_b_level  \\\n",
       "0                                 -504.715942   \n",
       "1                                 -501.331529   \n",
       "2                                 -501.133383   \n",
       "3                                 -501.193686   \n",
       "4                                 -501.053894   \n",
       "\n",
       "   secondary_cleaner.state.floatbank5_a_air  \\\n",
       "0                                  9.925633   \n",
       "1                                 10.039245   \n",
       "2                                 10.070913   \n",
       "3                                  9.970366   \n",
       "4                                  9.925709   \n",
       "\n",
       "   secondary_cleaner.state.floatbank5_a_level  \\\n",
       "0                                 -498.310211   \n",
       "1                                 -500.169983   \n",
       "2                                 -500.129135   \n",
       "3                                 -499.201640   \n",
       "4                                 -501.686727   \n",
       "\n",
       "   secondary_cleaner.state.floatbank5_b_air  \\\n",
       "0                                  8.079666   \n",
       "1                                  7.984757   \n",
       "2                                  8.013877   \n",
       "3                                  7.977324   \n",
       "4                                  7.894242   \n",
       "\n",
       "   secondary_cleaner.state.floatbank5_b_level  \\\n",
       "0                                 -500.470978   \n",
       "1                                 -500.582168   \n",
       "2                                 -500.517572   \n",
       "3                                 -500.255908   \n",
       "4                                 -500.356035   \n",
       "\n",
       "   secondary_cleaner.state.floatbank6_a_air  \\\n",
       "0                                 14.151341   \n",
       "1                                 13.998353   \n",
       "2                                 14.028663   \n",
       "3                                 14.005551   \n",
       "4                                 13.996647   \n",
       "\n",
       "   secondary_cleaner.state.floatbank6_a_level  \n",
       "0                                 -605.841980  \n",
       "1                                 -599.787184  \n",
       "2                                 -601.427363  \n",
       "3                                 -599.996129  \n",
       "4                                 -601.496691  \n",
       "\n",
       "[5 rows x 87 columns]"
      ]
     },
     "execution_count": 46,
     "metadata": {},
     "output_type": "execute_result"
    }
   ],
   "source": [
    "full_df.head()"
   ]
  },
  {
   "cell_type": "code",
   "execution_count": 47,
   "metadata": {
    "scrolled": true
   },
   "outputs": [
    {
     "name": "stdout",
     "output_type": "stream",
     "text": [
      "<class 'pandas.core.frame.DataFrame'>\n",
      "RangeIndex: 5290 entries, 0 to 5289\n",
      "Data columns (total 53 columns):\n",
      " #   Column                                      Non-Null Count  Dtype  \n",
      "---  ------                                      --------------  -----  \n",
      " 0   date                                        5290 non-null   object \n",
      " 1   primary_cleaner.input.sulfate               5286 non-null   float64\n",
      " 2   primary_cleaner.input.depressant            5285 non-null   float64\n",
      " 3   primary_cleaner.input.feed_size             5290 non-null   float64\n",
      " 4   primary_cleaner.input.xanthate              5286 non-null   float64\n",
      " 5   primary_cleaner.state.floatbank8_a_air      5290 non-null   float64\n",
      " 6   primary_cleaner.state.floatbank8_a_level    5290 non-null   float64\n",
      " 7   primary_cleaner.state.floatbank8_b_air      5290 non-null   float64\n",
      " 8   primary_cleaner.state.floatbank8_b_level    5290 non-null   float64\n",
      " 9   primary_cleaner.state.floatbank8_c_air      5290 non-null   float64\n",
      " 10  primary_cleaner.state.floatbank8_c_level    5290 non-null   float64\n",
      " 11  primary_cleaner.state.floatbank8_d_air      5290 non-null   float64\n",
      " 12  primary_cleaner.state.floatbank8_d_level    5290 non-null   float64\n",
      " 13  rougher.input.feed_ag                       5290 non-null   float64\n",
      " 14  rougher.input.feed_pb                       5290 non-null   float64\n",
      " 15  rougher.input.feed_rate                     5287 non-null   float64\n",
      " 16  rougher.input.feed_size                     5289 non-null   float64\n",
      " 17  rougher.input.feed_sol                      5269 non-null   float64\n",
      " 18  rougher.input.feed_au                       5290 non-null   float64\n",
      " 19  rougher.input.floatbank10_sulfate           5285 non-null   float64\n",
      " 20  rougher.input.floatbank10_xanthate          5290 non-null   float64\n",
      " 21  rougher.input.floatbank11_sulfate           5282 non-null   float64\n",
      " 22  rougher.input.floatbank11_xanthate          5265 non-null   float64\n",
      " 23  rougher.state.floatbank10_a_air             5290 non-null   float64\n",
      " 24  rougher.state.floatbank10_a_level           5290 non-null   float64\n",
      " 25  rougher.state.floatbank10_b_air             5290 non-null   float64\n",
      " 26  rougher.state.floatbank10_b_level           5290 non-null   float64\n",
      " 27  rougher.state.floatbank10_c_air             5290 non-null   float64\n",
      " 28  rougher.state.floatbank10_c_level           5290 non-null   float64\n",
      " 29  rougher.state.floatbank10_d_air             5290 non-null   float64\n",
      " 30  rougher.state.floatbank10_d_level           5290 non-null   float64\n",
      " 31  rougher.state.floatbank10_e_air             5290 non-null   float64\n",
      " 32  rougher.state.floatbank10_e_level           5290 non-null   float64\n",
      " 33  rougher.state.floatbank10_f_air             5290 non-null   float64\n",
      " 34  rougher.state.floatbank10_f_level           5290 non-null   float64\n",
      " 35  secondary_cleaner.state.floatbank2_a_air    5287 non-null   float64\n",
      " 36  secondary_cleaner.state.floatbank2_a_level  5290 non-null   float64\n",
      " 37  secondary_cleaner.state.floatbank2_b_air    5288 non-null   float64\n",
      " 38  secondary_cleaner.state.floatbank2_b_level  5290 non-null   float64\n",
      " 39  secondary_cleaner.state.floatbank3_a_air    5281 non-null   float64\n",
      " 40  secondary_cleaner.state.floatbank3_a_level  5290 non-null   float64\n",
      " 41  secondary_cleaner.state.floatbank3_b_air    5290 non-null   float64\n",
      " 42  secondary_cleaner.state.floatbank3_b_level  5290 non-null   float64\n",
      " 43  secondary_cleaner.state.floatbank4_a_air    5290 non-null   float64\n",
      " 44  secondary_cleaner.state.floatbank4_a_level  5290 non-null   float64\n",
      " 45  secondary_cleaner.state.floatbank4_b_air    5290 non-null   float64\n",
      " 46  secondary_cleaner.state.floatbank4_b_level  5290 non-null   float64\n",
      " 47  secondary_cleaner.state.floatbank5_a_air    5290 non-null   float64\n",
      " 48  secondary_cleaner.state.floatbank5_a_level  5290 non-null   float64\n",
      " 49  secondary_cleaner.state.floatbank5_b_air    5290 non-null   float64\n",
      " 50  secondary_cleaner.state.floatbank5_b_level  5290 non-null   float64\n",
      " 51  secondary_cleaner.state.floatbank6_a_air    5290 non-null   float64\n",
      " 52  secondary_cleaner.state.floatbank6_a_level  5290 non-null   float64\n",
      "dtypes: float64(52), object(1)\n",
      "memory usage: 2.1+ MB\n"
     ]
    },
    {
     "data": {
      "text/plain": [
       "None"
      ]
     },
     "metadata": {},
     "output_type": "display_data"
    }
   ],
   "source": [
    "display(test_df.info())"
   ]
  },
  {
   "cell_type": "code",
   "execution_count": 48,
   "metadata": {
    "scrolled": true
   },
   "outputs": [
    {
     "name": "stdout",
     "output_type": "stream",
     "text": [
      "<class 'pandas.core.frame.DataFrame'>\n",
      "RangeIndex: 14149 entries, 0 to 14148\n",
      "Data columns (total 87 columns):\n",
      " #   Column                                              Non-Null Count  Dtype  \n",
      "---  ------                                              --------------  -----  \n",
      " 0   date                                                14149 non-null  object \n",
      " 1   final.output.concentrate_ag                         14148 non-null  float64\n",
      " 2   final.output.concentrate_pb                         14148 non-null  float64\n",
      " 3   final.output.concentrate_sol                        13938 non-null  float64\n",
      " 4   final.output.concentrate_au                         14149 non-null  float64\n",
      " 5   final.output.recovery                               14149 non-null  float64\n",
      " 6   final.output.tail_ag                                14149 non-null  float64\n",
      " 7   final.output.tail_pb                                14049 non-null  float64\n",
      " 8   final.output.tail_sol                               14144 non-null  float64\n",
      " 9   final.output.tail_au                                14149 non-null  float64\n",
      " 10  primary_cleaner.input.sulfate                       14129 non-null  float64\n",
      " 11  primary_cleaner.input.depressant                    14117 non-null  float64\n",
      " 12  primary_cleaner.input.feed_size                     14149 non-null  float64\n",
      " 13  primary_cleaner.input.xanthate                      14049 non-null  float64\n",
      " 14  primary_cleaner.output.concentrate_ag               14149 non-null  float64\n",
      " 15  primary_cleaner.output.concentrate_pb               14063 non-null  float64\n",
      " 16  primary_cleaner.output.concentrate_sol              13863 non-null  float64\n",
      " 17  primary_cleaner.output.concentrate_au               14149 non-null  float64\n",
      " 18  primary_cleaner.output.tail_ag                      14148 non-null  float64\n",
      " 19  primary_cleaner.output.tail_pb                      14134 non-null  float64\n",
      " 20  primary_cleaner.output.tail_sol                     14103 non-null  float64\n",
      " 21  primary_cleaner.output.tail_au                      14149 non-null  float64\n",
      " 22  primary_cleaner.state.floatbank8_a_air              14145 non-null  float64\n",
      " 23  primary_cleaner.state.floatbank8_a_level            14148 non-null  float64\n",
      " 24  primary_cleaner.state.floatbank8_b_air              14145 non-null  float64\n",
      " 25  primary_cleaner.state.floatbank8_b_level            14148 non-null  float64\n",
      " 26  primary_cleaner.state.floatbank8_c_air              14147 non-null  float64\n",
      " 27  primary_cleaner.state.floatbank8_c_level            14148 non-null  float64\n",
      " 28  primary_cleaner.state.floatbank8_d_air              14146 non-null  float64\n",
      " 29  primary_cleaner.state.floatbank8_d_level            14148 non-null  float64\n",
      " 30  rougher.calculation.sulfate_to_au_concentrate       14148 non-null  float64\n",
      " 31  rougher.calculation.floatbank10_sulfate_to_au_feed  14148 non-null  float64\n",
      " 32  rougher.calculation.floatbank11_sulfate_to_au_feed  14148 non-null  float64\n",
      " 33  rougher.calculation.au_pb_ratio                     14149 non-null  float64\n",
      " 34  rougher.input.feed_ag                               14149 non-null  float64\n",
      " 35  rougher.input.feed_pb                               14049 non-null  float64\n",
      " 36  rougher.input.feed_rate                             14141 non-null  float64\n",
      " 37  rougher.input.feed_size                             14005 non-null  float64\n",
      " 38  rougher.input.feed_sol                              14071 non-null  float64\n",
      " 39  rougher.input.feed_au                               14149 non-null  float64\n",
      " 40  rougher.input.floatbank10_sulfate                   14120 non-null  float64\n",
      " 41  rougher.input.floatbank10_xanthate                  14141 non-null  float64\n",
      " 42  rougher.input.floatbank11_sulfate                   14113 non-null  float64\n",
      " 43  rougher.input.floatbank11_xanthate                  13721 non-null  float64\n",
      " 44  rougher.output.concentrate_ag                       14149 non-null  float64\n",
      " 45  rougher.output.concentrate_pb                       14149 non-null  float64\n",
      " 46  rougher.output.concentrate_sol                      14127 non-null  float64\n",
      " 47  rougher.output.concentrate_au                       14149 non-null  float64\n",
      " 48  rougher.output.recovery                             14149 non-null  float64\n",
      " 49  rougher.output.tail_ag                              14148 non-null  float64\n",
      " 50  rougher.output.tail_pb                              14149 non-null  float64\n",
      " 51  rougher.output.tail_sol                             14149 non-null  float64\n",
      " 52  rougher.output.tail_au                              14149 non-null  float64\n",
      " 53  rougher.state.floatbank10_a_air                     14148 non-null  float64\n",
      " 54  rougher.state.floatbank10_a_level                   14148 non-null  float64\n",
      " 55  rougher.state.floatbank10_b_air                     14148 non-null  float64\n",
      " 56  rougher.state.floatbank10_b_level                   14148 non-null  float64\n",
      " 57  rougher.state.floatbank10_c_air                     14148 non-null  float64\n",
      " 58  rougher.state.floatbank10_c_level                   14148 non-null  float64\n",
      " 59  rougher.state.floatbank10_d_air                     14149 non-null  float64\n",
      " 60  rougher.state.floatbank10_d_level                   14149 non-null  float64\n",
      " 61  rougher.state.floatbank10_e_air                     13713 non-null  float64\n",
      " 62  rougher.state.floatbank10_e_level                   14149 non-null  float64\n",
      " 63  rougher.state.floatbank10_f_air                     14149 non-null  float64\n",
      " 64  rougher.state.floatbank10_f_level                   14149 non-null  float64\n",
      " 65  secondary_cleaner.output.tail_ag                    14147 non-null  float64\n",
      " 66  secondary_cleaner.output.tail_pb                    14139 non-null  float64\n",
      " 67  secondary_cleaner.output.tail_sol                   12544 non-null  float64\n",
      " 68  secondary_cleaner.output.tail_au                    14149 non-null  float64\n",
      " 69  secondary_cleaner.state.floatbank2_a_air            13932 non-null  float64\n",
      " 70  secondary_cleaner.state.floatbank2_a_level          14148 non-null  float64\n",
      " 71  secondary_cleaner.state.floatbank2_b_air            14128 non-null  float64\n",
      " 72  secondary_cleaner.state.floatbank2_b_level          14148 non-null  float64\n",
      " 73  secondary_cleaner.state.floatbank3_a_air            14145 non-null  float64\n",
      " 74  secondary_cleaner.state.floatbank3_a_level          14148 non-null  float64\n",
      " 75  secondary_cleaner.state.floatbank3_b_air            14148 non-null  float64\n",
      " 76  secondary_cleaner.state.floatbank3_b_level          14148 non-null  float64\n",
      " 77  secondary_cleaner.state.floatbank4_a_air            14143 non-null  float64\n",
      " 78  secondary_cleaner.state.floatbank4_a_level          14148 non-null  float64\n",
      " 79  secondary_cleaner.state.floatbank4_b_air            14148 non-null  float64\n",
      " 80  secondary_cleaner.state.floatbank4_b_level          14148 non-null  float64\n",
      " 81  secondary_cleaner.state.floatbank5_a_air            14148 non-null  float64\n",
      " 82  secondary_cleaner.state.floatbank5_a_level          14148 non-null  float64\n",
      " 83  secondary_cleaner.state.floatbank5_b_air            14148 non-null  float64\n",
      " 84  secondary_cleaner.state.floatbank5_b_level          14148 non-null  float64\n",
      " 85  secondary_cleaner.state.floatbank6_a_air            14147 non-null  float64\n",
      " 86  secondary_cleaner.state.floatbank6_a_level          14148 non-null  float64\n",
      "dtypes: float64(86), object(1)\n",
      "memory usage: 9.4+ MB\n"
     ]
    },
    {
     "data": {
      "text/plain": [
       "None"
      ]
     },
     "metadata": {},
     "output_type": "display_data"
    }
   ],
   "source": [
    "display(train_df.info())"
   ]
  },
  {
   "cell_type": "code",
   "execution_count": 49,
   "metadata": {
    "scrolled": true
   },
   "outputs": [
    {
     "name": "stdout",
     "output_type": "stream",
     "text": [
      "<class 'pandas.core.frame.DataFrame'>\n",
      "RangeIndex: 19439 entries, 0 to 19438\n",
      "Data columns (total 87 columns):\n",
      " #   Column                                              Non-Null Count  Dtype  \n",
      "---  ------                                              --------------  -----  \n",
      " 0   date                                                19439 non-null  object \n",
      " 1   final.output.concentrate_ag                         19438 non-null  float64\n",
      " 2   final.output.concentrate_pb                         19438 non-null  float64\n",
      " 3   final.output.concentrate_sol                        19228 non-null  float64\n",
      " 4   final.output.concentrate_au                         19439 non-null  float64\n",
      " 5   final.output.recovery                               19439 non-null  float64\n",
      " 6   final.output.tail_ag                                19438 non-null  float64\n",
      " 7   final.output.tail_pb                                19338 non-null  float64\n",
      " 8   final.output.tail_sol                               19433 non-null  float64\n",
      " 9   final.output.tail_au                                19439 non-null  float64\n",
      " 10  primary_cleaner.input.sulfate                       19415 non-null  float64\n",
      " 11  primary_cleaner.input.depressant                    19402 non-null  float64\n",
      " 12  primary_cleaner.input.feed_size                     19439 non-null  float64\n",
      " 13  primary_cleaner.input.xanthate                      19335 non-null  float64\n",
      " 14  primary_cleaner.output.concentrate_ag               19439 non-null  float64\n",
      " 15  primary_cleaner.output.concentrate_pb               19323 non-null  float64\n",
      " 16  primary_cleaner.output.concentrate_sol              19069 non-null  float64\n",
      " 17  primary_cleaner.output.concentrate_au               19439 non-null  float64\n",
      " 18  primary_cleaner.output.tail_ag                      19435 non-null  float64\n",
      " 19  primary_cleaner.output.tail_pb                      19418 non-null  float64\n",
      " 20  primary_cleaner.output.tail_sol                     19377 non-null  float64\n",
      " 21  primary_cleaner.output.tail_au                      19439 non-null  float64\n",
      " 22  primary_cleaner.state.floatbank8_a_air              19435 non-null  float64\n",
      " 23  primary_cleaner.state.floatbank8_a_level            19438 non-null  float64\n",
      " 24  primary_cleaner.state.floatbank8_b_air              19435 non-null  float64\n",
      " 25  primary_cleaner.state.floatbank8_b_level            19438 non-null  float64\n",
      " 26  primary_cleaner.state.floatbank8_c_air              19437 non-null  float64\n",
      " 27  primary_cleaner.state.floatbank8_c_level            19438 non-null  float64\n",
      " 28  primary_cleaner.state.floatbank8_d_air              19436 non-null  float64\n",
      " 29  primary_cleaner.state.floatbank8_d_level            19438 non-null  float64\n",
      " 30  rougher.calculation.sulfate_to_au_concentrate       19437 non-null  float64\n",
      " 31  rougher.calculation.floatbank10_sulfate_to_au_feed  19437 non-null  float64\n",
      " 32  rougher.calculation.floatbank11_sulfate_to_au_feed  19437 non-null  float64\n",
      " 33  rougher.calculation.au_pb_ratio                     19439 non-null  float64\n",
      " 34  rougher.input.feed_ag                               19439 non-null  float64\n",
      " 35  rougher.input.feed_pb                               19339 non-null  float64\n",
      " 36  rougher.input.feed_rate                             19428 non-null  float64\n",
      " 37  rougher.input.feed_size                             19294 non-null  float64\n",
      " 38  rougher.input.feed_sol                              19340 non-null  float64\n",
      " 39  rougher.input.feed_au                               19439 non-null  float64\n",
      " 40  rougher.input.floatbank10_sulfate                   19405 non-null  float64\n",
      " 41  rougher.input.floatbank10_xanthate                  19431 non-null  float64\n",
      " 42  rougher.input.floatbank11_sulfate                   19395 non-null  float64\n",
      " 43  rougher.input.floatbank11_xanthate                  18986 non-null  float64\n",
      " 44  rougher.output.concentrate_ag                       19439 non-null  float64\n",
      " 45  rougher.output.concentrate_pb                       19439 non-null  float64\n",
      " 46  rougher.output.concentrate_sol                      19416 non-null  float64\n",
      " 47  rougher.output.concentrate_au                       19439 non-null  float64\n",
      " 48  rougher.output.recovery                             19439 non-null  float64\n",
      " 49  rougher.output.tail_ag                              19438 non-null  float64\n",
      " 50  rougher.output.tail_pb                              19439 non-null  float64\n",
      " 51  rougher.output.tail_sol                             19439 non-null  float64\n",
      " 52  rougher.output.tail_au                              19439 non-null  float64\n",
      " 53  rougher.state.floatbank10_a_air                     19438 non-null  float64\n",
      " 54  rougher.state.floatbank10_a_level                   19438 non-null  float64\n",
      " 55  rougher.state.floatbank10_b_air                     19438 non-null  float64\n",
      " 56  rougher.state.floatbank10_b_level                   19438 non-null  float64\n",
      " 57  rougher.state.floatbank10_c_air                     19438 non-null  float64\n",
      " 58  rougher.state.floatbank10_c_level                   19438 non-null  float64\n",
      " 59  rougher.state.floatbank10_d_air                     19439 non-null  float64\n",
      " 60  rougher.state.floatbank10_d_level                   19439 non-null  float64\n",
      " 61  rougher.state.floatbank10_e_air                     19003 non-null  float64\n",
      " 62  rougher.state.floatbank10_e_level                   19439 non-null  float64\n",
      " 63  rougher.state.floatbank10_f_air                     19439 non-null  float64\n",
      " 64  rougher.state.floatbank10_f_level                   19439 non-null  float64\n",
      " 65  secondary_cleaner.output.tail_ag                    19437 non-null  float64\n",
      " 66  secondary_cleaner.output.tail_pb                    19427 non-null  float64\n",
      " 67  secondary_cleaner.output.tail_sol                   17691 non-null  float64\n",
      " 68  secondary_cleaner.output.tail_au                    19439 non-null  float64\n",
      " 69  secondary_cleaner.state.floatbank2_a_air            19219 non-null  float64\n",
      " 70  secondary_cleaner.state.floatbank2_a_level          19438 non-null  float64\n",
      " 71  secondary_cleaner.state.floatbank2_b_air            19416 non-null  float64\n",
      " 72  secondary_cleaner.state.floatbank2_b_level          19438 non-null  float64\n",
      " 73  secondary_cleaner.state.floatbank3_a_air            19426 non-null  float64\n",
      " 74  secondary_cleaner.state.floatbank3_a_level          19438 non-null  float64\n",
      " 75  secondary_cleaner.state.floatbank3_b_air            19438 non-null  float64\n",
      " 76  secondary_cleaner.state.floatbank3_b_level          19438 non-null  float64\n",
      " 77  secondary_cleaner.state.floatbank4_a_air            19433 non-null  float64\n",
      " 78  secondary_cleaner.state.floatbank4_a_level          19438 non-null  float64\n",
      " 79  secondary_cleaner.state.floatbank4_b_air            19438 non-null  float64\n",
      " 80  secondary_cleaner.state.floatbank4_b_level          19438 non-null  float64\n",
      " 81  secondary_cleaner.state.floatbank5_a_air            19438 non-null  float64\n",
      " 82  secondary_cleaner.state.floatbank5_a_level          19438 non-null  float64\n",
      " 83  secondary_cleaner.state.floatbank5_b_air            19438 non-null  float64\n",
      " 84  secondary_cleaner.state.floatbank5_b_level          19438 non-null  float64\n",
      " 85  secondary_cleaner.state.floatbank6_a_air            19437 non-null  float64\n",
      " 86  secondary_cleaner.state.floatbank6_a_level          19438 non-null  float64\n",
      "dtypes: float64(86), object(1)\n",
      "memory usage: 12.9+ MB\n"
     ]
    },
    {
     "data": {
      "text/plain": [
       "None"
      ]
     },
     "metadata": {},
     "output_type": "display_data"
    }
   ],
   "source": [
    "display(full_df.info())"
   ]
  },
  {
   "cell_type": "code",
   "execution_count": 50,
   "metadata": {},
   "outputs": [
    {
     "data": {
      "text/html": [
       "<div>\n",
       "<style scoped>\n",
       "    .dataframe tbody tr th:only-of-type {\n",
       "        vertical-align: middle;\n",
       "    }\n",
       "\n",
       "    .dataframe tbody tr th {\n",
       "        vertical-align: top;\n",
       "    }\n",
       "\n",
       "    .dataframe thead th {\n",
       "        text-align: right;\n",
       "    }\n",
       "</style>\n",
       "<table border=\"1\" class=\"dataframe\">\n",
       "  <thead>\n",
       "    <tr style=\"text-align: right;\">\n",
       "      <th></th>\n",
       "      <th>primary_cleaner.input.sulfate</th>\n",
       "      <th>primary_cleaner.input.depressant</th>\n",
       "      <th>primary_cleaner.input.feed_size</th>\n",
       "      <th>primary_cleaner.input.xanthate</th>\n",
       "      <th>primary_cleaner.state.floatbank8_a_air</th>\n",
       "      <th>primary_cleaner.state.floatbank8_a_level</th>\n",
       "      <th>primary_cleaner.state.floatbank8_b_air</th>\n",
       "      <th>primary_cleaner.state.floatbank8_b_level</th>\n",
       "      <th>primary_cleaner.state.floatbank8_c_air</th>\n",
       "      <th>primary_cleaner.state.floatbank8_c_level</th>\n",
       "      <th>...</th>\n",
       "      <th>secondary_cleaner.state.floatbank4_a_air</th>\n",
       "      <th>secondary_cleaner.state.floatbank4_a_level</th>\n",
       "      <th>secondary_cleaner.state.floatbank4_b_air</th>\n",
       "      <th>secondary_cleaner.state.floatbank4_b_level</th>\n",
       "      <th>secondary_cleaner.state.floatbank5_a_air</th>\n",
       "      <th>secondary_cleaner.state.floatbank5_a_level</th>\n",
       "      <th>secondary_cleaner.state.floatbank5_b_air</th>\n",
       "      <th>secondary_cleaner.state.floatbank5_b_level</th>\n",
       "      <th>secondary_cleaner.state.floatbank6_a_air</th>\n",
       "      <th>secondary_cleaner.state.floatbank6_a_level</th>\n",
       "    </tr>\n",
       "  </thead>\n",
       "  <tbody>\n",
       "    <tr>\n",
       "      <th>count</th>\n",
       "      <td>5286.000000</td>\n",
       "      <td>5285.000000</td>\n",
       "      <td>5290.000000</td>\n",
       "      <td>5286.000000</td>\n",
       "      <td>5.290000e+03</td>\n",
       "      <td>5290.000000</td>\n",
       "      <td>5.290000e+03</td>\n",
       "      <td>5290.000000</td>\n",
       "      <td>5.290000e+03</td>\n",
       "      <td>5290.000000</td>\n",
       "      <td>...</td>\n",
       "      <td>5.290000e+03</td>\n",
       "      <td>5290.000000</td>\n",
       "      <td>5.290000e+03</td>\n",
       "      <td>5290.000000</td>\n",
       "      <td>5290.000000</td>\n",
       "      <td>5290.000000</td>\n",
       "      <td>5290.000000</td>\n",
       "      <td>5290.000000</td>\n",
       "      <td>5290.000000</td>\n",
       "      <td>5290.000000</td>\n",
       "    </tr>\n",
       "    <tr>\n",
       "      <th>mean</th>\n",
       "      <td>174.839652</td>\n",
       "      <td>8.683596</td>\n",
       "      <td>7.266339</td>\n",
       "      <td>1.383803</td>\n",
       "      <td>1.539494e+03</td>\n",
       "      <td>-497.665883</td>\n",
       "      <td>1.545174e+03</td>\n",
       "      <td>-500.273098</td>\n",
       "      <td>1.527272e+03</td>\n",
       "      <td>-498.330680</td>\n",
       "      <td>...</td>\n",
       "      <td>1.632007e+01</td>\n",
       "      <td>-505.144570</td>\n",
       "      <td>1.373544e+01</td>\n",
       "      <td>-463.349858</td>\n",
       "      <td>12.804186</td>\n",
       "      <td>-501.329122</td>\n",
       "      <td>9.881145</td>\n",
       "      <td>-495.663398</td>\n",
       "      <td>17.304935</td>\n",
       "      <td>-501.793193</td>\n",
       "    </tr>\n",
       "    <tr>\n",
       "      <th>std</th>\n",
       "      <td>43.027080</td>\n",
       "      <td>3.072050</td>\n",
       "      <td>0.610219</td>\n",
       "      <td>0.643474</td>\n",
       "      <td>1.167979e+02</td>\n",
       "      <td>19.952431</td>\n",
       "      <td>1.222246e+02</td>\n",
       "      <td>32.968307</td>\n",
       "      <td>1.225380e+02</td>\n",
       "      <td>21.964876</td>\n",
       "      <td>...</td>\n",
       "      <td>3.493583e+00</td>\n",
       "      <td>31.427337</td>\n",
       "      <td>3.430484e+00</td>\n",
       "      <td>86.189107</td>\n",
       "      <td>3.026591</td>\n",
       "      <td>17.951495</td>\n",
       "      <td>2.868205</td>\n",
       "      <td>34.535007</td>\n",
       "      <td>4.536544</td>\n",
       "      <td>39.044215</td>\n",
       "    </tr>\n",
       "    <tr>\n",
       "      <th>min</th>\n",
       "      <td>2.566156</td>\n",
       "      <td>0.003839</td>\n",
       "      <td>5.650000</td>\n",
       "      <td>0.004984</td>\n",
       "      <td>5.445860e-32</td>\n",
       "      <td>-795.316337</td>\n",
       "      <td>6.647490e-32</td>\n",
       "      <td>-799.997015</td>\n",
       "      <td>4.033736e-32</td>\n",
       "      <td>-799.960571</td>\n",
       "      <td>...</td>\n",
       "      <td>1.079872e-16</td>\n",
       "      <td>-799.798523</td>\n",
       "      <td>2.489718e-17</td>\n",
       "      <td>-800.836914</td>\n",
       "      <td>0.069227</td>\n",
       "      <td>-797.323986</td>\n",
       "      <td>0.528083</td>\n",
       "      <td>-800.220337</td>\n",
       "      <td>-0.079426</td>\n",
       "      <td>-809.741464</td>\n",
       "    </tr>\n",
       "    <tr>\n",
       "      <th>25%</th>\n",
       "      <td>147.121401</td>\n",
       "      <td>6.489555</td>\n",
       "      <td>6.890000</td>\n",
       "      <td>0.907623</td>\n",
       "      <td>1.498936e+03</td>\n",
       "      <td>-500.357298</td>\n",
       "      <td>1.498971e+03</td>\n",
       "      <td>-500.703002</td>\n",
       "      <td>1.473230e+03</td>\n",
       "      <td>-501.018117</td>\n",
       "      <td>...</td>\n",
       "      <td>1.403618e+01</td>\n",
       "      <td>-500.868258</td>\n",
       "      <td>1.202862e+01</td>\n",
       "      <td>-500.323028</td>\n",
       "      <td>10.914838</td>\n",
       "      <td>-500.726841</td>\n",
       "      <td>8.036719</td>\n",
       "      <td>-500.194668</td>\n",
       "      <td>13.997317</td>\n",
       "      <td>-500.690984</td>\n",
       "    </tr>\n",
       "    <tr>\n",
       "      <th>50%</th>\n",
       "      <td>177.828489</td>\n",
       "      <td>8.052207</td>\n",
       "      <td>7.250000</td>\n",
       "      <td>1.197610</td>\n",
       "      <td>1.585129e+03</td>\n",
       "      <td>-499.969164</td>\n",
       "      <td>1.595622e+03</td>\n",
       "      <td>-500.028514</td>\n",
       "      <td>1.549595e+03</td>\n",
       "      <td>-500.017711</td>\n",
       "      <td>...</td>\n",
       "      <td>1.700847e+01</td>\n",
       "      <td>-500.115727</td>\n",
       "      <td>1.496486e+01</td>\n",
       "      <td>-499.576513</td>\n",
       "      <td>12.954182</td>\n",
       "      <td>-499.990332</td>\n",
       "      <td>10.004301</td>\n",
       "      <td>-499.990535</td>\n",
       "      <td>16.014935</td>\n",
       "      <td>-500.007126</td>\n",
       "    </tr>\n",
       "    <tr>\n",
       "      <th>75%</th>\n",
       "      <td>208.125438</td>\n",
       "      <td>10.027764</td>\n",
       "      <td>7.600000</td>\n",
       "      <td>1.797819</td>\n",
       "      <td>1.602077e+03</td>\n",
       "      <td>-499.568951</td>\n",
       "      <td>1.602324e+03</td>\n",
       "      <td>-499.293257</td>\n",
       "      <td>1.601144e+03</td>\n",
       "      <td>-498.994130</td>\n",
       "      <td>...</td>\n",
       "      <td>1.803862e+01</td>\n",
       "      <td>-499.404224</td>\n",
       "      <td>1.596213e+01</td>\n",
       "      <td>-400.933805</td>\n",
       "      <td>15.097528</td>\n",
       "      <td>-499.283191</td>\n",
       "      <td>11.997467</td>\n",
       "      <td>-499.719913</td>\n",
       "      <td>21.020013</td>\n",
       "      <td>-499.373018</td>\n",
       "    </tr>\n",
       "    <tr>\n",
       "      <th>max</th>\n",
       "      <td>265.983123</td>\n",
       "      <td>40.000000</td>\n",
       "      <td>15.500000</td>\n",
       "      <td>4.102454</td>\n",
       "      <td>2.103104e+03</td>\n",
       "      <td>-57.195404</td>\n",
       "      <td>1.813084e+03</td>\n",
       "      <td>-142.527229</td>\n",
       "      <td>1.715054e+03</td>\n",
       "      <td>-150.937035</td>\n",
       "      <td>...</td>\n",
       "      <td>3.005180e+01</td>\n",
       "      <td>-401.565212</td>\n",
       "      <td>3.126971e+01</td>\n",
       "      <td>-6.506986</td>\n",
       "      <td>25.258848</td>\n",
       "      <td>-244.483566</td>\n",
       "      <td>14.086866</td>\n",
       "      <td>-137.740004</td>\n",
       "      <td>26.705889</td>\n",
       "      <td>-123.307487</td>\n",
       "    </tr>\n",
       "  </tbody>\n",
       "</table>\n",
       "<p>8 rows × 52 columns</p>\n",
       "</div>"
      ],
      "text/plain": [
       "       primary_cleaner.input.sulfate  primary_cleaner.input.depressant  \\\n",
       "count                    5286.000000                       5285.000000   \n",
       "mean                      174.839652                          8.683596   \n",
       "std                        43.027080                          3.072050   \n",
       "min                         2.566156                          0.003839   \n",
       "25%                       147.121401                          6.489555   \n",
       "50%                       177.828489                          8.052207   \n",
       "75%                       208.125438                         10.027764   \n",
       "max                       265.983123                         40.000000   \n",
       "\n",
       "       primary_cleaner.input.feed_size  primary_cleaner.input.xanthate  \\\n",
       "count                      5290.000000                     5286.000000   \n",
       "mean                          7.266339                        1.383803   \n",
       "std                           0.610219                        0.643474   \n",
       "min                           5.650000                        0.004984   \n",
       "25%                           6.890000                        0.907623   \n",
       "50%                           7.250000                        1.197610   \n",
       "75%                           7.600000                        1.797819   \n",
       "max                          15.500000                        4.102454   \n",
       "\n",
       "       primary_cleaner.state.floatbank8_a_air  \\\n",
       "count                            5.290000e+03   \n",
       "mean                             1.539494e+03   \n",
       "std                              1.167979e+02   \n",
       "min                              5.445860e-32   \n",
       "25%                              1.498936e+03   \n",
       "50%                              1.585129e+03   \n",
       "75%                              1.602077e+03   \n",
       "max                              2.103104e+03   \n",
       "\n",
       "       primary_cleaner.state.floatbank8_a_level  \\\n",
       "count                               5290.000000   \n",
       "mean                                -497.665883   \n",
       "std                                   19.952431   \n",
       "min                                 -795.316337   \n",
       "25%                                 -500.357298   \n",
       "50%                                 -499.969164   \n",
       "75%                                 -499.568951   \n",
       "max                                  -57.195404   \n",
       "\n",
       "       primary_cleaner.state.floatbank8_b_air  \\\n",
       "count                            5.290000e+03   \n",
       "mean                             1.545174e+03   \n",
       "std                              1.222246e+02   \n",
       "min                              6.647490e-32   \n",
       "25%                              1.498971e+03   \n",
       "50%                              1.595622e+03   \n",
       "75%                              1.602324e+03   \n",
       "max                              1.813084e+03   \n",
       "\n",
       "       primary_cleaner.state.floatbank8_b_level  \\\n",
       "count                               5290.000000   \n",
       "mean                                -500.273098   \n",
       "std                                   32.968307   \n",
       "min                                 -799.997015   \n",
       "25%                                 -500.703002   \n",
       "50%                                 -500.028514   \n",
       "75%                                 -499.293257   \n",
       "max                                 -142.527229   \n",
       "\n",
       "       primary_cleaner.state.floatbank8_c_air  \\\n",
       "count                            5.290000e+03   \n",
       "mean                             1.527272e+03   \n",
       "std                              1.225380e+02   \n",
       "min                              4.033736e-32   \n",
       "25%                              1.473230e+03   \n",
       "50%                              1.549595e+03   \n",
       "75%                              1.601144e+03   \n",
       "max                              1.715054e+03   \n",
       "\n",
       "       primary_cleaner.state.floatbank8_c_level  ...  \\\n",
       "count                               5290.000000  ...   \n",
       "mean                                -498.330680  ...   \n",
       "std                                   21.964876  ...   \n",
       "min                                 -799.960571  ...   \n",
       "25%                                 -501.018117  ...   \n",
       "50%                                 -500.017711  ...   \n",
       "75%                                 -498.994130  ...   \n",
       "max                                 -150.937035  ...   \n",
       "\n",
       "       secondary_cleaner.state.floatbank4_a_air  \\\n",
       "count                              5.290000e+03   \n",
       "mean                               1.632007e+01   \n",
       "std                                3.493583e+00   \n",
       "min                                1.079872e-16   \n",
       "25%                                1.403618e+01   \n",
       "50%                                1.700847e+01   \n",
       "75%                                1.803862e+01   \n",
       "max                                3.005180e+01   \n",
       "\n",
       "       secondary_cleaner.state.floatbank4_a_level  \\\n",
       "count                                 5290.000000   \n",
       "mean                                  -505.144570   \n",
       "std                                     31.427337   \n",
       "min                                   -799.798523   \n",
       "25%                                   -500.868258   \n",
       "50%                                   -500.115727   \n",
       "75%                                   -499.404224   \n",
       "max                                   -401.565212   \n",
       "\n",
       "       secondary_cleaner.state.floatbank4_b_air  \\\n",
       "count                              5.290000e+03   \n",
       "mean                               1.373544e+01   \n",
       "std                                3.430484e+00   \n",
       "min                                2.489718e-17   \n",
       "25%                                1.202862e+01   \n",
       "50%                                1.496486e+01   \n",
       "75%                                1.596213e+01   \n",
       "max                                3.126971e+01   \n",
       "\n",
       "       secondary_cleaner.state.floatbank4_b_level  \\\n",
       "count                                 5290.000000   \n",
       "mean                                  -463.349858   \n",
       "std                                     86.189107   \n",
       "min                                   -800.836914   \n",
       "25%                                   -500.323028   \n",
       "50%                                   -499.576513   \n",
       "75%                                   -400.933805   \n",
       "max                                     -6.506986   \n",
       "\n",
       "       secondary_cleaner.state.floatbank5_a_air  \\\n",
       "count                               5290.000000   \n",
       "mean                                  12.804186   \n",
       "std                                    3.026591   \n",
       "min                                    0.069227   \n",
       "25%                                   10.914838   \n",
       "50%                                   12.954182   \n",
       "75%                                   15.097528   \n",
       "max                                   25.258848   \n",
       "\n",
       "       secondary_cleaner.state.floatbank5_a_level  \\\n",
       "count                                 5290.000000   \n",
       "mean                                  -501.329122   \n",
       "std                                     17.951495   \n",
       "min                                   -797.323986   \n",
       "25%                                   -500.726841   \n",
       "50%                                   -499.990332   \n",
       "75%                                   -499.283191   \n",
       "max                                   -244.483566   \n",
       "\n",
       "       secondary_cleaner.state.floatbank5_b_air  \\\n",
       "count                               5290.000000   \n",
       "mean                                   9.881145   \n",
       "std                                    2.868205   \n",
       "min                                    0.528083   \n",
       "25%                                    8.036719   \n",
       "50%                                   10.004301   \n",
       "75%                                   11.997467   \n",
       "max                                   14.086866   \n",
       "\n",
       "       secondary_cleaner.state.floatbank5_b_level  \\\n",
       "count                                 5290.000000   \n",
       "mean                                  -495.663398   \n",
       "std                                     34.535007   \n",
       "min                                   -800.220337   \n",
       "25%                                   -500.194668   \n",
       "50%                                   -499.990535   \n",
       "75%                                   -499.719913   \n",
       "max                                   -137.740004   \n",
       "\n",
       "       secondary_cleaner.state.floatbank6_a_air  \\\n",
       "count                               5290.000000   \n",
       "mean                                  17.304935   \n",
       "std                                    4.536544   \n",
       "min                                   -0.079426   \n",
       "25%                                   13.997317   \n",
       "50%                                   16.014935   \n",
       "75%                                   21.020013   \n",
       "max                                   26.705889   \n",
       "\n",
       "       secondary_cleaner.state.floatbank6_a_level  \n",
       "count                                 5290.000000  \n",
       "mean                                  -501.793193  \n",
       "std                                     39.044215  \n",
       "min                                   -809.741464  \n",
       "25%                                   -500.690984  \n",
       "50%                                   -500.007126  \n",
       "75%                                   -499.373018  \n",
       "max                                   -123.307487  \n",
       "\n",
       "[8 rows x 52 columns]"
      ]
     },
     "execution_count": 50,
     "metadata": {},
     "output_type": "execute_result"
    }
   ],
   "source": [
    "test_df.describe()"
   ]
  },
  {
   "cell_type": "code",
   "execution_count": 51,
   "metadata": {},
   "outputs": [
    {
     "data": {
      "text/html": [
       "<div>\n",
       "<style scoped>\n",
       "    .dataframe tbody tr th:only-of-type {\n",
       "        vertical-align: middle;\n",
       "    }\n",
       "\n",
       "    .dataframe tbody tr th {\n",
       "        vertical-align: top;\n",
       "    }\n",
       "\n",
       "    .dataframe thead th {\n",
       "        text-align: right;\n",
       "    }\n",
       "</style>\n",
       "<table border=\"1\" class=\"dataframe\">\n",
       "  <thead>\n",
       "    <tr style=\"text-align: right;\">\n",
       "      <th></th>\n",
       "      <th>final.output.concentrate_ag</th>\n",
       "      <th>final.output.concentrate_pb</th>\n",
       "      <th>final.output.concentrate_sol</th>\n",
       "      <th>final.output.concentrate_au</th>\n",
       "      <th>final.output.recovery</th>\n",
       "      <th>final.output.tail_ag</th>\n",
       "      <th>final.output.tail_pb</th>\n",
       "      <th>final.output.tail_sol</th>\n",
       "      <th>final.output.tail_au</th>\n",
       "      <th>primary_cleaner.input.sulfate</th>\n",
       "      <th>...</th>\n",
       "      <th>secondary_cleaner.state.floatbank4_a_air</th>\n",
       "      <th>secondary_cleaner.state.floatbank4_a_level</th>\n",
       "      <th>secondary_cleaner.state.floatbank4_b_air</th>\n",
       "      <th>secondary_cleaner.state.floatbank4_b_level</th>\n",
       "      <th>secondary_cleaner.state.floatbank5_a_air</th>\n",
       "      <th>secondary_cleaner.state.floatbank5_a_level</th>\n",
       "      <th>secondary_cleaner.state.floatbank5_b_air</th>\n",
       "      <th>secondary_cleaner.state.floatbank5_b_level</th>\n",
       "      <th>secondary_cleaner.state.floatbank6_a_air</th>\n",
       "      <th>secondary_cleaner.state.floatbank6_a_level</th>\n",
       "    </tr>\n",
       "  </thead>\n",
       "  <tbody>\n",
       "    <tr>\n",
       "      <th>count</th>\n",
       "      <td>14148.000000</td>\n",
       "      <td>14148.000000</td>\n",
       "      <td>13938.000000</td>\n",
       "      <td>14149.000000</td>\n",
       "      <td>14149.000000</td>\n",
       "      <td>14149.000000</td>\n",
       "      <td>14049.000000</td>\n",
       "      <td>14144.000000</td>\n",
       "      <td>14149.000000</td>\n",
       "      <td>14129.000000</td>\n",
       "      <td>...</td>\n",
       "      <td>14143.000000</td>\n",
       "      <td>14148.000000</td>\n",
       "      <td>14148.000000</td>\n",
       "      <td>14148.000000</td>\n",
       "      <td>14148.000000</td>\n",
       "      <td>14148.000000</td>\n",
       "      <td>14148.000000</td>\n",
       "      <td>14148.000000</td>\n",
       "      <td>14147.000000</td>\n",
       "      <td>14148.000000</td>\n",
       "    </tr>\n",
       "    <tr>\n",
       "      <th>mean</th>\n",
       "      <td>5.142034</td>\n",
       "      <td>10.132960</td>\n",
       "      <td>9.202849</td>\n",
       "      <td>44.003792</td>\n",
       "      <td>66.518832</td>\n",
       "      <td>9.607035</td>\n",
       "      <td>2.597298</td>\n",
       "      <td>10.512122</td>\n",
       "      <td>2.918421</td>\n",
       "      <td>133.320659</td>\n",
       "      <td>...</td>\n",
       "      <td>19.985454</td>\n",
       "      <td>-478.696836</td>\n",
       "      <td>15.487065</td>\n",
       "      <td>-460.229416</td>\n",
       "      <td>16.775136</td>\n",
       "      <td>-483.956022</td>\n",
       "      <td>13.064590</td>\n",
       "      <td>-483.966564</td>\n",
       "      <td>19.577539</td>\n",
       "      <td>-506.798480</td>\n",
       "    </tr>\n",
       "    <tr>\n",
       "      <th>std</th>\n",
       "      <td>1.369586</td>\n",
       "      <td>1.654930</td>\n",
       "      <td>2.790516</td>\n",
       "      <td>4.905261</td>\n",
       "      <td>10.295402</td>\n",
       "      <td>2.319069</td>\n",
       "      <td>0.971843</td>\n",
       "      <td>3.003617</td>\n",
       "      <td>0.903712</td>\n",
       "      <td>39.431659</td>\n",
       "      <td>...</td>\n",
       "      <td>5.657723</td>\n",
       "      <td>50.736021</td>\n",
       "      <td>5.255655</td>\n",
       "      <td>58.843586</td>\n",
       "      <td>5.831906</td>\n",
       "      <td>37.892788</td>\n",
       "      <td>5.765617</td>\n",
       "      <td>39.207913</td>\n",
       "      <td>5.764417</td>\n",
       "      <td>37.079249</td>\n",
       "    </tr>\n",
       "    <tr>\n",
       "      <th>min</th>\n",
       "      <td>0.000000</td>\n",
       "      <td>0.000000</td>\n",
       "      <td>0.000000</td>\n",
       "      <td>0.000000</td>\n",
       "      <td>0.000000</td>\n",
       "      <td>0.000000</td>\n",
       "      <td>0.000000</td>\n",
       "      <td>0.000000</td>\n",
       "      <td>0.000000</td>\n",
       "      <td>0.003112</td>\n",
       "      <td>...</td>\n",
       "      <td>0.000000</td>\n",
       "      <td>-799.709069</td>\n",
       "      <td>0.000000</td>\n",
       "      <td>-799.889113</td>\n",
       "      <td>-0.372054</td>\n",
       "      <td>-797.142475</td>\n",
       "      <td>0.646208</td>\n",
       "      <td>-800.006180</td>\n",
       "      <td>0.195324</td>\n",
       "      <td>-809.398668</td>\n",
       "    </tr>\n",
       "    <tr>\n",
       "      <th>25%</th>\n",
       "      <td>4.211620</td>\n",
       "      <td>9.297355</td>\n",
       "      <td>7.484645</td>\n",
       "      <td>43.276111</td>\n",
       "      <td>62.545817</td>\n",
       "      <td>7.997429</td>\n",
       "      <td>1.905973</td>\n",
       "      <td>8.811324</td>\n",
       "      <td>2.368607</td>\n",
       "      <td>107.006651</td>\n",
       "      <td>...</td>\n",
       "      <td>14.990775</td>\n",
       "      <td>-500.628656</td>\n",
       "      <td>11.894558</td>\n",
       "      <td>-500.149000</td>\n",
       "      <td>11.083980</td>\n",
       "      <td>-500.363177</td>\n",
       "      <td>8.994405</td>\n",
       "      <td>-500.105994</td>\n",
       "      <td>14.989304</td>\n",
       "      <td>-500.745104</td>\n",
       "    </tr>\n",
       "    <tr>\n",
       "      <th>50%</th>\n",
       "      <td>4.994652</td>\n",
       "      <td>10.297144</td>\n",
       "      <td>8.845462</td>\n",
       "      <td>44.872436</td>\n",
       "      <td>67.432775</td>\n",
       "      <td>9.480270</td>\n",
       "      <td>2.592022</td>\n",
       "      <td>10.514621</td>\n",
       "      <td>2.851025</td>\n",
       "      <td>133.018328</td>\n",
       "      <td>...</td>\n",
       "      <td>20.001789</td>\n",
       "      <td>-499.681450</td>\n",
       "      <td>14.975536</td>\n",
       "      <td>-499.388738</td>\n",
       "      <td>17.932223</td>\n",
       "      <td>-499.702452</td>\n",
       "      <td>11.997547</td>\n",
       "      <td>-499.914556</td>\n",
       "      <td>19.984175</td>\n",
       "      <td>-500.061431</td>\n",
       "    </tr>\n",
       "    <tr>\n",
       "      <th>75%</th>\n",
       "      <td>5.859540</td>\n",
       "      <td>11.170603</td>\n",
       "      <td>10.487508</td>\n",
       "      <td>46.166425</td>\n",
       "      <td>72.346428</td>\n",
       "      <td>11.003707</td>\n",
       "      <td>3.241723</td>\n",
       "      <td>11.933009</td>\n",
       "      <td>3.434764</td>\n",
       "      <td>159.825396</td>\n",
       "      <td>...</td>\n",
       "      <td>24.990826</td>\n",
       "      <td>-477.472413</td>\n",
       "      <td>20.059375</td>\n",
       "      <td>-400.039008</td>\n",
       "      <td>21.346550</td>\n",
       "      <td>-487.712108</td>\n",
       "      <td>17.982903</td>\n",
       "      <td>-453.186936</td>\n",
       "      <td>24.991623</td>\n",
       "      <td>-499.536466</td>\n",
       "    </tr>\n",
       "    <tr>\n",
       "      <th>max</th>\n",
       "      <td>16.001945</td>\n",
       "      <td>17.031899</td>\n",
       "      <td>18.124851</td>\n",
       "      <td>52.756638</td>\n",
       "      <td>100.000000</td>\n",
       "      <td>19.552149</td>\n",
       "      <td>5.639565</td>\n",
       "      <td>22.317730</td>\n",
       "      <td>8.197408</td>\n",
       "      <td>250.127834</td>\n",
       "      <td>...</td>\n",
       "      <td>30.115735</td>\n",
       "      <td>-245.239184</td>\n",
       "      <td>24.007913</td>\n",
       "      <td>-145.071088</td>\n",
       "      <td>43.709931</td>\n",
       "      <td>-275.073125</td>\n",
       "      <td>27.926001</td>\n",
       "      <td>-157.396071</td>\n",
       "      <td>32.188906</td>\n",
       "      <td>-104.427459</td>\n",
       "    </tr>\n",
       "  </tbody>\n",
       "</table>\n",
       "<p>8 rows × 86 columns</p>\n",
       "</div>"
      ],
      "text/plain": [
       "       final.output.concentrate_ag  final.output.concentrate_pb  \\\n",
       "count                 14148.000000                 14148.000000   \n",
       "mean                      5.142034                    10.132960   \n",
       "std                       1.369586                     1.654930   \n",
       "min                       0.000000                     0.000000   \n",
       "25%                       4.211620                     9.297355   \n",
       "50%                       4.994652                    10.297144   \n",
       "75%                       5.859540                    11.170603   \n",
       "max                      16.001945                    17.031899   \n",
       "\n",
       "       final.output.concentrate_sol  final.output.concentrate_au  \\\n",
       "count                  13938.000000                 14149.000000   \n",
       "mean                       9.202849                    44.003792   \n",
       "std                        2.790516                     4.905261   \n",
       "min                        0.000000                     0.000000   \n",
       "25%                        7.484645                    43.276111   \n",
       "50%                        8.845462                    44.872436   \n",
       "75%                       10.487508                    46.166425   \n",
       "max                       18.124851                    52.756638   \n",
       "\n",
       "       final.output.recovery  final.output.tail_ag  final.output.tail_pb  \\\n",
       "count           14149.000000          14149.000000          14049.000000   \n",
       "mean               66.518832              9.607035              2.597298   \n",
       "std                10.295402              2.319069              0.971843   \n",
       "min                 0.000000              0.000000              0.000000   \n",
       "25%                62.545817              7.997429              1.905973   \n",
       "50%                67.432775              9.480270              2.592022   \n",
       "75%                72.346428             11.003707              3.241723   \n",
       "max               100.000000             19.552149              5.639565   \n",
       "\n",
       "       final.output.tail_sol  final.output.tail_au  \\\n",
       "count           14144.000000          14149.000000   \n",
       "mean               10.512122              2.918421   \n",
       "std                 3.003617              0.903712   \n",
       "min                 0.000000              0.000000   \n",
       "25%                 8.811324              2.368607   \n",
       "50%                10.514621              2.851025   \n",
       "75%                11.933009              3.434764   \n",
       "max                22.317730              8.197408   \n",
       "\n",
       "       primary_cleaner.input.sulfate  ...  \\\n",
       "count                   14129.000000  ...   \n",
       "mean                      133.320659  ...   \n",
       "std                        39.431659  ...   \n",
       "min                         0.003112  ...   \n",
       "25%                       107.006651  ...   \n",
       "50%                       133.018328  ...   \n",
       "75%                       159.825396  ...   \n",
       "max                       250.127834  ...   \n",
       "\n",
       "       secondary_cleaner.state.floatbank4_a_air  \\\n",
       "count                              14143.000000   \n",
       "mean                                  19.985454   \n",
       "std                                    5.657723   \n",
       "min                                    0.000000   \n",
       "25%                                   14.990775   \n",
       "50%                                   20.001789   \n",
       "75%                                   24.990826   \n",
       "max                                   30.115735   \n",
       "\n",
       "       secondary_cleaner.state.floatbank4_a_level  \\\n",
       "count                                14148.000000   \n",
       "mean                                  -478.696836   \n",
       "std                                     50.736021   \n",
       "min                                   -799.709069   \n",
       "25%                                   -500.628656   \n",
       "50%                                   -499.681450   \n",
       "75%                                   -477.472413   \n",
       "max                                   -245.239184   \n",
       "\n",
       "       secondary_cleaner.state.floatbank4_b_air  \\\n",
       "count                              14148.000000   \n",
       "mean                                  15.487065   \n",
       "std                                    5.255655   \n",
       "min                                    0.000000   \n",
       "25%                                   11.894558   \n",
       "50%                                   14.975536   \n",
       "75%                                   20.059375   \n",
       "max                                   24.007913   \n",
       "\n",
       "       secondary_cleaner.state.floatbank4_b_level  \\\n",
       "count                                14148.000000   \n",
       "mean                                  -460.229416   \n",
       "std                                     58.843586   \n",
       "min                                   -799.889113   \n",
       "25%                                   -500.149000   \n",
       "50%                                   -499.388738   \n",
       "75%                                   -400.039008   \n",
       "max                                   -145.071088   \n",
       "\n",
       "       secondary_cleaner.state.floatbank5_a_air  \\\n",
       "count                              14148.000000   \n",
       "mean                                  16.775136   \n",
       "std                                    5.831906   \n",
       "min                                   -0.372054   \n",
       "25%                                   11.083980   \n",
       "50%                                   17.932223   \n",
       "75%                                   21.346550   \n",
       "max                                   43.709931   \n",
       "\n",
       "       secondary_cleaner.state.floatbank5_a_level  \\\n",
       "count                                14148.000000   \n",
       "mean                                  -483.956022   \n",
       "std                                     37.892788   \n",
       "min                                   -797.142475   \n",
       "25%                                   -500.363177   \n",
       "50%                                   -499.702452   \n",
       "75%                                   -487.712108   \n",
       "max                                   -275.073125   \n",
       "\n",
       "       secondary_cleaner.state.floatbank5_b_air  \\\n",
       "count                              14148.000000   \n",
       "mean                                  13.064590   \n",
       "std                                    5.765617   \n",
       "min                                    0.646208   \n",
       "25%                                    8.994405   \n",
       "50%                                   11.997547   \n",
       "75%                                   17.982903   \n",
       "max                                   27.926001   \n",
       "\n",
       "       secondary_cleaner.state.floatbank5_b_level  \\\n",
       "count                                14148.000000   \n",
       "mean                                  -483.966564   \n",
       "std                                     39.207913   \n",
       "min                                   -800.006180   \n",
       "25%                                   -500.105994   \n",
       "50%                                   -499.914556   \n",
       "75%                                   -453.186936   \n",
       "max                                   -157.396071   \n",
       "\n",
       "       secondary_cleaner.state.floatbank6_a_air  \\\n",
       "count                              14147.000000   \n",
       "mean                                  19.577539   \n",
       "std                                    5.764417   \n",
       "min                                    0.195324   \n",
       "25%                                   14.989304   \n",
       "50%                                   19.984175   \n",
       "75%                                   24.991623   \n",
       "max                                   32.188906   \n",
       "\n",
       "       secondary_cleaner.state.floatbank6_a_level  \n",
       "count                                14148.000000  \n",
       "mean                                  -506.798480  \n",
       "std                                     37.079249  \n",
       "min                                   -809.398668  \n",
       "25%                                   -500.745104  \n",
       "50%                                   -500.061431  \n",
       "75%                                   -499.536466  \n",
       "max                                   -104.427459  \n",
       "\n",
       "[8 rows x 86 columns]"
      ]
     },
     "execution_count": 51,
     "metadata": {},
     "output_type": "execute_result"
    }
   ],
   "source": [
    "train_df.describe()"
   ]
  },
  {
   "cell_type": "code",
   "execution_count": 52,
   "metadata": {},
   "outputs": [
    {
     "data": {
      "text/html": [
       "<div>\n",
       "<style scoped>\n",
       "    .dataframe tbody tr th:only-of-type {\n",
       "        vertical-align: middle;\n",
       "    }\n",
       "\n",
       "    .dataframe tbody tr th {\n",
       "        vertical-align: top;\n",
       "    }\n",
       "\n",
       "    .dataframe thead th {\n",
       "        text-align: right;\n",
       "    }\n",
       "</style>\n",
       "<table border=\"1\" class=\"dataframe\">\n",
       "  <thead>\n",
       "    <tr style=\"text-align: right;\">\n",
       "      <th></th>\n",
       "      <th>final.output.concentrate_ag</th>\n",
       "      <th>final.output.concentrate_pb</th>\n",
       "      <th>final.output.concentrate_sol</th>\n",
       "      <th>final.output.concentrate_au</th>\n",
       "      <th>final.output.recovery</th>\n",
       "      <th>final.output.tail_ag</th>\n",
       "      <th>final.output.tail_pb</th>\n",
       "      <th>final.output.tail_sol</th>\n",
       "      <th>final.output.tail_au</th>\n",
       "      <th>primary_cleaner.input.sulfate</th>\n",
       "      <th>...</th>\n",
       "      <th>secondary_cleaner.state.floatbank4_a_air</th>\n",
       "      <th>secondary_cleaner.state.floatbank4_a_level</th>\n",
       "      <th>secondary_cleaner.state.floatbank4_b_air</th>\n",
       "      <th>secondary_cleaner.state.floatbank4_b_level</th>\n",
       "      <th>secondary_cleaner.state.floatbank5_a_air</th>\n",
       "      <th>secondary_cleaner.state.floatbank5_a_level</th>\n",
       "      <th>secondary_cleaner.state.floatbank5_b_air</th>\n",
       "      <th>secondary_cleaner.state.floatbank5_b_level</th>\n",
       "      <th>secondary_cleaner.state.floatbank6_a_air</th>\n",
       "      <th>secondary_cleaner.state.floatbank6_a_level</th>\n",
       "    </tr>\n",
       "  </thead>\n",
       "  <tbody>\n",
       "    <tr>\n",
       "      <th>count</th>\n",
       "      <td>19438.000000</td>\n",
       "      <td>19438.000000</td>\n",
       "      <td>19228.000000</td>\n",
       "      <td>19439.000000</td>\n",
       "      <td>19439.000000</td>\n",
       "      <td>19438.000000</td>\n",
       "      <td>19338.000000</td>\n",
       "      <td>19433.000000</td>\n",
       "      <td>19439.000000</td>\n",
       "      <td>19415.000000</td>\n",
       "      <td>...</td>\n",
       "      <td>19433.000000</td>\n",
       "      <td>19438.000000</td>\n",
       "      <td>19438.000000</td>\n",
       "      <td>19438.000000</td>\n",
       "      <td>19438.000000</td>\n",
       "      <td>19438.000000</td>\n",
       "      <td>19438.000000</td>\n",
       "      <td>19438.000000</td>\n",
       "      <td>19437.000000</td>\n",
       "      <td>19438.000000</td>\n",
       "    </tr>\n",
       "    <tr>\n",
       "      <th>mean</th>\n",
       "      <td>5.168470</td>\n",
       "      <td>9.978895</td>\n",
       "      <td>9.501224</td>\n",
       "      <td>44.076513</td>\n",
       "      <td>67.050208</td>\n",
       "      <td>9.688589</td>\n",
       "      <td>2.705795</td>\n",
       "      <td>10.583728</td>\n",
       "      <td>3.042467</td>\n",
       "      <td>144.624774</td>\n",
       "      <td>...</td>\n",
       "      <td>18.987674</td>\n",
       "      <td>-485.894516</td>\n",
       "      <td>15.010366</td>\n",
       "      <td>-461.078636</td>\n",
       "      <td>15.694452</td>\n",
       "      <td>-488.684065</td>\n",
       "      <td>12.198224</td>\n",
       "      <td>-487.149827</td>\n",
       "      <td>18.959024</td>\n",
       "      <td>-505.436305</td>\n",
       "    </tr>\n",
       "    <tr>\n",
       "      <th>std</th>\n",
       "      <td>1.372348</td>\n",
       "      <td>1.669240</td>\n",
       "      <td>2.787537</td>\n",
       "      <td>5.129784</td>\n",
       "      <td>10.125840</td>\n",
       "      <td>2.328642</td>\n",
       "      <td>0.949077</td>\n",
       "      <td>2.868782</td>\n",
       "      <td>0.922808</td>\n",
       "      <td>44.464071</td>\n",
       "      <td>...</td>\n",
       "      <td>5.411058</td>\n",
       "      <td>47.758570</td>\n",
       "      <td>4.890228</td>\n",
       "      <td>67.405524</td>\n",
       "      <td>5.510974</td>\n",
       "      <td>34.533396</td>\n",
       "      <td>5.333024</td>\n",
       "      <td>38.347312</td>\n",
       "      <td>5.550498</td>\n",
       "      <td>37.689057</td>\n",
       "    </tr>\n",
       "    <tr>\n",
       "      <th>min</th>\n",
       "      <td>0.000000</td>\n",
       "      <td>0.000000</td>\n",
       "      <td>0.000000</td>\n",
       "      <td>0.000000</td>\n",
       "      <td>0.000000</td>\n",
       "      <td>0.000000</td>\n",
       "      <td>0.000000</td>\n",
       "      <td>0.000000</td>\n",
       "      <td>0.000000</td>\n",
       "      <td>0.003112</td>\n",
       "      <td>...</td>\n",
       "      <td>0.000000</td>\n",
       "      <td>-799.798523</td>\n",
       "      <td>0.000000</td>\n",
       "      <td>-800.836914</td>\n",
       "      <td>-0.372054</td>\n",
       "      <td>-797.323986</td>\n",
       "      <td>0.528083</td>\n",
       "      <td>-800.220337</td>\n",
       "      <td>-0.079426</td>\n",
       "      <td>-809.741464</td>\n",
       "    </tr>\n",
       "    <tr>\n",
       "      <th>25%</th>\n",
       "      <td>4.251240</td>\n",
       "      <td>9.137262</td>\n",
       "      <td>7.722820</td>\n",
       "      <td>43.402215</td>\n",
       "      <td>63.299712</td>\n",
       "      <td>8.062878</td>\n",
       "      <td>2.040119</td>\n",
       "      <td>8.938947</td>\n",
       "      <td>2.461138</td>\n",
       "      <td>114.107029</td>\n",
       "      <td>...</td>\n",
       "      <td>14.975734</td>\n",
       "      <td>-500.704892</td>\n",
       "      <td>11.940294</td>\n",
       "      <td>-500.187742</td>\n",
       "      <td>10.988606</td>\n",
       "      <td>-500.458467</td>\n",
       "      <td>8.971105</td>\n",
       "      <td>-500.129462</td>\n",
       "      <td>14.983037</td>\n",
       "      <td>-500.728067</td>\n",
       "    </tr>\n",
       "    <tr>\n",
       "      <th>50%</th>\n",
       "      <td>5.066094</td>\n",
       "      <td>10.102433</td>\n",
       "      <td>9.218961</td>\n",
       "      <td>45.011244</td>\n",
       "      <td>68.172738</td>\n",
       "      <td>9.743623</td>\n",
       "      <td>2.748730</td>\n",
       "      <td>10.622456</td>\n",
       "      <td>2.984909</td>\n",
       "      <td>143.232103</td>\n",
       "      <td>...</td>\n",
       "      <td>18.017481</td>\n",
       "      <td>-499.837793</td>\n",
       "      <td>14.971014</td>\n",
       "      <td>-499.459786</td>\n",
       "      <td>15.000036</td>\n",
       "      <td>-499.802605</td>\n",
       "      <td>11.019433</td>\n",
       "      <td>-499.935317</td>\n",
       "      <td>19.960541</td>\n",
       "      <td>-500.048400</td>\n",
       "    </tr>\n",
       "    <tr>\n",
       "      <th>75%</th>\n",
       "      <td>5.895527</td>\n",
       "      <td>11.035769</td>\n",
       "      <td>10.947813</td>\n",
       "      <td>46.275313</td>\n",
       "      <td>72.686642</td>\n",
       "      <td>11.134294</td>\n",
       "      <td>3.333216</td>\n",
       "      <td>12.104271</td>\n",
       "      <td>3.571351</td>\n",
       "      <td>175.075656</td>\n",
       "      <td>...</td>\n",
       "      <td>23.012470</td>\n",
       "      <td>-498.249730</td>\n",
       "      <td>19.034162</td>\n",
       "      <td>-400.118106</td>\n",
       "      <td>18.026190</td>\n",
       "      <td>-498.384187</td>\n",
       "      <td>14.019088</td>\n",
       "      <td>-499.436708</td>\n",
       "      <td>24.003170</td>\n",
       "      <td>-499.495378</td>\n",
       "    </tr>\n",
       "    <tr>\n",
       "      <th>max</th>\n",
       "      <td>16.001945</td>\n",
       "      <td>17.031899</td>\n",
       "      <td>19.615720</td>\n",
       "      <td>52.756638</td>\n",
       "      <td>100.000000</td>\n",
       "      <td>19.552149</td>\n",
       "      <td>5.804178</td>\n",
       "      <td>22.317730</td>\n",
       "      <td>8.245022</td>\n",
       "      <td>265.983123</td>\n",
       "      <td>...</td>\n",
       "      <td>30.115735</td>\n",
       "      <td>-245.239184</td>\n",
       "      <td>31.269706</td>\n",
       "      <td>-6.506986</td>\n",
       "      <td>43.709931</td>\n",
       "      <td>-244.483566</td>\n",
       "      <td>27.926001</td>\n",
       "      <td>-137.740004</td>\n",
       "      <td>32.188906</td>\n",
       "      <td>-104.427459</td>\n",
       "    </tr>\n",
       "  </tbody>\n",
       "</table>\n",
       "<p>8 rows × 86 columns</p>\n",
       "</div>"
      ],
      "text/plain": [
       "       final.output.concentrate_ag  final.output.concentrate_pb  \\\n",
       "count                 19438.000000                 19438.000000   \n",
       "mean                      5.168470                     9.978895   \n",
       "std                       1.372348                     1.669240   \n",
       "min                       0.000000                     0.000000   \n",
       "25%                       4.251240                     9.137262   \n",
       "50%                       5.066094                    10.102433   \n",
       "75%                       5.895527                    11.035769   \n",
       "max                      16.001945                    17.031899   \n",
       "\n",
       "       final.output.concentrate_sol  final.output.concentrate_au  \\\n",
       "count                  19228.000000                 19439.000000   \n",
       "mean                       9.501224                    44.076513   \n",
       "std                        2.787537                     5.129784   \n",
       "min                        0.000000                     0.000000   \n",
       "25%                        7.722820                    43.402215   \n",
       "50%                        9.218961                    45.011244   \n",
       "75%                       10.947813                    46.275313   \n",
       "max                       19.615720                    52.756638   \n",
       "\n",
       "       final.output.recovery  final.output.tail_ag  final.output.tail_pb  \\\n",
       "count           19439.000000          19438.000000          19338.000000   \n",
       "mean               67.050208              9.688589              2.705795   \n",
       "std                10.125840              2.328642              0.949077   \n",
       "min                 0.000000              0.000000              0.000000   \n",
       "25%                63.299712              8.062878              2.040119   \n",
       "50%                68.172738              9.743623              2.748730   \n",
       "75%                72.686642             11.134294              3.333216   \n",
       "max               100.000000             19.552149              5.804178   \n",
       "\n",
       "       final.output.tail_sol  final.output.tail_au  \\\n",
       "count           19433.000000          19439.000000   \n",
       "mean               10.583728              3.042467   \n",
       "std                 2.868782              0.922808   \n",
       "min                 0.000000              0.000000   \n",
       "25%                 8.938947              2.461138   \n",
       "50%                10.622456              2.984909   \n",
       "75%                12.104271              3.571351   \n",
       "max                22.317730              8.245022   \n",
       "\n",
       "       primary_cleaner.input.sulfate  ...  \\\n",
       "count                   19415.000000  ...   \n",
       "mean                      144.624774  ...   \n",
       "std                        44.464071  ...   \n",
       "min                         0.003112  ...   \n",
       "25%                       114.107029  ...   \n",
       "50%                       143.232103  ...   \n",
       "75%                       175.075656  ...   \n",
       "max                       265.983123  ...   \n",
       "\n",
       "       secondary_cleaner.state.floatbank4_a_air  \\\n",
       "count                              19433.000000   \n",
       "mean                                  18.987674   \n",
       "std                                    5.411058   \n",
       "min                                    0.000000   \n",
       "25%                                   14.975734   \n",
       "50%                                   18.017481   \n",
       "75%                                   23.012470   \n",
       "max                                   30.115735   \n",
       "\n",
       "       secondary_cleaner.state.floatbank4_a_level  \\\n",
       "count                                19438.000000   \n",
       "mean                                  -485.894516   \n",
       "std                                     47.758570   \n",
       "min                                   -799.798523   \n",
       "25%                                   -500.704892   \n",
       "50%                                   -499.837793   \n",
       "75%                                   -498.249730   \n",
       "max                                   -245.239184   \n",
       "\n",
       "       secondary_cleaner.state.floatbank4_b_air  \\\n",
       "count                              19438.000000   \n",
       "mean                                  15.010366   \n",
       "std                                    4.890228   \n",
       "min                                    0.000000   \n",
       "25%                                   11.940294   \n",
       "50%                                   14.971014   \n",
       "75%                                   19.034162   \n",
       "max                                   31.269706   \n",
       "\n",
       "       secondary_cleaner.state.floatbank4_b_level  \\\n",
       "count                                19438.000000   \n",
       "mean                                  -461.078636   \n",
       "std                                     67.405524   \n",
       "min                                   -800.836914   \n",
       "25%                                   -500.187742   \n",
       "50%                                   -499.459786   \n",
       "75%                                   -400.118106   \n",
       "max                                     -6.506986   \n",
       "\n",
       "       secondary_cleaner.state.floatbank5_a_air  \\\n",
       "count                              19438.000000   \n",
       "mean                                  15.694452   \n",
       "std                                    5.510974   \n",
       "min                                   -0.372054   \n",
       "25%                                   10.988606   \n",
       "50%                                   15.000036   \n",
       "75%                                   18.026190   \n",
       "max                                   43.709931   \n",
       "\n",
       "       secondary_cleaner.state.floatbank5_a_level  \\\n",
       "count                                19438.000000   \n",
       "mean                                  -488.684065   \n",
       "std                                     34.533396   \n",
       "min                                   -797.323986   \n",
       "25%                                   -500.458467   \n",
       "50%                                   -499.802605   \n",
       "75%                                   -498.384187   \n",
       "max                                   -244.483566   \n",
       "\n",
       "       secondary_cleaner.state.floatbank5_b_air  \\\n",
       "count                              19438.000000   \n",
       "mean                                  12.198224   \n",
       "std                                    5.333024   \n",
       "min                                    0.528083   \n",
       "25%                                    8.971105   \n",
       "50%                                   11.019433   \n",
       "75%                                   14.019088   \n",
       "max                                   27.926001   \n",
       "\n",
       "       secondary_cleaner.state.floatbank5_b_level  \\\n",
       "count                                19438.000000   \n",
       "mean                                  -487.149827   \n",
       "std                                     38.347312   \n",
       "min                                   -800.220337   \n",
       "25%                                   -500.129462   \n",
       "50%                                   -499.935317   \n",
       "75%                                   -499.436708   \n",
       "max                                   -137.740004   \n",
       "\n",
       "       secondary_cleaner.state.floatbank6_a_air  \\\n",
       "count                              19437.000000   \n",
       "mean                                  18.959024   \n",
       "std                                    5.550498   \n",
       "min                                   -0.079426   \n",
       "25%                                   14.983037   \n",
       "50%                                   19.960541   \n",
       "75%                                   24.003170   \n",
       "max                                   32.188906   \n",
       "\n",
       "       secondary_cleaner.state.floatbank6_a_level  \n",
       "count                                19438.000000  \n",
       "mean                                  -505.436305  \n",
       "std                                     37.689057  \n",
       "min                                   -809.741464  \n",
       "25%                                   -500.728067  \n",
       "50%                                   -500.048400  \n",
       "75%                                   -499.495378  \n",
       "max                                   -104.427459  \n",
       "\n",
       "[8 rows x 86 columns]"
      ]
     },
     "execution_count": 52,
     "metadata": {},
     "output_type": "execute_result"
    }
   ],
   "source": [
    "full_df.describe()"
   ]
  },
  {
   "cell_type": "markdown",
   "metadata": {},
   "source": [
    "### Проверка эффективности обогащения"
   ]
  },
  {
   "cell_type": "code",
   "execution_count": 53,
   "metadata": {},
   "outputs": [],
   "source": [
    "#на примере золота \n",
    "#содержание компонент в исходном ископаемом\n",
    "alpha = train_df['rougher.input.feed_au']\n",
    "#содержание компонент в полученных концентратах\n",
    "beta = train_df['rougher.output.concentrate_au']\n",
    "#содержание компонент в хвостах\n",
    "theta = train_df['rougher.output.tail_au']"
   ]
  },
  {
   "cell_type": "code",
   "execution_count": 54,
   "metadata": {},
   "outputs": [
    {
     "name": "stdout",
     "output_type": "stream",
     "text": [
      "Эффективность обогащения посчитана правильно\n"
     ]
    }
   ],
   "source": [
    "train_df['recovery_calc'] = 100 * (beta * (alpha - theta)) / (alpha * (beta - theta))\n",
    "rcm = train_df['recovery_calc'].mean()\n",
    "rm = train_df['rougher.output.recovery'].mean()\n",
    "if (rcm == rm):\n",
    "    print('Эффективность обогащения посчитана правильно')\n",
    "else:\n",
    "    print('Эффективность обогащения посчитана неправильно')"
   ]
  },
  {
   "cell_type": "code",
   "execution_count": 55,
   "metadata": {},
   "outputs": [
    {
     "name": "stdout",
     "output_type": "stream",
     "text": [
      "Значение MAE: 1.1131451184435918e-14\n"
     ]
    }
   ],
   "source": [
    "#Найдём MAE между столбцом 'recovery_calc' и 'rougher.output.recovery'\n",
    "mae = mean_absolute_error(train_df['recovery_calc'], train_df['rougher.output.recovery'])\n",
    "print('Значение MAE:', mae)"
   ]
  },
  {
   "cell_type": "markdown",
   "metadata": {},
   "source": [
    "Значение получилось очень маленьким, поэтому обогащение посчитано правильно."
   ]
  },
  {
   "cell_type": "markdown",
   "metadata": {},
   "source": [
    "### Анализ признаков, недоступных в тестовой выборке. Что это за параметры? К какому типу относятся?"
   ]
  },
  {
   "cell_type": "code",
   "execution_count": 56,
   "metadata": {},
   "outputs": [],
   "source": [
    "list_columns = [i for i in train_df.columns if i not in test_df.columns]"
   ]
  },
  {
   "cell_type": "code",
   "execution_count": 57,
   "metadata": {},
   "outputs": [
    {
     "data": {
      "text/plain": [
       "['final.output.concentrate_ag',\n",
       " 'final.output.concentrate_pb',\n",
       " 'final.output.concentrate_sol',\n",
       " 'final.output.concentrate_au',\n",
       " 'final.output.recovery',\n",
       " 'final.output.tail_ag',\n",
       " 'final.output.tail_pb',\n",
       " 'final.output.tail_sol',\n",
       " 'final.output.tail_au',\n",
       " 'primary_cleaner.output.concentrate_ag',\n",
       " 'primary_cleaner.output.concentrate_pb',\n",
       " 'primary_cleaner.output.concentrate_sol',\n",
       " 'primary_cleaner.output.concentrate_au',\n",
       " 'primary_cleaner.output.tail_ag',\n",
       " 'primary_cleaner.output.tail_pb',\n",
       " 'primary_cleaner.output.tail_sol',\n",
       " 'primary_cleaner.output.tail_au',\n",
       " 'rougher.calculation.sulfate_to_au_concentrate',\n",
       " 'rougher.calculation.floatbank10_sulfate_to_au_feed',\n",
       " 'rougher.calculation.floatbank11_sulfate_to_au_feed',\n",
       " 'rougher.calculation.au_pb_ratio',\n",
       " 'rougher.output.concentrate_ag',\n",
       " 'rougher.output.concentrate_pb',\n",
       " 'rougher.output.concentrate_sol',\n",
       " 'rougher.output.concentrate_au',\n",
       " 'rougher.output.recovery',\n",
       " 'rougher.output.tail_ag',\n",
       " 'rougher.output.tail_pb',\n",
       " 'rougher.output.tail_sol',\n",
       " 'rougher.output.tail_au',\n",
       " 'secondary_cleaner.output.tail_ag',\n",
       " 'secondary_cleaner.output.tail_pb',\n",
       " 'secondary_cleaner.output.tail_sol',\n",
       " 'secondary_cleaner.output.tail_au',\n",
       " 'recovery_calc']"
      ]
     },
     "execution_count": 57,
     "metadata": {},
     "output_type": "execute_result"
    }
   ],
   "source": [
    "list_columns"
   ]
  },
  {
   "cell_type": "markdown",
   "metadata": {},
   "source": [
    "Все эти признаки отсутствуют в тестовой выборке. Все они содержат output, то есть относятся не к сырью, а к параметрам продуктов или к разным этапам обогащения."
   ]
  },
  {
   "cell_type": "markdown",
   "metadata": {},
   "source": [
    "### Предобработка данных"
   ]
  },
  {
   "cell_type": "markdown",
   "metadata": {},
   "source": [
    "Описании сказано, что _Данные индексируются датой и временем получения информации (признак date). Соседние по времени параметры часто похожи._ Поэтому можем заполнить пропущение значения значениями из следующего ряда, которые соответствуют ближайшим значениям времени."
   ]
  },
  {
   "cell_type": "code",
   "execution_count": 58,
   "metadata": {
    "scrolled": true
   },
   "outputs": [
    {
     "name": "stdout",
     "output_type": "stream",
     "text": [
      "date                                           0\n",
      "primary_cleaner.input.sulfate                  4\n",
      "primary_cleaner.input.depressant               5\n",
      "primary_cleaner.input.feed_size                0\n",
      "primary_cleaner.input.xanthate                 4\n",
      "primary_cleaner.state.floatbank8_a_air         0\n",
      "primary_cleaner.state.floatbank8_a_level       0\n",
      "primary_cleaner.state.floatbank8_b_air         0\n",
      "primary_cleaner.state.floatbank8_b_level       0\n",
      "primary_cleaner.state.floatbank8_c_air         0\n",
      "primary_cleaner.state.floatbank8_c_level       0\n",
      "primary_cleaner.state.floatbank8_d_air         0\n",
      "primary_cleaner.state.floatbank8_d_level       0\n",
      "rougher.input.feed_ag                          0\n",
      "rougher.input.feed_pb                          0\n",
      "rougher.input.feed_rate                        3\n",
      "rougher.input.feed_size                        1\n",
      "rougher.input.feed_sol                        21\n",
      "rougher.input.feed_au                          0\n",
      "rougher.input.floatbank10_sulfate              5\n",
      "rougher.input.floatbank10_xanthate             0\n",
      "rougher.input.floatbank11_sulfate              8\n",
      "rougher.input.floatbank11_xanthate            25\n",
      "rougher.state.floatbank10_a_air                0\n",
      "rougher.state.floatbank10_a_level              0\n",
      "rougher.state.floatbank10_b_air                0\n",
      "rougher.state.floatbank10_b_level              0\n",
      "rougher.state.floatbank10_c_air                0\n",
      "rougher.state.floatbank10_c_level              0\n",
      "rougher.state.floatbank10_d_air                0\n",
      "rougher.state.floatbank10_d_level              0\n",
      "rougher.state.floatbank10_e_air                0\n",
      "rougher.state.floatbank10_e_level              0\n",
      "rougher.state.floatbank10_f_air                0\n",
      "rougher.state.floatbank10_f_level              0\n",
      "secondary_cleaner.state.floatbank2_a_air       3\n",
      "secondary_cleaner.state.floatbank2_a_level     0\n",
      "secondary_cleaner.state.floatbank2_b_air       2\n",
      "secondary_cleaner.state.floatbank2_b_level     0\n",
      "secondary_cleaner.state.floatbank3_a_air       9\n",
      "secondary_cleaner.state.floatbank3_a_level     0\n",
      "secondary_cleaner.state.floatbank3_b_air       0\n",
      "secondary_cleaner.state.floatbank3_b_level     0\n",
      "secondary_cleaner.state.floatbank4_a_air       0\n",
      "secondary_cleaner.state.floatbank4_a_level     0\n",
      "secondary_cleaner.state.floatbank4_b_air       0\n",
      "secondary_cleaner.state.floatbank4_b_level     0\n",
      "secondary_cleaner.state.floatbank5_a_air       0\n",
      "secondary_cleaner.state.floatbank5_a_level     0\n",
      "secondary_cleaner.state.floatbank5_b_air       0\n",
      "secondary_cleaner.state.floatbank5_b_level     0\n",
      "secondary_cleaner.state.floatbank6_a_air       0\n",
      "secondary_cleaner.state.floatbank6_a_level     0\n",
      "dtype: int64\n"
     ]
    }
   ],
   "source": [
    "#посмотрим на пропуски в данных\n",
    "print(test_df.isna().sum())"
   ]
  },
  {
   "cell_type": "code",
   "execution_count": 59,
   "metadata": {},
   "outputs": [
    {
     "name": "stdout",
     "output_type": "stream",
     "text": [
      "date                                            0\n",
      "final.output.concentrate_ag                     1\n",
      "final.output.concentrate_pb                     1\n",
      "final.output.concentrate_sol                  211\n",
      "final.output.concentrate_au                     0\n",
      "                                             ... \n",
      "secondary_cleaner.state.floatbank5_b_air        1\n",
      "secondary_cleaner.state.floatbank5_b_level      1\n",
      "secondary_cleaner.state.floatbank6_a_air        2\n",
      "secondary_cleaner.state.floatbank6_a_level      1\n",
      "recovery_calc                                   0\n",
      "Length: 88, dtype: int64\n"
     ]
    }
   ],
   "source": [
    "print(train_df.isna().sum())"
   ]
  },
  {
   "cell_type": "code",
   "execution_count": 60,
   "metadata": {},
   "outputs": [
    {
     "name": "stdout",
     "output_type": "stream",
     "text": [
      "date                                            0\n",
      "final.output.concentrate_ag                     1\n",
      "final.output.concentrate_pb                     1\n",
      "final.output.concentrate_sol                  211\n",
      "final.output.concentrate_au                     0\n",
      "                                             ... \n",
      "secondary_cleaner.state.floatbank5_a_level      1\n",
      "secondary_cleaner.state.floatbank5_b_air        1\n",
      "secondary_cleaner.state.floatbank5_b_level      1\n",
      "secondary_cleaner.state.floatbank6_a_air        2\n",
      "secondary_cleaner.state.floatbank6_a_level      1\n",
      "Length: 87, dtype: int64\n"
     ]
    }
   ],
   "source": [
    "print(full_df.isna().sum())"
   ]
  },
  {
   "cell_type": "code",
   "execution_count": 61,
   "metadata": {},
   "outputs": [],
   "source": [
    "test_df.fillna(method='ffill', inplace=True)\n",
    "train_df.fillna(method='ffill', inplace=True)\n",
    "full_df.fillna(method='ffill', inplace=True)"
   ]
  },
  {
   "cell_type": "code",
   "execution_count": 62,
   "metadata": {
    "scrolled": true
   },
   "outputs": [
    {
     "name": "stdout",
     "output_type": "stream",
     "text": [
      "date                                          0\n",
      "primary_cleaner.input.sulfate                 0\n",
      "primary_cleaner.input.depressant              0\n",
      "primary_cleaner.input.feed_size               0\n",
      "primary_cleaner.input.xanthate                0\n",
      "primary_cleaner.state.floatbank8_a_air        0\n",
      "primary_cleaner.state.floatbank8_a_level      0\n",
      "primary_cleaner.state.floatbank8_b_air        0\n",
      "primary_cleaner.state.floatbank8_b_level      0\n",
      "primary_cleaner.state.floatbank8_c_air        0\n",
      "primary_cleaner.state.floatbank8_c_level      0\n",
      "primary_cleaner.state.floatbank8_d_air        0\n",
      "primary_cleaner.state.floatbank8_d_level      0\n",
      "rougher.input.feed_ag                         0\n",
      "rougher.input.feed_pb                         0\n",
      "rougher.input.feed_rate                       0\n",
      "rougher.input.feed_size                       0\n",
      "rougher.input.feed_sol                        0\n",
      "rougher.input.feed_au                         0\n",
      "rougher.input.floatbank10_sulfate             0\n",
      "rougher.input.floatbank10_xanthate            0\n",
      "rougher.input.floatbank11_sulfate             0\n",
      "rougher.input.floatbank11_xanthate            0\n",
      "rougher.state.floatbank10_a_air               0\n",
      "rougher.state.floatbank10_a_level             0\n",
      "rougher.state.floatbank10_b_air               0\n",
      "rougher.state.floatbank10_b_level             0\n",
      "rougher.state.floatbank10_c_air               0\n",
      "rougher.state.floatbank10_c_level             0\n",
      "rougher.state.floatbank10_d_air               0\n",
      "rougher.state.floatbank10_d_level             0\n",
      "rougher.state.floatbank10_e_air               0\n",
      "rougher.state.floatbank10_e_level             0\n",
      "rougher.state.floatbank10_f_air               0\n",
      "rougher.state.floatbank10_f_level             0\n",
      "secondary_cleaner.state.floatbank2_a_air      0\n",
      "secondary_cleaner.state.floatbank2_a_level    0\n",
      "secondary_cleaner.state.floatbank2_b_air      0\n",
      "secondary_cleaner.state.floatbank2_b_level    0\n",
      "secondary_cleaner.state.floatbank3_a_air      0\n",
      "secondary_cleaner.state.floatbank3_a_level    0\n",
      "secondary_cleaner.state.floatbank3_b_air      0\n",
      "secondary_cleaner.state.floatbank3_b_level    0\n",
      "secondary_cleaner.state.floatbank4_a_air      0\n",
      "secondary_cleaner.state.floatbank4_a_level    0\n",
      "secondary_cleaner.state.floatbank4_b_air      0\n",
      "secondary_cleaner.state.floatbank4_b_level    0\n",
      "secondary_cleaner.state.floatbank5_a_air      0\n",
      "secondary_cleaner.state.floatbank5_a_level    0\n",
      "secondary_cleaner.state.floatbank5_b_air      0\n",
      "secondary_cleaner.state.floatbank5_b_level    0\n",
      "secondary_cleaner.state.floatbank6_a_air      0\n",
      "secondary_cleaner.state.floatbank6_a_level    0\n",
      "dtype: int64\n",
      "date                                          0\n",
      "final.output.concentrate_ag                   0\n",
      "final.output.concentrate_pb                   0\n",
      "final.output.concentrate_sol                  0\n",
      "final.output.concentrate_au                   0\n",
      "                                             ..\n",
      "secondary_cleaner.state.floatbank5_b_air      0\n",
      "secondary_cleaner.state.floatbank5_b_level    0\n",
      "secondary_cleaner.state.floatbank6_a_air      0\n",
      "secondary_cleaner.state.floatbank6_a_level    0\n",
      "recovery_calc                                 0\n",
      "Length: 88, dtype: int64\n",
      "date                                          0\n",
      "final.output.concentrate_ag                   0\n",
      "final.output.concentrate_pb                   0\n",
      "final.output.concentrate_sol                  0\n",
      "final.output.concentrate_au                   0\n",
      "                                             ..\n",
      "secondary_cleaner.state.floatbank5_a_level    0\n",
      "secondary_cleaner.state.floatbank5_b_air      0\n",
      "secondary_cleaner.state.floatbank5_b_level    0\n",
      "secondary_cleaner.state.floatbank6_a_air      0\n",
      "secondary_cleaner.state.floatbank6_a_level    0\n",
      "Length: 87, dtype: int64\n"
     ]
    }
   ],
   "source": [
    "#проверим\n",
    "print(test_df.isna().sum())\n",
    "print(train_df.isna().sum())\n",
    "print(full_df.isna().sum())"
   ]
  },
  {
   "cell_type": "code",
   "execution_count": 63,
   "metadata": {},
   "outputs": [
    {
     "name": "stdout",
     "output_type": "stream",
     "text": [
      "0\n",
      "0\n",
      "0\n"
     ]
    }
   ],
   "source": [
    "#посмотрим на дубликаты\n",
    "print(test_df.duplicated().sum())\n",
    "print(train_df.duplicated().sum())\n",
    "print(full_df.duplicated().sum())"
   ]
  },
  {
   "cell_type": "markdown",
   "metadata": {},
   "source": [
    "Предобработка данных была проведена, пропуски были странены. Дубликатов нет."
   ]
  },
  {
   "cell_type": "markdown",
   "metadata": {},
   "source": [
    "## Анализ данных"
   ]
  },
  {
   "cell_type": "markdown",
   "metadata": {},
   "source": [
    "### Посмотрим, как меняется концентрация металлов (Au, Ag, Pb) на различных этапах очистки. Опишите выводы."
   ]
  },
  {
   "cell_type": "markdown",
   "metadata": {},
   "source": [
    "* 'primary_cleaner.output.concentrate_x' соответствуют первичной отчистке\n",
    "* 'final.output.concentrate_x' соответствуют финальной отчистке\n",
    "* 'rougher.output.concentrate_x' - данные после обогащения\n",
    "* 'rougher.input.feed_x'- данные с начальными концентрациями"
   ]
  },
  {
   "cell_type": "code",
   "execution_count": 64,
   "metadata": {},
   "outputs": [],
   "source": [
    "#отфильтруем данные для золота\n",
    "data_au = full_df[['rougher.input.feed_au',\n",
    "                  'final.output.concentrate_au',\n",
    "                  'primary_cleaner.output.concentrate_au',\n",
    "                  'rougher.output.concentrate_au']]"
   ]
  },
  {
   "cell_type": "code",
   "execution_count": 65,
   "metadata": {},
   "outputs": [],
   "source": [
    "#отфильтруем данные для серебра\n",
    "data_ag = full_df[['rougher.input.feed_ag',\n",
    "                  'final.output.concentrate_ag',\n",
    "                  'primary_cleaner.output.concentrate_ag',\n",
    "                  'rougher.output.concentrate_ag']]"
   ]
  },
  {
   "cell_type": "code",
   "execution_count": 66,
   "metadata": {},
   "outputs": [],
   "source": [
    "#отфильтруем данные для свинца\n",
    "data_pb = full_df[['rougher.input.feed_pb',\n",
    "                  'final.output.concentrate_pb',\n",
    "                  'primary_cleaner.output.concentrate_pb',\n",
    "                  'rougher.output.concentrate_pb']]"
   ]
  },
  {
   "cell_type": "code",
   "execution_count": 67,
   "metadata": {},
   "outputs": [],
   "source": [
    "au = [data_au['rougher.input.feed_au'].mean(),\n",
    "      data_au['rougher.output.concentrate_au'].mean(),\n",
    "      data_au['primary_cleaner.output.concentrate_au'].mean(),\n",
    "      data_au['final.output.concentrate_au'].mean()]"
   ]
  },
  {
   "cell_type": "code",
   "execution_count": 68,
   "metadata": {},
   "outputs": [],
   "source": [
    "ag = [data_ag['rougher.input.feed_ag'].mean(),\n",
    "      data_ag['rougher.output.concentrate_ag'].mean(),\n",
    "      data_ag['primary_cleaner.output.concentrate_ag'].mean(),\n",
    "      data_ag['final.output.concentrate_ag'].mean()]"
   ]
  },
  {
   "cell_type": "code",
   "execution_count": 69,
   "metadata": {},
   "outputs": [],
   "source": [
    "pb = [data_pb['rougher.input.feed_pb'].mean(),\n",
    "      data_pb['rougher.output.concentrate_pb'].mean(),\n",
    "      data_pb['primary_cleaner.output.concentrate_pb'].mean(),\n",
    "      data_pb['final.output.concentrate_pb'].mean()]"
   ]
  },
  {
   "cell_type": "code",
   "execution_count": 70,
   "metadata": {},
   "outputs": [],
   "source": [
    "step = ['начальная концентрация', 'после обогащения', \n",
    "       'после первичной отчистки', 'после финальной отчистки']"
   ]
  },
  {
   "cell_type": "code",
   "execution_count": 71,
   "metadata": {
    "scrolled": true
   },
   "outputs": [
    {
     "name": "stdout",
     "output_type": "stream",
     "text": [
      "Данные для золота\n",
      "Начальная концентрация: 8.266097326589103\n",
      "Концентрация после обогащения: 19.772000139486316\n",
      "Концентрация после первичной отчистки: 32.1194004078765\n",
      "Концентрация после финальной отчистки: 44.0765129419528\n"
     ]
    }
   ],
   "source": [
    "print('Данные для золота')\n",
    "print('Начальная концентрация:', au[0])\n",
    "print('Концентрация после обогащения:', au[1])\n",
    "print('Концентрация после первичной отчистки:', au[2])\n",
    "print('Концентрация после финальной отчистки:', au[3])"
   ]
  },
  {
   "cell_type": "code",
   "execution_count": 72,
   "metadata": {},
   "outputs": [
    {
     "data": {
      "image/png": "[encoded data removed]",
      "text/plain": [
       "<Figure size 432x288 with 1 Axes>"
      ]
     },
     "metadata": {
      "needs_background": "light"
     },
     "output_type": "display_data"
    }
   ],
   "source": [
    "plt.plot(au, step);\n",
    "plt.title('Золото');\n",
    "plt.ylabel('Стадии');\n",
    "plt.xlabel('Концентрация');"
   ]
  },
  {
   "cell_type": "code",
   "execution_count": 73,
   "metadata": {},
   "outputs": [
    {
     "name": "stdout",
     "output_type": "stream",
     "text": [
      "Данные для серебра\n",
      "Начальная концентрация: 8.794927425814688\n",
      "Концентрация после обогащения: 11.994759359873429\n",
      "Концентрация после первичной отчистки: 8.44240807771906\n",
      "Концентрация после финальной отчистки: 5.168386967510243\n"
     ]
    }
   ],
   "source": [
    "print('Данные для серебра')\n",
    "print('Начальная концентрация:', ag[0])\n",
    "print('Концентрация после обогащения:', ag[1])\n",
    "print('Концентрация после первичной отчистки:', ag[2])\n",
    "print('Концентрация после финальной отчистки:', ag[3])"
   ]
  },
  {
   "cell_type": "code",
   "execution_count": 74,
   "metadata": {},
   "outputs": [
    {
     "data": {
      "image/png": "[encoded data removed]",
      "text/plain": [
       "<Figure size 432x288 with 1 Axes>"
      ]
     },
     "metadata": {
      "needs_background": "light"
     },
     "output_type": "display_data"
    }
   ],
   "source": [
    "plt.plot(ag, step);\n",
    "plt.title('Серебро');\n",
    "plt.ylabel('Стадии');\n",
    "plt.xlabel('Концентрация');"
   ]
  },
  {
   "cell_type": "code",
   "execution_count": 75,
   "metadata": {},
   "outputs": [
    {
     "name": "stdout",
     "output_type": "stream",
     "text": [
      "Данные для свинца\n",
      "Начальная концентрация: 3.585095711585748\n",
      "Концентрация после обогащения: 7.606272313195003\n",
      "Концентрация после первичной отчистки: 9.810316539310149\n",
      "Концентрация после финальной отчистки: 9.978821384192907\n"
     ]
    }
   ],
   "source": [
    "print('Данные для свинца')\n",
    "print('Начальная концентрация:', pb[0])\n",
    "print('Концентрация после обогащения:',pb[1])\n",
    "print('Концентрация после первичной отчистки:', pb[2])\n",
    "print('Концентрация после финальной отчистки:', pb[3])"
   ]
  },
  {
   "cell_type": "code",
   "execution_count": 76,
   "metadata": {},
   "outputs": [
    {
     "data": {
      "image/png": "[encoded data removed]",
      "text/plain": [
       "<Figure size 432x288 with 1 Axes>"
      ]
     },
     "metadata": {
      "needs_background": "light"
     },
     "output_type": "display_data"
    }
   ],
   "source": [
    "plt.plot(pb, step);\n",
    "plt.title('Свинец');\n",
    "plt.ylabel('Стадии');\n",
    "plt.xlabel('Концентрация');"
   ]
  },
  {
   "cell_type": "markdown",
   "metadata": {},
   "source": [
    "Концентрация золота и свинца в ходе процесса обогащения и отчистки увеличивается. Совершенно противоположный результат мы наблюдаем для серебра: концентрация серебра в начале этого процесса больше, чем после всех отчисток. Концентрация золота растёт линейно на всех стадиях обогащения и очистки. Для свинца этот процесс не является линейным."
   ]
  },
  {
   "cell_type": "markdown",
   "metadata": {},
   "source": [
    "###  Сравнение распределения размеров гранул сырья на обучающей и тестовой выборках. Если распределения сильно отличаются друг от друга, оценка модели будет неправильной."
   ]
  },
  {
   "cell_type": "code",
   "execution_count": 77,
   "metadata": {},
   "outputs": [
    {
     "data": {
      "image/png": "[encoded data removed]",
      "text/plain": [
       "<Figure size 432x288 with 1 Axes>"
      ]
     },
     "metadata": {
      "needs_background": "light"
     },
     "output_type": "display_data"
    }
   ],
   "source": [
    "#для определения размеров гранул нужно посмотреть на средние значения столбцов primary_cleaner.input.feed_size \n",
    "#в тестовой и обучающей выборке\n",
    "train_df['rougher.input.feed_size'].hist(bins=60,label='train')\n",
    "test_df['rougher.input.feed_size'].hist(bins=60,label='test')\n",
    "plt.ylabel('Количество частиц')\n",
    "plt.xlabel('Размер частиц')\n",
    "plt.legend();"
   ]
  },
  {
   "cell_type": "code",
   "execution_count": 78,
   "metadata": {},
   "outputs": [
    {
     "data": {
      "image/png": "[encoded data removed]",
      "text/plain": [
       "<Figure size 720x432 with 1 Axes>"
      ]
     },
     "metadata": {
      "needs_background": "light"
     },
     "output_type": "display_data"
    }
   ],
   "source": [
    "fig = plt.figure(figsize=(10,6))\n",
    "\n",
    "sns.kdeplot(train_df['rougher.input.feed_size'], fill=True)\n",
    "sns.kdeplot(test_df['rougher.input.feed_size'], fill=True)\n",
    "\n",
    "plt.ylabel('Количество частиц')\n",
    "plt.xlabel('Размер частиц')\n",
    "fig.legend(labels=['train', 'test'])\n",
    "\n",
    "plt.show()"
   ]
  },
  {
   "cell_type": "markdown",
   "metadata": {},
   "source": [
    "### Исследование суммарной концентрации всех веществ на разных стадиях: в сырье, в черновом и финальном концентратах. "
   ]
  },
  {
   "cell_type": "code",
   "execution_count": 79,
   "metadata": {},
   "outputs": [
    {
     "name": "stdout",
     "output_type": "stream",
     "text": [
      "0        51.680034\n",
      "1        50.659114\n",
      "2        50.609929\n",
      "3        51.061546\n",
      "4        47.859163\n",
      "           ...    \n",
      "19434    53.415050\n",
      "19435    53.696482\n",
      "19436    54.589604\n",
      "19437    54.027355\n",
      "19438    53.535054\n",
      "Length: 19439, dtype: float64\n"
     ]
    }
   ],
   "source": [
    "#суммарная начальная концентрация\n",
    "sum_input = full_df[['rougher.input.feed_ag',\n",
    "                   'rougher.input.feed_au',\n",
    "                   'rougher.input.feed_pb',\n",
    "                   'rougher.input.feed_sol']].sum(axis=1)\n",
    "print(sum_input)"
   ]
  },
  {
   "cell_type": "code",
   "execution_count": 80,
   "metadata": {},
   "outputs": [
    {
     "data": {
      "image/png": "[encoded data removed]",
      "text/plain": [
       "<Figure size 432x288 with 1 Axes>"
      ]
     },
     "metadata": {
      "needs_background": "light"
     },
     "output_type": "display_data"
    }
   ],
   "source": [
    "sum_input.hist(bins=60, label='Суммарная начальная концентрация')\n",
    "plt.ylabel('Концентрация')\n",
    "plt.xlabel('Сумма концентраций металлов')\n",
    "plt.legend();"
   ]
  },
  {
   "cell_type": "code",
   "execution_count": 81,
   "metadata": {},
   "outputs": [
    {
     "name": "stdout",
     "output_type": "stream",
     "text": [
      "<class 'pandas.core.series.Series'>\n"
     ]
    }
   ],
   "source": [
    "#суммарная концентрация после обогащения\n",
    "sum_output = full_df[['rougher.output.concentrate_ag',\n",
    "                   'rougher.output.concentrate_au',\n",
    "                   'rougher.output.concentrate_pb',\n",
    "                   'rougher.output.concentrate_sol']].sum(axis=1)\n",
    "print(type(sum_output))"
   ]
  },
  {
   "cell_type": "code",
   "execution_count": 82,
   "metadata": {},
   "outputs": [
    {
     "data": {
      "image/png": "[encoded data removed]",
      "text/plain": [
       "<Figure size 720x360 with 1 Axes>"
      ]
     },
     "metadata": {
      "needs_background": "light"
     },
     "output_type": "display_data"
    }
   ],
   "source": [
    "sum_output.hist(bins=60, \n",
    "               label='Суммарная концентрация после обогащения',\n",
    "               figsize=(10,5))\n",
    "plt.ylabel('Концентрация')\n",
    "plt.xlabel('Сумма концентраций металлов')\n",
    "plt.legend();"
   ]
  },
  {
   "cell_type": "code",
   "execution_count": 83,
   "metadata": {},
   "outputs": [
    {
     "name": "stdout",
     "output_type": "stream",
     "text": [
      "0        72.640924\n",
      "1        72.543485\n",
      "2        72.095042\n",
      "3        59.957723\n",
      "4        71.321010\n",
      "           ...    \n",
      "19434    59.001692\n",
      "19435    59.703912\n",
      "19436    59.561096\n",
      "19437    57.216686\n",
      "19438    55.748041\n",
      "Length: 19439, dtype: float64\n"
     ]
    }
   ],
   "source": [
    "#суммарная концентрация после первой стадии отчистки\n",
    "sum_primary = full_df[['primary_cleaner.output.concentrate_ag',\n",
    "                   'primary_cleaner.output.concentrate_au',\n",
    "                   'primary_cleaner.output.concentrate_pb',\n",
    "                   'primary_cleaner.output.concentrate_sol']].sum(axis=1)\n",
    "print(sum_primary)"
   ]
  },
  {
   "cell_type": "code",
   "execution_count": 84,
   "metadata": {},
   "outputs": [
    {
     "data": {
      "image/png": "[encoded data removed]",
      "text/plain": [
       "<Figure size 720x360 with 1 Axes>"
      ]
     },
     "metadata": {
      "needs_background": "light"
     },
     "output_type": "display_data"
    }
   ],
   "source": [
    "sum_primary.hist(bins=60, \n",
    "               label='Суммарная концентрация после первой стадии отчистки',\n",
    "               figsize=(10,5))\n",
    "plt.ylabel('Концентрация')\n",
    "plt.xlabel('Сумма концентраций металлов')\n",
    "plt.legend();"
   ]
  },
  {
   "cell_type": "code",
   "execution_count": 85,
   "metadata": {
    "scrolled": true
   },
   "outputs": [
    {
     "name": "stdout",
     "output_type": "stream",
     "text": [
      "0        63.644396\n",
      "1        63.957723\n",
      "2        64.311180\n",
      "3        63.573449\n",
      "4        64.004667\n",
      "           ...    \n",
      "19434    68.098589\n",
      "19435    68.274362\n",
      "19436    68.226068\n",
      "19437    68.200449\n",
      "19438    68.353154\n",
      "Length: 19439, dtype: float64\n"
     ]
    }
   ],
   "source": [
    "#суммарная финальная концентрация металлов\n",
    "sum_final = full_df[['final.output.concentrate_ag',\n",
    "                   'final.output.concentrate_au',\n",
    "                   'final.output.concentrate_pb',\n",
    "                   'final.output.concentrate_sol']].sum(axis=1)\n",
    "print(sum_final)"
   ]
  },
  {
   "cell_type": "code",
   "execution_count": 86,
   "metadata": {},
   "outputs": [
    {
     "data": {
      "image/png": "[encoded data removed]",
      "text/plain": [
       "<Figure size 720x360 with 1 Axes>"
      ]
     },
     "metadata": {
      "needs_background": "light"
     },
     "output_type": "display_data"
    }
   ],
   "source": [
    "sum_final.hist(bins=60, \n",
    "               label='Суммарная концентрация после финальной стадии отчистки',\n",
    "               figsize=(10,5))\n",
    "plt.ylabel('Концентрация')\n",
    "plt.xlabel('Сумма концентраций металлов')\n",
    "plt.legend();"
   ]
  },
  {
   "cell_type": "markdown",
   "metadata": {},
   "source": [
    "Как можем видеть на гистограммах с 2 по 4 есть выбросы около 0. Их нужно убрать из наших данных."
   ]
  },
  {
   "cell_type": "code",
   "execution_count": 87,
   "metadata": {},
   "outputs": [],
   "source": [
    "sum_output = sum_output.drop(sum_output[sum_output < 1].index)"
   ]
  },
  {
   "cell_type": "code",
   "execution_count": 88,
   "metadata": {},
   "outputs": [
    {
     "data": {
      "image/png": "[encoded data removed]",
      "text/plain": [
       "<Figure size 720x360 with 1 Axes>"
      ]
     },
     "metadata": {
      "needs_background": "light"
     },
     "output_type": "display_data"
    }
   ],
   "source": [
    "sum_output.hist(bins=60, \n",
    "               label='Суммарная концентрация после финальной стадии отчистки',\n",
    "               figsize=(10,5))\n",
    "plt.ylabel('Концентрация')\n",
    "plt.xlabel('Сумма концентраций металлов')\n",
    "plt.legend();"
   ]
  },
  {
   "cell_type": "code",
   "execution_count": 89,
   "metadata": {},
   "outputs": [],
   "source": [
    "sum_primary = sum_primary.drop(sum_primary[sum_primary < 1].index)"
   ]
  },
  {
   "cell_type": "code",
   "execution_count": 90,
   "metadata": {},
   "outputs": [
    {
     "data": {
      "image/png": "[encoded data removed]",
      "text/plain": [
       "<Figure size 720x360 with 1 Axes>"
      ]
     },
     "metadata": {
      "needs_background": "light"
     },
     "output_type": "display_data"
    }
   ],
   "source": [
    "sum_primary.hist(bins=60, \n",
    "               label='Суммарная концентрация после первой стадии отчистки',\n",
    "               figsize=(10,5))\n",
    "plt.ylabel('Концентрация')\n",
    "plt.xlabel('Сумма концентраций металлов')\n",
    "plt.legend();"
   ]
  },
  {
   "cell_type": "code",
   "execution_count": 91,
   "metadata": {},
   "outputs": [],
   "source": [
    "sum_final = sum_final.drop(sum_final[sum_final < 1].index)"
   ]
  },
  {
   "cell_type": "code",
   "execution_count": 92,
   "metadata": {},
   "outputs": [
    {
     "data": {
      "image/png": "[encoded data removed]",
      "text/plain": [
       "<Figure size 720x360 with 1 Axes>"
      ]
     },
     "metadata": {
      "needs_background": "light"
     },
     "output_type": "display_data"
    }
   ],
   "source": [
    "sum_final.hist(bins=60, \n",
    "               label='Суммарная концентрация после финальной стадии отчистки',\n",
    "               figsize=(10,5))\n",
    "plt.ylabel('Концентрация')\n",
    "plt.xlabel('Сумма концентраций металлов')\n",
    "plt.legend();"
   ]
  },
  {
   "cell_type": "markdown",
   "metadata": {},
   "source": [
    "## Модель"
   ]
  },
  {
   "cell_type": "markdown",
   "metadata": {},
   "source": [
    "### Функция для вычисления итоговой sMAPE"
   ]
  },
  {
   "cell_type": "code",
   "execution_count": 93,
   "metadata": {},
   "outputs": [],
   "source": [
    "def smape(target, predicted):\n",
    "  return 1 / len(target) * np.sum(2 * np.abs(\n",
    "       target - predicted) / (np.abs(target) + \n",
    "                              np.abs(predicted)) * 100)\n",
    "\n",
    "def smape_final(rougher, final):\n",
    "  return 0.25 * rougher + 0.75 * final"
   ]
  },
  {
   "cell_type": "code",
   "execution_count": 94,
   "metadata": {},
   "outputs": [],
   "source": [
    "#вводим, потому что GridSearchCV максимизирует метрику, а нам нужно наоборот\n",
    "smape_score = make_scorer(smape, greater_is_better=False)"
   ]
  },
  {
   "cell_type": "markdown",
   "metadata": {},
   "source": [
    "### Обучение разных моделей и оценка их качества кросс-валидацией. "
   ]
  },
  {
   "cell_type": "code",
   "execution_count": 98,
   "metadata": {},
   "outputs": [],
   "source": [
    "#создадим датасеты для обучения\n",
    "target = full_df[['date', 'rougher.output.recovery', 'final.output.recovery']]\n",
    "test_df = test_df.merge(full_df[['rougher.output.recovery', 'final.output.recovery', 'date']],\n",
    "                         how = 'inner', on= 'date')\n",
    "test_df.drop(['date'], axis=1, inplace=True)"
   ]
  },
  {
   "cell_type": "code",
   "execution_count": 99,
   "metadata": {},
   "outputs": [],
   "source": [
    "list_columns_new = [i for i in train_df.columns if i not in test_df.columns]"
   ]
  },
  {
   "cell_type": "code",
   "execution_count": 100,
   "metadata": {},
   "outputs": [],
   "source": [
    "train_df = train_df.drop(list_columns_new, axis=1)"
   ]
  },
  {
   "cell_type": "code",
   "execution_count": 101,
   "metadata": {},
   "outputs": [],
   "source": [
    "#признаки и таргеты на тренировочной выборке\n",
    "features_train_rougher = train_df.filter(regex='^rougher', axis=1)\n",
    "features_train_rougher = features_train_rougher.drop(['rougher.output.recovery'], axis=1)\n",
    "target_train_rougher = train_df['rougher.output.recovery']\n",
    "\n",
    "features_train_final = train_df.drop(['final.output.recovery', 'rougher.output.recovery'], axis=1)\n",
    "target_train_final = train_df['final.output.recovery']"
   ]
  },
  {
   "cell_type": "code",
   "execution_count": 102,
   "metadata": {},
   "outputs": [],
   "source": [
    "#признаки и таргеты на тестовой выборке\n",
    "features_test_rougher = test_df.filter(regex='^rougher', axis=1)\n",
    "features_test_rougher = features_test_rougher.drop(['rougher.output.recovery'], axis=1)\n",
    "target_test_rougher = test_df['rougher.output.recovery']\n",
    "\n",
    "features_test_final = test_df.drop(['final.output.recovery', 'rougher.output.recovery'], axis=1)\n",
    "target_test_final = test_df['final.output.recovery']"
   ]
  },
  {
   "cell_type": "code",
   "execution_count": 103,
   "metadata": {},
   "outputs": [
    {
     "name": "stdout",
     "output_type": "stream",
     "text": [
      "(14149, 22) (14149,)\n",
      "(14149, 52) (14149,)\n",
      "(5290, 22) (5290,)\n",
      "(5290, 52) (5290,)\n"
     ]
    }
   ],
   "source": [
    "#проверка размеров\n",
    "print(features_train_rougher.shape, target_train_rougher.shape)\n",
    "print(features_train_final.shape, target_train_final.shape)\n",
    "print(features_test_rougher.shape, target_test_rougher.shape)\n",
    "print(features_test_final.shape, target_test_final.shape)"
   ]
  },
  {
   "cell_type": "code",
   "execution_count": 108,
   "metadata": {},
   "outputs": [
    {
     "name": "stdout",
     "output_type": "stream",
     "text": [
      "Итоговое sMAPE для линейной регрессии: -11.881861950576969\n"
     ]
    }
   ],
   "source": [
    "model_LR = LinearRegression()\n",
    "\n",
    "rougher_LR = cross_val_score(model_LR, \n",
    "            features_train_rougher,\n",
    "            target_train_rougher, \n",
    "            scoring=smape_score, cv=9)\n",
    "\n",
    "final_LR =  cross_val_score(model_LR,\n",
    "            features_train_final, \n",
    "            target_train_final,\n",
    "            scoring=smape_score, cv=9)\n",
    "\n",
    "print('Итоговое sMAPE для линейной регрессии:', smape_final(rougher_LR, final_LR).mean())"
   ]
  },
  {
   "cell_type": "code",
   "execution_count": 109,
   "metadata": {},
   "outputs": [
    {
     "name": "stderr",
     "output_type": "stream",
     "text": [
      "100%|██████████| 19/19 [01:27<00:00,  4.60s/it]"
     ]
    },
    {
     "name": "stdout",
     "output_type": "stream",
     "text": [
      "Итоговое sMAPE для решающего дерева: -10.972510046746047\n"
     ]
    },
    {
     "name": "stderr",
     "output_type": "stream",
     "text": [
      "\n"
     ]
    }
   ],
   "source": [
    "smape_value = 100\n",
    "for depth in tqdm(range(1, 20)):\n",
    "    \n",
    "    model_DT = DecisionTreeRegressor(random_state=12345, max_depth=depth)\n",
    "    \n",
    "    rougher_DT = cross_val_score(model_DT, features_train_rougher,\n",
    "                    target_train_rougher, scoring=smape_score, cv=6)\n",
    "    final_DT = cross_val_score(model_DT, features_train_final,\n",
    "                    target_train_final, scoring=smape_score, cv=6)\n",
    "    \n",
    "    sMAPE_final = smape_final(rougher_DT, final_DT).mean()\n",
    "    if np.abs(sMAPE_final) < np.abs(smape_value):\n",
    "        smape_value = sMAPE_final\n",
    "        best_model_DT = model_DT\n",
    "        best_depth = depth\n",
    "        \n",
    "print('Итоговое sMAPE для решающего дерева:', smape_value)"
   ]
  },
  {
   "cell_type": "code",
   "execution_count": 110,
   "metadata": {},
   "outputs": [
    {
     "name": "stderr",
     "output_type": "stream",
     "text": [
      "100%|██████████| 4/4 [04:31<00:00, 67.77s/it]"
     ]
    },
    {
     "name": "stdout",
     "output_type": "stream",
     "text": [
      "Итоговое sMAPE для случайного леса: -10.744309715592886\n"
     ]
    },
    {
     "name": "stderr",
     "output_type": "stream",
     "text": [
      "\n"
     ]
    }
   ],
   "source": [
    "smape_value = 100\n",
    "for n_est in tqdm(range(1, 20, 5)):\n",
    "    for depth in range(1, 10, 2):\n",
    "        model_RF = RandomForestRegressor(random_state=12345, max_depth=depth, n_estimators=n_est)\n",
    "    \n",
    "        rougher_RF = cross_val_score(model_RF, features_train_rougher,\n",
    "                    target_train_rougher, scoring=smape_score, cv=6)\n",
    "        final_RF = cross_val_score(model_RF, features_train_final,\n",
    "                    target_train_final, scoring=smape_score, cv=6)\n",
    "    \n",
    "        sMAPE_final = smape_final(rougher_RF, final_RF).mean()\n",
    "        if np.abs(sMAPE_final) < np.abs(smape_value):\n",
    "            smape_value = sMAPE_final\n",
    "            best_model_RF = model_RF\n",
    "            best_depth = depth\n",
    "            best_est = n_est\n",
    "        \n",
    "print('Итоговое sMAPE для случайного леса:', smape_value)"
   ]
  },
  {
   "cell_type": "code",
   "execution_count": 111,
   "metadata": {},
   "outputs": [
    {
     "name": "stdout",
     "output_type": "stream",
     "text": [
      "Итоговая ошибка лучшей модели на тестовой выборке 9.362943743123074\n"
     ]
    }
   ],
   "source": [
    "#проверим лучшую модель на тестовой выборке\n",
    "best_model_RF.fit(features_train_rougher,\n",
    "                    target_train_rougher)\n",
    "test_prediction_rougher_RF = best_model_RF.predict(features_test_rougher)\n",
    "\n",
    "best_model_RF.fit(features_train_final,\n",
    "                    target_train_final)\n",
    "test_prediction_final_RF = best_model_RF.predict(features_test_final)\n",
    "\n",
    "sMAPE_final_value = smape_final(smape(target_test_rougher,\n",
    "                    test_prediction_rougher_RF),\n",
    "                    smape(target_test_final, \n",
    "                    test_prediction_final_RF))\n",
    "print('Итоговая ошибка лучшей модели на тестовой выборке', sMAPE_final_value)"
   ]
  },
  {
   "cell_type": "code",
   "execution_count": 112,
   "metadata": {},
   "outputs": [
    {
     "name": "stdout",
     "output_type": "stream",
     "text": [
      "Итоговая ошибка константной модели 10.289630376021034\n"
     ]
    }
   ],
   "source": [
    "#проверка на адекватность\n",
    "model_dummy_rougher = DummyRegressor(strategy='mean')\n",
    "model_dummy_final = DummyRegressor(strategy='mean')\n",
    "\n",
    "model_dummy_rougher.fit(features_train_rougher,\n",
    "            target_train_rougher)\n",
    "model_dummy_final.fit(features_train_final,\n",
    "            target_train_final)\n",
    "\n",
    "test_prediction_rougher_DM = model_dummy_rougher.predict(features_test_rougher)\n",
    "test_prediction_final_DM = model_dummy_final.predict(features_test_final)\n",
    "\n",
    "sMAPE_final_dummy = smape_final(smape(target_test_rougher,\n",
    "                                      test_prediction_rougher_DM),\n",
    "                               smape(target_test_final,\n",
    "                                     test_prediction_final_DM))\n",
    "print('Итоговая ошибка константной модели', sMAPE_final_dummy)"
   ]
  },
  {
   "cell_type": "markdown",
   "metadata": {},
   "source": [
    "Из сравнения нашей лучшей модели (Random Forest) и константной модели, получилось, что ошибка у Random Forest меньше (9.362943743123074)."
   ]
  },
  {
   "cell_type": "markdown",
   "metadata": {},
   "source": [
    "## Вывод"
   ]
  },
  {
   "cell_type": "markdown",
   "metadata": {},
   "source": [
    "В ходе проекты были выполненые следующие стадии:\n",
    "1. Подготовка данных \n",
    "2. Анализ данных\n",
    "3. Построение моделей прогнозирования\n",
    "4. Проверка модели на адекватность\n",
    "\n",
    "На первом этапе были обнаружены пропуски в данных, однако благодаря тому, что соседние параметры по времени похожи, мы смогли заменить пропущенные значения на следующие известные. Дубликатов обнаружено не было. Также в тестовой выборке отсутствовали некоторые расчётные и выходные характеристики процесса.\n",
    "\n",
    "На этапе анализа данных были выявлены следующие закономерности: концентрация золота (с 8.27 до 44.1) и свинца в ходе процесса обогащения увеличивается с 8.27 до 44.1 и с 3.6 до 10, соответственно. Но концентрация серебра падает с 8.8 до 5.2. Увеличение концентрации свинца не удивительно, поскольку этот металл является побочным продуктом в процессе обогащения.\n",
    "\n",
    "Также было проведено сравнение распределения размеров гранул сырья на обучающей и тестовой выборках. Полученные распределения примерно одинаковы, и это можно увидеть на нормализованных гистограммах. Кроме того, была исследована суммарная концентрация всех веществ на разных этапах обогащения руды. Были обнаружены и устранены аномалии.\n",
    "\n",
    "Для обучения моделей была использована метрика sMAPE, а в качестве моделей обучались и тестировались модели линейной регрессии, решающего дерева и случайного леса. Лучший результат на тестовой выборке показал Random Forest (9.36). А далее была произведена проверка на адекватность нашей наилучшей модели с константной моделью. Ошибка у нашей модели меньше, поэтому "
   ]
  }
 ],
 "metadata": {
  "ExecuteTimeLog": [
   {
    "duration": 3,
    "start_time": "2023-05-01T12:17:12.332Z"
   },
   {
    "duration": 1877,
    "start_time": "2023-05-01T12:23:08.797Z"
   },
   {
    "duration": 36,
    "start_time": "2023-05-01T12:23:25.848Z"
   },
   {
    "duration": 1958,
    "start_time": "2023-05-01T18:03:24.199Z"
   },
   {
    "duration": 4,
    "start_time": "2023-05-01T18:03:47.683Z"
   },
   {
    "duration": 63,
    "start_time": "2023-05-01T18:06:29.759Z"
   },
   {
    "duration": 71,
    "start_time": "2023-05-01T18:07:51.383Z"
   },
   {
    "duration": 3064,
    "start_time": "2023-05-01T18:08:15.849Z"
   },
   {
    "duration": 20,
    "start_time": "2023-05-01T18:14:01.872Z"
   },
   {
    "duration": 37,
    "start_time": "2023-05-01T18:15:14.579Z"
   },
   {
    "duration": 21,
    "start_time": "2023-05-01T18:15:28.201Z"
   },
   {
    "duration": 29,
    "start_time": "2023-05-01T18:19:24.927Z"
   },
   {
    "duration": 24,
    "start_time": "2023-05-01T18:19:46.928Z"
   },
   {
    "duration": 21,
    "start_time": "2023-05-01T18:20:08.908Z"
   },
   {
    "duration": 136,
    "start_time": "2023-05-01T18:20:45.433Z"
   },
   {
    "duration": 221,
    "start_time": "2023-05-01T18:20:59.098Z"
   },
   {
    "duration": 248,
    "start_time": "2023-05-01T18:21:40.729Z"
   },
   {
    "duration": 9,
    "start_time": "2023-05-01T18:26:10.851Z"
   },
   {
    "duration": 31,
    "start_time": "2023-05-01T18:27:49.667Z"
   },
   {
    "duration": 21,
    "start_time": "2023-05-01T18:28:07.395Z"
   },
   {
    "duration": 10,
    "start_time": "2023-05-01T18:57:45.297Z"
   },
   {
    "duration": 4,
    "start_time": "2023-05-01T18:57:50.658Z"
   },
   {
    "duration": 14,
    "start_time": "2023-05-01T18:57:52.928Z"
   },
   {
    "duration": 8,
    "start_time": "2023-05-01T18:58:00.782Z"
   },
   {
    "duration": 7,
    "start_time": "2023-05-01T18:59:14.969Z"
   },
   {
    "duration": 10,
    "start_time": "2023-05-01T19:00:41.001Z"
   },
   {
    "duration": 13,
    "start_time": "2023-05-01T19:06:46.909Z"
   },
   {
    "duration": 6,
    "start_time": "2023-05-01T19:06:53.154Z"
   },
   {
    "duration": 14,
    "start_time": "2023-05-01T19:11:19.420Z"
   },
   {
    "duration": 14,
    "start_time": "2023-05-01T19:12:04.192Z"
   },
   {
    "duration": 5,
    "start_time": "2023-05-01T19:12:18.471Z"
   },
   {
    "duration": 14,
    "start_time": "2023-05-01T19:19:10.748Z"
   },
   {
    "duration": 11,
    "start_time": "2023-05-01T19:19:34.323Z"
   },
   {
    "duration": 10,
    "start_time": "2023-05-01T19:19:51.100Z"
   },
   {
    "duration": 6,
    "start_time": "2023-05-01T19:52:27.744Z"
   },
   {
    "duration": 6,
    "start_time": "2023-05-01T19:53:08.446Z"
   },
   {
    "duration": 11,
    "start_time": "2023-05-01T19:53:17.909Z"
   },
   {
    "duration": 7,
    "start_time": "2023-05-01T19:53:24.322Z"
   },
   {
    "duration": 7,
    "start_time": "2023-05-01T19:53:37.049Z"
   },
   {
    "duration": 10,
    "start_time": "2023-05-01T19:54:02.949Z"
   },
   {
    "duration": 9,
    "start_time": "2023-05-01T19:55:06.957Z"
   },
   {
    "duration": 31,
    "start_time": "2023-05-01T20:01:40.251Z"
   },
   {
    "duration": 13,
    "start_time": "2023-05-01T20:02:21.133Z"
   },
   {
    "duration": 6,
    "start_time": "2023-05-01T20:02:31.049Z"
   },
   {
    "duration": 8,
    "start_time": "2023-05-01T20:02:37.875Z"
   },
   {
    "duration": 8,
    "start_time": "2023-05-01T20:02:42.793Z"
   },
   {
    "duration": 13,
    "start_time": "2023-05-01T20:03:41.559Z"
   },
   {
    "duration": 16,
    "start_time": "2023-05-01T20:03:51.263Z"
   },
   {
    "duration": 249,
    "start_time": "2023-05-01T20:04:41.323Z"
   },
   {
    "duration": 5,
    "start_time": "2023-05-01T20:56:29.543Z"
   },
   {
    "duration": 4,
    "start_time": "2023-05-01T20:56:30.793Z"
   },
   {
    "duration": 4,
    "start_time": "2023-05-01T20:56:31.752Z"
   },
   {
    "duration": 5,
    "start_time": "2023-05-01T21:03:14.935Z"
   },
   {
    "duration": 3,
    "start_time": "2023-05-01T21:03:22.018Z"
   },
   {
    "duration": 5,
    "start_time": "2023-05-01T21:03:38.997Z"
   },
   {
    "duration": 4,
    "start_time": "2023-05-01T21:03:54.791Z"
   },
   {
    "duration": 13,
    "start_time": "2023-05-01T21:10:40.195Z"
   },
   {
    "duration": 9,
    "start_time": "2023-05-01T21:10:59.868Z"
   },
   {
    "duration": 1691,
    "start_time": "2023-05-01T21:12:52.320Z"
   },
   {
    "duration": 7,
    "start_time": "2023-05-01T21:13:01.150Z"
   },
   {
    "duration": 7,
    "start_time": "2023-05-01T21:13:45.683Z"
   },
   {
    "duration": 5,
    "start_time": "2023-05-01T21:18:03.961Z"
   },
   {
    "duration": 7,
    "start_time": "2023-05-01T21:18:13.221Z"
   },
   {
    "duration": 6,
    "start_time": "2023-05-01T21:18:33.788Z"
   },
   {
    "duration": 4,
    "start_time": "2023-05-01T21:19:08.337Z"
   },
   {
    "duration": 5,
    "start_time": "2023-05-01T21:19:32.142Z"
   },
   {
    "duration": 5,
    "start_time": "2023-05-01T21:20:39.124Z"
   },
   {
    "duration": 5,
    "start_time": "2023-05-01T21:21:06.724Z"
   },
   {
    "duration": 4,
    "start_time": "2023-05-01T21:24:15.453Z"
   },
   {
    "duration": 170,
    "start_time": "2023-05-01T21:25:15.578Z"
   },
   {
    "duration": 109,
    "start_time": "2023-05-01T21:25:22.856Z"
   },
   {
    "duration": 104,
    "start_time": "2023-05-01T21:25:26.313Z"
   },
   {
    "duration": 201,
    "start_time": "2023-05-01T21:25:40.352Z"
   },
   {
    "duration": 129,
    "start_time": "2023-05-01T21:26:17.001Z"
   },
   {
    "duration": 116,
    "start_time": "2023-05-01T21:26:21.061Z"
   },
   {
    "duration": 142,
    "start_time": "2023-05-01T21:26:23.843Z"
   },
   {
    "duration": 159,
    "start_time": "2023-05-01T21:27:13.282Z"
   },
   {
    "duration": 137,
    "start_time": "2023-05-01T21:27:17.690Z"
   },
   {
    "duration": 149,
    "start_time": "2023-05-01T21:27:31.862Z"
   },
   {
    "duration": 136,
    "start_time": "2023-05-01T21:27:39.954Z"
   },
   {
    "duration": 129,
    "start_time": "2023-05-01T21:27:45.439Z"
   },
   {
    "duration": 128,
    "start_time": "2023-05-01T21:27:48.353Z"
   },
   {
    "duration": 137,
    "start_time": "2023-05-01T21:28:07.572Z"
   },
   {
    "duration": 150,
    "start_time": "2023-05-01T21:28:48.156Z"
   },
   {
    "duration": 3,
    "start_time": "2023-05-01T21:40:28.803Z"
   },
   {
    "duration": 311,
    "start_time": "2023-05-01T21:43:34.298Z"
   },
   {
    "duration": 386,
    "start_time": "2023-05-01T21:43:51.468Z"
   },
   {
    "duration": 301,
    "start_time": "2023-05-01T21:44:00.859Z"
   },
   {
    "duration": 301,
    "start_time": "2023-05-01T21:44:14.521Z"
   },
   {
    "duration": 307,
    "start_time": "2023-05-01T21:44:34.866Z"
   },
   {
    "duration": 294,
    "start_time": "2023-05-01T21:44:42.474Z"
   },
   {
    "duration": 276,
    "start_time": "2023-05-01T21:44:48.584Z"
   },
   {
    "duration": 435,
    "start_time": "2023-05-01T21:44:52.445Z"
   },
   {
    "duration": 258,
    "start_time": "2023-05-01T21:47:12.584Z"
   },
   {
    "duration": 334,
    "start_time": "2023-05-01T21:47:22.334Z"
   },
   {
    "duration": 7,
    "start_time": "2023-05-01T21:50:41.618Z"
   },
   {
    "duration": 10,
    "start_time": "2023-05-01T21:56:11.954Z"
   },
   {
    "duration": 10,
    "start_time": "2023-05-01T21:56:25.681Z"
   },
   {
    "duration": 8,
    "start_time": "2023-05-01T21:56:30.635Z"
   },
   {
    "duration": 11,
    "start_time": "2023-05-01T21:56:34.263Z"
   },
   {
    "duration": 12,
    "start_time": "2023-05-01T22:06:28.044Z"
   },
   {
    "duration": 6,
    "start_time": "2023-05-01T22:06:40.001Z"
   },
   {
    "duration": 8,
    "start_time": "2023-05-01T22:06:48.121Z"
   },
   {
    "duration": 9,
    "start_time": "2023-05-01T22:07:44.909Z"
   },
   {
    "duration": 9,
    "start_time": "2023-05-01T22:10:43.528Z"
   },
   {
    "duration": 6,
    "start_time": "2023-05-01T22:11:10.428Z"
   },
   {
    "duration": 7,
    "start_time": "2023-05-01T22:11:16.581Z"
   },
   {
    "duration": 5,
    "start_time": "2023-05-01T22:12:33.646Z"
   },
   {
    "duration": 7,
    "start_time": "2023-05-01T22:15:15.872Z"
   },
   {
    "duration": 8,
    "start_time": "2023-05-01T22:15:46.079Z"
   },
   {
    "duration": 8,
    "start_time": "2023-05-01T22:20:10.997Z"
   },
   {
    "duration": 11,
    "start_time": "2023-05-01T22:24:07.339Z"
   },
   {
    "duration": 13,
    "start_time": "2023-05-01T22:24:12.277Z"
   },
   {
    "duration": 11,
    "start_time": "2023-05-01T22:24:25.586Z"
   },
   {
    "duration": 240,
    "start_time": "2023-05-01T22:24:27.600Z"
   },
   {
    "duration": 91,
    "start_time": "2023-05-01T22:24:46.240Z"
   },
   {
    "duration": 84,
    "start_time": "2023-05-01T22:24:49.551Z"
   },
   {
    "duration": 318,
    "start_time": "2023-05-01T22:25:02.817Z"
   },
   {
    "duration": 362,
    "start_time": "2023-05-01T22:25:37.258Z"
   },
   {
    "duration": 262,
    "start_time": "2023-05-01T22:26:17.819Z"
   },
   {
    "duration": 305,
    "start_time": "2023-05-01T22:26:44.367Z"
   },
   {
    "duration": 7,
    "start_time": "2023-05-01T22:33:31.659Z"
   },
   {
    "duration": 217,
    "start_time": "2023-05-01T22:33:48.581Z"
   },
   {
    "duration": 4,
    "start_time": "2023-05-01T22:34:00.376Z"
   },
   {
    "duration": 210,
    "start_time": "2023-05-01T22:34:02.485Z"
   },
   {
    "duration": 4,
    "start_time": "2023-05-01T22:35:02.119Z"
   },
   {
    "duration": 209,
    "start_time": "2023-05-01T22:35:03.440Z"
   },
   {
    "duration": 7,
    "start_time": "2023-05-01T22:35:09.177Z"
   },
   {
    "duration": 16,
    "start_time": "2023-05-01T22:35:13.517Z"
   },
   {
    "duration": 16,
    "start_time": "2023-05-01T22:35:25.965Z"
   },
   {
    "duration": 18,
    "start_time": "2023-05-01T22:35:33.419Z"
   },
   {
    "duration": 337,
    "start_time": "2023-05-01T22:35:35.387Z"
   },
   {
    "duration": 15,
    "start_time": "2023-05-01T22:36:06.316Z"
   },
   {
    "duration": 15,
    "start_time": "2023-05-01T22:36:30.259Z"
   },
   {
    "duration": 15,
    "start_time": "2023-05-01T22:36:35.309Z"
   },
   {
    "duration": 3,
    "start_time": "2023-05-01T22:37:49.498Z"
   },
   {
    "duration": 265,
    "start_time": "2023-05-01T22:37:51.198Z"
   },
   {
    "duration": 8,
    "start_time": "2023-05-01T22:38:01.444Z"
   },
   {
    "duration": 4,
    "start_time": "2023-05-01T22:38:05.435Z"
   },
   {
    "duration": 237,
    "start_time": "2023-05-01T22:38:06.795Z"
   },
   {
    "duration": 10,
    "start_time": "2023-05-01T22:38:35.298Z"
   },
   {
    "duration": 5,
    "start_time": "2023-05-01T22:40:49.865Z"
   },
   {
    "duration": 45,
    "start_time": "2023-05-01T22:43:48.723Z"
   },
   {
    "duration": 18,
    "start_time": "2023-05-01T22:44:04.604Z"
   },
   {
    "duration": 23,
    "start_time": "2023-05-01T22:44:34.021Z"
   },
   {
    "duration": 15,
    "start_time": "2023-05-01T22:44:42.945Z"
   },
   {
    "duration": 14,
    "start_time": "2023-05-01T22:44:47.993Z"
   },
   {
    "duration": 1510,
    "start_time": "2023-05-02T20:53:25.426Z"
   },
   {
    "duration": 3295,
    "start_time": "2023-05-02T20:53:26.939Z"
   },
   {
    "duration": 28,
    "start_time": "2023-05-02T20:53:30.236Z"
   },
   {
    "duration": 23,
    "start_time": "2023-05-02T20:53:30.267Z"
   },
   {
    "duration": 24,
    "start_time": "2023-05-02T20:53:30.293Z"
   },
   {
    "duration": 24,
    "start_time": "2023-05-02T20:53:30.319Z"
   },
   {
    "duration": 41,
    "start_time": "2023-05-02T20:53:30.345Z"
   },
   {
    "duration": 20,
    "start_time": "2023-05-02T20:53:30.388Z"
   },
   {
    "duration": 154,
    "start_time": "2023-05-02T20:53:30.410Z"
   },
   {
    "duration": 276,
    "start_time": "2023-05-02T20:53:30.568Z"
   },
   {
    "duration": 259,
    "start_time": "2023-05-02T20:53:30.846Z"
   },
   {
    "duration": 3,
    "start_time": "2023-05-02T20:53:31.106Z"
   },
   {
    "duration": 34,
    "start_time": "2023-05-02T20:53:31.111Z"
   },
   {
    "duration": 22,
    "start_time": "2023-05-02T20:53:31.147Z"
   },
   {
    "duration": 37,
    "start_time": "2023-05-02T20:53:31.171Z"
   },
   {
    "duration": 25,
    "start_time": "2023-05-02T20:53:31.209Z"
   },
   {
    "duration": 27,
    "start_time": "2023-05-02T20:53:31.236Z"
   },
   {
    "duration": 33,
    "start_time": "2023-05-02T20:53:31.265Z"
   },
   {
    "duration": 26,
    "start_time": "2023-05-02T20:53:31.299Z"
   },
   {
    "duration": 40,
    "start_time": "2023-05-02T20:53:31.326Z"
   },
   {
    "duration": 26,
    "start_time": "2023-05-02T20:53:31.367Z"
   },
   {
    "duration": 279,
    "start_time": "2023-05-02T20:53:31.394Z"
   },
   {
    "duration": 4,
    "start_time": "2023-05-02T20:53:31.683Z"
   },
   {
    "duration": 19,
    "start_time": "2023-05-02T20:53:31.688Z"
   },
   {
    "duration": 28,
    "start_time": "2023-05-02T20:53:31.709Z"
   },
   {
    "duration": 16,
    "start_time": "2023-05-02T20:53:31.738Z"
   },
   {
    "duration": 21,
    "start_time": "2023-05-02T20:53:31.755Z"
   },
   {
    "duration": 19,
    "start_time": "2023-05-02T20:53:31.779Z"
   },
   {
    "duration": 6,
    "start_time": "2023-05-02T20:53:31.799Z"
   },
   {
    "duration": 20,
    "start_time": "2023-05-02T20:53:31.806Z"
   },
   {
    "duration": 135,
    "start_time": "2023-05-02T20:53:31.828Z"
   },
   {
    "duration": 5,
    "start_time": "2023-05-02T20:53:31.965Z"
   },
   {
    "duration": 139,
    "start_time": "2023-05-02T20:53:31.983Z"
   },
   {
    "duration": 4,
    "start_time": "2023-05-02T20:53:32.123Z"
   },
   {
    "duration": 147,
    "start_time": "2023-05-02T20:53:32.128Z"
   },
   {
    "duration": 397,
    "start_time": "2023-05-02T20:53:32.277Z"
   },
   {
    "duration": 13,
    "start_time": "2023-05-02T20:53:32.676Z"
   },
   {
    "duration": 10,
    "start_time": "2023-05-02T20:53:32.690Z"
   },
   {
    "duration": 6,
    "start_time": "2023-05-02T20:53:32.701Z"
   },
   {
    "duration": 282,
    "start_time": "2023-05-02T20:53:32.709Z"
   },
   {
    "duration": 5,
    "start_time": "2023-05-02T20:53:32.993Z"
   },
   {
    "duration": 263,
    "start_time": "2023-05-02T20:53:33.000Z"
   },
   {
    "duration": 7,
    "start_time": "2023-05-02T20:53:33.265Z"
   },
   {
    "duration": 262,
    "start_time": "2023-05-02T20:53:33.284Z"
   },
   {
    "duration": 8,
    "start_time": "2023-05-02T20:53:33.548Z"
   },
   {
    "duration": 309,
    "start_time": "2023-05-02T20:53:33.557Z"
   },
   {
    "duration": 142,
    "start_time": "2023-05-02T20:53:33.868Z"
   },
   {
    "duration": 0,
    "start_time": "2023-05-02T20:53:34.011Z"
   },
   {
    "duration": 16,
    "start_time": "2023-05-02T20:57:21.402Z"
   },
   {
    "duration": 48,
    "start_time": "2023-05-02T20:57:25.068Z"
   },
   {
    "duration": 5,
    "start_time": "2023-05-02T20:58:44.005Z"
   },
   {
    "duration": 351,
    "start_time": "2023-05-02T20:58:46.225Z"
   },
   {
    "duration": 5,
    "start_time": "2023-05-02T20:59:30.292Z"
   },
   {
    "duration": 281,
    "start_time": "2023-05-02T21:00:00.831Z"
   },
   {
    "duration": 297,
    "start_time": "2023-05-02T21:00:11.833Z"
   },
   {
    "duration": 5,
    "start_time": "2023-05-02T21:00:32.974Z"
   },
   {
    "duration": 263,
    "start_time": "2023-05-02T21:00:35.292Z"
   },
   {
    "duration": 10,
    "start_time": "2023-05-02T21:01:03.616Z"
   },
   {
    "duration": 9,
    "start_time": "2023-05-02T21:01:20.649Z"
   },
   {
    "duration": 9,
    "start_time": "2023-05-02T21:02:07.441Z"
   },
   {
    "duration": 224,
    "start_time": "2023-05-02T21:03:28.623Z"
   },
   {
    "duration": 238,
    "start_time": "2023-05-02T21:03:42.875Z"
   },
   {
    "duration": 327,
    "start_time": "2023-05-02T21:03:56.916Z"
   },
   {
    "duration": 262,
    "start_time": "2023-05-02T21:04:15.868Z"
   },
   {
    "duration": 240,
    "start_time": "2023-05-02T21:04:28.452Z"
   },
   {
    "duration": 232,
    "start_time": "2023-05-02T21:04:43.106Z"
   },
   {
    "duration": 237,
    "start_time": "2023-05-02T21:04:51.734Z"
   },
   {
    "duration": 7,
    "start_time": "2023-05-02T21:13:00.652Z"
   },
   {
    "duration": 3,
    "start_time": "2023-05-02T21:20:54.274Z"
   },
   {
    "duration": 10,
    "start_time": "2023-05-02T21:27:58.619Z"
   },
   {
    "duration": 3,
    "start_time": "2023-05-02T21:28:17.648Z"
   },
   {
    "duration": 2,
    "start_time": "2023-05-02T21:28:22.582Z"
   },
   {
    "duration": 4,
    "start_time": "2023-05-02T21:30:17.815Z"
   },
   {
    "duration": 3,
    "start_time": "2023-05-02T21:34:23.737Z"
   },
   {
    "duration": 10,
    "start_time": "2023-05-02T21:38:25.679Z"
   },
   {
    "duration": 3,
    "start_time": "2023-05-02T21:38:30.830Z"
   },
   {
    "duration": 10,
    "start_time": "2023-05-02T21:38:33.481Z"
   },
   {
    "duration": 3,
    "start_time": "2023-05-02T21:38:41.981Z"
   },
   {
    "duration": 4,
    "start_time": "2023-05-02T21:38:43.622Z"
   },
   {
    "duration": 30,
    "start_time": "2023-05-02T21:51:02.226Z"
   },
   {
    "duration": 19,
    "start_time": "2023-05-02T21:51:08.036Z"
   },
   {
    "duration": 28,
    "start_time": "2023-05-02T21:51:41.950Z"
   },
   {
    "duration": 18,
    "start_time": "2023-05-02T21:59:10.242Z"
   },
   {
    "duration": 10,
    "start_time": "2023-05-02T22:00:32.534Z"
   },
   {
    "duration": 26,
    "start_time": "2023-05-02T22:00:39.673Z"
   },
   {
    "duration": 24,
    "start_time": "2023-05-02T22:02:01.311Z"
   },
   {
    "duration": 3,
    "start_time": "2023-05-02T22:02:05.071Z"
   },
   {
    "duration": 12,
    "start_time": "2023-05-02T22:02:10.089Z"
   },
   {
    "duration": 6,
    "start_time": "2023-05-02T22:02:16.987Z"
   },
   {
    "duration": 15,
    "start_time": "2023-05-02T22:02:19.467Z"
   },
   {
    "duration": 23,
    "start_time": "2023-05-02T22:02:22.577Z"
   },
   {
    "duration": 3,
    "start_time": "2023-05-02T22:02:23.467Z"
   },
   {
    "duration": 4,
    "start_time": "2023-05-02T22:02:24.276Z"
   },
   {
    "duration": 15,
    "start_time": "2023-05-02T22:02:25.667Z"
   },
   {
    "duration": 31,
    "start_time": "2023-05-02T22:02:38.646Z"
   },
   {
    "duration": 3,
    "start_time": "2023-05-02T22:02:51.647Z"
   },
   {
    "duration": 736,
    "start_time": "2023-05-02T22:03:10.839Z"
   },
   {
    "duration": 16,
    "start_time": "2023-05-02T22:03:18.104Z"
   },
   {
    "duration": 3,
    "start_time": "2023-05-02T22:03:19.171Z"
   },
   {
    "duration": 9,
    "start_time": "2023-05-02T22:03:20.389Z"
   },
   {
    "duration": 4,
    "start_time": "2023-05-02T22:03:21.369Z"
   },
   {
    "duration": 8,
    "start_time": "2023-05-02T22:03:24.688Z"
   },
   {
    "duration": 7,
    "start_time": "2023-05-02T22:04:57.980Z"
   },
   {
    "duration": 3,
    "start_time": "2023-05-02T22:05:49.390Z"
   },
   {
    "duration": 4,
    "start_time": "2023-05-02T22:06:48.800Z"
   },
   {
    "duration": 10,
    "start_time": "2023-05-02T22:08:55.018Z"
   },
   {
    "duration": 7,
    "start_time": "2023-05-02T22:08:55.855Z"
   },
   {
    "duration": 6,
    "start_time": "2023-05-02T22:08:56.628Z"
   },
   {
    "duration": 115,
    "start_time": "2023-05-02T22:10:31.742Z"
   },
   {
    "duration": 119,
    "start_time": "2023-05-02T22:11:03.870Z"
   },
   {
    "duration": 5,
    "start_time": "2023-05-02T22:11:26.191Z"
   },
   {
    "duration": 99,
    "start_time": "2023-05-02T22:11:29.879Z"
   },
   {
    "duration": 6,
    "start_time": "2023-05-02T22:42:15.157Z"
   },
   {
    "duration": 44,
    "start_time": "2023-05-02T22:48:03.597Z"
   },
   {
    "duration": 45,
    "start_time": "2023-05-02T22:49:51.886Z"
   },
   {
    "duration": 4,
    "start_time": "2023-05-02T22:51:51.977Z"
   },
   {
    "duration": 44,
    "start_time": "2023-05-02T22:51:57.873Z"
   },
   {
    "duration": 32,
    "start_time": "2023-05-02T22:54:30.368Z"
   },
   {
    "duration": 30,
    "start_time": "2023-05-02T22:56:06.957Z"
   },
   {
    "duration": 29,
    "start_time": "2023-05-02T22:56:57.937Z"
   },
   {
    "duration": 2,
    "start_time": "2023-05-02T22:57:11.542Z"
   },
   {
    "duration": 10,
    "start_time": "2023-05-02T22:57:17.010Z"
   },
   {
    "duration": 6,
    "start_time": "2023-05-02T22:57:18.479Z"
   },
   {
    "duration": 4,
    "start_time": "2023-05-02T22:57:21.198Z"
   },
   {
    "duration": 38,
    "start_time": "2023-05-02T22:57:23.425Z"
   },
   {
    "duration": 29,
    "start_time": "2023-05-02T22:57:32.087Z"
   },
   {
    "duration": 49,
    "start_time": "2023-05-02T22:57:40.279Z"
   },
   {
    "duration": 0,
    "start_time": "2023-05-02T22:58:53.966Z"
   },
   {
    "duration": 655,
    "start_time": "2023-05-02T23:00:16.006Z"
   },
   {
    "duration": 24,
    "start_time": "2023-05-02T23:00:18.075Z"
   },
   {
    "duration": 11,
    "start_time": "2023-05-02T23:01:15.676Z"
   },
   {
    "duration": 14,
    "start_time": "2023-05-02T23:01:23.180Z"
   },
   {
    "duration": 10,
    "start_time": "2023-05-02T23:02:01.175Z"
   },
   {
    "duration": 12,
    "start_time": "2023-05-02T23:02:06.755Z"
   },
   {
    "duration": 6,
    "start_time": "2023-05-02T23:02:14.801Z"
   },
   {
    "duration": 7,
    "start_time": "2023-05-02T23:02:20.137Z"
   },
   {
    "duration": 11,
    "start_time": "2023-05-02T23:02:23.108Z"
   },
   {
    "duration": 7,
    "start_time": "2023-05-02T23:02:24.380Z"
   },
   {
    "duration": 104,
    "start_time": "2023-05-02T23:02:35.192Z"
   },
   {
    "duration": 274,
    "start_time": "2023-05-02T23:03:16.933Z"
   },
   {
    "duration": 4,
    "start_time": "2023-05-02T23:04:51.863Z"
   },
   {
    "duration": 757,
    "start_time": "2023-05-02T23:04:51.869Z"
   },
   {
    "duration": 24,
    "start_time": "2023-05-02T23:04:52.628Z"
   },
   {
    "duration": 49,
    "start_time": "2023-05-02T23:04:52.654Z"
   },
   {
    "duration": 26,
    "start_time": "2023-05-02T23:04:52.705Z"
   },
   {
    "duration": 46,
    "start_time": "2023-05-02T23:04:52.733Z"
   },
   {
    "duration": 24,
    "start_time": "2023-05-02T23:04:52.781Z"
   },
   {
    "duration": 22,
    "start_time": "2023-05-02T23:04:52.807Z"
   },
   {
    "duration": 134,
    "start_time": "2023-05-02T23:04:52.831Z"
   },
   {
    "duration": 235,
    "start_time": "2023-05-02T23:04:52.967Z"
   },
   {
    "duration": 246,
    "start_time": "2023-05-02T23:04:53.205Z"
   },
   {
    "duration": 3,
    "start_time": "2023-05-02T23:04:53.453Z"
   },
   {
    "duration": 45,
    "start_time": "2023-05-02T23:04:53.457Z"
   },
   {
    "duration": 20,
    "start_time": "2023-05-02T23:04:53.504Z"
   },
   {
    "duration": 14,
    "start_time": "2023-05-02T23:04:53.525Z"
   },
   {
    "duration": 26,
    "start_time": "2023-05-02T23:04:53.541Z"
   },
   {
    "duration": 14,
    "start_time": "2023-05-02T23:04:53.568Z"
   },
   {
    "duration": 13,
    "start_time": "2023-05-02T23:04:53.584Z"
   },
   {
    "duration": 21,
    "start_time": "2023-05-02T23:04:53.599Z"
   },
   {
    "duration": 72,
    "start_time": "2023-05-02T23:04:53.621Z"
   },
   {
    "duration": 53,
    "start_time": "2023-05-02T23:04:53.695Z"
   },
   {
    "duration": 351,
    "start_time": "2023-05-02T23:04:53.750Z"
   },
   {
    "duration": 3,
    "start_time": "2023-05-02T23:04:54.103Z"
   },
   {
    "duration": 34,
    "start_time": "2023-05-02T23:04:54.108Z"
   },
   {
    "duration": 34,
    "start_time": "2023-05-02T23:04:54.144Z"
   },
   {
    "duration": 13,
    "start_time": "2023-05-02T23:04:54.180Z"
   },
   {
    "duration": 19,
    "start_time": "2023-05-02T23:04:54.195Z"
   },
   {
    "duration": 26,
    "start_time": "2023-05-02T23:04:54.215Z"
   },
   {
    "duration": 18,
    "start_time": "2023-05-02T23:04:54.245Z"
   },
   {
    "duration": 12,
    "start_time": "2023-05-02T23:04:54.264Z"
   },
   {
    "duration": 122,
    "start_time": "2023-05-02T23:04:54.278Z"
   },
   {
    "duration": 4,
    "start_time": "2023-05-02T23:04:54.402Z"
   },
   {
    "duration": 140,
    "start_time": "2023-05-02T23:04:54.408Z"
   },
   {
    "duration": 5,
    "start_time": "2023-05-02T23:04:54.551Z"
   },
   {
    "duration": 135,
    "start_time": "2023-05-02T23:04:54.558Z"
   },
   {
    "duration": 346,
    "start_time": "2023-05-02T23:04:54.694Z"
   },
   {
    "duration": 8,
    "start_time": "2023-05-02T23:04:55.042Z"
   },
   {
    "duration": 34,
    "start_time": "2023-05-02T23:04:55.051Z"
   },
   {
    "duration": 28,
    "start_time": "2023-05-02T23:04:55.087Z"
   },
   {
    "duration": 259,
    "start_time": "2023-05-02T23:04:55.117Z"
   },
   {
    "duration": 10,
    "start_time": "2023-05-02T23:04:55.377Z"
   },
   {
    "duration": 235,
    "start_time": "2023-05-02T23:04:55.388Z"
   },
   {
    "duration": 6,
    "start_time": "2023-05-02T23:04:55.624Z"
   },
   {
    "duration": 324,
    "start_time": "2023-05-02T23:04:55.632Z"
   },
   {
    "duration": 7,
    "start_time": "2023-05-02T23:04:55.957Z"
   },
   {
    "duration": 269,
    "start_time": "2023-05-02T23:04:55.965Z"
   },
   {
    "duration": 4,
    "start_time": "2023-05-02T23:04:56.236Z"
   },
   {
    "duration": 228,
    "start_time": "2023-05-02T23:04:56.241Z"
   },
   {
    "duration": 12,
    "start_time": "2023-05-02T23:04:56.471Z"
   },
   {
    "duration": 231,
    "start_time": "2023-05-02T23:04:56.484Z"
   },
   {
    "duration": 5,
    "start_time": "2023-05-02T23:04:56.716Z"
   },
   {
    "duration": 242,
    "start_time": "2023-05-02T23:04:56.722Z"
   },
   {
    "duration": 3,
    "start_time": "2023-05-02T23:04:56.966Z"
   },
   {
    "duration": 22,
    "start_time": "2023-05-02T23:04:56.970Z"
   },
   {
    "duration": 32,
    "start_time": "2023-05-02T23:04:56.993Z"
   },
   {
    "duration": 18,
    "start_time": "2023-05-02T23:04:57.026Z"
   },
   {
    "duration": 9,
    "start_time": "2023-05-02T23:04:57.046Z"
   },
   {
    "duration": 12,
    "start_time": "2023-05-02T23:04:57.056Z"
   },
   {
    "duration": 14,
    "start_time": "2023-05-02T23:04:57.070Z"
   },
   {
    "duration": 9,
    "start_time": "2023-05-02T23:04:57.086Z"
   },
   {
    "duration": 1489,
    "start_time": "2023-05-02T23:04:57.096Z"
   },
   {
    "duration": 4,
    "start_time": "2023-05-02T23:06:28.044Z"
   },
   {
    "duration": 1231,
    "start_time": "2023-05-02T23:07:41.955Z"
   },
   {
    "duration": 2,
    "start_time": "2023-05-02T23:08:30.172Z"
   },
   {
    "duration": 1365,
    "start_time": "2023-05-02T23:08:33.121Z"
   },
   {
    "duration": 2278,
    "start_time": "2023-05-02T23:08:41.909Z"
   },
   {
    "duration": 2490,
    "start_time": "2023-05-02T23:08:51.998Z"
   },
   {
    "duration": 3296,
    "start_time": "2023-05-02T23:09:05.688Z"
   },
   {
    "duration": 2906,
    "start_time": "2023-05-02T23:09:15.482Z"
   },
   {
    "duration": 3197,
    "start_time": "2023-05-02T23:09:47.691Z"
   },
   {
    "duration": 16187,
    "start_time": "2023-05-02T23:17:15.869Z"
   },
   {
    "duration": 7,
    "start_time": "2023-05-02T23:18:27.142Z"
   },
   {
    "duration": 16430,
    "start_time": "2023-05-02T23:18:43.995Z"
   },
   {
    "duration": 16722,
    "start_time": "2023-05-02T23:19:03.246Z"
   },
   {
    "duration": 81089,
    "start_time": "2023-05-02T23:19:44.045Z"
   },
   {
    "duration": 79599,
    "start_time": "2023-05-02T23:22:28.878Z"
   },
   {
    "duration": 78280,
    "start_time": "2023-05-02T23:27:30.439Z"
   },
   {
    "duration": 13,
    "start_time": "2023-05-02T23:28:48.721Z"
   },
   {
    "duration": 62024,
    "start_time": "2023-05-02T23:29:13.349Z"
   },
   {
    "duration": 9149,
    "start_time": "2023-05-02T23:31:20.469Z"
   },
   {
    "duration": 2471661,
    "start_time": "2023-05-02T23:31:40.991Z"
   },
   {
    "duration": 11,
    "start_time": "2023-05-03T00:13:02.867Z"
   },
   {
    "duration": 58,
    "start_time": "2023-05-03T13:50:52.295Z"
   },
   {
    "duration": 1733,
    "start_time": "2023-05-03T13:50:55.983Z"
   },
   {
    "duration": 1827,
    "start_time": "2023-05-03T13:50:57.719Z"
   },
   {
    "duration": 29,
    "start_time": "2023-05-03T13:50:59.548Z"
   },
   {
    "duration": 24,
    "start_time": "2023-05-03T13:50:59.580Z"
   },
   {
    "duration": 25,
    "start_time": "2023-05-03T13:50:59.606Z"
   },
   {
    "duration": 17,
    "start_time": "2023-05-03T13:50:59.633Z"
   },
   {
    "duration": 46,
    "start_time": "2023-05-03T13:50:59.652Z"
   },
   {
    "duration": 22,
    "start_time": "2023-05-03T13:50:59.700Z"
   },
   {
    "duration": 170,
    "start_time": "2023-05-03T13:50:59.724Z"
   },
   {
    "duration": 266,
    "start_time": "2023-05-03T13:50:59.897Z"
   },
   {
    "duration": 361,
    "start_time": "2023-05-03T13:51:00.165Z"
   },
   {
    "duration": 5,
    "start_time": "2023-05-03T13:51:00.528Z"
   },
   {
    "duration": 86,
    "start_time": "2023-05-03T13:51:00.535Z"
   },
   {
    "duration": 54,
    "start_time": "2023-05-03T13:51:00.623Z"
   },
   {
    "duration": 59,
    "start_time": "2023-05-03T13:51:00.679Z"
   },
   {
    "duration": 41,
    "start_time": "2023-05-03T13:51:00.740Z"
   },
   {
    "duration": 36,
    "start_time": "2023-05-03T13:51:00.784Z"
   },
   {
    "duration": 70,
    "start_time": "2023-05-03T13:51:00.822Z"
   },
   {
    "duration": 81,
    "start_time": "2023-05-03T13:51:00.894Z"
   },
   {
    "duration": 110,
    "start_time": "2023-05-03T13:51:00.977Z"
   },
   {
    "duration": 0,
    "start_time": "2023-05-03T13:51:01.091Z"
   },
   {
    "duration": 0,
    "start_time": "2023-05-03T13:51:01.093Z"
   },
   {
    "duration": 0,
    "start_time": "2023-05-03T13:51:01.095Z"
   },
   {
    "duration": 0,
    "start_time": "2023-05-03T13:51:01.096Z"
   },
   {
    "duration": 0,
    "start_time": "2023-05-03T13:51:01.097Z"
   },
   {
    "duration": 0,
    "start_time": "2023-05-03T13:51:01.099Z"
   },
   {
    "duration": 0,
    "start_time": "2023-05-03T13:51:01.100Z"
   },
   {
    "duration": 0,
    "start_time": "2023-05-03T13:51:01.102Z"
   },
   {
    "duration": 0,
    "start_time": "2023-05-03T13:51:01.104Z"
   },
   {
    "duration": 0,
    "start_time": "2023-05-03T13:51:01.105Z"
   },
   {
    "duration": 0,
    "start_time": "2023-05-03T13:51:01.107Z"
   },
   {
    "duration": 0,
    "start_time": "2023-05-03T13:51:01.109Z"
   },
   {
    "duration": 0,
    "start_time": "2023-05-03T13:51:01.111Z"
   },
   {
    "duration": 0,
    "start_time": "2023-05-03T13:51:01.112Z"
   },
   {
    "duration": 0,
    "start_time": "2023-05-03T13:51:01.113Z"
   },
   {
    "duration": 0,
    "start_time": "2023-05-03T13:51:01.115Z"
   },
   {
    "duration": 0,
    "start_time": "2023-05-03T13:51:01.117Z"
   },
   {
    "duration": 0,
    "start_time": "2023-05-03T13:51:01.118Z"
   },
   {
    "duration": 0,
    "start_time": "2023-05-03T13:51:01.119Z"
   },
   {
    "duration": 0,
    "start_time": "2023-05-03T13:51:01.121Z"
   },
   {
    "duration": 0,
    "start_time": "2023-05-03T13:51:01.122Z"
   },
   {
    "duration": 0,
    "start_time": "2023-05-03T13:51:01.123Z"
   },
   {
    "duration": 0,
    "start_time": "2023-05-03T13:51:01.125Z"
   },
   {
    "duration": 0,
    "start_time": "2023-05-03T13:51:01.126Z"
   },
   {
    "duration": 0,
    "start_time": "2023-05-03T13:51:01.127Z"
   },
   {
    "duration": 0,
    "start_time": "2023-05-03T13:51:01.128Z"
   },
   {
    "duration": 0,
    "start_time": "2023-05-03T13:51:01.129Z"
   },
   {
    "duration": 0,
    "start_time": "2023-05-03T13:51:01.131Z"
   },
   {
    "duration": 0,
    "start_time": "2023-05-03T13:51:01.190Z"
   },
   {
    "duration": 0,
    "start_time": "2023-05-03T13:51:01.191Z"
   },
   {
    "duration": 0,
    "start_time": "2023-05-03T13:51:01.192Z"
   },
   {
    "duration": 0,
    "start_time": "2023-05-03T13:51:01.193Z"
   },
   {
    "duration": 0,
    "start_time": "2023-05-03T13:51:01.194Z"
   },
   {
    "duration": 0,
    "start_time": "2023-05-03T13:51:01.195Z"
   },
   {
    "duration": 0,
    "start_time": "2023-05-03T13:51:01.196Z"
   },
   {
    "duration": 0,
    "start_time": "2023-05-03T13:51:01.197Z"
   },
   {
    "duration": 0,
    "start_time": "2023-05-03T13:51:01.198Z"
   },
   {
    "duration": 0,
    "start_time": "2023-05-03T13:51:01.200Z"
   },
   {
    "duration": 0,
    "start_time": "2023-05-03T13:51:01.201Z"
   },
   {
    "duration": 0,
    "start_time": "2023-05-03T13:51:01.202Z"
   },
   {
    "duration": 0,
    "start_time": "2023-05-03T13:51:01.203Z"
   },
   {
    "duration": 0,
    "start_time": "2023-05-03T13:51:01.205Z"
   },
   {
    "duration": 0,
    "start_time": "2023-05-03T13:51:01.206Z"
   },
   {
    "duration": 0,
    "start_time": "2023-05-03T13:51:01.207Z"
   },
   {
    "duration": 0,
    "start_time": "2023-05-03T13:51:01.208Z"
   },
   {
    "duration": 4,
    "start_time": "2023-05-03T13:51:13.542Z"
   },
   {
    "duration": 750,
    "start_time": "2023-05-03T13:51:13.551Z"
   },
   {
    "duration": 24,
    "start_time": "2023-05-03T13:51:14.304Z"
   },
   {
    "duration": 25,
    "start_time": "2023-05-03T13:51:14.330Z"
   },
   {
    "duration": 44,
    "start_time": "2023-05-03T13:51:14.357Z"
   },
   {
    "duration": 17,
    "start_time": "2023-05-03T13:51:14.404Z"
   },
   {
    "duration": 21,
    "start_time": "2023-05-03T13:51:14.423Z"
   },
   {
    "duration": 50,
    "start_time": "2023-05-03T13:51:14.446Z"
   },
   {
    "duration": 151,
    "start_time": "2023-05-03T13:51:14.497Z"
   },
   {
    "duration": 283,
    "start_time": "2023-05-03T13:51:14.650Z"
   },
   {
    "duration": 286,
    "start_time": "2023-05-03T13:51:14.935Z"
   },
   {
    "duration": 4,
    "start_time": "2023-05-03T13:51:15.223Z"
   },
   {
    "duration": 47,
    "start_time": "2023-05-03T13:51:15.229Z"
   },
   {
    "duration": 30,
    "start_time": "2023-05-03T13:51:15.278Z"
   },
   {
    "duration": 32,
    "start_time": "2023-05-03T13:51:15.311Z"
   },
   {
    "duration": 25,
    "start_time": "2023-05-03T13:51:15.344Z"
   },
   {
    "duration": 30,
    "start_time": "2023-05-03T13:51:15.371Z"
   },
   {
    "duration": 13,
    "start_time": "2023-05-03T13:51:15.404Z"
   },
   {
    "duration": 23,
    "start_time": "2023-05-03T13:51:15.419Z"
   },
   {
    "duration": 30,
    "start_time": "2023-05-03T13:51:15.444Z"
   },
   {
    "duration": 26,
    "start_time": "2023-05-03T13:51:15.477Z"
   },
   {
    "duration": 286,
    "start_time": "2023-05-03T13:51:15.506Z"
   },
   {
    "duration": 5,
    "start_time": "2023-05-03T13:51:15.794Z"
   },
   {
    "duration": 22,
    "start_time": "2023-05-03T13:51:15.801Z"
   },
   {
    "duration": 21,
    "start_time": "2023-05-03T13:51:15.825Z"
   },
   {
    "duration": 10,
    "start_time": "2023-05-03T13:51:15.848Z"
   },
   {
    "duration": 5,
    "start_time": "2023-05-03T13:51:15.861Z"
   },
   {
    "duration": 5,
    "start_time": "2023-05-03T13:51:15.868Z"
   },
   {
    "duration": 20,
    "start_time": "2023-05-03T13:51:15.875Z"
   },
   {
    "duration": 19,
    "start_time": "2023-05-03T13:51:15.897Z"
   },
   {
    "duration": 165,
    "start_time": "2023-05-03T13:51:15.918Z"
   },
   {
    "duration": 5,
    "start_time": "2023-05-03T13:51:16.085Z"
   },
   {
    "duration": 212,
    "start_time": "2023-05-03T13:51:16.092Z"
   },
   {
    "duration": 6,
    "start_time": "2023-05-03T13:51:16.306Z"
   },
   {
    "duration": 150,
    "start_time": "2023-05-03T13:51:16.314Z"
   },
   {
    "duration": 356,
    "start_time": "2023-05-03T13:51:16.466Z"
   },
   {
    "duration": 9,
    "start_time": "2023-05-03T13:51:16.824Z"
   },
   {
    "duration": 10,
    "start_time": "2023-05-03T13:51:16.835Z"
   },
   {
    "duration": 19,
    "start_time": "2023-05-03T13:51:16.846Z"
   },
   {
    "duration": 300,
    "start_time": "2023-05-03T13:51:16.867Z"
   },
   {
    "duration": 6,
    "start_time": "2023-05-03T13:51:17.168Z"
   },
   {
    "duration": 283,
    "start_time": "2023-05-03T13:51:17.189Z"
   },
   {
    "duration": 16,
    "start_time": "2023-05-03T13:51:17.474Z"
   },
   {
    "duration": 271,
    "start_time": "2023-05-03T13:51:17.491Z"
   },
   {
    "duration": 7,
    "start_time": "2023-05-03T13:51:17.764Z"
   },
   {
    "duration": 417,
    "start_time": "2023-05-03T13:51:17.774Z"
   },
   {
    "duration": 5,
    "start_time": "2023-05-03T13:51:18.193Z"
   },
   {
    "duration": 273,
    "start_time": "2023-05-03T13:51:18.200Z"
   },
   {
    "duration": 5,
    "start_time": "2023-05-03T13:51:18.475Z"
   },
   {
    "duration": 285,
    "start_time": "2023-05-03T13:51:18.488Z"
   },
   {
    "duration": 5,
    "start_time": "2023-05-03T13:51:18.775Z"
   },
   {
    "duration": 294,
    "start_time": "2023-05-03T13:51:18.781Z"
   },
   {
    "duration": 4,
    "start_time": "2023-05-03T13:51:19.077Z"
   },
   {
    "duration": 12,
    "start_time": "2023-05-03T13:51:19.090Z"
   },
   {
    "duration": 25,
    "start_time": "2023-05-03T13:51:19.105Z"
   },
   {
    "duration": 7,
    "start_time": "2023-05-03T13:51:19.132Z"
   },
   {
    "duration": 29,
    "start_time": "2023-05-03T13:51:19.141Z"
   },
   {
    "duration": 14,
    "start_time": "2023-05-03T13:51:19.172Z"
   },
   {
    "duration": 10,
    "start_time": "2023-05-03T13:51:19.188Z"
   },
   {
    "duration": 10,
    "start_time": "2023-05-03T13:51:19.200Z"
   },
   {
    "duration": 2977,
    "start_time": "2023-05-03T13:51:19.212Z"
   },
   {
    "duration": 87784,
    "start_time": "2023-05-03T13:51:22.191Z"
   },
   {
    "duration": 274384,
    "start_time": "2023-05-03T13:52:49.976Z"
   },
   {
    "duration": 106,
    "start_time": "2023-05-03T13:57:24.363Z"
   },
   {
    "duration": 0,
    "start_time": "2023-05-03T13:57:24.471Z"
   },
   {
    "duration": 16,
    "start_time": "2023-05-03T13:57:38.902Z"
   },
   {
    "duration": 13,
    "start_time": "2023-05-03T13:59:46.122Z"
   },
   {
    "duration": 1056,
    "start_time": "2023-05-03T14:01:37.261Z"
   },
   {
    "duration": 3274,
    "start_time": "2023-05-03T14:02:04.799Z"
   },
   {
    "duration": 9,
    "start_time": "2023-05-03T14:05:55.486Z"
   },
   {
    "duration": 10,
    "start_time": "2023-05-03T14:06:18.181Z"
   },
   {
    "duration": 59,
    "start_time": "2023-05-04T14:03:03.087Z"
   },
   {
    "duration": 40,
    "start_time": "2023-05-04T14:03:49.771Z"
   },
   {
    "duration": 1660,
    "start_time": "2023-05-06T11:36:26.741Z"
   },
   {
    "duration": 1867,
    "start_time": "2023-05-06T11:36:28.404Z"
   },
   {
    "duration": 37,
    "start_time": "2023-05-06T11:36:30.274Z"
   },
   {
    "duration": 31,
    "start_time": "2023-05-06T11:36:30.314Z"
   },
   {
    "duration": 68,
    "start_time": "2023-05-06T11:36:30.348Z"
   },
   {
    "duration": 74,
    "start_time": "2023-05-06T11:36:30.419Z"
   },
   {
    "duration": 47,
    "start_time": "2023-05-06T11:36:30.496Z"
   },
   {
    "duration": 70,
    "start_time": "2023-05-06T11:36:30.545Z"
   },
   {
    "duration": 157,
    "start_time": "2023-05-06T11:36:30.616Z"
   },
   {
    "duration": 303,
    "start_time": "2023-05-06T11:36:30.775Z"
   },
   {
    "duration": 275,
    "start_time": "2023-05-06T11:36:31.080Z"
   },
   {
    "duration": 3,
    "start_time": "2023-05-06T11:36:31.357Z"
   },
   {
    "duration": 65,
    "start_time": "2023-05-06T11:36:31.362Z"
   },
   {
    "duration": 31,
    "start_time": "2023-05-06T11:36:31.430Z"
   },
   {
    "duration": 31,
    "start_time": "2023-05-06T11:36:31.463Z"
   },
   {
    "duration": 48,
    "start_time": "2023-05-06T11:36:31.495Z"
   },
   {
    "duration": 30,
    "start_time": "2023-05-06T11:36:31.545Z"
   },
   {
    "duration": 29,
    "start_time": "2023-05-06T11:36:31.577Z"
   },
   {
    "duration": 19,
    "start_time": "2023-05-06T11:36:31.608Z"
   },
   {
    "duration": 39,
    "start_time": "2023-05-06T11:36:31.630Z"
   },
   {
    "duration": 31,
    "start_time": "2023-05-06T11:36:31.671Z"
   },
   {
    "duration": 288,
    "start_time": "2023-05-06T11:36:31.705Z"
   },
   {
    "duration": 4,
    "start_time": "2023-05-06T11:36:31.995Z"
   },
   {
    "duration": 23,
    "start_time": "2023-05-06T11:36:32.001Z"
   },
   {
    "duration": 53,
    "start_time": "2023-05-06T11:36:32.026Z"
   },
   {
    "duration": 29,
    "start_time": "2023-05-06T11:36:32.081Z"
   },
   {
    "duration": 24,
    "start_time": "2023-05-06T11:36:32.112Z"
   },
   {
    "duration": 16,
    "start_time": "2023-05-06T11:36:32.138Z"
   },
   {
    "duration": 23,
    "start_time": "2023-05-06T11:36:32.155Z"
   },
   {
    "duration": 38,
    "start_time": "2023-05-06T11:36:32.180Z"
   },
   {
    "duration": 167,
    "start_time": "2023-05-06T11:36:32.220Z"
   },
   {
    "duration": 5,
    "start_time": "2023-05-06T11:36:32.389Z"
   },
   {
    "duration": 151,
    "start_time": "2023-05-06T11:36:32.396Z"
   },
   {
    "duration": 5,
    "start_time": "2023-05-06T11:36:32.550Z"
   },
   {
    "duration": 166,
    "start_time": "2023-05-06T11:36:32.557Z"
   },
   {
    "duration": 417,
    "start_time": "2023-05-06T11:36:32.725Z"
   },
   {
    "duration": 9,
    "start_time": "2023-05-06T11:36:33.144Z"
   },
   {
    "duration": 8,
    "start_time": "2023-05-06T11:36:33.155Z"
   },
   {
    "duration": 27,
    "start_time": "2023-05-06T11:36:33.165Z"
   },
   {
    "duration": 300,
    "start_time": "2023-05-06T11:36:33.194Z"
   },
   {
    "duration": 6,
    "start_time": "2023-05-06T11:36:33.498Z"
   },
   {
    "duration": 275,
    "start_time": "2023-05-06T11:36:33.506Z"
   },
   {
    "duration": 7,
    "start_time": "2023-05-06T11:36:33.789Z"
   },
   {
    "duration": 303,
    "start_time": "2023-05-06T11:36:33.798Z"
   },
   {
    "duration": 7,
    "start_time": "2023-05-06T11:36:34.103Z"
   },
   {
    "duration": 300,
    "start_time": "2023-05-06T11:36:34.112Z"
   },
   {
    "duration": 5,
    "start_time": "2023-05-06T11:36:34.414Z"
   },
   {
    "duration": 377,
    "start_time": "2023-05-06T11:36:34.421Z"
   },
   {
    "duration": 6,
    "start_time": "2023-05-06T11:36:34.800Z"
   },
   {
    "duration": 324,
    "start_time": "2023-05-06T11:36:34.809Z"
   },
   {
    "duration": 6,
    "start_time": "2023-05-06T11:36:35.135Z"
   },
   {
    "duration": 342,
    "start_time": "2023-05-06T11:36:35.142Z"
   },
   {
    "duration": 4,
    "start_time": "2023-05-06T11:36:35.489Z"
   },
   {
    "duration": 19,
    "start_time": "2023-05-06T11:36:35.494Z"
   },
   {
    "duration": 36,
    "start_time": "2023-05-06T11:36:35.515Z"
   },
   {
    "duration": 11,
    "start_time": "2023-05-06T11:36:35.553Z"
   },
   {
    "duration": 34,
    "start_time": "2023-05-06T11:36:35.566Z"
   },
   {
    "duration": 20,
    "start_time": "2023-05-06T11:36:35.602Z"
   },
   {
    "duration": 25,
    "start_time": "2023-05-06T11:36:35.624Z"
   },
   {
    "duration": 26,
    "start_time": "2023-05-06T11:36:35.650Z"
   },
   {
    "duration": 3015,
    "start_time": "2023-05-06T11:36:35.679Z"
   },
   {
    "duration": 86750,
    "start_time": "2023-05-06T11:36:38.790Z"
   },
   {
    "duration": 1851,
    "start_time": "2023-05-07T22:12:14.236Z"
   },
   {
    "duration": 3305,
    "start_time": "2023-05-07T22:12:16.089Z"
   },
   {
    "duration": 33,
    "start_time": "2023-05-07T22:12:19.396Z"
   },
   {
    "duration": 24,
    "start_time": "2023-05-07T22:12:19.433Z"
   },
   {
    "duration": 37,
    "start_time": "2023-05-07T22:12:19.459Z"
   },
   {
    "duration": 23,
    "start_time": "2023-05-07T22:12:19.498Z"
   },
   {
    "duration": 27,
    "start_time": "2023-05-07T22:12:19.524Z"
   },
   {
    "duration": 18,
    "start_time": "2023-05-07T22:12:19.553Z"
   },
   {
    "duration": 150,
    "start_time": "2023-05-07T22:12:19.572Z"
   },
   {
    "duration": 262,
    "start_time": "2023-05-07T22:12:19.725Z"
   },
   {
    "duration": 282,
    "start_time": "2023-05-07T22:12:19.988Z"
   },
   {
    "duration": 3,
    "start_time": "2023-05-07T22:12:20.272Z"
   },
   {
    "duration": 16,
    "start_time": "2023-05-07T22:12:20.276Z"
   },
   {
    "duration": 5,
    "start_time": "2023-05-07T22:12:20.293Z"
   },
   {
    "duration": 12,
    "start_time": "2023-05-07T22:12:20.300Z"
   },
   {
    "duration": 16,
    "start_time": "2023-05-07T22:12:20.318Z"
   },
   {
    "duration": 19,
    "start_time": "2023-05-07T22:12:20.336Z"
   },
   {
    "duration": 15,
    "start_time": "2023-05-07T22:12:20.356Z"
   },
   {
    "duration": 29,
    "start_time": "2023-05-07T22:12:20.373Z"
   },
   {
    "duration": 35,
    "start_time": "2023-05-07T22:12:20.403Z"
   },
   {
    "duration": 17,
    "start_time": "2023-05-07T22:12:20.440Z"
   },
   {
    "duration": 291,
    "start_time": "2023-05-07T22:12:20.459Z"
   },
   {
    "duration": 4,
    "start_time": "2023-05-07T22:12:20.752Z"
   },
   {
    "duration": 25,
    "start_time": "2023-05-07T22:12:20.757Z"
   },
   {
    "duration": 14,
    "start_time": "2023-05-07T22:12:20.783Z"
   },
   {
    "duration": 10,
    "start_time": "2023-05-07T22:12:20.799Z"
   },
   {
    "duration": 7,
    "start_time": "2023-05-07T22:12:20.811Z"
   },
   {
    "duration": 20,
    "start_time": "2023-05-07T22:12:20.822Z"
   },
   {
    "duration": 14,
    "start_time": "2023-05-07T22:12:20.844Z"
   },
   {
    "duration": 15,
    "start_time": "2023-05-07T22:12:20.860Z"
   },
   {
    "duration": 143,
    "start_time": "2023-05-07T22:12:20.877Z"
   },
   {
    "duration": 6,
    "start_time": "2023-05-07T22:12:21.022Z"
   },
   {
    "duration": 162,
    "start_time": "2023-05-07T22:12:21.030Z"
   },
   {
    "duration": 5,
    "start_time": "2023-05-07T22:12:21.193Z"
   },
   {
    "duration": 151,
    "start_time": "2023-05-07T22:12:21.200Z"
   },
   {
    "duration": 426,
    "start_time": "2023-05-07T22:12:21.352Z"
   },
   {
    "duration": 353,
    "start_time": "2023-05-07T22:15:26.155Z"
   },
   {
    "duration": 413,
    "start_time": "2023-05-07T22:18:03.679Z"
   },
   {
    "duration": 519,
    "start_time": "2023-05-07T22:20:58.143Z"
   },
   {
    "duration": 446,
    "start_time": "2023-05-07T22:21:05.374Z"
   },
   {
    "duration": 473,
    "start_time": "2023-05-07T22:21:21.585Z"
   },
   {
    "duration": 4,
    "start_time": "2023-05-07T22:23:50.793Z"
   },
   {
    "duration": 751,
    "start_time": "2023-05-07T22:23:50.799Z"
   },
   {
    "duration": 23,
    "start_time": "2023-05-07T22:23:51.552Z"
   },
   {
    "duration": 43,
    "start_time": "2023-05-07T22:23:51.578Z"
   },
   {
    "duration": 35,
    "start_time": "2023-05-07T22:23:51.623Z"
   },
   {
    "duration": 46,
    "start_time": "2023-05-07T22:23:51.659Z"
   },
   {
    "duration": 40,
    "start_time": "2023-05-07T22:23:51.707Z"
   },
   {
    "duration": 19,
    "start_time": "2023-05-07T22:23:51.749Z"
   },
   {
    "duration": 152,
    "start_time": "2023-05-07T22:23:51.770Z"
   },
   {
    "duration": 263,
    "start_time": "2023-05-07T22:23:51.924Z"
   },
   {
    "duration": 278,
    "start_time": "2023-05-07T22:23:52.189Z"
   },
   {
    "duration": 7,
    "start_time": "2023-05-07T22:23:52.470Z"
   },
   {
    "duration": 16,
    "start_time": "2023-05-07T22:23:52.479Z"
   },
   {
    "duration": 11,
    "start_time": "2023-05-07T22:23:52.497Z"
   },
   {
    "duration": 27,
    "start_time": "2023-05-07T22:23:52.510Z"
   },
   {
    "duration": 17,
    "start_time": "2023-05-07T22:23:52.542Z"
   },
   {
    "duration": 18,
    "start_time": "2023-05-07T22:23:52.561Z"
   },
   {
    "duration": 26,
    "start_time": "2023-05-07T22:23:52.580Z"
   },
   {
    "duration": 40,
    "start_time": "2023-05-07T22:23:52.608Z"
   },
   {
    "duration": 36,
    "start_time": "2023-05-07T22:23:52.650Z"
   },
   {
    "duration": 39,
    "start_time": "2023-05-07T22:23:52.689Z"
   },
   {
    "duration": 270,
    "start_time": "2023-05-07T22:23:52.740Z"
   },
   {
    "duration": 7,
    "start_time": "2023-05-07T22:23:53.012Z"
   },
   {
    "duration": 12,
    "start_time": "2023-05-07T22:23:53.024Z"
   },
   {
    "duration": 15,
    "start_time": "2023-05-07T22:23:53.039Z"
   },
   {
    "duration": 19,
    "start_time": "2023-05-07T22:23:53.056Z"
   },
   {
    "duration": 15,
    "start_time": "2023-05-07T22:23:53.077Z"
   },
   {
    "duration": 24,
    "start_time": "2023-05-07T22:23:53.094Z"
   },
   {
    "duration": 19,
    "start_time": "2023-05-07T22:23:53.120Z"
   },
   {
    "duration": 14,
    "start_time": "2023-05-07T22:23:53.141Z"
   },
   {
    "duration": 140,
    "start_time": "2023-05-07T22:23:53.157Z"
   },
   {
    "duration": 5,
    "start_time": "2023-05-07T22:23:53.298Z"
   },
   {
    "duration": 139,
    "start_time": "2023-05-07T22:23:53.318Z"
   },
   {
    "duration": 5,
    "start_time": "2023-05-07T22:23:53.459Z"
   },
   {
    "duration": 208,
    "start_time": "2023-05-07T22:23:53.466Z"
   },
   {
    "duration": 311,
    "start_time": "2023-05-07T22:23:53.676Z"
   },
   {
    "duration": 436,
    "start_time": "2023-05-07T22:23:53.988Z"
   },
   {
    "duration": 16,
    "start_time": "2023-05-07T22:23:54.425Z"
   },
   {
    "duration": 298,
    "start_time": "2023-05-07T22:23:54.443Z"
   },
   {
    "duration": 6,
    "start_time": "2023-05-07T22:23:54.742Z"
   },
   {
    "duration": 275,
    "start_time": "2023-05-07T22:23:54.750Z"
   },
   {
    "duration": 9,
    "start_time": "2023-05-07T22:23:55.027Z"
   },
   {
    "duration": 276,
    "start_time": "2023-05-07T22:23:55.038Z"
   },
   {
    "duration": 9,
    "start_time": "2023-05-07T22:23:55.316Z"
   },
   {
    "duration": 369,
    "start_time": "2023-05-07T22:23:55.327Z"
   },
   {
    "duration": 5,
    "start_time": "2023-05-07T22:23:55.698Z"
   },
   {
    "duration": 270,
    "start_time": "2023-05-07T22:23:55.704Z"
   },
   {
    "duration": 5,
    "start_time": "2023-05-07T22:23:55.975Z"
   },
   {
    "duration": 275,
    "start_time": "2023-05-07T22:23:55.981Z"
   },
   {
    "duration": 5,
    "start_time": "2023-05-07T22:23:56.258Z"
   },
   {
    "duration": 283,
    "start_time": "2023-05-07T22:23:56.265Z"
   },
   {
    "duration": 3,
    "start_time": "2023-05-07T22:23:56.550Z"
   },
   {
    "duration": 12,
    "start_time": "2023-05-07T22:23:56.555Z"
   },
   {
    "duration": 14,
    "start_time": "2023-05-07T22:24:07.308Z"
   },
   {
    "duration": 13,
    "start_time": "2023-05-07T22:24:22.100Z"
   },
   {
    "duration": 16,
    "start_time": "2023-05-07T22:24:51.121Z"
   },
   {
    "duration": 21,
    "start_time": "2023-05-07T22:25:05.402Z"
   },
   {
    "duration": 4,
    "start_time": "2023-05-07T22:25:17.717Z"
   },
   {
    "duration": 6,
    "start_time": "2023-05-07T22:25:19.778Z"
   },
   {
    "duration": 11,
    "start_time": "2023-05-07T22:25:20.928Z"
   },
   {
    "duration": 8,
    "start_time": "2023-05-07T22:25:22.896Z"
   },
   {
    "duration": 7,
    "start_time": "2023-05-07T22:25:24.317Z"
   },
   {
    "duration": 3736,
    "start_time": "2023-05-07T22:25:27.085Z"
   },
   {
    "duration": 4521,
    "start_time": "2023-05-07T22:25:43.698Z"
   },
   {
    "duration": 4804,
    "start_time": "2023-05-07T22:25:54.031Z"
   },
   {
    "duration": 3935,
    "start_time": "2023-05-07T22:26:08.299Z"
   },
   {
    "duration": 6166,
    "start_time": "2023-05-07T22:26:18.367Z"
   },
   {
    "duration": 87353,
    "start_time": "2023-05-07T22:26:31.630Z"
   },
   {
    "duration": 271103,
    "start_time": "2023-05-07T22:28:13.595Z"
   },
   {
    "duration": 3386,
    "start_time": "2023-05-07T22:33:13.134Z"
   },
   {
    "duration": 12,
    "start_time": "2023-05-07T22:33:23.751Z"
   }
  ],
  "kernelspec": {
   "display_name": "Python 3 (ipykernel)",
   "language": "python",
   "name": "python3"
  },
  "language_info": {
   "codemirror_mode": {
    "name": "ipython",
    "version": 3
   },
   "file_extension": ".py",
   "mimetype": "text/x-python",
   "name": "python",
   "nbconvert_exporter": "python",
   "pygments_lexer": "ipython3",
   "version": "3.9.18"
  },
  "toc": {
   "base_numbering": 1,
   "nav_menu": {},
   "number_sections": true,
   "sideBar": true,
   "skip_h1_title": true,
   "title_cell": "Содержание",
   "title_sidebar": "Contents",
   "toc_cell": true,
   "toc_position": {
    "height": "calc(100% - 180px)",
    "left": "10px",
    "top": "150px",
    "width": "165px"
   },
   "toc_section_display": true,
   "toc_window_display": true
  }
 },
 "nbformat": 4,
 "nbformat_minor": 2
}
