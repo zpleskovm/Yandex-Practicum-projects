{
 "cells": [
  {
   "cell_type": "markdown",
   "metadata": {},
   "source": [
    "# Рекомендация тарифов"
   ]
  },
  {
   "cell_type": "markdown",
   "metadata": {},
   "source": [
    "В вашем распоряжении данные о поведении клиентов, которые уже перешли на эти тарифы (из проекта курса «Статистический анализ данных»). Нужно построить модель для задачи классификации, которая выберет подходящий тариф. Предобработка данных не понадобится — вы её уже сделали.\n",
    "\n",
    "Постройте модель с максимально большим значением *accuracy*. Чтобы сдать проект успешно, нужно довести долю правильных ответов по крайней мере до 0.75. Проверьте *accuracy* на тестовой выборке самостоятельно."
   ]
  },
  {
   "cell_type": "markdown",
   "metadata": {},
   "source": [
    "**Описание данных** \n",
    "\n",
    "Каждый объект в наборе данных — это информация о поведении одного пользователя за месяц. Известно:\n",
    "* сalls — количество звонков,\n",
    "* minutes — суммарная длительность звонков в минутах,\n",
    "* messages — количество sms-сообщений,\n",
    "* mb_used — израсходованный интернет-трафик в Мб,\n",
    "* is_ultra — каким тарифом пользовался в течение месяца («Ультра» — 1, «Смарт» — 0)."
   ]
  },
  {
   "cell_type": "markdown",
   "metadata": {},
   "source": [
    "## Открываем и изучаем файл"
   ]
  },
  {
   "cell_type": "code",
   "execution_count": 1,
   "metadata": {},
   "outputs": [],
   "source": [
    "# импорт библиотек\n",
    "import pandas as pd\n",
    "from sklearn.tree import DecisionTreeClassifier\n",
    "from sklearn.ensemble import RandomForestClassifier\n",
    "from sklearn.linear_model import LogisticRegression\n",
    "from sklearn.model_selection import train_test_split\n",
    "from sklearn.dummy import DummyClassifier\n",
    "\n",
    "import matplotlib.pyplot as plt\n",
    "import numpy as np\n",
    "\n",
    "#импортируем tqdm\n",
    "from tqdm import tqdm"
   ]
  },
  {
   "cell_type": "code",
   "execution_count": 2,
   "metadata": {
    "scrolled": true
   },
   "outputs": [
    {
     "data": {
      "text/html": [
       "<div>\n",
       "<style scoped>\n",
       "    .dataframe tbody tr th:only-of-type {\n",
       "        vertical-align: middle;\n",
       "    }\n",
       "\n",
       "    .dataframe tbody tr th {\n",
       "        vertical-align: top;\n",
       "    }\n",
       "\n",
       "    .dataframe thead th {\n",
       "        text-align: right;\n",
       "    }\n",
       "</style>\n",
       "<table border=\"1\" class=\"dataframe\">\n",
       "  <thead>\n",
       "    <tr style=\"text-align: right;\">\n",
       "      <th></th>\n",
       "      <th>calls</th>\n",
       "      <th>minutes</th>\n",
       "      <th>messages</th>\n",
       "      <th>mb_used</th>\n",
       "      <th>is_ultra</th>\n",
       "    </tr>\n",
       "  </thead>\n",
       "  <tbody>\n",
       "    <tr>\n",
       "      <th>0</th>\n",
       "      <td>40.0</td>\n",
       "      <td>311.90</td>\n",
       "      <td>83.0</td>\n",
       "      <td>19915.42</td>\n",
       "      <td>0</td>\n",
       "    </tr>\n",
       "    <tr>\n",
       "      <th>1</th>\n",
       "      <td>85.0</td>\n",
       "      <td>516.75</td>\n",
       "      <td>56.0</td>\n",
       "      <td>22696.96</td>\n",
       "      <td>0</td>\n",
       "    </tr>\n",
       "    <tr>\n",
       "      <th>2</th>\n",
       "      <td>77.0</td>\n",
       "      <td>467.66</td>\n",
       "      <td>86.0</td>\n",
       "      <td>21060.45</td>\n",
       "      <td>0</td>\n",
       "    </tr>\n",
       "    <tr>\n",
       "      <th>3</th>\n",
       "      <td>106.0</td>\n",
       "      <td>745.53</td>\n",
       "      <td>81.0</td>\n",
       "      <td>8437.39</td>\n",
       "      <td>1</td>\n",
       "    </tr>\n",
       "    <tr>\n",
       "      <th>4</th>\n",
       "      <td>66.0</td>\n",
       "      <td>418.74</td>\n",
       "      <td>1.0</td>\n",
       "      <td>14502.75</td>\n",
       "      <td>0</td>\n",
       "    </tr>\n",
       "    <tr>\n",
       "      <th>5</th>\n",
       "      <td>58.0</td>\n",
       "      <td>344.56</td>\n",
       "      <td>21.0</td>\n",
       "      <td>15823.37</td>\n",
       "      <td>0</td>\n",
       "    </tr>\n",
       "    <tr>\n",
       "      <th>6</th>\n",
       "      <td>57.0</td>\n",
       "      <td>431.64</td>\n",
       "      <td>20.0</td>\n",
       "      <td>3738.90</td>\n",
       "      <td>1</td>\n",
       "    </tr>\n",
       "    <tr>\n",
       "      <th>7</th>\n",
       "      <td>15.0</td>\n",
       "      <td>132.40</td>\n",
       "      <td>6.0</td>\n",
       "      <td>21911.60</td>\n",
       "      <td>0</td>\n",
       "    </tr>\n",
       "    <tr>\n",
       "      <th>8</th>\n",
       "      <td>7.0</td>\n",
       "      <td>43.39</td>\n",
       "      <td>3.0</td>\n",
       "      <td>2538.67</td>\n",
       "      <td>1</td>\n",
       "    </tr>\n",
       "    <tr>\n",
       "      <th>9</th>\n",
       "      <td>90.0</td>\n",
       "      <td>665.41</td>\n",
       "      <td>38.0</td>\n",
       "      <td>17358.61</td>\n",
       "      <td>0</td>\n",
       "    </tr>\n",
       "  </tbody>\n",
       "</table>\n",
       "</div>"
      ],
      "text/plain": [
       "   calls  minutes  messages   mb_used  is_ultra\n",
       "0   40.0   311.90      83.0  19915.42         0\n",
       "1   85.0   516.75      56.0  22696.96         0\n",
       "2   77.0   467.66      86.0  21060.45         0\n",
       "3  106.0   745.53      81.0   8437.39         1\n",
       "4   66.0   418.74       1.0  14502.75         0\n",
       "5   58.0   344.56      21.0  15823.37         0\n",
       "6   57.0   431.64      20.0   3738.90         1\n",
       "7   15.0   132.40       6.0  21911.60         0\n",
       "8    7.0    43.39       3.0   2538.67         1\n",
       "9   90.0   665.41      38.0  17358.61         0"
      ]
     },
     "execution_count": 2,
     "metadata": {},
     "output_type": "execute_result"
    }
   ],
   "source": [
    "#откроем файл\n",
    "df = pd.read_csv('/datasets/users_behavior.csv')\n",
    "df.head(10)"
   ]
  },
  {
   "cell_type": "code",
   "execution_count": 3,
   "metadata": {},
   "outputs": [
    {
     "name": "stdout",
     "output_type": "stream",
     "text": [
      "<class 'pandas.core.frame.DataFrame'>\n",
      "RangeIndex: 3214 entries, 0 to 3213\n",
      "Data columns (total 5 columns):\n",
      " #   Column    Non-Null Count  Dtype  \n",
      "---  ------    --------------  -----  \n",
      " 0   calls     3214 non-null   float64\n",
      " 1   minutes   3214 non-null   float64\n",
      " 2   messages  3214 non-null   float64\n",
      " 3   mb_used   3214 non-null   float64\n",
      " 4   is_ultra  3214 non-null   int64  \n",
      "dtypes: float64(4), int64(1)\n",
      "memory usage: 125.7 KB\n"
     ]
    }
   ],
   "source": [
    "#общая информация о данных\n",
    "df.info()"
   ]
  },
  {
   "cell_type": "code",
   "execution_count": 4,
   "metadata": {},
   "outputs": [
    {
     "data": {
      "text/plain": [
       "calls       0\n",
       "minutes     0\n",
       "messages    0\n",
       "mb_used     0\n",
       "is_ultra    0\n",
       "dtype: int64"
      ]
     },
     "execution_count": 4,
     "metadata": {},
     "output_type": "execute_result"
    }
   ],
   "source": [
    "#проверим данные на пропуски\n",
    "df.isnull().sum()"
   ]
  },
  {
   "cell_type": "code",
   "execution_count": 5,
   "metadata": {},
   "outputs": [
    {
     "data": {
      "text/plain": [
       "0"
      ]
     },
     "execution_count": 5,
     "metadata": {},
     "output_type": "execute_result"
    }
   ],
   "source": [
    "#проверим данные на дубликаты\n",
    "df.duplicated().sum()"
   ]
  },
  {
   "cell_type": "code",
   "execution_count": 6,
   "metadata": {},
   "outputs": [
    {
     "data": {
      "text/html": [
       "<div>\n",
       "<style scoped>\n",
       "    .dataframe tbody tr th:only-of-type {\n",
       "        vertical-align: middle;\n",
       "    }\n",
       "\n",
       "    .dataframe tbody tr th {\n",
       "        vertical-align: top;\n",
       "    }\n",
       "\n",
       "    .dataframe thead th {\n",
       "        text-align: right;\n",
       "    }\n",
       "</style>\n",
       "<table border=\"1\" class=\"dataframe\">\n",
       "  <thead>\n",
       "    <tr style=\"text-align: right;\">\n",
       "      <th></th>\n",
       "      <th>calls</th>\n",
       "      <th>minutes</th>\n",
       "      <th>messages</th>\n",
       "      <th>mb_used</th>\n",
       "      <th>is_ultra</th>\n",
       "    </tr>\n",
       "  </thead>\n",
       "  <tbody>\n",
       "    <tr>\n",
       "      <th>count</th>\n",
       "      <td>3214.000000</td>\n",
       "      <td>3214.000000</td>\n",
       "      <td>3214.000000</td>\n",
       "      <td>3214.000000</td>\n",
       "      <td>3214.000000</td>\n",
       "    </tr>\n",
       "    <tr>\n",
       "      <th>mean</th>\n",
       "      <td>63.038892</td>\n",
       "      <td>438.208787</td>\n",
       "      <td>38.281269</td>\n",
       "      <td>17207.673836</td>\n",
       "      <td>0.306472</td>\n",
       "    </tr>\n",
       "    <tr>\n",
       "      <th>std</th>\n",
       "      <td>33.236368</td>\n",
       "      <td>234.569872</td>\n",
       "      <td>36.148326</td>\n",
       "      <td>7570.968246</td>\n",
       "      <td>0.461100</td>\n",
       "    </tr>\n",
       "    <tr>\n",
       "      <th>min</th>\n",
       "      <td>0.000000</td>\n",
       "      <td>0.000000</td>\n",
       "      <td>0.000000</td>\n",
       "      <td>0.000000</td>\n",
       "      <td>0.000000</td>\n",
       "    </tr>\n",
       "    <tr>\n",
       "      <th>25%</th>\n",
       "      <td>40.000000</td>\n",
       "      <td>274.575000</td>\n",
       "      <td>9.000000</td>\n",
       "      <td>12491.902500</td>\n",
       "      <td>0.000000</td>\n",
       "    </tr>\n",
       "    <tr>\n",
       "      <th>50%</th>\n",
       "      <td>62.000000</td>\n",
       "      <td>430.600000</td>\n",
       "      <td>30.000000</td>\n",
       "      <td>16943.235000</td>\n",
       "      <td>0.000000</td>\n",
       "    </tr>\n",
       "    <tr>\n",
       "      <th>75%</th>\n",
       "      <td>82.000000</td>\n",
       "      <td>571.927500</td>\n",
       "      <td>57.000000</td>\n",
       "      <td>21424.700000</td>\n",
       "      <td>1.000000</td>\n",
       "    </tr>\n",
       "    <tr>\n",
       "      <th>max</th>\n",
       "      <td>244.000000</td>\n",
       "      <td>1632.060000</td>\n",
       "      <td>224.000000</td>\n",
       "      <td>49745.730000</td>\n",
       "      <td>1.000000</td>\n",
       "    </tr>\n",
       "  </tbody>\n",
       "</table>\n",
       "</div>"
      ],
      "text/plain": [
       "             calls      minutes     messages       mb_used     is_ultra\n",
       "count  3214.000000  3214.000000  3214.000000   3214.000000  3214.000000\n",
       "mean     63.038892   438.208787    38.281269  17207.673836     0.306472\n",
       "std      33.236368   234.569872    36.148326   7570.968246     0.461100\n",
       "min       0.000000     0.000000     0.000000      0.000000     0.000000\n",
       "25%      40.000000   274.575000     9.000000  12491.902500     0.000000\n",
       "50%      62.000000   430.600000    30.000000  16943.235000     0.000000\n",
       "75%      82.000000   571.927500    57.000000  21424.700000     1.000000\n",
       "max     244.000000  1632.060000   224.000000  49745.730000     1.000000"
      ]
     },
     "execution_count": 6,
     "metadata": {},
     "output_type": "execute_result"
    }
   ],
   "source": [
    "df.describe()"
   ]
  },
  {
   "cell_type": "code",
   "execution_count": 7,
   "metadata": {},
   "outputs": [
    {
     "data": {
      "text/plain": [
       "0    2229\n",
       "1     985\n",
       "Name: is_ultra, dtype: int64"
      ]
     },
     "execution_count": 7,
     "metadata": {},
     "output_type": "execute_result"
    }
   ],
   "source": [
    "#посмотрим на сбалансированность столбца is_ultra (наш target)\n",
    "df['is_ultra'].value_counts()"
   ]
  },
  {
   "cell_type": "markdown",
   "metadata": {},
   "source": [
    "_Действительно, наши данные несбалансированы в сторону 0 примерно в 2.3 раза._"
   ]
  },
  {
   "cell_type": "code",
   "execution_count": 8,
   "metadata": {},
   "outputs": [
    {
     "data": {
      "text/html": [
       "<div>\n",
       "<style scoped>\n",
       "    .dataframe tbody tr th:only-of-type {\n",
       "        vertical-align: middle;\n",
       "    }\n",
       "\n",
       "    .dataframe tbody tr th {\n",
       "        vertical-align: top;\n",
       "    }\n",
       "\n",
       "    .dataframe thead th {\n",
       "        text-align: right;\n",
       "    }\n",
       "</style>\n",
       "<table border=\"1\" class=\"dataframe\">\n",
       "  <thead>\n",
       "    <tr style=\"text-align: right;\">\n",
       "      <th></th>\n",
       "      <th>calls</th>\n",
       "      <th>minutes</th>\n",
       "      <th>messages</th>\n",
       "      <th>mb_used</th>\n",
       "      <th>is_ultra</th>\n",
       "    </tr>\n",
       "  </thead>\n",
       "  <tbody>\n",
       "    <tr>\n",
       "      <th>calls</th>\n",
       "      <td>1.000000</td>\n",
       "      <td>0.982083</td>\n",
       "      <td>0.177385</td>\n",
       "      <td>0.286442</td>\n",
       "      <td>0.207122</td>\n",
       "    </tr>\n",
       "    <tr>\n",
       "      <th>minutes</th>\n",
       "      <td>0.982083</td>\n",
       "      <td>1.000000</td>\n",
       "      <td>0.173110</td>\n",
       "      <td>0.280967</td>\n",
       "      <td>0.206955</td>\n",
       "    </tr>\n",
       "    <tr>\n",
       "      <th>messages</th>\n",
       "      <td>0.177385</td>\n",
       "      <td>0.173110</td>\n",
       "      <td>1.000000</td>\n",
       "      <td>0.195721</td>\n",
       "      <td>0.203830</td>\n",
       "    </tr>\n",
       "    <tr>\n",
       "      <th>mb_used</th>\n",
       "      <td>0.286442</td>\n",
       "      <td>0.280967</td>\n",
       "      <td>0.195721</td>\n",
       "      <td>1.000000</td>\n",
       "      <td>0.198568</td>\n",
       "    </tr>\n",
       "    <tr>\n",
       "      <th>is_ultra</th>\n",
       "      <td>0.207122</td>\n",
       "      <td>0.206955</td>\n",
       "      <td>0.203830</td>\n",
       "      <td>0.198568</td>\n",
       "      <td>1.000000</td>\n",
       "    </tr>\n",
       "  </tbody>\n",
       "</table>\n",
       "</div>"
      ],
      "text/plain": [
       "             calls   minutes  messages   mb_used  is_ultra\n",
       "calls     1.000000  0.982083  0.177385  0.286442  0.207122\n",
       "minutes   0.982083  1.000000  0.173110  0.280967  0.206955\n",
       "messages  0.177385  0.173110  1.000000  0.195721  0.203830\n",
       "mb_used   0.286442  0.280967  0.195721  1.000000  0.198568\n",
       "is_ultra  0.207122  0.206955  0.203830  0.198568  1.000000"
      ]
     },
     "execution_count": 8,
     "metadata": {},
     "output_type": "execute_result"
    }
   ],
   "source": [
    "#посмотрим корреляцию признаков\n",
    "df.corr()"
   ]
  },
  {
   "cell_type": "markdown",
   "metadata": {},
   "source": [
    "## Разобьём данные на выборки"
   ]
  },
  {
   "cell_type": "markdown",
   "metadata": {},
   "source": [
    "Выборки:\n",
    "1. тренировочная: features_train, target_train\n",
    "2. валидационная: features_valid, target_train\n",
    "3. тестовая: features_test, target_train"
   ]
  },
  {
   "cell_type": "code",
   "execution_count": 9,
   "metadata": {},
   "outputs": [],
   "source": [
    "#разобьём данные на 2 выборки: тренировочную (60%) и тестово-валидационную (40%)\n",
    "train, test_valid = train_test_split(df, test_size=0.4, random_state=12345, stratify=df['is_ultra'])"
   ]
  },
  {
   "cell_type": "code",
   "execution_count": 10,
   "metadata": {},
   "outputs": [],
   "source": [
    "features_train = train.drop('is_ultra', axis=1)\n",
    "target_train = train['is_ultra']"
   ]
  },
  {
   "cell_type": "code",
   "execution_count": 11,
   "metadata": {},
   "outputs": [],
   "source": [
    "features_test_valid = test_valid.drop('is_ultra', axis=1)\n",
    "target_test_valid = test_valid['is_ultra']"
   ]
  },
  {
   "cell_type": "code",
   "execution_count": 12,
   "metadata": {},
   "outputs": [],
   "source": [
    "#теперь разобьём на валидационную (20%) и тестовую (20%) выборки \n",
    "features_valid, features_test, target_valid, target_test = train_test_split(\n",
    "                features_test_valid, target_test_valid, test_size=0.5,\n",
    "                random_state=12345, stratify=target_test_valid)"
   ]
  },
  {
   "cell_type": "markdown",
   "metadata": {},
   "source": [
    "## Исследование модели"
   ]
  },
  {
   "cell_type": "markdown",
   "metadata": {},
   "source": [
    "**Tree Classifier**"
   ]
  },
  {
   "cell_type": "markdown",
   "metadata": {},
   "source": [
    "Рассмотрим влияние параметров criterion, max_depth, max_features и splitter на качество модели. **Criterion** - гиперпараметр, который используется для определения качества разбиения на части. **Max_depth** - максимальная глубина дерева. **Max_features** - максимальное количество признаков, учитывающиеся при разбиении. **Splitter** - гиперпараметр, который определяет стратегию, используемую для выбора разбиения в каждом узле."
   ]
  },
  {
   "cell_type": "code",
   "execution_count": 17,
   "metadata": {
    "scrolled": true
   },
   "outputs": [
    {
     "name": "stdout",
     "output_type": "stream",
     "text": [
      "Качество наилучшей модели: 0.8087091757387247.\n",
      "Значение глубины: 7.\n",
      "Значение параметра max_features: auto. \n",
      "Значение параеметра splitter: best. \n"
     ]
    }
   ],
   "source": [
    "best_depth = 0\n",
    "best_accuracy = 0\n",
    "best_feature = ''\n",
    "best_splitter = 0\n",
    "best_criterion = ''\n",
    "\n",
    "splitter_value = ['best', 'random']\n",
    "maxfeatures_value = ['auto', 'sqrt', 'log2', 0.2, 0.4, 0.6, 0.8, 1]\n",
    "\n",
    "\n",
    "for depth in range(1, 51):\n",
    "    for feature in maxfeatures_value:\n",
    "        for split in splitter_value:\n",
    "            model_tree_classifier = DecisionTreeClassifier(criterion = 'entropy', max_depth=depth, \n",
    "                                               min_samples_leaf=1, min_samples_split=5,\n",
    "                                               max_features=feature, splitter=split)\n",
    "            model_tree_classifier.fit(features_train, target_train)\n",
    "            accuracy_train = model_tree_classifier.score(features_train, target_train)\n",
    "            \n",
    "            predictions_valid = model_tree_classifier.predict(features_valid)\n",
    "            accuracy_valid = model_tree_classifier.score(features_valid, target_valid)\n",
    "    \n",
    "            if accuracy_valid > best_accuracy:\n",
    "                best_model_tree = model_tree_classifier\n",
    "                best_accuracy = accuracy_valid\n",
    "                best_depth = depth\n",
    "                best_feature = feature\n",
    "                best_splitter = split\n",
    "        \n",
    "print('Качество наилучшей модели: {}.\\nЗначение глубины: {}.\\nЗначение параметра max_features: {}. \\nЗначение параеметра splitter: {}. '\n",
    "      .format(best_accuracy, best_depth, best_feature, best_splitter))"
   ]
  },
  {
   "cell_type": "code",
   "execution_count": 14,
   "metadata": {},
   "outputs": [],
   "source": [
    "acc_train = []\n",
    "acc_valid = []\n",
    "\n",
    "for depth in range(1, 51):\n",
    "    model_tree_classifier = DecisionTreeClassifier(criterion = 'entropy', max_depth=depth, \n",
    "                                               min_samples_leaf=1, min_samples_split=5,\n",
    "                                               max_features=0.6, splitter='random')\n",
    "    model_tree_classifier.fit(features_train, target_train)\n",
    "    accuracy_train = model_tree_classifier.score(features_train, target_train)\n",
    "    acc_train.append(accuracy_train)\n",
    "    predictions_valid = model_tree_classifier.predict(features_valid)\n",
    "    accuracy_valid = model_tree_classifier.score(features_valid, target_valid)\n",
    "    acc_valid.append(accuracy_valid)"
   ]
  },
  {
   "cell_type": "markdown",
   "metadata": {},
   "source": [
    "Качество наилучшей модели: 0.81, также было посчитано значение метрики rmse на валидационной выборке. А наилучшие значения параметров - это максимальная глубина = 11, max_features - 'auto, стратегия для разбиения в каждом узле - random."
   ]
  },
  {
   "cell_type": "markdown",
   "metadata": {},
   "source": [
    "_Убрала перебор по criterion, поставила значение как у лучшей модели._"
   ]
  },
  {
   "cell_type": "code",
   "execution_count": 15,
   "metadata": {
    "scrolled": true
   },
   "outputs": [
    {
     "data": {
      "image/png": "[encoded data removed]",
      "text/plain": [
       "<Figure size 1080x576 with 1 Axes>"
      ]
     },
     "metadata": {
      "needs_background": "light"
     },
     "output_type": "display_data"
    }
   ],
   "source": [
    "plt.figure(figsize=(15, 8))\n",
    "plt.title('Зависимость точности модели от глубины дерева')\n",
    "plt.xlabel('Максимальная глубина дерева')\n",
    "plt.ylabel('Точность модели')\n",
    "plt.xticks(np.arange(0, 51, 1))\n",
    "\n",
    "x = list(range(1, 51, 1))\n",
    "plt.plot(x, acc_train, 'o-r', label='Точность на train датасете')\n",
    "plt.plot(x, acc_valid, 'o-.g', label='Точность на validation датасете')\n",
    "plt.legend();"
   ]
  },
  {
   "cell_type": "code",
   "execution_count": 20,
   "metadata": {
    "scrolled": false
   },
   "outputs": [
    {
     "data": {
      "image/png": "[encoded data removed]",
      "text/plain": [
       "<Figure size 2520x1440 with 1 Axes>"
      ]
     },
     "metadata": {
      "needs_background": "light"
     },
     "output_type": "display_data"
    }
   ],
   "source": [
    "#построим дерево\n",
    "from sklearn import tree\n",
    "\n",
    "import matplotlib.pyplot as plt\n",
    "fig = plt.figure(figsize=(35,20))\n",
    "_ = tree.plot_tree(best_model_tree, \n",
    "               feature_names=features_train.columns.values, \n",
    "               class_names=['Smart','Ultra'],\n",
    "               filled=True,\n",
    "               fontsize = 15,\n",
    "               max_depth = 3     # Это чтобы прорисовывало 3 уровня, не глубже\n",
    "                  )"
   ]
  },
  {
   "cell_type": "markdown",
   "metadata": {},
   "source": [
    "**Random Forest**"
   ]
  },
  {
   "cell_type": "markdown",
   "metadata": {},
   "source": [
    "Рассмотрим влияние параметров criterion, n_estimators, max_depth, max_features и bootstrap на качество модели. \n",
    "**Criterion** - гиперпараметр, который используется для определения качества разбиения на части. \n",
    "**N_estimators** - количество деревьев, использовавшихся в обучении модели.\n",
    "**Max_depth** - максимальная глубина дерева. \n",
    "**Max_features** - максимальное количество признаков, учитывающиеся при разбиении. \n",
    "**Bootstrap** - гиперпараметр, который определяет, производится ли случайная выборка из данных для построения деревьев. "
   ]
  },
  {
   "cell_type": "code",
   "execution_count": 21,
   "metadata": {
    "scrolled": true
   },
   "outputs": [
    {
     "name": "stderr",
     "output_type": "stream",
     "text": [
      "100%|██████████| 5/5 [03:14<00:00, 38.91s/it]"
     ]
    },
    {
     "name": "stdout",
     "output_type": "stream",
     "text": [
      "Качество наилучшей модели: 0.8289269051321928.\n",
      "Количество деревьев:20.\n",
      "Значение глубины: 9.\n",
      "Значение параметра criterion_value: entropy. \n",
      "Значение параметра max_features: 0.2. \n",
      "Значение параметра bootstrap: True. \n"
     ]
    },
    {
     "name": "stderr",
     "output_type": "stream",
     "text": [
      "\n"
     ]
    }
   ],
   "source": [
    "best_depth = 0\n",
    "best_accuracy = 0\n",
    "best_feature = ''\n",
    "best_splitter = 0\n",
    "best_criterion = ''\n",
    "best_strap = ''\n",
    "best_est = 0\n",
    "\n",
    "criterion_value = ['gini', 'entropy']\n",
    "maxfeatures_value = ['auto', 'sqrt', 'log2', 0.2, 0.4, 0.6, 0.8, 1]\n",
    "\n",
    "\n",
    "for n_est in tqdm(range(5, 26, 5)):\n",
    "    for depth in range(1, 21):\n",
    "        for boot in [True, False]:\n",
    "            for cri in criterion_value:\n",
    "                for feature in maxfeatures_value:\n",
    "                    model_random_forest = RandomForestClassifier(\n",
    "                    n_estimators=n_est, criterion=cri, max_depth=depth,\n",
    "                    min_samples_split=5, min_samples_leaf=1, max_features=feature,\n",
    "                    bootstrap=boot)\n",
    "                    \n",
    "                    model_random_forest.fit(features_train, target_train)\n",
    "                    accuracy = model_random_forest.score(features_valid, target_valid)\n",
    "                    \n",
    "                    if accuracy > best_accuracy:\n",
    "                        best_model_random = model_random_forest\n",
    "                        best_accuracy = accuracy\n",
    "                        best_n_est = n_est\n",
    "                        best_depth = depth\n",
    "                        best_feature = feature\n",
    "                        best_criterion = cri\n",
    "                        best_bootstrap = boot\n",
    "                        \n",
    "print('Качество наилучшей модели: {}.\\nКоличество деревьев:{}.\\nЗначение глубины: {}.\\nЗначение параметра criterion_value: {}. \\nЗначение параметра max_features: {}. \\nЗначение параметра bootstrap: {}. '\n",
    "      .format(best_accuracy, best_n_est, best_depth, best_criterion, best_feature, best_bootstrap))                        "
   ]
  },
  {
   "cell_type": "markdown",
   "metadata": {},
   "source": [
    "Качество наилучшей модели: 0.83. Оптимальное количество деревьев - это 20. А наилучшие значения параметров - это максимальная глубина = 9, criterion_value: entropy. Значение параметра max_features = 0.2. Также нужно отметить, что при построении деревьев случайная выборка производилась."
   ]
  },
  {
   "cell_type": "markdown",
   "metadata": {},
   "source": [
    "_Добавила tqdm_"
   ]
  },
  {
   "cell_type": "markdown",
   "metadata": {},
   "source": [
    "**Logistic Regression**"
   ]
  },
  {
   "cell_type": "markdown",
   "metadata": {},
   "source": [
    "На качество модели в основном меняют 2 параметра C и penalty, осуществим перебор по ним.\n",
    "\n",
    "* penalty указывает на норму 'l1' или 'l2'\n",
    "* C - обратная сила регуляризации, положительное число"
   ]
  },
  {
   "cell_type": "code",
   "execution_count": 23,
   "metadata": {},
   "outputs": [
    {
     "name": "stdout",
     "output_type": "stream",
     "text": [
      "Качество наилучшей модели: 0.7402799377916018.\n",
      "Значение penalty: l1. \n",
      "Значение С: 3.\n"
     ]
    }
   ],
   "source": [
    "best_penalty = ' '\n",
    "best_accuracy = 0\n",
    "\n",
    "penalty_values = ['l1', 'l2']\n",
    "for pen in penalty_values:\n",
    "    for c_const in range(1, 21):\n",
    "        model_log_reg = LogisticRegression(penalty=pen, C=c_const, solver='liblinear', multi_class = 'ovr')\n",
    "        model_log_reg.fit(features_train, target_train)\n",
    "        predictions_valid = model_log_reg.predict(features_valid)\n",
    "        \n",
    "        accuracy = model_log_reg.score(features_valid, target_valid)\n",
    "        \n",
    "        if accuracy > best_accuracy:\n",
    "            best_model_regression = model_log_reg\n",
    "            best_accuracy = accuracy\n",
    "            best_penalty = pen\n",
    "            best_c = c_const\n",
    "\n",
    "print('Качество наилучшей модели: {}.\\nЗначение penalty: {}. \\nЗначение С: {}.'\n",
    "      .format(best_accuracy, best_penalty, best_c))"
   ]
  },
  {
   "cell_type": "markdown",
   "metadata": {},
   "source": [
    "Качество наилучшей модели: 0.74, также было посчитано значение метрики rmse на валидационной выборке. А наилучшие значения параметров - это С = 3, а норма, по которой начисляется штраф, - это норма 'l1'. "
   ]
  },
  {
   "cell_type": "markdown",
   "metadata": {},
   "source": [
    "## Проверка модели на тестовой выборке"
   ]
  },
  {
   "cell_type": "markdown",
   "metadata": {},
   "source": [
    "**Random Forest**"
   ]
  },
  {
   "cell_type": "code",
   "execution_count": 24,
   "metadata": {},
   "outputs": [
    {
     "name": "stdout",
     "output_type": "stream",
     "text": [
      "Квчество модели model_tree_classifier равно 0.8242612752721618\n"
     ]
    }
   ],
   "source": [
    "#проверим качество модели model_random_forest\n",
    "accuracy_mrf = best_model_random.score(features_test, target_test)\n",
    "print('Квчество модели model_tree_classifier равно {}'.format(accuracy_mrf))"
   ]
  },
  {
   "cell_type": "markdown",
   "metadata": {},
   "source": [
    "Наилучшее качество достигается при использовании Random forest и равно 0.82. \n",
    "\n",
    "Гиперпараметры модели с наилучшим качеством таковы:\n",
    "* Количество деревьев: 20.\n",
    "* Значение глубины: 13.\n",
    "* Значение параметра criterion_value: gini. \n",
    "* Значение параметра max_features: 0.2. \n",
    "* Значение параеметра bootstrap: True. "
   ]
  },
  {
   "cell_type": "markdown",
   "metadata": {},
   "source": [
    "## Проверка модели на адекватность"
   ]
  },
  {
   "cell_type": "markdown",
   "metadata": {},
   "source": [
    "В качестве простейшей модели возьмём Dummy Classifier c стратегией most_frequent, то есть наиболее часто встречающуюся метку в наборе. В нашем случае это будет 0."
   ]
  },
  {
   "cell_type": "code",
   "execution_count": 52,
   "metadata": {},
   "outputs": [
    {
     "name": "stdout",
     "output_type": "stream",
     "text": [
      "Наша модель адекватна.\n",
      "Качество наивного прогноза: 0.6936236391912908\n",
      "Качество лучшей модели: 0.8242612752721618.\n"
     ]
    }
   ],
   "source": [
    "model_dummy = DummyClassifier(strategy='most_frequent')\n",
    "model_dummy.fit(features_train, target_train)\n",
    "accuracy_dummy = model_dummy.score(features_test, target_test)\n",
    "if accuracy_dummy > accuracy_mrf:\n",
    "    print('Наша модель неадекватна.\\nКачество наивного прогноза: {}\\nКачество лучшей модели: {}.'\n",
    "         .format(accuracy_dummy, accuracy_mrf))\n",
    "else:\n",
    "    print('Наша модель адекватна.\\nКачество наивного прогноза: {}\\nКачество лучшей модели: {}.'\n",
    "         .format(accuracy_dummy, accuracy_mrf))"
   ]
  },
  {
   "cell_type": "markdown",
   "metadata": {},
   "source": [
    "## Вывод"
   ]
  },
  {
   "cell_type": "markdown",
   "metadata": {},
   "source": [
    "В ходе наших исследований был проведён анализ трёх моделей: дерево решений, случайный лес и логистическая регрессия. Наилучшее качество на обучающем наборе данных достигается при использовании модели случайный лес (0.81). На тесте качество модели несколько снизилось (0.78), но по-прежнему это лучший результат среди всех моделей. \n",
    "\n",
    "Наилучшие гиперпараметры, которые использовались при обучении модели random forest представлены ниже:\n",
    "* Количество деревьев: 10.\n",
    "* Значение глубины: 8.\n",
    "* Значение параметра criterion_value: entropy. \n",
    "* Значение параметра max_features: 0.4. \n",
    "* Значение параеметра bootstrap: True. "
   ]
  }
 ],
 "metadata": {
  "ExecuteTimeLog": [
   {
    "duration": 1210,
    "start_time": "2023-03-21T10:09:03.579Z"
   },
   {
    "duration": 147,
    "start_time": "2023-03-21T10:10:03.033Z"
   },
   {
    "duration": 17,
    "start_time": "2023-03-21T10:11:28.791Z"
   },
   {
    "duration": 106,
    "start_time": "2023-03-21T10:15:32.239Z"
   },
   {
    "duration": 8,
    "start_time": "2023-03-21T10:15:44.660Z"
   },
   {
    "duration": 31,
    "start_time": "2023-03-21T10:15:57.739Z"
   },
   {
    "duration": 29,
    "start_time": "2023-03-21T10:16:35.782Z"
   },
   {
    "duration": 13,
    "start_time": "2023-03-21T10:17:07.095Z"
   },
   {
    "duration": 4,
    "start_time": "2023-03-21T10:26:07.732Z"
   },
   {
    "duration": 16,
    "start_time": "2023-03-21T10:37:16.353Z"
   },
   {
    "duration": 4,
    "start_time": "2023-03-21T10:37:25.562Z"
   },
   {
    "duration": 15,
    "start_time": "2023-03-21T10:37:48.122Z"
   },
   {
    "duration": 6,
    "start_time": "2023-03-21T10:39:14.514Z"
   },
   {
    "duration": 12,
    "start_time": "2023-03-21T10:39:18.443Z"
   },
   {
    "duration": 14,
    "start_time": "2023-03-21T10:41:42.524Z"
   },
   {
    "duration": 9,
    "start_time": "2023-03-21T10:42:01.234Z"
   },
   {
    "duration": 10,
    "start_time": "2023-03-21T10:42:06.616Z"
   },
   {
    "duration": 6,
    "start_time": "2023-03-21T10:42:16.289Z"
   },
   {
    "duration": 5,
    "start_time": "2023-03-21T10:43:02.257Z"
   },
   {
    "duration": 9,
    "start_time": "2023-03-21T10:44:08.993Z"
   },
   {
    "duration": 3,
    "start_time": "2023-03-21T10:48:39.453Z"
   },
   {
    "duration": 5,
    "start_time": "2023-03-21T10:50:23.382Z"
   },
   {
    "duration": 12,
    "start_time": "2023-03-21T10:51:59.615Z"
   },
   {
    "duration": 13,
    "start_time": "2023-03-21T10:54:46.373Z"
   },
   {
    "duration": 10,
    "start_time": "2023-03-21T11:23:28.587Z"
   },
   {
    "duration": 13,
    "start_time": "2023-03-21T11:23:35.205Z"
   },
   {
    "duration": 5,
    "start_time": "2023-03-21T11:23:37.599Z"
   },
   {
    "duration": 5,
    "start_time": "2023-03-21T11:23:49.074Z"
   },
   {
    "duration": 4,
    "start_time": "2023-03-21T11:24:01.085Z"
   },
   {
    "duration": 4,
    "start_time": "2023-03-21T11:25:41.269Z"
   },
   {
    "duration": 4,
    "start_time": "2023-03-21T11:26:07.909Z"
   },
   {
    "duration": 7,
    "start_time": "2023-03-21T11:26:27.219Z"
   },
   {
    "duration": 11,
    "start_time": "2023-03-21T11:26:34.375Z"
   },
   {
    "duration": 6,
    "start_time": "2023-03-21T11:26:42.385Z"
   },
   {
    "duration": 5,
    "start_time": "2023-03-21T11:26:47.696Z"
   },
   {
    "duration": 4,
    "start_time": "2023-03-21T11:27:57.946Z"
   },
   {
    "duration": 7,
    "start_time": "2023-03-21T11:28:02.600Z"
   },
   {
    "duration": 5,
    "start_time": "2023-03-21T11:31:30.698Z"
   },
   {
    "duration": 5,
    "start_time": "2023-03-21T11:31:32.894Z"
   },
   {
    "duration": 5,
    "start_time": "2023-03-21T11:31:41.120Z"
   },
   {
    "duration": 1210,
    "start_time": "2023-03-21T11:32:23.226Z"
   },
   {
    "duration": 17,
    "start_time": "2023-03-21T11:32:41.489Z"
   },
   {
    "duration": 5,
    "start_time": "2023-03-21T11:32:53.322Z"
   },
   {
    "duration": 4,
    "start_time": "2023-03-21T11:32:55.403Z"
   },
   {
    "duration": 5,
    "start_time": "2023-03-21T11:33:02.241Z"
   },
   {
    "duration": 4,
    "start_time": "2023-03-21T11:33:03.433Z"
   },
   {
    "duration": 4,
    "start_time": "2023-03-21T11:33:04.201Z"
   },
   {
    "duration": 5,
    "start_time": "2023-03-21T11:33:05.092Z"
   },
   {
    "duration": 4,
    "start_time": "2023-03-21T11:33:05.831Z"
   },
   {
    "duration": 4,
    "start_time": "2023-03-21T11:33:06.550Z"
   },
   {
    "duration": 4,
    "start_time": "2023-03-21T11:33:07.315Z"
   },
   {
    "duration": 12,
    "start_time": "2023-03-21T11:33:33.581Z"
   },
   {
    "duration": 8,
    "start_time": "2023-03-21T11:33:42.432Z"
   },
   {
    "duration": 12,
    "start_time": "2023-03-21T11:33:45.584Z"
   },
   {
    "duration": 12,
    "start_time": "2023-03-21T11:49:07.403Z"
   },
   {
    "duration": 5,
    "start_time": "2023-03-21T11:49:19.941Z"
   },
   {
    "duration": 4,
    "start_time": "2023-03-21T11:51:11.843Z"
   },
   {
    "duration": 5,
    "start_time": "2023-03-21T11:54:02.789Z"
   },
   {
    "duration": 5,
    "start_time": "2023-03-21T11:55:32.257Z"
   },
   {
    "duration": 8,
    "start_time": "2023-03-21T12:06:05.518Z"
   },
   {
    "duration": 13,
    "start_time": "2023-03-21T12:06:09.287Z"
   },
   {
    "duration": 11,
    "start_time": "2023-03-21T12:06:21.485Z"
   },
   {
    "duration": 13,
    "start_time": "2023-03-21T12:07:33.220Z"
   },
   {
    "duration": 6,
    "start_time": "2023-03-21T12:09:31.004Z"
   },
   {
    "duration": 12,
    "start_time": "2023-03-21T12:09:32.920Z"
   },
   {
    "duration": 5,
    "start_time": "2023-03-21T12:09:47.807Z"
   },
   {
    "duration": 3,
    "start_time": "2023-03-21T12:21:10.558Z"
   },
   {
    "duration": 25,
    "start_time": "2023-03-21T12:22:44.719Z"
   },
   {
    "duration": 15,
    "start_time": "2023-03-21T12:56:36.323Z"
   },
   {
    "duration": 221,
    "start_time": "2023-03-21T12:59:06.076Z"
   },
   {
    "duration": 207,
    "start_time": "2023-03-21T12:59:14.420Z"
   },
   {
    "duration": 617,
    "start_time": "2023-03-21T13:01:18.517Z"
   },
   {
    "duration": 13,
    "start_time": "2023-03-21T13:01:27.116Z"
   },
   {
    "duration": 579,
    "start_time": "2023-03-21T13:01:34.404Z"
   },
   {
    "duration": 63,
    "start_time": "2023-03-21T13:08:49.749Z"
   },
   {
    "duration": 682,
    "start_time": "2023-03-21T13:09:02.995Z"
   },
   {
    "duration": 602,
    "start_time": "2023-03-21T13:09:34.388Z"
   },
   {
    "duration": 235,
    "start_time": "2023-03-21T13:09:52.859Z"
   },
   {
    "duration": 432,
    "start_time": "2023-03-21T13:18:36.208Z"
   },
   {
    "duration": 96,
    "start_time": "2023-03-21T13:34:09.932Z"
   },
   {
    "duration": 211,
    "start_time": "2023-03-21T13:34:19.246Z"
   },
   {
    "duration": 596,
    "start_time": "2023-03-21T13:41:02.889Z"
   },
   {
    "duration": 16,
    "start_time": "2023-03-21T13:41:16.080Z"
   },
   {
    "duration": 15,
    "start_time": "2023-03-21T13:41:33.840Z"
   },
   {
    "duration": 17,
    "start_time": "2023-03-21T13:42:15.127Z"
   },
   {
    "duration": 46,
    "start_time": "2023-03-22T16:47:10.603Z"
   },
   {
    "duration": 1035,
    "start_time": "2023-03-22T16:47:16.692Z"
   },
   {
    "duration": 118,
    "start_time": "2023-03-22T16:47:19.299Z"
   },
   {
    "duration": 14,
    "start_time": "2023-03-22T16:47:21.192Z"
   },
   {
    "duration": 6,
    "start_time": "2023-03-22T16:47:22.151Z"
   },
   {
    "duration": 8,
    "start_time": "2023-03-22T16:47:23.294Z"
   },
   {
    "duration": 34,
    "start_time": "2023-03-22T16:47:24.546Z"
   },
   {
    "duration": 4,
    "start_time": "2023-03-22T16:47:26.660Z"
   },
   {
    "duration": 4,
    "start_time": "2023-03-22T16:47:27.700Z"
   },
   {
    "duration": 8,
    "start_time": "2023-03-22T16:47:28.657Z"
   },
   {
    "duration": 6,
    "start_time": "2023-03-22T16:47:29.603Z"
   },
   {
    "duration": 81,
    "start_time": "2023-03-22T16:47:32.000Z"
   },
   {
    "duration": 4,
    "start_time": "2023-03-22T16:52:51.644Z"
   },
   {
    "duration": 2776,
    "start_time": "2023-03-22T17:03:44.960Z"
   },
   {
    "duration": 2716,
    "start_time": "2023-03-22T17:03:53.887Z"
   },
   {
    "duration": 2846,
    "start_time": "2023-03-22T17:04:08.268Z"
   },
   {
    "duration": 2746,
    "start_time": "2023-03-22T17:04:22.561Z"
   },
   {
    "duration": 2777,
    "start_time": "2023-03-22T17:06:24.450Z"
   },
   {
    "duration": 2676,
    "start_time": "2023-03-22T17:07:00.737Z"
   },
   {
    "duration": 3180,
    "start_time": "2023-03-22T17:08:43.199Z"
   },
   {
    "duration": 4531,
    "start_time": "2023-03-22T19:07:08.250Z"
   },
   {
    "duration": 18,
    "start_time": "2023-03-22T19:11:49.394Z"
   },
   {
    "duration": 3670,
    "start_time": "2023-03-22T19:12:49.043Z"
   },
   {
    "duration": 2,
    "start_time": "2023-03-22T20:37:53.427Z"
   },
   {
    "duration": 3163,
    "start_time": "2023-03-22T20:38:30.745Z"
   },
   {
    "duration": 3135,
    "start_time": "2023-03-22T20:38:41.535Z"
   },
   {
    "duration": 3068,
    "start_time": "2023-03-22T20:38:55.119Z"
   },
   {
    "duration": 324,
    "start_time": "2023-03-22T20:39:28.122Z"
   },
   {
    "duration": 333,
    "start_time": "2023-03-22T20:39:34.080Z"
   },
   {
    "duration": 3209,
    "start_time": "2023-03-22T20:40:11.942Z"
   },
   {
    "duration": 1046,
    "start_time": "2023-03-24T08:23:19.360Z"
   },
   {
    "duration": 96,
    "start_time": "2023-03-24T08:23:23.286Z"
   },
   {
    "duration": 10,
    "start_time": "2023-03-24T08:23:24.639Z"
   },
   {
    "duration": 5,
    "start_time": "2023-03-24T08:23:25.541Z"
   },
   {
    "duration": 7,
    "start_time": "2023-03-24T08:23:26.631Z"
   },
   {
    "duration": 25,
    "start_time": "2023-03-24T08:23:27.700Z"
   },
   {
    "duration": 4,
    "start_time": "2023-03-24T08:23:30.392Z"
   },
   {
    "duration": 4,
    "start_time": "2023-03-24T08:23:31.294Z"
   },
   {
    "duration": 4,
    "start_time": "2023-03-24T08:23:32.137Z"
   },
   {
    "duration": 4,
    "start_time": "2023-03-24T08:23:33.000Z"
   },
   {
    "duration": 3558,
    "start_time": "2023-03-24T08:23:36.190Z"
   },
   {
    "duration": 371,
    "start_time": "2023-03-24T08:23:46.654Z"
   },
   {
    "duration": 56,
    "start_time": "2023-03-24T08:53:26.619Z"
   },
   {
    "duration": 108,
    "start_time": "2023-03-24T08:53:47.089Z"
   },
   {
    "duration": 15,
    "start_time": "2023-03-24T08:53:58.618Z"
   },
   {
    "duration": 15,
    "start_time": "2023-03-24T08:54:19.750Z"
   },
   {
    "duration": 4,
    "start_time": "2023-03-24T08:54:26.533Z"
   },
   {
    "duration": 17,
    "start_time": "2023-03-24T08:54:33.411Z"
   },
   {
    "duration": 3,
    "start_time": "2023-03-24T08:55:04.001Z"
   },
   {
    "duration": 15,
    "start_time": "2023-03-24T08:55:20.646Z"
   },
   {
    "duration": 15,
    "start_time": "2023-03-24T08:56:27.409Z"
   },
   {
    "duration": 15,
    "start_time": "2023-03-24T08:57:06.562Z"
   },
   {
    "duration": 48115,
    "start_time": "2023-03-24T08:57:15.360Z"
   },
   {
    "duration": 79887,
    "start_time": "2023-03-24T08:58:19.592Z"
   },
   {
    "duration": 63999,
    "start_time": "2023-03-24T08:59:49.233Z"
   },
   {
    "duration": 169244,
    "start_time": "2023-03-24T09:02:28.071Z"
   },
   {
    "duration": 8,
    "start_time": "2023-03-24T09:26:43.168Z"
   },
   {
    "duration": 7,
    "start_time": "2023-03-24T09:26:50.530Z"
   },
   {
    "duration": 9,
    "start_time": "2023-03-24T09:27:34.899Z"
   },
   {
    "duration": 5,
    "start_time": "2023-03-24T09:28:20.111Z"
   },
   {
    "duration": 3,
    "start_time": "2023-03-24T09:59:29.949Z"
   },
   {
    "duration": 74,
    "start_time": "2023-03-24T09:59:40.098Z"
   },
   {
    "duration": 2,
    "start_time": "2023-03-24T10:28:48.314Z"
   },
   {
    "duration": 44,
    "start_time": "2023-03-24T10:38:54.783Z"
   },
   {
    "duration": 6,
    "start_time": "2023-03-24T10:38:58.743Z"
   },
   {
    "duration": 2669,
    "start_time": "2023-03-24T11:09:01.660Z"
   },
   {
    "duration": 62,
    "start_time": "2023-03-24T11:09:04.331Z"
   },
   {
    "duration": 13,
    "start_time": "2023-03-24T11:09:04.395Z"
   },
   {
    "duration": 8,
    "start_time": "2023-03-24T11:09:04.411Z"
   },
   {
    "duration": 22,
    "start_time": "2023-03-24T11:09:04.422Z"
   },
   {
    "duration": 48,
    "start_time": "2023-03-24T11:09:04.447Z"
   },
   {
    "duration": 5,
    "start_time": "2023-03-24T11:09:04.497Z"
   },
   {
    "duration": 11,
    "start_time": "2023-03-24T11:09:04.504Z"
   },
   {
    "duration": 11,
    "start_time": "2023-03-24T11:09:04.517Z"
   },
   {
    "duration": 43,
    "start_time": "2023-03-24T11:09:04.530Z"
   },
   {
    "duration": 4627,
    "start_time": "2023-03-24T11:09:04.575Z"
   },
   {
    "duration": 213764,
    "start_time": "2023-03-24T11:09:09.203Z"
   },
   {
    "duration": 495,
    "start_time": "2023-03-24T11:12:42.969Z"
   },
   {
    "duration": 9,
    "start_time": "2023-03-24T11:12:43.468Z"
   },
   {
    "duration": 22,
    "start_time": "2023-03-24T11:12:43.480Z"
   },
   {
    "duration": 30,
    "start_time": "2023-03-24T11:12:43.505Z"
   },
   {
    "duration": 42,
    "start_time": "2023-03-24T11:12:43.538Z"
   },
   {
    "duration": 12,
    "start_time": "2023-03-24T11:12:43.582Z"
   },
   {
    "duration": 3,
    "start_time": "2023-03-24T12:00:17.954Z"
   },
   {
    "duration": 37,
    "start_time": "2023-03-24T12:06:07.054Z"
   },
   {
    "duration": 10,
    "start_time": "2023-03-24T12:06:08.223Z"
   },
   {
    "duration": 5,
    "start_time": "2023-03-24T12:06:09.294Z"
   },
   {
    "duration": 6,
    "start_time": "2023-03-24T12:06:10.879Z"
   },
   {
    "duration": 22,
    "start_time": "2023-03-24T12:06:11.743Z"
   },
   {
    "duration": 13,
    "start_time": "2023-03-24T12:07:26.702Z"
   },
   {
    "duration": 5,
    "start_time": "2023-03-24T12:10:56.912Z"
   },
   {
    "duration": 9,
    "start_time": "2023-03-24T12:16:01.177Z"
   },
   {
    "duration": 5,
    "start_time": "2023-03-24T12:29:39.652Z"
   },
   {
    "duration": 3,
    "start_time": "2023-03-24T12:29:40.384Z"
   },
   {
    "duration": 4,
    "start_time": "2023-03-24T12:29:41.156Z"
   },
   {
    "duration": 5,
    "start_time": "2023-03-24T12:29:41.860Z"
   },
   {
    "duration": 7,
    "start_time": "2023-03-24T12:33:21.234Z"
   },
   {
    "duration": 4,
    "start_time": "2023-03-24T12:33:22.257Z"
   },
   {
    "duration": 4,
    "start_time": "2023-03-24T12:33:23.165Z"
   },
   {
    "duration": 9,
    "start_time": "2023-03-24T12:33:24.108Z"
   },
   {
    "duration": 13,
    "start_time": "2023-03-24T12:33:30.497Z"
   },
   {
    "duration": 6,
    "start_time": "2023-03-24T12:33:54.067Z"
   },
   {
    "duration": 16,
    "start_time": "2023-03-24T12:35:09.139Z"
   },
   {
    "duration": 6,
    "start_time": "2023-03-24T12:35:28.689Z"
   },
   {
    "duration": 341,
    "start_time": "2023-03-24T12:52:57.256Z"
   },
   {
    "duration": 6276,
    "start_time": "2023-03-24T13:00:09.140Z"
   },
   {
    "duration": 18,
    "start_time": "2023-03-24T13:01:51.505Z"
   },
   {
    "duration": 4,
    "start_time": "2023-03-24T13:02:05.407Z"
   },
   {
    "duration": 116,
    "start_time": "2023-03-24T13:02:10.460Z"
   },
   {
    "duration": 12,
    "start_time": "2023-03-24T13:03:20.044Z"
   },
   {
    "duration": 9,
    "start_time": "2023-03-24T13:03:32.728Z"
   },
   {
    "duration": 8,
    "start_time": "2023-03-24T13:03:35.285Z"
   },
   {
    "duration": 3,
    "start_time": "2023-03-24T13:03:44.919Z"
   },
   {
    "duration": 3,
    "start_time": "2023-03-24T13:03:55.686Z"
   },
   {
    "duration": 11,
    "start_time": "2023-03-24T13:04:41.125Z"
   },
   {
    "duration": 11,
    "start_time": "2023-03-24T13:04:45.725Z"
   },
   {
    "duration": 102,
    "start_time": "2023-03-24T13:05:18.511Z"
   },
   {
    "duration": 96,
    "start_time": "2023-03-24T13:05:34.052Z"
   },
   {
    "duration": 4,
    "start_time": "2023-03-24T13:07:17.690Z"
   },
   {
    "duration": 6108,
    "start_time": "2023-03-24T13:07:37.069Z"
   },
   {
    "duration": 3,
    "start_time": "2023-03-24T13:07:43.179Z"
   },
   {
    "duration": 6175,
    "start_time": "2023-03-24T13:07:55.875Z"
   },
   {
    "duration": 4,
    "start_time": "2023-03-24T13:08:05.689Z"
   },
   {
    "duration": 6303,
    "start_time": "2023-03-24T13:11:14.208Z"
   },
   {
    "duration": 416,
    "start_time": "2023-03-24T13:12:20.738Z"
   },
   {
    "duration": 108,
    "start_time": "2023-03-24T13:12:31.232Z"
   },
   {
    "duration": 108,
    "start_time": "2023-03-24T13:12:37.400Z"
   },
   {
    "duration": 466,
    "start_time": "2023-03-24T13:14:36.380Z"
   },
   {
    "duration": 4,
    "start_time": "2023-03-24T13:14:49.758Z"
   },
   {
    "duration": 117,
    "start_time": "2023-03-24T13:15:06.285Z"
   },
   {
    "duration": 11,
    "start_time": "2023-03-24T13:16:21.278Z"
   },
   {
    "duration": 11,
    "start_time": "2023-03-24T13:16:51.385Z"
   },
   {
    "duration": 162,
    "start_time": "2023-03-24T13:16:59.944Z"
   },
   {
    "duration": 141,
    "start_time": "2023-03-24T13:18:15.180Z"
   },
   {
    "duration": 118,
    "start_time": "2023-03-24T13:18:22.997Z"
   },
   {
    "duration": 253,
    "start_time": "2023-03-24T13:18:57.692Z"
   },
   {
    "duration": 205,
    "start_time": "2023-03-24T13:22:13.172Z"
   },
   {
    "duration": 210,
    "start_time": "2023-03-24T13:22:26.895Z"
   },
   {
    "duration": 232,
    "start_time": "2023-03-24T13:22:33.598Z"
   },
   {
    "duration": 255,
    "start_time": "2023-03-24T13:22:38.243Z"
   },
   {
    "duration": 194,
    "start_time": "2023-03-24T13:23:28.275Z"
   },
   {
    "duration": 45,
    "start_time": "2023-03-24T13:32:22.792Z"
   },
   {
    "duration": 150,
    "start_time": "2023-03-24T13:32:27.772Z"
   },
   {
    "duration": 617,
    "start_time": "2023-03-24T13:33:33.227Z"
   },
   {
    "duration": 1618,
    "start_time": "2023-03-26T15:52:06.540Z"
   },
   {
    "duration": 148,
    "start_time": "2023-03-26T15:52:11.395Z"
   },
   {
    "duration": 13,
    "start_time": "2023-03-26T15:52:12.965Z"
   },
   {
    "duration": 7,
    "start_time": "2023-03-26T15:52:14.465Z"
   },
   {
    "duration": 7,
    "start_time": "2023-03-26T15:52:15.908Z"
   },
   {
    "duration": 25,
    "start_time": "2023-03-26T15:52:17.332Z"
   },
   {
    "duration": 5,
    "start_time": "2023-03-26T15:52:19.733Z"
   },
   {
    "duration": 11,
    "start_time": "2023-03-26T15:52:22.179Z"
   },
   {
    "duration": 6,
    "start_time": "2023-03-26T15:52:24.601Z"
   },
   {
    "duration": 4,
    "start_time": "2023-03-26T15:52:25.649Z"
   },
   {
    "duration": 4,
    "start_time": "2023-03-26T15:52:26.832Z"
   },
   {
    "duration": 6,
    "start_time": "2023-03-26T15:52:28.139Z"
   },
   {
    "duration": 134,
    "start_time": "2023-03-26T15:52:35.938Z"
   },
   {
    "duration": 7229,
    "start_time": "2023-03-26T15:52:59.876Z"
   },
   {
    "duration": 555,
    "start_time": "2023-03-26T15:53:48.215Z"
   },
   {
    "duration": 834,
    "start_time": "2023-03-26T15:54:34.876Z"
   },
   {
    "duration": 1568,
    "start_time": "2023-03-26T16:31:00.223Z"
   },
   {
    "duration": 98,
    "start_time": "2023-03-26T16:31:06.432Z"
   },
   {
    "duration": 13,
    "start_time": "2023-03-26T16:31:10.129Z"
   },
   {
    "duration": 8,
    "start_time": "2023-03-26T16:31:11.832Z"
   },
   {
    "duration": 8,
    "start_time": "2023-03-26T16:31:13.049Z"
   },
   {
    "duration": 24,
    "start_time": "2023-03-26T16:31:14.311Z"
   },
   {
    "duration": 7,
    "start_time": "2023-03-26T16:31:16.310Z"
   },
   {
    "duration": 12,
    "start_time": "2023-03-26T16:31:18.161Z"
   },
   {
    "duration": 6,
    "start_time": "2023-03-26T16:31:21.005Z"
   },
   {
    "duration": 4,
    "start_time": "2023-03-26T16:31:23.643Z"
   },
   {
    "duration": 4,
    "start_time": "2023-03-26T16:31:25.607Z"
   },
   {
    "duration": 7,
    "start_time": "2023-03-26T16:31:27.659Z"
   },
   {
    "duration": 6466,
    "start_time": "2023-03-26T16:31:32.896Z"
   },
   {
    "duration": 6470,
    "start_time": "2023-03-26T16:31:47.485Z"
   },
   {
    "duration": 136,
    "start_time": "2023-03-26T16:32:16.320Z"
   },
   {
    "duration": 412,
    "start_time": "2023-03-26T16:32:30.316Z"
   },
   {
    "duration": 739,
    "start_time": "2023-03-26T16:32:40.931Z"
   },
   {
    "duration": 820,
    "start_time": "2023-03-26T16:35:29.099Z"
   },
   {
    "duration": 174696,
    "start_time": "2023-03-26T16:36:40.406Z"
   },
   {
    "duration": 400,
    "start_time": "2023-03-26T16:41:16.383Z"
   },
   {
    "duration": 444,
    "start_time": "2023-03-26T16:41:40.944Z"
   },
   {
    "duration": 444,
    "start_time": "2023-03-26T16:41:56.849Z"
   },
   {
    "duration": 430,
    "start_time": "2023-03-26T16:43:14.608Z"
   },
   {
    "duration": 474,
    "start_time": "2023-03-26T16:43:26.896Z"
   },
   {
    "duration": 18,
    "start_time": "2023-03-26T16:47:50.572Z"
   },
   {
    "duration": 165,
    "start_time": "2023-03-26T16:48:07.703Z"
   },
   {
    "duration": 15,
    "start_time": "2023-03-26T16:49:12.631Z"
   },
   {
    "duration": 34,
    "start_time": "2023-03-26T16:49:28.786Z"
   },
   {
    "duration": 18,
    "start_time": "2023-03-26T16:49:49.804Z"
   },
   {
    "duration": 9006,
    "start_time": "2023-03-26T16:49:56.817Z"
   },
   {
    "duration": 453,
    "start_time": "2023-03-26T16:51:39.596Z"
   },
   {
    "duration": 441,
    "start_time": "2023-03-26T16:52:09.836Z"
   },
   {
    "duration": 444,
    "start_time": "2023-03-26T16:52:17.438Z"
   },
   {
    "duration": 79,
    "start_time": "2023-03-26T16:54:34.143Z"
   },
   {
    "duration": 137,
    "start_time": "2023-03-26T16:54:42.937Z"
   },
   {
    "duration": 136,
    "start_time": "2023-03-26T16:55:41.229Z"
   },
   {
    "duration": 118,
    "start_time": "2023-03-26T16:55:52.226Z"
   },
   {
    "duration": 457,
    "start_time": "2023-03-26T16:56:26.353Z"
   },
   {
    "duration": 716,
    "start_time": "2023-03-26T16:58:57.414Z"
   },
   {
    "duration": 4,
    "start_time": "2023-03-26T16:59:12.367Z"
   },
   {
    "duration": 37,
    "start_time": "2023-03-26T16:59:14.715Z"
   },
   {
    "duration": 12,
    "start_time": "2023-03-26T16:59:15.888Z"
   },
   {
    "duration": 7,
    "start_time": "2023-03-26T16:59:17.384Z"
   },
   {
    "duration": 7,
    "start_time": "2023-03-26T16:59:18.524Z"
   },
   {
    "duration": 24,
    "start_time": "2023-03-26T16:59:19.541Z"
   },
   {
    "duration": 6,
    "start_time": "2023-03-26T16:59:21.263Z"
   },
   {
    "duration": 11,
    "start_time": "2023-03-26T16:59:22.816Z"
   },
   {
    "duration": 6,
    "start_time": "2023-03-26T16:59:25.489Z"
   },
   {
    "duration": 4,
    "start_time": "2023-03-26T16:59:26.824Z"
   },
   {
    "duration": 3,
    "start_time": "2023-03-26T16:59:27.835Z"
   },
   {
    "duration": 6,
    "start_time": "2023-03-26T16:59:28.831Z"
   },
   {
    "duration": 6642,
    "start_time": "2023-03-26T16:59:38.926Z"
   },
   {
    "duration": 399,
    "start_time": "2023-03-26T16:59:53.312Z"
   },
   {
    "duration": 808,
    "start_time": "2023-03-26T16:59:58.656Z"
   },
   {
    "duration": 801,
    "start_time": "2023-03-26T17:00:03.964Z"
   },
   {
    "duration": 683,
    "start_time": "2023-03-26T17:00:11.313Z"
   },
   {
    "duration": 450,
    "start_time": "2023-03-26T17:00:48.411Z"
   },
   {
    "duration": 498,
    "start_time": "2023-03-26T17:00:56.716Z"
   },
   {
    "duration": 432,
    "start_time": "2023-03-26T17:01:02.342Z"
   },
   {
    "duration": 424,
    "start_time": "2023-03-26T17:02:43.957Z"
   },
   {
    "duration": 1445,
    "start_time": "2023-03-26T19:05:20.826Z"
   },
   {
    "duration": 135,
    "start_time": "2023-03-26T19:05:25.406Z"
   },
   {
    "duration": 10,
    "start_time": "2023-03-26T19:05:26.930Z"
   },
   {
    "duration": 8,
    "start_time": "2023-03-26T19:05:28.488Z"
   },
   {
    "duration": 5,
    "start_time": "2023-03-26T19:05:29.503Z"
   },
   {
    "duration": 19,
    "start_time": "2023-03-26T19:05:30.543Z"
   },
   {
    "duration": 7,
    "start_time": "2023-03-26T19:05:32.128Z"
   },
   {
    "duration": 9,
    "start_time": "2023-03-26T19:05:33.802Z"
   },
   {
    "duration": 5,
    "start_time": "2023-03-26T19:05:36.255Z"
   },
   {
    "duration": 3,
    "start_time": "2023-03-26T19:05:37.430Z"
   },
   {
    "duration": 4,
    "start_time": "2023-03-26T19:05:38.557Z"
   },
   {
    "duration": 7,
    "start_time": "2023-03-26T19:05:40.181Z"
   },
   {
    "duration": 5793,
    "start_time": "2023-03-26T19:05:46.569Z"
   },
   {
    "duration": 422,
    "start_time": "2023-03-26T19:06:35.792Z"
   },
   {
    "duration": 594,
    "start_time": "2023-03-26T19:06:41.319Z"
   },
   {
    "duration": 860,
    "start_time": "2023-03-26T19:07:14.847Z"
   },
   {
    "duration": 707,
    "start_time": "2023-03-26T19:07:33.699Z"
   },
   {
    "duration": 9,
    "start_time": "2023-03-26T19:08:05.380Z"
   },
   {
    "duration": 6023,
    "start_time": "2023-03-26T19:08:09.491Z"
   },
   {
    "duration": 6176,
    "start_time": "2023-03-26T19:08:32.959Z"
   },
   {
    "duration": 296,
    "start_time": "2023-03-26T19:08:53.406Z"
   },
   {
    "duration": 305,
    "start_time": "2023-03-26T19:09:07.717Z"
   },
   {
    "duration": 694,
    "start_time": "2023-03-26T19:09:11.964Z"
   },
   {
    "duration": 174792,
    "start_time": "2023-03-26T19:09:23.651Z"
   },
   {
    "duration": 428,
    "start_time": "2023-03-26T19:14:24.845Z"
   },
   {
    "duration": 19,
    "start_time": "2023-03-26T19:19:37.513Z"
   },
   {
    "duration": 115,
    "start_time": "2023-03-26T19:21:32.246Z"
   },
   {
    "duration": 72,
    "start_time": "2023-03-26T19:21:41.499Z"
   },
   {
    "duration": 53,
    "start_time": "2023-03-26T19:21:46.955Z"
   },
   {
    "duration": 63,
    "start_time": "2023-03-26T19:21:59.050Z"
   },
   {
    "duration": 54,
    "start_time": "2023-03-26T19:22:00.740Z"
   },
   {
    "duration": 57,
    "start_time": "2023-03-26T19:22:01.988Z"
   },
   {
    "duration": 63,
    "start_time": "2023-03-26T19:22:03.033Z"
   },
   {
    "duration": 58,
    "start_time": "2023-03-26T19:22:03.886Z"
   },
   {
    "duration": 54,
    "start_time": "2023-03-26T19:22:04.612Z"
   },
   {
    "duration": 58,
    "start_time": "2023-03-26T19:22:05.376Z"
   },
   {
    "duration": 66,
    "start_time": "2023-03-26T19:22:06.073Z"
   },
   {
    "duration": 58,
    "start_time": "2023-03-26T19:22:06.750Z"
   },
   {
    "duration": 54,
    "start_time": "2023-03-26T19:22:07.595Z"
   },
   {
    "duration": 63,
    "start_time": "2023-03-26T19:22:08.236Z"
   },
   {
    "duration": 64,
    "start_time": "2023-03-26T19:22:08.987Z"
   },
   {
    "duration": 57,
    "start_time": "2023-03-26T19:22:09.676Z"
   },
   {
    "duration": 56,
    "start_time": "2023-03-26T19:22:10.341Z"
   },
   {
    "duration": 106,
    "start_time": "2023-03-26T19:23:58.219Z"
   },
   {
    "duration": 7,
    "start_time": "2023-03-26T19:24:07.703Z"
   },
   {
    "duration": 8,
    "start_time": "2023-03-26T19:24:22.343Z"
   },
   {
    "duration": 9,
    "start_time": "2023-03-26T19:24:23.174Z"
   },
   {
    "duration": 8,
    "start_time": "2023-03-26T19:24:23.733Z"
   },
   {
    "duration": 7,
    "start_time": "2023-03-26T19:24:24.344Z"
   },
   {
    "duration": 8,
    "start_time": "2023-03-26T19:24:25.052Z"
   },
   {
    "duration": 7,
    "start_time": "2023-03-26T19:24:25.614Z"
   },
   {
    "duration": 6,
    "start_time": "2023-03-26T19:29:06.583Z"
   },
   {
    "duration": 1995,
    "start_time": "2023-03-27T06:24:44.755Z"
   },
   {
    "duration": 115,
    "start_time": "2023-03-27T06:25:20.318Z"
   },
   {
    "duration": 13,
    "start_time": "2023-03-27T06:25:21.419Z"
   },
   {
    "duration": 13,
    "start_time": "2023-03-27T06:25:22.340Z"
   },
   {
    "duration": 7,
    "start_time": "2023-03-27T06:25:23.119Z"
   },
   {
    "duration": 31,
    "start_time": "2023-03-27T06:25:23.798Z"
   },
   {
    "duration": 7,
    "start_time": "2023-03-27T06:25:26.731Z"
   },
   {
    "duration": 32,
    "start_time": "2023-03-27T06:25:32.028Z"
   },
   {
    "duration": 9,
    "start_time": "2023-03-27T06:25:38.133Z"
   },
   {
    "duration": 4,
    "start_time": "2023-03-27T06:25:39.224Z"
   },
   {
    "duration": 5,
    "start_time": "2023-03-27T06:25:39.979Z"
   },
   {
    "duration": 7,
    "start_time": "2023-03-27T06:25:40.699Z"
   },
   {
    "duration": 6617,
    "start_time": "2023-03-27T06:25:58.913Z"
   },
   {
    "duration": 505,
    "start_time": "2023-03-27T06:26:27.701Z"
   },
   {
    "duration": 773,
    "start_time": "2023-03-27T06:26:55.286Z"
   },
   {
    "duration": 6854,
    "start_time": "2023-03-27T06:28:54.499Z"
   },
   {
    "duration": 7009,
    "start_time": "2023-03-27T06:29:03.871Z"
   },
   {
    "duration": 954,
    "start_time": "2023-03-27T06:29:28.660Z"
   },
   {
    "duration": 2286,
    "start_time": "2023-03-27T06:30:09.727Z"
   },
   {
    "duration": 1290,
    "start_time": "2023-03-27T06:30:25.471Z"
   },
   {
    "duration": 194587,
    "start_time": "2023-03-27T06:30:56.200Z"
   },
   {
    "duration": 35,
    "start_time": "2023-03-27T06:41:01.177Z"
   },
   {
    "duration": 461,
    "start_time": "2023-03-27T06:41:09.024Z"
   },
   {
    "duration": 10,
    "start_time": "2023-03-27T06:41:43.183Z"
   }
  ],
  "kernelspec": {
   "display_name": "Python 3 (ipykernel)",
   "language": "python",
   "name": "python3"
  },
  "language_info": {
   "codemirror_mode": {
    "name": "ipython",
    "version": 3
   },
   "file_extension": ".py",
   "mimetype": "text/x-python",
   "name": "python",
   "nbconvert_exporter": "python",
   "pygments_lexer": "ipython3",
   "version": "3.9.18"
  },
  "toc": {
   "base_numbering": 1,
   "nav_menu": {},
   "number_sections": true,
   "sideBar": true,
   "skip_h1_title": true,
   "title_cell": "Table of Contents",
   "title_sidebar": "Contents",
   "toc_cell": false,
   "toc_position": {},
   "toc_section_display": true,
   "toc_window_display": false
  }
 },
 "nbformat": 4,
 "nbformat_minor": 2
}
