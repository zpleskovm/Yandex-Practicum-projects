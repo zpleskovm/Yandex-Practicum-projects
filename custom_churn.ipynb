{
 "cells": [
  {
   "cell_type": "markdown",
   "metadata": {
    "toc": true
   },
   "source": [
    "<h1>Содержание<span class=\"tocSkip\"></span></h1>\n",
    "<div class=\"toc\"><ul class=\"toc-item\"><li><span><a href=\"#Подготовка-данных\" data-toc-modified-id=\"Подготовка-данных-1\"><span class=\"toc-item-num\">1&nbsp;&nbsp;</span>Подготовка данных</a></span></li><li><span><a href=\"#Исследование-задачи\" data-toc-modified-id=\"Исследование-задачи-2\"><span class=\"toc-item-num\">2&nbsp;&nbsp;</span>Исследование задачи</a></span></li><li><span><a href=\"#Борьба-с-дисбалансом\" data-toc-modified-id=\"Борьба-с-дисбалансом-3\"><span class=\"toc-item-num\">3&nbsp;&nbsp;</span>Борьба с дисбалансом</a></span></li><li><span><a href=\"#Тестирование-модели\" data-toc-modified-id=\"Тестирование-модели-4\"><span class=\"toc-item-num\">4&nbsp;&nbsp;</span>Тестирование модели</a></span></li><li><span><a href=\"#Вывод\" data-toc-modified-id=\"Вывод-5\"><span class=\"toc-item-num\">5&nbsp;&nbsp;</span>Вывод</a></span></li><li><span><a href=\"#Чек-лист-готовности-проекта\" data-toc-modified-id=\"Чек-лист-готовности-проекта-6\"><span class=\"toc-item-num\">6&nbsp;&nbsp;</span>Чек-лист готовности проекта</a></span></li></ul></div>"
   ]
  },
  {
   "cell_type": "markdown",
   "metadata": {},
   "source": [
    "# Отток клиентов"
   ]
  },
  {
   "cell_type": "markdown",
   "metadata": {},
   "source": [
    "Из «Бета-Банка» стали уходить клиенты. Каждый месяц. Немного, но заметно. Банковские маркетологи посчитали: сохранять текущих клиентов дешевле, чем привлекать новых.\n",
    "\n",
    "Нужно спрогнозировать, уйдёт клиент из банка в ближайшее время или нет. Вам предоставлены исторические данные о поведении клиентов и расторжении договоров с банком. \n",
    "\n",
    "Постройте модель с предельно большим значением *F1*-меры. Чтобы сдать проект успешно, нужно довести метрику до 0.59. Проверьте *F1*-меру на тестовой выборке самостоятельно.\n",
    "\n",
    "Дополнительно измеряйте *AUC-ROC*, сравнивайте её значение с *F1*-мерой.\n",
    "\n",
    "Источник данных: [https://www.kaggle.com/barelydedicated/bank-customer-churn-modeling](https://www.kaggle.com/barelydedicated/bank-customer-churn-modeling)"
   ]
  },
  {
   "cell_type": "markdown",
   "metadata": {},
   "source": [
    "## Подготовка данных"
   ]
  },
  {
   "cell_type": "code",
   "execution_count": 67,
   "metadata": {},
   "outputs": [],
   "source": [
    "#импорт нужных библиотек\n",
    "import pandas as pd\n",
    "import numpy as np\n",
    "from tqdm import tqdm\n",
    "import matplotlib.pyplot as plt\n",
    "import math\n",
    "\n",
    "from sklearn.utils import shuffle\n",
    "from sklearn.model_selection import train_test_split\n",
    "from sklearn.linear_model import LogisticRegression\n",
    "from sklearn.tree import DecisionTreeClassifier\n",
    "from sklearn.ensemble import RandomForestClassifier\n",
    "\n",
    "from sklearn.metrics import (\n",
    "    f1_score,\n",
    "    roc_auc_score,\n",
    "    roc_curve,\n",
    "    accuracy_score,\n",
    "    mean_absolute_error\n",
    ")\n",
    "\n",
    "from sklearn.preprocessing import StandardScaler\n",
    "from sklearn.dummy import DummyClassifier\n"
   ]
  },
  {
   "cell_type": "code",
   "execution_count": 2,
   "metadata": {},
   "outputs": [
    {
     "data": {
      "text/html": [
       "<div>\n",
       "<style scoped>\n",
       "    .dataframe tbody tr th:only-of-type {\n",
       "        vertical-align: middle;\n",
       "    }\n",
       "\n",
       "    .dataframe tbody tr th {\n",
       "        vertical-align: top;\n",
       "    }\n",
       "\n",
       "    .dataframe thead th {\n",
       "        text-align: right;\n",
       "    }\n",
       "</style>\n",
       "<table border=\"1\" class=\"dataframe\">\n",
       "  <thead>\n",
       "    <tr style=\"text-align: right;\">\n",
       "      <th></th>\n",
       "      <th>RowNumber</th>\n",
       "      <th>CustomerId</th>\n",
       "      <th>Surname</th>\n",
       "      <th>CreditScore</th>\n",
       "      <th>Geography</th>\n",
       "      <th>Gender</th>\n",
       "      <th>Age</th>\n",
       "      <th>Tenure</th>\n",
       "      <th>Balance</th>\n",
       "      <th>NumOfProducts</th>\n",
       "      <th>HasCrCard</th>\n",
       "      <th>IsActiveMember</th>\n",
       "      <th>EstimatedSalary</th>\n",
       "      <th>Exited</th>\n",
       "    </tr>\n",
       "  </thead>\n",
       "  <tbody>\n",
       "    <tr>\n",
       "      <th>0</th>\n",
       "      <td>1</td>\n",
       "      <td>15634602</td>\n",
       "      <td>Hargrave</td>\n",
       "      <td>619</td>\n",
       "      <td>France</td>\n",
       "      <td>Female</td>\n",
       "      <td>42</td>\n",
       "      <td>2.0</td>\n",
       "      <td>0.00</td>\n",
       "      <td>1</td>\n",
       "      <td>1</td>\n",
       "      <td>1</td>\n",
       "      <td>101348.88</td>\n",
       "      <td>1</td>\n",
       "    </tr>\n",
       "    <tr>\n",
       "      <th>1</th>\n",
       "      <td>2</td>\n",
       "      <td>15647311</td>\n",
       "      <td>Hill</td>\n",
       "      <td>608</td>\n",
       "      <td>Spain</td>\n",
       "      <td>Female</td>\n",
       "      <td>41</td>\n",
       "      <td>1.0</td>\n",
       "      <td>83807.86</td>\n",
       "      <td>1</td>\n",
       "      <td>0</td>\n",
       "      <td>1</td>\n",
       "      <td>112542.58</td>\n",
       "      <td>0</td>\n",
       "    </tr>\n",
       "    <tr>\n",
       "      <th>2</th>\n",
       "      <td>3</td>\n",
       "      <td>15619304</td>\n",
       "      <td>Onio</td>\n",
       "      <td>502</td>\n",
       "      <td>France</td>\n",
       "      <td>Female</td>\n",
       "      <td>42</td>\n",
       "      <td>8.0</td>\n",
       "      <td>159660.80</td>\n",
       "      <td>3</td>\n",
       "      <td>1</td>\n",
       "      <td>0</td>\n",
       "      <td>113931.57</td>\n",
       "      <td>1</td>\n",
       "    </tr>\n",
       "    <tr>\n",
       "      <th>3</th>\n",
       "      <td>4</td>\n",
       "      <td>15701354</td>\n",
       "      <td>Boni</td>\n",
       "      <td>699</td>\n",
       "      <td>France</td>\n",
       "      <td>Female</td>\n",
       "      <td>39</td>\n",
       "      <td>1.0</td>\n",
       "      <td>0.00</td>\n",
       "      <td>2</td>\n",
       "      <td>0</td>\n",
       "      <td>0</td>\n",
       "      <td>93826.63</td>\n",
       "      <td>0</td>\n",
       "    </tr>\n",
       "    <tr>\n",
       "      <th>4</th>\n",
       "      <td>5</td>\n",
       "      <td>15737888</td>\n",
       "      <td>Mitchell</td>\n",
       "      <td>850</td>\n",
       "      <td>Spain</td>\n",
       "      <td>Female</td>\n",
       "      <td>43</td>\n",
       "      <td>2.0</td>\n",
       "      <td>125510.82</td>\n",
       "      <td>1</td>\n",
       "      <td>1</td>\n",
       "      <td>1</td>\n",
       "      <td>79084.10</td>\n",
       "      <td>0</td>\n",
       "    </tr>\n",
       "  </tbody>\n",
       "</table>\n",
       "</div>"
      ],
      "text/plain": [
       "   RowNumber  CustomerId   Surname  CreditScore Geography  Gender  Age  \\\n",
       "0          1    15634602  Hargrave          619    France  Female   42   \n",
       "1          2    15647311      Hill          608     Spain  Female   41   \n",
       "2          3    15619304      Onio          502    France  Female   42   \n",
       "3          4    15701354      Boni          699    France  Female   39   \n",
       "4          5    15737888  Mitchell          850     Spain  Female   43   \n",
       "\n",
       "   Tenure    Balance  NumOfProducts  HasCrCard  IsActiveMember  \\\n",
       "0     2.0       0.00              1          1               1   \n",
       "1     1.0   83807.86              1          0               1   \n",
       "2     8.0  159660.80              3          1               0   \n",
       "3     1.0       0.00              2          0               0   \n",
       "4     2.0  125510.82              1          1               1   \n",
       "\n",
       "   EstimatedSalary  Exited  \n",
       "0        101348.88       1  \n",
       "1        112542.58       0  \n",
       "2        113931.57       1  \n",
       "3         93826.63       0  \n",
       "4         79084.10       0  "
      ]
     },
     "execution_count": 2,
     "metadata": {},
     "output_type": "execute_result"
    }
   ],
   "source": [
    "#загрузим данные\n",
    "data = pd.read_csv('/datasets/Churn.csv')\n",
    "data.head(5)"
   ]
  },
  {
   "cell_type": "code",
   "execution_count": 3,
   "metadata": {},
   "outputs": [
    {
     "name": "stdout",
     "output_type": "stream",
     "text": [
      "<class 'pandas.core.frame.DataFrame'>\n",
      "RangeIndex: 10000 entries, 0 to 9999\n",
      "Data columns (total 14 columns):\n",
      " #   Column           Non-Null Count  Dtype  \n",
      "---  ------           --------------  -----  \n",
      " 0   RowNumber        10000 non-null  int64  \n",
      " 1   CustomerId       10000 non-null  int64  \n",
      " 2   Surname          10000 non-null  object \n",
      " 3   CreditScore      10000 non-null  int64  \n",
      " 4   Geography        10000 non-null  object \n",
      " 5   Gender           10000 non-null  object \n",
      " 6   Age              10000 non-null  int64  \n",
      " 7   Tenure           9091 non-null   float64\n",
      " 8   Balance          10000 non-null  float64\n",
      " 9   NumOfProducts    10000 non-null  int64  \n",
      " 10  HasCrCard        10000 non-null  int64  \n",
      " 11  IsActiveMember   10000 non-null  int64  \n",
      " 12  EstimatedSalary  10000 non-null  float64\n",
      " 13  Exited           10000 non-null  int64  \n",
      "dtypes: float64(3), int64(8), object(3)\n",
      "memory usage: 1.1+ MB\n"
     ]
    }
   ],
   "source": [
    "#посмотрим внимательнее на наши данные\n",
    "data.info()"
   ]
  },
  {
   "cell_type": "code",
   "execution_count": 4,
   "metadata": {},
   "outputs": [
    {
     "name": "stdout",
     "output_type": "stream",
     "text": [
      "0\n"
     ]
    }
   ],
   "source": [
    "#найдём количество дубликатов в наших данных\n",
    "print(data.duplicated().sum())"
   ]
  },
  {
   "cell_type": "markdown",
   "metadata": {},
   "source": [
    "Видно, что есть пропуски в столбце Tenure. Количество этих пропусков относительно невелико (примерно 10%), поэтому можем просто удалить строки с этими пропусками. Дубликатов в нащих данных нет."
   ]
  },
  {
   "cell_type": "code",
   "execution_count": 5,
   "metadata": {},
   "outputs": [
    {
     "name": "stdout",
     "output_type": "stream",
     "text": [
      "RowNumber          0\n",
      "CustomerId         0\n",
      "Surname            0\n",
      "CreditScore        0\n",
      "Geography          0\n",
      "Gender             0\n",
      "Age                0\n",
      "Tenure             0\n",
      "Balance            0\n",
      "NumOfProducts      0\n",
      "HasCrCard          0\n",
      "IsActiveMember     0\n",
      "EstimatedSalary    0\n",
      "Exited             0\n",
      "dtype: int64\n"
     ]
    }
   ],
   "source": [
    "#удалим строки с пропусками\n",
    "data_nn = data.dropna(subset=['Tenure'], axis=0)\n",
    "print(data_nn.isnull().sum())"
   ]
  },
  {
   "cell_type": "markdown",
   "metadata": {},
   "source": [
    "Если мы посмотрим на наши данные, то явно столбцы RowNumber (индекс строки в данных), CustomerId (уникальный номер) и Surname (фамилия человека) не будут влиять ни на что, поэтому их нужно удалить."
   ]
  },
  {
   "cell_type": "code",
   "execution_count": 6,
   "metadata": {},
   "outputs": [],
   "source": [
    "data_nn = data_nn.drop(['RowNumber', 'CustomerId', 'Surname'], axis=1)"
   ]
  },
  {
   "cell_type": "markdown",
   "metadata": {},
   "source": [
    "В данных у нас осталось 2 признака Geography (страна проживания) и Gender (пол), которые типа object. Здесь надо использовать OneHot encoding."
   ]
  },
  {
   "cell_type": "code",
   "execution_count": 7,
   "metadata": {},
   "outputs": [],
   "source": [
    "data_nn = pd.get_dummies(data_nn, columns=['Geography', 'Gender'], drop_first=True)"
   ]
  },
  {
   "cell_type": "code",
   "execution_count": 8,
   "metadata": {
    "scrolled": false
   },
   "outputs": [
    {
     "data": {
      "text/html": [
       "<div>\n",
       "<style scoped>\n",
       "    .dataframe tbody tr th:only-of-type {\n",
       "        vertical-align: middle;\n",
       "    }\n",
       "\n",
       "    .dataframe tbody tr th {\n",
       "        vertical-align: top;\n",
       "    }\n",
       "\n",
       "    .dataframe thead th {\n",
       "        text-align: right;\n",
       "    }\n",
       "</style>\n",
       "<table border=\"1\" class=\"dataframe\">\n",
       "  <thead>\n",
       "    <tr style=\"text-align: right;\">\n",
       "      <th></th>\n",
       "      <th>CreditScore</th>\n",
       "      <th>Age</th>\n",
       "      <th>Tenure</th>\n",
       "      <th>Balance</th>\n",
       "      <th>NumOfProducts</th>\n",
       "      <th>HasCrCard</th>\n",
       "      <th>IsActiveMember</th>\n",
       "      <th>EstimatedSalary</th>\n",
       "      <th>Exited</th>\n",
       "      <th>Geography_Germany</th>\n",
       "      <th>Geography_Spain</th>\n",
       "      <th>Gender_Male</th>\n",
       "    </tr>\n",
       "  </thead>\n",
       "  <tbody>\n",
       "    <tr>\n",
       "      <th>0</th>\n",
       "      <td>619</td>\n",
       "      <td>42</td>\n",
       "      <td>2.0</td>\n",
       "      <td>0.00</td>\n",
       "      <td>1</td>\n",
       "      <td>1</td>\n",
       "      <td>1</td>\n",
       "      <td>101348.88</td>\n",
       "      <td>1</td>\n",
       "      <td>0</td>\n",
       "      <td>0</td>\n",
       "      <td>0</td>\n",
       "    </tr>\n",
       "    <tr>\n",
       "      <th>1</th>\n",
       "      <td>608</td>\n",
       "      <td>41</td>\n",
       "      <td>1.0</td>\n",
       "      <td>83807.86</td>\n",
       "      <td>1</td>\n",
       "      <td>0</td>\n",
       "      <td>1</td>\n",
       "      <td>112542.58</td>\n",
       "      <td>0</td>\n",
       "      <td>0</td>\n",
       "      <td>1</td>\n",
       "      <td>0</td>\n",
       "    </tr>\n",
       "    <tr>\n",
       "      <th>2</th>\n",
       "      <td>502</td>\n",
       "      <td>42</td>\n",
       "      <td>8.0</td>\n",
       "      <td>159660.80</td>\n",
       "      <td>3</td>\n",
       "      <td>1</td>\n",
       "      <td>0</td>\n",
       "      <td>113931.57</td>\n",
       "      <td>1</td>\n",
       "      <td>0</td>\n",
       "      <td>0</td>\n",
       "      <td>0</td>\n",
       "    </tr>\n",
       "    <tr>\n",
       "      <th>3</th>\n",
       "      <td>699</td>\n",
       "      <td>39</td>\n",
       "      <td>1.0</td>\n",
       "      <td>0.00</td>\n",
       "      <td>2</td>\n",
       "      <td>0</td>\n",
       "      <td>0</td>\n",
       "      <td>93826.63</td>\n",
       "      <td>0</td>\n",
       "      <td>0</td>\n",
       "      <td>0</td>\n",
       "      <td>0</td>\n",
       "    </tr>\n",
       "    <tr>\n",
       "      <th>4</th>\n",
       "      <td>850</td>\n",
       "      <td>43</td>\n",
       "      <td>2.0</td>\n",
       "      <td>125510.82</td>\n",
       "      <td>1</td>\n",
       "      <td>1</td>\n",
       "      <td>1</td>\n",
       "      <td>79084.10</td>\n",
       "      <td>0</td>\n",
       "      <td>0</td>\n",
       "      <td>1</td>\n",
       "      <td>0</td>\n",
       "    </tr>\n",
       "  </tbody>\n",
       "</table>\n",
       "</div>"
      ],
      "text/plain": [
       "   CreditScore  Age  Tenure    Balance  NumOfProducts  HasCrCard  \\\n",
       "0          619   42     2.0       0.00              1          1   \n",
       "1          608   41     1.0   83807.86              1          0   \n",
       "2          502   42     8.0  159660.80              3          1   \n",
       "3          699   39     1.0       0.00              2          0   \n",
       "4          850   43     2.0  125510.82              1          1   \n",
       "\n",
       "   IsActiveMember  EstimatedSalary  Exited  Geography_Germany  \\\n",
       "0               1        101348.88       1                  0   \n",
       "1               1        112542.58       0                  0   \n",
       "2               0        113931.57       1                  0   \n",
       "3               0         93826.63       0                  0   \n",
       "4               1         79084.10       0                  0   \n",
       "\n",
       "   Geography_Spain  Gender_Male  \n",
       "0                0            0  \n",
       "1                1            0  \n",
       "2                0            0  \n",
       "3                0            0  \n",
       "4                1            0  "
      ]
     },
     "execution_count": 8,
     "metadata": {},
     "output_type": "execute_result"
    }
   ],
   "source": [
    "data_nn.head(5)"
   ]
  },
  {
   "cell_type": "markdown",
   "metadata": {},
   "source": [
    "Все типы признаков обработаны, отброшены столбцы, которые ни на что не будут влиять, использован метод OneHot Encoding."
   ]
  },
  {
   "cell_type": "code",
   "execution_count": 9,
   "metadata": {
    "scrolled": false
   },
   "outputs": [
    {
     "data": {
      "text/html": [
       "<div>\n",
       "<style scoped>\n",
       "    .dataframe tbody tr th:only-of-type {\n",
       "        vertical-align: middle;\n",
       "    }\n",
       "\n",
       "    .dataframe tbody tr th {\n",
       "        vertical-align: top;\n",
       "    }\n",
       "\n",
       "    .dataframe thead th {\n",
       "        text-align: right;\n",
       "    }\n",
       "</style>\n",
       "<table border=\"1\" class=\"dataframe\">\n",
       "  <thead>\n",
       "    <tr style=\"text-align: right;\">\n",
       "      <th></th>\n",
       "      <th>CreditScore</th>\n",
       "      <th>Age</th>\n",
       "      <th>Tenure</th>\n",
       "      <th>Balance</th>\n",
       "      <th>NumOfProducts</th>\n",
       "      <th>HasCrCard</th>\n",
       "      <th>IsActiveMember</th>\n",
       "      <th>EstimatedSalary</th>\n",
       "      <th>Exited</th>\n",
       "      <th>Geography_Germany</th>\n",
       "      <th>Geography_Spain</th>\n",
       "      <th>Gender_Male</th>\n",
       "    </tr>\n",
       "  </thead>\n",
       "  <tbody>\n",
       "    <tr>\n",
       "      <th>CreditScore</th>\n",
       "      <td>1.000000</td>\n",
       "      <td>-0.004504</td>\n",
       "      <td>-0.000062</td>\n",
       "      <td>0.002804</td>\n",
       "      <td>0.011090</td>\n",
       "      <td>-0.003937</td>\n",
       "      <td>0.030947</td>\n",
       "      <td>0.005182</td>\n",
       "      <td>-0.023950</td>\n",
       "      <td>0.000428</td>\n",
       "      <td>0.001725</td>\n",
       "      <td>-0.008547</td>\n",
       "    </tr>\n",
       "    <tr>\n",
       "      <th>Age</th>\n",
       "      <td>-0.004504</td>\n",
       "      <td>1.000000</td>\n",
       "      <td>-0.013134</td>\n",
       "      <td>0.031481</td>\n",
       "      <td>-0.031877</td>\n",
       "      <td>-0.014129</td>\n",
       "      <td>0.082269</td>\n",
       "      <td>-0.007037</td>\n",
       "      <td>0.283017</td>\n",
       "      <td>0.049038</td>\n",
       "      <td>-0.005622</td>\n",
       "      <td>-0.025631</td>\n",
       "    </tr>\n",
       "    <tr>\n",
       "      <th>Tenure</th>\n",
       "      <td>-0.000062</td>\n",
       "      <td>-0.013134</td>\n",
       "      <td>1.000000</td>\n",
       "      <td>-0.007911</td>\n",
       "      <td>0.011979</td>\n",
       "      <td>0.027232</td>\n",
       "      <td>-0.032178</td>\n",
       "      <td>0.010520</td>\n",
       "      <td>-0.016761</td>\n",
       "      <td>-0.003299</td>\n",
       "      <td>0.000810</td>\n",
       "      <td>0.012634</td>\n",
       "    </tr>\n",
       "    <tr>\n",
       "      <th>Balance</th>\n",
       "      <td>0.002804</td>\n",
       "      <td>0.031481</td>\n",
       "      <td>-0.007911</td>\n",
       "      <td>1.000000</td>\n",
       "      <td>-0.301858</td>\n",
       "      <td>-0.019055</td>\n",
       "      <td>-0.003285</td>\n",
       "      <td>0.014351</td>\n",
       "      <td>0.117218</td>\n",
       "      <td>0.401701</td>\n",
       "      <td>-0.136986</td>\n",
       "      <td>0.018030</td>\n",
       "    </tr>\n",
       "    <tr>\n",
       "      <th>NumOfProducts</th>\n",
       "      <td>0.011090</td>\n",
       "      <td>-0.031877</td>\n",
       "      <td>0.011979</td>\n",
       "      <td>-0.301858</td>\n",
       "      <td>1.000000</td>\n",
       "      <td>0.005805</td>\n",
       "      <td>0.009084</td>\n",
       "      <td>0.013990</td>\n",
       "      <td>-0.050271</td>\n",
       "      <td>-0.009476</td>\n",
       "      <td>0.011903</td>\n",
       "      <td>-0.025176</td>\n",
       "    </tr>\n",
       "    <tr>\n",
       "      <th>HasCrCard</th>\n",
       "      <td>-0.003937</td>\n",
       "      <td>-0.014129</td>\n",
       "      <td>0.027232</td>\n",
       "      <td>-0.019055</td>\n",
       "      <td>0.005805</td>\n",
       "      <td>1.000000</td>\n",
       "      <td>-0.008810</td>\n",
       "      <td>-0.006136</td>\n",
       "      <td>-0.005411</td>\n",
       "      <td>0.009149</td>\n",
       "      <td>-0.017779</td>\n",
       "      <td>0.006016</td>\n",
       "    </tr>\n",
       "    <tr>\n",
       "      <th>IsActiveMember</th>\n",
       "      <td>0.030947</td>\n",
       "      <td>0.082269</td>\n",
       "      <td>-0.032178</td>\n",
       "      <td>-0.003285</td>\n",
       "      <td>0.009084</td>\n",
       "      <td>-0.008810</td>\n",
       "      <td>1.000000</td>\n",
       "      <td>-0.020049</td>\n",
       "      <td>-0.155062</td>\n",
       "      <td>-0.016821</td>\n",
       "      <td>0.014800</td>\n",
       "      <td>0.025019</td>\n",
       "    </tr>\n",
       "    <tr>\n",
       "      <th>EstimatedSalary</th>\n",
       "      <td>0.005182</td>\n",
       "      <td>-0.007037</td>\n",
       "      <td>0.010520</td>\n",
       "      <td>0.014351</td>\n",
       "      <td>0.013990</td>\n",
       "      <td>-0.006136</td>\n",
       "      <td>-0.020049</td>\n",
       "      <td>1.000000</td>\n",
       "      <td>0.016029</td>\n",
       "      <td>0.011551</td>\n",
       "      <td>-0.010998</td>\n",
       "      <td>-0.002658</td>\n",
       "    </tr>\n",
       "    <tr>\n",
       "      <th>Exited</th>\n",
       "      <td>-0.023950</td>\n",
       "      <td>0.283017</td>\n",
       "      <td>-0.016761</td>\n",
       "      <td>0.117218</td>\n",
       "      <td>-0.050271</td>\n",
       "      <td>-0.005411</td>\n",
       "      <td>-0.155062</td>\n",
       "      <td>0.016029</td>\n",
       "      <td>1.000000</td>\n",
       "      <td>0.178131</td>\n",
       "      <td>-0.055971</td>\n",
       "      <td>-0.110450</td>\n",
       "    </tr>\n",
       "    <tr>\n",
       "      <th>Geography_Germany</th>\n",
       "      <td>0.000428</td>\n",
       "      <td>0.049038</td>\n",
       "      <td>-0.003299</td>\n",
       "      <td>0.401701</td>\n",
       "      <td>-0.009476</td>\n",
       "      <td>0.009149</td>\n",
       "      <td>-0.016821</td>\n",
       "      <td>0.011551</td>\n",
       "      <td>0.178131</td>\n",
       "      <td>1.000000</td>\n",
       "      <td>-0.332879</td>\n",
       "      <td>-0.023701</td>\n",
       "    </tr>\n",
       "    <tr>\n",
       "      <th>Geography_Spain</th>\n",
       "      <td>0.001725</td>\n",
       "      <td>-0.005622</td>\n",
       "      <td>0.000810</td>\n",
       "      <td>-0.136986</td>\n",
       "      <td>0.011903</td>\n",
       "      <td>-0.017779</td>\n",
       "      <td>0.014800</td>\n",
       "      <td>-0.010998</td>\n",
       "      <td>-0.055971</td>\n",
       "      <td>-0.332879</td>\n",
       "      <td>1.000000</td>\n",
       "      <td>0.015388</td>\n",
       "    </tr>\n",
       "    <tr>\n",
       "      <th>Gender_Male</th>\n",
       "      <td>-0.008547</td>\n",
       "      <td>-0.025631</td>\n",
       "      <td>0.012634</td>\n",
       "      <td>0.018030</td>\n",
       "      <td>-0.025176</td>\n",
       "      <td>0.006016</td>\n",
       "      <td>0.025019</td>\n",
       "      <td>-0.002658</td>\n",
       "      <td>-0.110450</td>\n",
       "      <td>-0.023701</td>\n",
       "      <td>0.015388</td>\n",
       "      <td>1.000000</td>\n",
       "    </tr>\n",
       "  </tbody>\n",
       "</table>\n",
       "</div>"
      ],
      "text/plain": [
       "                   CreditScore       Age    Tenure   Balance  NumOfProducts  \\\n",
       "CreditScore           1.000000 -0.004504 -0.000062  0.002804       0.011090   \n",
       "Age                  -0.004504  1.000000 -0.013134  0.031481      -0.031877   \n",
       "Tenure               -0.000062 -0.013134  1.000000 -0.007911       0.011979   \n",
       "Balance               0.002804  0.031481 -0.007911  1.000000      -0.301858   \n",
       "NumOfProducts         0.011090 -0.031877  0.011979 -0.301858       1.000000   \n",
       "HasCrCard            -0.003937 -0.014129  0.027232 -0.019055       0.005805   \n",
       "IsActiveMember        0.030947  0.082269 -0.032178 -0.003285       0.009084   \n",
       "EstimatedSalary       0.005182 -0.007037  0.010520  0.014351       0.013990   \n",
       "Exited               -0.023950  0.283017 -0.016761  0.117218      -0.050271   \n",
       "Geography_Germany     0.000428  0.049038 -0.003299  0.401701      -0.009476   \n",
       "Geography_Spain       0.001725 -0.005622  0.000810 -0.136986       0.011903   \n",
       "Gender_Male          -0.008547 -0.025631  0.012634  0.018030      -0.025176   \n",
       "\n",
       "                   HasCrCard  IsActiveMember  EstimatedSalary    Exited  \\\n",
       "CreditScore        -0.003937        0.030947         0.005182 -0.023950   \n",
       "Age                -0.014129        0.082269        -0.007037  0.283017   \n",
       "Tenure              0.027232       -0.032178         0.010520 -0.016761   \n",
       "Balance            -0.019055       -0.003285         0.014351  0.117218   \n",
       "NumOfProducts       0.005805        0.009084         0.013990 -0.050271   \n",
       "HasCrCard           1.000000       -0.008810        -0.006136 -0.005411   \n",
       "IsActiveMember     -0.008810        1.000000        -0.020049 -0.155062   \n",
       "EstimatedSalary    -0.006136       -0.020049         1.000000  0.016029   \n",
       "Exited             -0.005411       -0.155062         0.016029  1.000000   \n",
       "Geography_Germany   0.009149       -0.016821         0.011551  0.178131   \n",
       "Geography_Spain    -0.017779        0.014800        -0.010998 -0.055971   \n",
       "Gender_Male         0.006016        0.025019        -0.002658 -0.110450   \n",
       "\n",
       "                   Geography_Germany  Geography_Spain  Gender_Male  \n",
       "CreditScore                 0.000428         0.001725    -0.008547  \n",
       "Age                         0.049038        -0.005622    -0.025631  \n",
       "Tenure                     -0.003299         0.000810     0.012634  \n",
       "Balance                     0.401701        -0.136986     0.018030  \n",
       "NumOfProducts              -0.009476         0.011903    -0.025176  \n",
       "HasCrCard                   0.009149        -0.017779     0.006016  \n",
       "IsActiveMember             -0.016821         0.014800     0.025019  \n",
       "EstimatedSalary             0.011551        -0.010998    -0.002658  \n",
       "Exited                      0.178131        -0.055971    -0.110450  \n",
       "Geography_Germany           1.000000        -0.332879    -0.023701  \n",
       "Geography_Spain            -0.332879         1.000000     0.015388  \n",
       "Gender_Male                -0.023701         0.015388     1.000000  "
      ]
     },
     "execution_count": 9,
     "metadata": {},
     "output_type": "execute_result"
    }
   ],
   "source": [
    "data_nn.corr()"
   ]
  },
  {
   "cell_type": "markdown",
   "metadata": {},
   "source": [
    "## Исследование задачи"
   ]
  },
  {
   "cell_type": "markdown",
   "metadata": {},
   "source": [
    "Разделим данные на тренировочные и валидационные."
   ]
  },
  {
   "cell_type": "code",
   "execution_count": 10,
   "metadata": {},
   "outputs": [],
   "source": [
    "target = data_nn['Exited']\n",
    "features = data_nn.drop('Exited', axis=1)"
   ]
  },
  {
   "cell_type": "code",
   "execution_count": 11,
   "metadata": {},
   "outputs": [],
   "source": [
    "features_train, features_valid_test, target_train, target_valid_test = train_test_split(\n",
    "    features, target, test_size=0.4, random_state=12345)\n",
    "\n",
    "features_valid, features_test, target_valid, target_test = train_test_split(\n",
    "    features_valid_test, target_valid_test, test_size=0.5, random_state=12345)"
   ]
  },
  {
   "cell_type": "code",
   "execution_count": 12,
   "metadata": {},
   "outputs": [
    {
     "data": {
      "text/plain": [
       "(1818, 11)"
      ]
     },
     "execution_count": 12,
     "metadata": {},
     "output_type": "execute_result"
    }
   ],
   "source": [
    "features_valid.shape"
   ]
  },
  {
   "cell_type": "code",
   "execution_count": 13,
   "metadata": {},
   "outputs": [
    {
     "data": {
      "text/plain": [
       "(3637, 11)"
      ]
     },
     "execution_count": 13,
     "metadata": {},
     "output_type": "execute_result"
    }
   ],
   "source": [
    "features_valid_test.shape"
   ]
  },
  {
   "cell_type": "code",
   "execution_count": 14,
   "metadata": {},
   "outputs": [
    {
     "data": {
      "text/plain": [
       "(1818,)"
      ]
     },
     "execution_count": 14,
     "metadata": {},
     "output_type": "execute_result"
    }
   ],
   "source": [
    "target_valid.shape"
   ]
  },
  {
   "cell_type": "code",
   "execution_count": 15,
   "metadata": {},
   "outputs": [
    {
     "data": {
      "text/html": [
       "<div>\n",
       "<style scoped>\n",
       "    .dataframe tbody tr th:only-of-type {\n",
       "        vertical-align: middle;\n",
       "    }\n",
       "\n",
       "    .dataframe tbody tr th {\n",
       "        vertical-align: top;\n",
       "    }\n",
       "\n",
       "    .dataframe thead th {\n",
       "        text-align: right;\n",
       "    }\n",
       "</style>\n",
       "<table border=\"1\" class=\"dataframe\">\n",
       "  <thead>\n",
       "    <tr style=\"text-align: right;\">\n",
       "      <th></th>\n",
       "      <th>CreditScore</th>\n",
       "      <th>Age</th>\n",
       "      <th>Tenure</th>\n",
       "      <th>Balance</th>\n",
       "      <th>NumOfProducts</th>\n",
       "      <th>HasCrCard</th>\n",
       "      <th>IsActiveMember</th>\n",
       "      <th>EstimatedSalary</th>\n",
       "      <th>Exited</th>\n",
       "      <th>Geography_Germany</th>\n",
       "      <th>Geography_Spain</th>\n",
       "      <th>Gender_Male</th>\n",
       "    </tr>\n",
       "  </thead>\n",
       "  <tbody>\n",
       "    <tr>\n",
       "      <th>count</th>\n",
       "      <td>9091.000000</td>\n",
       "      <td>9091.000000</td>\n",
       "      <td>9091.000000</td>\n",
       "      <td>9091.000000</td>\n",
       "      <td>9091.000000</td>\n",
       "      <td>9091.000000</td>\n",
       "      <td>9091.000000</td>\n",
       "      <td>9091.000000</td>\n",
       "      <td>9091.000000</td>\n",
       "      <td>9091.000000</td>\n",
       "      <td>9091.000000</td>\n",
       "      <td>9091.000000</td>\n",
       "    </tr>\n",
       "    <tr>\n",
       "      <th>mean</th>\n",
       "      <td>650.736553</td>\n",
       "      <td>38.949181</td>\n",
       "      <td>4.997690</td>\n",
       "      <td>76522.740015</td>\n",
       "      <td>1.530195</td>\n",
       "      <td>0.704983</td>\n",
       "      <td>0.515565</td>\n",
       "      <td>100181.214924</td>\n",
       "      <td>0.203938</td>\n",
       "      <td>0.252227</td>\n",
       "      <td>0.247278</td>\n",
       "      <td>0.547135</td>\n",
       "    </tr>\n",
       "    <tr>\n",
       "      <th>std</th>\n",
       "      <td>96.410471</td>\n",
       "      <td>10.555581</td>\n",
       "      <td>2.894723</td>\n",
       "      <td>62329.528576</td>\n",
       "      <td>0.581003</td>\n",
       "      <td>0.456076</td>\n",
       "      <td>0.499785</td>\n",
       "      <td>57624.755647</td>\n",
       "      <td>0.402946</td>\n",
       "      <td>0.434315</td>\n",
       "      <td>0.431453</td>\n",
       "      <td>0.497801</td>\n",
       "    </tr>\n",
       "    <tr>\n",
       "      <th>min</th>\n",
       "      <td>350.000000</td>\n",
       "      <td>18.000000</td>\n",
       "      <td>0.000000</td>\n",
       "      <td>0.000000</td>\n",
       "      <td>1.000000</td>\n",
       "      <td>0.000000</td>\n",
       "      <td>0.000000</td>\n",
       "      <td>11.580000</td>\n",
       "      <td>0.000000</td>\n",
       "      <td>0.000000</td>\n",
       "      <td>0.000000</td>\n",
       "      <td>0.000000</td>\n",
       "    </tr>\n",
       "    <tr>\n",
       "      <th>25%</th>\n",
       "      <td>584.000000</td>\n",
       "      <td>32.000000</td>\n",
       "      <td>2.000000</td>\n",
       "      <td>0.000000</td>\n",
       "      <td>1.000000</td>\n",
       "      <td>0.000000</td>\n",
       "      <td>0.000000</td>\n",
       "      <td>51227.745000</td>\n",
       "      <td>0.000000</td>\n",
       "      <td>0.000000</td>\n",
       "      <td>0.000000</td>\n",
       "      <td>0.000000</td>\n",
       "    </tr>\n",
       "    <tr>\n",
       "      <th>50%</th>\n",
       "      <td>652.000000</td>\n",
       "      <td>37.000000</td>\n",
       "      <td>5.000000</td>\n",
       "      <td>97318.250000</td>\n",
       "      <td>1.000000</td>\n",
       "      <td>1.000000</td>\n",
       "      <td>1.000000</td>\n",
       "      <td>100240.200000</td>\n",
       "      <td>0.000000</td>\n",
       "      <td>0.000000</td>\n",
       "      <td>0.000000</td>\n",
       "      <td>1.000000</td>\n",
       "    </tr>\n",
       "    <tr>\n",
       "      <th>75%</th>\n",
       "      <td>717.000000</td>\n",
       "      <td>44.000000</td>\n",
       "      <td>7.000000</td>\n",
       "      <td>127561.890000</td>\n",
       "      <td>2.000000</td>\n",
       "      <td>1.000000</td>\n",
       "      <td>1.000000</td>\n",
       "      <td>149567.210000</td>\n",
       "      <td>0.000000</td>\n",
       "      <td>1.000000</td>\n",
       "      <td>0.000000</td>\n",
       "      <td>1.000000</td>\n",
       "    </tr>\n",
       "    <tr>\n",
       "      <th>max</th>\n",
       "      <td>850.000000</td>\n",
       "      <td>92.000000</td>\n",
       "      <td>10.000000</td>\n",
       "      <td>250898.090000</td>\n",
       "      <td>4.000000</td>\n",
       "      <td>1.000000</td>\n",
       "      <td>1.000000</td>\n",
       "      <td>199992.480000</td>\n",
       "      <td>1.000000</td>\n",
       "      <td>1.000000</td>\n",
       "      <td>1.000000</td>\n",
       "      <td>1.000000</td>\n",
       "    </tr>\n",
       "  </tbody>\n",
       "</table>\n",
       "</div>"
      ],
      "text/plain": [
       "       CreditScore          Age       Tenure        Balance  NumOfProducts  \\\n",
       "count  9091.000000  9091.000000  9091.000000    9091.000000    9091.000000   \n",
       "mean    650.736553    38.949181     4.997690   76522.740015       1.530195   \n",
       "std      96.410471    10.555581     2.894723   62329.528576       0.581003   \n",
       "min     350.000000    18.000000     0.000000       0.000000       1.000000   \n",
       "25%     584.000000    32.000000     2.000000       0.000000       1.000000   \n",
       "50%     652.000000    37.000000     5.000000   97318.250000       1.000000   \n",
       "75%     717.000000    44.000000     7.000000  127561.890000       2.000000   \n",
       "max     850.000000    92.000000    10.000000  250898.090000       4.000000   \n",
       "\n",
       "         HasCrCard  IsActiveMember  EstimatedSalary       Exited  \\\n",
       "count  9091.000000     9091.000000      9091.000000  9091.000000   \n",
       "mean      0.704983        0.515565    100181.214924     0.203938   \n",
       "std       0.456076        0.499785     57624.755647     0.402946   \n",
       "min       0.000000        0.000000        11.580000     0.000000   \n",
       "25%       0.000000        0.000000     51227.745000     0.000000   \n",
       "50%       1.000000        1.000000    100240.200000     0.000000   \n",
       "75%       1.000000        1.000000    149567.210000     0.000000   \n",
       "max       1.000000        1.000000    199992.480000     1.000000   \n",
       "\n",
       "       Geography_Germany  Geography_Spain  Gender_Male  \n",
       "count        9091.000000      9091.000000  9091.000000  \n",
       "mean            0.252227         0.247278     0.547135  \n",
       "std             0.434315         0.431453     0.497801  \n",
       "min             0.000000         0.000000     0.000000  \n",
       "25%             0.000000         0.000000     0.000000  \n",
       "50%             0.000000         0.000000     1.000000  \n",
       "75%             1.000000         0.000000     1.000000  \n",
       "max             1.000000         1.000000     1.000000  "
      ]
     },
     "execution_count": 15,
     "metadata": {},
     "output_type": "execute_result"
    }
   ],
   "source": [
    "data_nn.describe()"
   ]
  },
  {
   "cell_type": "code",
   "execution_count": 16,
   "metadata": {},
   "outputs": [],
   "source": [
    "#выделим признаки, которые нужно масштабировать\n",
    "numeric = ['CreditScore', 'Age', 'Tenure', 'Balance', 'EstimatedSalary', 'NumOfProducts']"
   ]
  },
  {
   "cell_type": "code",
   "execution_count": 17,
   "metadata": {},
   "outputs": [],
   "source": [
    "#добавим, чтобы не было ошибки\n",
    "pd.options.mode.chained_assignment = None\n",
    "\n",
    "scaler = StandardScaler()\n",
    "scaler.fit(features_train[numeric])\n",
    "features_train[numeric] = scaler.transform(features_train[numeric])\n",
    "features_valid[numeric] = scaler.transform(features_valid[numeric])\n",
    "features_test[numeric] = scaler.transform(features_test[numeric])"
   ]
  },
  {
   "cell_type": "code",
   "execution_count": 18,
   "metadata": {},
   "outputs": [
    {
     "name": "stdout",
     "output_type": "stream",
     "text": [
      "[0.7960620393796062, 0.2039379606203938]\n"
     ]
    }
   ],
   "source": [
    "#теперь проверим на сбалинсированность 2 класса в target\n",
    "class_rate = list(data_nn['Exited'].value_counts(normalize=True))\n",
    "print(class_rate)"
   ]
  },
  {
   "cell_type": "markdown",
   "metadata": {},
   "source": [
    "Мы видим, что имеется явный дисбаланс в сторону 0 класса. Его значений примерно в 4 раза больше, чем другого класса."
   ]
  },
  {
   "cell_type": "markdown",
   "metadata": {},
   "source": [
    "Исследуем модели без учёта дисбаланса классов."
   ]
  },
  {
   "cell_type": "markdown",
   "metadata": {},
   "source": [
    "**Logistic Regression**"
   ]
  },
  {
   "cell_type": "code",
   "execution_count": 19,
   "metadata": {},
   "outputs": [],
   "source": [
    "model_lr = LogisticRegression(random_state=12345, solver='liblinear')\n",
    "model_lr.fit(features_train, target_train)\n",
    "\n",
    "predicted_valid_lr = model_lr.predict(features_valid)"
   ]
  },
  {
   "cell_type": "code",
   "execution_count": 20,
   "metadata": {},
   "outputs": [],
   "source": [
    "probabilities_valid_lr = model_lr.predict_proba(features_valid)\n",
    "probabilities_one_valid_lr = probabilities_valid_lr[:, 1]\n",
    "auc_roc = roc_auc_score(target_valid, probabilities_one_valid_lr)"
   ]
  },
  {
   "cell_type": "code",
   "execution_count": 21,
   "metadata": {},
   "outputs": [
    {
     "name": "stdout",
     "output_type": "stream",
     "text": [
      "Для валидационной выборки\n",
      "F1: 0.30400000000000005\n",
      "Accuracy: 0.8085808580858086\n",
      "AUC_ROC: 0.7736191158144302\n"
     ]
    }
   ],
   "source": [
    "print('Для валидационной выборки')\n",
    "print('F1:', f1_score(target_valid, predicted_valid_lr))\n",
    "print('Accuracy:', accuracy_score(predicted_valid_lr, target_valid))\n",
    "print('AUC_ROC:', auc_roc)"
   ]
  },
  {
   "cell_type": "code",
   "execution_count": 22,
   "metadata": {
    "scrolled": true
   },
   "outputs": [
    {
     "data": {
      "image/png": "[encoded data removed]",
      "text/plain": [
       "<Figure size 864x576 with 1 Axes>"
      ]
     },
     "metadata": {
      "needs_background": "light"
     },
     "output_type": "display_data"
    }
   ],
   "source": [
    "#построим кривую ROC\n",
    "fpr, tpr, thresholds = roc_curve(target_valid, probabilities_one_valid_lr) \n",
    "plt.figure(figsize=(12,8))\n",
    "\n",
    "plt.plot(fpr, tpr)\n",
    "# ROC-кривая случайной модели (выглядит как прямая)\n",
    "plt.plot([0, 1], [0, 1], linestyle='--')\n",
    "\n",
    "plt.xlim(0, 1)\n",
    "plt.ylim(0, 1)\n",
    "\n",
    "plt.xlabel('False Positive Rate')\n",
    "plt.ylabel('True Positive Rate')\n",
    "\n",
    "plt.title('ROC-кривая для модели Logistic Regression')\n",
    "plt.show()"
   ]
  },
  {
   "cell_type": "markdown",
   "metadata": {},
   "source": [
    "**Random Forest**"
   ]
  },
  {
   "cell_type": "code",
   "execution_count": 23,
   "metadata": {
    "scrolled": true
   },
   "outputs": [
    {
     "name": "stderr",
     "output_type": "stream",
     "text": [
      "100%|██████████| 10/10 [01:07<00:00,  6.75s/it]"
     ]
    },
    {
     "name": "stdout",
     "output_type": "stream",
     "text": [
      "Лучшая глубина: 17 Лучшее количество деревьев: 100\n",
      "F1: 0.5986842105263158\n",
      "Accuracy: 0.8657865786578658\n",
      "AUC ROC: 0.8632764971275104\n"
     ]
    },
    {
     "name": "stderr",
     "output_type": "stream",
     "text": [
      "\n"
     ]
    }
   ],
   "source": [
    "best_score = 0\n",
    "\n",
    "for n_est in tqdm(range(10, 101, 10)):\n",
    "    for depth in range(1, 21):\n",
    "        model_rf = RandomForestClassifier(\n",
    "            n_estimators=n_est, max_depth=depth, random_state=12345)\n",
    "        model_rf.fit(features_train, target_train)\n",
    "        predicted_valid_rf = model_rf.predict(features_valid)\n",
    "        probabilities_valid_rf = model_rf.predict_proba(features_valid)\n",
    "        probabilities_one_valid_rf = probabilities_valid_rf[:, 1]\n",
    "        \n",
    "        score = model_rf.score(features_valid, target_valid)\n",
    "        score_f1 = f1_score(target_valid, predicted_valid_rf)\n",
    "        auc_roc = roc_auc_score(target_valid, probabilities_one_valid_rf)\n",
    "        \n",
    "        if score_f1 > best_score:\n",
    "            best_model_rf = model_rf\n",
    "            best_score = score_f1\n",
    "            best_depth = depth\n",
    "            best_n_est = n_est\n",
    "            best_accuracy = score\n",
    "            best_auc_roc = auc_roc\n",
    "        \n",
    "print('Лучшая глубина:', best_depth, 'Лучшее количество деревьев:', n_est)\n",
    "print('F1:', best_score)\n",
    "print('Accuracy:', best_accuracy)\n",
    "print('AUC ROC:', best_auc_roc)"
   ]
  },
  {
   "cell_type": "code",
   "execution_count": 24,
   "metadata": {
    "scrolled": true
   },
   "outputs": [
    {
     "data": {
      "image/png": "[encoded data removed]",
      "text/plain": [
       "<Figure size 864x576 with 1 Axes>"
      ]
     },
     "metadata": {
      "needs_background": "light"
     },
     "output_type": "display_data"
    }
   ],
   "source": [
    "#построим кривую ROC\n",
    "fpr, tpr, thresholds = roc_curve(target_valid, probabilities_one_valid_rf) \n",
    "plt.figure(figsize=(12,8))\n",
    "\n",
    "plt.plot(fpr, tpr)\n",
    "# ROC-кривая случайной модели (выглядит как прямая)\n",
    "plt.plot([0, 1], [0, 1], linestyle='--')\n",
    "\n",
    "plt.xlim(0, 1)\n",
    "plt.ylim(0, 1)\n",
    "\n",
    "plt.xlabel('False Positive Rate')\n",
    "plt.ylabel('True Positive Rate')\n",
    "\n",
    "plt.title('ROC-кривая для модели Random Forest')\n",
    "plt.show()"
   ]
  },
  {
   "cell_type": "markdown",
   "metadata": {},
   "source": [
    "**Decision Tree**"
   ]
  },
  {
   "cell_type": "code",
   "execution_count": 26,
   "metadata": {
    "scrolled": true
   },
   "outputs": [
    {
     "name": "stdout",
     "output_type": "stream",
     "text": [
      "Лучшая глубина: 6 Лучший критерий: entropy\n",
      "F1: 0.5785953177257526\n",
      "Accuracy: 0.8613861386138614\n",
      "AUC ROC: 0.8424438157262585\n"
     ]
    }
   ],
   "source": [
    "best_score = 0\n",
    "\n",
    "for depth in range(1, 51):\n",
    "    for cri in ['entropy', 'gini']:\n",
    "        model_dt = DecisionTreeClassifier(\n",
    "            max_depth=depth, criterion=cri)\n",
    "        \n",
    "        model_dt.fit(features_train, target_train)\n",
    "        predicted_valid_dt = model_dt.predict(features_valid)\n",
    "        probabilities_valid_dt = model_dt.predict_proba(features_valid)\n",
    "        probabilities_one_valid_dt = probabilities_valid_dt[:, 1]\n",
    "        \n",
    "        score = model_dt.score(features_valid, target_valid)\n",
    "        score_f1 = f1_score(target_valid, predicted_valid_dt)\n",
    "        auc_roc = roc_auc_score(target_valid, probabilities_one_valid_dt)\n",
    "        \n",
    "        if score_f1 > best_score:\n",
    "            best_model_dt = model_dt\n",
    "            best_score = score_f1\n",
    "            best_depth = depth\n",
    "            best_criterion = cri\n",
    "            best_accuracy = score\n",
    "            best_auc_roc = auc_roc\n",
    "\n",
    "print('Лучшая глубина:', best_depth, 'Лучший критерий:', best_criterion)\n",
    "print('F1:', best_score)\n",
    "print('Accuracy:', best_accuracy)\n",
    "print('AUC ROC:', best_auc_roc)        "
   ]
  },
  {
   "cell_type": "code",
   "execution_count": 27,
   "metadata": {
    "scrolled": true
   },
   "outputs": [
    {
     "data": {
      "image/png": "[encoded data removed]",
      "text/plain": [
       "<Figure size 864x576 with 1 Axes>"
      ]
     },
     "metadata": {
      "needs_background": "light"
     },
     "output_type": "display_data"
    }
   ],
   "source": [
    "#построим кривую ROC\n",
    "fpr, tpr, thresholds = roc_curve(target_valid, probabilities_one_valid_dt) \n",
    "plt.figure(figsize=(12,8))\n",
    "\n",
    "plt.plot(fpr, tpr)\n",
    "# ROC-кривая случайной модели (выглядит как прямая)\n",
    "plt.plot([0, 1], [0, 1], linestyle='--')\n",
    "\n",
    "plt.xlim(0, 1)\n",
    "plt.ylim(0, 1)\n",
    "\n",
    "plt.xlabel('False Positive Rate')\n",
    "plt.ylabel('True Positive Rate')\n",
    "\n",
    "plt.title('ROC-кривая для модели Random Forest')\n",
    "plt.show()"
   ]
  },
  {
   "cell_type": "markdown",
   "metadata": {},
   "source": [
    "Без учёта дисбаланса классов были обучены 3 модели Logistic regression, Random forest и Decision Tree. Наилучшее значение метрики F1 достигается для Random Forest (0.60, лучшая точность также у модели Random Forest (0.87), как и значение AUC ROC: 0.86. Все эти значения получены на валидационной выборке.\n",
    "\n",
    "Значения всех этих параметров на тестовой выборке получились ниже, чем на валидационной. Лучшие результаты вновь достигаются на модели Random Forest.\n",
    "\n",
    "Наилучшие значения параметров модели Random Forest: наилучшая глубина = 17, наилучшее количество деревьев = 100."
   ]
  },
  {
   "cell_type": "markdown",
   "metadata": {},
   "source": [
    "## Борьба с дисбалансом"
   ]
  },
  {
   "cell_type": "markdown",
   "metadata": {},
   "source": [
    "Существует 2 пути решения проблемы с дисбалансом классов:\n",
    "* upsampling\n",
    "* downsampling"
   ]
  },
  {
   "cell_type": "markdown",
   "metadata": {},
   "source": [
    "**Upsampling**"
   ]
  },
  {
   "cell_type": "code",
   "execution_count": 28,
   "metadata": {},
   "outputs": [],
   "source": [
    "def upsample(features, target, repeat):\n",
    "    features_zeros = features[target == 0]\n",
    "    features_ones = features[target == 1]\n",
    "    target_zeros = target[target == 0]\n",
    "    target_ones = target[target == 1]\n",
    "\n",
    "    features_upsampled = pd.concat([features_zeros] + [features_ones] * repeat)\n",
    "    target_upsampled = pd.concat([target_zeros] + [target_ones] * repeat)\n",
    "    \n",
    "    features_upsampled, target_upsampled = shuffle(\n",
    "        features_upsampled, target_upsampled, random_state=12345)\n",
    "    \n",
    "    return features_upsampled, target_upsampled"
   ]
  },
  {
   "cell_type": "code",
   "execution_count": 29,
   "metadata": {},
   "outputs": [],
   "source": [
    "features_train_upsampled, target_train_upsampled = upsample(\n",
    "    features_train, target_train, math.ceil(class_rate[0]/class_rate[1]))"
   ]
  },
  {
   "cell_type": "markdown",
   "metadata": {},
   "source": [
    "**Logistic Regression**"
   ]
  },
  {
   "cell_type": "code",
   "execution_count": 30,
   "metadata": {},
   "outputs": [],
   "source": [
    "model_lr_up = LogisticRegression(random_state=12345, solver='liblinear', class_weight='balanced')\n",
    "model_lr_up.fit(features_train_upsampled, target_train_upsampled)\n",
    "predicted_valid_lr_up = model_lr_up.predict(features_valid)\n",
    "\n",
    "probabilities_valid_lr_up = model_lr_up.predict_proba(features_valid)\n",
    "probabilities_one_valid_lr_up = probabilities_valid_lr_up[:, 1]\n",
    "auc_roc = roc_auc_score(target_valid, probabilities_one_valid_lr_up)"
   ]
  },
  {
   "cell_type": "code",
   "execution_count": 31,
   "metadata": {},
   "outputs": [
    {
     "name": "stdout",
     "output_type": "stream",
     "text": [
      "Для валидационной выборки\n",
      "F1: 0.509731232622799\n",
      "Accuracy: 0.7090209020902091\n",
      "AUC_ROC: 0.7777552797294834\n"
     ]
    }
   ],
   "source": [
    "print('Для валидационной выборки')\n",
    "print('F1:', f1_score(target_valid, predicted_valid_lr_up))\n",
    "print('Accuracy:', accuracy_score(predicted_valid_lr_up, target_valid))\n",
    "print('AUC_ROC:', auc_roc)"
   ]
  },
  {
   "cell_type": "code",
   "execution_count": 32,
   "metadata": {
    "scrolled": true
   },
   "outputs": [
    {
     "data": {
      "image/png": "[encoded data removed]",
      "text/plain": [
       "<Figure size 864x576 with 1 Axes>"
      ]
     },
     "metadata": {
      "needs_background": "light"
     },
     "output_type": "display_data"
    }
   ],
   "source": [
    "#построим кривую ROC\n",
    "fpr, tpr, thresholds = roc_curve(target_valid, probabilities_one_valid_lr_up) \n",
    "plt.figure(figsize=(12,8))\n",
    "\n",
    "plt.plot(fpr, tpr)\n",
    "# ROC-кривая случайной модели (выглядит как прямая)\n",
    "plt.plot([0, 1], [0, 1], linestyle='--')\n",
    "\n",
    "plt.xlim(0, 1)\n",
    "plt.ylim(0, 1)\n",
    "\n",
    "plt.xlabel('False Positive Rate')\n",
    "plt.ylabel('True Positive Rate')\n",
    "\n",
    "plt.title('ROC-кривая для модели Logistic Regression upsampled')\n",
    "plt.show()"
   ]
  },
  {
   "cell_type": "markdown",
   "metadata": {},
   "source": [
    "**Random Forest**"
   ]
  },
  {
   "cell_type": "code",
   "execution_count": 33,
   "metadata": {},
   "outputs": [
    {
     "name": "stderr",
     "output_type": "stream",
     "text": [
      "100%|██████████| 10/10 [01:28<00:00,  8.90s/it]"
     ]
    },
    {
     "name": "stdout",
     "output_type": "stream",
     "text": [
      "Лучшая глубина: 14 Лучшее количество деревьев: 100\n",
      "F1: 0.6395663956639566\n",
      "Accuracy: 0.8536853685368537\n",
      "AUC ROC: 0.8614035346070091\n"
     ]
    },
    {
     "name": "stderr",
     "output_type": "stream",
     "text": [
      "\n"
     ]
    }
   ],
   "source": [
    "best_score = 0\n",
    "\n",
    "for n_est in tqdm(range(10, 101, 10)):\n",
    "    for depth in range(1, 21):\n",
    "        model_rf = RandomForestClassifier(\n",
    "            n_estimators=n_est, max_depth=depth, random_state=12345)\n",
    "        model_rf.fit(features_train_upsampled, target_train_upsampled)\n",
    "        predicted_valid_rf_up = model_rf.predict(features_valid)\n",
    "        probabilities_valid_rf_up = model_rf.predict_proba(features_valid)\n",
    "        probabilities_one_valid_rf_up = probabilities_valid_rf_up[:, 1]\n",
    "        \n",
    "        score = model_rf.score(features_valid, target_valid)\n",
    "        score_f1 = f1_score(target_valid, predicted_valid_rf_up)\n",
    "        auc_roc = roc_auc_score(target_valid, probabilities_one_valid_rf_up)\n",
    "        \n",
    "        if score_f1 > best_score:\n",
    "            best_model_rf_up = model_rf\n",
    "            best_score = score_f1\n",
    "            best_depth = depth\n",
    "            best_n_est = n_est\n",
    "            best_accuracy = score\n",
    "            best_auc_roc = auc_roc\n",
    "        \n",
    "print('Лучшая глубина:', best_depth, 'Лучшее количество деревьев:', n_est)\n",
    "print('F1:', best_score)\n",
    "print('Accuracy:', best_accuracy)\n",
    "print('AUC ROC:', best_auc_roc)"
   ]
  },
  {
   "cell_type": "code",
   "execution_count": 34,
   "metadata": {},
   "outputs": [
    {
     "data": {
      "image/png": "[encoded data removed]",
      "text/plain": [
       "<Figure size 864x576 with 1 Axes>"
      ]
     },
     "metadata": {
      "needs_background": "light"
     },
     "output_type": "display_data"
    }
   ],
   "source": [
    "#построим кривую ROC\n",
    "fpr, tpr, thresholds = roc_curve(target_valid, probabilities_one_valid_rf_up) \n",
    "plt.figure(figsize=(12,8))\n",
    "\n",
    "plt.plot(fpr, tpr)\n",
    "# ROC-кривая случайной модели (выглядит как прямая)\n",
    "plt.plot([0, 1], [0, 1], linestyle='--')\n",
    "\n",
    "plt.xlim(0, 1)\n",
    "plt.ylim(0, 1)\n",
    "\n",
    "plt.xlabel('False Positive Rate')\n",
    "plt.ylabel('True Positive Rate')\n",
    "\n",
    "plt.title('ROC-кривая для модели Random Forest upsampled')\n",
    "plt.show()"
   ]
  },
  {
   "cell_type": "markdown",
   "metadata": {},
   "source": [
    "**Decision Tree**"
   ]
  },
  {
   "cell_type": "code",
   "execution_count": 36,
   "metadata": {},
   "outputs": [
    {
     "name": "stdout",
     "output_type": "stream",
     "text": [
      "Лучшая глубина: 5 Лучший критерий: gini\n",
      "F1: 0.5735449735449736\n",
      "Accuracy: 0.7783278327832783\n",
      "AUC ROC: 0.8396523192522141\n"
     ]
    }
   ],
   "source": [
    "best_score = 0\n",
    "\n",
    "for depth in range(1, 51):\n",
    "    for cri in ['entropy', 'gini']:\n",
    "        model_dt = DecisionTreeClassifier(\n",
    "            max_depth=depth, criterion=cri)\n",
    "        \n",
    "        model_dt.fit(features_train_upsampled, target_train_upsampled)\n",
    "        predicted_valid_dt_up = model_dt.predict(features_valid)\n",
    "        probabilities_valid_dt_up = model_dt.predict_proba(features_valid)\n",
    "        probabilities_one_valid_dt_up = probabilities_valid_dt_up[:, 1]\n",
    "        \n",
    "        score = model_dt.score(features_valid, target_valid)\n",
    "        score_f1 = f1_score(target_valid, predicted_valid_dt_up)\n",
    "        auc_roc = roc_auc_score(target_valid, probabilities_one_valid_dt_up)\n",
    "        \n",
    "        if score_f1 > best_score:\n",
    "            best_model_dt_up = model_dt\n",
    "            best_score = score_f1\n",
    "            best_depth = depth\n",
    "            best_criterion = cri\n",
    "            best_accuracy = score\n",
    "            best_auc_roc = auc_roc\n",
    "\n",
    "print('Лучшая глубина:', best_depth, 'Лучший критерий:', best_criterion)\n",
    "print('F1:', best_score)\n",
    "print('Accuracy:', best_accuracy)\n",
    "print('AUC ROC:', best_auc_roc)  "
   ]
  },
  {
   "cell_type": "code",
   "execution_count": 37,
   "metadata": {},
   "outputs": [
    {
     "data": {
      "image/png": "[encoded data removed]",
      "text/plain": [
       "<Figure size 864x576 with 1 Axes>"
      ]
     },
     "metadata": {
      "needs_background": "light"
     },
     "output_type": "display_data"
    }
   ],
   "source": [
    "#построим кривую ROC\n",
    "fpr, tpr, thresholds = roc_curve(target_valid, probabilities_one_valid_dt_up) \n",
    "plt.figure(figsize=(12,8))\n",
    "\n",
    "plt.plot(fpr, tpr)\n",
    "# ROC-кривая случайной модели (выглядит как прямая)\n",
    "plt.plot([0, 1], [0, 1], linestyle='--')\n",
    "\n",
    "plt.xlim(0, 1)\n",
    "plt.ylim(0, 1)\n",
    "\n",
    "plt.xlabel('False Positive Rate')\n",
    "plt.ylabel('True Positive Rate')\n",
    "\n",
    "plt.title('ROC-кривая для модели Random Forest upsampled')\n",
    "plt.show()"
   ]
  },
  {
   "cell_type": "markdown",
   "metadata": {},
   "source": [
    "**Downsampling**"
   ]
  },
  {
   "cell_type": "code",
   "execution_count": 38,
   "metadata": {},
   "outputs": [],
   "source": [
    "def downsample(features, target, fraction):\n",
    "    \n",
    "    features_zeros = features[target == 0]\n",
    "    features_ones = features[target == 1]\n",
    "    target_zeros = target[target == 0]\n",
    "    target_ones = target[target == 1]\n",
    "    \n",
    "    features_downsampled = pd.concat(\n",
    "        [features_zeros.sample(frac=fraction, random_state=13245)]\n",
    "        + [features_ones])\n",
    "    target_downsampled = pd.concat(\n",
    "        [target_zeros.sample(frac=fraction, random_state=12345)]\n",
    "        + [target_ones])\n",
    "    \n",
    "    features_downsampled, target_downsampled = shuffle(\n",
    "        features_downsampled, target_downsampled, random_state=12345)\n",
    "    \n",
    "    return features_downsampled, target_downsampled"
   ]
  },
  {
   "cell_type": "code",
   "execution_count": 39,
   "metadata": {},
   "outputs": [],
   "source": [
    "features_train_downsampled, target_train_downsampled = downsample(\n",
    "    features_train, target_train, class_rate[1]/class_rate[0])"
   ]
  },
  {
   "cell_type": "markdown",
   "metadata": {},
   "source": [
    "**Logistic Regression**"
   ]
  },
  {
   "cell_type": "code",
   "execution_count": 40,
   "metadata": {},
   "outputs": [],
   "source": [
    "model_lr_down = LogisticRegression(random_state=12345, solver='liblinear', class_weight='balanced')\n",
    "model_lr_down.fit(features_train_downsampled, target_train_downsampled)\n",
    "predicted_valid_lr_down = model_lr_down.predict(features_valid)\n",
    "\n",
    "probabilities_valid_lr_down = model_lr_down.predict_proba(features_valid)\n",
    "probabilities_one_valid_lr_down = probabilities_valid_lr_down[:, 1]\n",
    "auc_roc = roc_auc_score(target_valid, probabilities_one_valid_lr_down)"
   ]
  },
  {
   "cell_type": "code",
   "execution_count": 41,
   "metadata": {
    "scrolled": true
   },
   "outputs": [
    {
     "name": "stdout",
     "output_type": "stream",
     "text": [
      "Для валидационной выборки\n",
      "F1: 0.5050691244239632\n",
      "Accuracy: 0.7046204620462047\n",
      "AUC_ROC: 0.7811901181208893\n"
     ]
    }
   ],
   "source": [
    "print('Для валидационной выборки')\n",
    "print('F1:', f1_score(target_valid, predicted_valid_lr_down))\n",
    "print('Accuracy:', accuracy_score(predicted_valid_lr_down, target_valid))\n",
    "print('AUC_ROC:', auc_roc)"
   ]
  },
  {
   "cell_type": "code",
   "execution_count": 42,
   "metadata": {
    "scrolled": true
   },
   "outputs": [
    {
     "data": {
      "image/png": "[encoded data removed]",
      "text/plain": [
       "<Figure size 864x576 with 1 Axes>"
      ]
     },
     "metadata": {
      "needs_background": "light"
     },
     "output_type": "display_data"
    }
   ],
   "source": [
    "#построим кривую ROC\n",
    "fpr, tpr, thresholds = roc_curve(target_valid, probabilities_one_valid_lr_down) \n",
    "plt.figure(figsize=(12,8))\n",
    "\n",
    "plt.plot(fpr, tpr)\n",
    "# ROC-кривая случайной модели (выглядит как прямая)\n",
    "plt.plot([0, 1], [0, 1], linestyle='--')\n",
    "\n",
    "plt.xlim(0, 1)\n",
    "plt.ylim(0, 1)\n",
    "\n",
    "plt.xlabel('False Positive Rate')\n",
    "plt.ylabel('True Positive Rate')\n",
    "\n",
    "plt.title('ROC-кривая для модели Logistic Regression downsampled')\n",
    "plt.show()"
   ]
  },
  {
   "cell_type": "markdown",
   "metadata": {},
   "source": [
    "**Random Forest**"
   ]
  },
  {
   "cell_type": "code",
   "execution_count": 43,
   "metadata": {},
   "outputs": [
    {
     "name": "stderr",
     "output_type": "stream",
     "text": [
      "100%|██████████| 10/10 [00:44<00:00,  4.44s/it]"
     ]
    },
    {
     "name": "stdout",
     "output_type": "stream",
     "text": [
      "Лучшая глубина: 10 Лучшее количество деревьев: 100\n",
      "F1: 0.6077235772357724\n",
      "Accuracy: 0.7876787678767877\n",
      "AUC ROC: 0.8661535884489293\n"
     ]
    },
    {
     "name": "stderr",
     "output_type": "stream",
     "text": [
      "\n"
     ]
    }
   ],
   "source": [
    "best_score = 0\n",
    "\n",
    "for n_est in tqdm(range(10, 101, 10)):\n",
    "    for depth in range(1, 21):\n",
    "        model_rf = RandomForestClassifier(\n",
    "            n_estimators=n_est, max_depth=depth, random_state=12345)\n",
    "        model_rf.fit(features_train_downsampled, target_train_downsampled)\n",
    "        predicted_valid_rf_down = model_rf.predict(features_valid)\n",
    "        probabilities_valid_rf_down = model_rf.predict_proba(features_valid)\n",
    "        probabilities_one_valid_rf_down = probabilities_valid_rf_down[:, 1]\n",
    "        \n",
    "        score = model_rf.score(features_valid, target_valid)\n",
    "        score_f1 = f1_score(target_valid, predicted_valid_rf_down)\n",
    "        auc_roc = roc_auc_score(target_valid, probabilities_one_valid_rf_down)\n",
    "        \n",
    "        if score_f1 > best_score:\n",
    "            best_model_rf_down = model_rf\n",
    "            best_score = score_f1\n",
    "            best_depth = depth\n",
    "            best_n_est = n_est\n",
    "            best_accuracy = score\n",
    "            best_auc_roc = auc_roc\n",
    "        \n",
    "print('Лучшая глубина:', best_depth, 'Лучшее количество деревьев:', n_est)\n",
    "print('F1:', best_score)\n",
    "print('Accuracy:', best_accuracy)\n",
    "print('AUC ROC:', best_auc_roc)"
   ]
  },
  {
   "cell_type": "markdown",
   "metadata": {},
   "source": [
    "<div class=\"alert alert-warning\">\n",
    "<h2> Комментарий ревьюера <a class=\"tocSkip\"> </h2>\n",
    "    \n",
    "<b>Некоторые замечания и рекомендации💡:</b> \n",
    "\n",
    "И здесь почему-то вернулись к score. Оптимизироваться нужно по f1-мере.\n",
    "       \n",
    "</div>\n"
   ]
  },
  {
   "cell_type": "markdown",
   "metadata": {},
   "source": [
    "<font color='blue'>Исправила</font>"
   ]
  },
  {
   "cell_type": "code",
   "execution_count": 44,
   "metadata": {
    "scrolled": true
   },
   "outputs": [
    {
     "data": {
      "image/png": "[encoded data removed]",
      "text/plain": [
       "<Figure size 864x576 with 1 Axes>"
      ]
     },
     "metadata": {
      "needs_background": "light"
     },
     "output_type": "display_data"
    }
   ],
   "source": [
    "#построим кривую ROC\n",
    "fpr, tpr, thresholds = roc_curve(target_valid, probabilities_one_valid_rf_down) \n",
    "plt.figure(figsize=(12,8))\n",
    "\n",
    "plt.plot(fpr, tpr)\n",
    "# ROC-кривая случайной модели (выглядит как прямая)\n",
    "plt.plot([0, 1], [0, 1], linestyle='--')\n",
    "\n",
    "plt.xlim(0, 1)\n",
    "plt.ylim(0, 1)\n",
    "\n",
    "plt.xlabel('False Positive Rate')\n",
    "plt.ylabel('True Positive Rate')\n",
    "\n",
    "plt.title('ROC-кривая для модели Random Forest downsampled')\n",
    "plt.show()"
   ]
  },
  {
   "cell_type": "markdown",
   "metadata": {},
   "source": [
    "**Decision Tree**"
   ]
  },
  {
   "cell_type": "code",
   "execution_count": 45,
   "metadata": {},
   "outputs": [
    {
     "name": "stdout",
     "output_type": "stream",
     "text": [
      "Лучшая глубина: 5 Лучший критерий: entropy\n",
      "F1: 0.585792349726776\n",
      "Accuracy: 0.7915291529152916\n",
      "AUC ROC: 0.8367522185632216\n"
     ]
    }
   ],
   "source": [
    "best_score = 0\n",
    "\n",
    "for depth in range(1, 51):\n",
    "    for cri in ['entropy', 'gini']:\n",
    "        model_dt = DecisionTreeClassifier(\n",
    "            max_depth=depth, criterion=cri)\n",
    "        \n",
    "        model_dt.fit(features_train_downsampled, target_train_downsampled)\n",
    "        predicted_valid_dt_down = model_dt.predict(features_valid)\n",
    "        probabilities_valid_dt_down = model_dt.predict_proba(features_valid)\n",
    "        probabilities_one_valid_dt_down = probabilities_valid_dt_down[:, 1]\n",
    "        \n",
    "        score = model_dt.score(features_valid, target_valid)\n",
    "        score_f1 = f1_score(target_valid, predicted_valid_dt_down)\n",
    "        auc_roc = roc_auc_score(target_valid, probabilities_one_valid_dt_down)\n",
    "        \n",
    "        if score_f1 > best_score:\n",
    "            best_model_dt_down = model_dt\n",
    "            best_score = score_f1\n",
    "            best_depth = depth\n",
    "            best_criterion = cri\n",
    "            best_accuracy = score\n",
    "            best_auc_roc = auc_roc\n",
    "\n",
    "print('Лучшая глубина:', best_depth, 'Лучший критерий:', best_criterion)\n",
    "print('F1:', best_score)\n",
    "print('Accuracy:', best_accuracy)\n",
    "print('AUC ROC:', best_auc_roc)  "
   ]
  },
  {
   "cell_type": "code",
   "execution_count": 46,
   "metadata": {},
   "outputs": [
    {
     "data": {
      "image/png": "[encoded data removed]",
      "text/plain": [
       "<Figure size 864x576 with 1 Axes>"
      ]
     },
     "metadata": {
      "needs_background": "light"
     },
     "output_type": "display_data"
    }
   ],
   "source": [
    "#построим кривую ROC\n",
    "fpr, tpr, thresholds = roc_curve(target_valid, probabilities_one_valid_dt_down) \n",
    "plt.figure(figsize=(12,8))\n",
    "\n",
    "plt.plot(fpr, tpr)\n",
    "# ROC-кривая случайной модели (выглядит как прямая)\n",
    "plt.plot([0, 1], [0, 1], linestyle='--')\n",
    "\n",
    "plt.xlim(0, 1)\n",
    "plt.ylim(0, 1)\n",
    "\n",
    "plt.xlabel('False Positive Rate')\n",
    "plt.ylabel('True Positive Rate')\n",
    "\n",
    "plt.title('ROC-кривая для модели Random Forest downsampled')\n",
    "plt.show()"
   ]
  },
  {
   "cell_type": "markdown",
   "metadata": {},
   "source": [
    "Посмотрим, как изменились метрики качества моделей при обучении на измененной обучающей выборке: upsampling и downsampling.\n",
    "\n",
    "1. Logisctic Regression\n",
    "\n",
    "    Максимальная accuracy (0.71) достигается на изначальных тренировочных данных данных, без использования техник upsampling и downsampling. Аналогично для показателя F1 максимальное значение (0.51) находится на данных без учёта дисбаланса классов.\n",
    "\n",
    "\n",
    "2. Random Forest\n",
    "\n",
    "    Для этой модели на всех данных с учётом и без учета дисбаланса классов метрика F1 больше 0.59. Но максимальное значение этой метрики мы находим на данных, подготовленных техникой upsampling (0.64). Метрики accuracy и auc roc максимальны для данных без учёта дисбаланса 0.87 и 0.86, соответственно.\n",
    "\n",
    "\n",
    "3. Decision Tree\n",
    "\n",
    "    Лучший показатель метрики F1 для этой модели равен 0.59, когда мы использовали технику downsampling для тренировочных данных. Лучшая метрика auc roc (0.84) также достигается на downsampling данных, а наилучшее значение accuracy (0.86) достигается без учёта несбалансированности классов.\n",
    "    "
   ]
  },
  {
   "cell_type": "markdown",
   "metadata": {},
   "source": [
    "## Тестирование модели"
   ]
  },
  {
   "cell_type": "markdown",
   "metadata": {},
   "source": [
    "Протестируем наилучшую модель с наибольшей метрикой F1. Это модель Random Forest с максимальной глубиной, равной 19, и количеством деревьев 100 на upsampling данных."
   ]
  },
  {
   "cell_type": "code",
   "execution_count": 48,
   "metadata": {},
   "outputs": [],
   "source": [
    "#для тестовой выборки\n",
    "predicted_test_rf_up = best_model_rf_up.predict(features_test)\n",
    "probabilities_test_rf_up = best_model_rf_up.predict_proba(features_test)\n",
    "probabilities_one_test_rf_up = probabilities_test_rf_up[:, 1]\n",
    "auc_roc = roc_auc_score(target_test, probabilities_one_test_rf_up)"
   ]
  },
  {
   "cell_type": "code",
   "execution_count": 49,
   "metadata": {},
   "outputs": [
    {
     "name": "stdout",
     "output_type": "stream",
     "text": [
      "Для тестовой выборки\n",
      "F1: 0.5988538681948424\n",
      "Accuracy: 0.8460692688290269\n",
      "AUC_ROC: 0.8522380586413283\n"
     ]
    }
   ],
   "source": [
    "print('Для тестовой выборки')\n",
    "print('F1:', f1_score(target_test, predicted_test_rf_up))\n",
    "print('Accuracy:', accuracy_score(predicted_test_rf_up, target_test))\n",
    "print('AUC_ROC:', auc_roc)"
   ]
  },
  {
   "cell_type": "code",
   "execution_count": 50,
   "metadata": {
    "scrolled": true
   },
   "outputs": [
    {
     "data": {
      "image/png": "[encoded data removed]",
      "text/plain": [
       "<Figure size 864x576 with 1 Axes>"
      ]
     },
     "metadata": {
      "needs_background": "light"
     },
     "output_type": "display_data"
    }
   ],
   "source": [
    "#построим кривую ROC\n",
    "fpr, tpr, thresholds = roc_curve(target_test, probabilities_one_test_rf_up) \n",
    "plt.figure(figsize=(12,8))\n",
    "\n",
    "plt.plot(fpr, tpr)\n",
    "# ROC-кривая случайной модели (выглядит как прямая)\n",
    "plt.plot([0, 1], [0, 1], linestyle='--')\n",
    "\n",
    "plt.xlim(0, 1)\n",
    "plt.ylim(0, 1)\n",
    "\n",
    "plt.xlabel('False Positive Rate')\n",
    "plt.ylabel('True Positive Rate')\n",
    "\n",
    "plt.title('ROC-кривая для модели Random Forest upsampled на тестовой выборке')\n",
    "plt.show()"
   ]
  },
  {
   "cell_type": "markdown",
   "metadata": {},
   "source": [
    "На тестовых данных удалось достичь значения F1 > 0.59. Значение метрики auc roc равно 0.85, оно получилось немного меньше, чем на валидационных данных (0.86)."
   ]
  },
  {
   "cell_type": "markdown",
   "metadata": {},
   "source": [
    "Теперь сравним нашу лучшую модель с константной моделью по метрике F1."
   ]
  },
  {
   "cell_type": "code",
   "execution_count": 53,
   "metadata": {},
   "outputs": [
    {
     "name": "stdout",
     "output_type": "stream",
     "text": [
      "F1: 0.3235023041474654\n"
     ]
    }
   ],
   "source": [
    "dummy_model = DummyClassifier(strategy='constant', constant=1)\n",
    "dummy_model.fit(features_train, target_train)\n",
    "score_f1_dummy = f1_score(dummy_model.predict(features_test), target_test)\n",
    "print('F1:', score_f1_dummy)"
   ]
  },
  {
   "cell_type": "markdown",
   "metadata": {},
   "source": [
    "Как видим, наша модель имеет показатель F1 почти в 2 раза больше, чем у константной модели. Успех!"
   ]
  },
  {
   "cell_type": "markdown",
   "metadata": {},
   "source": [
    "## Вывод"
   ]
  },
  {
   "cell_type": "markdown",
   "metadata": {},
   "source": [
    "В ходе наших исследований был проведён анализ трёх моделей: дерево решений, случайный лес и логистическая регрессия на разных обучающих выборках. \n",
    "\n",
    "На первом этапе при обучении моделей мы не учитывали существующий дисбаланс классов, где лучший результат метрики F1 (0.59) и auc roc (0.86) показала модель Random Forest. \n",
    "\n",
    "На следующем шаге мы использовали 2 техники для работы с данными, в которых присутствует дисбаланс классов: upsampling и downsampling. Как оказалось, для различных моделей эти техники работают в разной степени. Так для Random Forest с помощью техники upsampling было найдено наибольшее значение метрики F1, а для модели Decision Tree - наибольшее значение на downsampling данных.\n",
    "\n",
    "Далее мы проверили нашу наилучшую модель Random Forest с максимальной глубиной, равной 19, и количеством деревьев 100, обученной на upsampled тренировочных данных, на тестовой части данных. В итоге, была получена метрика F1 > 0.59. Значение метрики auc roc для этой модели также достигает хорошего значения (0.85).\n",
    "\n",
    "Дополнительно были построены графики ROC-кривых для разных моделей, обученных на сбалансированных и несбалансированных тренировочных данных. Также на первом этапе наших исследований наши модели были проверены натестовом наборе данных."
   ]
  }
 ],
 "metadata": {
  "ExecuteTimeLog": [
   {
    "duration": 1152,
    "start_time": "2023-04-09T12:44:39.647Z"
   },
   {
    "duration": 84,
    "start_time": "2023-04-09T12:45:28.802Z"
   },
   {
    "duration": 54,
    "start_time": "2023-04-09T12:46:58.626Z"
   },
   {
    "duration": 13,
    "start_time": "2023-04-09T12:47:07.848Z"
   },
   {
    "duration": 50,
    "start_time": "2023-04-09T12:47:30.753Z"
   },
   {
    "duration": 13,
    "start_time": "2023-04-09T12:47:42.601Z"
   },
   {
    "duration": 11,
    "start_time": "2023-04-09T14:07:09.693Z"
   },
   {
    "duration": 104,
    "start_time": "2023-04-09T16:54:09.313Z"
   },
   {
    "duration": 27,
    "start_time": "2023-04-09T16:54:50.959Z"
   },
   {
    "duration": 15,
    "start_time": "2023-04-09T16:56:40.836Z"
   },
   {
    "duration": 9,
    "start_time": "2023-04-09T16:57:40.323Z"
   },
   {
    "duration": 11,
    "start_time": "2023-04-09T16:57:47.437Z"
   },
   {
    "duration": 4,
    "start_time": "2023-04-09T17:07:53.456Z"
   },
   {
    "duration": 37,
    "start_time": "2023-04-09T17:10:23.441Z"
   },
   {
    "duration": 36,
    "start_time": "2023-04-09T17:10:28.625Z"
   },
   {
    "duration": 11,
    "start_time": "2023-04-09T17:10:42.439Z"
   },
   {
    "duration": 10,
    "start_time": "2023-04-09T17:21:10.311Z"
   },
   {
    "duration": 15,
    "start_time": "2023-04-09T17:21:36.848Z"
   },
   {
    "duration": 12,
    "start_time": "2023-04-09T17:21:40.117Z"
   },
   {
    "duration": 12,
    "start_time": "2023-04-09T17:24:02.633Z"
   },
   {
    "duration": 12,
    "start_time": "2023-04-09T17:24:10.984Z"
   },
   {
    "duration": 5,
    "start_time": "2023-04-09T17:31:46.087Z"
   },
   {
    "duration": 6,
    "start_time": "2023-04-09T17:34:00.441Z"
   },
   {
    "duration": 17,
    "start_time": "2023-04-09T17:40:30.012Z"
   },
   {
    "duration": 53,
    "start_time": "2023-04-09T17:49:05.302Z"
   },
   {
    "duration": 3,
    "start_time": "2023-04-09T17:49:29.997Z"
   },
   {
    "duration": 50,
    "start_time": "2023-04-09T17:49:48.542Z"
   },
   {
    "duration": 10,
    "start_time": "2023-04-09T17:56:54.750Z"
   },
   {
    "duration": 9,
    "start_time": "2023-04-09T17:57:31.777Z"
   },
   {
    "duration": 468,
    "start_time": "2023-04-09T17:57:39.219Z"
   },
   {
    "duration": 37,
    "start_time": "2023-04-09T17:57:47.766Z"
   },
   {
    "duration": 5,
    "start_time": "2023-04-09T17:58:18.028Z"
   },
   {
    "duration": 28,
    "start_time": "2023-04-09T17:58:20.472Z"
   },
   {
    "duration": 22,
    "start_time": "2023-04-09T17:58:38.171Z"
   },
   {
    "duration": 22,
    "start_time": "2023-04-09T17:58:55.903Z"
   },
   {
    "duration": 33,
    "start_time": "2023-04-09T18:30:36.425Z"
   },
   {
    "duration": 5,
    "start_time": "2023-04-09T18:30:48.315Z"
   },
   {
    "duration": 5,
    "start_time": "2023-04-09T18:31:18.872Z"
   },
   {
    "duration": 6,
    "start_time": "2023-04-09T18:31:32.123Z"
   },
   {
    "duration": 51,
    "start_time": "2023-04-09T18:31:37.596Z"
   },
   {
    "duration": 5,
    "start_time": "2023-04-09T18:31:40.548Z"
   },
   {
    "duration": 46,
    "start_time": "2023-04-09T18:32:06.644Z"
   },
   {
    "duration": 4,
    "start_time": "2023-04-09T18:32:10.448Z"
   },
   {
    "duration": 5,
    "start_time": "2023-04-09T18:50:55.694Z"
   },
   {
    "duration": 5,
    "start_time": "2023-04-09T18:55:57.748Z"
   },
   {
    "duration": 15,
    "start_time": "2023-04-09T18:58:56.872Z"
   },
   {
    "duration": 9,
    "start_time": "2023-04-09T19:00:46.715Z"
   },
   {
    "duration": 11,
    "start_time": "2023-04-09T19:01:26.359Z"
   },
   {
    "duration": 6,
    "start_time": "2023-04-09T19:01:40.053Z"
   },
   {
    "duration": 13,
    "start_time": "2023-04-09T19:02:11.662Z"
   },
   {
    "duration": 5,
    "start_time": "2023-04-09T19:04:16.001Z"
   },
   {
    "duration": 4,
    "start_time": "2023-04-09T19:15:48.946Z"
   },
   {
    "duration": 18,
    "start_time": "2023-04-09T19:21:02.472Z"
   },
   {
    "duration": 4,
    "start_time": "2023-04-09T19:21:35.107Z"
   },
   {
    "duration": 11,
    "start_time": "2023-04-09T19:21:37.417Z"
   },
   {
    "duration": 9,
    "start_time": "2023-04-09T19:54:53.991Z"
   },
   {
    "duration": 5,
    "start_time": "2023-04-09T19:55:31.680Z"
   },
   {
    "duration": 26,
    "start_time": "2023-04-09T19:55:40.570Z"
   },
   {
    "duration": 30,
    "start_time": "2023-04-09T19:56:03.919Z"
   },
   {
    "duration": 32,
    "start_time": "2023-04-09T19:56:04.947Z"
   },
   {
    "duration": 14,
    "start_time": "2023-04-09T20:00:40.464Z"
   },
   {
    "duration": 4,
    "start_time": "2023-04-09T20:01:40.122Z"
   },
   {
    "duration": 9,
    "start_time": "2023-04-09T20:01:46.455Z"
   },
   {
    "duration": 5,
    "start_time": "2023-04-09T20:03:08.094Z"
   },
   {
    "duration": 26,
    "start_time": "2023-04-09T20:07:13.660Z"
   },
   {
    "duration": 10,
    "start_time": "2023-04-09T20:07:16.169Z"
   },
   {
    "duration": 3,
    "start_time": "2023-04-09T20:07:17.454Z"
   },
   {
    "duration": 7,
    "start_time": "2023-04-09T20:13:04.056Z"
   },
   {
    "duration": 22,
    "start_time": "2023-04-09T20:13:06.494Z"
   },
   {
    "duration": 8,
    "start_time": "2023-04-09T20:13:07.294Z"
   },
   {
    "duration": 6,
    "start_time": "2023-04-09T20:13:11.736Z"
   },
   {
    "duration": 27,
    "start_time": "2023-04-09T20:24:08.606Z"
   },
   {
    "duration": 19,
    "start_time": "2023-04-09T20:24:59.089Z"
   },
   {
    "duration": 18,
    "start_time": "2023-04-09T20:25:06.709Z"
   },
   {
    "duration": 25,
    "start_time": "2023-04-09T20:25:28.562Z"
   },
   {
    "duration": 11,
    "start_time": "2023-04-09T21:04:47.533Z"
   },
   {
    "duration": 5,
    "start_time": "2023-04-09T21:05:29.580Z"
   },
   {
    "duration": 16,
    "start_time": "2023-04-09T21:05:35.008Z"
   },
   {
    "duration": 74,
    "start_time": "2023-04-09T21:05:44.855Z"
   },
   {
    "duration": 74,
    "start_time": "2023-04-09T21:11:24.948Z"
   },
   {
    "duration": 85,
    "start_time": "2023-04-09T21:15:34.899Z"
   },
   {
    "duration": 107,
    "start_time": "2023-04-09T21:17:02.778Z"
   },
   {
    "duration": 1518,
    "start_time": "2023-04-10T07:40:46.385Z"
   },
   {
    "duration": 115,
    "start_time": "2023-04-10T07:40:49.305Z"
   },
   {
    "duration": 15,
    "start_time": "2023-04-10T07:40:50.887Z"
   },
   {
    "duration": 10,
    "start_time": "2023-04-10T07:40:52.038Z"
   },
   {
    "duration": 9,
    "start_time": "2023-04-10T07:40:53.748Z"
   },
   {
    "duration": 4,
    "start_time": "2023-04-10T07:40:55.703Z"
   },
   {
    "duration": 9,
    "start_time": "2023-04-10T07:40:57.731Z"
   },
   {
    "duration": 14,
    "start_time": "2023-04-10T07:40:59.192Z"
   },
   {
    "duration": 31,
    "start_time": "2023-04-10T07:41:00.881Z"
   },
   {
    "duration": 5,
    "start_time": "2023-04-10T07:41:02.947Z"
   },
   {
    "duration": 6,
    "start_time": "2023-04-10T07:41:04.003Z"
   },
   {
    "duration": 48,
    "start_time": "2023-04-10T07:41:04.907Z"
   },
   {
    "duration": 3,
    "start_time": "2023-04-10T07:41:06.245Z"
   },
   {
    "duration": 21,
    "start_time": "2023-04-10T07:41:07.099Z"
   },
   {
    "duration": 5,
    "start_time": "2023-04-10T07:41:07.897Z"
   },
   {
    "duration": 20,
    "start_time": "2023-04-10T07:41:14.239Z"
   },
   {
    "duration": 9,
    "start_time": "2023-04-10T07:41:15.308Z"
   },
   {
    "duration": 8,
    "start_time": "2023-04-10T07:41:16.385Z"
   },
   {
    "duration": 3,
    "start_time": "2023-04-10T07:47:30.026Z"
   },
   {
    "duration": 66738,
    "start_time": "2023-04-10T07:57:56.213Z"
   },
   {
    "duration": 66731,
    "start_time": "2023-04-10T07:59:25.287Z"
   },
   {
    "duration": 121,
    "start_time": "2023-04-10T08:05:26.330Z"
   },
   {
    "duration": 158,
    "start_time": "2023-04-10T08:05:46.565Z"
   },
   {
    "duration": 147,
    "start_time": "2023-04-10T08:05:53.615Z"
   },
   {
    "duration": 152,
    "start_time": "2023-04-10T08:06:01.202Z"
   },
   {
    "duration": 130,
    "start_time": "2023-04-10T08:06:06.507Z"
   },
   {
    "duration": 154,
    "start_time": "2023-04-10T08:06:13.863Z"
   },
   {
    "duration": 27,
    "start_time": "2023-04-10T08:06:20.080Z"
   },
   {
    "duration": 9,
    "start_time": "2023-04-10T08:06:21.152Z"
   },
   {
    "duration": 16,
    "start_time": "2023-04-10T08:06:49.875Z"
   },
   {
    "duration": 6,
    "start_time": "2023-04-10T08:06:53.308Z"
   },
   {
    "duration": 165,
    "start_time": "2023-04-10T08:06:59.638Z"
   },
   {
    "duration": 141,
    "start_time": "2023-04-10T08:07:12.284Z"
   },
   {
    "duration": 66709,
    "start_time": "2023-04-10T08:07:46.302Z"
   },
   {
    "duration": 141,
    "start_time": "2023-04-10T08:11:31.319Z"
   },
   {
    "duration": 3754,
    "start_time": "2023-04-10T13:29:10.255Z"
   },
   {
    "duration": 154,
    "start_time": "2023-04-10T13:30:08.496Z"
   },
   {
    "duration": 18,
    "start_time": "2023-04-10T13:34:38.136Z"
   },
   {
    "duration": 3494,
    "start_time": "2023-04-10T13:34:44.702Z"
   },
   {
    "duration": 136,
    "start_time": "2023-04-10T13:34:54.147Z"
   },
   {
    "duration": 8,
    "start_time": "2023-04-10T15:44:28.059Z"
   },
   {
    "duration": 46,
    "start_time": "2023-04-10T15:44:30.879Z"
   },
   {
    "duration": 19,
    "start_time": "2023-04-10T15:44:40.811Z"
   },
   {
    "duration": 24,
    "start_time": "2023-04-10T15:45:21.360Z"
   },
   {
    "duration": 5,
    "start_time": "2023-04-10T15:45:24.126Z"
   },
   {
    "duration": 16,
    "start_time": "2023-04-10T15:45:28.519Z"
   },
   {
    "duration": 24,
    "start_time": "2023-04-10T15:45:29.924Z"
   },
   {
    "duration": 7,
    "start_time": "2023-04-10T15:46:08.177Z"
   },
   {
    "duration": 4,
    "start_time": "2023-04-10T15:46:13.528Z"
   },
   {
    "duration": 51,
    "start_time": "2023-04-10T15:46:15.059Z"
   },
   {
    "duration": 12,
    "start_time": "2023-04-10T15:46:16.291Z"
   },
   {
    "duration": 15,
    "start_time": "2023-04-10T15:46:17.545Z"
   },
   {
    "duration": 9,
    "start_time": "2023-04-10T15:46:18.723Z"
   },
   {
    "duration": 6,
    "start_time": "2023-04-10T15:46:20.268Z"
   },
   {
    "duration": 10,
    "start_time": "2023-04-10T15:46:21.702Z"
   },
   {
    "duration": 13,
    "start_time": "2023-04-10T15:46:23.482Z"
   },
   {
    "duration": 25,
    "start_time": "2023-04-10T15:46:24.908Z"
   },
   {
    "duration": 6,
    "start_time": "2023-04-10T15:46:27.561Z"
   },
   {
    "duration": 8,
    "start_time": "2023-04-10T15:46:29.123Z"
   },
   {
    "duration": 62,
    "start_time": "2023-04-10T15:46:32.932Z"
   },
   {
    "duration": 3,
    "start_time": "2023-04-10T15:46:35.704Z"
   },
   {
    "duration": 26,
    "start_time": "2023-04-10T15:46:39.465Z"
   },
   {
    "duration": 6,
    "start_time": "2023-04-10T15:46:45.381Z"
   },
   {
    "duration": 23,
    "start_time": "2023-04-10T15:46:50.563Z"
   },
   {
    "duration": 32,
    "start_time": "2023-04-10T15:46:53.113Z"
   },
   {
    "duration": 8,
    "start_time": "2023-04-10T15:49:18.067Z"
   },
   {
    "duration": 60,
    "start_time": "2023-04-10T15:49:23.832Z"
   },
   {
    "duration": 202,
    "start_time": "2023-04-10T15:49:25.538Z"
   },
   {
    "duration": 5,
    "start_time": "2023-04-10T15:52:20.984Z"
   },
   {
    "duration": 4,
    "start_time": "2023-04-10T15:52:34.141Z"
   },
   {
    "duration": 14,
    "start_time": "2023-04-10T15:53:19.893Z"
   },
   {
    "duration": 15,
    "start_time": "2023-04-10T15:53:33.481Z"
   },
   {
    "duration": 42,
    "start_time": "2023-04-10T15:53:37.942Z"
   },
   {
    "duration": 8,
    "start_time": "2023-04-10T15:53:41.648Z"
   },
   {
    "duration": 4,
    "start_time": "2023-04-10T15:54:02.320Z"
   },
   {
    "duration": 64,
    "start_time": "2023-04-10T15:54:23.173Z"
   },
   {
    "duration": 8,
    "start_time": "2023-04-10T15:54:25.551Z"
   },
   {
    "duration": 49,
    "start_time": "2023-04-10T15:54:28.191Z"
   },
   {
    "duration": 6,
    "start_time": "2023-04-10T15:55:04.167Z"
   },
   {
    "duration": 3,
    "start_time": "2023-04-10T16:00:20.506Z"
   },
   {
    "duration": 7,
    "start_time": "2023-04-10T16:00:40.305Z"
   },
   {
    "duration": 3,
    "start_time": "2023-04-10T16:00:43.615Z"
   },
   {
    "duration": 22,
    "start_time": "2023-04-10T16:00:45.561Z"
   },
   {
    "duration": 4,
    "start_time": "2023-04-10T16:00:47.718Z"
   },
   {
    "duration": 16,
    "start_time": "2023-04-10T16:00:51.862Z"
   },
   {
    "duration": 9,
    "start_time": "2023-04-10T16:01:51.816Z"
   },
   {
    "duration": 3,
    "start_time": "2023-04-10T16:01:54.010Z"
   },
   {
    "duration": 9,
    "start_time": "2023-04-10T16:11:32.732Z"
   },
   {
    "duration": 6,
    "start_time": "2023-04-10T16:11:55.777Z"
   },
   {
    "duration": 8,
    "start_time": "2023-04-10T16:11:59.057Z"
   },
   {
    "duration": 6,
    "start_time": "2023-04-10T16:12:02.801Z"
   },
   {
    "duration": 150,
    "start_time": "2023-04-10T16:12:12.880Z"
   },
   {
    "duration": 50,
    "start_time": "2023-04-10T16:12:31.918Z"
   },
   {
    "duration": 84768,
    "start_time": "2023-04-10T16:13:35.201Z"
   },
   {
    "duration": 62211,
    "start_time": "2023-04-10T16:15:26.678Z"
   },
   {
    "duration": 3209,
    "start_time": "2023-04-10T16:16:28.891Z"
   },
   {
    "duration": 151,
    "start_time": "2023-04-10T16:16:33.876Z"
   },
   {
    "duration": 161,
    "start_time": "2023-04-10T16:16:40.373Z"
   },
   {
    "duration": 7,
    "start_time": "2023-04-10T21:17:34.300Z"
   },
   {
    "duration": 5,
    "start_time": "2023-04-10T21:17:39.389Z"
   },
   {
    "duration": 127,
    "start_time": "2023-04-10T21:17:48.240Z"
   },
   {
    "duration": 53515,
    "start_time": "2023-04-10T21:18:16.504Z"
   },
   {
    "duration": 10,
    "start_time": "2023-04-10T21:20:17.085Z"
   },
   {
    "duration": 9,
    "start_time": "2023-04-10T21:20:32.528Z"
   },
   {
    "duration": 6,
    "start_time": "2023-04-10T21:21:13.007Z"
   },
   {
    "duration": 57,
    "start_time": "2023-04-10T21:23:14.807Z"
   },
   {
    "duration": 6,
    "start_time": "2023-04-10T21:23:34.118Z"
   },
   {
    "duration": 2731,
    "start_time": "2023-04-10T21:24:11.835Z"
   },
   {
    "duration": 10,
    "start_time": "2023-04-10T21:24:57.983Z"
   },
   {
    "duration": 6,
    "start_time": "2023-04-10T21:25:12.117Z"
   },
   {
    "duration": 4,
    "start_time": "2023-04-10T21:29:56.723Z"
   },
   {
    "duration": 11,
    "start_time": "2023-04-10T21:29:57.775Z"
   },
   {
    "duration": 12,
    "start_time": "2023-04-10T21:33:27.958Z"
   },
   {
    "duration": 16,
    "start_time": "2023-04-10T21:35:32.694Z"
   },
   {
    "duration": 3,
    "start_time": "2023-04-10T21:36:19.668Z"
   },
   {
    "duration": 4,
    "start_time": "2023-04-10T21:36:37.473Z"
   },
   {
    "duration": 1768,
    "start_time": "2023-04-13T11:24:28.587Z"
   },
   {
    "duration": 187,
    "start_time": "2023-04-13T11:27:38.315Z"
   },
   {
    "duration": 14,
    "start_time": "2023-04-13T11:27:39.651Z"
   },
   {
    "duration": 10,
    "start_time": "2023-04-13T11:27:40.735Z"
   },
   {
    "duration": 10,
    "start_time": "2023-04-13T11:27:42.099Z"
   },
   {
    "duration": 4,
    "start_time": "2023-04-13T11:27:45.333Z"
   },
   {
    "duration": 10,
    "start_time": "2023-04-13T11:27:47.842Z"
   },
   {
    "duration": 12,
    "start_time": "2023-04-13T11:27:50.329Z"
   },
   {
    "duration": 23,
    "start_time": "2023-04-13T11:28:48.713Z"
   },
   {
    "duration": 5,
    "start_time": "2023-04-13T11:28:52.561Z"
   },
   {
    "duration": 8,
    "start_time": "2023-04-13T11:28:53.523Z"
   },
   {
    "duration": 6,
    "start_time": "2023-04-13T11:29:08.441Z"
   },
   {
    "duration": 5,
    "start_time": "2023-04-13T11:29:09.632Z"
   },
   {
    "duration": 5,
    "start_time": "2023-04-13T11:29:10.377Z"
   },
   {
    "duration": 47,
    "start_time": "2023-04-13T11:29:11.700Z"
   },
   {
    "duration": 3,
    "start_time": "2023-04-13T11:29:14.102Z"
   },
   {
    "duration": 26,
    "start_time": "2023-04-13T11:29:17.273Z"
   },
   {
    "duration": 4,
    "start_time": "2023-04-13T11:29:21.961Z"
   },
   {
    "duration": 18,
    "start_time": "2023-04-13T11:29:39.262Z"
   },
   {
    "duration": 9,
    "start_time": "2023-04-13T11:29:47.963Z"
   },
   {
    "duration": 8,
    "start_time": "2023-04-13T11:29:48.971Z"
   },
   {
    "duration": 164,
    "start_time": "2023-04-13T11:30:27.751Z"
   },
   {
    "duration": 65493,
    "start_time": "2023-04-13T11:30:39.724Z"
   },
   {
    "duration": 244,
    "start_time": "2023-04-13T11:32:01.073Z"
   },
   {
    "duration": 65325,
    "start_time": "2023-04-13T11:33:08.888Z"
   },
   {
    "duration": 162,
    "start_time": "2023-04-13T11:34:24.174Z"
   },
   {
    "duration": 3202,
    "start_time": "2023-04-13T11:34:47.523Z"
   },
   {
    "duration": 163,
    "start_time": "2023-04-13T11:35:07.953Z"
   },
   {
    "duration": 65730,
    "start_time": "2023-04-13T11:36:46.099Z"
   },
   {
    "duration": 119,
    "start_time": "2023-04-13T11:37:51.831Z"
   },
   {
    "duration": 0,
    "start_time": "2023-04-13T11:37:51.951Z"
   },
   {
    "duration": 153,
    "start_time": "2023-04-13T11:38:03.307Z"
   },
   {
    "duration": 4,
    "start_time": "2023-04-13T11:38:06.077Z"
   },
   {
    "duration": 12,
    "start_time": "2023-04-13T11:38:08.914Z"
   },
   {
    "duration": 32,
    "start_time": "2023-04-13T11:38:10.956Z"
   },
   {
    "duration": 26,
    "start_time": "2023-04-13T11:38:28.184Z"
   },
   {
    "duration": 9,
    "start_time": "2023-04-13T11:38:30.505Z"
   },
   {
    "duration": 171,
    "start_time": "2023-04-13T11:38:33.286Z"
   },
   {
    "duration": 86074,
    "start_time": "2023-04-13T11:38:37.358Z"
   },
   {
    "duration": 184,
    "start_time": "2023-04-13T11:40:10.238Z"
   },
   {
    "duration": 3869,
    "start_time": "2023-04-13T11:40:13.079Z"
   },
   {
    "duration": 150,
    "start_time": "2023-04-13T11:40:27.707Z"
   },
   {
    "duration": 4,
    "start_time": "2023-04-13T11:40:46.511Z"
   },
   {
    "duration": 10,
    "start_time": "2023-04-13T11:40:47.967Z"
   },
   {
    "duration": 19,
    "start_time": "2023-04-13T11:40:59.321Z"
   },
   {
    "duration": 7,
    "start_time": "2023-04-13T11:41:01.542Z"
   },
   {
    "duration": 156,
    "start_time": "2023-04-13T11:41:04.834Z"
   },
   {
    "duration": 1586,
    "start_time": "2023-04-14T18:31:03.150Z"
   },
   {
    "duration": 89,
    "start_time": "2023-04-14T18:31:08.535Z"
   },
   {
    "duration": 15,
    "start_time": "2023-04-14T18:31:09.884Z"
   },
   {
    "duration": 12,
    "start_time": "2023-04-14T18:31:11.262Z"
   },
   {
    "duration": 11,
    "start_time": "2023-04-14T18:31:12.820Z"
   },
   {
    "duration": 5,
    "start_time": "2023-04-14T18:31:14.779Z"
   },
   {
    "duration": 10,
    "start_time": "2023-04-14T18:31:16.585Z"
   },
   {
    "duration": 13,
    "start_time": "2023-04-14T18:31:20.843Z"
   },
   {
    "duration": 23,
    "start_time": "2023-04-14T18:31:22.306Z"
   },
   {
    "duration": 5,
    "start_time": "2023-04-14T18:31:24.153Z"
   },
   {
    "duration": 7,
    "start_time": "2023-04-14T18:31:25.178Z"
   },
   {
    "duration": 4,
    "start_time": "2023-04-14T18:31:26.906Z"
   },
   {
    "duration": 4,
    "start_time": "2023-04-14T18:31:29.900Z"
   },
   {
    "duration": 4,
    "start_time": "2023-04-14T18:31:30.806Z"
   },
   {
    "duration": 47,
    "start_time": "2023-04-14T18:31:31.739Z"
   },
   {
    "duration": 3,
    "start_time": "2023-04-14T18:31:33.380Z"
   },
   {
    "duration": 27,
    "start_time": "2023-04-14T18:31:34.506Z"
   },
   {
    "duration": 6,
    "start_time": "2023-04-14T18:31:36.024Z"
   },
   {
    "duration": 18,
    "start_time": "2023-04-14T18:31:39.098Z"
   },
   {
    "duration": 10,
    "start_time": "2023-04-14T18:31:42.078Z"
   },
   {
    "duration": 7,
    "start_time": "2023-04-14T18:31:44.280Z"
   },
   {
    "duration": 165,
    "start_time": "2023-04-14T18:31:48.020Z"
   },
   {
    "duration": 67473,
    "start_time": "2023-04-14T18:32:32.118Z"
   },
   {
    "duration": 155,
    "start_time": "2023-04-14T18:33:46.661Z"
   },
   {
    "duration": 3297,
    "start_time": "2023-04-14T18:33:54.662Z"
   },
   {
    "duration": 3222,
    "start_time": "2023-04-14T18:34:06.909Z"
   },
   {
    "duration": 157,
    "start_time": "2023-04-14T18:34:19.696Z"
   },
   {
    "duration": 4,
    "start_time": "2023-04-14T18:34:52.583Z"
   },
   {
    "duration": 10,
    "start_time": "2023-04-14T18:34:55.420Z"
   },
   {
    "duration": 27,
    "start_time": "2023-04-14T18:34:58.174Z"
   },
   {
    "duration": 7,
    "start_time": "2023-04-14T18:35:00.969Z"
   },
   {
    "duration": 165,
    "start_time": "2023-04-14T18:35:03.135Z"
   },
   {
    "duration": 88971,
    "start_time": "2023-04-14T18:35:32.555Z"
   },
   {
    "duration": 163,
    "start_time": "2023-04-14T18:37:07.015Z"
   },
   {
    "duration": 4014,
    "start_time": "2023-04-14T18:37:16.619Z"
   },
   {
    "duration": 3954,
    "start_time": "2023-04-14T18:37:25.932Z"
   },
   {
    "duration": 162,
    "start_time": "2023-04-14T18:37:39.978Z"
   },
   {
    "duration": 5,
    "start_time": "2023-04-14T18:37:43.961Z"
   },
   {
    "duration": 10,
    "start_time": "2023-04-14T18:37:44.856Z"
   },
   {
    "duration": 20,
    "start_time": "2023-04-14T18:37:46.442Z"
   },
   {
    "duration": 8,
    "start_time": "2023-04-14T18:37:47.784Z"
   },
   {
    "duration": 170,
    "start_time": "2023-04-14T18:37:51.426Z"
   },
   {
    "duration": 44364,
    "start_time": "2023-04-14T18:38:18.617Z"
   },
   {
    "duration": 166,
    "start_time": "2023-04-14T18:39:09.396Z"
   },
   {
    "duration": 1819,
    "start_time": "2023-04-14T18:39:36.020Z"
   },
   {
    "duration": 171,
    "start_time": "2023-04-14T18:39:41.423Z"
   },
   {
    "duration": 89,
    "start_time": "2023-04-14T18:40:02.889Z"
   },
   {
    "duration": 88,
    "start_time": "2023-04-14T18:41:32.862Z"
   },
   {
    "duration": 7,
    "start_time": "2023-04-14T18:41:35.278Z"
   },
   {
    "duration": 164,
    "start_time": "2023-04-14T18:41:41.924Z"
   },
   {
    "duration": 4,
    "start_time": "2023-04-14T18:42:46.402Z"
   },
   {
    "duration": 8,
    "start_time": "2023-04-14T18:45:24.188Z"
   },
   {
    "duration": 7,
    "start_time": "2023-04-14T18:46:45.385Z"
   },
   {
    "duration": 6882,
    "start_time": "2023-04-14T18:49:39.881Z"
   },
   {
    "duration": 26,
    "start_time": "2023-04-14T18:50:26.235Z"
   },
   {
    "duration": 4,
    "start_time": "2023-04-14T18:51:08.820Z"
   },
   {
    "duration": 5,
    "start_time": "2023-04-14T18:51:29.959Z"
   },
   {
    "duration": 16,
    "start_time": "2023-04-14T18:52:57.144Z"
   },
   {
    "duration": 1193,
    "start_time": "2023-04-14T18:53:54.018Z"
   },
   {
    "duration": 2256,
    "start_time": "2023-04-14T18:53:58.843Z"
   },
   {
    "duration": 22,
    "start_time": "2023-04-14T18:54:03.993Z"
   },
   {
    "duration": 17,
    "start_time": "2023-04-14T18:54:59.472Z"
   },
   {
    "duration": 6991,
    "start_time": "2023-04-14T18:55:42.178Z"
   },
   {
    "duration": 1366,
    "start_time": "2023-04-14T18:56:04.383Z"
   },
   {
    "duration": 6336,
    "start_time": "2023-04-14T18:56:12.933Z"
   },
   {
    "duration": 23,
    "start_time": "2023-04-14T18:56:24.462Z"
   },
   {
    "duration": 4,
    "start_time": "2023-04-14T19:02:26.322Z"
   }
  ],
  "kernelspec": {
   "display_name": "Python 3 (ipykernel)",
   "language": "python",
   "name": "python3"
  },
  "language_info": {
   "codemirror_mode": {
    "name": "ipython",
    "version": 3
   },
   "file_extension": ".py",
   "mimetype": "text/x-python",
   "name": "python",
   "nbconvert_exporter": "python",
   "pygments_lexer": "ipython3",
   "version": "3.9.18"
  },
  "toc": {
   "base_numbering": 1,
   "nav_menu": {},
   "number_sections": true,
   "sideBar": true,
   "skip_h1_title": true,
   "title_cell": "Содержание",
   "title_sidebar": "Contents",
   "toc_cell": true,
   "toc_position": {
    "height": "calc(100% - 180px)",
    "left": "10px",
    "top": "150px",
    "width": "165px"
   },
   "toc_section_display": true,
   "toc_window_display": false
  }
 },
 "nbformat": 4,
 "nbformat_minor": 2
}
