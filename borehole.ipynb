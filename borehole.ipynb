{
 "cells": [
  {
   "cell_type": "markdown",
   "metadata": {},
   "source": [
    "# Выбор локации для скважины"
   ]
  },
  {
   "cell_type": "markdown",
   "metadata": {},
   "source": [
    "Допустим, вы работаете в добывающей компании «ГлавРосГосНефть». Нужно решить, где бурить новую скважину.\n",
    "\n",
    "Вам предоставлены пробы нефти в трёх регионах: в каждом 10 000 месторождений, где измерили качество нефти и объём её запасов. Постройте модель машинного обучения, которая поможет определить регион, где добыча принесёт наибольшую прибыль. Проанализируйте возможную прибыль и риски техникой *Bootstrap.*\n",
    "\n",
    "Шаги для выбора локации:\n",
    "\n",
    "- В избранном регионе ищут месторождения, для каждого определяют значения признаков;\n",
    "- Строят модель и оценивают объём запасов;\n",
    "- Выбирают месторождения с самым высокими оценками значений. Количество месторождений зависит от бюджета компании и стоимости разработки одной скважины;\n",
    "- Прибыль равна суммарной прибыли отобранных месторождений."
   ]
  },
  {
   "cell_type": "markdown",
   "metadata": {},
   "source": [
    "## Загрузка и подготовка данных"
   ]
  },
  {
   "cell_type": "code",
   "execution_count": 1,
   "metadata": {},
   "outputs": [],
   "source": [
    "#импортируем нужные библиотеки\n",
    "import pandas as pd\n",
    "import numpy as np\n",
    "import matplotlib.pyplot as plt\n",
    "\n",
    "from sklearn.model_selection import train_test_split\n",
    "from sklearn.linear_model import LinearRegression\n",
    "from sklearn.metrics import mean_squared_error\n",
    "from sklearn.utils import shuffle\n",
    "from sklearn.preprocessing import StandardScaler"
   ]
  },
  {
   "cell_type": "code",
   "execution_count": 2,
   "metadata": {},
   "outputs": [],
   "source": [
    "#зададим переменные из условия задачи\n",
    "BUDGET = 10 ** 10\n",
    "POINTS = 500\n",
    "BEST_POINTS = 200\n",
    "PRICE_PER_BARREL = 450_000"
   ]
  },
  {
   "cell_type": "code",
   "execution_count": 3,
   "metadata": {},
   "outputs": [],
   "source": [
    "#загрузим данные в разные датасеты\n",
    "geo_data_0 = pd.read_csv('/datasets/geo_data_0.csv')"
   ]
  },
  {
   "cell_type": "code",
   "execution_count": 4,
   "metadata": {},
   "outputs": [
    {
     "name": "stdout",
     "output_type": "stream",
     "text": [
      "<class 'pandas.core.frame.DataFrame'>\n",
      "RangeIndex: 100000 entries, 0 to 99999\n",
      "Data columns (total 5 columns):\n",
      " #   Column   Non-Null Count   Dtype  \n",
      "---  ------   --------------   -----  \n",
      " 0   id       100000 non-null  object \n",
      " 1   f0       100000 non-null  float64\n",
      " 2   f1       100000 non-null  float64\n",
      " 3   f2       100000 non-null  float64\n",
      " 4   product  100000 non-null  float64\n",
      "dtypes: float64(4), object(1)\n",
      "memory usage: 3.8+ MB\n",
      "None\n",
      "Количество дубликатов: 0\n",
      "Количество пропусков: \n",
      " id         0\n",
      "f0         0\n",
      "f1         0\n",
      "f2         0\n",
      "product    0\n",
      "dtype: int64\n"
     ]
    }
   ],
   "source": [
    "print(geo_data_0.info())\n",
    "print('Количество дубликатов:', geo_data_0.duplicated().sum())\n",
    "print('Количество пропусков:','\\n',geo_data_0.isnull().sum())"
   ]
  },
  {
   "cell_type": "code",
   "execution_count": 5,
   "metadata": {},
   "outputs": [],
   "source": [
    "geo_data_1 = pd.read_csv('/datasets/geo_data_1.csv')"
   ]
  },
  {
   "cell_type": "code",
   "execution_count": 6,
   "metadata": {},
   "outputs": [
    {
     "name": "stdout",
     "output_type": "stream",
     "text": [
      "<class 'pandas.core.frame.DataFrame'>\n",
      "RangeIndex: 100000 entries, 0 to 99999\n",
      "Data columns (total 5 columns):\n",
      " #   Column   Non-Null Count   Dtype  \n",
      "---  ------   --------------   -----  \n",
      " 0   id       100000 non-null  object \n",
      " 1   f0       100000 non-null  float64\n",
      " 2   f1       100000 non-null  float64\n",
      " 3   f2       100000 non-null  float64\n",
      " 4   product  100000 non-null  float64\n",
      "dtypes: float64(4), object(1)\n",
      "memory usage: 3.8+ MB\n",
      "None\n",
      "Количество дубликатов: 0\n",
      "Количество пропусков: \n",
      " id         0\n",
      "f0         0\n",
      "f1         0\n",
      "f2         0\n",
      "product    0\n",
      "dtype: int64\n"
     ]
    }
   ],
   "source": [
    "print(geo_data_1.info())\n",
    "print('Количество дубликатов:', geo_data_1.duplicated().sum())\n",
    "print('Количество пропусков:','\\n',geo_data_1.isnull().sum())"
   ]
  },
  {
   "cell_type": "code",
   "execution_count": 7,
   "metadata": {},
   "outputs": [],
   "source": [
    "geo_data_2 = pd.read_csv('/datasets/geo_data_2.csv')"
   ]
  },
  {
   "cell_type": "code",
   "execution_count": 8,
   "metadata": {},
   "outputs": [
    {
     "name": "stdout",
     "output_type": "stream",
     "text": [
      "<class 'pandas.core.frame.DataFrame'>\n",
      "RangeIndex: 100000 entries, 0 to 99999\n",
      "Data columns (total 5 columns):\n",
      " #   Column   Non-Null Count   Dtype  \n",
      "---  ------   --------------   -----  \n",
      " 0   id       100000 non-null  object \n",
      " 1   f0       100000 non-null  float64\n",
      " 2   f1       100000 non-null  float64\n",
      " 3   f2       100000 non-null  float64\n",
      " 4   product  100000 non-null  float64\n",
      "dtypes: float64(4), object(1)\n",
      "memory usage: 3.8+ MB\n",
      "None\n",
      "Количество дубликатов: 0\n",
      "Количество пропусков: \n",
      " id         0\n",
      "f0         0\n",
      "f1         0\n",
      "f2         0\n",
      "product    0\n",
      "dtype: int64\n"
     ]
    }
   ],
   "source": [
    "print(geo_data_2.info())\n",
    "print('Количество дубликатов:', geo_data_2.duplicated().sum())\n",
    "print('Количество пропусков:','\\n',geo_data_2.isnull().sum())"
   ]
  },
  {
   "cell_type": "markdown",
   "metadata": {},
   "source": [
    "В данных нет пропусков и дубликатов. Можно работать дальше."
   ]
  },
  {
   "cell_type": "code",
   "execution_count": 9,
   "metadata": {},
   "outputs": [
    {
     "data": {
      "text/html": [
       "<div>\n",
       "<style scoped>\n",
       "    .dataframe tbody tr th:only-of-type {\n",
       "        vertical-align: middle;\n",
       "    }\n",
       "\n",
       "    .dataframe tbody tr th {\n",
       "        vertical-align: top;\n",
       "    }\n",
       "\n",
       "    .dataframe thead th {\n",
       "        text-align: right;\n",
       "    }\n",
       "</style>\n",
       "<table border=\"1\" class=\"dataframe\">\n",
       "  <thead>\n",
       "    <tr style=\"text-align: right;\">\n",
       "      <th></th>\n",
       "      <th>f0</th>\n",
       "      <th>f1</th>\n",
       "      <th>f2</th>\n",
       "      <th>product</th>\n",
       "    </tr>\n",
       "  </thead>\n",
       "  <tbody>\n",
       "    <tr>\n",
       "      <th>count</th>\n",
       "      <td>100000.000000</td>\n",
       "      <td>100000.000000</td>\n",
       "      <td>100000.000000</td>\n",
       "      <td>100000.000000</td>\n",
       "    </tr>\n",
       "    <tr>\n",
       "      <th>mean</th>\n",
       "      <td>0.500419</td>\n",
       "      <td>0.250143</td>\n",
       "      <td>2.502647</td>\n",
       "      <td>92.500000</td>\n",
       "    </tr>\n",
       "    <tr>\n",
       "      <th>std</th>\n",
       "      <td>0.871832</td>\n",
       "      <td>0.504433</td>\n",
       "      <td>3.248248</td>\n",
       "      <td>44.288691</td>\n",
       "    </tr>\n",
       "    <tr>\n",
       "      <th>min</th>\n",
       "      <td>-1.408605</td>\n",
       "      <td>-0.848218</td>\n",
       "      <td>-12.088328</td>\n",
       "      <td>0.000000</td>\n",
       "    </tr>\n",
       "    <tr>\n",
       "      <th>25%</th>\n",
       "      <td>-0.072580</td>\n",
       "      <td>-0.200881</td>\n",
       "      <td>0.287748</td>\n",
       "      <td>56.497507</td>\n",
       "    </tr>\n",
       "    <tr>\n",
       "      <th>50%</th>\n",
       "      <td>0.502360</td>\n",
       "      <td>0.250252</td>\n",
       "      <td>2.515969</td>\n",
       "      <td>91.849972</td>\n",
       "    </tr>\n",
       "    <tr>\n",
       "      <th>75%</th>\n",
       "      <td>1.073581</td>\n",
       "      <td>0.700646</td>\n",
       "      <td>4.715088</td>\n",
       "      <td>128.564089</td>\n",
       "    </tr>\n",
       "    <tr>\n",
       "      <th>max</th>\n",
       "      <td>2.362331</td>\n",
       "      <td>1.343769</td>\n",
       "      <td>16.003790</td>\n",
       "      <td>185.364347</td>\n",
       "    </tr>\n",
       "  </tbody>\n",
       "</table>\n",
       "</div>"
      ],
      "text/plain": [
       "                  f0             f1             f2        product\n",
       "count  100000.000000  100000.000000  100000.000000  100000.000000\n",
       "mean        0.500419       0.250143       2.502647      92.500000\n",
       "std         0.871832       0.504433       3.248248      44.288691\n",
       "min        -1.408605      -0.848218     -12.088328       0.000000\n",
       "25%        -0.072580      -0.200881       0.287748      56.497507\n",
       "50%         0.502360       0.250252       2.515969      91.849972\n",
       "75%         1.073581       0.700646       4.715088     128.564089\n",
       "max         2.362331       1.343769      16.003790     185.364347"
      ]
     },
     "metadata": {},
     "output_type": "display_data"
    },
    {
     "data": {
      "image/png": "[encoded data removed]",
      "text/plain": [
       "<Figure size 432x288 with 4 Axes>"
      ]
     },
     "metadata": {
      "needs_background": "light"
     },
     "output_type": "display_data"
    }
   ],
   "source": [
    "#посмотрим на общую информацию о данных\n",
    "display(geo_data_0.describe())\n",
    "geo_data_0.hist();"
   ]
  },
  {
   "cell_type": "code",
   "execution_count": 10,
   "metadata": {},
   "outputs": [
    {
     "data": {
      "text/html": [
       "<div>\n",
       "<style scoped>\n",
       "    .dataframe tbody tr th:only-of-type {\n",
       "        vertical-align: middle;\n",
       "    }\n",
       "\n",
       "    .dataframe tbody tr th {\n",
       "        vertical-align: top;\n",
       "    }\n",
       "\n",
       "    .dataframe thead th {\n",
       "        text-align: right;\n",
       "    }\n",
       "</style>\n",
       "<table border=\"1\" class=\"dataframe\">\n",
       "  <thead>\n",
       "    <tr style=\"text-align: right;\">\n",
       "      <th></th>\n",
       "      <th>f0</th>\n",
       "      <th>f1</th>\n",
       "      <th>f2</th>\n",
       "      <th>product</th>\n",
       "    </tr>\n",
       "  </thead>\n",
       "  <tbody>\n",
       "    <tr>\n",
       "      <th>count</th>\n",
       "      <td>100000.000000</td>\n",
       "      <td>100000.000000</td>\n",
       "      <td>100000.000000</td>\n",
       "      <td>100000.000000</td>\n",
       "    </tr>\n",
       "    <tr>\n",
       "      <th>mean</th>\n",
       "      <td>1.141296</td>\n",
       "      <td>-4.796579</td>\n",
       "      <td>2.494541</td>\n",
       "      <td>68.825000</td>\n",
       "    </tr>\n",
       "    <tr>\n",
       "      <th>std</th>\n",
       "      <td>8.965932</td>\n",
       "      <td>5.119872</td>\n",
       "      <td>1.703572</td>\n",
       "      <td>45.944423</td>\n",
       "    </tr>\n",
       "    <tr>\n",
       "      <th>min</th>\n",
       "      <td>-31.609576</td>\n",
       "      <td>-26.358598</td>\n",
       "      <td>-0.018144</td>\n",
       "      <td>0.000000</td>\n",
       "    </tr>\n",
       "    <tr>\n",
       "      <th>25%</th>\n",
       "      <td>-6.298551</td>\n",
       "      <td>-8.267985</td>\n",
       "      <td>1.000021</td>\n",
       "      <td>26.953261</td>\n",
       "    </tr>\n",
       "    <tr>\n",
       "      <th>50%</th>\n",
       "      <td>1.153055</td>\n",
       "      <td>-4.813172</td>\n",
       "      <td>2.011479</td>\n",
       "      <td>57.085625</td>\n",
       "    </tr>\n",
       "    <tr>\n",
       "      <th>75%</th>\n",
       "      <td>8.621015</td>\n",
       "      <td>-1.332816</td>\n",
       "      <td>3.999904</td>\n",
       "      <td>107.813044</td>\n",
       "    </tr>\n",
       "    <tr>\n",
       "      <th>max</th>\n",
       "      <td>29.421755</td>\n",
       "      <td>18.734063</td>\n",
       "      <td>5.019721</td>\n",
       "      <td>137.945408</td>\n",
       "    </tr>\n",
       "  </tbody>\n",
       "</table>\n",
       "</div>"
      ],
      "text/plain": [
       "                  f0             f1             f2        product\n",
       "count  100000.000000  100000.000000  100000.000000  100000.000000\n",
       "mean        1.141296      -4.796579       2.494541      68.825000\n",
       "std         8.965932       5.119872       1.703572      45.944423\n",
       "min       -31.609576     -26.358598      -0.018144       0.000000\n",
       "25%        -6.298551      -8.267985       1.000021      26.953261\n",
       "50%         1.153055      -4.813172       2.011479      57.085625\n",
       "75%         8.621015      -1.332816       3.999904     107.813044\n",
       "max        29.421755      18.734063       5.019721     137.945408"
      ]
     },
     "metadata": {},
     "output_type": "display_data"
    },
    {
     "data": {
      "image/png": "[encoded data removed]",
      "text/plain": [
       "<Figure size 432x288 with 4 Axes>"
      ]
     },
     "metadata": {
      "needs_background": "light"
     },
     "output_type": "display_data"
    }
   ],
   "source": [
    "display(geo_data_1.describe())\n",
    "geo_data_1.hist();"
   ]
  },
  {
   "cell_type": "code",
   "execution_count": 11,
   "metadata": {},
   "outputs": [
    {
     "data": {
      "text/html": [
       "<div>\n",
       "<style scoped>\n",
       "    .dataframe tbody tr th:only-of-type {\n",
       "        vertical-align: middle;\n",
       "    }\n",
       "\n",
       "    .dataframe tbody tr th {\n",
       "        vertical-align: top;\n",
       "    }\n",
       "\n",
       "    .dataframe thead th {\n",
       "        text-align: right;\n",
       "    }\n",
       "</style>\n",
       "<table border=\"1\" class=\"dataframe\">\n",
       "  <thead>\n",
       "    <tr style=\"text-align: right;\">\n",
       "      <th></th>\n",
       "      <th>f0</th>\n",
       "      <th>f1</th>\n",
       "      <th>f2</th>\n",
       "      <th>product</th>\n",
       "    </tr>\n",
       "  </thead>\n",
       "  <tbody>\n",
       "    <tr>\n",
       "      <th>count</th>\n",
       "      <td>100000.000000</td>\n",
       "      <td>100000.000000</td>\n",
       "      <td>100000.000000</td>\n",
       "      <td>100000.000000</td>\n",
       "    </tr>\n",
       "    <tr>\n",
       "      <th>mean</th>\n",
       "      <td>0.002023</td>\n",
       "      <td>-0.002081</td>\n",
       "      <td>2.495128</td>\n",
       "      <td>95.000000</td>\n",
       "    </tr>\n",
       "    <tr>\n",
       "      <th>std</th>\n",
       "      <td>1.732045</td>\n",
       "      <td>1.730417</td>\n",
       "      <td>3.473445</td>\n",
       "      <td>44.749921</td>\n",
       "    </tr>\n",
       "    <tr>\n",
       "      <th>min</th>\n",
       "      <td>-8.760004</td>\n",
       "      <td>-7.084020</td>\n",
       "      <td>-11.970335</td>\n",
       "      <td>0.000000</td>\n",
       "    </tr>\n",
       "    <tr>\n",
       "      <th>25%</th>\n",
       "      <td>-1.162288</td>\n",
       "      <td>-1.174820</td>\n",
       "      <td>0.130359</td>\n",
       "      <td>59.450441</td>\n",
       "    </tr>\n",
       "    <tr>\n",
       "      <th>50%</th>\n",
       "      <td>0.009424</td>\n",
       "      <td>-0.009482</td>\n",
       "      <td>2.484236</td>\n",
       "      <td>94.925613</td>\n",
       "    </tr>\n",
       "    <tr>\n",
       "      <th>75%</th>\n",
       "      <td>1.158535</td>\n",
       "      <td>1.163678</td>\n",
       "      <td>4.858794</td>\n",
       "      <td>130.595027</td>\n",
       "    </tr>\n",
       "    <tr>\n",
       "      <th>max</th>\n",
       "      <td>7.238262</td>\n",
       "      <td>7.844801</td>\n",
       "      <td>16.739402</td>\n",
       "      <td>190.029838</td>\n",
       "    </tr>\n",
       "  </tbody>\n",
       "</table>\n",
       "</div>"
      ],
      "text/plain": [
       "                  f0             f1             f2        product\n",
       "count  100000.000000  100000.000000  100000.000000  100000.000000\n",
       "mean        0.002023      -0.002081       2.495128      95.000000\n",
       "std         1.732045       1.730417       3.473445      44.749921\n",
       "min        -8.760004      -7.084020     -11.970335       0.000000\n",
       "25%        -1.162288      -1.174820       0.130359      59.450441\n",
       "50%         0.009424      -0.009482       2.484236      94.925613\n",
       "75%         1.158535       1.163678       4.858794     130.595027\n",
       "max         7.238262       7.844801      16.739402     190.029838"
      ]
     },
     "metadata": {},
     "output_type": "display_data"
    },
    {
     "data": {
      "image/png": "[encoded data removed]",
      "text/plain": [
       "<Figure size 432x288 with 4 Axes>"
      ]
     },
     "metadata": {
      "needs_background": "light"
     },
     "output_type": "display_data"
    }
   ],
   "source": [
    "display(geo_data_2.describe())\n",
    "geo_data_2.hist();"
   ]
  },
  {
   "cell_type": "markdown",
   "metadata": {},
   "source": [
    "* id, вероятно, не важен для наших исследований\n",
    "* f0, f1, f2 - это features для наших моделей\n",
    "* product - target для нащих моделей\n",
    "\n",
    "Если мы посмотрим на распределение признаков, то они различны для разных датасетов, поэтому одна модель не подойдёт. Нужно обучать 3 разных линейных модели."
   ]
  },
  {
   "cell_type": "code",
   "execution_count": 12,
   "metadata": {},
   "outputs": [
    {
     "name": "stdout",
     "output_type": "stream",
     "text": [
      "10\n",
      "4\n",
      "4\n"
     ]
    }
   ],
   "source": [
    "print(geo_data_0['id'].duplicated().sum())\n",
    "print(geo_data_1['id'].duplicated().sum())\n",
    "print(geo_data_2['id'].duplicated().sum())"
   ]
  },
  {
   "cell_type": "code",
   "execution_count": 13,
   "metadata": {},
   "outputs": [
    {
     "data": {
      "image/png": "[encoded data removed]",
      "text/plain": [
       "<Figure size 432x288 with 2 Axes>"
      ]
     },
     "metadata": {
      "needs_background": "light"
     },
     "output_type": "display_data"
    }
   ],
   "source": [
    "import matplotlib.pyplot as plt\n",
    "import seaborn as sns\n",
    "sns.heatmap(geo_data_0.corr());"
   ]
  },
  {
   "cell_type": "code",
   "execution_count": 14,
   "metadata": {},
   "outputs": [
    {
     "data": {
      "image/png": "[encoded data removed]",
      "text/plain": [
       "<Figure size 432x288 with 2 Axes>"
      ]
     },
     "metadata": {
      "needs_background": "light"
     },
     "output_type": "display_data"
    }
   ],
   "source": [
    "sns.heatmap(geo_data_1.corr());"
   ]
  },
  {
   "cell_type": "code",
   "execution_count": 1,
   "metadata": {},
   "outputs": [
    {
     "ename": "NameError",
     "evalue": "name 'sns' is not defined",
     "output_type": "error",
     "traceback": [
      "\u001b[0;31m---------------------------------------------------------------------------\u001b[0m",
      "\u001b[0;31mNameError\u001b[0m                                 Traceback (most recent call last)",
      "\u001b[0;32m/tmp/ipykernel_31/4051650345.py\u001b[0m in \u001b[0;36m<module>\u001b[0;34m\u001b[0m\n\u001b[0;32m----> 1\u001b[0;31m \u001b[0msns\u001b[0m\u001b[0;34m.\u001b[0m\u001b[0mheatmap\u001b[0m\u001b[0;34m(\u001b[0m\u001b[0mgeo_data_2\u001b[0m\u001b[0;34m.\u001b[0m\u001b[0mcorr\u001b[0m\u001b[0;34m(\u001b[0m\u001b[0mannot\u001b[0m \u001b[0;34m=\u001b[0m \u001b[0;32mTrue\u001b[0m\u001b[0;34m)\u001b[0m\u001b[0;34m)\u001b[0m\u001b[0;34m;\u001b[0m\u001b[0;34m\u001b[0m\u001b[0;34m\u001b[0m\u001b[0m\n\u001b[0m",
      "\u001b[0;31mNameError\u001b[0m: name 'sns' is not defined"
     ]
    }
   ],
   "source": [
    "sns.heatmap(geo_data_2.corr(annot = True));"
   ]
  },
  {
   "cell_type": "code",
   "execution_count": 16,
   "metadata": {},
   "outputs": [],
   "source": [
    "#избавимся от столбца id во всех 3 датасетах\n",
    "geo_data_0 = geo_data_0.drop(['id'], axis=1)\n",
    "geo_data_1 = geo_data_1.drop(['id'], axis=1)\n",
    "geo_data_2 = geo_data_2.drop(['id'], axis=1)"
   ]
  },
  {
   "cell_type": "markdown",
   "metadata": {},
   "source": [
    "## Обучение и проверка модели"
   ]
  },
  {
   "cell_type": "code",
   "execution_count": 17,
   "metadata": {},
   "outputs": [],
   "source": [
    "def split_scale(data, target):\n",
    "    '''\n",
    "    На вход подаются датасет и название столбца target.\n",
    "    Функция разделяет датасет на 2 набора: train и valid, \n",
    "    в соотношении 75:25,\n",
    "    масштабирует их и обучает на них линейную модель.\n",
    "    На выходе выдаёт предсказания, средний запас предсказанного сырья\n",
    "    и RMSE модели.\n",
    "    '''\n",
    "    features = data.drop([target], axis=1)\n",
    "    target = data[target]\n",
    "    \n",
    "    features_train, features_valid, target_train, target_valid = train_test_split(\n",
    "        features, target, test_size=0.25, random_state=12345)\n",
    "    \n",
    "    scaler = StandardScaler()\n",
    "    scaler.fit(features_train)\n",
    "    features_train = scaler.transform(features_train)\n",
    "    features_valid = scaler.transform(features_valid)    \n",
    "    \n",
    "    model_lr = LinearRegression()\n",
    "    model_lr.fit(features_train, target_train)\n",
    "    predictions = model_lr.predict(features_valid)\n",
    "    RMSE = (mean_squared_error(predictions, target_valid)) ** 0.5\n",
    "    mean_product = sum(predictions) / len(predictions)\n",
    "#    print('Done')\n",
    "    \n",
    "    return pd.Series(predictions, index=target_valid.index), target_valid, RMSE, mean_product"
   ]
  },
  {
   "cell_type": "code",
   "execution_count": 18,
   "metadata": {
    "scrolled": false
   },
   "outputs": [
    {
     "name": "stdout",
     "output_type": "stream",
     "text": [
      "Регион 0\n",
      "RMSE: 37.5794217150813\n",
      "Средний запас предсказанного сырья: 92.59256778438008\n",
      "Средний запас сырья из данных: 92.50000000000001\n",
      "Полный запас предсказанного сырья: 2314814.194609509\n",
      "\n",
      "Регион 1\n",
      "RMSE: 0.893099286775617\n",
      "Средний запас предсказанного сырья: 68.7285468954458\n",
      "Средний запас сырья из данных: 68.82500000000002\n",
      "Полный запас предсказанного сырья: 1718213.67238615\n",
      "\n",
      "Регион 2\n",
      "RMSE: 40.02970873393434\n",
      "Средний запас предсказанного сырья: 94.96504596800506\n",
      "Средний запас сырья из данных: 95.00000000000004\n",
      "Полный запас предсказанного сырья: 2374126.1492001223\n",
      "\n"
     ]
    }
   ],
   "source": [
    "i=0\n",
    "for ind in [geo_data_0, geo_data_1, geo_data_2]:\n",
    "    predictions, target_valid, RMSE, mean_product = split_scale(ind, 'product')\n",
    "    print(f'Регион {i}')\n",
    "    i += 1\n",
    "    print('RMSE:', RMSE)\n",
    "    print('Средний запас предсказанного сырья:', mean_product)\n",
    "    print('Средний запас сырья из данных:', ind['product'].mean())\n",
    "    print('Полный запас предсказанного сырья:', predictions.sum())\n",
    "    print()"
   ]
  },
  {
   "cell_type": "code",
   "execution_count": 19,
   "metadata": {},
   "outputs": [],
   "source": [
    "#сохраним predictions, target_valid для каждого региона\n",
    "predictions_0, target_0, RMSE_0, mean_product_0 = split_scale(geo_data_0, 'product')\n",
    "predictions_1, target_1, RMSE_1, mean_product_1 = split_scale(geo_data_1, 'product')\n",
    "predictions_2, target_2, RMSE_2, mean_product_2 = split_scale(geo_data_2, 'product')"
   ]
  },
  {
   "cell_type": "markdown",
   "metadata": {},
   "source": [
    "Лучше всего модель предсказывет а _первом_ регионе, там значение средней квадратичной ошибки меньше остальных. Однако средний запас сырья в этом регионе меньше, чем в _нулевом_ и _втором_ регионах. Скорее всего, на данных первого региона произошло переобучение."
   ]
  },
  {
   "cell_type": "markdown",
   "metadata": {},
   "source": [
    "## Подготовка к расчёту прибыли"
   ]
  },
  {
   "cell_type": "code",
   "execution_count": 20,
   "metadata": {},
   "outputs": [
    {
     "name": "stdout",
     "output_type": "stream",
     "text": [
      "Cреднее количество нефти на регион: 22222.222222222223\n",
      "Cредняя прибыль для лучших точек: 50000000.0\n",
      "Cреднее количество нефти для лучших точек: 111.11111111111111\n"
     ]
    }
   ],
   "source": [
    "#среднее количество нефти на регион\n",
    "mean_barrels = BUDGET / (PRICE_PER_BARREL)\n",
    "print('Cреднее количество нефти на регион:', mean_barrels)\n",
    "\n",
    "#средняя прибыль для лучших точек\n",
    "mean_best_profit = BUDGET / BEST_POINTS\n",
    "print('Cредняя прибыль для лучших точек:', mean_best_profit)\n",
    "\n",
    "#среднее количество нефти для лучших точек\n",
    "mean_barrels_per_point = mean_best_profit / (PRICE_PER_BARREL)\n",
    "print('Cреднее количество нефти для лучших точек:', mean_barrels_per_point)"
   ]
  },
  {
   "cell_type": "markdown",
   "metadata": {},
   "source": [
    "Средние запасы сырья в скважинах и предсказанные запасы меньше, чем среднее количество для лучших точек (111)."
   ]
  },
  {
   "cell_type": "markdown",
   "metadata": {},
   "source": [
    "## Расчёт прибыли и рисков "
   ]
  },
  {
   "cell_type": "code",
   "execution_count": 28,
   "metadata": {},
   "outputs": [],
   "source": [
    "def oil_income(target, predictions, count):\n",
    "    '''\n",
    "    Функция для расчёта прибыли по выбранным скважинам \n",
    "    и предсказаниям модели\n",
    "    '''\n",
    "    predictions_sorted = predictions.sort_values(ascending=False)\n",
    "    selected = target[predictions_sorted.index][:count]\n",
    "    income = PRICE_PER_BARREL * selected.sum() - BUDGET\n",
    "    return income"
   ]
  },
  {
   "cell_type": "code",
   "execution_count": 29,
   "metadata": {},
   "outputs": [],
   "source": [
    "state = np.random.RandomState(12345)\n",
    "def interval_loss(target, predictions):\n",
    "    '''\n",
    "    Функция для нахождения средней прибыли, \n",
    "    95%-го доверительного интервала и риска убытков\n",
    "    '''\n",
    "    income_tot=[]\n",
    "    loss = 0\n",
    "    for i in range(1000):\n",
    "        target_sample = target.sample(n=POINTS, replace=True, random_state=state)\n",
    "        predictions_sample = predictions[target_sample.index]\n",
    "        profit = oil_income(target, predictions_sample, BEST_POINTS)\n",
    "        if profit < 0:\n",
    "            loss +=1\n",
    "        income_tot.append(profit)\n",
    "    \n",
    "    income_tot = pd.Series(income_tot)\n",
    "    lower = income_tot.quantile(0.025)\n",
    "    upper = income_tot.quantile(0.975)\n",
    "    mean_income = income_tot.mean()\n",
    "    risk = loss / 1000\n",
    "    return mean_income, lower, upper, risk"
   ]
  },
  {
   "cell_type": "code",
   "execution_count": 30,
   "metadata": {},
   "outputs": [
    {
     "name": "stdout",
     "output_type": "stream",
     "text": [
      "Доверительный 95% интервал: (-111215545.89049526, 909766941.5534226)\n",
      "Средний доход: 396164984.8023711\n",
      "Риск: 0.069\n"
     ]
    }
   ],
   "source": [
    "#посмотрим на распределение для нулевого региона\n",
    "mean_income_0, lower_0, upper_0, risk_0 = interval_loss(target_0,predictions_0)\n",
    "print('Доверительный 95% интервал:', (lower_0, upper_0))\n",
    "print('Средний доход:', mean_income_0)\n",
    "print('Риск:', risk_0)"
   ]
  },
  {
   "cell_type": "code",
   "execution_count": 31,
   "metadata": {},
   "outputs": [
    {
     "name": "stdout",
     "output_type": "stream",
     "text": [
      "Доверительный 95% интервал: (78050810.7517417, 862952060.2637234)\n",
      "Средний доход: 461155817.2772397\n",
      "Риск: 0.007\n"
     ]
    }
   ],
   "source": [
    "#посмотрим на распределение для первого региона\n",
    "mean_income_1, lower_1, upper_1, risk_1 = interval_loss(target_1,predictions_1)\n",
    "print('Доверительный 95% интервал:', (lower_1, upper_1))\n",
    "print('Средний доход:', mean_income_1)\n",
    "print('Риск:', risk_1)"
   ]
  },
  {
   "cell_type": "code",
   "execution_count": 32,
   "metadata": {},
   "outputs": [
    {
     "name": "stdout",
     "output_type": "stream",
     "text": [
      "Доверительный 95% интервал: (-112227625.37857565, 934562914.5511636)\n",
      "Средний доход: 392950475.17060447\n",
      "Риск: 0.065\n"
     ]
    }
   ],
   "source": [
    "#посмотрим на распределение для второго региона\n",
    "mean_income_2, lower_2, upper_2, risk_2 = interval_loss(target_2,predictions_2)\n",
    "print('Доверительный 95% интервал:', (lower_2, upper_2))\n",
    "print('Средний доход:', mean_income_2)\n",
    "print('Риск:', risk_2)"
   ]
  },
  {
   "cell_type": "markdown",
   "metadata": {},
   "source": [
    "В ходе расчёта прибыли и рисков были найдены 95%-й доверительный интервал, средний доход и оценка риска. Так в нулевом и втором регионах вероятность убытков больше 2.5%, поэтому стоит заняться разработкой скважин в первом регионе."
   ]
  },
  {
   "cell_type": "markdown",
   "metadata": {},
   "source": [
    "## Вывод"
   ]
  },
  {
   "cell_type": "markdown",
   "metadata": {},
   "source": [
    "В ходе нашего исследования были изучены данные о нефтяных скважинах в разных регионах. Была обучена модель линейной регрессии (как самая предсказуемая) для 3 регионов.\n",
    "\n",
    "Также были написаны функция для вычисления прибыли в регионе и функция для нахождения доверительного интервала и рисков убытков. В результате исследования трёх регионов, был выявлен самый перспективный в плане разработки новых скважин. Только в первом регионе вероятность убытков меньше 2.5%, и это лучший показатель среди всех регионов."
   ]
  }
 ],
 "metadata": {
  "ExecuteTimeLog": [
   {
    "duration": 1948,
    "start_time": "2023-04-16T18:49:53.080Z"
   },
   {
    "duration": 11,
    "start_time": "2023-04-16T18:50:15.279Z"
   },
   {
    "duration": 494,
    "start_time": "2023-04-16T18:53:23.725Z"
   },
   {
    "duration": 773,
    "start_time": "2023-04-16T18:53:27.984Z"
   },
   {
    "duration": 15,
    "start_time": "2023-04-16T18:53:32.172Z"
   },
   {
    "duration": 11,
    "start_time": "2023-04-16T18:55:27.825Z"
   },
   {
    "duration": 681,
    "start_time": "2023-04-16T18:55:31.531Z"
   },
   {
    "duration": 261,
    "start_time": "2023-04-16T18:56:45.659Z"
   },
   {
    "duration": 241,
    "start_time": "2023-04-16T18:57:50.083Z"
   },
   {
    "duration": 254,
    "start_time": "2023-04-16T18:57:55.861Z"
   },
   {
    "duration": 242,
    "start_time": "2023-04-16T18:57:59.653Z"
   },
   {
    "duration": 245,
    "start_time": "2023-04-16T18:58:09.885Z"
   },
   {
    "duration": 235,
    "start_time": "2023-04-16T18:58:21.753Z"
   },
   {
    "duration": 229,
    "start_time": "2023-04-16T18:58:48.961Z"
   },
   {
    "duration": 232,
    "start_time": "2023-04-16T18:58:54.137Z"
   },
   {
    "duration": 224,
    "start_time": "2023-04-16T18:58:57.679Z"
   },
   {
    "duration": 246,
    "start_time": "2023-04-16T18:59:07.467Z"
   },
   {
    "duration": 232,
    "start_time": "2023-04-16T18:59:40.721Z"
   },
   {
    "duration": 252,
    "start_time": "2023-04-16T18:59:45.655Z"
   },
   {
    "duration": 55,
    "start_time": "2023-04-16T19:03:12.640Z"
   },
   {
    "duration": 28,
    "start_time": "2023-04-16T19:03:26.836Z"
   },
   {
    "duration": 38,
    "start_time": "2023-04-16T19:03:35.869Z"
   },
   {
    "duration": 46,
    "start_time": "2023-04-16T19:03:44.136Z"
   },
   {
    "duration": 44,
    "start_time": "2023-04-16T19:05:11.189Z"
   },
   {
    "duration": 42,
    "start_time": "2023-04-16T19:05:26.186Z"
   },
   {
    "duration": 498,
    "start_time": "2023-04-16T19:06:49.406Z"
   },
   {
    "duration": 477,
    "start_time": "2023-04-16T19:06:56.584Z"
   },
   {
    "duration": 584,
    "start_time": "2023-04-16T19:07:38.069Z"
   },
   {
    "duration": 503,
    "start_time": "2023-04-16T19:08:35.116Z"
   },
   {
    "duration": 7,
    "start_time": "2023-04-16T19:47:30.992Z"
   },
   {
    "duration": 7,
    "start_time": "2023-04-16T19:52:31.673Z"
   },
   {
    "duration": 6,
    "start_time": "2023-04-16T19:53:13.181Z"
   },
   {
    "duration": 15,
    "start_time": "2023-04-16T19:57:36.861Z"
   },
   {
    "duration": 37,
    "start_time": "2023-04-16T20:00:14.620Z"
   },
   {
    "duration": 14,
    "start_time": "2023-04-16T20:00:29.616Z"
   },
   {
    "duration": 15,
    "start_time": "2023-04-16T20:01:31.453Z"
   },
   {
    "duration": 32,
    "start_time": "2023-04-16T20:01:34.775Z"
   },
   {
    "duration": 12,
    "start_time": "2023-04-16T20:01:36.447Z"
   },
   {
    "duration": 21,
    "start_time": "2023-04-16T20:01:42.586Z"
   },
   {
    "duration": 6,
    "start_time": "2023-04-16T20:01:51.638Z"
   },
   {
    "duration": 27,
    "start_time": "2023-04-16T20:01:57.083Z"
   },
   {
    "duration": 13,
    "start_time": "2023-04-16T20:01:59.085Z"
   },
   {
    "duration": 5,
    "start_time": "2023-04-16T20:02:04.865Z"
   },
   {
    "duration": 13,
    "start_time": "2023-04-16T20:05:00.672Z"
   },
   {
    "duration": 9,
    "start_time": "2023-04-16T20:05:12.358Z"
   },
   {
    "duration": 5,
    "start_time": "2023-04-16T20:13:31.070Z"
   },
   {
    "duration": 8,
    "start_time": "2023-04-16T20:13:36.519Z"
   },
   {
    "duration": 5,
    "start_time": "2023-04-16T20:14:00.847Z"
   },
   {
    "duration": 5,
    "start_time": "2023-04-16T20:14:13.949Z"
   },
   {
    "duration": 5,
    "start_time": "2023-04-16T20:14:19.247Z"
   },
   {
    "duration": 6,
    "start_time": "2023-04-16T20:14:28.723Z"
   },
   {
    "duration": 10,
    "start_time": "2023-04-16T20:15:12.054Z"
   },
   {
    "duration": 6,
    "start_time": "2023-04-16T20:15:31.867Z"
   },
   {
    "duration": 5,
    "start_time": "2023-04-16T20:15:38.464Z"
   },
   {
    "duration": 5,
    "start_time": "2023-04-16T20:15:43.082Z"
   },
   {
    "duration": 6,
    "start_time": "2023-04-16T20:21:28.431Z"
   },
   {
    "duration": 6,
    "start_time": "2023-04-16T20:43:39.904Z"
   },
   {
    "duration": 166,
    "start_time": "2023-04-16T20:47:54.477Z"
   },
   {
    "duration": 9,
    "start_time": "2023-04-16T20:48:02.866Z"
   },
   {
    "duration": 203,
    "start_time": "2023-04-16T20:48:06.747Z"
   },
   {
    "duration": 6,
    "start_time": "2023-04-16T20:48:50.767Z"
   },
   {
    "duration": 210,
    "start_time": "2023-04-16T20:48:52.133Z"
   },
   {
    "duration": 242,
    "start_time": "2023-04-16T20:49:50.110Z"
   },
   {
    "duration": 207,
    "start_time": "2023-04-16T20:50:18.644Z"
   },
   {
    "duration": 6,
    "start_time": "2023-04-16T20:51:34.116Z"
   },
   {
    "duration": 188,
    "start_time": "2023-04-16T20:51:36.077Z"
   },
   {
    "duration": 6,
    "start_time": "2023-04-16T20:52:31.300Z"
   },
   {
    "duration": 11,
    "start_time": "2023-04-16T20:53:03.265Z"
   },
   {
    "duration": 110,
    "start_time": "2023-04-16T20:53:06.242Z"
   },
   {
    "duration": 5,
    "start_time": "2023-04-16T20:53:31.448Z"
   },
   {
    "duration": 188,
    "start_time": "2023-04-16T20:53:35.053Z"
   },
   {
    "duration": 402,
    "start_time": "2023-04-16T20:53:49.146Z"
   },
   {
    "duration": 423,
    "start_time": "2023-04-16T20:54:06.027Z"
   },
   {
    "duration": 6,
    "start_time": "2023-04-16T20:54:09.264Z"
   },
   {
    "duration": 519,
    "start_time": "2023-04-16T20:54:10.829Z"
   },
   {
    "duration": 516,
    "start_time": "2023-04-16T20:58:14.727Z"
   },
   {
    "duration": 190,
    "start_time": "2023-04-16T21:01:14.452Z"
   },
   {
    "duration": 587,
    "start_time": "2023-04-16T21:01:24.559Z"
   },
   {
    "duration": 478,
    "start_time": "2023-04-16T21:01:49.463Z"
   },
   {
    "duration": 510,
    "start_time": "2023-04-16T21:02:23.132Z"
   },
   {
    "duration": 542,
    "start_time": "2023-04-16T21:04:53.599Z"
   },
   {
    "duration": 521,
    "start_time": "2023-04-16T21:05:34.321Z"
   },
   {
    "duration": 424,
    "start_time": "2023-04-16T21:05:55.736Z"
   },
   {
    "duration": 443,
    "start_time": "2023-04-16T21:06:51.021Z"
   },
   {
    "duration": 381,
    "start_time": "2023-04-16T21:16:27.179Z"
   },
   {
    "duration": 7,
    "start_time": "2023-04-23T15:54:21.716Z"
   },
   {
    "duration": 1539,
    "start_time": "2023-04-23T15:54:27.620Z"
   },
   {
    "duration": 495,
    "start_time": "2023-04-23T15:54:30.360Z"
   },
   {
    "duration": 273,
    "start_time": "2023-04-23T15:54:32.013Z"
   },
   {
    "duration": 262,
    "start_time": "2023-04-23T15:54:33.238Z"
   },
   {
    "duration": 390,
    "start_time": "2023-04-23T15:54:35.204Z"
   },
   {
    "duration": 364,
    "start_time": "2023-04-23T15:54:37.024Z"
   },
   {
    "duration": 414,
    "start_time": "2023-04-23T15:54:38.450Z"
   },
   {
    "duration": 17,
    "start_time": "2023-04-23T15:54:40.519Z"
   },
   {
    "duration": 4,
    "start_time": "2023-04-23T15:54:42.750Z"
   },
   {
    "duration": 382,
    "start_time": "2023-04-23T15:54:44.773Z"
   },
   {
    "duration": 3,
    "start_time": "2023-04-23T15:54:54.872Z"
   },
   {
    "duration": 99,
    "start_time": "2023-04-23T16:23:07.416Z"
   },
   {
    "duration": 3,
    "start_time": "2023-04-23T16:23:21.320Z"
   },
   {
    "duration": 5,
    "start_time": "2023-04-23T16:23:24.618Z"
   },
   {
    "duration": 4,
    "start_time": "2023-04-23T16:24:32.924Z"
   },
   {
    "duration": 3,
    "start_time": "2023-04-23T16:45:37.544Z"
   },
   {
    "duration": 3,
    "start_time": "2023-04-23T16:50:40.311Z"
   },
   {
    "duration": 5,
    "start_time": "2023-04-23T17:23:33.218Z"
   },
   {
    "duration": 1492,
    "start_time": "2023-04-24T07:18:57.390Z"
   },
   {
    "duration": 413,
    "start_time": "2023-04-24T07:19:01.584Z"
   },
   {
    "duration": 239,
    "start_time": "2023-04-24T07:19:03.216Z"
   },
   {
    "duration": 234,
    "start_time": "2023-04-24T07:19:04.452Z"
   },
   {
    "duration": 330,
    "start_time": "2023-04-24T07:19:06.455Z"
   },
   {
    "duration": 301,
    "start_time": "2023-04-24T07:19:08.483Z"
   },
   {
    "duration": 353,
    "start_time": "2023-04-24T07:19:09.848Z"
   },
   {
    "duration": 14,
    "start_time": "2023-04-24T07:19:11.608Z"
   },
   {
    "duration": 5,
    "start_time": "2023-04-24T07:19:13.687Z"
   },
   {
    "duration": 438,
    "start_time": "2023-04-24T07:19:16.348Z"
   },
   {
    "duration": 3,
    "start_time": "2023-04-24T07:19:19.588Z"
   },
   {
    "duration": 4,
    "start_time": "2023-04-24T07:19:22.084Z"
   },
   {
    "duration": 3,
    "start_time": "2023-04-24T07:19:25.215Z"
   },
   {
    "duration": 5,
    "start_time": "2023-04-24T07:19:28.522Z"
   },
   {
    "duration": 281,
    "start_time": "2023-04-24T07:32:06.037Z"
   },
   {
    "duration": 5,
    "start_time": "2023-04-24T07:32:07.531Z"
   },
   {
    "duration": 357,
    "start_time": "2023-04-24T07:32:09.627Z"
   },
   {
    "duration": 4,
    "start_time": "2023-04-24T07:33:10.933Z"
   },
   {
    "duration": 378,
    "start_time": "2023-04-24T07:33:13.007Z"
   },
   {
    "duration": 34,
    "start_time": "2023-04-24T07:34:30.699Z"
   },
   {
    "duration": 349,
    "start_time": "2023-04-24T07:35:48.931Z"
   },
   {
    "duration": 19,
    "start_time": "2023-04-24T07:40:08.281Z"
   },
   {
    "duration": 4,
    "start_time": "2023-04-24T07:40:36.530Z"
   },
   {
    "duration": 275,
    "start_time": "2023-04-24T07:40:38.108Z"
   },
   {
    "duration": 19,
    "start_time": "2023-04-24T07:40:43.458Z"
   },
   {
    "duration": 3,
    "start_time": "2023-04-24T07:41:18.967Z"
   },
   {
    "duration": 4,
    "start_time": "2023-04-24T07:41:27.593Z"
   },
   {
    "duration": 18,
    "start_time": "2023-04-24T07:42:35.678Z"
   },
   {
    "duration": 5,
    "start_time": "2023-04-24T07:45:47.320Z"
   },
   {
    "duration": 17,
    "start_time": "2023-04-24T07:45:52.547Z"
   },
   {
    "duration": 4,
    "start_time": "2023-04-24T07:57:05.318Z"
   },
   {
    "duration": 18,
    "start_time": "2023-04-24T07:57:11.059Z"
   },
   {
    "duration": 4,
    "start_time": "2023-04-24T07:57:39.696Z"
   },
   {
    "duration": 19,
    "start_time": "2023-04-24T07:57:42.161Z"
   },
   {
    "duration": 6,
    "start_time": "2023-04-24T08:02:59.067Z"
   },
   {
    "duration": 16,
    "start_time": "2023-04-24T08:03:01.893Z"
   },
   {
    "duration": 4,
    "start_time": "2023-04-24T08:03:24.989Z"
   },
   {
    "duration": 19,
    "start_time": "2023-04-24T08:03:27.184Z"
   },
   {
    "duration": 4,
    "start_time": "2023-04-24T08:05:11.426Z"
   },
   {
    "duration": 304,
    "start_time": "2023-04-24T08:05:15.087Z"
   },
   {
    "duration": 12,
    "start_time": "2023-04-24T08:05:23.834Z"
   },
   {
    "duration": 5,
    "start_time": "2023-04-24T08:05:59.527Z"
   },
   {
    "duration": 21,
    "start_time": "2023-04-24T08:06:02.670Z"
   },
   {
    "duration": 4,
    "start_time": "2023-04-24T08:06:30.618Z"
   },
   {
    "duration": 19,
    "start_time": "2023-04-24T08:06:32.891Z"
   },
   {
    "duration": 15,
    "start_time": "2023-04-24T08:07:16.091Z"
   },
   {
    "duration": 22,
    "start_time": "2023-04-24T08:07:31.371Z"
   },
   {
    "duration": 5,
    "start_time": "2023-04-24T08:07:52.016Z"
   },
   {
    "duration": 17,
    "start_time": "2023-04-24T08:07:54.016Z"
   },
   {
    "duration": 5,
    "start_time": "2023-04-24T08:10:10.297Z"
   },
   {
    "duration": 18,
    "start_time": "2023-04-24T08:10:36.695Z"
   },
   {
    "duration": 4,
    "start_time": "2023-04-24T08:11:16.462Z"
   },
   {
    "duration": 20,
    "start_time": "2023-04-24T08:11:18.889Z"
   },
   {
    "duration": 4,
    "start_time": "2023-04-24T08:11:44.819Z"
   },
   {
    "duration": 9,
    "start_time": "2023-04-24T08:11:55.789Z"
   },
   {
    "duration": 16,
    "start_time": "2023-04-24T08:11:59.203Z"
   },
   {
    "duration": 1606,
    "start_time": "2023-04-24T20:06:20.848Z"
   },
   {
    "duration": 311,
    "start_time": "2023-04-24T20:06:24.886Z"
   },
   {
    "duration": 287,
    "start_time": "2023-04-24T20:06:29.118Z"
   },
   {
    "duration": 303,
    "start_time": "2023-04-24T20:06:31.929Z"
   },
   {
    "duration": 418,
    "start_time": "2023-04-24T20:06:34.002Z"
   },
   {
    "duration": 417,
    "start_time": "2023-04-24T20:06:35.816Z"
   },
   {
    "duration": 490,
    "start_time": "2023-04-24T20:06:37.401Z"
   },
   {
    "duration": 18,
    "start_time": "2023-04-24T20:06:40.275Z"
   },
   {
    "duration": 6,
    "start_time": "2023-04-24T20:06:43.856Z"
   },
   {
    "duration": 3,
    "start_time": "2023-04-24T20:06:48.432Z"
   },
   {
    "duration": 5,
    "start_time": "2023-04-24T20:07:01.443Z"
   },
   {
    "duration": 5,
    "start_time": "2023-04-24T20:07:06.874Z"
   },
   {
    "duration": 5,
    "start_time": "2023-04-24T20:07:10.352Z"
   },
   {
    "duration": 404,
    "start_time": "2023-04-24T20:07:23.298Z"
   },
   {
    "duration": 4,
    "start_time": "2023-04-24T20:07:24.516Z"
   },
   {
    "duration": 135,
    "start_time": "2023-04-24T20:07:26.248Z"
   },
   {
    "duration": 6,
    "start_time": "2023-04-24T20:11:24.737Z"
   },
   {
    "duration": 4,
    "start_time": "2023-04-24T20:11:34.483Z"
   },
   {
    "duration": 4,
    "start_time": "2023-04-24T20:12:02.450Z"
   },
   {
    "duration": 1544,
    "start_time": "2023-04-24T20:13:12.530Z"
   },
   {
    "duration": 4,
    "start_time": "2023-04-24T20:13:35.918Z"
   },
   {
    "duration": 5,
    "start_time": "2023-04-24T20:13:53.562Z"
   },
   {
    "duration": 22,
    "start_time": "2023-04-24T20:13:55.734Z"
   },
   {
    "duration": 6,
    "start_time": "2023-04-24T20:14:25.861Z"
   },
   {
    "duration": 14,
    "start_time": "2023-04-24T20:15:10.315Z"
   },
   {
    "duration": 8,
    "start_time": "2023-04-24T20:15:21.101Z"
   },
   {
    "duration": 13,
    "start_time": "2023-04-24T20:15:35.887Z"
   },
   {
    "duration": 21,
    "start_time": "2023-04-24T20:15:44.717Z"
   },
   {
    "duration": 18,
    "start_time": "2023-04-24T20:16:43.807Z"
   },
   {
    "duration": 18,
    "start_time": "2023-04-24T20:18:58.238Z"
   },
   {
    "duration": 23,
    "start_time": "2023-04-24T20:20:00.399Z"
   },
   {
    "duration": 18,
    "start_time": "2023-04-24T20:23:40.705Z"
   },
   {
    "duration": 9,
    "start_time": "2023-04-24T20:23:48.381Z"
   },
   {
    "duration": 7,
    "start_time": "2023-04-24T20:24:13.716Z"
   },
   {
    "duration": 22,
    "start_time": "2023-04-24T20:24:16.788Z"
   },
   {
    "duration": 6,
    "start_time": "2023-04-24T20:24:28.365Z"
   },
   {
    "duration": 21,
    "start_time": "2023-04-24T20:24:30.817Z"
   },
   {
    "duration": 5,
    "start_time": "2023-04-24T20:24:39.003Z"
   },
   {
    "duration": 2765,
    "start_time": "2023-04-24T20:24:41.417Z"
   },
   {
    "duration": 3,
    "start_time": "2023-04-24T20:27:21.135Z"
   },
   {
    "duration": 11,
    "start_time": "2023-04-24T20:27:44.682Z"
   },
   {
    "duration": 2658,
    "start_time": "2023-04-24T20:27:46.775Z"
   },
   {
    "duration": 3207,
    "start_time": "2023-04-24T20:28:40.682Z"
   },
   {
    "duration": 2680,
    "start_time": "2023-04-24T20:29:22.324Z"
   },
   {
    "duration": 2668,
    "start_time": "2023-04-24T20:29:33.193Z"
   },
   {
    "duration": 5,
    "start_time": "2023-04-24T20:31:22.330Z"
   },
   {
    "duration": 2661,
    "start_time": "2023-04-24T20:31:25.188Z"
   },
   {
    "duration": 6,
    "start_time": "2023-04-24T20:32:05.775Z"
   },
   {
    "duration": 510,
    "start_time": "2023-04-24T20:32:08.278Z"
   },
   {
    "duration": 18,
    "start_time": "2023-04-24T20:32:12.843Z"
   },
   {
    "duration": 5,
    "start_time": "2023-04-24T20:33:10.174Z"
   },
   {
    "duration": 370,
    "start_time": "2023-04-24T20:33:12.630Z"
   },
   {
    "duration": 1614,
    "start_time": "2023-04-24T20:33:14.374Z"
   },
   {
    "duration": 6,
    "start_time": "2023-04-24T20:34:30.033Z"
   },
   {
    "duration": 514,
    "start_time": "2023-04-24T20:34:31.975Z"
   },
   {
    "duration": 1676,
    "start_time": "2023-04-24T20:34:34.080Z"
   },
   {
    "duration": 4,
    "start_time": "2023-04-24T20:34:52.573Z"
   },
   {
    "duration": 6,
    "start_time": "2023-04-24T20:34:54.704Z"
   },
   {
    "duration": 1692,
    "start_time": "2023-04-24T20:34:56.818Z"
   },
   {
    "duration": 4,
    "start_time": "2023-04-24T20:35:19.015Z"
   },
   {
    "duration": 5,
    "start_time": "2023-04-24T20:35:21.268Z"
   },
   {
    "duration": 1610,
    "start_time": "2023-04-24T20:35:23.363Z"
   },
   {
    "duration": 4,
    "start_time": "2023-04-24T20:37:15.903Z"
   },
   {
    "duration": 6,
    "start_time": "2023-04-24T20:37:17.102Z"
   },
   {
    "duration": 20,
    "start_time": "2023-04-24T20:37:31.902Z"
   },
   {
    "duration": 6,
    "start_time": "2023-04-24T20:37:55.966Z"
   },
   {
    "duration": 6,
    "start_time": "2023-04-24T20:38:02.674Z"
   },
   {
    "duration": 31,
    "start_time": "2023-04-24T20:38:04.815Z"
   },
   {
    "duration": 5,
    "start_time": "2023-04-24T20:38:43.545Z"
   },
   {
    "duration": 1084,
    "start_time": "2023-04-24T20:38:46.265Z"
   },
   {
    "duration": 4,
    "start_time": "2023-04-24T20:42:17.230Z"
   },
   {
    "duration": 7,
    "start_time": "2023-04-24T20:42:27.262Z"
   },
   {
    "duration": 464,
    "start_time": "2023-04-24T20:42:30.424Z"
   },
   {
    "duration": 1673,
    "start_time": "2023-04-24T20:42:36.325Z"
   },
   {
    "duration": 4,
    "start_time": "2023-04-24T20:43:19.774Z"
   },
   {
    "duration": 5,
    "start_time": "2023-04-24T20:43:23.536Z"
   },
   {
    "duration": 35,
    "start_time": "2023-04-24T20:43:27.175Z"
   },
   {
    "duration": 8,
    "start_time": "2023-04-24T20:46:02.130Z"
   },
   {
    "duration": 27,
    "start_time": "2023-04-24T20:46:07.242Z"
   },
   {
    "duration": 3,
    "start_time": "2023-04-24T20:46:19.024Z"
   },
   {
    "duration": 1657,
    "start_time": "2023-04-24T20:46:23.284Z"
   },
   {
    "duration": 5,
    "start_time": "2023-04-24T20:51:04.839Z"
   },
   {
    "duration": 580,
    "start_time": "2023-04-24T20:51:09.407Z"
   },
   {
    "duration": 3,
    "start_time": "2023-04-24T20:51:14.706Z"
   },
   {
    "duration": 5,
    "start_time": "2023-04-24T20:51:16.353Z"
   },
   {
    "duration": 4,
    "start_time": "2023-04-24T20:51:20.586Z"
   },
   {
    "duration": 5,
    "start_time": "2023-04-24T20:51:23.436Z"
   },
   {
    "duration": 457,
    "start_time": "2023-04-24T20:51:25.755Z"
   },
   {
    "duration": 1784,
    "start_time": "2023-04-24T20:51:29.380Z"
   },
   {
    "duration": 6,
    "start_time": "2023-04-24T20:52:57.334Z"
   },
   {
    "duration": 479,
    "start_time": "2023-04-24T20:52:59.213Z"
   },
   {
    "duration": 6,
    "start_time": "2023-04-24T20:53:16.034Z"
   },
   {
    "duration": 4,
    "start_time": "2023-04-24T20:53:17.776Z"
   },
   {
    "duration": 396,
    "start_time": "2023-04-24T20:53:19.809Z"
   },
   {
    "duration": 1584,
    "start_time": "2023-04-24T20:53:23.665Z"
   },
   {
    "duration": 3,
    "start_time": "2023-04-24T20:53:29.065Z"
   },
   {
    "duration": 6,
    "start_time": "2023-04-24T20:53:29.907Z"
   },
   {
    "duration": 987,
    "start_time": "2023-04-24T20:53:30.947Z"
   },
   {
    "duration": 9,
    "start_time": "2023-04-24T20:53:58.282Z"
   },
   {
    "duration": 19,
    "start_time": "2023-04-24T20:54:28.235Z"
   },
   {
    "duration": 3,
    "start_time": "2023-04-24T20:57:42.966Z"
   },
   {
    "duration": 6,
    "start_time": "2023-04-24T20:57:45.657Z"
   },
   {
    "duration": 3,
    "start_time": "2023-04-24T20:58:00.255Z"
   },
   {
    "duration": 6,
    "start_time": "2023-04-24T20:58:02.822Z"
   },
   {
    "duration": 7,
    "start_time": "2023-04-24T21:03:08.519Z"
   },
   {
    "duration": 460,
    "start_time": "2023-04-24T21:03:12.837Z"
   },
   {
    "duration": 2301,
    "start_time": "2023-04-24T21:03:17.918Z"
   },
   {
    "duration": 6,
    "start_time": "2023-04-24T21:35:47.923Z"
   },
   {
    "duration": 7,
    "start_time": "2023-04-24T21:36:04.110Z"
   },
   {
    "duration": 6,
    "start_time": "2023-04-24T21:36:42.279Z"
   },
   {
    "duration": 401,
    "start_time": "2023-04-24T21:36:52.408Z"
   },
   {
    "duration": 6,
    "start_time": "2023-04-24T21:36:55.297Z"
   },
   {
    "duration": 7,
    "start_time": "2023-04-24T21:36:59.966Z"
   },
   {
    "duration": 6,
    "start_time": "2023-04-24T21:41:01.607Z"
   },
   {
    "duration": 565,
    "start_time": "2023-04-24T21:41:04.623Z"
   },
   {
    "duration": 37,
    "start_time": "2023-04-24T21:42:46.554Z"
   },
   {
    "duration": 5,
    "start_time": "2023-04-24T21:42:56.134Z"
   },
   {
    "duration": 4,
    "start_time": "2023-04-24T21:43:25.112Z"
   },
   {
    "duration": 314,
    "start_time": "2023-04-24T21:44:06.493Z"
   },
   {
    "duration": 5,
    "start_time": "2023-04-24T21:44:07.922Z"
   },
   {
    "duration": 8,
    "start_time": "2023-04-24T21:45:20.632Z"
   },
   {
    "duration": 461,
    "start_time": "2023-04-24T21:46:11.251Z"
   },
   {
    "duration": 6,
    "start_time": "2023-04-24T21:46:12.616Z"
   },
   {
    "duration": 6,
    "start_time": "2023-04-24T21:46:36.411Z"
   },
   {
    "duration": 7,
    "start_time": "2023-04-24T21:46:44.693Z"
   },
   {
    "duration": 6,
    "start_time": "2023-04-24T21:47:02.096Z"
   },
   {
    "duration": 8,
    "start_time": "2023-04-24T21:47:05.559Z"
   },
   {
    "duration": 129,
    "start_time": "2023-04-24T21:47:07.169Z"
   },
   {
    "duration": 6,
    "start_time": "2023-04-24T21:47:09.129Z"
   },
   {
    "duration": 371,
    "start_time": "2023-04-24T21:47:21.228Z"
   },
   {
    "duration": 3,
    "start_time": "2023-04-24T21:47:25.462Z"
   },
   {
    "duration": 4,
    "start_time": "2023-04-24T21:48:19.721Z"
   },
   {
    "duration": 6,
    "start_time": "2023-04-24T21:50:00.058Z"
   },
   {
    "duration": 425,
    "start_time": "2023-04-24T21:50:02.963Z"
   },
   {
    "duration": 1052,
    "start_time": "2023-04-24T21:50:20.647Z"
   },
   {
    "duration": 6,
    "start_time": "2023-04-24T21:51:34.813Z"
   },
   {
    "duration": 442,
    "start_time": "2023-04-24T21:51:36.652Z"
   },
   {
    "duration": 1002,
    "start_time": "2023-04-24T21:51:38.098Z"
   },
   {
    "duration": 4,
    "start_time": "2023-04-24T21:53:04.686Z"
   },
   {
    "duration": 42,
    "start_time": "2023-04-24T21:53:30.375Z"
   },
   {
    "duration": 12,
    "start_time": "2023-04-24T21:53:51.611Z"
   },
   {
    "duration": 4,
    "start_time": "2023-04-24T21:54:15.265Z"
   },
   {
    "duration": 16,
    "start_time": "2023-04-24T21:54:16.974Z"
   },
   {
    "duration": 5,
    "start_time": "2023-04-24T21:54:37.246Z"
   },
   {
    "duration": 17,
    "start_time": "2023-04-24T21:54:38.667Z"
   },
   {
    "duration": 5,
    "start_time": "2023-04-24T21:55:47.847Z"
   },
   {
    "duration": 12,
    "start_time": "2023-04-24T21:55:49.440Z"
   },
   {
    "duration": 6,
    "start_time": "2023-04-24T22:00:00.562Z"
   },
   {
    "duration": 5,
    "start_time": "2023-04-24T22:00:19.391Z"
   },
   {
    "duration": 13,
    "start_time": "2023-04-24T22:00:37.570Z"
   },
   {
    "duration": 5,
    "start_time": "2023-04-24T22:00:43.779Z"
   },
   {
    "duration": 3,
    "start_time": "2023-04-24T22:01:24.315Z"
   },
   {
    "duration": 4,
    "start_time": "2023-04-24T22:01:35.513Z"
   },
   {
    "duration": 86,
    "start_time": "2023-04-24T22:01:37.501Z"
   },
   {
    "duration": 14,
    "start_time": "2023-04-24T22:01:38.676Z"
   },
   {
    "duration": 5,
    "start_time": "2023-04-24T22:02:09.375Z"
   },
   {
    "duration": 5,
    "start_time": "2023-04-24T22:02:18.264Z"
   },
   {
    "duration": 6,
    "start_time": "2023-04-24T22:02:36.010Z"
   },
   {
    "duration": 5,
    "start_time": "2023-04-24T22:02:39.735Z"
   },
   {
    "duration": 1039,
    "start_time": "2023-04-24T22:02:43.794Z"
   },
   {
    "duration": 21,
    "start_time": "2023-04-24T22:04:08.139Z"
   },
   {
    "duration": 6,
    "start_time": "2023-04-24T22:05:00.797Z"
   },
   {
    "duration": 4428,
    "start_time": "2023-04-24T22:05:05.760Z"
   },
   {
    "duration": 97,
    "start_time": "2023-04-24T22:05:34.034Z"
   },
   {
    "duration": 5,
    "start_time": "2023-04-24T22:05:44.996Z"
   },
   {
    "duration": 26,
    "start_time": "2023-04-24T22:05:48.391Z"
   },
   {
    "duration": 5,
    "start_time": "2023-04-24T22:06:11.713Z"
   },
   {
    "duration": 4482,
    "start_time": "2023-04-24T22:06:18.260Z"
   },
   {
    "duration": 4,
    "start_time": "2023-04-24T22:07:12.167Z"
   },
   {
    "duration": 5,
    "start_time": "2023-04-24T22:07:21.084Z"
   },
   {
    "duration": 18,
    "start_time": "2023-04-24T22:07:32.825Z"
   },
   {
    "duration": 3,
    "start_time": "2023-04-24T22:08:14.622Z"
   },
   {
    "duration": 4,
    "start_time": "2023-04-24T22:08:26.267Z"
   },
   {
    "duration": 6,
    "start_time": "2023-04-24T22:08:32.279Z"
   },
   {
    "duration": 4,
    "start_time": "2023-04-24T22:08:35.328Z"
   },
   {
    "duration": 5,
    "start_time": "2023-04-24T22:08:36.551Z"
   },
   {
    "duration": 994,
    "start_time": "2023-04-24T22:08:38.582Z"
   },
   {
    "duration": 35,
    "start_time": "2023-04-24T22:10:28.590Z"
   },
   {
    "duration": 33,
    "start_time": "2023-04-24T22:10:30.295Z"
   },
   {
    "duration": 1015,
    "start_time": "2023-04-24T22:11:24.367Z"
   },
   {
    "duration": 1031,
    "start_time": "2023-04-24T22:12:58.750Z"
   },
   {
    "duration": 999,
    "start_time": "2023-04-24T22:18:12.072Z"
   },
   {
    "duration": 7,
    "start_time": "2023-04-24T22:20:43.139Z"
   },
   {
    "duration": 970,
    "start_time": "2023-04-24T22:20:45.435Z"
   },
   {
    "duration": 1019,
    "start_time": "2023-04-24T22:20:50.720Z"
   },
   {
    "duration": 1038,
    "start_time": "2023-04-24T22:20:55.912Z"
   },
   {
    "duration": 5,
    "start_time": "2023-04-24T22:21:48.886Z"
   },
   {
    "duration": 31,
    "start_time": "2023-04-24T22:22:46.003Z"
   },
   {
    "duration": 17,
    "start_time": "2023-04-24T22:22:53.368Z"
   },
   {
    "duration": 6,
    "start_time": "2023-04-24T22:25:59.243Z"
   },
   {
    "duration": 18,
    "start_time": "2023-04-24T22:38:21.986Z"
   },
   {
    "duration": 982,
    "start_time": "2023-04-24T22:39:07.133Z"
   },
   {
    "duration": 17,
    "start_time": "2023-04-24T22:39:28.239Z"
   },
   {
    "duration": 17,
    "start_time": "2023-04-24T22:40:14.958Z"
   },
   {
    "duration": 34,
    "start_time": "2023-04-24T22:40:52.287Z"
   },
   {
    "duration": 1032,
    "start_time": "2023-04-24T22:40:55.011Z"
   },
   {
    "duration": 1011,
    "start_time": "2023-04-24T22:41:01.713Z"
   },
   {
    "duration": 986,
    "start_time": "2023-04-24T22:41:11.138Z"
   },
   {
    "duration": 973,
    "start_time": "2023-04-24T22:41:38.365Z"
   },
   {
    "duration": 981,
    "start_time": "2023-04-24T22:41:58.515Z"
   },
   {
    "duration": 4,
    "start_time": "2023-04-24T23:12:58.137Z"
   },
   {
    "duration": 22,
    "start_time": "2023-04-24T23:13:00.085Z"
   },
   {
    "duration": 4,
    "start_time": "2023-04-24T23:13:05.814Z"
   },
   {
    "duration": 9,
    "start_time": "2023-04-24T23:13:06.986Z"
   },
   {
    "duration": 1278,
    "start_time": "2023-04-24T23:13:08.737Z"
   },
   {
    "duration": 3,
    "start_time": "2023-04-24T23:13:29.647Z"
   },
   {
    "duration": 5,
    "start_time": "2023-04-24T23:13:34.458Z"
   },
   {
    "duration": 1281,
    "start_time": "2023-04-24T23:13:36.221Z"
   },
   {
    "duration": 3,
    "start_time": "2023-04-24T23:14:07.370Z"
   },
   {
    "duration": 5,
    "start_time": "2023-04-24T23:14:08.940Z"
   },
   {
    "duration": 1262,
    "start_time": "2023-04-24T23:14:10.291Z"
   },
   {
    "duration": 3,
    "start_time": "2023-04-24T23:14:37.848Z"
   },
   {
    "duration": 5,
    "start_time": "2023-04-24T23:14:39.866Z"
   },
   {
    "duration": 3,
    "start_time": "2023-04-24T23:14:45.849Z"
   },
   {
    "duration": 6,
    "start_time": "2023-04-24T23:14:47.143Z"
   },
   {
    "duration": 16,
    "start_time": "2023-04-24T23:14:48.628Z"
   },
   {
    "duration": 4,
    "start_time": "2023-04-24T23:15:01.526Z"
   },
   {
    "duration": 5,
    "start_time": "2023-04-24T23:15:02.656Z"
   },
   {
    "duration": 18,
    "start_time": "2023-04-24T23:15:04.510Z"
   },
   {
    "duration": 5,
    "start_time": "2023-04-24T23:15:55.812Z"
   },
   {
    "duration": 21,
    "start_time": "2023-04-24T23:16:00.642Z"
   },
   {
    "duration": 4,
    "start_time": "2023-04-24T23:16:16.103Z"
   },
   {
    "duration": 5,
    "start_time": "2023-04-24T23:16:18.475Z"
   },
   {
    "duration": 19,
    "start_time": "2023-04-24T23:16:25.427Z"
   },
   {
    "duration": 1002,
    "start_time": "2023-04-24T23:16:31.229Z"
   },
   {
    "duration": 6,
    "start_time": "2023-04-24T23:16:59.413Z"
   },
   {
    "duration": 19,
    "start_time": "2023-04-24T23:17:01.320Z"
   },
   {
    "duration": 3,
    "start_time": "2023-04-24T23:17:20.692Z"
   },
   {
    "duration": 5,
    "start_time": "2023-04-24T23:17:22.017Z"
   },
   {
    "duration": 952,
    "start_time": "2023-04-24T23:17:23.585Z"
   },
   {
    "duration": 5,
    "start_time": "2023-04-24T23:18:06.374Z"
   },
   {
    "duration": 960,
    "start_time": "2023-04-24T23:18:07.910Z"
   },
   {
    "duration": 4,
    "start_time": "2023-04-24T23:18:57.930Z"
   },
   {
    "duration": 5,
    "start_time": "2023-04-24T23:18:59.962Z"
   },
   {
    "duration": 1034,
    "start_time": "2023-04-24T23:19:04.429Z"
   },
   {
    "duration": 5,
    "start_time": "2023-04-24T23:19:43.698Z"
   },
   {
    "duration": 1012,
    "start_time": "2023-04-24T23:19:46.287Z"
   },
   {
    "duration": 5,
    "start_time": "2023-04-24T23:20:57.174Z"
   },
   {
    "duration": 979,
    "start_time": "2023-04-24T23:20:58.375Z"
   },
   {
    "duration": 5,
    "start_time": "2023-04-24T23:21:16.668Z"
   },
   {
    "duration": 999,
    "start_time": "2023-04-24T23:21:17.995Z"
   },
   {
    "duration": 5,
    "start_time": "2023-04-24T23:21:26.536Z"
   },
   {
    "duration": 1184,
    "start_time": "2023-04-24T23:21:27.933Z"
   },
   {
    "duration": 5,
    "start_time": "2023-04-24T23:21:45.718Z"
   },
   {
    "duration": 978,
    "start_time": "2023-04-24T23:21:48.947Z"
   },
   {
    "duration": 3,
    "start_time": "2023-04-24T23:22:04.237Z"
   },
   {
    "duration": 5,
    "start_time": "2023-04-24T23:22:12.215Z"
   },
   {
    "duration": 986,
    "start_time": "2023-04-24T23:22:14.586Z"
   },
   {
    "duration": 5,
    "start_time": "2023-04-24T23:23:09.772Z"
   },
   {
    "duration": 989,
    "start_time": "2023-04-24T23:23:11.038Z"
   },
   {
    "duration": 5,
    "start_time": "2023-04-24T23:23:23.330Z"
   },
   {
    "duration": 972,
    "start_time": "2023-04-24T23:23:25.143Z"
   },
   {
    "duration": 5,
    "start_time": "2023-04-24T23:23:34.155Z"
   },
   {
    "duration": 977,
    "start_time": "2023-04-24T23:23:35.309Z"
   },
   {
    "duration": 5,
    "start_time": "2023-04-24T23:24:34.626Z"
   },
   {
    "duration": 978,
    "start_time": "2023-04-24T23:24:36.569Z"
   },
   {
    "duration": 4,
    "start_time": "2023-04-24T23:40:40.315Z"
   },
   {
    "duration": 7,
    "start_time": "2023-04-24T23:40:41.807Z"
   },
   {
    "duration": 976,
    "start_time": "2023-04-24T23:40:43.765Z"
   },
   {
    "duration": 1086,
    "start_time": "2023-04-24T23:40:59.928Z"
   },
   {
    "duration": 1005,
    "start_time": "2023-04-24T23:41:03.483Z"
   },
   {
    "duration": 3,
    "start_time": "2023-04-25T00:10:59.107Z"
   },
   {
    "duration": 259,
    "start_time": "2023-04-25T00:11:00.352Z"
   },
   {
    "duration": 203,
    "start_time": "2023-04-25T00:11:01.738Z"
   },
   {
    "duration": 205,
    "start_time": "2023-04-25T00:11:02.966Z"
   },
   {
    "duration": 386,
    "start_time": "2023-04-25T00:11:04.769Z"
   },
   {
    "duration": 382,
    "start_time": "2023-04-25T00:11:06.602Z"
   },
   {
    "duration": 379,
    "start_time": "2023-04-25T00:11:08.108Z"
   },
   {
    "duration": 15,
    "start_time": "2023-04-25T00:11:09.991Z"
   },
   {
    "duration": 6,
    "start_time": "2023-04-25T00:11:12.255Z"
   },
   {
    "duration": 3,
    "start_time": "2023-04-25T00:11:15.282Z"
   },
   {
    "duration": 5,
    "start_time": "2023-04-25T00:11:16.864Z"
   },
   {
    "duration": 4,
    "start_time": "2023-04-25T00:11:19.030Z"
   },
   {
    "duration": 5,
    "start_time": "2023-04-25T00:11:22.106Z"
   },
   {
    "duration": 950,
    "start_time": "2023-04-25T00:11:23.393Z"
   },
   {
    "duration": 980,
    "start_time": "2023-04-25T00:11:25.699Z"
   },
   {
    "duration": 993,
    "start_time": "2023-04-25T00:11:28.198Z"
   },
   {
    "duration": 2723,
    "start_time": "2023-04-25T13:21:43.298Z"
   },
   {
    "duration": 955,
    "start_time": "2023-04-25T13:21:46.023Z"
   },
   {
    "duration": 870,
    "start_time": "2023-04-25T13:21:46.983Z"
   },
   {
    "duration": 867,
    "start_time": "2023-04-25T13:21:47.855Z"
   },
   {
    "duration": 517,
    "start_time": "2023-04-25T13:21:48.725Z"
   },
   {
    "duration": 507,
    "start_time": "2023-04-25T13:21:49.244Z"
   },
   {
    "duration": 583,
    "start_time": "2023-04-25T13:21:49.755Z"
   },
   {
    "duration": 31,
    "start_time": "2023-04-25T13:21:50.340Z"
   },
   {
    "duration": 28,
    "start_time": "2023-04-25T13:21:50.375Z"
   },
   {
    "duration": 428,
    "start_time": "2023-04-25T13:21:50.406Z"
   },
   {
    "duration": 14,
    "start_time": "2023-04-25T13:21:50.866Z"
   },
   {
    "duration": 245,
    "start_time": "2023-04-25T13:21:50.884Z"
   },
   {
    "duration": 0,
    "start_time": "2023-04-25T13:21:51.131Z"
   },
   {
    "duration": 0,
    "start_time": "2023-04-25T13:21:51.133Z"
   },
   {
    "duration": 0,
    "start_time": "2023-04-25T13:21:51.135Z"
   },
   {
    "duration": 0,
    "start_time": "2023-04-25T13:21:51.137Z"
   },
   {
    "duration": 0,
    "start_time": "2023-04-25T13:21:51.139Z"
   },
   {
    "duration": 5,
    "start_time": "2023-04-25T13:23:18.018Z"
   },
   {
    "duration": 6,
    "start_time": "2023-04-25T13:23:18.037Z"
   },
   {
    "duration": 5,
    "start_time": "2023-04-25T13:23:18.045Z"
   },
   {
    "duration": 38,
    "start_time": "2023-04-25T13:23:18.052Z"
   },
   {
    "duration": 0,
    "start_time": "2023-04-25T13:23:18.092Z"
   },
   {
    "duration": 0,
    "start_time": "2023-04-25T13:23:18.093Z"
   },
   {
    "duration": 8,
    "start_time": "2023-04-25T13:25:03.786Z"
   },
   {
    "duration": 2720,
    "start_time": "2023-04-25T13:26:17.451Z"
   },
   {
    "duration": 290,
    "start_time": "2023-04-25T13:26:20.173Z"
   },
   {
    "duration": 255,
    "start_time": "2023-04-25T13:26:20.467Z"
   },
   {
    "duration": 253,
    "start_time": "2023-04-25T13:26:20.723Z"
   },
   {
    "duration": 556,
    "start_time": "2023-04-25T13:26:20.978Z"
   },
   {
    "duration": 512,
    "start_time": "2023-04-25T13:26:21.537Z"
   },
   {
    "duration": 735,
    "start_time": "2023-04-25T13:26:22.051Z"
   },
   {
    "duration": 27,
    "start_time": "2023-04-25T13:26:22.792Z"
   },
   {
    "duration": 5,
    "start_time": "2023-04-25T13:26:22.832Z"
   },
   {
    "duration": 494,
    "start_time": "2023-04-25T13:26:22.840Z"
   },
   {
    "duration": 21,
    "start_time": "2023-04-25T13:26:23.336Z"
   },
   {
    "duration": 260,
    "start_time": "2023-04-25T13:26:23.366Z"
   },
   {
    "duration": 0,
    "start_time": "2023-04-25T13:26:23.632Z"
   },
   {
    "duration": 0,
    "start_time": "2023-04-25T13:26:23.637Z"
   },
   {
    "duration": 0,
    "start_time": "2023-04-25T13:26:23.641Z"
   },
   {
    "duration": 0,
    "start_time": "2023-04-25T13:26:23.645Z"
   },
   {
    "duration": 0,
    "start_time": "2023-04-25T13:26:23.648Z"
   },
   {
    "duration": 53,
    "start_time": "2023-04-25T14:49:30.997Z"
   },
   {
    "duration": 1526,
    "start_time": "2023-04-25T14:49:34.983Z"
   },
   {
    "duration": 585,
    "start_time": "2023-04-25T14:49:37.802Z"
   },
   {
    "duration": 60,
    "start_time": "2023-04-25T14:49:44.675Z"
   },
   {
    "duration": 562,
    "start_time": "2023-04-25T14:49:48.927Z"
   },
   {
    "duration": 59,
    "start_time": "2023-04-25T14:49:54.059Z"
   },
   {
    "duration": 579,
    "start_time": "2023-04-25T14:49:58.427Z"
   },
   {
    "duration": 62,
    "start_time": "2023-04-25T14:50:03.736Z"
   },
   {
    "duration": 333,
    "start_time": "2023-04-25T14:50:07.678Z"
   },
   {
    "duration": 325,
    "start_time": "2023-04-25T14:50:09.232Z"
   },
   {
    "duration": 394,
    "start_time": "2023-04-25T14:50:10.522Z"
   },
   {
    "duration": 340,
    "start_time": "2023-04-25T14:52:49.482Z"
   },
   {
    "duration": 260,
    "start_time": "2023-04-25T14:53:07.302Z"
   },
   {
    "duration": 269,
    "start_time": "2023-04-25T14:53:13.394Z"
   },
   {
    "duration": 215,
    "start_time": "2023-04-25T14:53:16.749Z"
   },
   {
    "duration": 221,
    "start_time": "2023-04-25T14:53:32.439Z"
   },
   {
    "duration": 17,
    "start_time": "2023-04-25T14:54:44.685Z"
   },
   {
    "duration": 25,
    "start_time": "2023-04-25T14:55:00.916Z"
   },
   {
    "duration": 19,
    "start_time": "2023-04-25T14:55:15.193Z"
   },
   {
    "duration": 39,
    "start_time": "2023-04-25T14:55:26.894Z"
   },
   {
    "duration": 53,
    "start_time": "2023-04-25T14:56:16.509Z"
   },
   {
    "duration": 6,
    "start_time": "2023-04-25T14:57:25.594Z"
   },
   {
    "duration": 119,
    "start_time": "2023-04-25T14:58:21.181Z"
   },
   {
    "duration": 5,
    "start_time": "2023-04-25T14:58:24.607Z"
   },
   {
    "duration": 47,
    "start_time": "2023-04-25T14:58:27.924Z"
   },
   {
    "duration": 5,
    "start_time": "2023-04-25T14:59:08.317Z"
   },
   {
    "duration": 47,
    "start_time": "2023-04-25T14:59:32.496Z"
   },
   {
    "duration": 3,
    "start_time": "2023-04-25T14:59:36.618Z"
   },
   {
    "duration": 5,
    "start_time": "2023-04-25T14:59:38.312Z"
   },
   {
    "duration": 4,
    "start_time": "2023-04-25T14:59:43.801Z"
   },
   {
    "duration": 6,
    "start_time": "2023-04-25T14:59:54.704Z"
   },
   {
    "duration": 9,
    "start_time": "2023-04-25T15:01:15.109Z"
   },
   {
    "duration": 5,
    "start_time": "2023-04-25T15:01:39.140Z"
   },
   {
    "duration": 52,
    "start_time": "2023-04-25T15:01:41.849Z"
   },
   {
    "duration": 5,
    "start_time": "2023-04-25T15:01:58.438Z"
   },
   {
    "duration": 4,
    "start_time": "2023-04-25T15:02:32.655Z"
   },
   {
    "duration": 1376,
    "start_time": "2023-04-25T15:02:43.205Z"
   },
   {
    "duration": 134,
    "start_time": "2023-04-25T15:02:44.583Z"
   },
   {
    "duration": 62,
    "start_time": "2023-04-25T15:02:44.719Z"
   },
   {
    "duration": 118,
    "start_time": "2023-04-25T15:02:44.783Z"
   },
   {
    "duration": 66,
    "start_time": "2023-04-25T15:02:44.903Z"
   },
   {
    "duration": 121,
    "start_time": "2023-04-25T15:02:44.971Z"
   },
   {
    "duration": 67,
    "start_time": "2023-04-25T15:02:45.094Z"
   },
   {
    "duration": 360,
    "start_time": "2023-04-25T15:02:45.163Z"
   },
   {
    "duration": 348,
    "start_time": "2023-04-25T15:02:45.525Z"
   },
   {
    "duration": 401,
    "start_time": "2023-04-25T15:02:45.875Z"
   },
   {
    "duration": 44,
    "start_time": "2023-04-25T15:02:46.278Z"
   },
   {
    "duration": 341,
    "start_time": "2023-04-25T15:02:46.324Z"
   },
   {
    "duration": 292,
    "start_time": "2023-04-25T15:02:46.666Z"
   },
   {
    "duration": 302,
    "start_time": "2023-04-25T15:02:46.962Z"
   },
   {
    "duration": 16,
    "start_time": "2023-04-25T15:02:47.267Z"
   },
   {
    "duration": 26,
    "start_time": "2023-04-25T15:02:47.285Z"
   },
   {
    "duration": 420,
    "start_time": "2023-04-25T15:02:47.312Z"
   },
   {
    "duration": 85,
    "start_time": "2023-04-25T15:02:47.733Z"
   },
   {
    "duration": 10,
    "start_time": "2023-04-25T15:02:47.820Z"
   },
   {
    "duration": 33,
    "start_time": "2023-04-25T15:02:47.917Z"
   },
   {
    "duration": 30,
    "start_time": "2023-04-25T15:02:47.952Z"
   },
   {
    "duration": 147,
    "start_time": "2023-04-25T15:02:47.983Z"
   },
   {
    "duration": 0,
    "start_time": "2023-04-25T15:02:48.132Z"
   },
   {
    "duration": 1,
    "start_time": "2023-04-25T15:02:48.133Z"
   },
   {
    "duration": 330,
    "start_time": "2023-04-25T15:05:19.295Z"
   },
   {
    "duration": 339,
    "start_time": "2023-04-25T15:05:38.884Z"
   },
   {
    "duration": 2,
    "start_time": "2023-04-25T15:07:08.816Z"
   },
   {
    "duration": 4,
    "start_time": "2023-04-25T15:07:10.241Z"
   },
   {
    "duration": 800,
    "start_time": "2023-04-25T15:07:41.272Z"
   },
   {
    "duration": 760,
    "start_time": "2023-04-25T15:07:43.637Z"
   },
   {
    "duration": 826,
    "start_time": "2023-04-25T15:07:46.251Z"
   },
   {
    "duration": 4,
    "start_time": "2023-04-25T15:08:46.791Z"
   },
   {
    "duration": 1293,
    "start_time": "2023-04-25T15:08:52.189Z"
   },
   {
    "duration": 2,
    "start_time": "2023-04-25T15:08:53.484Z"
   },
   {
    "duration": 143,
    "start_time": "2023-04-25T15:08:53.487Z"
   },
   {
    "duration": 65,
    "start_time": "2023-04-25T15:08:53.631Z"
   },
   {
    "duration": 116,
    "start_time": "2023-04-25T15:08:53.698Z"
   },
   {
    "duration": 55,
    "start_time": "2023-04-25T15:08:53.816Z"
   },
   {
    "duration": 117,
    "start_time": "2023-04-25T15:08:53.872Z"
   },
   {
    "duration": 67,
    "start_time": "2023-04-25T15:08:53.991Z"
   },
   {
    "duration": 355,
    "start_time": "2023-04-25T15:08:54.059Z"
   },
   {
    "duration": 353,
    "start_time": "2023-04-25T15:08:54.416Z"
   },
   {
    "duration": 402,
    "start_time": "2023-04-25T15:08:54.770Z"
   },
   {
    "duration": 46,
    "start_time": "2023-04-25T15:08:55.173Z"
   },
   {
    "duration": 338,
    "start_time": "2023-04-25T15:08:55.220Z"
   },
   {
    "duration": 259,
    "start_time": "2023-04-25T15:08:55.560Z"
   },
   {
    "duration": 243,
    "start_time": "2023-04-25T15:08:55.821Z"
   },
   {
    "duration": 16,
    "start_time": "2023-04-25T15:08:56.065Z"
   },
   {
    "duration": 11,
    "start_time": "2023-04-25T15:08:56.082Z"
   },
   {
    "duration": 439,
    "start_time": "2023-04-25T15:08:56.094Z"
   },
   {
    "duration": 594,
    "start_time": "2023-04-25T15:08:56.534Z"
   },
   {
    "duration": 88,
    "start_time": "2023-04-25T15:08:57.130Z"
   },
   {
    "duration": 96,
    "start_time": "2023-04-25T15:08:57.220Z"
   },
   {
    "duration": 13,
    "start_time": "2023-04-25T15:08:57.319Z"
   },
   {
    "duration": 138,
    "start_time": "2023-04-25T15:08:57.334Z"
   },
   {
    "duration": 0,
    "start_time": "2023-04-25T15:08:57.474Z"
   },
   {
    "duration": 0,
    "start_time": "2023-04-25T15:08:57.475Z"
   },
   {
    "duration": 6,
    "start_time": "2023-04-25T15:09:35.339Z"
   },
   {
    "duration": 13,
    "start_time": "2023-04-25T15:09:38.112Z"
   },
   {
    "duration": 5,
    "start_time": "2023-04-25T15:09:54.469Z"
   },
   {
    "duration": 22,
    "start_time": "2023-04-25T15:09:56.747Z"
   },
   {
    "duration": 3,
    "start_time": "2023-04-25T15:10:23.247Z"
   },
   {
    "duration": 5,
    "start_time": "2023-04-25T15:10:25.183Z"
   },
   {
    "duration": 756,
    "start_time": "2023-04-25T15:10:27.356Z"
   },
   {
    "duration": 756,
    "start_time": "2023-04-25T15:10:29.884Z"
   },
   {
    "duration": 719,
    "start_time": "2023-04-25T15:10:31.799Z"
   },
   {
    "duration": 46,
    "start_time": "2023-04-25T20:35:14.260Z"
   }
  ],
  "kernelspec": {
   "display_name": "Python 3 (ipykernel)",
   "language": "python",
   "name": "python3"
  },
  "language_info": {
   "codemirror_mode": {
    "name": "ipython",
    "version": 3
   },
   "file_extension": ".py",
   "mimetype": "text/x-python",
   "name": "python",
   "nbconvert_exporter": "python",
   "pygments_lexer": "ipython3",
   "version": "3.9.18"
  },
  "toc": {
   "base_numbering": 1,
   "nav_menu": {},
   "number_sections": true,
   "sideBar": true,
   "skip_h1_title": true,
   "title_cell": "Table of Contents",
   "title_sidebar": "Contents",
   "toc_cell": false,
   "toc_position": {},
   "toc_section_display": true,
   "toc_window_display": true
  }
 },
 "nbformat": 4,
 "nbformat_minor": 2
}
