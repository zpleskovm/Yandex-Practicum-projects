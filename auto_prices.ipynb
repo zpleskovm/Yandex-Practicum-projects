{
 "cells": [
  {
   "cell_type": "markdown",
   "metadata": {},
   "source": [
    "# Определение стоимости автомобилей"
   ]
  },
  {
   "cell_type": "markdown",
   "metadata": {},
   "source": [
    "Сервис по продаже автомобилей с пробегом «Не бит, не крашен» разрабатывает приложение для привлечения новых клиентов. В нём можно быстро узнать рыночную стоимость своего автомобиля. В вашем распоряжении исторические данные: технические характеристики, комплектации и цены автомобилей. Вам нужно построить модель для определения стоимости. \n",
    "\n",
    "Заказчику важны:\n",
    "\n",
    "- качество предсказания;\n",
    "- скорость предсказания;\n",
    "- время обучения."
   ]
  },
  {
   "cell_type": "markdown",
   "metadata": {},
   "source": [
    "## Подготовка данных"
   ]
  },
  {
   "cell_type": "code",
   "execution_count": 121,
   "metadata": {},
   "outputs": [],
   "source": [
    "# импорт библиотек\n",
    "import pandas as pd\n",
    "import numpy as np\n",
    "\n",
    "from sklearn.model_selection import train_test_split\n",
    "from sklearn.model_selection import GridSearchCV\n",
    "from sklearn.metrics import mean_squared_error\n",
    "\n",
    "from sklearn.linear_model import LinearRegression\n",
    "from sklearn.tree import DecisionTreeRegressor\n",
    "from sklearn.ensemble import RandomForestRegressor\n",
    "from sklearn.dummy import DummyRegressor\n",
    "\n",
    "from catboost import CatBoostRegressor\n",
    "from lightgbm import LGBMRegressor\n",
    "\n",
    "import matplotlib.pyplot as plt\n",
    "\n",
    "from sklearn.preprocessing import OrdinalEncoder\n",
    "from sklearn.preprocessing import StandardScaler\n",
    "\n",
    "import warnings\n",
    "warnings.filterwarnings('ignore')\n",
    "from tqdm import tqdm"
   ]
  },
  {
   "cell_type": "code",
   "execution_count": 122,
   "metadata": {},
   "outputs": [
    {
     "data": {
      "text/html": [
       "<div>\n",
       "<style scoped>\n",
       "    .dataframe tbody tr th:only-of-type {\n",
       "        vertical-align: middle;\n",
       "    }\n",
       "\n",
       "    .dataframe tbody tr th {\n",
       "        vertical-align: top;\n",
       "    }\n",
       "\n",
       "    .dataframe thead th {\n",
       "        text-align: right;\n",
       "    }\n",
       "</style>\n",
       "<table border=\"1\" class=\"dataframe\">\n",
       "  <thead>\n",
       "    <tr style=\"text-align: right;\">\n",
       "      <th></th>\n",
       "      <th>DateCrawled</th>\n",
       "      <th>Price</th>\n",
       "      <th>VehicleType</th>\n",
       "      <th>RegistrationYear</th>\n",
       "      <th>Gearbox</th>\n",
       "      <th>Power</th>\n",
       "      <th>Model</th>\n",
       "      <th>Kilometer</th>\n",
       "      <th>RegistrationMonth</th>\n",
       "      <th>FuelType</th>\n",
       "      <th>Brand</th>\n",
       "      <th>Repaired</th>\n",
       "      <th>DateCreated</th>\n",
       "      <th>NumberOfPictures</th>\n",
       "      <th>PostalCode</th>\n",
       "      <th>LastSeen</th>\n",
       "    </tr>\n",
       "  </thead>\n",
       "  <tbody>\n",
       "    <tr>\n",
       "      <th>0</th>\n",
       "      <td>2016-03-24 11:52:17</td>\n",
       "      <td>480</td>\n",
       "      <td>NaN</td>\n",
       "      <td>1993</td>\n",
       "      <td>manual</td>\n",
       "      <td>0</td>\n",
       "      <td>golf</td>\n",
       "      <td>150000</td>\n",
       "      <td>0</td>\n",
       "      <td>petrol</td>\n",
       "      <td>volkswagen</td>\n",
       "      <td>NaN</td>\n",
       "      <td>2016-03-24 00:00:00</td>\n",
       "      <td>0</td>\n",
       "      <td>70435</td>\n",
       "      <td>2016-04-07 03:16:57</td>\n",
       "    </tr>\n",
       "    <tr>\n",
       "      <th>1</th>\n",
       "      <td>2016-03-24 10:58:45</td>\n",
       "      <td>18300</td>\n",
       "      <td>coupe</td>\n",
       "      <td>2011</td>\n",
       "      <td>manual</td>\n",
       "      <td>190</td>\n",
       "      <td>NaN</td>\n",
       "      <td>125000</td>\n",
       "      <td>5</td>\n",
       "      <td>gasoline</td>\n",
       "      <td>audi</td>\n",
       "      <td>yes</td>\n",
       "      <td>2016-03-24 00:00:00</td>\n",
       "      <td>0</td>\n",
       "      <td>66954</td>\n",
       "      <td>2016-04-07 01:46:50</td>\n",
       "    </tr>\n",
       "    <tr>\n",
       "      <th>2</th>\n",
       "      <td>2016-03-14 12:52:21</td>\n",
       "      <td>9800</td>\n",
       "      <td>suv</td>\n",
       "      <td>2004</td>\n",
       "      <td>auto</td>\n",
       "      <td>163</td>\n",
       "      <td>grand</td>\n",
       "      <td>125000</td>\n",
       "      <td>8</td>\n",
       "      <td>gasoline</td>\n",
       "      <td>jeep</td>\n",
       "      <td>NaN</td>\n",
       "      <td>2016-03-14 00:00:00</td>\n",
       "      <td>0</td>\n",
       "      <td>90480</td>\n",
       "      <td>2016-04-05 12:47:46</td>\n",
       "    </tr>\n",
       "    <tr>\n",
       "      <th>3</th>\n",
       "      <td>2016-03-17 16:54:04</td>\n",
       "      <td>1500</td>\n",
       "      <td>small</td>\n",
       "      <td>2001</td>\n",
       "      <td>manual</td>\n",
       "      <td>75</td>\n",
       "      <td>golf</td>\n",
       "      <td>150000</td>\n",
       "      <td>6</td>\n",
       "      <td>petrol</td>\n",
       "      <td>volkswagen</td>\n",
       "      <td>no</td>\n",
       "      <td>2016-03-17 00:00:00</td>\n",
       "      <td>0</td>\n",
       "      <td>91074</td>\n",
       "      <td>2016-03-17 17:40:17</td>\n",
       "    </tr>\n",
       "    <tr>\n",
       "      <th>4</th>\n",
       "      <td>2016-03-31 17:25:20</td>\n",
       "      <td>3600</td>\n",
       "      <td>small</td>\n",
       "      <td>2008</td>\n",
       "      <td>manual</td>\n",
       "      <td>69</td>\n",
       "      <td>fabia</td>\n",
       "      <td>90000</td>\n",
       "      <td>7</td>\n",
       "      <td>gasoline</td>\n",
       "      <td>skoda</td>\n",
       "      <td>no</td>\n",
       "      <td>2016-03-31 00:00:00</td>\n",
       "      <td>0</td>\n",
       "      <td>60437</td>\n",
       "      <td>2016-04-06 10:17:21</td>\n",
       "    </tr>\n",
       "  </tbody>\n",
       "</table>\n",
       "</div>"
      ],
      "text/plain": [
       "           DateCrawled  Price VehicleType  RegistrationYear Gearbox  Power  \\\n",
       "0  2016-03-24 11:52:17    480         NaN              1993  manual      0   \n",
       "1  2016-03-24 10:58:45  18300       coupe              2011  manual    190   \n",
       "2  2016-03-14 12:52:21   9800         suv              2004    auto    163   \n",
       "3  2016-03-17 16:54:04   1500       small              2001  manual     75   \n",
       "4  2016-03-31 17:25:20   3600       small              2008  manual     69   \n",
       "\n",
       "   Model  Kilometer  RegistrationMonth  FuelType       Brand Repaired  \\\n",
       "0   golf     150000                  0    petrol  volkswagen      NaN   \n",
       "1    NaN     125000                  5  gasoline        audi      yes   \n",
       "2  grand     125000                  8  gasoline        jeep      NaN   \n",
       "3   golf     150000                  6    petrol  volkswagen       no   \n",
       "4  fabia      90000                  7  gasoline       skoda       no   \n",
       "\n",
       "           DateCreated  NumberOfPictures  PostalCode             LastSeen  \n",
       "0  2016-03-24 00:00:00                 0       70435  2016-04-07 03:16:57  \n",
       "1  2016-03-24 00:00:00                 0       66954  2016-04-07 01:46:50  \n",
       "2  2016-03-14 00:00:00                 0       90480  2016-04-05 12:47:46  \n",
       "3  2016-03-17 00:00:00                 0       91074  2016-03-17 17:40:17  \n",
       "4  2016-03-31 00:00:00                 0       60437  2016-04-06 10:17:21  "
      ]
     },
     "execution_count": 122,
     "metadata": {},
     "output_type": "execute_result"
    }
   ],
   "source": [
    "# выгрузка данных\n",
    "df = pd.read_csv('/datasets/autos.csv')\n",
    "# посмотрим на данные\n",
    "df.head()"
   ]
  },
  {
   "cell_type": "code",
   "execution_count": 123,
   "metadata": {},
   "outputs": [
    {
     "data": {
      "text/plain": [
       "(354369, 16)"
      ]
     },
     "execution_count": 123,
     "metadata": {},
     "output_type": "execute_result"
    }
   ],
   "source": [
    "df.shape"
   ]
  },
  {
   "cell_type": "markdown",
   "metadata": {},
   "source": [
    "Признаки:\n",
    "* DateCrawled — дата скачивания анкеты из базы\n",
    "* VehicleType — тип автомобильного кузова\n",
    "* RegistrationYear — год регистрации автомобиля\n",
    "* Gearbox — тип коробки передач\n",
    "* Power — мощность (л. с.)\n",
    "* Model — модель автомобиля\n",
    "* Kilometer — пробег (км)\n",
    "* RegistrationMonth — месяц регистрации автомобиля\n",
    "* FuelType — тип топлива\n",
    "* Brand — марка автомобиля\n",
    "* Repaired — была машина в ремонте или нет\n",
    "* DateCreated — дата создания анкеты\n",
    "* NumberOfPictures — количество фотографий автомобиля\n",
    "* PostalCode — почтовый индекс владельца анкеты (пользователя)\n",
    "* LastSeen — дата последней активности пользователя\n",
    "\n",
    "\n",
    "Целевой признак:\n",
    "* Price — цена (евро)"
   ]
  },
  {
   "cell_type": "code",
   "execution_count": 124,
   "metadata": {
    "scrolled": true
   },
   "outputs": [
    {
     "name": "stdout",
     "output_type": "stream",
     "text": [
      "<class 'pandas.core.frame.DataFrame'>\n",
      "RangeIndex: 354369 entries, 0 to 354368\n",
      "Data columns (total 16 columns):\n",
      " #   Column             Non-Null Count   Dtype \n",
      "---  ------             --------------   ----- \n",
      " 0   DateCrawled        354369 non-null  object\n",
      " 1   Price              354369 non-null  int64 \n",
      " 2   VehicleType        316879 non-null  object\n",
      " 3   RegistrationYear   354369 non-null  int64 \n",
      " 4   Gearbox            334536 non-null  object\n",
      " 5   Power              354369 non-null  int64 \n",
      " 6   Model              334664 non-null  object\n",
      " 7   Kilometer          354369 non-null  int64 \n",
      " 8   RegistrationMonth  354369 non-null  int64 \n",
      " 9   FuelType           321474 non-null  object\n",
      " 10  Brand              354369 non-null  object\n",
      " 11  Repaired           283215 non-null  object\n",
      " 12  DateCreated        354369 non-null  object\n",
      " 13  NumberOfPictures   354369 non-null  int64 \n",
      " 14  PostalCode         354369 non-null  int64 \n",
      " 15  LastSeen           354369 non-null  object\n",
      "dtypes: int64(7), object(9)\n",
      "memory usage: 43.3+ MB\n"
     ]
    }
   ],
   "source": [
    "df.info()"
   ]
  },
  {
   "cell_type": "code",
   "execution_count": 125,
   "metadata": {
    "scrolled": true
   },
   "outputs": [
    {
     "data": {
      "text/plain": [
       "DateCrawled              0\n",
       "Price                    0\n",
       "VehicleType          37490\n",
       "RegistrationYear         0\n",
       "Gearbox              19833\n",
       "Power                    0\n",
       "Model                19705\n",
       "Kilometer                0\n",
       "RegistrationMonth        0\n",
       "FuelType             32895\n",
       "Brand                    0\n",
       "Repaired             71154\n",
       "DateCreated              0\n",
       "NumberOfPictures         0\n",
       "PostalCode               0\n",
       "LastSeen                 0\n",
       "dtype: int64"
      ]
     },
     "execution_count": 125,
     "metadata": {},
     "output_type": "execute_result"
    }
   ],
   "source": [
    "# посмотрим на пропуски в данных\n",
    "df.isna().sum()"
   ]
  },
  {
   "cell_type": "markdown",
   "metadata": {},
   "source": [
    "Как видим, в столбцах VehicleType, Gearbox, Model, FuelType, Repaired имеются пропуски в данных."
   ]
  },
  {
   "cell_type": "code",
   "execution_count": 126,
   "metadata": {},
   "outputs": [],
   "source": [
    "# проверим на дубликаты\n",
    "df.duplicated().sum()\n",
    "df = df.drop_duplicates()"
   ]
  },
  {
   "cell_type": "code",
   "execution_count": 127,
   "metadata": {},
   "outputs": [
    {
     "name": "stdout",
     "output_type": "stream",
     "text": [
      "no     247158\n",
      "yes     36053\n",
      "Name: Repaired, dtype: int64\n"
     ]
    }
   ],
   "source": [
    "print(df['Repaired'].value_counts())"
   ]
  },
  {
   "cell_type": "code",
   "execution_count": 128,
   "metadata": {},
   "outputs": [
    {
     "name": "stdout",
     "output_type": "stream",
     "text": [
      "0.2007929677027923\n"
     ]
    }
   ],
   "source": [
    "print(df['Repaired'].isna().mean())"
   ]
  },
  {
   "cell_type": "code",
   "execution_count": 129,
   "metadata": {},
   "outputs": [],
   "source": [
    "# большой процент пропусков, поэтому не можем просто выбросить данные\n",
    "df['Repaired'].fillna('other', inplace=True)"
   ]
  },
  {
   "cell_type": "code",
   "execution_count": 130,
   "metadata": {
    "scrolled": true
   },
   "outputs": [
    {
     "name": "stdout",
     "output_type": "stream",
     "text": [
      "manual    268249\n",
      "auto       66283\n",
      "Name: Gearbox, dtype: int64\n"
     ]
    }
   ],
   "source": [
    "print(df['Gearbox'].value_counts())"
   ]
  },
  {
   "cell_type": "code",
   "execution_count": 131,
   "metadata": {
    "scrolled": true
   },
   "outputs": [
    {
     "name": "stdout",
     "output_type": "stream",
     "text": [
      "0.05596771690206426\n"
     ]
    }
   ],
   "source": [
    "print(df['Gearbox'].isna().mean())"
   ]
  },
  {
   "cell_type": "code",
   "execution_count": 132,
   "metadata": {},
   "outputs": [],
   "source": [
    "# заполним пропуски значением \"unknown\"\n",
    "df['Gearbox'].fillna('other', inplace=True)"
   ]
  },
  {
   "cell_type": "code",
   "execution_count": 133,
   "metadata": {},
   "outputs": [
    {
     "name": "stdout",
     "output_type": "stream",
     "text": [
      "0.09282801631086592\n"
     ]
    }
   ],
   "source": [
    "print(df['FuelType'].isna().mean())"
   ]
  },
  {
   "cell_type": "code",
   "execution_count": 134,
   "metadata": {},
   "outputs": [
    {
     "name": "stdout",
     "output_type": "stream",
     "text": [
      "petrol      216349\n",
      "gasoline     98719\n",
      "lpg           5310\n",
      "cng            565\n",
      "hybrid         233\n",
      "other          204\n",
      "electric        90\n",
      "Name: FuelType, dtype: int64\n"
     ]
    }
   ],
   "source": [
    "print(df['FuelType'].value_counts())"
   ]
  },
  {
   "cell_type": "code",
   "execution_count": 135,
   "metadata": {},
   "outputs": [],
   "source": [
    "# заполним пропуски значением \"unknown\"\n",
    "df['FuelType'].fillna('other', inplace=True)"
   ]
  },
  {
   "cell_type": "code",
   "execution_count": 136,
   "metadata": {},
   "outputs": [
    {
     "data": {
      "text/plain": [
       "6828"
      ]
     },
     "execution_count": 136,
     "metadata": {},
     "output_type": "execute_result"
    }
   ],
   "source": [
    "# посмотрим, во скольких строках отсутствуют данные о модели и \n",
    "# \n",
    "df[df['Model'].isna()]['VehicleType'].isna().sum()"
   ]
  },
  {
   "cell_type": "code",
   "execution_count": 137,
   "metadata": {},
   "outputs": [],
   "source": [
    "# эти строки можем смело удалить, а остальные пропуски заполнить самыми \n",
    "# распространёнными значениями\n",
    "col2_mis = df[(df['Model'].isna()) & (df['VehicleType'].isna())]"
   ]
  },
  {
   "cell_type": "code",
   "execution_count": 138,
   "metadata": {},
   "outputs": [],
   "source": [
    "df = df.drop(col2_mis.index)"
   ]
  },
  {
   "cell_type": "code",
   "execution_count": 139,
   "metadata": {},
   "outputs": [
    {
     "data": {
      "text/plain": [
       "golf                  29232\n",
       "other                 24420\n",
       "3er                   19761\n",
       "polo                  13066\n",
       "corsa                 12570\n",
       "                      ...  \n",
       "serie_2                   8\n",
       "serie_3                   4\n",
       "rangerover                4\n",
       "serie_1                   2\n",
       "range_rover_evoque        2\n",
       "Name: Model, Length: 250, dtype: int64"
      ]
     },
     "execution_count": 139,
     "metadata": {},
     "output_type": "execute_result"
    }
   ],
   "source": [
    "df['Model'].value_counts()"
   ]
  },
  {
   "cell_type": "code",
   "execution_count": 140,
   "metadata": {},
   "outputs": [],
   "source": [
    "df['Model'].fillna('other', inplace=True)"
   ]
  },
  {
   "cell_type": "code",
   "execution_count": 141,
   "metadata": {},
   "outputs": [
    {
     "data": {
      "text/plain": [
       "sedan          91457\n",
       "small          79830\n",
       "wagon          65165\n",
       "bus            28775\n",
       "convertible    20203\n",
       "coupe          16161\n",
       "suv            11996\n",
       "other           3288\n",
       "Name: VehicleType, dtype: int64"
      ]
     },
     "execution_count": 141,
     "metadata": {},
     "output_type": "execute_result"
    }
   ],
   "source": [
    "df['VehicleType'].value_counts()"
   ]
  },
  {
   "cell_type": "code",
   "execution_count": 142,
   "metadata": {},
   "outputs": [],
   "source": [
    "df['VehicleType'].fillna('other', inplace=True)"
   ]
  },
  {
   "cell_type": "code",
   "execution_count": 143,
   "metadata": {
    "scrolled": true
   },
   "outputs": [
    {
     "data": {
      "text/plain": [
       "DateCrawled          0\n",
       "Price                0\n",
       "VehicleType          0\n",
       "RegistrationYear     0\n",
       "Gearbox              0\n",
       "Power                0\n",
       "Model                0\n",
       "Kilometer            0\n",
       "RegistrationMonth    0\n",
       "FuelType             0\n",
       "Brand                0\n",
       "Repaired             0\n",
       "DateCreated          0\n",
       "NumberOfPictures     0\n",
       "PostalCode           0\n",
       "LastSeen             0\n",
       "dtype: int64"
      ]
     },
     "execution_count": 143,
     "metadata": {},
     "output_type": "execute_result"
    }
   ],
   "source": [
    "# проверим\n",
    "df.isna().sum()"
   ]
  },
  {
   "cell_type": "code",
   "execution_count": 144,
   "metadata": {},
   "outputs": [],
   "source": [
    "# переведём в нижний регистр\n",
    "df.columns = df.columns.str.replace(r\"([A-Z])\", r\" \\1\").str.lower().str.replace(' ', '_').str[1:]"
   ]
  },
  {
   "cell_type": "markdown",
   "metadata": {},
   "source": [
    "Избавились от пропусков и дубликатов в данных"
   ]
  },
  {
   "cell_type": "markdown",
   "metadata": {},
   "source": [
    "Столбцы DateCrawled, NumberOfPictures, PostalCode, LastSeen, Date_Created, вероятно,\n",
    "будут неважны для дальнейшего анализа, поэтому можем их удалить. "
   ]
  },
  {
   "cell_type": "code",
   "execution_count": 145,
   "metadata": {
    "scrolled": true
   },
   "outputs": [],
   "source": [
    "df.drop(['date_crawled', 'number_of_pictures', 'postal_code', 'last_seen', 'date_created'], axis=1, inplace=True)"
   ]
  },
  {
   "cell_type": "code",
   "execution_count": 146,
   "metadata": {},
   "outputs": [
    {
     "data": {
      "text/plain": [
       "Index(['price', 'vehicle_type', 'registration_year', 'gearbox', 'power',\n",
       "       'model', 'kilometer', 'registration_month', 'fuel_type', 'brand',\n",
       "       'repaired'],\n",
       "      dtype='object')"
      ]
     },
     "execution_count": 146,
     "metadata": {},
     "output_type": "execute_result"
    }
   ],
   "source": [
    "df.columns"
   ]
  },
  {
   "cell_type": "code",
   "execution_count": 147,
   "metadata": {},
   "outputs": [
    {
     "data": {
      "text/html": [
       "<div>\n",
       "<style scoped>\n",
       "    .dataframe tbody tr th:only-of-type {\n",
       "        vertical-align: middle;\n",
       "    }\n",
       "\n",
       "    .dataframe tbody tr th {\n",
       "        vertical-align: top;\n",
       "    }\n",
       "\n",
       "    .dataframe thead th {\n",
       "        text-align: right;\n",
       "    }\n",
       "</style>\n",
       "<table border=\"1\" class=\"dataframe\">\n",
       "  <thead>\n",
       "    <tr style=\"text-align: right;\">\n",
       "      <th></th>\n",
       "      <th>price</th>\n",
       "      <th>vehicle_type</th>\n",
       "      <th>registration_year</th>\n",
       "      <th>gearbox</th>\n",
       "      <th>power</th>\n",
       "      <th>model</th>\n",
       "      <th>kilometer</th>\n",
       "      <th>registration_month</th>\n",
       "      <th>fuel_type</th>\n",
       "      <th>brand</th>\n",
       "      <th>repaired</th>\n",
       "    </tr>\n",
       "  </thead>\n",
       "  <tbody>\n",
       "    <tr>\n",
       "      <th>0</th>\n",
       "      <td>480</td>\n",
       "      <td>other</td>\n",
       "      <td>1993</td>\n",
       "      <td>manual</td>\n",
       "      <td>0</td>\n",
       "      <td>golf</td>\n",
       "      <td>150000</td>\n",
       "      <td>0</td>\n",
       "      <td>petrol</td>\n",
       "      <td>volkswagen</td>\n",
       "      <td>other</td>\n",
       "    </tr>\n",
       "    <tr>\n",
       "      <th>1</th>\n",
       "      <td>18300</td>\n",
       "      <td>coupe</td>\n",
       "      <td>2011</td>\n",
       "      <td>manual</td>\n",
       "      <td>190</td>\n",
       "      <td>other</td>\n",
       "      <td>125000</td>\n",
       "      <td>5</td>\n",
       "      <td>gasoline</td>\n",
       "      <td>audi</td>\n",
       "      <td>yes</td>\n",
       "    </tr>\n",
       "    <tr>\n",
       "      <th>2</th>\n",
       "      <td>9800</td>\n",
       "      <td>suv</td>\n",
       "      <td>2004</td>\n",
       "      <td>auto</td>\n",
       "      <td>163</td>\n",
       "      <td>grand</td>\n",
       "      <td>125000</td>\n",
       "      <td>8</td>\n",
       "      <td>gasoline</td>\n",
       "      <td>jeep</td>\n",
       "      <td>other</td>\n",
       "    </tr>\n",
       "    <tr>\n",
       "      <th>3</th>\n",
       "      <td>1500</td>\n",
       "      <td>small</td>\n",
       "      <td>2001</td>\n",
       "      <td>manual</td>\n",
       "      <td>75</td>\n",
       "      <td>golf</td>\n",
       "      <td>150000</td>\n",
       "      <td>6</td>\n",
       "      <td>petrol</td>\n",
       "      <td>volkswagen</td>\n",
       "      <td>no</td>\n",
       "    </tr>\n",
       "    <tr>\n",
       "      <th>4</th>\n",
       "      <td>3600</td>\n",
       "      <td>small</td>\n",
       "      <td>2008</td>\n",
       "      <td>manual</td>\n",
       "      <td>69</td>\n",
       "      <td>fabia</td>\n",
       "      <td>90000</td>\n",
       "      <td>7</td>\n",
       "      <td>gasoline</td>\n",
       "      <td>skoda</td>\n",
       "      <td>no</td>\n",
       "    </tr>\n",
       "  </tbody>\n",
       "</table>\n",
       "</div>"
      ],
      "text/plain": [
       "   price vehicle_type  registration_year gearbox  power  model  kilometer  \\\n",
       "0    480        other               1993  manual      0   golf     150000   \n",
       "1  18300        coupe               2011  manual    190  other     125000   \n",
       "2   9800          suv               2004    auto    163  grand     125000   \n",
       "3   1500        small               2001  manual     75   golf     150000   \n",
       "4   3600        small               2008  manual     69  fabia      90000   \n",
       "\n",
       "   registration_month fuel_type       brand repaired  \n",
       "0                   0    petrol  volkswagen    other  \n",
       "1                   5  gasoline        audi      yes  \n",
       "2                   8  gasoline        jeep    other  \n",
       "3                   6    petrol  volkswagen       no  \n",
       "4                   7  gasoline       skoda       no  "
      ]
     },
     "execution_count": 147,
     "metadata": {},
     "output_type": "execute_result"
    }
   ],
   "source": [
    "df.head()"
   ]
  },
  {
   "cell_type": "code",
   "execution_count": 148,
   "metadata": {},
   "outputs": [
    {
     "data": {
      "text/html": [
       "<div>\n",
       "<style scoped>\n",
       "    .dataframe tbody tr th:only-of-type {\n",
       "        vertical-align: middle;\n",
       "    }\n",
       "\n",
       "    .dataframe tbody tr th {\n",
       "        vertical-align: top;\n",
       "    }\n",
       "\n",
       "    .dataframe thead th {\n",
       "        text-align: right;\n",
       "    }\n",
       "</style>\n",
       "<table border=\"1\" class=\"dataframe\">\n",
       "  <thead>\n",
       "    <tr style=\"text-align: right;\">\n",
       "      <th></th>\n",
       "      <th>price</th>\n",
       "      <th>registration_year</th>\n",
       "      <th>power</th>\n",
       "      <th>kilometer</th>\n",
       "      <th>registration_month</th>\n",
       "    </tr>\n",
       "  </thead>\n",
       "  <tbody>\n",
       "    <tr>\n",
       "      <th>count</th>\n",
       "      <td>347537.000000</td>\n",
       "      <td>347537.000000</td>\n",
       "      <td>347537.000000</td>\n",
       "      <td>347537.000000</td>\n",
       "      <td>347537.000000</td>\n",
       "    </tr>\n",
       "    <tr>\n",
       "      <th>mean</th>\n",
       "      <td>4463.672023</td>\n",
       "      <td>2003.714301</td>\n",
       "      <td>111.154999</td>\n",
       "      <td>128449.834118</td>\n",
       "      <td>5.770525</td>\n",
       "    </tr>\n",
       "    <tr>\n",
       "      <th>std</th>\n",
       "      <td>4524.316698</td>\n",
       "      <td>68.114996</td>\n",
       "      <td>190.551486</td>\n",
       "      <td>37472.194533</td>\n",
       "      <td>3.702718</td>\n",
       "    </tr>\n",
       "    <tr>\n",
       "      <th>min</th>\n",
       "      <td>0.000000</td>\n",
       "      <td>1000.000000</td>\n",
       "      <td>0.000000</td>\n",
       "      <td>5000.000000</td>\n",
       "      <td>0.000000</td>\n",
       "    </tr>\n",
       "    <tr>\n",
       "      <th>25%</th>\n",
       "      <td>1100.000000</td>\n",
       "      <td>1999.000000</td>\n",
       "      <td>69.000000</td>\n",
       "      <td>125000.000000</td>\n",
       "      <td>3.000000</td>\n",
       "    </tr>\n",
       "    <tr>\n",
       "      <th>50%</th>\n",
       "      <td>2799.000000</td>\n",
       "      <td>2003.000000</td>\n",
       "      <td>105.000000</td>\n",
       "      <td>150000.000000</td>\n",
       "      <td>6.000000</td>\n",
       "    </tr>\n",
       "    <tr>\n",
       "      <th>75%</th>\n",
       "      <td>6499.000000</td>\n",
       "      <td>2007.000000</td>\n",
       "      <td>143.000000</td>\n",
       "      <td>150000.000000</td>\n",
       "      <td>9.000000</td>\n",
       "    </tr>\n",
       "    <tr>\n",
       "      <th>max</th>\n",
       "      <td>20000.000000</td>\n",
       "      <td>9999.000000</td>\n",
       "      <td>20000.000000</td>\n",
       "      <td>150000.000000</td>\n",
       "      <td>12.000000</td>\n",
       "    </tr>\n",
       "  </tbody>\n",
       "</table>\n",
       "</div>"
      ],
      "text/plain": [
       "               price  registration_year          power      kilometer  \\\n",
       "count  347537.000000      347537.000000  347537.000000  347537.000000   \n",
       "mean     4463.672023        2003.714301     111.154999  128449.834118   \n",
       "std      4524.316698          68.114996     190.551486   37472.194533   \n",
       "min         0.000000        1000.000000       0.000000    5000.000000   \n",
       "25%      1100.000000        1999.000000      69.000000  125000.000000   \n",
       "50%      2799.000000        2003.000000     105.000000  150000.000000   \n",
       "75%      6499.000000        2007.000000     143.000000  150000.000000   \n",
       "max     20000.000000        9999.000000   20000.000000  150000.000000   \n",
       "\n",
       "       registration_month  \n",
       "count       347537.000000  \n",
       "mean             5.770525  \n",
       "std              3.702718  \n",
       "min              0.000000  \n",
       "25%              3.000000  \n",
       "50%              6.000000  \n",
       "75%              9.000000  \n",
       "max             12.000000  "
      ]
     },
     "execution_count": 148,
     "metadata": {},
     "output_type": "execute_result"
    }
   ],
   "source": [
    "df.describe()"
   ]
  },
  {
   "cell_type": "code",
   "execution_count": 149,
   "metadata": {
    "scrolled": true
   },
   "outputs": [
    {
     "data": {
      "text/plain": [
       "price                  int64\n",
       "vehicle_type          object\n",
       "registration_year      int64\n",
       "gearbox               object\n",
       "power                  int64\n",
       "model                 object\n",
       "kilometer              int64\n",
       "registration_month     int64\n",
       "fuel_type             object\n",
       "brand                 object\n",
       "repaired              object\n",
       "dtype: object"
      ]
     },
     "execution_count": 149,
     "metadata": {},
     "output_type": "execute_result"
    }
   ],
   "source": [
    "df.dtypes"
   ]
  },
  {
   "cell_type": "code",
   "execution_count": 150,
   "metadata": {
    "scrolled": true
   },
   "outputs": [],
   "source": [
    "df = df.astype({'registration_month': object,\n",
    "                'registration_year': object})"
   ]
  },
  {
   "cell_type": "markdown",
   "metadata": {},
   "source": [
    "Исправили типы данных"
   ]
  },
  {
   "cell_type": "code",
   "execution_count": 151,
   "metadata": {},
   "outputs": [
    {
     "data": {
      "text/html": [
       "<div>\n",
       "<style scoped>\n",
       "    .dataframe tbody tr th:only-of-type {\n",
       "        vertical-align: middle;\n",
       "    }\n",
       "\n",
       "    .dataframe tbody tr th {\n",
       "        vertical-align: top;\n",
       "    }\n",
       "\n",
       "    .dataframe thead th {\n",
       "        text-align: right;\n",
       "    }\n",
       "</style>\n",
       "<table border=\"1\" class=\"dataframe\">\n",
       "  <thead>\n",
       "    <tr style=\"text-align: right;\">\n",
       "      <th></th>\n",
       "      <th>price</th>\n",
       "      <th>power</th>\n",
       "      <th>kilometer</th>\n",
       "    </tr>\n",
       "  </thead>\n",
       "  <tbody>\n",
       "    <tr>\n",
       "      <th>price</th>\n",
       "      <td>1.000000</td>\n",
       "      <td>0.156006</td>\n",
       "      <td>-0.347183</td>\n",
       "    </tr>\n",
       "    <tr>\n",
       "      <th>power</th>\n",
       "      <td>0.156006</td>\n",
       "      <td>1.000000</td>\n",
       "      <td>0.020618</td>\n",
       "    </tr>\n",
       "    <tr>\n",
       "      <th>kilometer</th>\n",
       "      <td>-0.347183</td>\n",
       "      <td>0.020618</td>\n",
       "      <td>1.000000</td>\n",
       "    </tr>\n",
       "  </tbody>\n",
       "</table>\n",
       "</div>"
      ],
      "text/plain": [
       "              price     power  kilometer\n",
       "price      1.000000  0.156006  -0.347183\n",
       "power      0.156006  1.000000   0.020618\n",
       "kilometer -0.347183  0.020618   1.000000"
      ]
     },
     "execution_count": 151,
     "metadata": {},
     "output_type": "execute_result"
    }
   ],
   "source": [
    "# посмотрим на корреляции \n",
    "df.corr()"
   ]
  },
  {
   "cell_type": "markdown",
   "metadata": {},
   "source": [
    "Значительных корреляций нет, можем перейти к обучению модели."
   ]
  },
  {
   "cell_type": "code",
   "execution_count": 152,
   "metadata": {},
   "outputs": [
    {
     "data": {
      "text/plain": [
       "array([1993, 2011, 2004, 2001, 2008, 1995, 1980, 2014, 1998, 2005, 1910,\n",
       "       2016, 2007, 2009, 2002, 2018, 1997, 1990, 2017, 1981, 2003, 1994,\n",
       "       1991, 1984, 2006, 1999, 2012, 2010, 2000, 1992, 2013, 1996, 1985,\n",
       "       1989, 2015, 1982, 1976, 1983, 1973, 1969, 1971, 1987, 1986, 1988,\n",
       "       1965, 1970, 1945, 1925, 1974, 1979, 1955, 1978, 1972, 1968, 1977,\n",
       "       1961, 1960, 1966, 1975, 1963, 1964, 5000, 1954, 1958, 1967, 1959,\n",
       "       1956, 1000, 1941, 9999, 1500, 2200, 1962, 1929, 1957, 1940, 3000,\n",
       "       2066, 1949, 2019, 1937, 1951, 1953, 8000, 9000, 2900, 5900, 5911,\n",
       "       1933, 1400, 1950, 4000, 1948, 1952, 1200, 8500, 1932, 3700, 1942,\n",
       "       1935, 1234, 1936, 6500, 1923, 2290, 1930, 1001, 1944, 7000, 1943,\n",
       "       1934, 1938, 1928, 1800, 1919, 5555, 6000, 1300, 1931, 1915, 4500,\n",
       "       1920, 1602, 1111, 7800, 1947, 1927, 7100, 2500, 8200, 1946, 7500,\n",
       "       1600], dtype=object)"
      ]
     },
     "execution_count": 152,
     "metadata": {},
     "output_type": "execute_result"
    }
   ],
   "source": [
    "# найдем уникальные значения в столбце \"registration_year\"\n",
    "df['registration_year'].unique()"
   ]
  },
  {
   "cell_type": "markdown",
   "metadata": {},
   "source": [
    "Как видим есть некоторые аномалии: 2066, 1111, 1602, 7500 и т.д. Поэтому эти значения использовать нельзя."
   ]
  },
  {
   "cell_type": "code",
   "execution_count": 153,
   "metadata": {},
   "outputs": [],
   "source": [
    "df = df.loc[(df['registration_year'] >= 1900) & (df['registration_year'] <= 2016)]"
   ]
  },
  {
   "cell_type": "code",
   "execution_count": 154,
   "metadata": {},
   "outputs": [
    {
     "data": {
      "image/png": "[encoded data removed]",
      "text/plain": [
       "<Figure size 432x288 with 1 Axes>"
      ]
     },
     "metadata": {
      "needs_background": "light"
     },
     "output_type": "display_data"
    }
   ],
   "source": [
    "fig, ax = plt.subplots(1, 1)\n",
    "plt.xlabel(\"Power\", fontsize=16)  \n",
    "plt.ylabel(\"Counts\", fontsize=16)\n",
    "plt.hist(df['power'], bins=40, range=[0, 2000])\n",
    "plt.show()"
   ]
  },
  {
   "cell_type": "markdown",
   "metadata": {},
   "source": [
    "Самая большая мощность, которая может быть достигнута у спортивных машин 2000 л.с."
   ]
  },
  {
   "cell_type": "code",
   "execution_count": 155,
   "metadata": {},
   "outputs": [],
   "source": [
    "df = df.loc[df['power'] <= 2000]"
   ]
  },
  {
   "cell_type": "code",
   "execution_count": 156,
   "metadata": {
    "scrolled": true
   },
   "outputs": [
    {
     "data": {
      "text/html": [
       "<div>\n",
       "<style scoped>\n",
       "    .dataframe tbody tr th:only-of-type {\n",
       "        vertical-align: middle;\n",
       "    }\n",
       "\n",
       "    .dataframe tbody tr th {\n",
       "        vertical-align: top;\n",
       "    }\n",
       "\n",
       "    .dataframe thead th {\n",
       "        text-align: right;\n",
       "    }\n",
       "</style>\n",
       "<table border=\"1\" class=\"dataframe\">\n",
       "  <thead>\n",
       "    <tr style=\"text-align: right;\">\n",
       "      <th></th>\n",
       "      <th>price</th>\n",
       "      <th>vehicle_type</th>\n",
       "      <th>registration_year</th>\n",
       "      <th>gearbox</th>\n",
       "      <th>power</th>\n",
       "      <th>model</th>\n",
       "      <th>kilometer</th>\n",
       "      <th>registration_month</th>\n",
       "      <th>fuel_type</th>\n",
       "      <th>brand</th>\n",
       "      <th>repaired</th>\n",
       "    </tr>\n",
       "  </thead>\n",
       "  <tbody>\n",
       "    <tr>\n",
       "      <th>0</th>\n",
       "      <td>480</td>\n",
       "      <td>other</td>\n",
       "      <td>1993</td>\n",
       "      <td>manual</td>\n",
       "      <td>0</td>\n",
       "      <td>golf</td>\n",
       "      <td>150000</td>\n",
       "      <td>0</td>\n",
       "      <td>petrol</td>\n",
       "      <td>volkswagen</td>\n",
       "      <td>other</td>\n",
       "    </tr>\n",
       "    <tr>\n",
       "      <th>15</th>\n",
       "      <td>450</td>\n",
       "      <td>small</td>\n",
       "      <td>1910</td>\n",
       "      <td>other</td>\n",
       "      <td>0</td>\n",
       "      <td>ka</td>\n",
       "      <td>5000</td>\n",
       "      <td>0</td>\n",
       "      <td>petrol</td>\n",
       "      <td>ford</td>\n",
       "      <td>other</td>\n",
       "    </tr>\n",
       "    <tr>\n",
       "      <th>32</th>\n",
       "      <td>245</td>\n",
       "      <td>sedan</td>\n",
       "      <td>1994</td>\n",
       "      <td>other</td>\n",
       "      <td>0</td>\n",
       "      <td>golf</td>\n",
       "      <td>150000</td>\n",
       "      <td>2</td>\n",
       "      <td>petrol</td>\n",
       "      <td>volkswagen</td>\n",
       "      <td>no</td>\n",
       "    </tr>\n",
       "    <tr>\n",
       "      <th>37</th>\n",
       "      <td>1500</td>\n",
       "      <td>other</td>\n",
       "      <td>2016</td>\n",
       "      <td>other</td>\n",
       "      <td>0</td>\n",
       "      <td>kangoo</td>\n",
       "      <td>150000</td>\n",
       "      <td>1</td>\n",
       "      <td>gasoline</td>\n",
       "      <td>renault</td>\n",
       "      <td>no</td>\n",
       "    </tr>\n",
       "    <tr>\n",
       "      <th>40</th>\n",
       "      <td>0</td>\n",
       "      <td>other</td>\n",
       "      <td>1990</td>\n",
       "      <td>other</td>\n",
       "      <td>0</td>\n",
       "      <td>corsa</td>\n",
       "      <td>150000</td>\n",
       "      <td>1</td>\n",
       "      <td>petrol</td>\n",
       "      <td>opel</td>\n",
       "      <td>other</td>\n",
       "    </tr>\n",
       "    <tr>\n",
       "      <th>...</th>\n",
       "      <td>...</td>\n",
       "      <td>...</td>\n",
       "      <td>...</td>\n",
       "      <td>...</td>\n",
       "      <td>...</td>\n",
       "      <td>...</td>\n",
       "      <td>...</td>\n",
       "      <td>...</td>\n",
       "      <td>...</td>\n",
       "      <td>...</td>\n",
       "      <td>...</td>\n",
       "    </tr>\n",
       "    <tr>\n",
       "      <th>354335</th>\n",
       "      <td>390</td>\n",
       "      <td>small</td>\n",
       "      <td>1997</td>\n",
       "      <td>auto</td>\n",
       "      <td>0</td>\n",
       "      <td>corsa</td>\n",
       "      <td>100000</td>\n",
       "      <td>6</td>\n",
       "      <td>petrol</td>\n",
       "      <td>opel</td>\n",
       "      <td>yes</td>\n",
       "    </tr>\n",
       "    <tr>\n",
       "      <th>354336</th>\n",
       "      <td>3299</td>\n",
       "      <td>other</td>\n",
       "      <td>2005</td>\n",
       "      <td>auto</td>\n",
       "      <td>0</td>\n",
       "      <td>outlander</td>\n",
       "      <td>150000</td>\n",
       "      <td>4</td>\n",
       "      <td>petrol</td>\n",
       "      <td>mitsubishi</td>\n",
       "      <td>other</td>\n",
       "    </tr>\n",
       "    <tr>\n",
       "      <th>354346</th>\n",
       "      <td>2600</td>\n",
       "      <td>other</td>\n",
       "      <td>2005</td>\n",
       "      <td>auto</td>\n",
       "      <td>0</td>\n",
       "      <td>c_klasse</td>\n",
       "      <td>150000</td>\n",
       "      <td>9</td>\n",
       "      <td>other</td>\n",
       "      <td>mercedes_benz</td>\n",
       "      <td>other</td>\n",
       "    </tr>\n",
       "    <tr>\n",
       "      <th>354363</th>\n",
       "      <td>1150</td>\n",
       "      <td>bus</td>\n",
       "      <td>2000</td>\n",
       "      <td>manual</td>\n",
       "      <td>0</td>\n",
       "      <td>zafira</td>\n",
       "      <td>150000</td>\n",
       "      <td>3</td>\n",
       "      <td>petrol</td>\n",
       "      <td>opel</td>\n",
       "      <td>no</td>\n",
       "    </tr>\n",
       "    <tr>\n",
       "      <th>354364</th>\n",
       "      <td>0</td>\n",
       "      <td>other</td>\n",
       "      <td>2005</td>\n",
       "      <td>manual</td>\n",
       "      <td>0</td>\n",
       "      <td>colt</td>\n",
       "      <td>150000</td>\n",
       "      <td>7</td>\n",
       "      <td>petrol</td>\n",
       "      <td>mitsubishi</td>\n",
       "      <td>yes</td>\n",
       "    </tr>\n",
       "  </tbody>\n",
       "</table>\n",
       "<p>33504 rows × 11 columns</p>\n",
       "</div>"
      ],
      "text/plain": [
       "        price vehicle_type registration_year gearbox  power      model  \\\n",
       "0         480        other              1993  manual      0       golf   \n",
       "15        450        small              1910   other      0         ka   \n",
       "32        245        sedan              1994   other      0       golf   \n",
       "37       1500        other              2016   other      0     kangoo   \n",
       "40          0        other              1990   other      0      corsa   \n",
       "...       ...          ...               ...     ...    ...        ...   \n",
       "354335    390        small              1997    auto      0      corsa   \n",
       "354336   3299        other              2005    auto      0  outlander   \n",
       "354346   2600        other              2005    auto      0   c_klasse   \n",
       "354363   1150          bus              2000  manual      0     zafira   \n",
       "354364      0        other              2005  manual      0       colt   \n",
       "\n",
       "        kilometer registration_month fuel_type          brand repaired  \n",
       "0          150000                  0    petrol     volkswagen    other  \n",
       "15           5000                  0    petrol           ford    other  \n",
       "32         150000                  2    petrol     volkswagen       no  \n",
       "37         150000                  1  gasoline        renault       no  \n",
       "40         150000                  1    petrol           opel    other  \n",
       "...           ...                ...       ...            ...      ...  \n",
       "354335     100000                  6    petrol           opel      yes  \n",
       "354336     150000                  4    petrol     mitsubishi    other  \n",
       "354346     150000                  9     other  mercedes_benz    other  \n",
       "354363     150000                  3    petrol           opel       no  \n",
       "354364     150000                  7    petrol     mitsubishi      yes  \n",
       "\n",
       "[33504 rows x 11 columns]"
      ]
     },
     "execution_count": 156,
     "metadata": {},
     "output_type": "execute_result"
    }
   ],
   "source": [
    "df.loc[df['power'] == 0]\n",
    "# получается, что есть нулевые значения мощности. Их можно будет заменить медианой"
   ]
  },
  {
   "cell_type": "code",
   "execution_count": 157,
   "metadata": {},
   "outputs": [],
   "source": [
    "df['power'] = df['power'].replace(0, df['power'].mode()[0])"
   ]
  },
  {
   "cell_type": "code",
   "execution_count": 158,
   "metadata": {},
   "outputs": [
    {
     "data": {
      "image/png": "[encoded data removed]",
      "text/plain": [
       "<Figure size 432x288 with 1 Axes>"
      ]
     },
     "metadata": {
      "needs_background": "light"
     },
     "output_type": "display_data"
    }
   ],
   "source": [
    "fig, ax = plt.subplots(1, 1)\n",
    "plt.xlabel(\"Price\", fontsize=16)  \n",
    "plt.ylabel(\"Counts\", fontsize=16)\n",
    "plt.hist(df['price'], bins=40, range=[0, 4000])\n",
    "plt.show()"
   ]
  },
  {
   "cell_type": "code",
   "execution_count": 159,
   "metadata": {},
   "outputs": [
    {
     "data": {
      "text/html": [
       "<div>\n",
       "<style scoped>\n",
       "    .dataframe tbody tr th:only-of-type {\n",
       "        vertical-align: middle;\n",
       "    }\n",
       "\n",
       "    .dataframe tbody tr th {\n",
       "        vertical-align: top;\n",
       "    }\n",
       "\n",
       "    .dataframe thead th {\n",
       "        text-align: right;\n",
       "    }\n",
       "</style>\n",
       "<table border=\"1\" class=\"dataframe\">\n",
       "  <thead>\n",
       "    <tr style=\"text-align: right;\">\n",
       "      <th></th>\n",
       "      <th>price</th>\n",
       "      <th>vehicle_type</th>\n",
       "      <th>registration_year</th>\n",
       "      <th>gearbox</th>\n",
       "      <th>power</th>\n",
       "      <th>model</th>\n",
       "      <th>kilometer</th>\n",
       "      <th>registration_month</th>\n",
       "      <th>fuel_type</th>\n",
       "      <th>brand</th>\n",
       "      <th>repaired</th>\n",
       "    </tr>\n",
       "  </thead>\n",
       "  <tbody>\n",
       "    <tr>\n",
       "      <th>7</th>\n",
       "      <td>0</td>\n",
       "      <td>sedan</td>\n",
       "      <td>1980</td>\n",
       "      <td>manual</td>\n",
       "      <td>50</td>\n",
       "      <td>other</td>\n",
       "      <td>40000</td>\n",
       "      <td>7</td>\n",
       "      <td>petrol</td>\n",
       "      <td>volkswagen</td>\n",
       "      <td>no</td>\n",
       "    </tr>\n",
       "    <tr>\n",
       "      <th>40</th>\n",
       "      <td>0</td>\n",
       "      <td>other</td>\n",
       "      <td>1990</td>\n",
       "      <td>other</td>\n",
       "      <td>0</td>\n",
       "      <td>corsa</td>\n",
       "      <td>150000</td>\n",
       "      <td>1</td>\n",
       "      <td>petrol</td>\n",
       "      <td>opel</td>\n",
       "      <td>other</td>\n",
       "    </tr>\n",
       "    <tr>\n",
       "      <th>115</th>\n",
       "      <td>0</td>\n",
       "      <td>small</td>\n",
       "      <td>1999</td>\n",
       "      <td>other</td>\n",
       "      <td>0</td>\n",
       "      <td>other</td>\n",
       "      <td>5000</td>\n",
       "      <td>0</td>\n",
       "      <td>petrol</td>\n",
       "      <td>volkswagen</td>\n",
       "      <td>other</td>\n",
       "    </tr>\n",
       "    <tr>\n",
       "      <th>152</th>\n",
       "      <td>0</td>\n",
       "      <td>bus</td>\n",
       "      <td>2004</td>\n",
       "      <td>manual</td>\n",
       "      <td>101</td>\n",
       "      <td>meriva</td>\n",
       "      <td>150000</td>\n",
       "      <td>10</td>\n",
       "      <td>lpg</td>\n",
       "      <td>opel</td>\n",
       "      <td>yes</td>\n",
       "    </tr>\n",
       "    <tr>\n",
       "      <th>154</th>\n",
       "      <td>0</td>\n",
       "      <td>other</td>\n",
       "      <td>2006</td>\n",
       "      <td>other</td>\n",
       "      <td>0</td>\n",
       "      <td>other</td>\n",
       "      <td>5000</td>\n",
       "      <td>0</td>\n",
       "      <td>other</td>\n",
       "      <td>fiat</td>\n",
       "      <td>other</td>\n",
       "    </tr>\n",
       "    <tr>\n",
       "      <th>...</th>\n",
       "      <td>...</td>\n",
       "      <td>...</td>\n",
       "      <td>...</td>\n",
       "      <td>...</td>\n",
       "      <td>...</td>\n",
       "      <td>...</td>\n",
       "      <td>...</td>\n",
       "      <td>...</td>\n",
       "      <td>...</td>\n",
       "      <td>...</td>\n",
       "      <td>...</td>\n",
       "    </tr>\n",
       "    <tr>\n",
       "      <th>354205</th>\n",
       "      <td>0</td>\n",
       "      <td>other</td>\n",
       "      <td>2000</td>\n",
       "      <td>manual</td>\n",
       "      <td>65</td>\n",
       "      <td>corsa</td>\n",
       "      <td>150000</td>\n",
       "      <td>0</td>\n",
       "      <td>other</td>\n",
       "      <td>opel</td>\n",
       "      <td>yes</td>\n",
       "    </tr>\n",
       "    <tr>\n",
       "      <th>354238</th>\n",
       "      <td>0</td>\n",
       "      <td>small</td>\n",
       "      <td>2002</td>\n",
       "      <td>manual</td>\n",
       "      <td>60</td>\n",
       "      <td>fiesta</td>\n",
       "      <td>150000</td>\n",
       "      <td>3</td>\n",
       "      <td>petrol</td>\n",
       "      <td>ford</td>\n",
       "      <td>other</td>\n",
       "    </tr>\n",
       "    <tr>\n",
       "      <th>354248</th>\n",
       "      <td>0</td>\n",
       "      <td>small</td>\n",
       "      <td>1999</td>\n",
       "      <td>manual</td>\n",
       "      <td>53</td>\n",
       "      <td>swift</td>\n",
       "      <td>150000</td>\n",
       "      <td>3</td>\n",
       "      <td>petrol</td>\n",
       "      <td>suzuki</td>\n",
       "      <td>other</td>\n",
       "    </tr>\n",
       "    <tr>\n",
       "      <th>354277</th>\n",
       "      <td>0</td>\n",
       "      <td>small</td>\n",
       "      <td>1999</td>\n",
       "      <td>manual</td>\n",
       "      <td>37</td>\n",
       "      <td>arosa</td>\n",
       "      <td>150000</td>\n",
       "      <td>7</td>\n",
       "      <td>petrol</td>\n",
       "      <td>seat</td>\n",
       "      <td>yes</td>\n",
       "    </tr>\n",
       "    <tr>\n",
       "      <th>354364</th>\n",
       "      <td>0</td>\n",
       "      <td>other</td>\n",
       "      <td>2005</td>\n",
       "      <td>manual</td>\n",
       "      <td>0</td>\n",
       "      <td>colt</td>\n",
       "      <td>150000</td>\n",
       "      <td>7</td>\n",
       "      <td>petrol</td>\n",
       "      <td>mitsubishi</td>\n",
       "      <td>yes</td>\n",
       "    </tr>\n",
       "  </tbody>\n",
       "</table>\n",
       "<p>8954 rows × 11 columns</p>\n",
       "</div>"
      ],
      "text/plain": [
       "        price vehicle_type registration_year gearbox  power   model  \\\n",
       "7           0        sedan              1980  manual     50   other   \n",
       "40          0        other              1990   other      0   corsa   \n",
       "115         0        small              1999   other      0   other   \n",
       "152         0          bus              2004  manual    101  meriva   \n",
       "154         0        other              2006   other      0   other   \n",
       "...       ...          ...               ...     ...    ...     ...   \n",
       "354205      0        other              2000  manual     65   corsa   \n",
       "354238      0        small              2002  manual     60  fiesta   \n",
       "354248      0        small              1999  manual     53   swift   \n",
       "354277      0        small              1999  manual     37   arosa   \n",
       "354364      0        other              2005  manual      0    colt   \n",
       "\n",
       "        kilometer registration_month fuel_type       brand repaired  \n",
       "7           40000                  7    petrol  volkswagen       no  \n",
       "40         150000                  1    petrol        opel    other  \n",
       "115          5000                  0    petrol  volkswagen    other  \n",
       "152        150000                 10       lpg        opel      yes  \n",
       "154          5000                  0     other        fiat    other  \n",
       "...           ...                ...       ...         ...      ...  \n",
       "354205     150000                  0     other        opel      yes  \n",
       "354238     150000                  3    petrol        ford    other  \n",
       "354248     150000                  3    petrol      suzuki    other  \n",
       "354277     150000                  7    petrol        seat      yes  \n",
       "354364     150000                  7    petrol  mitsubishi      yes  \n",
       "\n",
       "[8954 rows x 11 columns]"
      ]
     },
     "execution_count": 159,
     "metadata": {},
     "output_type": "execute_result"
    }
   ],
   "source": [
    "df.loc[df['price'] == 0]\n",
    "# есть нулевые значения, то есть их не нужно учитывать"
   ]
  },
  {
   "cell_type": "code",
   "execution_count": 160,
   "metadata": {},
   "outputs": [],
   "source": [
    "df = df.loc[df['price'] > 0]"
   ]
  },
  {
   "cell_type": "markdown",
   "metadata": {},
   "source": [
    "## Обучение моделей"
   ]
  },
  {
   "cell_type": "code",
   "execution_count": 293,
   "metadata": {},
   "outputs": [],
   "source": [
    "data = df"
   ]
  },
  {
   "cell_type": "code",
   "execution_count": 294,
   "metadata": {},
   "outputs": [
    {
     "data": {
      "text/html": [
       "<div>\n",
       "<style scoped>\n",
       "    .dataframe tbody tr th:only-of-type {\n",
       "        vertical-align: middle;\n",
       "    }\n",
       "\n",
       "    .dataframe tbody tr th {\n",
       "        vertical-align: top;\n",
       "    }\n",
       "\n",
       "    .dataframe thead th {\n",
       "        text-align: right;\n",
       "    }\n",
       "</style>\n",
       "<table border=\"1\" class=\"dataframe\">\n",
       "  <thead>\n",
       "    <tr style=\"text-align: right;\">\n",
       "      <th></th>\n",
       "      <th>price</th>\n",
       "      <th>vehicle_type</th>\n",
       "      <th>registration_year</th>\n",
       "      <th>gearbox</th>\n",
       "      <th>power</th>\n",
       "      <th>model</th>\n",
       "      <th>kilometer</th>\n",
       "      <th>registration_month</th>\n",
       "      <th>fuel_type</th>\n",
       "      <th>brand</th>\n",
       "      <th>repaired</th>\n",
       "    </tr>\n",
       "  </thead>\n",
       "  <tbody>\n",
       "    <tr>\n",
       "      <th>0</th>\n",
       "      <td>480</td>\n",
       "      <td>other</td>\n",
       "      <td>1993</td>\n",
       "      <td>manual</td>\n",
       "      <td>0</td>\n",
       "      <td>golf</td>\n",
       "      <td>150000</td>\n",
       "      <td>0</td>\n",
       "      <td>petrol</td>\n",
       "      <td>volkswagen</td>\n",
       "      <td>other</td>\n",
       "    </tr>\n",
       "    <tr>\n",
       "      <th>1</th>\n",
       "      <td>18300</td>\n",
       "      <td>coupe</td>\n",
       "      <td>2011</td>\n",
       "      <td>manual</td>\n",
       "      <td>190</td>\n",
       "      <td>other</td>\n",
       "      <td>125000</td>\n",
       "      <td>5</td>\n",
       "      <td>gasoline</td>\n",
       "      <td>audi</td>\n",
       "      <td>yes</td>\n",
       "    </tr>\n",
       "    <tr>\n",
       "      <th>2</th>\n",
       "      <td>9800</td>\n",
       "      <td>suv</td>\n",
       "      <td>2004</td>\n",
       "      <td>auto</td>\n",
       "      <td>163</td>\n",
       "      <td>grand</td>\n",
       "      <td>125000</td>\n",
       "      <td>8</td>\n",
       "      <td>gasoline</td>\n",
       "      <td>jeep</td>\n",
       "      <td>other</td>\n",
       "    </tr>\n",
       "    <tr>\n",
       "      <th>3</th>\n",
       "      <td>1500</td>\n",
       "      <td>small</td>\n",
       "      <td>2001</td>\n",
       "      <td>manual</td>\n",
       "      <td>75</td>\n",
       "      <td>golf</td>\n",
       "      <td>150000</td>\n",
       "      <td>6</td>\n",
       "      <td>petrol</td>\n",
       "      <td>volkswagen</td>\n",
       "      <td>no</td>\n",
       "    </tr>\n",
       "    <tr>\n",
       "      <th>4</th>\n",
       "      <td>3600</td>\n",
       "      <td>small</td>\n",
       "      <td>2008</td>\n",
       "      <td>manual</td>\n",
       "      <td>69</td>\n",
       "      <td>fabia</td>\n",
       "      <td>90000</td>\n",
       "      <td>7</td>\n",
       "      <td>gasoline</td>\n",
       "      <td>skoda</td>\n",
       "      <td>no</td>\n",
       "    </tr>\n",
       "    <tr>\n",
       "      <th>...</th>\n",
       "      <td>...</td>\n",
       "      <td>...</td>\n",
       "      <td>...</td>\n",
       "      <td>...</td>\n",
       "      <td>...</td>\n",
       "      <td>...</td>\n",
       "      <td>...</td>\n",
       "      <td>...</td>\n",
       "      <td>...</td>\n",
       "      <td>...</td>\n",
       "      <td>...</td>\n",
       "    </tr>\n",
       "    <tr>\n",
       "      <th>354362</th>\n",
       "      <td>3200</td>\n",
       "      <td>sedan</td>\n",
       "      <td>2004</td>\n",
       "      <td>manual</td>\n",
       "      <td>225</td>\n",
       "      <td>leon</td>\n",
       "      <td>150000</td>\n",
       "      <td>5</td>\n",
       "      <td>petrol</td>\n",
       "      <td>seat</td>\n",
       "      <td>yes</td>\n",
       "    </tr>\n",
       "    <tr>\n",
       "      <th>354363</th>\n",
       "      <td>1150</td>\n",
       "      <td>bus</td>\n",
       "      <td>2000</td>\n",
       "      <td>manual</td>\n",
       "      <td>0</td>\n",
       "      <td>zafira</td>\n",
       "      <td>150000</td>\n",
       "      <td>3</td>\n",
       "      <td>petrol</td>\n",
       "      <td>opel</td>\n",
       "      <td>no</td>\n",
       "    </tr>\n",
       "    <tr>\n",
       "      <th>354366</th>\n",
       "      <td>1199</td>\n",
       "      <td>convertible</td>\n",
       "      <td>2000</td>\n",
       "      <td>auto</td>\n",
       "      <td>101</td>\n",
       "      <td>fortwo</td>\n",
       "      <td>125000</td>\n",
       "      <td>3</td>\n",
       "      <td>petrol</td>\n",
       "      <td>smart</td>\n",
       "      <td>no</td>\n",
       "    </tr>\n",
       "    <tr>\n",
       "      <th>354367</th>\n",
       "      <td>9200</td>\n",
       "      <td>bus</td>\n",
       "      <td>1996</td>\n",
       "      <td>manual</td>\n",
       "      <td>102</td>\n",
       "      <td>transporter</td>\n",
       "      <td>150000</td>\n",
       "      <td>3</td>\n",
       "      <td>gasoline</td>\n",
       "      <td>volkswagen</td>\n",
       "      <td>no</td>\n",
       "    </tr>\n",
       "    <tr>\n",
       "      <th>354368</th>\n",
       "      <td>3400</td>\n",
       "      <td>wagon</td>\n",
       "      <td>2002</td>\n",
       "      <td>manual</td>\n",
       "      <td>100</td>\n",
       "      <td>golf</td>\n",
       "      <td>150000</td>\n",
       "      <td>6</td>\n",
       "      <td>gasoline</td>\n",
       "      <td>volkswagen</td>\n",
       "      <td>other</td>\n",
       "    </tr>\n",
       "  </tbody>\n",
       "</table>\n",
       "<p>325958 rows × 11 columns</p>\n",
       "</div>"
      ],
      "text/plain": [
       "        price vehicle_type registration_year gearbox  power        model  \\\n",
       "0         480        other              1993  manual      0         golf   \n",
       "1       18300        coupe              2011  manual    190        other   \n",
       "2        9800          suv              2004    auto    163        grand   \n",
       "3        1500        small              2001  manual     75         golf   \n",
       "4        3600        small              2008  manual     69        fabia   \n",
       "...       ...          ...               ...     ...    ...          ...   \n",
       "354362   3200        sedan              2004  manual    225         leon   \n",
       "354363   1150          bus              2000  manual      0       zafira   \n",
       "354366   1199  convertible              2000    auto    101       fortwo   \n",
       "354367   9200          bus              1996  manual    102  transporter   \n",
       "354368   3400        wagon              2002  manual    100         golf   \n",
       "\n",
       "        kilometer registration_month fuel_type       brand repaired  \n",
       "0          150000                  0    petrol  volkswagen    other  \n",
       "1          125000                  5  gasoline        audi      yes  \n",
       "2          125000                  8  gasoline        jeep    other  \n",
       "3          150000                  6    petrol  volkswagen       no  \n",
       "4           90000                  7  gasoline       skoda       no  \n",
       "...           ...                ...       ...         ...      ...  \n",
       "354362     150000                  5    petrol        seat      yes  \n",
       "354363     150000                  3    petrol        opel       no  \n",
       "354366     125000                  3    petrol       smart       no  \n",
       "354367     150000                  3  gasoline  volkswagen       no  \n",
       "354368     150000                  6  gasoline  volkswagen    other  \n",
       "\n",
       "[325958 rows x 11 columns]"
      ]
     },
     "execution_count": 294,
     "metadata": {},
     "output_type": "execute_result"
    }
   ],
   "source": [
    "data"
   ]
  },
  {
   "cell_type": "code",
   "execution_count": 295,
   "metadata": {},
   "outputs": [],
   "source": [
    "# разделим данные\n",
    "X = data.drop('price', axis=1)\n",
    "y = data['price']"
   ]
  },
  {
   "cell_type": "code",
   "execution_count": 296,
   "metadata": {},
   "outputs": [],
   "source": [
    "X_train, X_test, y_train, y_test = train_test_split(X, y, test_size=0.5, random_state=12345)"
   ]
  },
  {
   "cell_type": "code",
   "execution_count": 297,
   "metadata": {},
   "outputs": [],
   "source": [
    "X_test, X_valid, y_test, y_valid = train_test_split(X_test, y_test, test_size=0.5, random_state=12345)"
   ]
  },
  {
   "cell_type": "code",
   "execution_count": 298,
   "metadata": {
    "scrolled": true
   },
   "outputs": [
    {
     "data": {
      "text/plain": [
       "Index(['vehicle_type', 'registration_year', 'gearbox', 'power', 'model',\n",
       "       'kilometer', 'registration_month', 'fuel_type', 'brand', 'repaired'],\n",
       "      dtype='object')"
      ]
     },
     "execution_count": 298,
     "metadata": {},
     "output_type": "execute_result"
    }
   ],
   "source": [
    "col = X.columns\n",
    "col"
   ]
  },
  {
   "cell_type": "code",
   "execution_count": 299,
   "metadata": {},
   "outputs": [],
   "source": [
    "categ = []\n",
    "for c in X.columns:\n",
    "  col_type = X[c].dtype\n",
    "  if col_type == 'object':\n",
    "    categ.append(c)"
   ]
  },
  {
   "cell_type": "code",
   "execution_count": 300,
   "metadata": {},
   "outputs": [
    {
     "name": "stdout",
     "output_type": "stream",
     "text": [
      "10\n",
      "10\n",
      "10\n"
     ]
    }
   ],
   "source": [
    "print(len(X_train.columns))\n",
    "print(len(X_test.columns))\n",
    "print(len(X_valid.columns))"
   ]
  },
  {
   "cell_type": "code",
   "execution_count": 301,
   "metadata": {
    "scrolled": true
   },
   "outputs": [
    {
     "data": {
      "text/plain": [
       "['vehicle_type',\n",
       " 'registration_year',\n",
       " 'gearbox',\n",
       " 'model',\n",
       " 'registration_month',\n",
       " 'fuel_type',\n",
       " 'brand',\n",
       " 'repaired']"
      ]
     },
     "execution_count": 301,
     "metadata": {},
     "output_type": "execute_result"
    }
   ],
   "source": [
    "categ"
   ]
  },
  {
   "cell_type": "code",
   "execution_count": 302,
   "metadata": {},
   "outputs": [
    {
     "data": {
      "text/plain": [
       "vehicle_type          object\n",
       "registration_year     object\n",
       "gearbox               object\n",
       "power                  int64\n",
       "model                 object\n",
       "kilometer              int64\n",
       "registration_month    object\n",
       "fuel_type             object\n",
       "brand                 object\n",
       "repaired              object\n",
       "dtype: object"
      ]
     },
     "execution_count": 302,
     "metadata": {},
     "output_type": "execute_result"
    }
   ],
   "source": [
    "X_train.dtypes"
   ]
  },
  {
   "cell_type": "code",
   "execution_count": 303,
   "metadata": {},
   "outputs": [
    {
     "data": {
      "text/plain": [
       "OrdinalEncoder(handle_unknown='ignore')"
      ]
     },
     "execution_count": 303,
     "metadata": {},
     "output_type": "execute_result"
    }
   ],
   "source": [
    "# закодируем признаки с помощью порядкового кодирования\n",
    "enc = OrdinalEncoder(handle_unknown='ignore')\n",
    "\n",
    "enc.fit(X_train[categ])"
   ]
  },
  {
   "cell_type": "code",
   "execution_count": 304,
   "metadata": {},
   "outputs": [],
   "source": [
    "X_train[categ] = enc.transform(X_train[categ])"
   ]
  },
  {
   "cell_type": "code",
   "execution_count": 305,
   "metadata": {
    "scrolled": true
   },
   "outputs": [],
   "source": [
    "X_test[categ] = enc.transform(X_test[categ])"
   ]
  },
  {
   "cell_type": "code",
   "execution_count": 306,
   "metadata": {},
   "outputs": [],
   "source": [
    "X_valid[categ] = enc.transform(X_valid[categ])"
   ]
  },
  {
   "cell_type": "code",
   "execution_count": 307,
   "metadata": {},
   "outputs": [
    {
     "data": {
      "text/html": [
       "<div>\n",
       "<style scoped>\n",
       "    .dataframe tbody tr th:only-of-type {\n",
       "        vertical-align: middle;\n",
       "    }\n",
       "\n",
       "    .dataframe tbody tr th {\n",
       "        vertical-align: top;\n",
       "    }\n",
       "\n",
       "    .dataframe thead th {\n",
       "        text-align: right;\n",
       "    }\n",
       "</style>\n",
       "<table border=\"1\" class=\"dataframe\">\n",
       "  <thead>\n",
       "    <tr style=\"text-align: right;\">\n",
       "      <th></th>\n",
       "      <th>vehicle_type</th>\n",
       "      <th>registration_year</th>\n",
       "      <th>gearbox</th>\n",
       "      <th>power</th>\n",
       "      <th>model</th>\n",
       "      <th>kilometer</th>\n",
       "      <th>registration_month</th>\n",
       "      <th>fuel_type</th>\n",
       "      <th>brand</th>\n",
       "      <th>repaired</th>\n",
       "    </tr>\n",
       "  </thead>\n",
       "  <tbody>\n",
       "    <tr>\n",
       "      <th>77105</th>\n",
       "      <td>4.0</td>\n",
       "      <td>62.0</td>\n",
       "      <td>1.0</td>\n",
       "      <td>90</td>\n",
       "      <td>20.0</td>\n",
       "      <td>150000</td>\n",
       "      <td>10.0</td>\n",
       "      <td>6.0</td>\n",
       "      <td>1.0</td>\n",
       "      <td>0.0</td>\n",
       "    </tr>\n",
       "    <tr>\n",
       "      <th>295759</th>\n",
       "      <td>5.0</td>\n",
       "      <td>64.0</td>\n",
       "      <td>1.0</td>\n",
       "      <td>50</td>\n",
       "      <td>5.0</td>\n",
       "      <td>125000</td>\n",
       "      <td>12.0</td>\n",
       "      <td>6.0</td>\n",
       "      <td>19.0</td>\n",
       "      <td>0.0</td>\n",
       "    </tr>\n",
       "    <tr>\n",
       "      <th>295586</th>\n",
       "      <td>4.0</td>\n",
       "      <td>62.0</td>\n",
       "      <td>0.0</td>\n",
       "      <td>0</td>\n",
       "      <td>19.0</td>\n",
       "      <td>150000</td>\n",
       "      <td>10.0</td>\n",
       "      <td>6.0</td>\n",
       "      <td>2.0</td>\n",
       "      <td>0.0</td>\n",
       "    </tr>\n",
       "    <tr>\n",
       "      <th>95373</th>\n",
       "      <td>4.0</td>\n",
       "      <td>74.0</td>\n",
       "      <td>2.0</td>\n",
       "      <td>0</td>\n",
       "      <td>115.0</td>\n",
       "      <td>100000</td>\n",
       "      <td>0.0</td>\n",
       "      <td>5.0</td>\n",
       "      <td>38.0</td>\n",
       "      <td>1.0</td>\n",
       "    </tr>\n",
       "    <tr>\n",
       "      <th>42687</th>\n",
       "      <td>1.0</td>\n",
       "      <td>83.0</td>\n",
       "      <td>0.0</td>\n",
       "      <td>84</td>\n",
       "      <td>105.0</td>\n",
       "      <td>10000</td>\n",
       "      <td>5.0</td>\n",
       "      <td>6.0</td>\n",
       "      <td>32.0</td>\n",
       "      <td>0.0</td>\n",
       "    </tr>\n",
       "    <tr>\n",
       "      <th>...</th>\n",
       "      <td>...</td>\n",
       "      <td>...</td>\n",
       "      <td>...</td>\n",
       "      <td>...</td>\n",
       "      <td>...</td>\n",
       "      <td>...</td>\n",
       "      <td>...</td>\n",
       "      <td>...</td>\n",
       "      <td>...</td>\n",
       "      <td>...</td>\n",
       "    </tr>\n",
       "    <tr>\n",
       "      <th>172694</th>\n",
       "      <td>0.0</td>\n",
       "      <td>70.0</td>\n",
       "      <td>1.0</td>\n",
       "      <td>116</td>\n",
       "      <td>202.0</td>\n",
       "      <td>150000</td>\n",
       "      <td>1.0</td>\n",
       "      <td>2.0</td>\n",
       "      <td>38.0</td>\n",
       "      <td>0.0</td>\n",
       "    </tr>\n",
       "    <tr>\n",
       "      <th>52142</th>\n",
       "      <td>1.0</td>\n",
       "      <td>69.0</td>\n",
       "      <td>1.0</td>\n",
       "      <td>145</td>\n",
       "      <td>157.0</td>\n",
       "      <td>60000</td>\n",
       "      <td>3.0</td>\n",
       "      <td>6.0</td>\n",
       "      <td>19.0</td>\n",
       "      <td>0.0</td>\n",
       "    </tr>\n",
       "    <tr>\n",
       "      <th>93917</th>\n",
       "      <td>5.0</td>\n",
       "      <td>70.0</td>\n",
       "      <td>1.0</td>\n",
       "      <td>169</td>\n",
       "      <td>80.0</td>\n",
       "      <td>150000</td>\n",
       "      <td>1.0</td>\n",
       "      <td>6.0</td>\n",
       "      <td>21.0</td>\n",
       "      <td>0.0</td>\n",
       "    </tr>\n",
       "    <tr>\n",
       "      <th>84002</th>\n",
       "      <td>0.0</td>\n",
       "      <td>76.0</td>\n",
       "      <td>1.0</td>\n",
       "      <td>116</td>\n",
       "      <td>202.0</td>\n",
       "      <td>150000</td>\n",
       "      <td>10.0</td>\n",
       "      <td>2.0</td>\n",
       "      <td>38.0</td>\n",
       "      <td>0.0</td>\n",
       "    </tr>\n",
       "    <tr>\n",
       "      <th>236628</th>\n",
       "      <td>3.0</td>\n",
       "      <td>84.0</td>\n",
       "      <td>2.0</td>\n",
       "      <td>60</td>\n",
       "      <td>115.0</td>\n",
       "      <td>150000</td>\n",
       "      <td>10.0</td>\n",
       "      <td>6.0</td>\n",
       "      <td>38.0</td>\n",
       "      <td>1.0</td>\n",
       "    </tr>\n",
       "  </tbody>\n",
       "</table>\n",
       "<p>162979 rows × 10 columns</p>\n",
       "</div>"
      ],
      "text/plain": [
       "        vehicle_type  registration_year  gearbox  power  model  kilometer  \\\n",
       "77105            4.0               62.0      1.0     90   20.0     150000   \n",
       "295759           5.0               64.0      1.0     50    5.0     125000   \n",
       "295586           4.0               62.0      0.0      0   19.0     150000   \n",
       "95373            4.0               74.0      2.0      0  115.0     100000   \n",
       "42687            1.0               83.0      0.0     84  105.0      10000   \n",
       "...              ...                ...      ...    ...    ...        ...   \n",
       "172694           0.0               70.0      1.0    116  202.0     150000   \n",
       "52142            1.0               69.0      1.0    145  157.0      60000   \n",
       "93917            5.0               70.0      1.0    169   80.0     150000   \n",
       "84002            0.0               76.0      1.0    116  202.0     150000   \n",
       "236628           3.0               84.0      2.0     60  115.0     150000   \n",
       "\n",
       "        registration_month  fuel_type  brand  repaired  \n",
       "77105                 10.0        6.0    1.0       0.0  \n",
       "295759                12.0        6.0   19.0       0.0  \n",
       "295586                10.0        6.0    2.0       0.0  \n",
       "95373                  0.0        5.0   38.0       1.0  \n",
       "42687                  5.0        6.0   32.0       0.0  \n",
       "...                    ...        ...    ...       ...  \n",
       "172694                 1.0        2.0   38.0       0.0  \n",
       "52142                  3.0        6.0   19.0       0.0  \n",
       "93917                  1.0        6.0   21.0       0.0  \n",
       "84002                 10.0        2.0   38.0       0.0  \n",
       "236628                10.0        6.0   38.0       1.0  \n",
       "\n",
       "[162979 rows x 10 columns]"
      ]
     },
     "execution_count": 307,
     "metadata": {},
     "output_type": "execute_result"
    }
   ],
   "source": [
    "X_train"
   ]
  },
  {
   "cell_type": "markdown",
   "metadata": {},
   "source": [
    "### Линейная регрессия"
   ]
  },
  {
   "cell_type": "code",
   "execution_count": 308,
   "metadata": {},
   "outputs": [
    {
     "name": "stdout",
     "output_type": "stream",
     "text": [
      "RMSE линейной модели 3196.8370948274223\n"
     ]
    }
   ],
   "source": [
    "model_lr = LinearRegression()\n",
    "model_lr.fit(X_train, y_train)\n",
    "\n",
    "predictions_lr_test = model_lr.predict(X_test)\n",
    "rmse_lr_test = mean_squared_error(y_test, predictions_lr_test) ** 0.5\n",
    "\n",
    "predictions_lr = model_lr.predict(X_valid)\n",
    "rmse_lr = mean_squared_error(y_valid, predictions_lr) ** 0.5\n",
    "\n",
    "print('RMSE линейной модели', rmse_lr)"
   ]
  },
  {
   "cell_type": "markdown",
   "metadata": {},
   "source": [
    "### Рещающее дерево"
   ]
  },
  {
   "cell_type": "code",
   "execution_count": 309,
   "metadata": {},
   "outputs": [
    {
     "name": "stdout",
     "output_type": "stream",
     "text": [
      "Глубина: 3\n",
      "RMSE для решающего дерева: 2923.9164094117314\n",
      "\n",
      "Глубина: 5\n",
      "RMSE для решающего дерева: 2435.054929109248\n",
      "\n",
      "Глубина: 7\n",
      "RMSE для решающего дерева: 2218.970389620737\n",
      "\n",
      "Глубина: 9\n",
      "RMSE для решающего дерева: 2081.585387680923\n",
      "\n",
      "Глубина: 11\n",
      "RMSE для решающего дерева: 1993.1214456334549\n",
      "\n",
      "Глубина: 13\n",
      "RMSE для решающего дерева: 1974.233027327722\n",
      "\n",
      "Глубина: 15\n",
      "RMSE для решающего дерева: 2003.7643803980802\n",
      "\n",
      "Глубина: 17\n",
      "RMSE для решающего дерева: 2047.961724978227\n",
      "\n",
      "Глубина: 19\n",
      "RMSE для решающего дерева: 2089.0148842010262\n",
      "\n",
      "Глубина: 21\n",
      "RMSE для решающего дерева: 2137.9065650846896\n",
      "\n",
      "Глубина: 23\n",
      "RMSE для решающего дерева: 2159.5092648130476\n",
      "\n",
      "\n"
     ]
    }
   ],
   "source": [
    "for depth in range(3, 25, 2):\n",
    "    model = DecisionTreeRegressor(random_state=12345, max_depth = depth)\n",
    "    model.fit(X_train, y_train)\n",
    "    \n",
    "    predictions_test = model.predict(X_test)\n",
    "    rmse_dtr_test = mean_squared_error(y_test, predictions_test)**0.5\n",
    "    \n",
    "    predictions_valid = model.predict(X_valid)\n",
    "    rmse_dtr = mean_squared_error(y_valid, predictions_valid)**0.5\n",
    "    \n",
    "    print('Глубина:', depth)\n",
    "    print('RMSE для решающего дерева:', rmse_dtr)\n",
    "    print('')\n",
    "print()"
   ]
  },
  {
   "cell_type": "markdown",
   "metadata": {},
   "source": [
    "Как можно увидеть, модель склонна к переобучению. Лучшая глубина - это 11."
   ]
  },
  {
   "cell_type": "markdown",
   "metadata": {},
   "source": [
    "### Случайный лес"
   ]
  },
  {
   "cell_type": "code",
   "execution_count": 310,
   "metadata": {},
   "outputs": [
    {
     "name": "stderr",
     "output_type": "stream",
     "text": [
      " 25%|██▌       | 1/4 [00:32<01:38, 32.93s/it]"
     ]
    },
    {
     "name": "stdout",
     "output_type": "stream",
     "text": [
      "Количество деревьев: 100\n",
      "RMSE для случайного леса: 1742.9838377269157\n",
      "\n"
     ]
    },
    {
     "name": "stderr",
     "output_type": "stream",
     "text": [
      " 50%|█████     | 2/4 [02:10<02:22, 71.21s/it]"
     ]
    },
    {
     "name": "stdout",
     "output_type": "stream",
     "text": [
      "Количество деревьев: 300\n",
      "RMSE для случайного леса: 1740.4616690306987\n",
      "\n"
     ]
    },
    {
     "name": "stderr",
     "output_type": "stream",
     "text": [
      " 75%|███████▌  | 3/4 [04:45<01:49, 109.39s/it]"
     ]
    },
    {
     "name": "stdout",
     "output_type": "stream",
     "text": [
      "Количество деревьев: 500\n",
      "RMSE для случайного леса: 1739.3634180584277\n",
      "\n"
     ]
    },
    {
     "name": "stderr",
     "output_type": "stream",
     "text": [
      "100%|██████████| 4/4 [08:18<00:00, 124.73s/it]"
     ]
    },
    {
     "name": "stdout",
     "output_type": "stream",
     "text": [
      "Количество деревьев: 700\n",
      "RMSE для случайного леса: 1739.1133693162517\n",
      "\n",
      "\n"
     ]
    },
    {
     "name": "stderr",
     "output_type": "stream",
     "text": [
      "\n"
     ]
    }
   ],
   "source": [
    "for i in tqdm([100, 300, 500, 700]):\n",
    "    model = RandomForestRegressor(random_state=12345, \n",
    "                                   n_estimators=i, \n",
    "                                   max_depth=13)\n",
    "    model.fit(X_train, y_train)\n",
    "    \n",
    "    predictions_test = model.predict(X_test)\n",
    "    rmse_rfr_test = mean_squared_error(y_test, predictions_test)**0.5\n",
    "    \n",
    "    predictions_valid = model.predict(X_valid)\n",
    "    rmse_rfr = mean_squared_error(y_valid, predictions_valid)**0.5\n",
    "    \n",
    "    print('Количество деревьев:', i)\n",
    "    print('RMSE для случайного леса:', rmse_rfr)\n",
    "    print('')\n",
    "print()"
   ]
  },
  {
   "cell_type": "markdown",
   "metadata": {},
   "source": [
    "Как видим, результат не сильно зависит от количества деревьев"
   ]
  },
  {
   "cell_type": "markdown",
   "metadata": {},
   "source": [
    "### LightGBM"
   ]
  },
  {
   "cell_type": "code",
   "execution_count": 311,
   "metadata": {},
   "outputs": [
    {
     "name": "stdout",
     "output_type": "stream",
     "text": [
      "Requirement already satisfied: lightgbm in /opt/conda/lib/python3.9/site-packages (3.3.1)\n",
      "Requirement already satisfied: scikit-learn!=0.22.0 in /opt/conda/lib/python3.9/site-packages (from lightgbm) (0.24.1)\n",
      "Requirement already satisfied: wheel in /opt/conda/lib/python3.9/site-packages (from lightgbm) (0.36.2)\n",
      "Requirement already satisfied: numpy in /opt/conda/lib/python3.9/site-packages (from lightgbm) (1.21.1)\n",
      "Requirement already satisfied: scipy in /opt/conda/lib/python3.9/site-packages (from lightgbm) (1.9.1)\n",
      "Requirement already satisfied: joblib>=0.11 in /opt/conda/lib/python3.9/site-packages (from scikit-learn!=0.22.0->lightgbm) (1.1.0)\n",
      "Requirement already satisfied: threadpoolctl>=2.0.0 in /opt/conda/lib/python3.9/site-packages (from scikit-learn!=0.22.0->lightgbm) (3.1.0)\n"
     ]
    }
   ],
   "source": [
    "!pip3 install lightgbm"
   ]
  },
  {
   "cell_type": "code",
   "execution_count": 312,
   "metadata": {},
   "outputs": [
    {
     "name": "stdout",
     "output_type": "stream",
     "text": [
      "3.3.1\n"
     ]
    }
   ],
   "source": [
    "import lightgbm as lgb\n",
    "print(lgb.__version__)"
   ]
  },
  {
   "cell_type": "code",
   "execution_count": 313,
   "metadata": {},
   "outputs": [],
   "source": [
    "for col in X_train.columns:\n",
    "  col_type = X_train[col].dtype\n",
    "  if col_type == 'object':\n",
    "    X_train[col] = X_train[col].astype('category')\n",
    "    X_test[col] = X_test[col].astype('category')\n",
    "    X_valid[col] = X_valid[col].astype('category')"
   ]
  },
  {
   "cell_type": "code",
   "execution_count": 314,
   "metadata": {
    "scrolled": true
   },
   "outputs": [
    {
     "name": "stdout",
     "output_type": "stream",
     "text": [
      "RMSE для LGBM: 1720.4211173414874\n",
      "CPU times: user 6min 56s, sys: 9.66 s, total: 7min 5s\n",
      "Wall time: 7min 8s\n"
     ]
    }
   ],
   "source": [
    "%%time\n",
    "model = lgb.LGBMRegressor(random_state=12345)\n",
    "model.fit(X_train, y_train)\n",
    "\n",
    "predictions_test = model.predict(X_test)\n",
    "rmse_lgbm_test = mean_squared_error(y_test, predictions_test)**0.5\n",
    "\n",
    "predictions_valid = model.predict(X_valid)\n",
    "rmse_lgbm = mean_squared_error(y_valid, predictions_valid)**0.5\n",
    "\n",
    "print('RMSE для LGBM:', rmse_lgbm)"
   ]
  },
  {
   "cell_type": "code",
   "execution_count": 315,
   "metadata": {},
   "outputs": [],
   "source": [
    "param_grid = {'n_estimators': [100, 500], \n",
    "              'num_leaves': [10, 20, 30]\n",
    "             }"
   ]
  },
  {
   "cell_type": "code",
   "execution_count": 316,
   "metadata": {},
   "outputs": [
    {
     "data": {
      "text/plain": [
       "{'n_estimators': 500, 'num_leaves': 30}"
      ]
     },
     "metadata": {},
     "output_type": "display_data"
    },
    {
     "data": {
      "text/plain": [
       "0.8728760327098302"
      ]
     },
     "metadata": {},
     "output_type": "display_data"
    },
    {
     "name": "stdout",
     "output_type": "stream",
     "text": [
      "CPU times: user 18min 35s, sys: 18 s, total: 18min 53s\n",
      "Wall time: 19min 1s\n"
     ]
    }
   ],
   "source": [
    "%%time\n",
    "model_lgb = lgb.LGBMRegressor(random_state=12345)\n",
    "\n",
    "hyper_params = GridSearchCV(estimator=model_lgb,\n",
    "                            param_grid=param_grid)\n",
    "hyper_params.fit(X_train, y_train)\n",
    "\n",
    "display(hyper_params.best_params_)\n",
    "display(hyper_params.best_score_)"
   ]
  },
  {
   "cell_type": "code",
   "execution_count": 317,
   "metadata": {},
   "outputs": [
    {
     "name": "stdout",
     "output_type": "stream",
     "text": [
      "RMSE для LGBM: 1720.4211173414874\n"
     ]
    }
   ],
   "source": [
    "model_lgb = lgb.LGBMRegressor(n_estimators=500, num_leaves=30, random_state=12345)\n",
    "model_lgb.fit(X_train, y_train)\n",
    "\n",
    "predictions_test = model.predict(X_test)\n",
    "rmse_lgbm_test = mean_squared_error(y_test, predictions_test)**0.5\n",
    "\n",
    "predictions_valid = model.predict(X_valid)\n",
    "rmse_lgbm = mean_squared_error(y_valid, predictions_valid)**0.5\n",
    "\n",
    "print('RMSE для LGBM:', rmse_lgbm)"
   ]
  },
  {
   "cell_type": "markdown",
   "metadata": {},
   "source": [
    "### Dummy regressor"
   ]
  },
  {
   "cell_type": "code",
   "execution_count": 318,
   "metadata": {},
   "outputs": [
    {
     "name": "stdout",
     "output_type": "stream",
     "text": [
      "RMSE для dummy regressor: 4553.392358382987\n"
     ]
    }
   ],
   "source": [
    "model=DummyRegressor(strategy='mean')\n",
    "\n",
    "model.fit(X_train, y_train)\n",
    "prediction_test = model.predict(X_test)\n",
    "\n",
    "rmse_dr = mean_squared_error(y_test, prediction_test) ** 0.5\n",
    "\n",
    "print('RMSE для dummy regressor:', rmse_dr)"
   ]
  },
  {
   "cell_type": "markdown",
   "metadata": {},
   "source": [
    "### CatBoostRegressor"
   ]
  },
  {
   "cell_type": "code",
   "execution_count": 319,
   "metadata": {
    "scrolled": true
   },
   "outputs": [
    {
     "data": {
      "text/html": [
       "<div>\n",
       "<style scoped>\n",
       "    .dataframe tbody tr th:only-of-type {\n",
       "        vertical-align: middle;\n",
       "    }\n",
       "\n",
       "    .dataframe tbody tr th {\n",
       "        vertical-align: top;\n",
       "    }\n",
       "\n",
       "    .dataframe thead th {\n",
       "        text-align: right;\n",
       "    }\n",
       "</style>\n",
       "<table border=\"1\" class=\"dataframe\">\n",
       "  <thead>\n",
       "    <tr style=\"text-align: right;\">\n",
       "      <th></th>\n",
       "      <th>price</th>\n",
       "      <th>vehicle_type</th>\n",
       "      <th>registration_year</th>\n",
       "      <th>gearbox</th>\n",
       "      <th>power</th>\n",
       "      <th>model</th>\n",
       "      <th>kilometer</th>\n",
       "      <th>registration_month</th>\n",
       "      <th>fuel_type</th>\n",
       "      <th>brand</th>\n",
       "      <th>repaired</th>\n",
       "    </tr>\n",
       "  </thead>\n",
       "  <tbody>\n",
       "    <tr>\n",
       "      <th>0</th>\n",
       "      <td>480</td>\n",
       "      <td>other</td>\n",
       "      <td>1993</td>\n",
       "      <td>manual</td>\n",
       "      <td>0</td>\n",
       "      <td>golf</td>\n",
       "      <td>150000</td>\n",
       "      <td>0</td>\n",
       "      <td>petrol</td>\n",
       "      <td>volkswagen</td>\n",
       "      <td>other</td>\n",
       "    </tr>\n",
       "    <tr>\n",
       "      <th>1</th>\n",
       "      <td>18300</td>\n",
       "      <td>coupe</td>\n",
       "      <td>2011</td>\n",
       "      <td>manual</td>\n",
       "      <td>190</td>\n",
       "      <td>other</td>\n",
       "      <td>125000</td>\n",
       "      <td>5</td>\n",
       "      <td>gasoline</td>\n",
       "      <td>audi</td>\n",
       "      <td>yes</td>\n",
       "    </tr>\n",
       "    <tr>\n",
       "      <th>2</th>\n",
       "      <td>9800</td>\n",
       "      <td>suv</td>\n",
       "      <td>2004</td>\n",
       "      <td>auto</td>\n",
       "      <td>163</td>\n",
       "      <td>grand</td>\n",
       "      <td>125000</td>\n",
       "      <td>8</td>\n",
       "      <td>gasoline</td>\n",
       "      <td>jeep</td>\n",
       "      <td>other</td>\n",
       "    </tr>\n",
       "    <tr>\n",
       "      <th>3</th>\n",
       "      <td>1500</td>\n",
       "      <td>small</td>\n",
       "      <td>2001</td>\n",
       "      <td>manual</td>\n",
       "      <td>75</td>\n",
       "      <td>golf</td>\n",
       "      <td>150000</td>\n",
       "      <td>6</td>\n",
       "      <td>petrol</td>\n",
       "      <td>volkswagen</td>\n",
       "      <td>no</td>\n",
       "    </tr>\n",
       "    <tr>\n",
       "      <th>4</th>\n",
       "      <td>3600</td>\n",
       "      <td>small</td>\n",
       "      <td>2008</td>\n",
       "      <td>manual</td>\n",
       "      <td>69</td>\n",
       "      <td>fabia</td>\n",
       "      <td>90000</td>\n",
       "      <td>7</td>\n",
       "      <td>gasoline</td>\n",
       "      <td>skoda</td>\n",
       "      <td>no</td>\n",
       "    </tr>\n",
       "    <tr>\n",
       "      <th>...</th>\n",
       "      <td>...</td>\n",
       "      <td>...</td>\n",
       "      <td>...</td>\n",
       "      <td>...</td>\n",
       "      <td>...</td>\n",
       "      <td>...</td>\n",
       "      <td>...</td>\n",
       "      <td>...</td>\n",
       "      <td>...</td>\n",
       "      <td>...</td>\n",
       "      <td>...</td>\n",
       "    </tr>\n",
       "    <tr>\n",
       "      <th>354362</th>\n",
       "      <td>3200</td>\n",
       "      <td>sedan</td>\n",
       "      <td>2004</td>\n",
       "      <td>manual</td>\n",
       "      <td>225</td>\n",
       "      <td>leon</td>\n",
       "      <td>150000</td>\n",
       "      <td>5</td>\n",
       "      <td>petrol</td>\n",
       "      <td>seat</td>\n",
       "      <td>yes</td>\n",
       "    </tr>\n",
       "    <tr>\n",
       "      <th>354363</th>\n",
       "      <td>1150</td>\n",
       "      <td>bus</td>\n",
       "      <td>2000</td>\n",
       "      <td>manual</td>\n",
       "      <td>0</td>\n",
       "      <td>zafira</td>\n",
       "      <td>150000</td>\n",
       "      <td>3</td>\n",
       "      <td>petrol</td>\n",
       "      <td>opel</td>\n",
       "      <td>no</td>\n",
       "    </tr>\n",
       "    <tr>\n",
       "      <th>354366</th>\n",
       "      <td>1199</td>\n",
       "      <td>convertible</td>\n",
       "      <td>2000</td>\n",
       "      <td>auto</td>\n",
       "      <td>101</td>\n",
       "      <td>fortwo</td>\n",
       "      <td>125000</td>\n",
       "      <td>3</td>\n",
       "      <td>petrol</td>\n",
       "      <td>smart</td>\n",
       "      <td>no</td>\n",
       "    </tr>\n",
       "    <tr>\n",
       "      <th>354367</th>\n",
       "      <td>9200</td>\n",
       "      <td>bus</td>\n",
       "      <td>1996</td>\n",
       "      <td>manual</td>\n",
       "      <td>102</td>\n",
       "      <td>transporter</td>\n",
       "      <td>150000</td>\n",
       "      <td>3</td>\n",
       "      <td>gasoline</td>\n",
       "      <td>volkswagen</td>\n",
       "      <td>no</td>\n",
       "    </tr>\n",
       "    <tr>\n",
       "      <th>354368</th>\n",
       "      <td>3400</td>\n",
       "      <td>wagon</td>\n",
       "      <td>2002</td>\n",
       "      <td>manual</td>\n",
       "      <td>100</td>\n",
       "      <td>golf</td>\n",
       "      <td>150000</td>\n",
       "      <td>6</td>\n",
       "      <td>gasoline</td>\n",
       "      <td>volkswagen</td>\n",
       "      <td>other</td>\n",
       "    </tr>\n",
       "  </tbody>\n",
       "</table>\n",
       "<p>325958 rows × 11 columns</p>\n",
       "</div>"
      ],
      "text/plain": [
       "        price vehicle_type registration_year gearbox  power        model  \\\n",
       "0         480        other              1993  manual      0         golf   \n",
       "1       18300        coupe              2011  manual    190        other   \n",
       "2        9800          suv              2004    auto    163        grand   \n",
       "3        1500        small              2001  manual     75         golf   \n",
       "4        3600        small              2008  manual     69        fabia   \n",
       "...       ...          ...               ...     ...    ...          ...   \n",
       "354362   3200        sedan              2004  manual    225         leon   \n",
       "354363   1150          bus              2000  manual      0       zafira   \n",
       "354366   1199  convertible              2000    auto    101       fortwo   \n",
       "354367   9200          bus              1996  manual    102  transporter   \n",
       "354368   3400        wagon              2002  manual    100         golf   \n",
       "\n",
       "        kilometer registration_month fuel_type       brand repaired  \n",
       "0          150000                  0    petrol  volkswagen    other  \n",
       "1          125000                  5  gasoline        audi      yes  \n",
       "2          125000                  8  gasoline        jeep    other  \n",
       "3          150000                  6    petrol  volkswagen       no  \n",
       "4           90000                  7  gasoline       skoda       no  \n",
       "...           ...                ...       ...         ...      ...  \n",
       "354362     150000                  5    petrol        seat      yes  \n",
       "354363     150000                  3    petrol        opel       no  \n",
       "354366     125000                  3    petrol       smart       no  \n",
       "354367     150000                  3  gasoline  volkswagen       no  \n",
       "354368     150000                  6  gasoline  volkswagen    other  \n",
       "\n",
       "[325958 rows x 11 columns]"
      ]
     },
     "execution_count": 319,
     "metadata": {},
     "output_type": "execute_result"
    }
   ],
   "source": [
    "df"
   ]
  },
  {
   "cell_type": "code",
   "execution_count": 320,
   "metadata": {},
   "outputs": [],
   "source": [
    "X_train_cbr = X_train\n",
    "X_test_cbr = X_test\n",
    "X_valid_cbr = X_valid"
   ]
  },
  {
   "cell_type": "code",
   "execution_count": 321,
   "metadata": {},
   "outputs": [],
   "source": [
    "X_train_cbr[['vehicle_type', 'registration_year', 'gearbox', 'power', 'brand', 'model','registration_month','fuel_type', 'repaired']] = X_train_cbr[['vehicle_type', 'registration_year', 'gearbox', 'power', 'brand', 'model','registration_month', 'fuel_type', 'repaired']].astype(int)\n",
    "X_test_cbr[['vehicle_type', 'registration_year', 'gearbox', 'power', 'brand', 'model','registration_month','fuel_type', 'repaired']] = X_test_cbr[['vehicle_type', 'registration_year', 'gearbox', 'power', 'brand', 'model','registration_month', 'fuel_type', 'repaired']].astype(int)\n",
    "X_valid_cbr[['vehicle_type', 'registration_year', 'gearbox', 'power', 'brand', 'model','registration_month','fuel_type', 'repaired']] = X_valid_cbr[['vehicle_type', 'registration_year', 'gearbox', 'power', 'brand', 'model','registration_month', 'fuel_type', 'repaired']].astype(int)"
   ]
  },
  {
   "cell_type": "code",
   "execution_count": 323,
   "metadata": {},
   "outputs": [],
   "source": [
    "X_train_cbr[['vehicle_type', 'registration_year', 'gearbox', 'power', 'brand', 'registration_month', 'repaired']] = X_train[['vehicle_type', 'registration_year', 'gearbox', 'power', 'brand','registration_month',  'repaired']].astype('object')\n",
    "X_test_cbr[['vehicle_type', 'registration_year', 'gearbox', 'power', 'brand', 'registration_month', 'repaired']] = X_test[['vehicle_type', 'registration_year', 'gearbox', 'power', 'brand','registration_month',  'repaired']].astype('object')\n",
    "X_valid_cbr[['vehicle_type', 'registration_year', 'gearbox', 'power', 'brand', 'registration_month', 'repaired']] = X_valid[['vehicle_type', 'registration_year', 'gearbox', 'power', 'brand','registration_month',  'repaired']].astype('object')"
   ]
  },
  {
   "cell_type": "code",
   "execution_count": 324,
   "metadata": {},
   "outputs": [],
   "source": [
    "cat = X_train_cbr.select_dtypes(include='object').columns.to_list()"
   ]
  },
  {
   "cell_type": "code",
   "execution_count": 325,
   "metadata": {},
   "outputs": [
    {
     "data": {
      "text/plain": [
       "['vehicle_type',\n",
       " 'registration_year',\n",
       " 'gearbox',\n",
       " 'power',\n",
       " 'registration_month',\n",
       " 'brand',\n",
       " 'repaired']"
      ]
     },
     "execution_count": 325,
     "metadata": {},
     "output_type": "execute_result"
    }
   ],
   "source": [
    "cat"
   ]
  },
  {
   "cell_type": "code",
   "execution_count": 326,
   "metadata": {
    "scrolled": true
   },
   "outputs": [
    {
     "name": "stdout",
     "output_type": "stream",
     "text": [
      "Learning rate set to 0.5\n",
      "0:\tlearn: 3364.9964007\ttotal: 148ms\tremaining: 1.33s\n",
      "1:\tlearn: 2823.4481240\ttotal: 225ms\tremaining: 900ms\n",
      "2:\tlearn: 2524.4567777\ttotal: 284ms\tremaining: 663ms\n",
      "3:\tlearn: 2304.5449012\ttotal: 346ms\tremaining: 518ms\n",
      "4:\tlearn: 2206.3675282\ttotal: 404ms\tremaining: 404ms\n",
      "5:\tlearn: 2159.7250583\ttotal: 459ms\tremaining: 306ms\n",
      "6:\tlearn: 2130.0463087\ttotal: 515ms\tremaining: 221ms\n",
      "7:\tlearn: 2101.0285893\ttotal: 569ms\tremaining: 142ms\n",
      "8:\tlearn: 2071.6492792\ttotal: 631ms\tremaining: 70.1ms\n",
      "9:\tlearn: 2059.4236441\ttotal: 690ms\tremaining: 0us\n",
      "RMSE для CatBoostRegressor: 2037.9485906110694\n"
     ]
    }
   ],
   "source": [
    "model = CatBoostRegressor(loss_function=\"RMSE\", iterations=10)\n",
    "model.fit(X_train_cbr, y_train, cat_features=cat)\n",
    "\n",
    "prediction_test = model.predict(X_test_cbr)\n",
    "rmse_cbr_test = mean_squared_error(y_test, prediction_test) ** 0.5\n",
    "\n",
    "prediction_valid = model.predict(X_valid_cbr)\n",
    "rmse_cbr = mean_squared_error(y_valid, prediction_valid) ** 0.5\n",
    "\n",
    "print('RMSE для CatBoostRegressor:', rmse_cbr)"
   ]
  },
  {
   "cell_type": "code",
   "execution_count": 327,
   "metadata": {},
   "outputs": [
    {
     "data": {
      "text/html": [
       "<div>\n",
       "<style scoped>\n",
       "    .dataframe tbody tr th:only-of-type {\n",
       "        vertical-align: middle;\n",
       "    }\n",
       "\n",
       "    .dataframe tbody tr th {\n",
       "        vertical-align: top;\n",
       "    }\n",
       "\n",
       "    .dataframe thead th {\n",
       "        text-align: right;\n",
       "    }\n",
       "</style>\n",
       "<table border=\"1\" class=\"dataframe\">\n",
       "  <thead>\n",
       "    <tr style=\"text-align: right;\">\n",
       "      <th></th>\n",
       "      <th>Модель</th>\n",
       "      <th>RMSE</th>\n",
       "    </tr>\n",
       "  </thead>\n",
       "  <tbody>\n",
       "    <tr>\n",
       "      <th>0</th>\n",
       "      <td>LinearRegression</td>\n",
       "      <td>3196.837095</td>\n",
       "    </tr>\n",
       "    <tr>\n",
       "      <th>1</th>\n",
       "      <td>DecisionTreeRegressor</td>\n",
       "      <td>2159.509265</td>\n",
       "    </tr>\n",
       "    <tr>\n",
       "      <th>2</th>\n",
       "      <td>RandomForestRegressor</td>\n",
       "      <td>1739.113369</td>\n",
       "    </tr>\n",
       "    <tr>\n",
       "      <th>3</th>\n",
       "      <td>LGBMRegressor</td>\n",
       "      <td>1720.421117</td>\n",
       "    </tr>\n",
       "    <tr>\n",
       "      <th>4</th>\n",
       "      <td>DummyRegressor</td>\n",
       "      <td>4553.392358</td>\n",
       "    </tr>\n",
       "    <tr>\n",
       "      <th>5</th>\n",
       "      <td>CatBoostRegressor</td>\n",
       "      <td>2037.948591</td>\n",
       "    </tr>\n",
       "  </tbody>\n",
       "</table>\n",
       "</div>"
      ],
      "text/plain": [
       "                  Модель         RMSE\n",
       "0       LinearRegression  3196.837095\n",
       "1  DecisionTreeRegressor  2159.509265\n",
       "2  RandomForestRegressor  1739.113369\n",
       "3          LGBMRegressor  1720.421117\n",
       "4         DummyRegressor  4553.392358\n",
       "5      CatBoostRegressor  2037.948591"
      ]
     },
     "execution_count": 327,
     "metadata": {},
     "output_type": "execute_result"
    }
   ],
   "source": [
    "models = pd.DataFrame([\n",
    "    ['LinearRegression', rmse_lr],\n",
    "    ['DecisionTreeRegressor', rmse_dtr],\n",
    "    ['RandomForestRegressor', rmse_rfr],\n",
    "    ['LGBMRegressor', rmse_lgbm],\n",
    "    ['DummyRegressor', rmse_dr],\n",
    "    ['CatBoostRegressor',rmse_cbr]\n",
    "],\n",
    "    columns=['Модель', 'RMSE']\n",
    ")\n",
    "models"
   ]
  },
  {
   "cell_type": "markdown",
   "metadata": {},
   "source": [
    "Лучший результат показывает LGBMRegressor, худший - DummyRegressor."
   ]
  },
  {
   "cell_type": "markdown",
   "metadata": {},
   "source": [
    "## Анализ моделей"
   ]
  },
  {
   "cell_type": "markdown",
   "metadata": {},
   "source": [
    "Проведём анализ времени обучения для всех моделей."
   ]
  },
  {
   "cell_type": "markdown",
   "metadata": {},
   "source": [
    "### Линейная реграссия"
   ]
  },
  {
   "cell_type": "code",
   "execution_count": 328,
   "metadata": {},
   "outputs": [
    {
     "name": "stdout",
     "output_type": "stream",
     "text": [
      "CPU times: user 129 ms, sys: 34.6 ms, total: 164 ms\n",
      "Wall time: 109 ms\n"
     ]
    },
    {
     "data": {
      "text/plain": [
       "LinearRegression()"
      ]
     },
     "execution_count": 328,
     "metadata": {},
     "output_type": "execute_result"
    }
   ],
   "source": [
    "%%time\n",
    "model_lr = LinearRegression()\n",
    "model_lr.fit(X_train, y_train)"
   ]
  },
  {
   "cell_type": "code",
   "execution_count": 329,
   "metadata": {},
   "outputs": [
    {
     "name": "stdout",
     "output_type": "stream",
     "text": [
      "CPU times: user 71.2 ms, sys: 30.9 ms, total: 102 ms\n",
      "Wall time: 52.7 ms\n"
     ]
    }
   ],
   "source": [
    "%%time\n",
    "predictions_lr = model_lr.predict(X_test)"
   ]
  },
  {
   "cell_type": "markdown",
   "metadata": {},
   "source": [
    "### Рещающее дерево"
   ]
  },
  {
   "cell_type": "code",
   "execution_count": 330,
   "metadata": {},
   "outputs": [
    {
     "name": "stdout",
     "output_type": "stream",
     "text": [
      "CPU times: user 466 ms, sys: 7.94 ms, total: 474 ms\n",
      "Wall time: 473 ms\n"
     ]
    },
    {
     "data": {
      "text/plain": [
       "DecisionTreeRegressor(max_depth=13, random_state=12345)"
      ]
     },
     "execution_count": 330,
     "metadata": {},
     "output_type": "execute_result"
    }
   ],
   "source": [
    "%%time\n",
    "model = DecisionTreeRegressor(random_state=12345, max_depth = 13)\n",
    "model.fit(X_train, y_train)"
   ]
  },
  {
   "cell_type": "code",
   "execution_count": 331,
   "metadata": {},
   "outputs": [
    {
     "name": "stdout",
     "output_type": "stream",
     "text": [
      "CPU times: user 56.3 ms, sys: 100 µs, total: 56.4 ms\n",
      "Wall time: 54.9 ms\n"
     ]
    }
   ],
   "source": [
    "%%time\n",
    "predictions = model.predict(X_valid)"
   ]
  },
  {
   "cell_type": "markdown",
   "metadata": {},
   "source": [
    "### Случайный лес"
   ]
  },
  {
   "cell_type": "code",
   "execution_count": 332,
   "metadata": {},
   "outputs": [
    {
     "name": "stdout",
     "output_type": "stream",
     "text": [
      "CPU times: user 1min 19s, sys: 174 ms, total: 1min 19s\n",
      "Wall time: 1min 19s\n"
     ]
    },
    {
     "data": {
      "text/plain": [
       "RandomForestRegressor(max_depth=13, n_estimators=300, random_state=12345)"
      ]
     },
     "execution_count": 332,
     "metadata": {},
     "output_type": "execute_result"
    }
   ],
   "source": [
    "%%time\n",
    "model = RandomForestRegressor(random_state=12345, \n",
    "                                   n_estimators=300, \n",
    "                                   max_depth=13)\n",
    "model.fit(X_train, y_train)"
   ]
  },
  {
   "cell_type": "code",
   "execution_count": 333,
   "metadata": {},
   "outputs": [
    {
     "name": "stdout",
     "output_type": "stream",
     "text": [
      "CPU times: user 3.08 s, sys: 9.43 ms, total: 3.09 s\n",
      "Wall time: 3.08 s\n"
     ]
    }
   ],
   "source": [
    "%%time\n",
    "predictions = model.predict(X_valid)"
   ]
  },
  {
   "cell_type": "markdown",
   "metadata": {},
   "source": [
    "### LGBM"
   ]
  },
  {
   "cell_type": "code",
   "execution_count": 341,
   "metadata": {
    "scrolled": true
   },
   "outputs": [
    {
     "data": {
      "text/plain": [
       "vehicle_type          object\n",
       "registration_year     object\n",
       "gearbox               object\n",
       "power                 object\n",
       "model                  int64\n",
       "kilometer              int64\n",
       "registration_month    object\n",
       "fuel_type              int64\n",
       "brand                 object\n",
       "repaired              object\n",
       "dtype: object"
      ]
     },
     "execution_count": 341,
     "metadata": {},
     "output_type": "execute_result"
    }
   ],
   "source": [
    "X_train.dtypes"
   ]
  },
  {
   "cell_type": "code",
   "execution_count": 342,
   "metadata": {
    "scrolled": true
   },
   "outputs": [
    {
     "data": {
      "text/html": [
       "<div>\n",
       "<style scoped>\n",
       "    .dataframe tbody tr th:only-of-type {\n",
       "        vertical-align: middle;\n",
       "    }\n",
       "\n",
       "    .dataframe tbody tr th {\n",
       "        vertical-align: top;\n",
       "    }\n",
       "\n",
       "    .dataframe thead th {\n",
       "        text-align: right;\n",
       "    }\n",
       "</style>\n",
       "<table border=\"1\" class=\"dataframe\">\n",
       "  <thead>\n",
       "    <tr style=\"text-align: right;\">\n",
       "      <th></th>\n",
       "      <th>vehicle_type</th>\n",
       "      <th>registration_year</th>\n",
       "      <th>gearbox</th>\n",
       "      <th>power</th>\n",
       "      <th>model</th>\n",
       "      <th>kilometer</th>\n",
       "      <th>registration_month</th>\n",
       "      <th>fuel_type</th>\n",
       "      <th>brand</th>\n",
       "      <th>repaired</th>\n",
       "    </tr>\n",
       "  </thead>\n",
       "  <tbody>\n",
       "    <tr>\n",
       "      <th>77105</th>\n",
       "      <td>4</td>\n",
       "      <td>62</td>\n",
       "      <td>1</td>\n",
       "      <td>90</td>\n",
       "      <td>20</td>\n",
       "      <td>150000</td>\n",
       "      <td>10</td>\n",
       "      <td>6</td>\n",
       "      <td>1</td>\n",
       "      <td>0</td>\n",
       "    </tr>\n",
       "    <tr>\n",
       "      <th>295759</th>\n",
       "      <td>5</td>\n",
       "      <td>64</td>\n",
       "      <td>1</td>\n",
       "      <td>50</td>\n",
       "      <td>5</td>\n",
       "      <td>125000</td>\n",
       "      <td>12</td>\n",
       "      <td>6</td>\n",
       "      <td>19</td>\n",
       "      <td>0</td>\n",
       "    </tr>\n",
       "    <tr>\n",
       "      <th>295586</th>\n",
       "      <td>4</td>\n",
       "      <td>62</td>\n",
       "      <td>0</td>\n",
       "      <td>0</td>\n",
       "      <td>19</td>\n",
       "      <td>150000</td>\n",
       "      <td>10</td>\n",
       "      <td>6</td>\n",
       "      <td>2</td>\n",
       "      <td>0</td>\n",
       "    </tr>\n",
       "    <tr>\n",
       "      <th>95373</th>\n",
       "      <td>4</td>\n",
       "      <td>74</td>\n",
       "      <td>2</td>\n",
       "      <td>0</td>\n",
       "      <td>115</td>\n",
       "      <td>100000</td>\n",
       "      <td>0</td>\n",
       "      <td>5</td>\n",
       "      <td>38</td>\n",
       "      <td>1</td>\n",
       "    </tr>\n",
       "    <tr>\n",
       "      <th>42687</th>\n",
       "      <td>1</td>\n",
       "      <td>83</td>\n",
       "      <td>0</td>\n",
       "      <td>84</td>\n",
       "      <td>105</td>\n",
       "      <td>10000</td>\n",
       "      <td>5</td>\n",
       "      <td>6</td>\n",
       "      <td>32</td>\n",
       "      <td>0</td>\n",
       "    </tr>\n",
       "    <tr>\n",
       "      <th>...</th>\n",
       "      <td>...</td>\n",
       "      <td>...</td>\n",
       "      <td>...</td>\n",
       "      <td>...</td>\n",
       "      <td>...</td>\n",
       "      <td>...</td>\n",
       "      <td>...</td>\n",
       "      <td>...</td>\n",
       "      <td>...</td>\n",
       "      <td>...</td>\n",
       "    </tr>\n",
       "    <tr>\n",
       "      <th>172694</th>\n",
       "      <td>0</td>\n",
       "      <td>70</td>\n",
       "      <td>1</td>\n",
       "      <td>116</td>\n",
       "      <td>202</td>\n",
       "      <td>150000</td>\n",
       "      <td>1</td>\n",
       "      <td>2</td>\n",
       "      <td>38</td>\n",
       "      <td>0</td>\n",
       "    </tr>\n",
       "    <tr>\n",
       "      <th>52142</th>\n",
       "      <td>1</td>\n",
       "      <td>69</td>\n",
       "      <td>1</td>\n",
       "      <td>145</td>\n",
       "      <td>157</td>\n",
       "      <td>60000</td>\n",
       "      <td>3</td>\n",
       "      <td>6</td>\n",
       "      <td>19</td>\n",
       "      <td>0</td>\n",
       "    </tr>\n",
       "    <tr>\n",
       "      <th>93917</th>\n",
       "      <td>5</td>\n",
       "      <td>70</td>\n",
       "      <td>1</td>\n",
       "      <td>169</td>\n",
       "      <td>80</td>\n",
       "      <td>150000</td>\n",
       "      <td>1</td>\n",
       "      <td>6</td>\n",
       "      <td>21</td>\n",
       "      <td>0</td>\n",
       "    </tr>\n",
       "    <tr>\n",
       "      <th>84002</th>\n",
       "      <td>0</td>\n",
       "      <td>76</td>\n",
       "      <td>1</td>\n",
       "      <td>116</td>\n",
       "      <td>202</td>\n",
       "      <td>150000</td>\n",
       "      <td>10</td>\n",
       "      <td>2</td>\n",
       "      <td>38</td>\n",
       "      <td>0</td>\n",
       "    </tr>\n",
       "    <tr>\n",
       "      <th>236628</th>\n",
       "      <td>3</td>\n",
       "      <td>84</td>\n",
       "      <td>2</td>\n",
       "      <td>60</td>\n",
       "      <td>115</td>\n",
       "      <td>150000</td>\n",
       "      <td>10</td>\n",
       "      <td>6</td>\n",
       "      <td>38</td>\n",
       "      <td>1</td>\n",
       "    </tr>\n",
       "  </tbody>\n",
       "</table>\n",
       "<p>162979 rows × 10 columns</p>\n",
       "</div>"
      ],
      "text/plain": [
       "       vehicle_type registration_year gearbox power  model  kilometer  \\\n",
       "77105             4                62       1    90     20     150000   \n",
       "295759            5                64       1    50      5     125000   \n",
       "295586            4                62       0     0     19     150000   \n",
       "95373             4                74       2     0    115     100000   \n",
       "42687             1                83       0    84    105      10000   \n",
       "...             ...               ...     ...   ...    ...        ...   \n",
       "172694            0                70       1   116    202     150000   \n",
       "52142             1                69       1   145    157      60000   \n",
       "93917             5                70       1   169     80     150000   \n",
       "84002             0                76       1   116    202     150000   \n",
       "236628            3                84       2    60    115     150000   \n",
       "\n",
       "       registration_month  fuel_type brand repaired  \n",
       "77105                  10          6     1        0  \n",
       "295759                 12          6    19        0  \n",
       "295586                 10          6     2        0  \n",
       "95373                   0          5    38        1  \n",
       "42687                   5          6    32        0  \n",
       "...                   ...        ...   ...      ...  \n",
       "172694                  1          2    38        0  \n",
       "52142                   3          6    19        0  \n",
       "93917                   1          6    21        0  \n",
       "84002                  10          2    38        0  \n",
       "236628                 10          6    38        1  \n",
       "\n",
       "[162979 rows x 10 columns]"
      ]
     },
     "execution_count": 342,
     "metadata": {},
     "output_type": "execute_result"
    }
   ],
   "source": [
    "X_train"
   ]
  },
  {
   "cell_type": "code",
   "execution_count": 343,
   "metadata": {},
   "outputs": [],
   "source": [
    "for col in X_train.columns:\n",
    "  col_type = X_train[col].dtype\n",
    "  if col_type == 'object':\n",
    "    X_train[col] = X_train[col].astype('category')\n",
    "    X_test[col] = X_test[col].astype('category')\n",
    "    X_valid[col] = X_valid[col].astype('category')"
   ]
  },
  {
   "cell_type": "code",
   "execution_count": 344,
   "metadata": {},
   "outputs": [
    {
     "name": "stdout",
     "output_type": "stream",
     "text": [
      "CPU times: user 15.2 s, sys: 187 ms, total: 15.4 s\n",
      "Wall time: 15.5 s\n"
     ]
    },
    {
     "data": {
      "text/plain": [
       "LGBMRegressor(n_estimators=500, num_leaves=30, random_state=12345)"
      ]
     },
     "execution_count": 344,
     "metadata": {},
     "output_type": "execute_result"
    }
   ],
   "source": [
    "%%time\n",
    "model_lgb = lgb.LGBMRegressor(n_estimators=500, num_leaves=30, random_state=12345)\n",
    "model_lgb.fit(X_train, y_train)"
   ]
  },
  {
   "cell_type": "code",
   "execution_count": 293,
   "metadata": {},
   "outputs": [
    {
     "name": "stdout",
     "output_type": "stream",
     "text": [
      "CPU times: user 49.7 ms, sys: 25 µs, total: 49.7 ms\n",
      "Wall time: 47.5 ms\n"
     ]
    }
   ],
   "source": [
    "%%time\n",
    "predictions = model.predict(X_valid)"
   ]
  },
  {
   "cell_type": "markdown",
   "metadata": {},
   "source": [
    "### CatBoostRegressor"
   ]
  },
  {
   "cell_type": "code",
   "execution_count": 336,
   "metadata": {},
   "outputs": [
    {
     "name": "stdout",
     "output_type": "stream",
     "text": [
      "Learning rate set to 0.5\n",
      "0:\tlearn: 3364.9964007\ttotal: 89.7ms\tremaining: 807ms\n",
      "1:\tlearn: 2823.4481240\ttotal: 167ms\tremaining: 668ms\n",
      "2:\tlearn: 2524.4567777\ttotal: 222ms\tremaining: 517ms\n",
      "3:\tlearn: 2304.5449012\ttotal: 287ms\tremaining: 430ms\n",
      "4:\tlearn: 2206.3675282\ttotal: 353ms\tremaining: 353ms\n",
      "5:\tlearn: 2159.7250583\ttotal: 409ms\tremaining: 273ms\n",
      "6:\tlearn: 2130.0463087\ttotal: 467ms\tremaining: 200ms\n",
      "7:\tlearn: 2101.0285893\ttotal: 523ms\tremaining: 131ms\n",
      "8:\tlearn: 2071.6492792\ttotal: 579ms\tremaining: 64.3ms\n",
      "9:\tlearn: 2059.4236441\ttotal: 637ms\tremaining: 0us\n",
      "CPU times: user 887 ms, sys: 12.1 ms, total: 899 ms\n",
      "Wall time: 1.28 s\n"
     ]
    },
    {
     "data": {
      "text/plain": [
       "<catboost.core.CatBoostRegressor at 0x7f6745534e80>"
      ]
     },
     "execution_count": 336,
     "metadata": {},
     "output_type": "execute_result"
    }
   ],
   "source": [
    "%%time\n",
    "model = CatBoostRegressor(loss_function=\"RMSE\", iterations=10)\n",
    "model.fit(X_train_cbr, y_train, cat_features=cat)"
   ]
  },
  {
   "cell_type": "code",
   "execution_count": 337,
   "metadata": {},
   "outputs": [
    {
     "name": "stdout",
     "output_type": "stream",
     "text": [
      "CPU times: user 83.5 ms, sys: 7.74 ms, total: 91.2 ms\n",
      "Wall time: 88.3 ms\n"
     ]
    }
   ],
   "source": [
    "%%time\n",
    "prediction_test = model.predict(X_valid_cbr)"
   ]
  },
  {
   "cell_type": "code",
   "execution_count": 345,
   "metadata": {},
   "outputs": [
    {
     "data": {
      "text/html": [
       "<div>\n",
       "<style scoped>\n",
       "    .dataframe tbody tr th:only-of-type {\n",
       "        vertical-align: middle;\n",
       "    }\n",
       "\n",
       "    .dataframe tbody tr th {\n",
       "        vertical-align: top;\n",
       "    }\n",
       "\n",
       "    .dataframe thead th {\n",
       "        text-align: right;\n",
       "    }\n",
       "</style>\n",
       "<table border=\"1\" class=\"dataframe\">\n",
       "  <thead>\n",
       "    <tr style=\"text-align: right;\">\n",
       "      <th></th>\n",
       "      <th>Модель</th>\n",
       "      <th>Время обучения</th>\n",
       "      <th>Время предсказания</th>\n",
       "    </tr>\n",
       "  </thead>\n",
       "  <tbody>\n",
       "    <tr>\n",
       "      <th>0</th>\n",
       "      <td>LinearRegression</td>\n",
       "      <td>109 ms</td>\n",
       "      <td>52.7 ms</td>\n",
       "    </tr>\n",
       "    <tr>\n",
       "      <th>1</th>\n",
       "      <td>DecisionTreeRegressor</td>\n",
       "      <td>473 ms</td>\n",
       "      <td>54.9 ms</td>\n",
       "    </tr>\n",
       "    <tr>\n",
       "      <th>2</th>\n",
       "      <td>RandomForestRegressor</td>\n",
       "      <td>1min 19s</td>\n",
       "      <td>3.08 ms</td>\n",
       "    </tr>\n",
       "    <tr>\n",
       "      <th>3</th>\n",
       "      <td>LGBMRegressor</td>\n",
       "      <td>15.5 s</td>\n",
       "      <td>47.5 ms</td>\n",
       "    </tr>\n",
       "    <tr>\n",
       "      <th>4</th>\n",
       "      <td>CatBoostRegressor</td>\n",
       "      <td>1.28 s</td>\n",
       "      <td>88.3 ms</td>\n",
       "    </tr>\n",
       "  </tbody>\n",
       "</table>\n",
       "</div>"
      ],
      "text/plain": [
       "                  Модель Время обучения Время предсказания\n",
       "0       LinearRegression         109 ms            52.7 ms\n",
       "1  DecisionTreeRegressor         473 ms            54.9 ms\n",
       "2  RandomForestRegressor       1min 19s            3.08 ms\n",
       "3          LGBMRegressor         15.5 s            47.5 ms\n",
       "4      CatBoostRegressor         1.28 s            88.3 ms"
      ]
     },
     "execution_count": 345,
     "metadata": {},
     "output_type": "execute_result"
    }
   ],
   "source": [
    "models_time = pd.DataFrame([\n",
    "    ['LinearRegression', '109 ms', '52.7 ms'],\n",
    "    ['DecisionTreeRegressor', '473 ms', '54.9 ms'],\n",
    "    ['RandomForestRegressor', '1min 19s', '3.08 ms'],\n",
    "    ['LGBMRegressor', '15.5 s', '47.5 ms'],\n",
    "    ['CatBoostRegressor','1.28 s', '88.3 ms']\n",
    "],\n",
    "    columns=['Модель', 'Время обучения', 'Время предсказания']\n",
    ")\n",
    "models_time"
   ]
  },
  {
   "cell_type": "markdown",
   "metadata": {},
   "source": [
    "Лучшее время обучения показала модель линейной регрессии, а время предсказания - RandomForestRegressor. Самое большое время обучения у случайного леса. \n",
    "\n",
    "Если выбирать лучшую модель исходя из качества модели и времени обучения / предсказания, то LGBMRegressor."
   ]
  },
  {
   "cell_type": "markdown",
   "metadata": {},
   "source": [
    "# Вывод"
   ]
  },
  {
   "cell_type": "markdown",
   "metadata": {},
   "source": [
    "Изначальные данные - это таблица с более чем 350 тыс. строк и 16 столбцами. В ходе предобработки данных мы перевели названия столбцов в нижний регистр, удалили некоторые строки, заполнили пропуски.\n",
    "\n",
    "Были проверены несколько моделей: LinearRegression, DecisionTreeRegressor, RandomForestRegressor, LGBMRegressor, CatBoostRegressor и DummyRegressor. \n",
    "Для решающего дерева и случайного леса мы применили порядковое кодирование. Мы обучили разные модели, подобрали гиперпараметры для них и обнаружили, что модель LightGBM с гиперпараметрами 'n_estimators': 500, 'num_leaves': 50 дает наименьшее значение RMSE: 1852.797.\n",
    "\n",
    "Было проанализировано время обучения всех моделей. Дольше всего учится модель случайного леса: 6 мин. Модель LightGBM имеет хорошую скорость обучения / предсказания и при этом самую низкую RMSE из всех моделей: на тестовой выборке результат 1852.797.\n",
    "\n",
    "Наиболее подходящая модель для заказчика по скорости обучения / предсказания и значения ошибки - это LightGBM."
   ]
  }
 ],
 "metadata": {
  "ExecuteTimeLog": [
   {
    "duration": 1208,
    "start_time": "2023-06-10T12:17:22.220Z"
   },
   {
    "duration": 58,
    "start_time": "2023-06-10T12:17:30.493Z"
   },
   {
    "duration": 14,
    "start_time": "2023-06-10T12:17:48.391Z"
   },
   {
    "duration": 385,
    "start_time": "2023-06-10T12:18:05.900Z"
   },
   {
    "duration": 1073,
    "start_time": "2023-06-10T12:18:50.694Z"
   },
   {
    "duration": 20,
    "start_time": "2023-06-10T12:19:29.959Z"
   },
   {
    "duration": 113,
    "start_time": "2023-06-10T12:19:42.061Z"
   },
   {
    "duration": 833,
    "start_time": "2023-06-10T12:20:25.919Z"
   },
   {
    "duration": 4,
    "start_time": "2023-06-10T12:20:35.725Z"
   },
   {
    "duration": 100,
    "start_time": "2023-06-10T12:21:48.974Z"
   },
   {
    "duration": 179,
    "start_time": "2023-06-10T12:23:46.809Z"
   },
   {
    "duration": 18,
    "start_time": "2023-06-10T12:58:23.693Z"
   },
   {
    "duration": 51,
    "start_time": "2023-06-10T12:58:34.143Z"
   },
   {
    "duration": 26,
    "start_time": "2023-06-10T12:58:47.411Z"
   },
   {
    "duration": 26,
    "start_time": "2023-06-10T12:58:50.811Z"
   },
   {
    "duration": 16,
    "start_time": "2023-06-10T12:59:00.139Z"
   },
   {
    "duration": 20,
    "start_time": "2023-06-10T12:59:19.964Z"
   },
   {
    "duration": 36,
    "start_time": "2023-06-10T12:59:58.422Z"
   },
   {
    "duration": 50,
    "start_time": "2023-06-10T13:02:03.619Z"
   },
   {
    "duration": 26,
    "start_time": "2023-06-10T13:08:12.187Z"
   },
   {
    "duration": 18,
    "start_time": "2023-06-10T13:11:21.377Z"
   },
   {
    "duration": 101,
    "start_time": "2023-06-10T13:11:28.689Z"
   },
   {
    "duration": 28,
    "start_time": "2023-06-10T13:14:06.285Z"
   },
   {
    "duration": 10,
    "start_time": "2023-06-10T13:17:15.201Z"
   },
   {
    "duration": 41,
    "start_time": "2023-06-10T13:17:22.286Z"
   },
   {
    "duration": 16,
    "start_time": "2023-06-10T13:18:19.038Z"
   },
   {
    "duration": 111,
    "start_time": "2023-06-10T13:18:25.653Z"
   },
   {
    "duration": 32,
    "start_time": "2023-06-10T13:20:12.108Z"
   },
   {
    "duration": 20,
    "start_time": "2023-06-10T13:21:47.564Z"
   },
   {
    "duration": 41,
    "start_time": "2023-06-10T13:23:59.383Z"
   },
   {
    "duration": 17,
    "start_time": "2023-06-10T13:24:38.285Z"
   },
   {
    "duration": 18,
    "start_time": "2023-06-10T13:24:46.113Z"
   },
   {
    "duration": 109,
    "start_time": "2023-06-10T13:24:48.948Z"
   },
   {
    "duration": 32,
    "start_time": "2023-06-10T13:34:23.406Z"
   },
   {
    "duration": 21,
    "start_time": "2023-06-10T13:34:32.477Z"
   },
   {
    "duration": 4,
    "start_time": "2023-06-10T14:25:30.339Z"
   },
   {
    "duration": 15,
    "start_time": "2023-06-10T14:25:34.729Z"
   },
   {
    "duration": 11,
    "start_time": "2023-06-10T14:25:39.476Z"
   },
   {
    "duration": 19,
    "start_time": "2023-06-10T14:26:15.211Z"
   },
   {
    "duration": 37,
    "start_time": "2023-06-10T14:26:51.366Z"
   },
   {
    "duration": 31,
    "start_time": "2023-06-10T14:27:09.989Z"
   },
   {
    "duration": 31,
    "start_time": "2023-06-10T14:27:21.611Z"
   },
   {
    "duration": 30,
    "start_time": "2023-06-10T14:28:20.548Z"
   },
   {
    "duration": 32,
    "start_time": "2023-06-10T14:28:28.517Z"
   },
   {
    "duration": 31,
    "start_time": "2023-06-10T14:28:35.276Z"
   },
   {
    "duration": 22,
    "start_time": "2023-06-10T14:29:46.434Z"
   },
   {
    "duration": 69,
    "start_time": "2023-06-10T14:29:57.451Z"
   },
   {
    "duration": 30,
    "start_time": "2023-06-10T14:30:03.123Z"
   },
   {
    "duration": 25,
    "start_time": "2023-06-10T14:33:09.805Z"
   },
   {
    "duration": 39,
    "start_time": "2023-06-10T14:38:21.867Z"
   },
   {
    "duration": 26,
    "start_time": "2023-06-10T14:38:33.738Z"
   },
   {
    "duration": 36,
    "start_time": "2023-06-10T14:39:38.224Z"
   },
   {
    "duration": 100,
    "start_time": "2023-06-10T14:39:42.212Z"
   },
   {
    "duration": 26,
    "start_time": "2023-06-10T14:39:48.462Z"
   },
   {
    "duration": 26,
    "start_time": "2023-06-10T14:39:58.656Z"
   },
   {
    "duration": 24,
    "start_time": "2023-06-10T14:40:13.573Z"
   },
   {
    "duration": 12,
    "start_time": "2023-06-10T14:40:15.999Z"
   },
   {
    "duration": 10,
    "start_time": "2023-06-10T14:40:24.253Z"
   },
   {
    "duration": 3,
    "start_time": "2023-06-10T14:41:04.053Z"
   },
   {
    "duration": 806,
    "start_time": "2023-06-10T14:41:04.058Z"
   },
   {
    "duration": 4,
    "start_time": "2023-06-10T14:41:04.865Z"
   },
   {
    "duration": 119,
    "start_time": "2023-06-10T14:41:04.870Z"
   },
   {
    "duration": 107,
    "start_time": "2023-06-10T14:41:04.991Z"
   },
   {
    "duration": 29,
    "start_time": "2023-06-10T14:41:05.100Z"
   },
   {
    "duration": 18,
    "start_time": "2023-06-10T14:41:05.143Z"
   },
   {
    "duration": 12,
    "start_time": "2023-06-10T14:41:05.162Z"
   },
   {
    "duration": 0,
    "start_time": "2023-06-10T14:41:05.176Z"
   },
   {
    "duration": 0,
    "start_time": "2023-06-10T14:41:05.177Z"
   },
   {
    "duration": 0,
    "start_time": "2023-06-10T14:41:05.179Z"
   },
   {
    "duration": 0,
    "start_time": "2023-06-10T14:41:05.180Z"
   },
   {
    "duration": 0,
    "start_time": "2023-06-10T14:41:05.182Z"
   },
   {
    "duration": 0,
    "start_time": "2023-06-10T14:41:05.184Z"
   },
   {
    "duration": 28,
    "start_time": "2023-06-10T14:41:29.317Z"
   },
   {
    "duration": 15,
    "start_time": "2023-06-10T14:41:32.353Z"
   },
   {
    "duration": 29,
    "start_time": "2023-06-10T14:41:33.048Z"
   },
   {
    "duration": 16,
    "start_time": "2023-06-10T14:41:33.978Z"
   },
   {
    "duration": 31,
    "start_time": "2023-06-10T14:41:34.593Z"
   },
   {
    "duration": 21,
    "start_time": "2023-06-10T14:41:35.423Z"
   },
   {
    "duration": 43,
    "start_time": "2023-06-10T14:42:00.080Z"
   },
   {
    "duration": 27,
    "start_time": "2023-06-10T14:42:24.726Z"
   },
   {
    "duration": 37,
    "start_time": "2023-06-10T15:11:14.997Z"
   },
   {
    "duration": 38,
    "start_time": "2023-06-10T15:11:38.782Z"
   },
   {
    "duration": 46,
    "start_time": "2023-06-10T15:11:48.440Z"
   },
   {
    "duration": 33,
    "start_time": "2023-06-10T15:12:08.433Z"
   },
   {
    "duration": 53,
    "start_time": "2023-06-10T15:12:17.154Z"
   },
   {
    "duration": 53,
    "start_time": "2023-06-10T15:12:24.331Z"
   },
   {
    "duration": 55,
    "start_time": "2023-06-10T15:12:35.192Z"
   },
   {
    "duration": 3,
    "start_time": "2023-06-10T15:13:31.104Z"
   },
   {
    "duration": 29,
    "start_time": "2023-06-10T15:13:41.466Z"
   },
   {
    "duration": 26,
    "start_time": "2023-06-10T15:14:38.377Z"
   },
   {
    "duration": 2267,
    "start_time": "2023-06-10T15:15:05.071Z"
   },
   {
    "duration": 267,
    "start_time": "2023-06-10T15:15:10.983Z"
   },
   {
    "duration": 4807,
    "start_time": "2023-06-10T15:15:14.226Z"
   },
   {
    "duration": 99,
    "start_time": "2023-06-10T15:15:31.062Z"
   },
   {
    "duration": 5453,
    "start_time": "2023-06-10T15:15:46.454Z"
   },
   {
    "duration": 426,
    "start_time": "2023-06-10T15:16:55.175Z"
   },
   {
    "duration": 422,
    "start_time": "2023-06-10T15:16:59.642Z"
   },
   {
    "duration": 859,
    "start_time": "2023-06-10T15:18:32.149Z"
   },
   {
    "duration": 29,
    "start_time": "2023-06-10T15:19:10.718Z"
   },
   {
    "duration": 55,
    "start_time": "2023-06-10T15:19:24.543Z"
   },
   {
    "duration": 73,
    "start_time": "2023-06-10T15:23:05.866Z"
   },
   {
    "duration": 14,
    "start_time": "2023-06-10T15:24:32.673Z"
   },
   {
    "duration": 4738,
    "start_time": "2023-06-10T15:24:51.265Z"
   },
   {
    "duration": 4697,
    "start_time": "2023-06-10T15:25:06.842Z"
   },
   {
    "duration": 15,
    "start_time": "2023-06-10T15:29:36.881Z"
   },
   {
    "duration": 13,
    "start_time": "2023-06-10T15:29:41.555Z"
   },
   {
    "duration": 31,
    "start_time": "2023-06-10T15:32:24.084Z"
   },
   {
    "duration": 31,
    "start_time": "2023-06-10T15:40:37.883Z"
   },
   {
    "duration": 13,
    "start_time": "2023-06-10T15:40:47.740Z"
   },
   {
    "duration": 39,
    "start_time": "2023-06-10T15:41:11.607Z"
   },
   {
    "duration": 11,
    "start_time": "2023-06-10T15:41:29.930Z"
   },
   {
    "duration": 24,
    "start_time": "2023-06-10T15:42:23.226Z"
   },
   {
    "duration": 10,
    "start_time": "2023-06-10T15:42:32.789Z"
   },
   {
    "duration": 23,
    "start_time": "2023-06-10T15:42:45.373Z"
   },
   {
    "duration": 12,
    "start_time": "2023-06-10T15:43:39.934Z"
   },
   {
    "duration": 5,
    "start_time": "2023-06-10T15:44:06.154Z"
   },
   {
    "duration": 44,
    "start_time": "2023-06-10T15:44:13.539Z"
   },
   {
    "duration": 110,
    "start_time": "2023-06-10T15:44:19.932Z"
   },
   {
    "duration": 21,
    "start_time": "2023-06-10T15:45:47.459Z"
   },
   {
    "duration": 12,
    "start_time": "2023-06-10T15:46:09.818Z"
   },
   {
    "duration": 11,
    "start_time": "2023-06-10T15:46:12.605Z"
   },
   {
    "duration": 32,
    "start_time": "2023-06-10T15:46:22.423Z"
   },
   {
    "duration": 38,
    "start_time": "2023-06-10T15:46:40.299Z"
   },
   {
    "duration": 30,
    "start_time": "2023-06-10T15:46:43.484Z"
   },
   {
    "duration": 19,
    "start_time": "2023-06-10T15:46:52.331Z"
   },
   {
    "duration": 32,
    "start_time": "2023-06-10T15:46:56.150Z"
   },
   {
    "duration": 19,
    "start_time": "2023-06-10T15:46:58.819Z"
   },
   {
    "duration": 31,
    "start_time": "2023-06-10T15:47:20.015Z"
   },
   {
    "duration": 40,
    "start_time": "2023-06-10T15:47:28.672Z"
   },
   {
    "duration": 28,
    "start_time": "2023-06-10T15:47:47.714Z"
   },
   {
    "duration": 41,
    "start_time": "2023-06-10T15:47:59.356Z"
   },
   {
    "duration": 99,
    "start_time": "2023-06-10T15:48:11.303Z"
   },
   {
    "duration": 30,
    "start_time": "2023-06-10T15:48:27.836Z"
   },
   {
    "duration": 122,
    "start_time": "2023-06-10T15:48:30.008Z"
   },
   {
    "duration": 33,
    "start_time": "2023-06-10T15:48:35.038Z"
   },
   {
    "duration": 135,
    "start_time": "2023-06-10T15:48:38.230Z"
   },
   {
    "duration": 442,
    "start_time": "2023-06-10T15:49:30.375Z"
   },
   {
    "duration": 89,
    "start_time": "2023-06-10T15:53:01.125Z"
   },
   {
    "duration": 223,
    "start_time": "2023-06-10T15:58:16.104Z"
   },
   {
    "duration": 10,
    "start_time": "2023-06-10T16:03:53.707Z"
   },
   {
    "duration": 29,
    "start_time": "2023-06-10T16:04:06.634Z"
   },
   {
    "duration": 101,
    "start_time": "2023-06-10T16:05:11.934Z"
   },
   {
    "duration": 1738,
    "start_time": "2023-06-10T16:05:16.000Z"
   },
   {
    "duration": 73,
    "start_time": "2023-06-10T16:05:18.132Z"
   },
   {
    "duration": 12,
    "start_time": "2023-06-10T16:05:31.684Z"
   },
   {
    "duration": 19,
    "start_time": "2023-06-10T16:05:51.634Z"
   },
   {
    "duration": 49,
    "start_time": "2023-06-10T16:06:39.967Z"
   },
   {
    "duration": 11,
    "start_time": "2023-06-10T16:06:42.445Z"
   },
   {
    "duration": 1255,
    "start_time": "2023-06-10T16:06:50.619Z"
   },
   {
    "duration": 13,
    "start_time": "2023-06-10T16:06:52.309Z"
   },
   {
    "duration": 1292,
    "start_time": "2023-06-10T16:07:02.207Z"
   },
   {
    "duration": 1412,
    "start_time": "2023-06-10T16:07:50.040Z"
   },
   {
    "duration": 1475,
    "start_time": "2023-06-10T16:09:00.437Z"
   },
   {
    "duration": 658,
    "start_time": "2023-06-10T16:09:30.463Z"
   },
   {
    "duration": 14,
    "start_time": "2023-06-10T16:09:37.456Z"
   },
   {
    "duration": 631,
    "start_time": "2023-06-10T16:09:49.638Z"
   },
   {
    "duration": 1276,
    "start_time": "2023-06-10T16:09:58.005Z"
   },
   {
    "duration": 933,
    "start_time": "2023-06-10T16:10:59.448Z"
   },
   {
    "duration": 929,
    "start_time": "2023-06-10T16:14:16.600Z"
   },
   {
    "duration": 2613,
    "start_time": "2023-06-10T16:18:41.829Z"
   },
   {
    "duration": 267,
    "start_time": "2023-06-10T16:19:58.767Z"
   },
   {
    "duration": 12,
    "start_time": "2023-06-10T16:20:06.315Z"
   },
   {
    "duration": 53,
    "start_time": "2023-06-10T16:20:48.299Z"
   },
   {
    "duration": 13,
    "start_time": "2023-06-10T16:20:50.804Z"
   },
   {
    "duration": 3,
    "start_time": "2023-06-10T16:21:16.113Z"
   },
   {
    "duration": 4,
    "start_time": "2023-06-10T16:21:20.042Z"
   },
   {
    "duration": 880,
    "start_time": "2023-06-10T16:21:20.048Z"
   },
   {
    "duration": 4,
    "start_time": "2023-06-10T16:21:20.930Z"
   },
   {
    "duration": 161,
    "start_time": "2023-06-10T16:21:20.936Z"
   },
   {
    "duration": 115,
    "start_time": "2023-06-10T16:21:21.101Z"
   },
   {
    "duration": 929,
    "start_time": "2023-06-10T16:21:21.218Z"
   },
   {
    "duration": 29,
    "start_time": "2023-06-10T16:21:22.148Z"
   },
   {
    "duration": 21,
    "start_time": "2023-06-10T16:21:22.178Z"
   },
   {
    "duration": 44,
    "start_time": "2023-06-10T16:21:22.201Z"
   },
   {
    "duration": 26,
    "start_time": "2023-06-10T16:21:22.247Z"
   },
   {
    "duration": 31,
    "start_time": "2023-06-10T16:21:22.275Z"
   },
   {
    "duration": 20,
    "start_time": "2023-06-10T16:21:22.308Z"
   },
   {
    "duration": 39,
    "start_time": "2023-06-10T16:21:22.330Z"
   },
   {
    "duration": 34,
    "start_time": "2023-06-10T16:21:22.372Z"
   },
   {
    "duration": 98,
    "start_time": "2023-06-10T16:21:22.408Z"
   },
   {
    "duration": 30,
    "start_time": "2023-06-10T16:21:22.508Z"
   },
   {
    "duration": 32,
    "start_time": "2023-06-10T16:21:22.542Z"
   },
   {
    "duration": 29,
    "start_time": "2023-06-10T16:21:22.576Z"
   },
   {
    "duration": 46,
    "start_time": "2023-06-10T16:21:22.607Z"
   },
   {
    "duration": 105,
    "start_time": "2023-06-10T16:21:22.655Z"
   },
   {
    "duration": 33,
    "start_time": "2023-06-10T16:21:22.761Z"
   },
   {
    "duration": 138,
    "start_time": "2023-06-10T16:21:22.796Z"
   },
   {
    "duration": 3,
    "start_time": "2023-06-10T16:21:22.936Z"
   },
   {
    "duration": 17,
    "start_time": "2023-06-10T16:21:22.940Z"
   },
   {
    "duration": 91,
    "start_time": "2023-06-10T16:21:22.958Z"
   },
   {
    "duration": 13,
    "start_time": "2023-06-10T16:22:14.239Z"
   },
   {
    "duration": 12,
    "start_time": "2023-06-10T16:22:16.454Z"
   },
   {
    "duration": 4,
    "start_time": "2023-06-10T16:22:29.707Z"
   },
   {
    "duration": 36,
    "start_time": "2023-06-10T16:22:55.194Z"
   },
   {
    "duration": 13,
    "start_time": "2023-06-10T16:23:06.016Z"
   },
   {
    "duration": 64,
    "start_time": "2023-06-10T16:23:13.805Z"
   },
   {
    "duration": 13,
    "start_time": "2023-06-10T16:23:16.225Z"
   },
   {
    "duration": 91,
    "start_time": "2023-06-10T16:23:35.716Z"
   },
   {
    "duration": 14,
    "start_time": "2023-06-10T16:23:38.024Z"
   },
   {
    "duration": 122,
    "start_time": "2023-06-10T16:23:43.828Z"
   },
   {
    "duration": 11,
    "start_time": "2023-06-10T16:23:45.713Z"
   },
   {
    "duration": 100,
    "start_time": "2023-06-10T16:24:02.833Z"
   },
   {
    "duration": 11,
    "start_time": "2023-06-10T16:31:35.920Z"
   },
   {
    "duration": 7,
    "start_time": "2023-06-10T16:31:40.241Z"
   },
   {
    "duration": 15,
    "start_time": "2023-06-10T16:36:38.565Z"
   },
   {
    "duration": 50,
    "start_time": "2023-06-10T16:37:06.170Z"
   },
   {
    "duration": 366,
    "start_time": "2023-06-10T16:37:14.923Z"
   },
   {
    "duration": 10,
    "start_time": "2023-06-10T16:37:22.726Z"
   },
   {
    "duration": 95,
    "start_time": "2023-06-10T16:37:52.522Z"
   },
   {
    "duration": 7,
    "start_time": "2023-06-10T16:37:56.291Z"
   },
   {
    "duration": 84,
    "start_time": "2023-06-10T16:38:23.196Z"
   },
   {
    "duration": 5,
    "start_time": "2023-06-10T16:39:14.981Z"
   },
   {
    "duration": 71,
    "start_time": "2023-06-10T16:40:21.338Z"
   },
   {
    "duration": 4,
    "start_time": "2023-06-10T16:57:42.136Z"
   },
   {
    "duration": 26,
    "start_time": "2023-06-10T17:00:44.404Z"
   },
   {
    "duration": 45,
    "start_time": "2023-06-10T17:00:50.786Z"
   },
   {
    "duration": 71,
    "start_time": "2023-06-10T17:01:06.108Z"
   },
   {
    "duration": 48,
    "start_time": "2023-06-10T17:01:10.904Z"
   },
   {
    "duration": 44,
    "start_time": "2023-06-10T17:01:50.798Z"
   },
   {
    "duration": 53,
    "start_time": "2023-06-10T17:02:43.311Z"
   },
   {
    "duration": 1049,
    "start_time": "2023-06-10T17:03:05.575Z"
   },
   {
    "duration": 35,
    "start_time": "2023-06-10T17:04:59.860Z"
   },
   {
    "duration": 138,
    "start_time": "2023-06-10T17:06:02.974Z"
   },
   {
    "duration": 4,
    "start_time": "2023-06-10T17:17:30.086Z"
   },
   {
    "duration": 11,
    "start_time": "2023-06-10T17:17:47.816Z"
   },
   {
    "duration": 14,
    "start_time": "2023-06-10T17:18:04.858Z"
   },
   {
    "duration": 15,
    "start_time": "2023-06-10T17:18:11.650Z"
   },
   {
    "duration": 14,
    "start_time": "2023-06-10T17:18:21.040Z"
   },
   {
    "duration": 870,
    "start_time": "2023-06-10T17:24:06.797Z"
   },
   {
    "duration": 1651,
    "start_time": "2023-06-18T14:04:32.683Z"
   },
   {
    "duration": 3182,
    "start_time": "2023-06-18T14:04:35.654Z"
   },
   {
    "duration": 4,
    "start_time": "2023-06-18T14:04:41.524Z"
   },
   {
    "duration": 111,
    "start_time": "2023-06-18T14:04:45.899Z"
   },
   {
    "duration": 116,
    "start_time": "2023-06-18T14:04:49.648Z"
   },
   {
    "duration": 911,
    "start_time": "2023-06-18T14:04:55.102Z"
   },
   {
    "duration": 34,
    "start_time": "2023-06-18T14:04:57.392Z"
   },
   {
    "duration": 17,
    "start_time": "2023-06-18T14:04:59.040Z"
   },
   {
    "duration": 28,
    "start_time": "2023-06-18T14:04:59.978Z"
   },
   {
    "duration": 17,
    "start_time": "2023-06-18T14:05:01.441Z"
   },
   {
    "duration": 29,
    "start_time": "2023-06-18T14:05:02.956Z"
   },
   {
    "duration": 18,
    "start_time": "2023-06-18T14:05:05.605Z"
   },
   {
    "duration": 27,
    "start_time": "2023-06-18T14:05:07.452Z"
   },
   {
    "duration": 32,
    "start_time": "2023-06-18T14:05:08.559Z"
   },
   {
    "duration": 72,
    "start_time": "2023-06-18T14:05:30.596Z"
   },
   {
    "duration": 32,
    "start_time": "2023-06-18T14:05:31.528Z"
   },
   {
    "duration": 46,
    "start_time": "2023-06-18T14:05:34.076Z"
   },
   {
    "duration": 30,
    "start_time": "2023-06-18T14:05:35.138Z"
   },
   {
    "duration": 32,
    "start_time": "2023-06-18T14:05:37.806Z"
   },
   {
    "duration": 105,
    "start_time": "2023-06-18T14:05:38.714Z"
   },
   {
    "duration": 5,
    "start_time": "2023-06-18T14:08:15.759Z"
   },
   {
    "duration": 121,
    "start_time": "2023-06-18T14:08:51.743Z"
   },
   {
    "duration": 100,
    "start_time": "2023-06-18T14:08:58.623Z"
   },
   {
    "duration": 4,
    "start_time": "2023-06-18T14:09:24.193Z"
   },
   {
    "duration": 4,
    "start_time": "2023-06-18T14:09:52.479Z"
   },
   {
    "duration": 5,
    "start_time": "2023-06-18T14:09:59.733Z"
   },
   {
    "duration": 15,
    "start_time": "2023-06-18T14:10:57.527Z"
   },
   {
    "duration": 4,
    "start_time": "2023-06-18T14:11:23.266Z"
   },
   {
    "duration": 104,
    "start_time": "2023-06-18T14:11:49.142Z"
   },
   {
    "duration": 3,
    "start_time": "2023-06-18T14:11:54.434Z"
   },
   {
    "duration": 753,
    "start_time": "2023-06-18T14:11:55.754Z"
   },
   {
    "duration": 3,
    "start_time": "2023-06-18T14:11:57.840Z"
   },
   {
    "duration": 124,
    "start_time": "2023-06-18T14:12:00.048Z"
   },
   {
    "duration": 104,
    "start_time": "2023-06-18T14:12:01.604Z"
   },
   {
    "duration": 845,
    "start_time": "2023-06-18T14:12:03.565Z"
   },
   {
    "duration": 33,
    "start_time": "2023-06-18T14:12:05.493Z"
   },
   {
    "duration": 17,
    "start_time": "2023-06-18T14:12:07.238Z"
   },
   {
    "duration": 29,
    "start_time": "2023-06-18T14:12:08.433Z"
   },
   {
    "duration": 16,
    "start_time": "2023-06-18T14:12:09.788Z"
   },
   {
    "duration": 27,
    "start_time": "2023-06-18T14:12:10.899Z"
   },
   {
    "duration": 16,
    "start_time": "2023-06-18T14:12:21.102Z"
   },
   {
    "duration": 29,
    "start_time": "2023-06-18T14:12:21.921Z"
   },
   {
    "duration": 30,
    "start_time": "2023-06-18T14:12:23.358Z"
   },
   {
    "duration": 72,
    "start_time": "2023-06-18T14:12:24.511Z"
   },
   {
    "duration": 31,
    "start_time": "2023-06-18T14:12:26.169Z"
   },
   {
    "duration": 38,
    "start_time": "2023-06-18T14:12:27.526Z"
   },
   {
    "duration": 28,
    "start_time": "2023-06-18T14:12:28.810Z"
   },
   {
    "duration": 31,
    "start_time": "2023-06-18T14:12:30.413Z"
   },
   {
    "duration": 100,
    "start_time": "2023-06-18T14:12:31.343Z"
   },
   {
    "duration": 5,
    "start_time": "2023-06-18T14:12:33.622Z"
   },
   {
    "duration": 5,
    "start_time": "2023-06-18T14:12:36.436Z"
   },
   {
    "duration": 33,
    "start_time": "2023-06-18T14:12:40.178Z"
   },
   {
    "duration": 971,
    "start_time": "2023-06-18T14:12:55.283Z"
   },
   {
    "duration": 4,
    "start_time": "2023-06-18T14:13:14.926Z"
   },
   {
    "duration": 146,
    "start_time": "2023-06-18T14:13:53.231Z"
   },
   {
    "duration": 978,
    "start_time": "2023-06-18T14:13:55.086Z"
   },
   {
    "duration": 135,
    "start_time": "2023-06-18T14:14:05.449Z"
   },
   {
    "duration": 12,
    "start_time": "2023-06-18T14:14:07.554Z"
   },
   {
    "duration": 98,
    "start_time": "2023-06-18T14:14:51.691Z"
   },
   {
    "duration": 8,
    "start_time": "2023-06-18T14:14:53.399Z"
   },
   {
    "duration": 10,
    "start_time": "2023-06-18T14:14:57.391Z"
   },
   {
    "duration": 84,
    "start_time": "2023-06-18T14:15:11.318Z"
   },
   {
    "duration": 22,
    "start_time": "2023-06-18T14:19:41.785Z"
   },
   {
    "duration": 9,
    "start_time": "2023-06-18T14:24:09.831Z"
   },
   {
    "duration": 2,
    "start_time": "2023-06-18T14:24:23.021Z"
   },
   {
    "duration": 18,
    "start_time": "2023-06-18T14:24:37.658Z"
   },
   {
    "duration": 883,
    "start_time": "2023-06-18T14:24:49.659Z"
   },
   {
    "duration": 300,
    "start_time": "2023-06-18T14:25:01.857Z"
   },
   {
    "duration": 516,
    "start_time": "2023-06-18T14:25:12.817Z"
   },
   {
    "duration": 1160,
    "start_time": "2023-06-18T14:26:58.691Z"
   },
   {
    "duration": 267,
    "start_time": "2023-06-18T14:27:15.938Z"
   },
   {
    "duration": 1436,
    "start_time": "2023-06-18T14:27:31.685Z"
   },
   {
    "duration": 845,
    "start_time": "2023-06-18T14:27:33.122Z"
   },
   {
    "duration": 4,
    "start_time": "2023-06-18T14:27:33.968Z"
   },
   {
    "duration": 126,
    "start_time": "2023-06-18T14:27:33.974Z"
   },
   {
    "duration": 107,
    "start_time": "2023-06-18T14:27:34.102Z"
   },
   {
    "duration": 1040,
    "start_time": "2023-06-18T14:27:34.210Z"
   },
   {
    "duration": 30,
    "start_time": "2023-06-18T14:27:35.252Z"
   },
   {
    "duration": 18,
    "start_time": "2023-06-18T14:27:35.283Z"
   },
   {
    "duration": 28,
    "start_time": "2023-06-18T14:27:35.303Z"
   },
   {
    "duration": 33,
    "start_time": "2023-06-18T14:27:35.334Z"
   },
   {
    "duration": 29,
    "start_time": "2023-06-18T14:27:35.368Z"
   },
   {
    "duration": 17,
    "start_time": "2023-06-18T14:27:35.399Z"
   },
   {
    "duration": 43,
    "start_time": "2023-06-18T14:27:35.417Z"
   },
   {
    "duration": 32,
    "start_time": "2023-06-18T14:27:35.461Z"
   },
   {
    "duration": 92,
    "start_time": "2023-06-18T14:27:35.495Z"
   },
   {
    "duration": 30,
    "start_time": "2023-06-18T14:27:35.589Z"
   },
   {
    "duration": 46,
    "start_time": "2023-06-18T14:27:35.621Z"
   },
   {
    "duration": 28,
    "start_time": "2023-06-18T14:27:35.668Z"
   },
   {
    "duration": 69,
    "start_time": "2023-06-18T14:27:35.697Z"
   },
   {
    "duration": 101,
    "start_time": "2023-06-18T14:27:35.768Z"
   },
   {
    "duration": 4,
    "start_time": "2023-06-18T14:27:35.870Z"
   },
   {
    "duration": 40,
    "start_time": "2023-06-18T14:27:35.876Z"
   },
   {
    "duration": 4,
    "start_time": "2023-06-18T14:27:35.918Z"
   },
   {
    "duration": 155,
    "start_time": "2023-06-18T14:27:35.924Z"
   },
   {
    "duration": 141,
    "start_time": "2023-06-18T14:27:36.081Z"
   },
   {
    "duration": 12,
    "start_time": "2023-06-18T14:27:36.224Z"
   },
   {
    "duration": 108,
    "start_time": "2023-06-18T14:27:36.237Z"
   },
   {
    "duration": 5,
    "start_time": "2023-06-18T14:27:36.356Z"
   },
   {
    "duration": 103,
    "start_time": "2023-06-18T14:27:36.362Z"
   },
   {
    "duration": 24,
    "start_time": "2023-06-18T14:27:36.466Z"
   },
   {
    "duration": 3,
    "start_time": "2023-06-18T14:27:36.492Z"
   },
   {
    "duration": 33,
    "start_time": "2023-06-18T14:27:36.496Z"
   },
   {
    "duration": 1325,
    "start_time": "2023-06-18T14:27:36.531Z"
   },
   {
    "duration": 23,
    "start_time": "2023-06-18T14:27:37.858Z"
   },
   {
    "duration": 128,
    "start_time": "2023-06-18T14:27:37.884Z"
   },
   {
    "duration": 0,
    "start_time": "2023-06-18T14:27:38.013Z"
   },
   {
    "duration": 0,
    "start_time": "2023-06-18T14:27:38.015Z"
   },
   {
    "duration": 39,
    "start_time": "2023-06-18T14:27:50.888Z"
   },
   {
    "duration": 338,
    "start_time": "2023-06-18T14:29:05.392Z"
   },
   {
    "duration": 14,
    "start_time": "2023-06-18T14:32:53.219Z"
   },
   {
    "duration": 5,
    "start_time": "2023-06-18T14:33:38.329Z"
   },
   {
    "duration": 4053,
    "start_time": "2023-06-18T14:33:46.090Z"
   },
   {
    "duration": 5733,
    "start_time": "2023-06-18T14:34:30.602Z"
   },
   {
    "duration": 5311,
    "start_time": "2023-06-18T14:34:39.596Z"
   },
   {
    "duration": 5,
    "start_time": "2023-06-18T14:34:50.780Z"
   },
   {
    "duration": 16,
    "start_time": "2023-06-18T14:39:52.989Z"
   },
   {
    "duration": 7,
    "start_time": "2023-06-18T14:40:36.326Z"
   },
   {
    "duration": 15,
    "start_time": "2023-06-18T14:40:41.501Z"
   },
   {
    "duration": 60,
    "start_time": "2023-06-18T14:41:36.605Z"
   },
   {
    "duration": 7,
    "start_time": "2023-06-18T14:41:41.661Z"
   },
   {
    "duration": 1701,
    "start_time": "2023-06-18T14:42:22.601Z"
   },
   {
    "duration": 3045,
    "start_time": "2023-06-18T14:42:24.306Z"
   },
   {
    "duration": 18,
    "start_time": "2023-06-18T14:42:27.353Z"
   },
   {
    "duration": 161,
    "start_time": "2023-06-18T14:42:27.374Z"
   },
   {
    "duration": 123,
    "start_time": "2023-06-18T14:42:27.537Z"
   },
   {
    "duration": 1109,
    "start_time": "2023-06-18T14:42:27.662Z"
   },
   {
    "duration": 33,
    "start_time": "2023-06-18T14:42:28.773Z"
   },
   {
    "duration": 24,
    "start_time": "2023-06-18T14:42:28.815Z"
   },
   {
    "duration": 55,
    "start_time": "2023-06-18T14:42:28.841Z"
   },
   {
    "duration": 33,
    "start_time": "2023-06-18T14:42:28.899Z"
   },
   {
    "duration": 65,
    "start_time": "2023-06-18T14:42:28.935Z"
   },
   {
    "duration": 23,
    "start_time": "2023-06-18T14:42:29.002Z"
   },
   {
    "duration": 54,
    "start_time": "2023-06-18T14:42:29.027Z"
   },
   {
    "duration": 49,
    "start_time": "2023-06-18T14:42:29.084Z"
   },
   {
    "duration": 110,
    "start_time": "2023-06-18T14:42:29.135Z"
   },
   {
    "duration": 40,
    "start_time": "2023-06-18T14:42:29.247Z"
   },
   {
    "duration": 38,
    "start_time": "2023-06-18T14:42:29.289Z"
   },
   {
    "duration": 64,
    "start_time": "2023-06-18T14:42:29.330Z"
   },
   {
    "duration": 39,
    "start_time": "2023-06-18T14:42:29.396Z"
   },
   {
    "duration": 131,
    "start_time": "2023-06-18T14:42:29.437Z"
   },
   {
    "duration": 5,
    "start_time": "2023-06-18T14:42:29.571Z"
   },
   {
    "duration": 55,
    "start_time": "2023-06-18T14:42:29.578Z"
   },
   {
    "duration": 4,
    "start_time": "2023-06-18T14:42:29.635Z"
   },
   {
    "duration": 178,
    "start_time": "2023-06-18T14:42:29.640Z"
   },
   {
    "duration": 166,
    "start_time": "2023-06-18T14:42:29.820Z"
   },
   {
    "duration": 14,
    "start_time": "2023-06-18T14:42:29.988Z"
   },
   {
    "duration": 147,
    "start_time": "2023-06-18T14:42:30.008Z"
   },
   {
    "duration": 9,
    "start_time": "2023-06-18T14:42:30.160Z"
   },
   {
    "duration": 115,
    "start_time": "2023-06-18T14:42:30.172Z"
   },
   {
    "duration": 23,
    "start_time": "2023-06-18T14:42:30.289Z"
   },
   {
    "duration": 75,
    "start_time": "2023-06-18T14:42:30.314Z"
   },
   {
    "duration": 1824,
    "start_time": "2023-06-18T14:42:30.391Z"
   },
   {
    "duration": 50,
    "start_time": "2023-06-18T14:42:32.217Z"
   },
   {
    "duration": 353,
    "start_time": "2023-06-18T14:42:32.269Z"
   },
   {
    "duration": 5991,
    "start_time": "2023-06-18T14:42:32.624Z"
   },
   {
    "duration": 5845,
    "start_time": "2023-06-18T14:42:41.191Z"
   },
   {
    "duration": 49,
    "start_time": "2023-06-18T14:43:00.185Z"
   },
   {
    "duration": 7,
    "start_time": "2023-06-18T14:43:16.482Z"
   },
   {
    "duration": 1584,
    "start_time": "2023-06-18T14:43:27.138Z"
   },
   {
    "duration": 81,
    "start_time": "2023-06-18T14:43:35.178Z"
   },
   {
    "duration": 5,
    "start_time": "2023-06-18T14:43:43.844Z"
   },
   {
    "duration": 3004,
    "start_time": "2023-06-18T14:43:43.851Z"
   },
   {
    "duration": 5,
    "start_time": "2023-06-18T14:43:46.857Z"
   },
   {
    "duration": 121,
    "start_time": "2023-06-18T14:43:46.863Z"
   },
   {
    "duration": 109,
    "start_time": "2023-06-18T14:43:46.987Z"
   },
   {
    "duration": 1126,
    "start_time": "2023-06-18T14:43:47.098Z"
   },
   {
    "duration": 32,
    "start_time": "2023-06-18T14:43:48.226Z"
   },
   {
    "duration": 34,
    "start_time": "2023-06-18T14:43:48.261Z"
   },
   {
    "duration": 27,
    "start_time": "2023-06-18T14:43:48.297Z"
   },
   {
    "duration": 23,
    "start_time": "2023-06-18T14:43:48.325Z"
   },
   {
    "duration": 55,
    "start_time": "2023-06-18T14:43:48.350Z"
   },
   {
    "duration": 18,
    "start_time": "2023-06-18T14:43:48.406Z"
   },
   {
    "duration": 39,
    "start_time": "2023-06-18T14:43:48.426Z"
   },
   {
    "duration": 40,
    "start_time": "2023-06-18T14:43:48.468Z"
   },
   {
    "duration": 110,
    "start_time": "2023-06-18T14:43:48.510Z"
   },
   {
    "duration": 36,
    "start_time": "2023-06-18T14:43:48.622Z"
   },
   {
    "duration": 33,
    "start_time": "2023-06-18T14:43:48.661Z"
   },
   {
    "duration": 35,
    "start_time": "2023-06-18T14:43:48.696Z"
   },
   {
    "duration": 46,
    "start_time": "2023-06-18T14:43:48.733Z"
   },
   {
    "duration": 138,
    "start_time": "2023-06-18T14:43:48.781Z"
   },
   {
    "duration": 6,
    "start_time": "2023-06-18T14:43:48.921Z"
   },
   {
    "duration": 68,
    "start_time": "2023-06-18T14:43:48.929Z"
   },
   {
    "duration": 5,
    "start_time": "2023-06-18T14:43:49.000Z"
   },
   {
    "duration": 199,
    "start_time": "2023-06-18T14:43:49.007Z"
   },
   {
    "duration": 138,
    "start_time": "2023-06-18T14:43:49.208Z"
   },
   {
    "duration": 18,
    "start_time": "2023-06-18T14:43:49.348Z"
   },
   {
    "duration": 118,
    "start_time": "2023-06-18T14:43:49.369Z"
   },
   {
    "duration": 5,
    "start_time": "2023-06-18T14:43:49.489Z"
   },
   {
    "duration": 114,
    "start_time": "2023-06-18T14:43:49.497Z"
   },
   {
    "duration": 26,
    "start_time": "2023-06-18T14:43:49.613Z"
   },
   {
    "duration": 17,
    "start_time": "2023-06-18T14:43:49.641Z"
   },
   {
    "duration": 1669,
    "start_time": "2023-06-18T14:43:49.661Z"
   },
   {
    "duration": 48,
    "start_time": "2023-06-18T14:43:51.332Z"
   },
   {
    "duration": 346,
    "start_time": "2023-06-18T14:43:51.381Z"
   },
   {
    "duration": 5920,
    "start_time": "2023-06-18T14:43:51.729Z"
   },
   {
    "duration": 5910,
    "start_time": "2023-06-18T14:43:57.651Z"
   },
   {
    "duration": 52,
    "start_time": "2023-06-18T14:44:16.244Z"
   },
   {
    "duration": 1656,
    "start_time": "2023-06-18T14:44:27.845Z"
   },
   {
    "duration": 3010,
    "start_time": "2023-06-18T14:44:29.503Z"
   },
   {
    "duration": 4,
    "start_time": "2023-06-18T14:44:32.515Z"
   },
   {
    "duration": 164,
    "start_time": "2023-06-18T14:44:32.521Z"
   },
   {
    "duration": 130,
    "start_time": "2023-06-18T14:44:32.686Z"
   },
   {
    "duration": 1116,
    "start_time": "2023-06-18T14:44:32.818Z"
   },
   {
    "duration": 44,
    "start_time": "2023-06-18T14:44:33.936Z"
   },
   {
    "duration": 18,
    "start_time": "2023-06-18T14:44:33.982Z"
   },
   {
    "duration": 31,
    "start_time": "2023-06-18T14:44:34.002Z"
   },
   {
    "duration": 31,
    "start_time": "2023-06-18T14:44:34.060Z"
   },
   {
    "duration": 42,
    "start_time": "2023-06-18T14:44:34.093Z"
   },
   {
    "duration": 44,
    "start_time": "2023-06-18T14:44:34.137Z"
   },
   {
    "duration": 29,
    "start_time": "2023-06-18T14:44:34.183Z"
   },
   {
    "duration": 55,
    "start_time": "2023-06-18T14:44:34.214Z"
   },
   {
    "duration": 96,
    "start_time": "2023-06-18T14:44:34.273Z"
   },
   {
    "duration": 41,
    "start_time": "2023-06-18T14:44:34.372Z"
   },
   {
    "duration": 49,
    "start_time": "2023-06-18T14:44:34.415Z"
   },
   {
    "duration": 39,
    "start_time": "2023-06-18T14:44:34.467Z"
   },
   {
    "duration": 36,
    "start_time": "2023-06-18T14:44:34.508Z"
   },
   {
    "duration": 127,
    "start_time": "2023-06-18T14:44:34.546Z"
   },
   {
    "duration": 6,
    "start_time": "2023-06-18T14:44:34.674Z"
   },
   {
    "duration": 56,
    "start_time": "2023-06-18T14:44:34.682Z"
   },
   {
    "duration": 4,
    "start_time": "2023-06-18T14:44:34.740Z"
   },
   {
    "duration": 157,
    "start_time": "2023-06-18T14:44:34.757Z"
   },
   {
    "duration": 157,
    "start_time": "2023-06-18T14:44:34.916Z"
   },
   {
    "duration": 13,
    "start_time": "2023-06-18T14:44:35.076Z"
   },
   {
    "duration": 495,
    "start_time": "2023-06-18T14:44:35.091Z"
   },
   {
    "duration": 6,
    "start_time": "2023-06-18T14:44:35.590Z"
   },
   {
    "duration": 119,
    "start_time": "2023-06-18T14:44:35.598Z"
   },
   {
    "duration": 28,
    "start_time": "2023-06-18T14:44:35.719Z"
   },
   {
    "duration": 18,
    "start_time": "2023-06-18T14:44:35.749Z"
   },
   {
    "duration": 1701,
    "start_time": "2023-06-18T14:44:35.777Z"
   },
   {
    "duration": 39,
    "start_time": "2023-06-18T14:44:37.480Z"
   },
   {
    "duration": 344,
    "start_time": "2023-06-18T14:44:37.521Z"
   },
   {
    "duration": 5967,
    "start_time": "2023-06-18T14:44:37.867Z"
   },
   {
    "duration": 6171,
    "start_time": "2023-06-18T14:44:43.836Z"
   },
   {
    "duration": 64,
    "start_time": "2023-06-18T14:44:56.929Z"
   },
   {
    "duration": 6,
    "start_time": "2023-06-18T14:45:04.500Z"
   },
   {
    "duration": 1554,
    "start_time": "2023-06-18T14:45:11.299Z"
   },
   {
    "duration": 4,
    "start_time": "2023-06-18T14:45:28.025Z"
   },
   {
    "duration": 3208,
    "start_time": "2023-06-18T14:45:28.032Z"
   },
   {
    "duration": 5,
    "start_time": "2023-06-18T14:45:31.242Z"
   },
   {
    "duration": 155,
    "start_time": "2023-06-18T14:45:31.248Z"
   },
   {
    "duration": 133,
    "start_time": "2023-06-18T14:45:31.406Z"
   },
   {
    "duration": 1117,
    "start_time": "2023-06-18T14:45:31.541Z"
   },
   {
    "duration": 39,
    "start_time": "2023-06-18T14:45:32.661Z"
   },
   {
    "duration": 17,
    "start_time": "2023-06-18T14:45:32.702Z"
   },
   {
    "duration": 58,
    "start_time": "2023-06-18T14:45:32.720Z"
   },
   {
    "duration": 17,
    "start_time": "2023-06-18T14:45:32.780Z"
   },
   {
    "duration": 29,
    "start_time": "2023-06-18T14:45:32.800Z"
   },
   {
    "duration": 40,
    "start_time": "2023-06-18T14:45:32.831Z"
   },
   {
    "duration": 37,
    "start_time": "2023-06-18T14:45:32.875Z"
   },
   {
    "duration": 48,
    "start_time": "2023-06-18T14:45:32.914Z"
   },
   {
    "duration": 96,
    "start_time": "2023-06-18T14:45:32.965Z"
   },
   {
    "duration": 38,
    "start_time": "2023-06-18T14:45:33.064Z"
   },
   {
    "duration": 74,
    "start_time": "2023-06-18T14:45:33.104Z"
   },
   {
    "duration": 54,
    "start_time": "2023-06-18T14:45:33.181Z"
   },
   {
    "duration": 48,
    "start_time": "2023-06-18T14:45:33.237Z"
   },
   {
    "duration": 106,
    "start_time": "2023-06-18T14:45:33.288Z"
   },
   {
    "duration": 5,
    "start_time": "2023-06-18T14:45:33.396Z"
   },
   {
    "duration": 50,
    "start_time": "2023-06-18T14:45:33.403Z"
   },
   {
    "duration": 4,
    "start_time": "2023-06-18T14:45:33.457Z"
   },
   {
    "duration": 156,
    "start_time": "2023-06-18T14:45:33.463Z"
   },
   {
    "duration": 140,
    "start_time": "2023-06-18T14:45:33.621Z"
   },
   {
    "duration": 15,
    "start_time": "2023-06-18T14:45:33.763Z"
   },
   {
    "duration": 120,
    "start_time": "2023-06-18T14:45:33.780Z"
   },
   {
    "duration": 5,
    "start_time": "2023-06-18T14:45:33.902Z"
   },
   {
    "duration": 112,
    "start_time": "2023-06-18T14:45:33.910Z"
   },
   {
    "duration": 32,
    "start_time": "2023-06-18T14:45:34.024Z"
   },
   {
    "duration": 9,
    "start_time": "2023-06-18T14:45:34.059Z"
   },
   {
    "duration": 1656,
    "start_time": "2023-06-18T14:45:34.071Z"
   },
   {
    "duration": 47,
    "start_time": "2023-06-18T14:45:35.729Z"
   },
   {
    "duration": 345,
    "start_time": "2023-06-18T14:45:35.778Z"
   },
   {
    "duration": 5843,
    "start_time": "2023-06-18T14:45:36.125Z"
   },
   {
    "duration": 6144,
    "start_time": "2023-06-18T14:45:45.112Z"
   },
   {
    "duration": 1583,
    "start_time": "2023-06-18T14:46:20.128Z"
   },
   {
    "duration": 3313,
    "start_time": "2023-06-18T14:46:21.714Z"
   },
   {
    "duration": 5,
    "start_time": "2023-06-18T14:46:25.029Z"
   },
   {
    "duration": 132,
    "start_time": "2023-06-18T14:46:25.036Z"
   },
   {
    "duration": 123,
    "start_time": "2023-06-18T14:46:25.171Z"
   },
   {
    "duration": 1003,
    "start_time": "2023-06-18T14:46:25.296Z"
   },
   {
    "duration": 28,
    "start_time": "2023-06-18T14:46:26.301Z"
   },
   {
    "duration": 29,
    "start_time": "2023-06-18T14:46:26.330Z"
   },
   {
    "duration": 35,
    "start_time": "2023-06-18T14:46:26.362Z"
   },
   {
    "duration": 25,
    "start_time": "2023-06-18T14:46:26.400Z"
   },
   {
    "duration": 33,
    "start_time": "2023-06-18T14:46:26.426Z"
   },
   {
    "duration": 23,
    "start_time": "2023-06-18T14:46:26.460Z"
   },
   {
    "duration": 32,
    "start_time": "2023-06-18T14:46:26.484Z"
   },
   {
    "duration": 39,
    "start_time": "2023-06-18T14:46:26.518Z"
   },
   {
    "duration": 81,
    "start_time": "2023-06-18T14:46:26.559Z"
   },
   {
    "duration": 41,
    "start_time": "2023-06-18T14:46:26.642Z"
   },
   {
    "duration": 33,
    "start_time": "2023-06-18T14:46:26.684Z"
   },
   {
    "duration": 38,
    "start_time": "2023-06-18T14:46:26.719Z"
   },
   {
    "duration": 33,
    "start_time": "2023-06-18T14:46:26.759Z"
   },
   {
    "duration": 125,
    "start_time": "2023-06-18T14:46:26.793Z"
   },
   {
    "duration": 4,
    "start_time": "2023-06-18T14:46:26.920Z"
   },
   {
    "duration": 55,
    "start_time": "2023-06-18T14:46:26.926Z"
   },
   {
    "duration": 6,
    "start_time": "2023-06-18T14:46:26.983Z"
   },
   {
    "duration": 150,
    "start_time": "2023-06-18T14:46:26.990Z"
   },
   {
    "duration": 154,
    "start_time": "2023-06-18T14:46:27.141Z"
   },
   {
    "duration": 12,
    "start_time": "2023-06-18T14:46:27.297Z"
   },
   {
    "duration": 119,
    "start_time": "2023-06-18T14:46:27.312Z"
   },
   {
    "duration": 7,
    "start_time": "2023-06-18T14:46:27.434Z"
   },
   {
    "duration": 124,
    "start_time": "2023-06-18T14:46:27.444Z"
   },
   {
    "duration": 25,
    "start_time": "2023-06-18T14:46:27.570Z"
   },
   {
    "duration": 3,
    "start_time": "2023-06-18T14:46:27.597Z"
   },
   {
    "duration": 1581,
    "start_time": "2023-06-18T14:46:27.603Z"
   },
   {
    "duration": 44,
    "start_time": "2023-06-18T14:46:29.187Z"
   },
   {
    "duration": 355,
    "start_time": "2023-06-18T14:46:29.233Z"
   },
   {
    "duration": 6055,
    "start_time": "2023-06-18T14:46:29.590Z"
   },
   {
    "duration": 5599,
    "start_time": "2023-06-18T14:46:35.646Z"
   },
   {
    "duration": 58,
    "start_time": "2023-06-18T14:49:21.016Z"
   },
   {
    "duration": 1632,
    "start_time": "2023-06-18T14:49:46.970Z"
   },
   {
    "duration": 6,
    "start_time": "2023-06-18T14:50:08.768Z"
   },
   {
    "duration": 3209,
    "start_time": "2023-06-18T14:50:08.778Z"
   },
   {
    "duration": 5,
    "start_time": "2023-06-18T14:50:11.989Z"
   },
   {
    "duration": 146,
    "start_time": "2023-06-18T14:50:11.996Z"
   },
   {
    "duration": 159,
    "start_time": "2023-06-18T14:50:12.144Z"
   },
   {
    "duration": 1066,
    "start_time": "2023-06-18T14:50:12.306Z"
   },
   {
    "duration": 30,
    "start_time": "2023-06-18T14:50:13.374Z"
   },
   {
    "duration": 36,
    "start_time": "2023-06-18T14:50:13.406Z"
   },
   {
    "duration": 48,
    "start_time": "2023-06-18T14:50:13.444Z"
   },
   {
    "duration": 27,
    "start_time": "2023-06-18T14:50:13.494Z"
   },
   {
    "duration": 31,
    "start_time": "2023-06-18T14:50:13.522Z"
   },
   {
    "duration": 27,
    "start_time": "2023-06-18T14:50:13.555Z"
   },
   {
    "duration": 35,
    "start_time": "2023-06-18T14:50:13.584Z"
   },
   {
    "duration": 50,
    "start_time": "2023-06-18T14:50:13.621Z"
   },
   {
    "duration": 75,
    "start_time": "2023-06-18T14:50:13.674Z"
   },
   {
    "duration": 43,
    "start_time": "2023-06-18T14:50:13.751Z"
   },
   {
    "duration": 35,
    "start_time": "2023-06-18T14:50:13.795Z"
   },
   {
    "duration": 51,
    "start_time": "2023-06-18T14:50:13.832Z"
   },
   {
    "duration": 31,
    "start_time": "2023-06-18T14:50:13.885Z"
   },
   {
    "duration": 180,
    "start_time": "2023-06-18T14:50:13.918Z"
   },
   {
    "duration": 10,
    "start_time": "2023-06-18T14:50:14.100Z"
   },
   {
    "duration": 65,
    "start_time": "2023-06-18T14:50:14.111Z"
   },
   {
    "duration": 4,
    "start_time": "2023-06-18T14:50:14.179Z"
   },
   {
    "duration": 188,
    "start_time": "2023-06-18T14:50:14.185Z"
   },
   {
    "duration": 147,
    "start_time": "2023-06-18T14:50:14.374Z"
   },
   {
    "duration": 13,
    "start_time": "2023-06-18T14:50:14.523Z"
   },
   {
    "duration": 117,
    "start_time": "2023-06-18T14:50:14.537Z"
   },
   {
    "duration": 18,
    "start_time": "2023-06-18T14:50:14.656Z"
   },
   {
    "duration": 101,
    "start_time": "2023-06-18T14:50:14.675Z"
   },
   {
    "duration": 25,
    "start_time": "2023-06-18T14:50:14.778Z"
   },
   {
    "duration": 3,
    "start_time": "2023-06-18T14:50:14.806Z"
   },
   {
    "duration": 1857,
    "start_time": "2023-06-18T14:50:14.811Z"
   },
   {
    "duration": 46,
    "start_time": "2023-06-18T14:50:16.673Z"
   },
   {
    "duration": 348,
    "start_time": "2023-06-18T14:50:16.721Z"
   },
   {
    "duration": 5986,
    "start_time": "2023-06-18T14:50:17.073Z"
   },
   {
    "duration": 5027,
    "start_time": "2023-06-18T14:50:23.069Z"
   },
   {
    "duration": 3,
    "start_time": "2023-06-18T14:50:28.097Z"
   },
   {
    "duration": 99,
    "start_time": "2023-06-18T14:50:28.101Z"
   },
   {
    "duration": 0,
    "start_time": "2023-06-18T14:50:28.201Z"
   },
   {
    "duration": 5,
    "start_time": "2023-06-18T14:51:12.430Z"
   },
   {
    "duration": 663,
    "start_time": "2023-06-18T14:51:22.602Z"
   },
   {
    "duration": 1998,
    "start_time": "2023-06-18T14:52:02.644Z"
   },
   {
    "duration": 151,
    "start_time": "2023-06-18T14:54:53.142Z"
   },
   {
    "duration": 11,
    "start_time": "2023-06-18T15:00:22.775Z"
   },
   {
    "duration": 4,
    "start_time": "2023-06-18T15:00:46.778Z"
   },
   {
    "duration": 202,
    "start_time": "2023-06-18T15:00:51.768Z"
   },
   {
    "duration": 853,
    "start_time": "2023-06-18T15:02:45.018Z"
   },
   {
    "duration": 1440,
    "start_time": "2023-06-18T15:02:58.012Z"
   },
   {
    "duration": 161,
    "start_time": "2023-06-18T15:03:01.322Z"
   },
   {
    "duration": 277,
    "start_time": "2023-06-18T15:03:04.065Z"
   },
   {
    "duration": 141,
    "start_time": "2023-06-18T15:06:10.328Z"
   },
   {
    "duration": 237,
    "start_time": "2023-06-18T15:06:29.294Z"
   },
   {
    "duration": 8,
    "start_time": "2023-06-18T15:07:16.829Z"
   },
   {
    "duration": 11,
    "start_time": "2023-06-18T15:09:37.690Z"
   },
   {
    "duration": 154,
    "start_time": "2023-06-18T15:11:09.417Z"
   },
   {
    "duration": 1456,
    "start_time": "2023-06-18T15:11:13.303Z"
   },
   {
    "duration": 185,
    "start_time": "2023-06-18T15:12:09.447Z"
   },
   {
    "duration": 5814,
    "start_time": "2023-06-18T15:12:50.494Z"
   },
   {
    "duration": 7814,
    "start_time": "2023-06-18T15:13:25.804Z"
   },
   {
    "duration": 12267,
    "start_time": "2023-06-18T15:15:18.650Z"
   },
   {
    "duration": 11911,
    "start_time": "2023-06-18T15:31:38.421Z"
   },
   {
    "duration": 11713,
    "start_time": "2023-06-18T15:32:06.189Z"
   },
   {
    "duration": 0,
    "start_time": "2023-06-18T15:34:32.252Z"
   },
   {
    "duration": 148789,
    "start_time": "2023-06-18T15:35:36.411Z"
   },
   {
    "duration": 0,
    "start_time": "2023-06-18T15:38:05.203Z"
   },
   {
    "duration": 41,
    "start_time": "2023-06-18T15:38:09.390Z"
   },
   {
    "duration": 487764,
    "start_time": "2023-06-18T15:38:20.936Z"
   },
   {
    "duration": 5953,
    "start_time": "2023-06-18T15:46:46.259Z"
   },
   {
    "duration": 718101,
    "start_time": "2023-06-18T15:46:56.421Z"
   },
   {
    "duration": 2637,
    "start_time": "2023-06-18T16:01:31.333Z"
   },
   {
    "duration": 4,
    "start_time": "2023-06-18T16:02:03.715Z"
   },
   {
    "duration": 30,
    "start_time": "2023-06-18T16:17:41.697Z"
   },
   {
    "duration": 98,
    "start_time": "2023-06-18T16:19:59.392Z"
   },
   {
    "duration": 73,
    "start_time": "2023-06-18T16:21:25.678Z"
   },
   {
    "duration": 5,
    "start_time": "2023-06-18T16:22:51.568Z"
   },
   {
    "duration": 353810,
    "start_time": "2023-06-18T16:25:54.697Z"
   },
   {
    "duration": 5,
    "start_time": "2023-06-18T16:31:53.954Z"
   },
   {
    "duration": 462452,
    "start_time": "2023-06-18T16:32:00.856Z"
   },
   {
    "duration": 177982,
    "start_time": "2023-06-18T16:40:03.547Z"
   },
   {
    "duration": 212,
    "start_time": "2023-06-18T16:43:19.859Z"
   },
   {
    "duration": 388498,
    "start_time": "2023-06-18T16:43:30.613Z"
   },
   {
    "duration": 198,
    "start_time": "2023-06-18T16:53:13.208Z"
   },
   {
    "duration": 312227,
    "start_time": "2023-06-18T16:54:18.662Z"
   },
   {
    "duration": 184,
    "start_time": "2023-06-18T17:01:29.365Z"
   },
   {
    "duration": 126327,
    "start_time": "2023-06-18T17:01:32.051Z"
   },
   {
    "duration": 4,
    "start_time": "2023-06-18T17:07:20.717Z"
   },
   {
    "duration": 88,
    "start_time": "2023-06-18T17:11:22.078Z"
   },
   {
    "duration": 82,
    "start_time": "2023-06-18T17:11:44.269Z"
   },
   {
    "duration": 3,
    "start_time": "2023-06-18T17:11:55.890Z"
   },
   {
    "duration": 3793140,
    "start_time": "2023-06-18T17:11:59.039Z"
   },
   {
    "duration": 4,
    "start_time": "2023-06-18T18:15:32.331Z"
   },
   {
    "duration": 1095437,
    "start_time": "2023-06-18T18:17:00.377Z"
   },
   {
    "duration": 3,
    "start_time": "2023-06-18T18:35:28.591Z"
   },
   {
    "duration": 327606,
    "start_time": "2023-06-18T18:35:59.312Z"
   },
   {
    "duration": 3,
    "start_time": "2023-06-18T18:41:48.817Z"
   },
   {
    "duration": 299055,
    "start_time": "2023-06-18T18:41:55.691Z"
   },
   {
    "duration": 183,
    "start_time": "2023-06-18T18:47:05.250Z"
   },
   {
    "duration": 379410,
    "start_time": "2023-06-18T18:47:11.201Z"
   },
   {
    "duration": 3,
    "start_time": "2023-06-18T18:55:26.300Z"
   },
   {
    "duration": 88,
    "start_time": "2023-06-18T18:55:28.496Z"
   },
   {
    "duration": 83,
    "start_time": "2023-06-18T18:55:34.586Z"
   },
   {
    "duration": 449492,
    "start_time": "2023-06-18T18:55:46.137Z"
   },
   {
    "duration": 33,
    "start_time": "2023-06-18T19:03:45.035Z"
   },
   {
    "duration": 505516,
    "start_time": "2023-06-18T19:04:38.695Z"
   },
   {
    "duration": 141363,
    "start_time": "2023-06-18T19:13:21.113Z"
   },
   {
    "duration": 8,
    "start_time": "2023-06-18T19:15:42.478Z"
   },
   {
    "duration": 1132,
    "start_time": "2023-06-18T19:17:33.956Z"
   },
   {
    "duration": 3,
    "start_time": "2023-06-18T19:18:38.300Z"
   },
   {
    "duration": 8342818,
    "start_time": "2023-06-18T19:18:40.652Z"
   },
   {
    "duration": 1108,
    "start_time": "2023-06-19T17:53:43.198Z"
   },
   {
    "duration": 6,
    "start_time": "2023-06-19T17:54:38.596Z"
   },
   {
    "duration": 16,
    "start_time": "2023-06-19T17:56:39.189Z"
   },
   {
    "duration": 12,
    "start_time": "2023-06-19T17:56:55.997Z"
   },
   {
    "duration": 20,
    "start_time": "2023-06-19T17:57:30.672Z"
   },
   {
    "duration": 1974,
    "start_time": "2023-06-19T18:00:10.014Z"
   },
   {
    "duration": 2084,
    "start_time": "2023-06-19T18:00:31.301Z"
   },
   {
    "duration": 27,
    "start_time": "2023-06-19T18:00:42.396Z"
   },
   {
    "duration": 2859,
    "start_time": "2023-06-19T18:01:09.562Z"
   },
   {
    "duration": 2114,
    "start_time": "2023-06-19T18:01:41.602Z"
   },
   {
    "duration": 1860,
    "start_time": "2023-06-19T18:03:25.296Z"
   },
   {
    "duration": 5,
    "start_time": "2023-06-19T18:03:42.431Z"
   },
   {
    "duration": 5,
    "start_time": "2023-06-19T18:05:09.502Z"
   },
   {
    "duration": 4,
    "start_time": "2023-06-19T18:05:13.723Z"
   },
   {
    "duration": 5,
    "start_time": "2023-06-19T18:05:26.572Z"
   },
   {
    "duration": 5,
    "start_time": "2023-06-19T18:05:46.530Z"
   },
   {
    "duration": 8,
    "start_time": "2023-06-19T18:07:14.656Z"
   },
   {
    "duration": 47,
    "start_time": "2023-06-19T18:08:12.354Z"
   },
   {
    "duration": 1032,
    "start_time": "2023-06-19T18:09:49.497Z"
   },
   {
    "duration": 38,
    "start_time": "2023-06-19T18:10:36.491Z"
   },
   {
    "duration": 2787,
    "start_time": "2023-06-19T18:10:47.840Z"
   },
   {
    "duration": 7,
    "start_time": "2023-06-19T18:11:05.326Z"
   },
   {
    "duration": 1005,
    "start_time": "2023-06-19T18:13:57.624Z"
   },
   {
    "duration": 128,
    "start_time": "2023-06-19T18:14:07.266Z"
   },
   {
    "duration": 15,
    "start_time": "2023-06-19T18:14:23.076Z"
   },
   {
    "duration": 6,
    "start_time": "2023-06-19T18:14:25.583Z"
   },
   {
    "duration": 140,
    "start_time": "2023-06-19T18:15:31.486Z"
   },
   {
    "duration": 7,
    "start_time": "2023-06-19T18:15:37.782Z"
   },
   {
    "duration": 185,
    "start_time": "2023-06-19T18:16:13.552Z"
   },
   {
    "duration": 7,
    "start_time": "2023-06-19T18:16:15.731Z"
   },
   {
    "duration": 143,
    "start_time": "2023-06-19T18:16:18.381Z"
   },
   {
    "duration": 1991,
    "start_time": "2023-06-19T18:16:21.321Z"
   },
   {
    "duration": 35,
    "start_time": "2023-06-19T18:16:42.082Z"
   },
   {
    "duration": 39,
    "start_time": "2023-06-19T18:17:51.465Z"
   },
   {
    "duration": 183,
    "start_time": "2023-06-19T18:19:27.240Z"
   },
   {
    "duration": 303,
    "start_time": "2023-06-19T18:19:35.417Z"
   },
   {
    "duration": 7,
    "start_time": "2023-06-19T18:19:42.350Z"
   },
   {
    "duration": 33,
    "start_time": "2023-06-19T18:19:47.478Z"
   },
   {
    "duration": 70,
    "start_time": "2023-06-19T18:19:51.909Z"
   },
   {
    "duration": 84,
    "start_time": "2023-06-19T18:19:53.578Z"
   },
   {
    "duration": 2500,
    "start_time": "2023-06-19T18:19:55.855Z"
   },
   {
    "duration": 236,
    "start_time": "2023-06-19T18:20:35.878Z"
   },
   {
    "duration": 39,
    "start_time": "2023-06-19T18:20:37.765Z"
   },
   {
    "duration": 41,
    "start_time": "2023-06-19T18:21:01.085Z"
   },
   {
    "duration": 32,
    "start_time": "2023-06-19T18:21:02.530Z"
   },
   {
    "duration": 93,
    "start_time": "2023-06-19T18:21:09.886Z"
   },
   {
    "duration": 98,
    "start_time": "2023-06-19T18:21:12.293Z"
   },
   {
    "duration": 14,
    "start_time": "2023-06-19T18:21:14.353Z"
   },
   {
    "duration": 3040,
    "start_time": "2023-06-19T18:21:17.913Z"
   },
   {
    "duration": 4,
    "start_time": "2023-06-19T18:21:31.925Z"
   },
   {
    "duration": 8,
    "start_time": "2023-06-19T18:21:38.055Z"
   },
   {
    "duration": 29,
    "start_time": "2023-06-19T18:23:22.077Z"
   },
   {
    "duration": 69,
    "start_time": "2023-06-19T18:24:07.079Z"
   },
   {
    "duration": 242,
    "start_time": "2023-06-19T18:24:28.945Z"
   },
   {
    "duration": 1977,
    "start_time": "2023-06-19T18:24:31.301Z"
   },
   {
    "duration": 7,
    "start_time": "2023-06-19T18:24:52.885Z"
   },
   {
    "duration": 2366,
    "start_time": "2023-06-19T18:25:46.780Z"
   },
   {
    "duration": 328,
    "start_time": "2023-06-19T18:26:11.232Z"
   },
   {
    "duration": 8,
    "start_time": "2023-06-19T18:29:41.138Z"
   },
   {
    "duration": 151,
    "start_time": "2023-06-19T18:30:32.022Z"
   },
   {
    "duration": 67,
    "start_time": "2023-06-19T18:30:33.063Z"
   },
   {
    "duration": 135,
    "start_time": "2023-06-19T18:30:35.028Z"
   },
   {
    "duration": 31,
    "start_time": "2023-06-19T18:30:39.425Z"
   },
   {
    "duration": 147,
    "start_time": "2023-06-19T18:30:40.190Z"
   },
   {
    "duration": 2344,
    "start_time": "2023-06-19T18:30:41.288Z"
   },
   {
    "duration": 2200,
    "start_time": "2023-06-19T18:31:24.465Z"
   },
   {
    "duration": 13,
    "start_time": "2023-06-19T18:38:14.910Z"
   },
   {
    "duration": 3564,
    "start_time": "2023-06-19T18:38:53.696Z"
   },
   {
    "duration": 8,
    "start_time": "2023-06-19T18:38:59.792Z"
   },
   {
    "duration": 694673,
    "start_time": "2023-06-19T18:39:09.972Z"
   },
   {
    "duration": 11586,
    "start_time": "2023-06-19T18:50:44.656Z"
   },
   {
    "duration": 316,
    "start_time": "2023-06-19T18:50:56.244Z"
   },
   {
    "duration": 14,
    "start_time": "2023-06-19T18:50:56.561Z"
   },
   {
    "duration": 11,
    "start_time": "2023-06-19T18:52:29.650Z"
   },
   {
    "duration": 12,
    "start_time": "2023-06-19T18:52:47.242Z"
   },
   {
    "duration": 11,
    "start_time": "2023-06-19T18:53:33.911Z"
   },
   {
    "duration": 14,
    "start_time": "2023-06-19T18:53:39.463Z"
   },
   {
    "duration": 13,
    "start_time": "2023-06-19T18:53:54.624Z"
   },
   {
    "duration": 12,
    "start_time": "2023-06-19T18:54:04.122Z"
   },
   {
    "duration": 11,
    "start_time": "2023-06-19T18:54:44.869Z"
   },
   {
    "duration": 470662,
    "start_time": "2023-06-19T18:54:51.928Z"
   },
   {
    "duration": 9,
    "start_time": "2023-06-19T19:03:34.547Z"
   },
   {
    "duration": 165,
    "start_time": "2023-06-19T19:05:50.106Z"
   },
   {
    "duration": 21,
    "start_time": "2023-06-19T19:05:53.135Z"
   },
   {
    "duration": 875,
    "start_time": "2023-06-19T19:05:55.355Z"
   },
   {
    "duration": 168,
    "start_time": "2023-06-19T19:05:59.796Z"
   },
   {
    "duration": 145829,
    "start_time": "2023-06-19T19:06:07.690Z"
   },
   {
    "duration": 6200,
    "start_time": "2023-06-19T19:08:33.521Z"
   },
   {
    "duration": 37,
    "start_time": "2023-06-19T19:08:39.723Z"
   },
   {
    "duration": 0,
    "start_time": "2023-06-19T19:08:39.762Z"
   },
   {
    "duration": 0,
    "start_time": "2023-06-19T19:08:39.763Z"
   },
   {
    "duration": 0,
    "start_time": "2023-06-19T19:08:39.764Z"
   },
   {
    "duration": 454336,
    "start_time": "2023-06-19T19:09:07.900Z"
   },
   {
    "duration": 4560,
    "start_time": "2023-06-19T19:16:53.904Z"
   },
   {
    "duration": 41,
    "start_time": "2023-06-19T19:17:27.715Z"
   },
   {
    "duration": 2091,
    "start_time": "2023-06-19T19:17:30.494Z"
   },
   {
    "duration": 247,
    "start_time": "2023-06-19T19:17:35.790Z"
   },
   {
    "duration": 11,
    "start_time": "2023-06-19T19:22:14.828Z"
   },
   {
    "duration": 12,
    "start_time": "2023-06-19T19:22:28.783Z"
   },
   {
    "duration": 10,
    "start_time": "2023-06-19T19:22:33.470Z"
   },
   {
    "duration": 9,
    "start_time": "2023-06-19T19:22:39.193Z"
   },
   {
    "duration": 12,
    "start_time": "2023-06-19T19:23:26.841Z"
   },
   {
    "duration": 1194012,
    "start_time": "2023-06-19T19:33:59.666Z"
   },
   {
    "duration": 3548,
    "start_time": "2023-06-20T07:09:14.719Z"
   },
   {
    "duration": 91,
    "start_time": "2023-06-20T07:11:33.213Z"
   },
   {
    "duration": 84,
    "start_time": "2023-06-20T07:12:38.448Z"
   },
   {
    "duration": 3531,
    "start_time": "2023-06-20T07:12:43.050Z"
   },
   {
    "duration": 1312,
    "start_time": "2023-06-20T12:01:20.795Z"
   },
   {
    "duration": 755,
    "start_time": "2023-06-20T12:01:22.109Z"
   },
   {
    "duration": 4,
    "start_time": "2023-06-20T12:01:22.865Z"
   },
   {
    "duration": 131,
    "start_time": "2023-06-20T12:01:22.872Z"
   },
   {
    "duration": 109,
    "start_time": "2023-06-20T12:01:23.006Z"
   },
   {
    "duration": 921,
    "start_time": "2023-06-20T12:01:26.047Z"
   },
   {
    "duration": 31,
    "start_time": "2023-06-20T12:01:26.971Z"
   },
   {
    "duration": 17,
    "start_time": "2023-06-20T12:01:27.590Z"
   },
   {
    "duration": 26,
    "start_time": "2023-06-20T12:01:30.126Z"
   },
   {
    "duration": 1763,
    "start_time": "2023-06-20T14:26:12.900Z"
   },
   {
    "duration": 1340,
    "start_time": "2023-06-20T14:26:15.911Z"
   },
   {
    "duration": 5,
    "start_time": "2023-06-20T14:26:18.538Z"
   },
   {
    "duration": 132,
    "start_time": "2023-06-20T14:26:20.538Z"
   },
   {
    "duration": 114,
    "start_time": "2023-06-20T14:26:21.791Z"
   },
   {
    "duration": 1193,
    "start_time": "2023-06-20T14:26:24.095Z"
   },
   {
    "duration": 31,
    "start_time": "2023-06-20T14:26:30.482Z"
   },
   {
    "duration": 20,
    "start_time": "2023-06-20T14:26:32.842Z"
   },
   {
    "duration": 5,
    "start_time": "2023-06-20T14:33:01.498Z"
   },
   {
    "duration": 1106,
    "start_time": "2023-06-20T14:33:02.624Z"
   },
   {
    "duration": 5,
    "start_time": "2023-06-20T14:33:05.051Z"
   },
   {
    "duration": 133,
    "start_time": "2023-06-20T14:33:07.207Z"
   },
   {
    "duration": 111,
    "start_time": "2023-06-20T14:33:08.890Z"
   },
   {
    "duration": 1102,
    "start_time": "2023-06-20T14:33:12.143Z"
   },
   {
    "duration": 32,
    "start_time": "2023-06-20T14:33:18.616Z"
   },
   {
    "duration": 16,
    "start_time": "2023-06-20T14:33:53.835Z"
   },
   {
    "duration": 19,
    "start_time": "2023-06-20T14:34:48.045Z"
   },
   {
    "duration": 30,
    "start_time": "2023-06-20T14:34:50.095Z"
   },
   {
    "duration": 17,
    "start_time": "2023-06-20T14:35:04.398Z"
   },
   {
    "duration": 132,
    "start_time": "2023-06-20T14:40:06.758Z"
   },
   {
    "duration": 17,
    "start_time": "2023-06-20T14:40:09.728Z"
   },
   {
    "duration": 18,
    "start_time": "2023-06-20T14:40:19.324Z"
   },
   {
    "duration": 18,
    "start_time": "2023-06-20T14:40:43.270Z"
   },
   {
    "duration": 27,
    "start_time": "2023-06-20T14:40:45.522Z"
   },
   {
    "duration": 15,
    "start_time": "2023-06-20T14:41:00.210Z"
   },
   {
    "duration": 17,
    "start_time": "2023-06-20T14:42:06.046Z"
   },
   {
    "duration": 4,
    "start_time": "2023-06-20T14:42:27.350Z"
   },
   {
    "duration": 996,
    "start_time": "2023-06-20T14:42:29.590Z"
   },
   {
    "duration": 6,
    "start_time": "2023-06-20T14:42:31.622Z"
   },
   {
    "duration": 122,
    "start_time": "2023-06-20T14:42:33.917Z"
   },
   {
    "duration": 112,
    "start_time": "2023-06-20T14:42:35.293Z"
   },
   {
    "duration": 1023,
    "start_time": "2023-06-20T14:42:37.297Z"
   },
   {
    "duration": 29,
    "start_time": "2023-06-20T14:42:39.118Z"
   },
   {
    "duration": 17,
    "start_time": "2023-06-20T14:42:40.809Z"
   },
   {
    "duration": 24,
    "start_time": "2023-06-20T14:42:42.494Z"
   },
   {
    "duration": 31,
    "start_time": "2023-06-20T14:42:44.725Z"
   },
   {
    "duration": 27,
    "start_time": "2023-06-20T14:42:45.996Z"
   },
   {
    "duration": 31,
    "start_time": "2023-06-20T14:42:47.018Z"
   },
   {
    "duration": 27,
    "start_time": "2023-06-20T14:42:48.482Z"
   },
   {
    "duration": 38,
    "start_time": "2023-06-20T14:42:49.882Z"
   },
   {
    "duration": 17,
    "start_time": "2023-06-20T14:42:53.226Z"
   },
   {
    "duration": 31,
    "start_time": "2023-06-20T14:42:59.154Z"
   },
   {
    "duration": 22,
    "start_time": "2023-06-20T14:45:11.297Z"
   },
   {
    "duration": 34,
    "start_time": "2023-06-20T14:45:21.331Z"
   },
   {
    "duration": 117,
    "start_time": "2023-06-20T14:46:10.086Z"
   },
   {
    "duration": 32,
    "start_time": "2023-06-20T14:47:02.396Z"
   },
   {
    "duration": 34,
    "start_time": "2023-06-20T14:47:03.913Z"
   },
   {
    "duration": 109,
    "start_time": "2023-06-20T14:47:04.725Z"
   },
   {
    "duration": 5,
    "start_time": "2023-06-20T14:47:10.933Z"
   },
   {
    "duration": 110,
    "start_time": "2023-06-20T14:47:44.210Z"
   },
   {
    "duration": 33,
    "start_time": "2023-06-20T14:48:28.637Z"
   },
   {
    "duration": 5,
    "start_time": "2023-06-20T14:48:59.757Z"
   },
   {
    "duration": 29,
    "start_time": "2023-06-20T14:49:15.041Z"
   },
   {
    "duration": 1317,
    "start_time": "2023-06-20T14:49:37.729Z"
   },
   {
    "duration": 2193,
    "start_time": "2023-06-20T14:50:07.545Z"
   },
   {
    "duration": 5,
    "start_time": "2023-06-20T14:53:01.927Z"
   },
   {
    "duration": 903,
    "start_time": "2023-06-20T14:53:03.741Z"
   },
   {
    "duration": 5,
    "start_time": "2023-06-20T14:53:05.944Z"
   },
   {
    "duration": 116,
    "start_time": "2023-06-20T14:53:08.017Z"
   },
   {
    "duration": 119,
    "start_time": "2023-06-20T14:53:09.437Z"
   },
   {
    "duration": 971,
    "start_time": "2023-06-20T14:53:11.669Z"
   },
   {
    "duration": 32,
    "start_time": "2023-06-20T14:53:14.413Z"
   },
   {
    "duration": 16,
    "start_time": "2023-06-20T14:53:16.553Z"
   },
   {
    "duration": 19,
    "start_time": "2023-06-20T14:53:18.309Z"
   },
   {
    "duration": 31,
    "start_time": "2023-06-20T14:53:20.829Z"
   },
   {
    "duration": 15,
    "start_time": "2023-06-20T14:53:23.489Z"
   },
   {
    "duration": 40,
    "start_time": "2023-06-20T14:53:37.138Z"
   },
   {
    "duration": 16,
    "start_time": "2023-06-20T14:53:42.874Z"
   },
   {
    "duration": 41,
    "start_time": "2023-06-20T14:57:21.777Z"
   },
   {
    "duration": 16,
    "start_time": "2023-06-20T14:57:23.389Z"
   },
   {
    "duration": 31,
    "start_time": "2023-06-20T14:57:28.733Z"
   },
   {
    "duration": 11,
    "start_time": "2023-06-20T15:03:12.157Z"
   },
   {
    "duration": 21,
    "start_time": "2023-06-20T15:03:45.270Z"
   },
   {
    "duration": 12,
    "start_time": "2023-06-20T15:03:48.505Z"
   },
   {
    "duration": 23,
    "start_time": "2023-06-20T15:04:02.662Z"
   },
   {
    "duration": 16,
    "start_time": "2023-06-20T15:08:45.713Z"
   },
   {
    "duration": 30,
    "start_time": "2023-06-20T15:08:46.531Z"
   },
   {
    "duration": 37,
    "start_time": "2023-06-20T15:08:48.345Z"
   },
   {
    "duration": 13,
    "start_time": "2023-06-20T15:08:51.418Z"
   },
   {
    "duration": 15,
    "start_time": "2023-06-20T15:09:09.956Z"
   },
   {
    "duration": 7,
    "start_time": "2023-06-20T15:09:14.502Z"
   },
   {
    "duration": 983,
    "start_time": "2023-06-20T15:09:15.443Z"
   },
   {
    "duration": 5,
    "start_time": "2023-06-20T15:09:17.577Z"
   },
   {
    "duration": 119,
    "start_time": "2023-06-20T15:09:19.497Z"
   },
   {
    "duration": 121,
    "start_time": "2023-06-20T15:09:21.908Z"
   },
   {
    "duration": 1045,
    "start_time": "2023-06-20T15:09:23.918Z"
   },
   {
    "duration": 30,
    "start_time": "2023-06-20T15:09:27.424Z"
   },
   {
    "duration": 16,
    "start_time": "2023-06-20T15:09:28.952Z"
   },
   {
    "duration": 19,
    "start_time": "2023-06-20T15:09:34.986Z"
   },
   {
    "duration": 15,
    "start_time": "2023-06-20T15:09:36.240Z"
   },
   {
    "duration": 30,
    "start_time": "2023-06-20T15:09:42.621Z"
   },
   {
    "duration": 16,
    "start_time": "2023-06-20T15:09:44.889Z"
   },
   {
    "duration": 18,
    "start_time": "2023-06-20T15:09:50.656Z"
   },
   {
    "duration": 15,
    "start_time": "2023-06-20T15:09:53.385Z"
   },
   {
    "duration": 16,
    "start_time": "2023-06-20T15:09:55.578Z"
   },
   {
    "duration": 32,
    "start_time": "2023-06-20T15:09:56.582Z"
   },
   {
    "duration": 13,
    "start_time": "2023-06-20T15:10:01.882Z"
   },
   {
    "duration": 18,
    "start_time": "2023-06-20T15:10:08.201Z"
   },
   {
    "duration": 29,
    "start_time": "2023-06-20T15:10:10.302Z"
   },
   {
    "duration": 5,
    "start_time": "2023-06-20T15:11:10.227Z"
   },
   {
    "duration": 958,
    "start_time": "2023-06-20T15:11:11.153Z"
   },
   {
    "duration": 4,
    "start_time": "2023-06-20T15:11:13.650Z"
   },
   {
    "duration": 117,
    "start_time": "2023-06-20T15:11:15.504Z"
   },
   {
    "duration": 123,
    "start_time": "2023-06-20T15:11:16.987Z"
   },
   {
    "duration": 997,
    "start_time": "2023-06-20T15:11:18.637Z"
   },
   {
    "duration": 31,
    "start_time": "2023-06-20T15:11:20.385Z"
   },
   {
    "duration": 17,
    "start_time": "2023-06-20T15:11:22.151Z"
   },
   {
    "duration": 18,
    "start_time": "2023-06-20T15:11:23.724Z"
   },
   {
    "duration": 32,
    "start_time": "2023-06-20T15:11:27.113Z"
   },
   {
    "duration": 15,
    "start_time": "2023-06-20T15:11:30.464Z"
   },
   {
    "duration": 17,
    "start_time": "2023-06-20T15:11:35.330Z"
   },
   {
    "duration": 16,
    "start_time": "2023-06-20T15:12:18.352Z"
   },
   {
    "duration": 31,
    "start_time": "2023-06-20T15:12:19.118Z"
   },
   {
    "duration": 17,
    "start_time": "2023-06-20T15:12:20.995Z"
   },
   {
    "duration": 41,
    "start_time": "2023-06-20T15:12:25.970Z"
   },
   {
    "duration": 35,
    "start_time": "2023-06-20T15:12:40.105Z"
   },
   {
    "duration": 68,
    "start_time": "2023-06-20T15:12:41.702Z"
   },
   {
    "duration": 33,
    "start_time": "2023-06-20T15:12:43.106Z"
   },
   {
    "duration": 19,
    "start_time": "2023-06-20T15:12:47.534Z"
   },
   {
    "duration": 35,
    "start_time": "2023-06-20T15:12:55.398Z"
   },
   {
    "duration": 15,
    "start_time": "2023-06-20T15:13:29.090Z"
   },
   {
    "duration": 31,
    "start_time": "2023-06-20T15:13:35.410Z"
   },
   {
    "duration": 16,
    "start_time": "2023-06-20T15:13:45.814Z"
   },
   {
    "duration": 105,
    "start_time": "2023-06-20T15:13:49.224Z"
   },
   {
    "duration": 4,
    "start_time": "2023-06-20T15:13:51.736Z"
   },
   {
    "duration": 30,
    "start_time": "2023-06-20T15:13:57.524Z"
   },
   {
    "duration": 6,
    "start_time": "2023-06-20T15:14:18.485Z"
   },
   {
    "duration": 12,
    "start_time": "2023-06-20T15:14:19.594Z"
   },
   {
    "duration": 85,
    "start_time": "2023-06-20T15:14:25.318Z"
   },
   {
    "duration": 6,
    "start_time": "2023-06-20T15:14:26.905Z"
   },
   {
    "duration": 57,
    "start_time": "2023-06-20T15:14:43.746Z"
   },
   {
    "duration": 25,
    "start_time": "2023-06-20T15:14:46.043Z"
   },
   {
    "duration": 19,
    "start_time": "2023-06-20T17:08:59.382Z"
   },
   {
    "duration": 54,
    "start_time": "2023-06-20T17:11:36.110Z"
   },
   {
    "duration": 19,
    "start_time": "2023-06-20T17:11:41.105Z"
   },
   {
    "duration": 198,
    "start_time": "2023-06-20T17:14:08.226Z"
   },
   {
    "duration": 183,
    "start_time": "2023-06-20T17:14:11.035Z"
   },
   {
    "duration": 34,
    "start_time": "2023-06-20T17:17:07.430Z"
   },
   {
    "duration": 157,
    "start_time": "2023-06-20T17:17:12.593Z"
   },
   {
    "duration": 43,
    "start_time": "2023-06-20T17:17:57.910Z"
   },
   {
    "duration": 28,
    "start_time": "2023-06-20T17:18:49.947Z"
   },
   {
    "duration": 85,
    "start_time": "2023-06-20T17:19:34.148Z"
   },
   {
    "duration": 189,
    "start_time": "2023-06-20T17:20:11.791Z"
   },
   {
    "duration": 182,
    "start_time": "2023-06-20T17:20:14.495Z"
   },
   {
    "duration": 32,
    "start_time": "2023-06-20T17:20:36.224Z"
   },
   {
    "duration": 26,
    "start_time": "2023-06-20T17:21:10.845Z"
   },
   {
    "duration": 37,
    "start_time": "2023-06-20T17:21:27.982Z"
   },
   {
    "duration": 161,
    "start_time": "2023-06-20T17:21:46.586Z"
   },
   {
    "duration": 17,
    "start_time": "2023-06-20T17:21:56.608Z"
   },
   {
    "duration": 2,
    "start_time": "2023-06-20T17:26:43.498Z"
   },
   {
    "duration": 12,
    "start_time": "2023-06-20T17:26:44.475Z"
   },
   {
    "duration": 22,
    "start_time": "2023-06-20T17:27:03.106Z"
   },
   {
    "duration": 124,
    "start_time": "2023-06-20T17:27:05.398Z"
   },
   {
    "duration": 53,
    "start_time": "2023-06-20T17:28:15.249Z"
   },
   {
    "duration": 5,
    "start_time": "2023-06-20T17:28:51.390Z"
   },
   {
    "duration": 1321,
    "start_time": "2023-06-20T17:34:41.914Z"
   },
   {
    "duration": 188,
    "start_time": "2023-06-20T17:35:43.753Z"
   },
   {
    "duration": 165,
    "start_time": "2023-06-20T17:38:34.190Z"
   },
   {
    "duration": 27,
    "start_time": "2023-06-20T17:39:56.020Z"
   },
   {
    "duration": 6,
    "start_time": "2023-06-20T17:40:37.714Z"
   },
   {
    "duration": 20,
    "start_time": "2023-06-20T17:41:15.890Z"
   },
   {
    "duration": 23,
    "start_time": "2023-06-20T17:41:44.829Z"
   },
   {
    "duration": 28,
    "start_time": "2023-06-20T17:43:12.549Z"
   },
   {
    "duration": 187,
    "start_time": "2023-06-20T17:43:20.098Z"
   },
   {
    "duration": 25,
    "start_time": "2023-06-20T17:43:32.789Z"
   },
   {
    "duration": 7,
    "start_time": "2023-06-20T17:43:43.706Z"
   },
   {
    "duration": 20,
    "start_time": "2023-06-20T17:43:46.794Z"
   },
   {
    "duration": 238,
    "start_time": "2023-06-20T17:43:49.394Z"
   },
   {
    "duration": 20,
    "start_time": "2023-06-20T17:45:15.001Z"
   },
   {
    "duration": 3,
    "start_time": "2023-06-20T17:45:26.902Z"
   },
   {
    "duration": 20,
    "start_time": "2023-06-20T17:45:28.702Z"
   },
   {
    "duration": 29,
    "start_time": "2023-06-20T17:45:34.993Z"
   },
   {
    "duration": 127,
    "start_time": "2023-06-20T17:45:37.322Z"
   },
   {
    "duration": 53,
    "start_time": "2023-06-20T17:45:38.349Z"
   },
   {
    "duration": 5,
    "start_time": "2023-06-20T17:45:40.325Z"
   },
   {
    "duration": 1573,
    "start_time": "2023-06-20T17:45:43.421Z"
   },
   {
    "duration": 1843,
    "start_time": "2023-06-20T17:46:18.629Z"
   },
   {
    "duration": 20,
    "start_time": "2023-06-20T17:46:56.902Z"
   },
   {
    "duration": 15,
    "start_time": "2023-06-20T17:47:00.897Z"
   },
   {
    "duration": 5,
    "start_time": "2023-06-20T17:47:34.010Z"
   },
   {
    "duration": 16,
    "start_time": "2023-06-20T17:47:37.082Z"
   },
   {
    "duration": 3,
    "start_time": "2023-06-20T17:47:43.287Z"
   },
   {
    "duration": 27,
    "start_time": "2023-06-20T17:47:45.497Z"
   },
   {
    "duration": 124,
    "start_time": "2023-06-20T17:47:46.447Z"
   },
   {
    "duration": 48,
    "start_time": "2023-06-20T17:47:47.526Z"
   },
   {
    "duration": 4,
    "start_time": "2023-06-20T17:47:48.394Z"
   },
   {
    "duration": 2051,
    "start_time": "2023-06-20T17:47:49.936Z"
   },
   {
    "duration": 27,
    "start_time": "2023-06-20T17:48:12.739Z"
   },
   {
    "duration": 20,
    "start_time": "2023-06-20T17:48:14.905Z"
   },
   {
    "duration": 310,
    "start_time": "2023-06-20T17:48:18.598Z"
   },
   {
    "duration": 108,
    "start_time": "2023-06-20T17:48:27.308Z"
   },
   {
    "duration": 6376,
    "start_time": "2023-06-20T17:51:36.344Z"
   },
   {
    "duration": 681137,
    "start_time": "2023-06-20T17:53:06.402Z"
   },
   {
    "duration": 2697,
    "start_time": "2023-06-20T18:04:33.798Z"
   },
   {
    "duration": 15,
    "start_time": "2023-06-20T18:04:38.324Z"
   },
   {
    "duration": 4,
    "start_time": "2023-06-20T18:04:51.270Z"
   },
   {
    "duration": 1614,
    "start_time": "2023-06-20T18:06:10.334Z"
   },
   {
    "duration": 3405,
    "start_time": "2023-06-20T18:06:28.950Z"
   },
   {
    "duration": 5,
    "start_time": "2023-06-20T18:07:57.606Z"
   },
   {
    "duration": 6432,
    "start_time": "2023-06-20T18:08:49.287Z"
   },
   {
    "duration": 3,
    "start_time": "2023-06-20T18:09:01.807Z"
   },
   {
    "duration": 3,
    "start_time": "2023-06-20T18:09:58.898Z"
   },
   {
    "duration": 305722,
    "start_time": "2023-06-20T18:10:03.290Z"
   },
   {
    "duration": 20203,
    "start_time": "2023-06-20T18:17:14.815Z"
   },
   {
    "duration": 20306,
    "start_time": "2023-06-20T18:18:22.610Z"
   },
   {
    "duration": 6474,
    "start_time": "2023-06-20T18:18:47.737Z"
   },
   {
    "duration": 6,
    "start_time": "2023-06-20T18:19:25.435Z"
   },
   {
    "duration": 371,
    "start_time": "2023-06-20T18:20:12.951Z"
   },
   {
    "duration": 15,
    "start_time": "2023-06-20T18:22:05.003Z"
   },
   {
    "duration": 57,
    "start_time": "2023-06-20T18:22:16.133Z"
   },
   {
    "duration": 19,
    "start_time": "2023-06-20T18:22:35.699Z"
   },
   {
    "duration": 18,
    "start_time": "2023-06-20T18:22:55.421Z"
   },
   {
    "duration": 52,
    "start_time": "2023-06-20T18:23:51.630Z"
   },
   {
    "duration": 71,
    "start_time": "2023-06-20T18:24:23.282Z"
   },
   {
    "duration": 140,
    "start_time": "2023-06-20T18:24:31.110Z"
   },
   {
    "duration": 21,
    "start_time": "2023-06-20T18:25:27.325Z"
   },
   {
    "duration": 13,
    "start_time": "2023-06-20T18:25:53.187Z"
   },
   {
    "duration": 2181,
    "start_time": "2023-06-20T18:25:54.891Z"
   },
   {
    "duration": 25,
    "start_time": "2023-06-20T18:26:41.237Z"
   },
   {
    "duration": 5,
    "start_time": "2023-06-20T18:26:47.613Z"
   },
   {
    "duration": 3,
    "start_time": "2023-06-20T18:28:51.215Z"
   },
   {
    "duration": 4,
    "start_time": "2023-06-20T18:28:53.656Z"
   },
   {
    "duration": 3275,
    "start_time": "2023-06-20T18:28:55.831Z"
   },
   {
    "duration": 3,
    "start_time": "2023-06-20T18:29:55.438Z"
   },
   {
    "duration": 2892,
    "start_time": "2023-06-20T18:29:57.592Z"
   },
   {
    "duration": 15,
    "start_time": "2023-06-20T18:30:23.495Z"
   },
   {
    "duration": 4,
    "start_time": "2023-06-20T18:30:27.122Z"
   },
   {
    "duration": 2192,
    "start_time": "2023-06-20T18:30:34.501Z"
   },
   {
    "duration": 19,
    "start_time": "2023-06-20T18:32:01.287Z"
   },
   {
    "duration": 157,
    "start_time": "2023-06-20T18:32:04.023Z"
   },
   {
    "duration": 79,
    "start_time": "2023-06-20T18:32:12.894Z"
   },
   {
    "duration": 29,
    "start_time": "2023-06-20T18:32:15.023Z"
   },
   {
    "duration": 10,
    "start_time": "2023-06-20T18:32:18.795Z"
   },
   {
    "duration": 4,
    "start_time": "2023-06-20T18:32:24.396Z"
   },
   {
    "duration": 1719,
    "start_time": "2023-06-20T18:32:31.247Z"
   },
   {
    "duration": 5,
    "start_time": "2023-06-20T18:33:43.252Z"
   },
   {
    "duration": 137,
    "start_time": "2023-06-20T18:34:35.237Z"
   },
   {
    "duration": 89,
    "start_time": "2023-06-20T18:34:36.227Z"
   },
   {
    "duration": 29,
    "start_time": "2023-06-20T18:34:40.344Z"
   },
   {
    "duration": 4,
    "start_time": "2023-06-20T18:34:41.903Z"
   },
   {
    "duration": 2770,
    "start_time": "2023-06-20T18:34:43.608Z"
   },
   {
    "duration": 58,
    "start_time": "2023-06-20T18:35:40.690Z"
   },
   {
    "duration": 182,
    "start_time": "2023-06-20T18:37:45.910Z"
   },
   {
    "duration": 93,
    "start_time": "2023-06-20T18:37:47.716Z"
   },
   {
    "duration": 29,
    "start_time": "2023-06-20T18:37:49.529Z"
   },
   {
    "duration": 19,
    "start_time": "2023-06-20T18:37:53.051Z"
   },
   {
    "duration": 4,
    "start_time": "2023-06-20T18:37:58.013Z"
   },
   {
    "duration": 2930,
    "start_time": "2023-06-20T18:37:59.310Z"
   },
   {
    "duration": 173,
    "start_time": "2023-06-20T18:39:32.598Z"
   },
   {
    "duration": 94,
    "start_time": "2023-06-20T18:39:34.518Z"
   },
   {
    "duration": 26,
    "start_time": "2023-06-20T18:39:36.406Z"
   },
   {
    "duration": 18,
    "start_time": "2023-06-20T18:39:37.311Z"
   },
   {
    "duration": 4,
    "start_time": "2023-06-20T18:39:41.820Z"
   },
   {
    "duration": 2133,
    "start_time": "2023-06-20T18:39:43.099Z"
   },
   {
    "duration": 10,
    "start_time": "2023-06-20T18:39:57.932Z"
   },
   {
    "duration": 206,
    "start_time": "2023-06-20T18:41:15.009Z"
   },
   {
    "duration": 49,
    "start_time": "2023-06-20T18:41:17.102Z"
   },
   {
    "duration": 741,
    "start_time": "2023-06-20T18:41:25.302Z"
   },
   {
    "duration": 38,
    "start_time": "2023-06-20T18:41:35.318Z"
   },
   {
    "duration": 127935,
    "start_time": "2023-06-20T18:41:44.617Z"
   },
   {
    "duration": 2247,
    "start_time": "2023-06-20T18:45:48.781Z"
   },
   {
    "duration": 133,
    "start_time": "2023-06-20T18:46:00.886Z"
   },
   {
    "duration": 3,
    "start_time": "2023-06-20T18:49:28.894Z"
   },
   {
    "duration": 3,
    "start_time": "2023-06-20T18:50:11.790Z"
   },
   {
    "duration": 33,
    "start_time": "2023-06-20T18:50:12.642Z"
   },
   {
    "duration": 182,
    "start_time": "2023-06-20T18:50:13.582Z"
   },
   {
    "duration": 77,
    "start_time": "2023-06-20T18:50:14.537Z"
   },
   {
    "duration": 12,
    "start_time": "2023-06-20T18:50:15.426Z"
   },
   {
    "duration": 2772,
    "start_time": "2023-06-20T18:50:16.583Z"
   },
   {
    "duration": 43,
    "start_time": "2023-06-20T18:50:22.117Z"
   },
   {
    "duration": 21,
    "start_time": "2023-06-20T18:50:23.551Z"
   },
   {
    "duration": 4,
    "start_time": "2023-06-20T18:50:46.986Z"
   },
   {
    "duration": 61,
    "start_time": "2023-06-20T18:50:47.998Z"
   },
   {
    "duration": 99,
    "start_time": "2023-06-20T18:50:48.898Z"
   },
   {
    "duration": 33,
    "start_time": "2023-06-20T18:50:51.200Z"
   },
   {
    "duration": 5,
    "start_time": "2023-06-20T18:50:59.937Z"
   },
   {
    "duration": 32,
    "start_time": "2023-06-20T18:51:24.104Z"
   },
   {
    "duration": 2126,
    "start_time": "2023-06-20T18:51:40.360Z"
   },
   {
    "duration": 10,
    "start_time": "2023-06-20T18:51:44.750Z"
   },
   {
    "duration": 127,
    "start_time": "2023-06-20T18:51:56.925Z"
   },
   {
    "duration": 120,
    "start_time": "2023-06-20T18:52:24.102Z"
   },
   {
    "duration": 181,
    "start_time": "2023-06-20T18:53:08.551Z"
   },
   {
    "duration": 2315209,
    "start_time": "2023-06-20T18:53:17.738Z"
   },
   {
    "duration": 7544,
    "start_time": "2023-06-20T19:31:58.721Z"
   },
   {
    "duration": 2008,
    "start_time": "2023-06-20T19:32:09.397Z"
   },
   {
    "duration": 53,
    "start_time": "2023-06-20T19:32:21.852Z"
   },
   {
    "duration": 4407,
    "start_time": "2023-06-20T19:35:07.011Z"
   },
   {
    "duration": 150850,
    "start_time": "2023-06-20T19:35:23.801Z"
   },
   {
    "duration": 157980,
    "start_time": "2023-06-20T19:37:56.053Z"
   },
   {
    "duration": 58,
    "start_time": "2023-06-20T19:40:38.668Z"
   },
   {
    "duration": 12,
    "start_time": "2023-06-20T19:41:01.425Z"
   },
   {
    "duration": 67,
    "start_time": "2023-06-20T19:41:39.997Z"
   },
   {
    "duration": 52,
    "start_time": "2023-06-20T19:41:42.854Z"
   },
   {
    "duration": 52,
    "start_time": "2023-06-20T19:41:47.746Z"
   },
   {
    "duration": 51,
    "start_time": "2023-06-20T19:42:38.129Z"
   },
   {
    "duration": 10,
    "start_time": "2023-06-20T19:42:44.945Z"
   },
   {
    "duration": 1470,
    "start_time": "2023-06-21T04:57:51.093Z"
   },
   {
    "duration": 749,
    "start_time": "2023-06-21T04:57:52.565Z"
   },
   {
    "duration": 3,
    "start_time": "2023-06-21T04:57:53.316Z"
   },
   {
    "duration": 136,
    "start_time": "2023-06-21T04:57:53.321Z"
   },
   {
    "duration": 125,
    "start_time": "2023-06-21T04:57:53.459Z"
   },
   {
    "duration": 890,
    "start_time": "2023-06-21T04:57:53.586Z"
   },
   {
    "duration": 31,
    "start_time": "2023-06-21T04:57:54.478Z"
   },
   {
    "duration": 25,
    "start_time": "2023-06-21T04:57:54.512Z"
   },
   {
    "duration": 36,
    "start_time": "2023-06-21T04:57:54.539Z"
   },
   {
    "duration": 31,
    "start_time": "2023-06-21T04:57:54.578Z"
   },
   {
    "duration": 33,
    "start_time": "2023-06-21T04:57:54.611Z"
   },
   {
    "duration": 21,
    "start_time": "2023-06-21T04:57:54.646Z"
   },
   {
    "duration": 16,
    "start_time": "2023-06-21T04:57:55.265Z"
   },
   {
    "duration": 31,
    "start_time": "2023-06-21T04:57:55.466Z"
   },
   {
    "duration": 17,
    "start_time": "2023-06-21T04:57:55.638Z"
   },
   {
    "duration": 38,
    "start_time": "2023-06-21T04:57:56.242Z"
   },
   {
    "duration": 42,
    "start_time": "2023-06-21T04:57:56.351Z"
   },
   {
    "duration": 71,
    "start_time": "2023-06-21T04:57:56.494Z"
   },
   {
    "duration": 33,
    "start_time": "2023-06-21T04:57:56.629Z"
   },
   {
    "duration": 21,
    "start_time": "2023-06-21T04:57:56.774Z"
   },
   {
    "duration": 32,
    "start_time": "2023-06-21T04:57:57.829Z"
   },
   {
    "duration": 17,
    "start_time": "2023-06-21T04:57:58.164Z"
   },
   {
    "duration": 161,
    "start_time": "2023-06-21T04:57:58.350Z"
   },
   {
    "duration": 4,
    "start_time": "2023-06-21T04:57:58.644Z"
   },
   {
    "duration": 36,
    "start_time": "2023-06-21T04:57:59.654Z"
   },
   {
    "duration": 3,
    "start_time": "2023-06-21T04:58:00.536Z"
   },
   {
    "duration": 10,
    "start_time": "2023-06-21T04:58:00.736Z"
   },
   {
    "duration": 65,
    "start_time": "2023-06-21T04:58:00.928Z"
   },
   {
    "duration": 5,
    "start_time": "2023-06-21T04:58:01.200Z"
   },
   {
    "duration": 61,
    "start_time": "2023-06-21T04:58:01.423Z"
   },
   {
    "duration": 21,
    "start_time": "2023-06-21T04:58:02.013Z"
   },
   {
    "duration": 20,
    "start_time": "2023-06-21T04:58:02.811Z"
   },
   {
    "duration": 56,
    "start_time": "2023-06-21T04:58:03.249Z"
   },
   {
    "duration": 166,
    "start_time": "2023-06-21T04:58:03.653Z"
   },
   {
    "duration": 26,
    "start_time": "2023-06-21T04:58:04.165Z"
   },
   {
    "duration": 23,
    "start_time": "2023-06-21T04:58:04.503Z"
   },
   {
    "duration": 73,
    "start_time": "2023-06-21T04:58:04.755Z"
   },
   {
    "duration": 140,
    "start_time": "2023-06-21T04:58:05.371Z"
   },
   {
    "duration": 20,
    "start_time": "2023-06-21T04:58:05.680Z"
   },
   {
    "duration": 26,
    "start_time": "2023-06-21T04:58:05.997Z"
   },
   {
    "duration": 2,
    "start_time": "2023-06-21T04:58:06.742Z"
   },
   {
    "duration": 20,
    "start_time": "2023-06-21T04:58:07.204Z"
   },
   {
    "duration": 104,
    "start_time": "2023-06-21T04:58:07.606Z"
   },
   {
    "duration": 42,
    "start_time": "2023-06-21T04:58:08.041Z"
   },
   {
    "duration": 5,
    "start_time": "2023-06-21T04:58:08.423Z"
   },
   {
    "duration": 1732,
    "start_time": "2023-06-21T04:58:09.162Z"
   },
   {
    "duration": 22,
    "start_time": "2023-06-21T04:58:10.896Z"
   },
   {
    "duration": 17,
    "start_time": "2023-06-21T04:58:10.920Z"
   },
   {
    "duration": 1632,
    "start_time": "2023-06-21T07:33:07.701Z"
   },
   {
    "duration": 2722,
    "start_time": "2023-06-21T07:33:11.425Z"
   },
   {
    "duration": 4,
    "start_time": "2023-06-21T07:33:15.767Z"
   },
   {
    "duration": 123,
    "start_time": "2023-06-21T07:33:17.763Z"
   },
   {
    "duration": 113,
    "start_time": "2023-06-21T07:33:18.909Z"
   },
   {
    "duration": 854,
    "start_time": "2023-06-21T07:33:20.675Z"
   },
   {
    "duration": 27,
    "start_time": "2023-06-21T07:33:22.862Z"
   },
   {
    "duration": 15,
    "start_time": "2023-06-21T07:33:24.264Z"
   },
   {
    "duration": 16,
    "start_time": "2023-06-21T07:33:25.368Z"
   },
   {
    "duration": 29,
    "start_time": "2023-06-21T07:33:28.615Z"
   },
   {
    "duration": 16,
    "start_time": "2023-06-21T07:33:30.208Z"
   },
   {
    "duration": 16,
    "start_time": "2023-06-21T07:33:31.302Z"
   },
   {
    "duration": 17,
    "start_time": "2023-06-21T07:33:34.415Z"
   },
   {
    "duration": 31,
    "start_time": "2023-06-21T07:33:36.024Z"
   },
   {
    "duration": 17,
    "start_time": "2023-06-21T07:33:37.177Z"
   },
   {
    "duration": 26,
    "start_time": "2023-06-21T07:33:42.823Z"
   },
   {
    "duration": 32,
    "start_time": "2023-06-21T07:33:44.188Z"
   },
   {
    "duration": 67,
    "start_time": "2023-06-21T07:33:45.870Z"
   },
   {
    "duration": 33,
    "start_time": "2023-06-21T07:33:47.325Z"
   },
   {
    "duration": 16,
    "start_time": "2023-06-21T07:33:48.609Z"
   },
   {
    "duration": 29,
    "start_time": "2023-06-21T07:33:53.605Z"
   },
   {
    "duration": 15,
    "start_time": "2023-06-21T07:33:55.313Z"
   },
   {
    "duration": 113,
    "start_time": "2023-06-21T07:33:56.155Z"
   },
   {
    "duration": 5,
    "start_time": "2023-06-21T07:34:08.662Z"
   },
   {
    "duration": 34,
    "start_time": "2023-06-21T07:34:10.247Z"
   },
   {
    "duration": 4,
    "start_time": "2023-06-21T07:34:14.323Z"
   },
   {
    "duration": 9,
    "start_time": "2023-06-21T07:34:15.510Z"
   },
   {
    "duration": 62,
    "start_time": "2023-06-21T07:34:16.762Z"
   },
   {
    "duration": 5,
    "start_time": "2023-06-21T07:34:19.019Z"
   },
   {
    "duration": 60,
    "start_time": "2023-06-21T07:34:26.310Z"
   },
   {
    "duration": 22,
    "start_time": "2023-06-21T07:34:27.822Z"
   },
   {
    "duration": 18,
    "start_time": "2023-06-21T07:34:31.109Z"
   },
   {
    "duration": 57,
    "start_time": "2023-06-21T07:34:33.250Z"
   },
   {
    "duration": 217,
    "start_time": "2023-06-21T07:36:30.004Z"
   },
   {
    "duration": 170,
    "start_time": "2023-06-21T07:36:35.508Z"
   },
   {
    "duration": 152,
    "start_time": "2023-06-21T07:36:44.208Z"
   },
   {
    "duration": 319,
    "start_time": "2023-06-21T07:38:05.723Z"
   },
   {
    "duration": 105,
    "start_time": "2023-06-21T07:39:05.519Z"
   },
   {
    "duration": 95,
    "start_time": "2023-06-21T07:39:18.628Z"
   },
   {
    "duration": 9,
    "start_time": "2023-06-21T07:39:21.920Z"
   },
   {
    "duration": 228,
    "start_time": "2023-06-21T07:40:08.916Z"
   },
   {
    "duration": 249,
    "start_time": "2023-06-21T07:41:10.388Z"
   },
   {
    "duration": 260,
    "start_time": "2023-06-21T07:41:41.396Z"
   },
   {
    "duration": 1265,
    "start_time": "2023-06-21T07:42:05.455Z"
   },
   {
    "duration": 1242,
    "start_time": "2023-06-21T07:42:17.908Z"
   },
   {
    "duration": 202,
    "start_time": "2023-06-21T07:43:15.452Z"
   },
   {
    "duration": 102,
    "start_time": "2023-06-21T07:43:58.768Z"
   },
   {
    "duration": 180,
    "start_time": "2023-06-21T07:44:03.132Z"
   },
   {
    "duration": 27,
    "start_time": "2023-06-21T07:44:13.013Z"
   },
   {
    "duration": 22,
    "start_time": "2023-06-21T07:44:14.190Z"
   },
   {
    "duration": 186,
    "start_time": "2023-06-21T07:48:17.209Z"
   },
   {
    "duration": 199,
    "start_time": "2023-06-21T07:50:52.830Z"
   },
   {
    "duration": 15,
    "start_time": "2023-06-21T07:52:02.577Z"
   },
   {
    "duration": 9,
    "start_time": "2023-06-21T07:52:05.637Z"
   },
   {
    "duration": 8,
    "start_time": "2023-06-21T07:52:26.197Z"
   },
   {
    "duration": 7,
    "start_time": "2023-06-21T07:52:56.136Z"
   },
   {
    "duration": 7,
    "start_time": "2023-06-21T07:53:01.853Z"
   },
   {
    "duration": 16,
    "start_time": "2023-06-21T07:53:31.166Z"
   },
   {
    "duration": 6,
    "start_time": "2023-06-21T07:54:06.693Z"
   },
   {
    "duration": 176,
    "start_time": "2023-06-21T07:54:10.368Z"
   },
   {
    "duration": 9,
    "start_time": "2023-06-21T07:54:19.690Z"
   },
   {
    "duration": 4,
    "start_time": "2023-06-21T08:01:04.305Z"
   },
   {
    "duration": 856,
    "start_time": "2023-06-21T08:01:04.311Z"
   },
   {
    "duration": 3,
    "start_time": "2023-06-21T08:01:05.169Z"
   },
   {
    "duration": 138,
    "start_time": "2023-06-21T08:01:05.174Z"
   },
   {
    "duration": 130,
    "start_time": "2023-06-21T08:01:05.314Z"
   },
   {
    "duration": 829,
    "start_time": "2023-06-21T08:01:05.445Z"
   },
   {
    "duration": 41,
    "start_time": "2023-06-21T08:01:06.276Z"
   },
   {
    "duration": 34,
    "start_time": "2023-06-21T08:01:06.320Z"
   },
   {
    "duration": 19,
    "start_time": "2023-06-21T08:01:06.356Z"
   },
   {
    "duration": 66,
    "start_time": "2023-06-21T08:01:06.377Z"
   },
   {
    "duration": 28,
    "start_time": "2023-06-21T08:01:06.445Z"
   },
   {
    "duration": 36,
    "start_time": "2023-06-21T08:01:06.475Z"
   },
   {
    "duration": 31,
    "start_time": "2023-06-21T08:01:06.513Z"
   },
   {
    "duration": 42,
    "start_time": "2023-06-21T08:01:06.548Z"
   },
   {
    "duration": 36,
    "start_time": "2023-06-21T08:01:06.592Z"
   },
   {
    "duration": 34,
    "start_time": "2023-06-21T08:01:06.630Z"
   },
   {
    "duration": 48,
    "start_time": "2023-06-21T08:01:06.666Z"
   },
   {
    "duration": 82,
    "start_time": "2023-06-21T08:01:06.716Z"
   },
   {
    "duration": 36,
    "start_time": "2023-06-21T08:01:06.800Z"
   },
   {
    "duration": 29,
    "start_time": "2023-06-21T08:01:06.838Z"
   },
   {
    "duration": 33,
    "start_time": "2023-06-21T08:01:06.869Z"
   },
   {
    "duration": 19,
    "start_time": "2023-06-21T08:01:06.903Z"
   },
   {
    "duration": 135,
    "start_time": "2023-06-21T08:01:06.924Z"
   },
   {
    "duration": 20,
    "start_time": "2023-06-21T08:01:07.061Z"
   },
   {
    "duration": 25,
    "start_time": "2023-06-21T08:01:07.083Z"
   },
   {
    "duration": 4,
    "start_time": "2023-06-21T08:01:07.110Z"
   },
   {
    "duration": 25,
    "start_time": "2023-06-21T08:01:07.116Z"
   },
   {
    "duration": 91,
    "start_time": "2023-06-21T08:01:07.143Z"
   },
   {
    "duration": 5,
    "start_time": "2023-06-21T08:01:07.236Z"
   },
   {
    "duration": 52,
    "start_time": "2023-06-21T08:01:07.242Z"
   },
   {
    "duration": 31,
    "start_time": "2023-06-21T08:01:07.296Z"
   },
   {
    "duration": 32,
    "start_time": "2023-06-21T08:01:07.330Z"
   },
   {
    "duration": 90,
    "start_time": "2023-06-21T08:01:07.364Z"
   },
   {
    "duration": 241,
    "start_time": "2023-06-21T08:01:07.456Z"
   },
   {
    "duration": 27,
    "start_time": "2023-06-21T08:01:07.698Z"
   },
   {
    "duration": 33,
    "start_time": "2023-06-21T08:01:18.174Z"
   },
   {
    "duration": 23,
    "start_time": "2023-06-21T08:01:19.466Z"
   },
   {
    "duration": 22,
    "start_time": "2023-06-21T08:01:23.074Z"
   },
   {
    "duration": 9,
    "start_time": "2023-06-21T08:01:30.305Z"
   },
   {
    "duration": 206,
    "start_time": "2023-06-21T08:01:33.505Z"
   },
   {
    "duration": 159,
    "start_time": "2023-06-21T08:01:47.515Z"
   },
   {
    "duration": 21,
    "start_time": "2023-06-21T08:02:08.252Z"
   },
   {
    "duration": 34,
    "start_time": "2023-06-21T08:02:19.928Z"
   },
   {
    "duration": 3,
    "start_time": "2023-06-21T08:02:27.502Z"
   },
   {
    "duration": 18,
    "start_time": "2023-06-21T08:02:29.734Z"
   },
   {
    "duration": 100,
    "start_time": "2023-06-21T08:02:30.824Z"
   },
   {
    "duration": 41,
    "start_time": "2023-06-21T08:02:31.749Z"
   },
   {
    "duration": 4,
    "start_time": "2023-06-21T08:02:32.802Z"
   },
   {
    "duration": 2,
    "start_time": "2023-06-21T08:03:08.602Z"
   },
   {
    "duration": 28,
    "start_time": "2023-06-21T08:03:09.313Z"
   },
   {
    "duration": 99,
    "start_time": "2023-06-21T08:03:10.089Z"
   },
   {
    "duration": 38,
    "start_time": "2023-06-21T08:03:10.770Z"
   },
   {
    "duration": 4,
    "start_time": "2023-06-21T08:03:11.444Z"
   },
   {
    "duration": 1101,
    "start_time": "2023-06-21T08:03:12.207Z"
   },
   {
    "duration": 11,
    "start_time": "2023-06-21T08:06:44.908Z"
   },
   {
    "duration": 18,
    "start_time": "2023-06-21T08:06:53.927Z"
   },
   {
    "duration": 10,
    "start_time": "2023-06-21T08:07:41.265Z"
   },
   {
    "duration": 3,
    "start_time": "2023-06-21T08:07:48.717Z"
   },
   {
    "duration": 815,
    "start_time": "2023-06-21T08:07:49.829Z"
   },
   {
    "duration": 5,
    "start_time": "2023-06-21T08:13:17.330Z"
   },
   {
    "duration": 803,
    "start_time": "2023-06-21T08:13:17.337Z"
   },
   {
    "duration": 3,
    "start_time": "2023-06-21T08:13:18.142Z"
   },
   {
    "duration": 135,
    "start_time": "2023-06-21T08:13:18.154Z"
   },
   {
    "duration": 130,
    "start_time": "2023-06-21T08:13:18.292Z"
   },
   {
    "duration": 830,
    "start_time": "2023-06-21T08:13:18.424Z"
   },
   {
    "duration": 30,
    "start_time": "2023-06-21T08:13:19.255Z"
   },
   {
    "duration": 18,
    "start_time": "2023-06-21T08:13:19.287Z"
   },
   {
    "duration": 19,
    "start_time": "2023-06-21T08:13:19.307Z"
   },
   {
    "duration": 46,
    "start_time": "2023-06-21T08:13:19.327Z"
   },
   {
    "duration": 18,
    "start_time": "2023-06-21T08:13:19.374Z"
   },
   {
    "duration": 32,
    "start_time": "2023-06-21T08:13:19.394Z"
   },
   {
    "duration": 25,
    "start_time": "2023-06-21T08:13:19.429Z"
   },
   {
    "duration": 34,
    "start_time": "2023-06-21T08:13:19.456Z"
   },
   {
    "duration": 18,
    "start_time": "2023-06-21T08:13:19.492Z"
   },
   {
    "duration": 27,
    "start_time": "2023-06-21T08:13:19.511Z"
   },
   {
    "duration": 46,
    "start_time": "2023-06-21T08:13:19.540Z"
   },
   {
    "duration": 74,
    "start_time": "2023-06-21T08:13:19.588Z"
   },
   {
    "duration": 33,
    "start_time": "2023-06-21T08:13:19.664Z"
   },
   {
    "duration": 17,
    "start_time": "2023-06-21T08:13:19.699Z"
   },
   {
    "duration": 46,
    "start_time": "2023-06-21T08:13:19.717Z"
   },
   {
    "duration": 16,
    "start_time": "2023-06-21T08:13:19.764Z"
   },
   {
    "duration": 128,
    "start_time": "2023-06-21T08:13:19.782Z"
   },
   {
    "duration": 3,
    "start_time": "2023-06-21T08:13:19.912Z"
   },
   {
    "duration": 37,
    "start_time": "2023-06-21T08:13:19.917Z"
   },
   {
    "duration": 4,
    "start_time": "2023-06-21T08:13:19.956Z"
   },
   {
    "duration": 18,
    "start_time": "2023-06-21T08:13:19.961Z"
   },
   {
    "duration": 75,
    "start_time": "2023-06-21T08:13:19.980Z"
   },
   {
    "duration": 5,
    "start_time": "2023-06-21T08:13:20.057Z"
   },
   {
    "duration": 76,
    "start_time": "2023-06-21T08:13:20.064Z"
   },
   {
    "duration": 20,
    "start_time": "2023-06-21T08:13:20.142Z"
   },
   {
    "duration": 21,
    "start_time": "2023-06-21T08:13:20.164Z"
   },
   {
    "duration": 74,
    "start_time": "2023-06-21T08:13:20.187Z"
   },
   {
    "duration": 180,
    "start_time": "2023-06-21T08:13:20.262Z"
   },
   {
    "duration": 30,
    "start_time": "2023-06-21T08:13:20.443Z"
   },
   {
    "duration": 21,
    "start_time": "2023-06-21T08:13:20.474Z"
   },
   {
    "duration": 15,
    "start_time": "2023-06-21T08:13:20.498Z"
   },
   {
    "duration": 180,
    "start_time": "2023-06-21T08:13:20.515Z"
   },
   {
    "duration": 21,
    "start_time": "2023-06-21T08:13:20.697Z"
   },
   {
    "duration": 43,
    "start_time": "2023-06-21T08:13:20.720Z"
   },
   {
    "duration": 3,
    "start_time": "2023-06-21T08:13:20.764Z"
   },
   {
    "duration": 32,
    "start_time": "2023-06-21T08:13:20.768Z"
   },
   {
    "duration": 45,
    "start_time": "2023-06-21T08:13:20.801Z"
   },
   {
    "duration": 101,
    "start_time": "2023-06-21T08:13:20.848Z"
   },
   {
    "duration": 40,
    "start_time": "2023-06-21T08:13:29.010Z"
   },
   {
    "duration": 3,
    "start_time": "2023-06-21T08:13:30.108Z"
   },
   {
    "duration": 4,
    "start_time": "2023-06-21T08:14:18.604Z"
   },
   {
    "duration": 9,
    "start_time": "2023-06-21T08:14:59.715Z"
   },
   {
    "duration": 10,
    "start_time": "2023-06-21T08:15:07.115Z"
   },
   {
    "duration": 4,
    "start_time": "2023-06-21T08:15:12.924Z"
   },
   {
    "duration": 4,
    "start_time": "2023-06-21T08:16:26.884Z"
   },
   {
    "duration": 4,
    "start_time": "2023-06-21T08:16:31.692Z"
   },
   {
    "duration": 170,
    "start_time": "2023-06-21T08:16:54.944Z"
   },
   {
    "duration": 5,
    "start_time": "2023-06-21T08:17:44.001Z"
   },
   {
    "duration": 5,
    "start_time": "2023-06-21T08:18:04.839Z"
   },
   {
    "duration": 3,
    "start_time": "2023-06-21T08:20:00.744Z"
   },
   {
    "duration": 177,
    "start_time": "2023-06-21T08:20:18.116Z"
   },
   {
    "duration": 1016,
    "start_time": "2023-06-21T08:20:33.820Z"
   },
   {
    "duration": 69,
    "start_time": "2023-06-21T08:22:06.598Z"
   },
   {
    "duration": 550,
    "start_time": "2023-06-21T08:22:18.821Z"
   },
   {
    "duration": 40,
    "start_time": "2023-06-21T08:22:36.399Z"
   },
   {
    "duration": 37,
    "start_time": "2023-06-21T08:22:57.611Z"
   },
   {
    "duration": 215,
    "start_time": "2023-06-21T08:23:15.845Z"
   },
   {
    "duration": 88,
    "start_time": "2023-06-21T08:23:17.104Z"
   },
   {
    "duration": 36,
    "start_time": "2023-06-21T08:23:17.903Z"
   },
   {
    "duration": 4,
    "start_time": "2023-06-21T08:23:18.936Z"
   },
   {
    "duration": 3,
    "start_time": "2023-06-21T08:23:20.435Z"
   },
   {
    "duration": 3,
    "start_time": "2023-06-21T08:23:21.987Z"
   },
   {
    "duration": 4,
    "start_time": "2023-06-21T08:23:23.427Z"
   },
   {
    "duration": 98,
    "start_time": "2023-06-21T08:23:25.817Z"
   },
   {
    "duration": 810,
    "start_time": "2023-06-21T08:23:26.757Z"
   },
   {
    "duration": 61,
    "start_time": "2023-06-21T08:23:29.205Z"
   },
   {
    "duration": 63,
    "start_time": "2023-06-21T08:23:42.534Z"
   },
   {
    "duration": 537,
    "start_time": "2023-06-21T08:23:44.041Z"
   },
   {
    "duration": 36,
    "start_time": "2023-06-21T08:23:45.711Z"
   },
   {
    "duration": 58,
    "start_time": "2023-06-21T08:23:49.208Z"
   },
   {
    "duration": 48,
    "start_time": "2023-06-21T08:23:50.618Z"
   },
   {
    "duration": 552,
    "start_time": "2023-06-21T08:23:54.141Z"
   },
   {
    "duration": 73,
    "start_time": "2023-06-21T08:25:59.513Z"
   },
   {
    "duration": 539,
    "start_time": "2023-06-21T08:26:01.170Z"
   },
   {
    "duration": 403,
    "start_time": "2023-06-21T08:26:02.448Z"
   },
   {
    "duration": 17,
    "start_time": "2023-06-21T08:26:04.264Z"
   },
   {
    "duration": 18,
    "start_time": "2023-06-21T08:26:05.912Z"
   },
   {
    "duration": 238,
    "start_time": "2023-06-21T08:26:26.647Z"
   },
   {
    "duration": 3,
    "start_time": "2023-06-21T08:28:09.001Z"
   },
   {
    "duration": 20,
    "start_time": "2023-06-21T08:28:09.926Z"
   },
   {
    "duration": 33,
    "start_time": "2023-06-21T08:28:11.036Z"
   },
   {
    "duration": 93,
    "start_time": "2023-06-21T08:28:11.891Z"
   },
   {
    "duration": 35,
    "start_time": "2023-06-21T08:28:12.795Z"
   },
   {
    "duration": 3,
    "start_time": "2023-06-21T08:28:13.799Z"
   },
   {
    "duration": 5,
    "start_time": "2023-06-21T08:28:15.151Z"
   },
   {
    "duration": 3,
    "start_time": "2023-06-21T08:28:16.103Z"
   },
   {
    "duration": 3,
    "start_time": "2023-06-21T08:28:17.219Z"
   },
   {
    "duration": 103,
    "start_time": "2023-06-21T08:28:24.202Z"
   },
   {
    "duration": 861,
    "start_time": "2023-06-21T08:28:25.140Z"
   },
   {
    "duration": 297,
    "start_time": "2023-06-21T08:28:26.659Z"
   },
   {
    "duration": 26,
    "start_time": "2023-06-21T08:28:27.746Z"
   },
   {
    "duration": 21,
    "start_time": "2023-06-21T08:28:29.137Z"
   },
   {
    "duration": 3,
    "start_time": "2023-06-21T08:28:43.441Z"
   },
   {
    "duration": 18,
    "start_time": "2023-06-21T08:28:44.827Z"
   },
   {
    "duration": 29,
    "start_time": "2023-06-21T08:28:46.040Z"
   },
   {
    "duration": 106,
    "start_time": "2023-06-21T08:28:47.293Z"
   },
   {
    "duration": 37,
    "start_time": "2023-06-21T08:28:48.307Z"
   },
   {
    "duration": 4,
    "start_time": "2023-06-21T08:28:49.249Z"
   },
   {
    "duration": 3,
    "start_time": "2023-06-21T08:28:50.222Z"
   },
   {
    "duration": 3,
    "start_time": "2023-06-21T08:28:51.403Z"
   },
   {
    "duration": 4,
    "start_time": "2023-06-21T08:28:53.200Z"
   },
   {
    "duration": 109,
    "start_time": "2023-06-21T08:28:54.420Z"
   },
   {
    "duration": 826,
    "start_time": "2023-06-21T08:28:55.386Z"
   },
   {
    "duration": 340,
    "start_time": "2023-06-21T08:28:57.125Z"
   },
   {
    "duration": 23,
    "start_time": "2023-06-21T08:28:58.534Z"
   },
   {
    "duration": 161,
    "start_time": "2023-06-21T08:29:08.096Z"
   },
   {
    "duration": 6,
    "start_time": "2023-06-21T08:34:23.929Z"
   },
   {
    "duration": 3,
    "start_time": "2023-06-21T08:36:29.709Z"
   },
   {
    "duration": 17,
    "start_time": "2023-06-21T08:36:30.809Z"
   },
   {
    "duration": 26,
    "start_time": "2023-06-21T08:36:31.840Z"
   },
   {
    "duration": 90,
    "start_time": "2023-06-21T08:36:32.709Z"
   },
   {
    "duration": 38,
    "start_time": "2023-06-21T08:36:33.527Z"
   },
   {
    "duration": 4,
    "start_time": "2023-06-21T08:36:34.432Z"
   },
   {
    "duration": 4,
    "start_time": "2023-06-21T08:36:35.422Z"
   },
   {
    "duration": 4,
    "start_time": "2023-06-21T08:36:36.929Z"
   },
   {
    "duration": 4,
    "start_time": "2023-06-21T08:36:37.697Z"
   },
   {
    "duration": 9,
    "start_time": "2023-06-21T08:36:39.048Z"
   },
   {
    "duration": 108,
    "start_time": "2023-06-21T08:37:10.641Z"
   },
   {
    "duration": 841,
    "start_time": "2023-06-21T08:37:11.832Z"
   },
   {
    "duration": 262,
    "start_time": "2023-06-21T08:37:13.614Z"
   },
   {
    "duration": 19,
    "start_time": "2023-06-21T08:37:14.728Z"
   },
   {
    "duration": 135,
    "start_time": "2023-06-21T08:37:25.229Z"
   },
   {
    "duration": 190,
    "start_time": "2023-06-21T08:38:47.944Z"
   },
   {
    "duration": 7,
    "start_time": "2023-06-21T08:39:56.162Z"
   },
   {
    "duration": 17,
    "start_time": "2023-06-21T08:39:56.968Z"
   },
   {
    "duration": 21,
    "start_time": "2023-06-21T08:39:58.070Z"
   },
   {
    "duration": 90,
    "start_time": "2023-06-21T08:39:59.052Z"
   },
   {
    "duration": 44,
    "start_time": "2023-06-21T08:40:00.105Z"
   },
   {
    "duration": 6,
    "start_time": "2023-06-21T08:40:02.149Z"
   },
   {
    "duration": 6,
    "start_time": "2023-06-21T08:40:04.957Z"
   },
   {
    "duration": 4,
    "start_time": "2023-06-21T08:40:06.807Z"
   },
   {
    "duration": 3,
    "start_time": "2023-06-21T08:40:07.844Z"
   },
   {
    "duration": 5,
    "start_time": "2023-06-21T08:40:10.040Z"
   },
   {
    "duration": 117,
    "start_time": "2023-06-21T08:40:16.617Z"
   },
   {
    "duration": 952,
    "start_time": "2023-06-21T08:40:19.846Z"
   },
   {
    "duration": 60,
    "start_time": "2023-06-21T08:40:22.082Z"
   },
   {
    "duration": 4,
    "start_time": "2023-06-21T08:40:47.252Z"
   },
   {
    "duration": 16,
    "start_time": "2023-06-21T08:40:48.001Z"
   },
   {
    "duration": 26,
    "start_time": "2023-06-21T08:40:49.216Z"
   },
   {
    "duration": 107,
    "start_time": "2023-06-21T08:40:50.635Z"
   },
   {
    "duration": 55,
    "start_time": "2023-06-21T08:40:51.413Z"
   },
   {
    "duration": 4,
    "start_time": "2023-06-21T08:40:52.728Z"
   },
   {
    "duration": 4,
    "start_time": "2023-06-21T08:40:54.509Z"
   },
   {
    "duration": 4,
    "start_time": "2023-06-21T08:40:55.771Z"
   },
   {
    "duration": 5,
    "start_time": "2023-06-21T08:40:56.540Z"
   },
   {
    "duration": 6,
    "start_time": "2023-06-21T08:40:57.317Z"
   },
   {
    "duration": 88,
    "start_time": "2023-06-21T08:40:58.251Z"
   },
   {
    "duration": 650,
    "start_time": "2023-06-21T08:40:59.113Z"
   },
   {
    "duration": 128,
    "start_time": "2023-06-21T08:41:01.072Z"
   },
   {
    "duration": 55,
    "start_time": "2023-06-21T08:41:08.301Z"
   },
   {
    "duration": 426,
    "start_time": "2023-06-21T08:41:09.217Z"
   },
   {
    "duration": 48,
    "start_time": "2023-06-21T08:41:10.416Z"
   },
   {
    "duration": 68,
    "start_time": "2023-06-21T08:41:20.909Z"
   },
   {
    "duration": 440,
    "start_time": "2023-06-21T08:41:21.745Z"
   },
   {
    "duration": 48,
    "start_time": "2023-06-21T08:41:23.168Z"
   },
   {
    "duration": 50,
    "start_time": "2023-06-21T08:41:24.861Z"
   },
   {
    "duration": 56,
    "start_time": "2023-06-21T08:41:25.736Z"
   },
   {
    "duration": 52,
    "start_time": "2023-06-21T08:41:43.413Z"
   },
   {
    "duration": 409,
    "start_time": "2023-06-21T08:41:44.665Z"
   },
   {
    "duration": 44,
    "start_time": "2023-06-21T08:41:47.333Z"
   },
   {
    "duration": 63,
    "start_time": "2023-06-21T08:41:58.272Z"
   },
   {
    "duration": 57,
    "start_time": "2023-06-21T08:41:59.436Z"
   },
   {
    "duration": 435,
    "start_time": "2023-06-21T08:42:00.809Z"
   },
   {
    "duration": 52,
    "start_time": "2023-06-21T08:42:52.125Z"
   },
   {
    "duration": 429,
    "start_time": "2023-06-21T08:42:56.659Z"
   },
   {
    "duration": 45,
    "start_time": "2023-06-21T08:42:57.798Z"
   },
   {
    "duration": 4,
    "start_time": "2023-06-21T08:43:29.252Z"
   },
   {
    "duration": 23,
    "start_time": "2023-06-21T08:43:30.064Z"
   },
   {
    "duration": 21,
    "start_time": "2023-06-21T08:43:31.199Z"
   },
   {
    "duration": 106,
    "start_time": "2023-06-21T08:43:32.199Z"
   },
   {
    "duration": 49,
    "start_time": "2023-06-21T08:43:33.171Z"
   },
   {
    "duration": 4,
    "start_time": "2023-06-21T08:43:34.312Z"
   },
   {
    "duration": 3,
    "start_time": "2023-06-21T08:43:35.620Z"
   },
   {
    "duration": 4,
    "start_time": "2023-06-21T08:43:36.440Z"
   },
   {
    "duration": 4,
    "start_time": "2023-06-21T08:43:37.348Z"
   },
   {
    "duration": 5,
    "start_time": "2023-06-21T08:43:38.511Z"
   },
   {
    "duration": 95,
    "start_time": "2023-06-21T08:43:39.514Z"
   },
   {
    "duration": 679,
    "start_time": "2023-06-21T08:43:40.544Z"
   },
   {
    "duration": 357,
    "start_time": "2023-06-21T08:43:42.017Z"
   },
   {
    "duration": 354,
    "start_time": "2023-06-21T08:43:43.416Z"
   },
   {
    "duration": 34,
    "start_time": "2023-06-21T08:43:44.633Z"
   },
   {
    "duration": 236,
    "start_time": "2023-06-21T08:43:48.248Z"
   },
   {
    "duration": 5746,
    "start_time": "2023-06-21T08:43:52.299Z"
   },
   {
    "duration": 498945,
    "start_time": "2023-06-21T08:44:01.682Z"
   },
   {
    "duration": 2400,
    "start_time": "2023-06-21T08:54:39.441Z"
   },
   {
    "duration": 3,
    "start_time": "2023-06-21T08:54:41.843Z"
   },
   {
    "duration": 4,
    "start_time": "2023-06-21T08:54:42.712Z"
   },
   {
    "duration": 428769,
    "start_time": "2023-06-21T08:54:44.807Z"
   },
   {
    "duration": 3,
    "start_time": "2023-06-21T09:01:53.577Z"
   },
   {
    "duration": 1141816,
    "start_time": "2023-06-21T09:03:54.448Z"
   },
   {
    "duration": 19163,
    "start_time": "2023-06-21T09:24:32.106Z"
   },
   {
    "duration": 5,
    "start_time": "2023-06-21T09:24:58.729Z"
   },
   {
    "duration": 17,
    "start_time": "2023-06-21T09:25:01.024Z"
   },
   {
    "duration": 2,
    "start_time": "2023-06-21T09:25:04.438Z"
   },
   {
    "duration": 41,
    "start_time": "2023-06-21T09:26:11.810Z"
   },
   {
    "duration": 20,
    "start_time": "2023-06-21T09:26:13.046Z"
   },
   {
    "duration": 81,
    "start_time": "2023-06-21T09:26:33.024Z"
   },
   {
    "duration": 21,
    "start_time": "2023-06-21T09:26:35.048Z"
   },
   {
    "duration": 4,
    "start_time": "2023-06-21T09:26:36.305Z"
   },
   {
    "duration": 1791,
    "start_time": "2023-06-21T09:26:38.125Z"
   },
   {
    "duration": 9,
    "start_time": "2023-06-21T09:26:43.329Z"
   },
   {
    "duration": 115,
    "start_time": "2023-06-21T09:27:55.956Z"
   },
   {
    "duration": 57,
    "start_time": "2023-06-21T09:27:57.916Z"
   },
   {
    "duration": 478,
    "start_time": "2023-06-21T09:27:59.759Z"
   },
   {
    "duration": 58,
    "start_time": "2023-06-21T09:28:02.549Z"
   },
   {
    "duration": 80001,
    "start_time": "2023-06-21T09:28:04.158Z"
   },
   {
    "duration": 3087,
    "start_time": "2023-06-21T09:29:29.510Z"
   },
   {
    "duration": 105,
    "start_time": "2023-06-21T09:29:34.927Z"
   },
   {
    "duration": 129,
    "start_time": "2023-06-21T09:29:49.109Z"
   },
   {
    "duration": 1282,
    "start_time": "2023-06-21T09:29:55.944Z"
   },
   {
    "duration": 92,
    "start_time": "2023-06-21T09:29:59.909Z"
   },
   {
    "duration": 10,
    "start_time": "2023-06-21T09:31:18.133Z"
   },
   {
    "duration": 16,
    "start_time": "2023-06-21T09:31:22.928Z"
   },
   {
    "duration": 95,
    "start_time": "2023-06-21T09:32:50.729Z"
   },
   {
    "duration": 5,
    "start_time": "2023-06-21T09:33:18.274Z"
   },
   {
    "duration": 21,
    "start_time": "2023-06-21T09:33:36.434Z"
   },
   {
    "duration": 147,
    "start_time": "2023-06-21T09:35:59.326Z"
   },
   {
    "duration": 15494,
    "start_time": "2023-06-21T09:36:01.669Z"
   },
   {
    "duration": 9,
    "start_time": "2023-06-21T09:40:06.239Z"
   }
  ],
  "kernelspec": {
   "display_name": "Python 3 (ipykernel)",
   "language": "python",
   "name": "python3"
  },
  "language_info": {
   "codemirror_mode": {
    "name": "ipython",
    "version": 3
   },
   "file_extension": ".py",
   "mimetype": "text/x-python",
   "name": "python",
   "nbconvert_exporter": "python",
   "pygments_lexer": "ipython3",
   "version": "3.9.18"
  },
  "toc": {
   "base_numbering": 1,
   "nav_menu": {},
   "number_sections": true,
   "sideBar": true,
   "skip_h1_title": true,
   "title_cell": "Table of Contents",
   "title_sidebar": "Contents",
   "toc_cell": false,
   "toc_position": {},
   "toc_section_display": true,
   "toc_window_display": false
  }
 },
 "nbformat": 4,
 "nbformat_minor": 2
}
